{
  "nbformat": 4,
  "nbformat_minor": 0,
  "metadata": {
    "colab": {
      "name": "Learning_Transformers_with_TensorFlow.ipynb",
      "provenance": [],
      "collapsed_sections": [],
      "authorship_tag": "ABX9TyPic/d6wqStpL7gBj3s3V+s",
      "include_colab_link": true
    },
    "kernelspec": {
      "name": "python3",
      "display_name": "Python 3"
    },
    "language_info": {
      "name": "python"
    },
    "widgets": {
      "application/vnd.jupyter.widget-state+json": {
        "062b6554c0c64c288dd7bb6339e0c7c2": {
          "model_module": "@jupyter-widgets/controls",
          "model_name": "HBoxModel",
          "model_module_version": "1.5.0",
          "state": {
            "_view_name": "HBoxView",
            "_dom_classes": [],
            "_model_name": "HBoxModel",
            "_view_module": "@jupyter-widgets/controls",
            "_model_module_version": "1.5.0",
            "_view_count": null,
            "_view_module_version": "1.5.0",
            "box_style": "",
            "layout": "IPY_MODEL_441b890ab2234c948b5cf6ecc25c87d2",
            "_model_module": "@jupyter-widgets/controls",
            "children": [
              "IPY_MODEL_9a3f686e23344c2ea17a6408cf26315c",
              "IPY_MODEL_c52f65229d154d0c8ed9a55bebad9861",
              "IPY_MODEL_33f6247b7e38458eb0c327f0f0b72028"
            ]
          }
        },
        "441b890ab2234c948b5cf6ecc25c87d2": {
          "model_module": "@jupyter-widgets/base",
          "model_name": "LayoutModel",
          "model_module_version": "1.2.0",
          "state": {
            "_view_name": "LayoutView",
            "grid_template_rows": null,
            "right": null,
            "justify_content": null,
            "_view_module": "@jupyter-widgets/base",
            "overflow": null,
            "_model_module_version": "1.2.0",
            "_view_count": null,
            "flex_flow": null,
            "width": null,
            "min_width": null,
            "border": null,
            "align_items": null,
            "bottom": null,
            "_model_module": "@jupyter-widgets/base",
            "top": null,
            "grid_column": null,
            "overflow_y": null,
            "overflow_x": null,
            "grid_auto_flow": null,
            "grid_area": null,
            "grid_template_columns": null,
            "flex": null,
            "_model_name": "LayoutModel",
            "justify_items": null,
            "grid_row": null,
            "max_height": null,
            "align_content": null,
            "visibility": null,
            "align_self": null,
            "height": null,
            "min_height": null,
            "padding": null,
            "grid_auto_rows": null,
            "grid_gap": null,
            "max_width": null,
            "order": null,
            "_view_module_version": "1.2.0",
            "grid_template_areas": null,
            "object_position": null,
            "object_fit": null,
            "grid_auto_columns": null,
            "margin": null,
            "display": null,
            "left": null
          }
        },
        "9a3f686e23344c2ea17a6408cf26315c": {
          "model_module": "@jupyter-widgets/controls",
          "model_name": "HTMLModel",
          "model_module_version": "1.5.0",
          "state": {
            "_view_name": "HTMLView",
            "style": "IPY_MODEL_1746f95b5cf84824ae2facc2a079dec5",
            "_dom_classes": [],
            "description": "",
            "_model_name": "HTMLModel",
            "placeholder": "​",
            "_view_module": "@jupyter-widgets/controls",
            "_model_module_version": "1.5.0",
            "value": "Dl Completed...: 100%",
            "_view_count": null,
            "_view_module_version": "1.5.0",
            "description_tooltip": null,
            "_model_module": "@jupyter-widgets/controls",
            "layout": "IPY_MODEL_d6f3e70eac0d4934936a8aed30dcf047"
          }
        },
        "c52f65229d154d0c8ed9a55bebad9861": {
          "model_module": "@jupyter-widgets/controls",
          "model_name": "FloatProgressModel",
          "model_module_version": "1.5.0",
          "state": {
            "_view_name": "ProgressView",
            "style": "IPY_MODEL_96a48150c8be4297975df6328ec16bbf",
            "_dom_classes": [],
            "description": "",
            "_model_name": "FloatProgressModel",
            "bar_style": "success",
            "max": 1,
            "_view_module": "@jupyter-widgets/controls",
            "_model_module_version": "1.5.0",
            "value": 1,
            "_view_count": null,
            "_view_module_version": "1.5.0",
            "orientation": "horizontal",
            "min": 0,
            "description_tooltip": null,
            "_model_module": "@jupyter-widgets/controls",
            "layout": "IPY_MODEL_c0518ce36745493cb8ac806ae9fb1cd1"
          }
        },
        "33f6247b7e38458eb0c327f0f0b72028": {
          "model_module": "@jupyter-widgets/controls",
          "model_name": "HTMLModel",
          "model_module_version": "1.5.0",
          "state": {
            "_view_name": "HTMLView",
            "style": "IPY_MODEL_884f1f755dcc441ea1a8001cbd2e60b7",
            "_dom_classes": [],
            "description": "",
            "_model_name": "HTMLModel",
            "placeholder": "​",
            "_view_module": "@jupyter-widgets/controls",
            "_model_module_version": "1.5.0",
            "value": " 1/1 [00:09&lt;00:00,  3.33s/ url]",
            "_view_count": null,
            "_view_module_version": "1.5.0",
            "description_tooltip": null,
            "_model_module": "@jupyter-widgets/controls",
            "layout": "IPY_MODEL_37c4dd01190b4c4ba0ceed022adb97af"
          }
        },
        "1746f95b5cf84824ae2facc2a079dec5": {
          "model_module": "@jupyter-widgets/controls",
          "model_name": "DescriptionStyleModel",
          "model_module_version": "1.5.0",
          "state": {
            "_view_name": "StyleView",
            "_model_name": "DescriptionStyleModel",
            "description_width": "",
            "_view_module": "@jupyter-widgets/base",
            "_model_module_version": "1.5.0",
            "_view_count": null,
            "_view_module_version": "1.2.0",
            "_model_module": "@jupyter-widgets/controls"
          }
        },
        "d6f3e70eac0d4934936a8aed30dcf047": {
          "model_module": "@jupyter-widgets/base",
          "model_name": "LayoutModel",
          "model_module_version": "1.2.0",
          "state": {
            "_view_name": "LayoutView",
            "grid_template_rows": null,
            "right": null,
            "justify_content": null,
            "_view_module": "@jupyter-widgets/base",
            "overflow": null,
            "_model_module_version": "1.2.0",
            "_view_count": null,
            "flex_flow": null,
            "width": null,
            "min_width": null,
            "border": null,
            "align_items": null,
            "bottom": null,
            "_model_module": "@jupyter-widgets/base",
            "top": null,
            "grid_column": null,
            "overflow_y": null,
            "overflow_x": null,
            "grid_auto_flow": null,
            "grid_area": null,
            "grid_template_columns": null,
            "flex": null,
            "_model_name": "LayoutModel",
            "justify_items": null,
            "grid_row": null,
            "max_height": null,
            "align_content": null,
            "visibility": null,
            "align_self": null,
            "height": null,
            "min_height": null,
            "padding": null,
            "grid_auto_rows": null,
            "grid_gap": null,
            "max_width": null,
            "order": null,
            "_view_module_version": "1.2.0",
            "grid_template_areas": null,
            "object_position": null,
            "object_fit": null,
            "grid_auto_columns": null,
            "margin": null,
            "display": null,
            "left": null
          }
        },
        "96a48150c8be4297975df6328ec16bbf": {
          "model_module": "@jupyter-widgets/controls",
          "model_name": "ProgressStyleModel",
          "model_module_version": "1.5.0",
          "state": {
            "_view_name": "StyleView",
            "_model_name": "ProgressStyleModel",
            "description_width": "",
            "_view_module": "@jupyter-widgets/base",
            "_model_module_version": "1.5.0",
            "_view_count": null,
            "_view_module_version": "1.2.0",
            "bar_color": null,
            "_model_module": "@jupyter-widgets/controls"
          }
        },
        "c0518ce36745493cb8ac806ae9fb1cd1": {
          "model_module": "@jupyter-widgets/base",
          "model_name": "LayoutModel",
          "model_module_version": "1.2.0",
          "state": {
            "_view_name": "LayoutView",
            "grid_template_rows": null,
            "right": null,
            "justify_content": null,
            "_view_module": "@jupyter-widgets/base",
            "overflow": null,
            "_model_module_version": "1.2.0",
            "_view_count": null,
            "flex_flow": null,
            "width": "20px",
            "min_width": null,
            "border": null,
            "align_items": null,
            "bottom": null,
            "_model_module": "@jupyter-widgets/base",
            "top": null,
            "grid_column": null,
            "overflow_y": null,
            "overflow_x": null,
            "grid_auto_flow": null,
            "grid_area": null,
            "grid_template_columns": null,
            "flex": null,
            "_model_name": "LayoutModel",
            "justify_items": null,
            "grid_row": null,
            "max_height": null,
            "align_content": null,
            "visibility": null,
            "align_self": null,
            "height": null,
            "min_height": null,
            "padding": null,
            "grid_auto_rows": null,
            "grid_gap": null,
            "max_width": null,
            "order": null,
            "_view_module_version": "1.2.0",
            "grid_template_areas": null,
            "object_position": null,
            "object_fit": null,
            "grid_auto_columns": null,
            "margin": null,
            "display": null,
            "left": null
          }
        },
        "884f1f755dcc441ea1a8001cbd2e60b7": {
          "model_module": "@jupyter-widgets/controls",
          "model_name": "DescriptionStyleModel",
          "model_module_version": "1.5.0",
          "state": {
            "_view_name": "StyleView",
            "_model_name": "DescriptionStyleModel",
            "description_width": "",
            "_view_module": "@jupyter-widgets/base",
            "_model_module_version": "1.5.0",
            "_view_count": null,
            "_view_module_version": "1.2.0",
            "_model_module": "@jupyter-widgets/controls"
          }
        },
        "37c4dd01190b4c4ba0ceed022adb97af": {
          "model_module": "@jupyter-widgets/base",
          "model_name": "LayoutModel",
          "model_module_version": "1.2.0",
          "state": {
            "_view_name": "LayoutView",
            "grid_template_rows": null,
            "right": null,
            "justify_content": null,
            "_view_module": "@jupyter-widgets/base",
            "overflow": null,
            "_model_module_version": "1.2.0",
            "_view_count": null,
            "flex_flow": null,
            "width": null,
            "min_width": null,
            "border": null,
            "align_items": null,
            "bottom": null,
            "_model_module": "@jupyter-widgets/base",
            "top": null,
            "grid_column": null,
            "overflow_y": null,
            "overflow_x": null,
            "grid_auto_flow": null,
            "grid_area": null,
            "grid_template_columns": null,
            "flex": null,
            "_model_name": "LayoutModel",
            "justify_items": null,
            "grid_row": null,
            "max_height": null,
            "align_content": null,
            "visibility": null,
            "align_self": null,
            "height": null,
            "min_height": null,
            "padding": null,
            "grid_auto_rows": null,
            "grid_gap": null,
            "max_width": null,
            "order": null,
            "_view_module_version": "1.2.0",
            "grid_template_areas": null,
            "object_position": null,
            "object_fit": null,
            "grid_auto_columns": null,
            "margin": null,
            "display": null,
            "left": null
          }
        },
        "68d309de64374cadbc995e3329731b95": {
          "model_module": "@jupyter-widgets/controls",
          "model_name": "HBoxModel",
          "model_module_version": "1.5.0",
          "state": {
            "_view_name": "HBoxView",
            "_dom_classes": [],
            "_model_name": "HBoxModel",
            "_view_module": "@jupyter-widgets/controls",
            "_model_module_version": "1.5.0",
            "_view_count": null,
            "_view_module_version": "1.5.0",
            "box_style": "",
            "layout": "IPY_MODEL_43807792888d4b099ca4c47becf28edd",
            "_model_module": "@jupyter-widgets/controls",
            "children": [
              "IPY_MODEL_cf448d97eb47470298e45548630e8f5b",
              "IPY_MODEL_3cf6abd2cfb04b30b2da1d242bf53639",
              "IPY_MODEL_a7499a0f8e1b4119ac1cadd3b7776d48"
            ]
          }
        },
        "43807792888d4b099ca4c47becf28edd": {
          "model_module": "@jupyter-widgets/base",
          "model_name": "LayoutModel",
          "model_module_version": "1.2.0",
          "state": {
            "_view_name": "LayoutView",
            "grid_template_rows": null,
            "right": null,
            "justify_content": null,
            "_view_module": "@jupyter-widgets/base",
            "overflow": null,
            "_model_module_version": "1.2.0",
            "_view_count": null,
            "flex_flow": null,
            "width": null,
            "min_width": null,
            "border": null,
            "align_items": null,
            "bottom": null,
            "_model_module": "@jupyter-widgets/base",
            "top": null,
            "grid_column": null,
            "overflow_y": null,
            "overflow_x": null,
            "grid_auto_flow": null,
            "grid_area": null,
            "grid_template_columns": null,
            "flex": null,
            "_model_name": "LayoutModel",
            "justify_items": null,
            "grid_row": null,
            "max_height": null,
            "align_content": null,
            "visibility": null,
            "align_self": null,
            "height": null,
            "min_height": null,
            "padding": null,
            "grid_auto_rows": null,
            "grid_gap": null,
            "max_width": null,
            "order": null,
            "_view_module_version": "1.2.0",
            "grid_template_areas": null,
            "object_position": null,
            "object_fit": null,
            "grid_auto_columns": null,
            "margin": null,
            "display": null,
            "left": null
          }
        },
        "cf448d97eb47470298e45548630e8f5b": {
          "model_module": "@jupyter-widgets/controls",
          "model_name": "HTMLModel",
          "model_module_version": "1.5.0",
          "state": {
            "_view_name": "HTMLView",
            "style": "IPY_MODEL_1550bc1a1e704608a39bb09a4e86896e",
            "_dom_classes": [],
            "description": "",
            "_model_name": "HTMLModel",
            "placeholder": "​",
            "_view_module": "@jupyter-widgets/controls",
            "_model_module_version": "1.5.0",
            "value": "Dl Size...: 100%",
            "_view_count": null,
            "_view_module_version": "1.5.0",
            "description_tooltip": null,
            "_model_module": "@jupyter-widgets/controls",
            "layout": "IPY_MODEL_375a3e7636aa4449ad183e5707d35da3"
          }
        },
        "3cf6abd2cfb04b30b2da1d242bf53639": {
          "model_module": "@jupyter-widgets/controls",
          "model_name": "FloatProgressModel",
          "model_module_version": "1.5.0",
          "state": {
            "_view_name": "ProgressView",
            "style": "IPY_MODEL_ddcb38ea7eee422393cb12b97011385a",
            "_dom_classes": [],
            "description": "",
            "_model_name": "FloatProgressModel",
            "bar_style": "success",
            "max": 1,
            "_view_module": "@jupyter-widgets/controls",
            "_model_module_version": "1.5.0",
            "value": 1,
            "_view_count": null,
            "_view_module_version": "1.5.0",
            "orientation": "horizontal",
            "min": 0,
            "description_tooltip": null,
            "_model_module": "@jupyter-widgets/controls",
            "layout": "IPY_MODEL_7e7c316c546b44a68356fb8de63b70d0"
          }
        },
        "a7499a0f8e1b4119ac1cadd3b7776d48": {
          "model_module": "@jupyter-widgets/controls",
          "model_name": "HTMLModel",
          "model_module_version": "1.5.0",
          "state": {
            "_view_name": "HTMLView",
            "style": "IPY_MODEL_54ef5e67a8e24fc4b1b73db7cd5f29e0",
            "_dom_classes": [],
            "description": "",
            "_model_name": "HTMLModel",
            "placeholder": "​",
            "_view_module": "@jupyter-widgets/controls",
            "_model_module_version": "1.5.0",
            "value": " 124/124 [00:09&lt;00:00, 37.40 MiB/s]",
            "_view_count": null,
            "_view_module_version": "1.5.0",
            "description_tooltip": null,
            "_model_module": "@jupyter-widgets/controls",
            "layout": "IPY_MODEL_2fe6a832a6714316b2793b624fc61429"
          }
        },
        "1550bc1a1e704608a39bb09a4e86896e": {
          "model_module": "@jupyter-widgets/controls",
          "model_name": "DescriptionStyleModel",
          "model_module_version": "1.5.0",
          "state": {
            "_view_name": "StyleView",
            "_model_name": "DescriptionStyleModel",
            "description_width": "",
            "_view_module": "@jupyter-widgets/base",
            "_model_module_version": "1.5.0",
            "_view_count": null,
            "_view_module_version": "1.2.0",
            "_model_module": "@jupyter-widgets/controls"
          }
        },
        "375a3e7636aa4449ad183e5707d35da3": {
          "model_module": "@jupyter-widgets/base",
          "model_name": "LayoutModel",
          "model_module_version": "1.2.0",
          "state": {
            "_view_name": "LayoutView",
            "grid_template_rows": null,
            "right": null,
            "justify_content": null,
            "_view_module": "@jupyter-widgets/base",
            "overflow": null,
            "_model_module_version": "1.2.0",
            "_view_count": null,
            "flex_flow": null,
            "width": null,
            "min_width": null,
            "border": null,
            "align_items": null,
            "bottom": null,
            "_model_module": "@jupyter-widgets/base",
            "top": null,
            "grid_column": null,
            "overflow_y": null,
            "overflow_x": null,
            "grid_auto_flow": null,
            "grid_area": null,
            "grid_template_columns": null,
            "flex": null,
            "_model_name": "LayoutModel",
            "justify_items": null,
            "grid_row": null,
            "max_height": null,
            "align_content": null,
            "visibility": null,
            "align_self": null,
            "height": null,
            "min_height": null,
            "padding": null,
            "grid_auto_rows": null,
            "grid_gap": null,
            "max_width": null,
            "order": null,
            "_view_module_version": "1.2.0",
            "grid_template_areas": null,
            "object_position": null,
            "object_fit": null,
            "grid_auto_columns": null,
            "margin": null,
            "display": null,
            "left": null
          }
        },
        "ddcb38ea7eee422393cb12b97011385a": {
          "model_module": "@jupyter-widgets/controls",
          "model_name": "ProgressStyleModel",
          "model_module_version": "1.5.0",
          "state": {
            "_view_name": "StyleView",
            "_model_name": "ProgressStyleModel",
            "description_width": "",
            "_view_module": "@jupyter-widgets/base",
            "_model_module_version": "1.5.0",
            "_view_count": null,
            "_view_module_version": "1.2.0",
            "bar_color": null,
            "_model_module": "@jupyter-widgets/controls"
          }
        },
        "7e7c316c546b44a68356fb8de63b70d0": {
          "model_module": "@jupyter-widgets/base",
          "model_name": "LayoutModel",
          "model_module_version": "1.2.0",
          "state": {
            "_view_name": "LayoutView",
            "grid_template_rows": null,
            "right": null,
            "justify_content": null,
            "_view_module": "@jupyter-widgets/base",
            "overflow": null,
            "_model_module_version": "1.2.0",
            "_view_count": null,
            "flex_flow": null,
            "width": "20px",
            "min_width": null,
            "border": null,
            "align_items": null,
            "bottom": null,
            "_model_module": "@jupyter-widgets/base",
            "top": null,
            "grid_column": null,
            "overflow_y": null,
            "overflow_x": null,
            "grid_auto_flow": null,
            "grid_area": null,
            "grid_template_columns": null,
            "flex": null,
            "_model_name": "LayoutModel",
            "justify_items": null,
            "grid_row": null,
            "max_height": null,
            "align_content": null,
            "visibility": null,
            "align_self": null,
            "height": null,
            "min_height": null,
            "padding": null,
            "grid_auto_rows": null,
            "grid_gap": null,
            "max_width": null,
            "order": null,
            "_view_module_version": "1.2.0",
            "grid_template_areas": null,
            "object_position": null,
            "object_fit": null,
            "grid_auto_columns": null,
            "margin": null,
            "display": null,
            "left": null
          }
        },
        "54ef5e67a8e24fc4b1b73db7cd5f29e0": {
          "model_module": "@jupyter-widgets/controls",
          "model_name": "DescriptionStyleModel",
          "model_module_version": "1.5.0",
          "state": {
            "_view_name": "StyleView",
            "_model_name": "DescriptionStyleModel",
            "description_width": "",
            "_view_module": "@jupyter-widgets/base",
            "_model_module_version": "1.5.0",
            "_view_count": null,
            "_view_module_version": "1.2.0",
            "_model_module": "@jupyter-widgets/controls"
          }
        },
        "2fe6a832a6714316b2793b624fc61429": {
          "model_module": "@jupyter-widgets/base",
          "model_name": "LayoutModel",
          "model_module_version": "1.2.0",
          "state": {
            "_view_name": "LayoutView",
            "grid_template_rows": null,
            "right": null,
            "justify_content": null,
            "_view_module": "@jupyter-widgets/base",
            "overflow": null,
            "_model_module_version": "1.2.0",
            "_view_count": null,
            "flex_flow": null,
            "width": null,
            "min_width": null,
            "border": null,
            "align_items": null,
            "bottom": null,
            "_model_module": "@jupyter-widgets/base",
            "top": null,
            "grid_column": null,
            "overflow_y": null,
            "overflow_x": null,
            "grid_auto_flow": null,
            "grid_area": null,
            "grid_template_columns": null,
            "flex": null,
            "_model_name": "LayoutModel",
            "justify_items": null,
            "grid_row": null,
            "max_height": null,
            "align_content": null,
            "visibility": null,
            "align_self": null,
            "height": null,
            "min_height": null,
            "padding": null,
            "grid_auto_rows": null,
            "grid_gap": null,
            "max_width": null,
            "order": null,
            "_view_module_version": "1.2.0",
            "grid_template_areas": null,
            "object_position": null,
            "object_fit": null,
            "grid_auto_columns": null,
            "margin": null,
            "display": null,
            "left": null
          }
        },
        "de8bb94d61a1448fbcaaae8c5b2407a2": {
          "model_module": "@jupyter-widgets/controls",
          "model_name": "HBoxModel",
          "model_module_version": "1.5.0",
          "state": {
            "_view_name": "HBoxView",
            "_dom_classes": [],
            "_model_name": "HBoxModel",
            "_view_module": "@jupyter-widgets/controls",
            "_model_module_version": "1.5.0",
            "_view_count": null,
            "_view_module_version": "1.5.0",
            "box_style": "",
            "layout": "IPY_MODEL_0e7970c937a34b2d93acd018fb86a401",
            "_model_module": "@jupyter-widgets/controls",
            "children": [
              "IPY_MODEL_0de5d1b7f4014d27b429dbf750a14feb",
              "IPY_MODEL_932466f4528a4094a64295a678adc212",
              "IPY_MODEL_5518bd8ee70b4447b6acb6512e8a5772"
            ]
          }
        },
        "0e7970c937a34b2d93acd018fb86a401": {
          "model_module": "@jupyter-widgets/base",
          "model_name": "LayoutModel",
          "model_module_version": "1.2.0",
          "state": {
            "_view_name": "LayoutView",
            "grid_template_rows": null,
            "right": null,
            "justify_content": null,
            "_view_module": "@jupyter-widgets/base",
            "overflow": null,
            "_model_module_version": "1.2.0",
            "_view_count": null,
            "flex_flow": null,
            "width": null,
            "min_width": null,
            "border": null,
            "align_items": null,
            "bottom": null,
            "_model_module": "@jupyter-widgets/base",
            "top": null,
            "grid_column": null,
            "overflow_y": null,
            "overflow_x": null,
            "grid_auto_flow": null,
            "grid_area": null,
            "grid_template_columns": null,
            "flex": null,
            "_model_name": "LayoutModel",
            "justify_items": null,
            "grid_row": null,
            "max_height": null,
            "align_content": null,
            "visibility": null,
            "align_self": null,
            "height": null,
            "min_height": null,
            "padding": null,
            "grid_auto_rows": null,
            "grid_gap": null,
            "max_width": null,
            "order": null,
            "_view_module_version": "1.2.0",
            "grid_template_areas": null,
            "object_position": null,
            "object_fit": null,
            "grid_auto_columns": null,
            "margin": null,
            "display": null,
            "left": null
          }
        },
        "0de5d1b7f4014d27b429dbf750a14feb": {
          "model_module": "@jupyter-widgets/controls",
          "model_name": "HTMLModel",
          "model_module_version": "1.5.0",
          "state": {
            "_view_name": "HTMLView",
            "style": "IPY_MODEL_053f9bdd47f348eb9aa67ac0945b125e",
            "_dom_classes": [],
            "description": "",
            "_model_name": "HTMLModel",
            "placeholder": "​",
            "_view_module": "@jupyter-widgets/controls",
            "_model_module_version": "1.5.0",
            "value": "Extraction completed...: 100%",
            "_view_count": null,
            "_view_module_version": "1.5.0",
            "description_tooltip": null,
            "_model_module": "@jupyter-widgets/controls",
            "layout": "IPY_MODEL_3a8298ea13974e24bfbedd64bb87edd3"
          }
        },
        "932466f4528a4094a64295a678adc212": {
          "model_module": "@jupyter-widgets/controls",
          "model_name": "FloatProgressModel",
          "model_module_version": "1.5.0",
          "state": {
            "_view_name": "ProgressView",
            "style": "IPY_MODEL_d4348414c0144983bebeb9755f9f72ea",
            "_dom_classes": [],
            "description": "",
            "_model_name": "FloatProgressModel",
            "bar_style": "success",
            "max": 1,
            "_view_module": "@jupyter-widgets/controls",
            "_model_module_version": "1.5.0",
            "value": 1,
            "_view_count": null,
            "_view_module_version": "1.5.0",
            "orientation": "horizontal",
            "min": 0,
            "description_tooltip": null,
            "_model_module": "@jupyter-widgets/controls",
            "layout": "IPY_MODEL_44e78aa3c0ce4662b8c7aaa65bc0e0e0"
          }
        },
        "5518bd8ee70b4447b6acb6512e8a5772": {
          "model_module": "@jupyter-widgets/controls",
          "model_name": "HTMLModel",
          "model_module_version": "1.5.0",
          "state": {
            "_view_name": "HTMLView",
            "style": "IPY_MODEL_dd65b71a65514841b10a31597237ce44",
            "_dom_classes": [],
            "description": "",
            "_model_name": "HTMLModel",
            "placeholder": "​",
            "_view_module": "@jupyter-widgets/controls",
            "_model_module_version": "1.5.0",
            "value": " 1/1 [00:08&lt;00:00,  8.95s/ file]",
            "_view_count": null,
            "_view_module_version": "1.5.0",
            "description_tooltip": null,
            "_model_module": "@jupyter-widgets/controls",
            "layout": "IPY_MODEL_c423ed684d6146d2969ff0659cf056a8"
          }
        },
        "053f9bdd47f348eb9aa67ac0945b125e": {
          "model_module": "@jupyter-widgets/controls",
          "model_name": "DescriptionStyleModel",
          "model_module_version": "1.5.0",
          "state": {
            "_view_name": "StyleView",
            "_model_name": "DescriptionStyleModel",
            "description_width": "",
            "_view_module": "@jupyter-widgets/base",
            "_model_module_version": "1.5.0",
            "_view_count": null,
            "_view_module_version": "1.2.0",
            "_model_module": "@jupyter-widgets/controls"
          }
        },
        "3a8298ea13974e24bfbedd64bb87edd3": {
          "model_module": "@jupyter-widgets/base",
          "model_name": "LayoutModel",
          "model_module_version": "1.2.0",
          "state": {
            "_view_name": "LayoutView",
            "grid_template_rows": null,
            "right": null,
            "justify_content": null,
            "_view_module": "@jupyter-widgets/base",
            "overflow": null,
            "_model_module_version": "1.2.0",
            "_view_count": null,
            "flex_flow": null,
            "width": null,
            "min_width": null,
            "border": null,
            "align_items": null,
            "bottom": null,
            "_model_module": "@jupyter-widgets/base",
            "top": null,
            "grid_column": null,
            "overflow_y": null,
            "overflow_x": null,
            "grid_auto_flow": null,
            "grid_area": null,
            "grid_template_columns": null,
            "flex": null,
            "_model_name": "LayoutModel",
            "justify_items": null,
            "grid_row": null,
            "max_height": null,
            "align_content": null,
            "visibility": null,
            "align_self": null,
            "height": null,
            "min_height": null,
            "padding": null,
            "grid_auto_rows": null,
            "grid_gap": null,
            "max_width": null,
            "order": null,
            "_view_module_version": "1.2.0",
            "grid_template_areas": null,
            "object_position": null,
            "object_fit": null,
            "grid_auto_columns": null,
            "margin": null,
            "display": null,
            "left": null
          }
        },
        "d4348414c0144983bebeb9755f9f72ea": {
          "model_module": "@jupyter-widgets/controls",
          "model_name": "ProgressStyleModel",
          "model_module_version": "1.5.0",
          "state": {
            "_view_name": "StyleView",
            "_model_name": "ProgressStyleModel",
            "description_width": "",
            "_view_module": "@jupyter-widgets/base",
            "_model_module_version": "1.5.0",
            "_view_count": null,
            "_view_module_version": "1.2.0",
            "bar_color": null,
            "_model_module": "@jupyter-widgets/controls"
          }
        },
        "44e78aa3c0ce4662b8c7aaa65bc0e0e0": {
          "model_module": "@jupyter-widgets/base",
          "model_name": "LayoutModel",
          "model_module_version": "1.2.0",
          "state": {
            "_view_name": "LayoutView",
            "grid_template_rows": null,
            "right": null,
            "justify_content": null,
            "_view_module": "@jupyter-widgets/base",
            "overflow": null,
            "_model_module_version": "1.2.0",
            "_view_count": null,
            "flex_flow": null,
            "width": "20px",
            "min_width": null,
            "border": null,
            "align_items": null,
            "bottom": null,
            "_model_module": "@jupyter-widgets/base",
            "top": null,
            "grid_column": null,
            "overflow_y": null,
            "overflow_x": null,
            "grid_auto_flow": null,
            "grid_area": null,
            "grid_template_columns": null,
            "flex": null,
            "_model_name": "LayoutModel",
            "justify_items": null,
            "grid_row": null,
            "max_height": null,
            "align_content": null,
            "visibility": null,
            "align_self": null,
            "height": null,
            "min_height": null,
            "padding": null,
            "grid_auto_rows": null,
            "grid_gap": null,
            "max_width": null,
            "order": null,
            "_view_module_version": "1.2.0",
            "grid_template_areas": null,
            "object_position": null,
            "object_fit": null,
            "grid_auto_columns": null,
            "margin": null,
            "display": null,
            "left": null
          }
        },
        "dd65b71a65514841b10a31597237ce44": {
          "model_module": "@jupyter-widgets/controls",
          "model_name": "DescriptionStyleModel",
          "model_module_version": "1.5.0",
          "state": {
            "_view_name": "StyleView",
            "_model_name": "DescriptionStyleModel",
            "description_width": "",
            "_view_module": "@jupyter-widgets/base",
            "_model_module_version": "1.5.0",
            "_view_count": null,
            "_view_module_version": "1.2.0",
            "_model_module": "@jupyter-widgets/controls"
          }
        },
        "c423ed684d6146d2969ff0659cf056a8": {
          "model_module": "@jupyter-widgets/base",
          "model_name": "LayoutModel",
          "model_module_version": "1.2.0",
          "state": {
            "_view_name": "LayoutView",
            "grid_template_rows": null,
            "right": null,
            "justify_content": null,
            "_view_module": "@jupyter-widgets/base",
            "overflow": null,
            "_model_module_version": "1.2.0",
            "_view_count": null,
            "flex_flow": null,
            "width": null,
            "min_width": null,
            "border": null,
            "align_items": null,
            "bottom": null,
            "_model_module": "@jupyter-widgets/base",
            "top": null,
            "grid_column": null,
            "overflow_y": null,
            "overflow_x": null,
            "grid_auto_flow": null,
            "grid_area": null,
            "grid_template_columns": null,
            "flex": null,
            "_model_name": "LayoutModel",
            "justify_items": null,
            "grid_row": null,
            "max_height": null,
            "align_content": null,
            "visibility": null,
            "align_self": null,
            "height": null,
            "min_height": null,
            "padding": null,
            "grid_auto_rows": null,
            "grid_gap": null,
            "max_width": null,
            "order": null,
            "_view_module_version": "1.2.0",
            "grid_template_areas": null,
            "object_position": null,
            "object_fit": null,
            "grid_auto_columns": null,
            "margin": null,
            "display": null,
            "left": null
          }
        },
        "33986a74c30a41fbaefbdd5fad6f91da": {
          "model_module": "@jupyter-widgets/controls",
          "model_name": "HBoxModel",
          "model_module_version": "1.5.0",
          "state": {
            "_view_name": "HBoxView",
            "_dom_classes": [],
            "_model_name": "HBoxModel",
            "_view_module": "@jupyter-widgets/controls",
            "_model_module_version": "1.5.0",
            "_view_count": null,
            "_view_module_version": "1.5.0",
            "box_style": "",
            "layout": "IPY_MODEL_50eac86b0dc145fba3a3c0c9c333158f",
            "_model_module": "@jupyter-widgets/controls",
            "children": [
              "IPY_MODEL_b53a66bf57c547d483e46131d093517e",
              "IPY_MODEL_efa95b919b5c4f8e9f2fcbe53ee4f0d8",
              "IPY_MODEL_19bd6f26f81e4e50a7b01fabc583ca45"
            ]
          }
        },
        "50eac86b0dc145fba3a3c0c9c333158f": {
          "model_module": "@jupyter-widgets/base",
          "model_name": "LayoutModel",
          "model_module_version": "1.2.0",
          "state": {
            "_view_name": "LayoutView",
            "grid_template_rows": null,
            "right": null,
            "justify_content": null,
            "_view_module": "@jupyter-widgets/base",
            "overflow": null,
            "_model_module_version": "1.2.0",
            "_view_count": null,
            "flex_flow": null,
            "width": null,
            "min_width": null,
            "border": null,
            "align_items": null,
            "bottom": null,
            "_model_module": "@jupyter-widgets/base",
            "top": null,
            "grid_column": null,
            "overflow_y": null,
            "overflow_x": null,
            "grid_auto_flow": null,
            "grid_area": null,
            "grid_template_columns": null,
            "flex": null,
            "_model_name": "LayoutModel",
            "justify_items": null,
            "grid_row": null,
            "max_height": null,
            "align_content": null,
            "visibility": null,
            "align_self": null,
            "height": null,
            "min_height": null,
            "padding": null,
            "grid_auto_rows": null,
            "grid_gap": null,
            "max_width": null,
            "order": null,
            "_view_module_version": "1.2.0",
            "grid_template_areas": null,
            "object_position": null,
            "object_fit": null,
            "grid_auto_columns": null,
            "margin": null,
            "display": null,
            "left": null
          }
        },
        "b53a66bf57c547d483e46131d093517e": {
          "model_module": "@jupyter-widgets/controls",
          "model_name": "HTMLModel",
          "model_module_version": "1.5.0",
          "state": {
            "_view_name": "HTMLView",
            "style": "IPY_MODEL_49a8b4e1b9d0402489ed284bbe86f62b",
            "_dom_classes": [],
            "description": "",
            "_model_name": "HTMLModel",
            "placeholder": "​",
            "_view_module": "@jupyter-widgets/controls",
            "_model_module_version": "1.5.0",
            "value": "",
            "_view_count": null,
            "_view_module_version": "1.5.0",
            "description_tooltip": null,
            "_model_module": "@jupyter-widgets/controls",
            "layout": "IPY_MODEL_fcf0cafae714499989ecc4bf1213d563"
          }
        },
        "efa95b919b5c4f8e9f2fcbe53ee4f0d8": {
          "model_module": "@jupyter-widgets/controls",
          "model_name": "FloatProgressModel",
          "model_module_version": "1.5.0",
          "state": {
            "_view_name": "ProgressView",
            "style": "IPY_MODEL_84f9e63402f1426ca1a209b6cb1bf1a1",
            "_dom_classes": [],
            "description": "",
            "_model_name": "FloatProgressModel",
            "bar_style": "info",
            "max": 1,
            "_view_module": "@jupyter-widgets/controls",
            "_model_module_version": "1.5.0",
            "value": 1,
            "_view_count": null,
            "_view_module_version": "1.5.0",
            "orientation": "horizontal",
            "min": 0,
            "description_tooltip": null,
            "_model_module": "@jupyter-widgets/controls",
            "layout": "IPY_MODEL_b407206fe73540429e1c7f0c6d9724fb"
          }
        },
        "19bd6f26f81e4e50a7b01fabc583ca45": {
          "model_module": "@jupyter-widgets/controls",
          "model_name": "HTMLModel",
          "model_module_version": "1.5.0",
          "state": {
            "_view_name": "HTMLView",
            "style": "IPY_MODEL_3dcf734b2bf04f0faadfbeb41e41d35c",
            "_dom_classes": [],
            "description": "",
            "_model_name": "HTMLModel",
            "placeholder": "​",
            "_view_module": "@jupyter-widgets/controls",
            "_model_module_version": "1.5.0",
            "value": " 51239/0 [00:09&lt;00:00, 5584.57 examples/s]",
            "_view_count": null,
            "_view_module_version": "1.5.0",
            "description_tooltip": null,
            "_model_module": "@jupyter-widgets/controls",
            "layout": "IPY_MODEL_bc14c9deb6f54042bc67de7995a98cfc"
          }
        },
        "49a8b4e1b9d0402489ed284bbe86f62b": {
          "model_module": "@jupyter-widgets/controls",
          "model_name": "DescriptionStyleModel",
          "model_module_version": "1.5.0",
          "state": {
            "_view_name": "StyleView",
            "_model_name": "DescriptionStyleModel",
            "description_width": "",
            "_view_module": "@jupyter-widgets/base",
            "_model_module_version": "1.5.0",
            "_view_count": null,
            "_view_module_version": "1.2.0",
            "_model_module": "@jupyter-widgets/controls"
          }
        },
        "fcf0cafae714499989ecc4bf1213d563": {
          "model_module": "@jupyter-widgets/base",
          "model_name": "LayoutModel",
          "model_module_version": "1.2.0",
          "state": {
            "_view_name": "LayoutView",
            "grid_template_rows": null,
            "right": null,
            "justify_content": null,
            "_view_module": "@jupyter-widgets/base",
            "overflow": null,
            "_model_module_version": "1.2.0",
            "_view_count": null,
            "flex_flow": null,
            "width": null,
            "min_width": null,
            "border": null,
            "align_items": null,
            "bottom": null,
            "_model_module": "@jupyter-widgets/base",
            "top": null,
            "grid_column": null,
            "overflow_y": null,
            "overflow_x": null,
            "grid_auto_flow": null,
            "grid_area": null,
            "grid_template_columns": null,
            "flex": null,
            "_model_name": "LayoutModel",
            "justify_items": null,
            "grid_row": null,
            "max_height": null,
            "align_content": null,
            "visibility": null,
            "align_self": null,
            "height": null,
            "min_height": null,
            "padding": null,
            "grid_auto_rows": null,
            "grid_gap": null,
            "max_width": null,
            "order": null,
            "_view_module_version": "1.2.0",
            "grid_template_areas": null,
            "object_position": null,
            "object_fit": null,
            "grid_auto_columns": null,
            "margin": null,
            "display": null,
            "left": null
          }
        },
        "84f9e63402f1426ca1a209b6cb1bf1a1": {
          "model_module": "@jupyter-widgets/controls",
          "model_name": "ProgressStyleModel",
          "model_module_version": "1.5.0",
          "state": {
            "_view_name": "StyleView",
            "_model_name": "ProgressStyleModel",
            "description_width": "",
            "_view_module": "@jupyter-widgets/base",
            "_model_module_version": "1.5.0",
            "_view_count": null,
            "_view_module_version": "1.2.0",
            "bar_color": null,
            "_model_module": "@jupyter-widgets/controls"
          }
        },
        "b407206fe73540429e1c7f0c6d9724fb": {
          "model_module": "@jupyter-widgets/base",
          "model_name": "LayoutModel",
          "model_module_version": "1.2.0",
          "state": {
            "_view_name": "LayoutView",
            "grid_template_rows": null,
            "right": null,
            "justify_content": null,
            "_view_module": "@jupyter-widgets/base",
            "overflow": null,
            "_model_module_version": "1.2.0",
            "_view_count": null,
            "flex_flow": null,
            "width": "20px",
            "min_width": null,
            "border": null,
            "align_items": null,
            "bottom": null,
            "_model_module": "@jupyter-widgets/base",
            "top": null,
            "grid_column": null,
            "overflow_y": null,
            "overflow_x": null,
            "grid_auto_flow": null,
            "grid_area": null,
            "grid_template_columns": null,
            "flex": null,
            "_model_name": "LayoutModel",
            "justify_items": null,
            "grid_row": null,
            "max_height": null,
            "align_content": null,
            "visibility": null,
            "align_self": null,
            "height": null,
            "min_height": null,
            "padding": null,
            "grid_auto_rows": null,
            "grid_gap": null,
            "max_width": null,
            "order": null,
            "_view_module_version": "1.2.0",
            "grid_template_areas": null,
            "object_position": null,
            "object_fit": null,
            "grid_auto_columns": null,
            "margin": null,
            "display": null,
            "left": null
          }
        },
        "3dcf734b2bf04f0faadfbeb41e41d35c": {
          "model_module": "@jupyter-widgets/controls",
          "model_name": "DescriptionStyleModel",
          "model_module_version": "1.5.0",
          "state": {
            "_view_name": "StyleView",
            "_model_name": "DescriptionStyleModel",
            "description_width": "",
            "_view_module": "@jupyter-widgets/base",
            "_model_module_version": "1.5.0",
            "_view_count": null,
            "_view_module_version": "1.2.0",
            "_model_module": "@jupyter-widgets/controls"
          }
        },
        "bc14c9deb6f54042bc67de7995a98cfc": {
          "model_module": "@jupyter-widgets/base",
          "model_name": "LayoutModel",
          "model_module_version": "1.2.0",
          "state": {
            "_view_name": "LayoutView",
            "grid_template_rows": null,
            "right": null,
            "justify_content": null,
            "_view_module": "@jupyter-widgets/base",
            "overflow": null,
            "_model_module_version": "1.2.0",
            "_view_count": null,
            "flex_flow": null,
            "width": null,
            "min_width": null,
            "border": null,
            "align_items": null,
            "bottom": null,
            "_model_module": "@jupyter-widgets/base",
            "top": null,
            "grid_column": null,
            "overflow_y": null,
            "overflow_x": null,
            "grid_auto_flow": null,
            "grid_area": null,
            "grid_template_columns": null,
            "flex": null,
            "_model_name": "LayoutModel",
            "justify_items": null,
            "grid_row": null,
            "max_height": null,
            "align_content": null,
            "visibility": null,
            "align_self": null,
            "height": null,
            "min_height": null,
            "padding": null,
            "grid_auto_rows": null,
            "grid_gap": null,
            "max_width": null,
            "order": null,
            "_view_module_version": "1.2.0",
            "grid_template_areas": null,
            "object_position": null,
            "object_fit": null,
            "grid_auto_columns": null,
            "margin": null,
            "display": null,
            "left": null
          }
        },
        "581bd8b4c8a74d48afd6f6210aec4e2a": {
          "model_module": "@jupyter-widgets/controls",
          "model_name": "HBoxModel",
          "model_module_version": "1.5.0",
          "state": {
            "_view_name": "HBoxView",
            "_dom_classes": [],
            "_model_name": "HBoxModel",
            "_view_module": "@jupyter-widgets/controls",
            "_model_module_version": "1.5.0",
            "_view_count": null,
            "_view_module_version": "1.5.0",
            "box_style": "",
            "layout": "IPY_MODEL_322782adabf947859f55369615e10d4d",
            "_model_module": "@jupyter-widgets/controls",
            "children": [
              "IPY_MODEL_1a7baa2ae56c417bb1ad30eca930618d",
              "IPY_MODEL_e239ec95518b4c4fbb6e21b2fe627caf",
              "IPY_MODEL_593d0dc5d626468495a4b8b7c4afa087"
            ]
          }
        },
        "322782adabf947859f55369615e10d4d": {
          "model_module": "@jupyter-widgets/base",
          "model_name": "LayoutModel",
          "model_module_version": "1.2.0",
          "state": {
            "_view_name": "LayoutView",
            "grid_template_rows": null,
            "right": null,
            "justify_content": null,
            "_view_module": "@jupyter-widgets/base",
            "overflow": null,
            "_model_module_version": "1.2.0",
            "_view_count": null,
            "flex_flow": null,
            "width": null,
            "min_width": null,
            "border": null,
            "align_items": null,
            "bottom": null,
            "_model_module": "@jupyter-widgets/base",
            "top": null,
            "grid_column": null,
            "overflow_y": null,
            "overflow_x": null,
            "grid_auto_flow": null,
            "grid_area": null,
            "grid_template_columns": null,
            "flex": null,
            "_model_name": "LayoutModel",
            "justify_items": null,
            "grid_row": null,
            "max_height": null,
            "align_content": null,
            "visibility": null,
            "align_self": null,
            "height": null,
            "min_height": null,
            "padding": null,
            "grid_auto_rows": null,
            "grid_gap": null,
            "max_width": null,
            "order": null,
            "_view_module_version": "1.2.0",
            "grid_template_areas": null,
            "object_position": null,
            "object_fit": null,
            "grid_auto_columns": null,
            "margin": null,
            "display": null,
            "left": null
          }
        },
        "1a7baa2ae56c417bb1ad30eca930618d": {
          "model_module": "@jupyter-widgets/controls",
          "model_name": "HTMLModel",
          "model_module_version": "1.5.0",
          "state": {
            "_view_name": "HTMLView",
            "style": "IPY_MODEL_b136426b2c0844aa90a2ef55c29cda96",
            "_dom_classes": [],
            "description": "",
            "_model_name": "HTMLModel",
            "placeholder": "​",
            "_view_module": "@jupyter-widgets/controls",
            "_model_module_version": "1.5.0",
            "value": "100%",
            "_view_count": null,
            "_view_module_version": "1.5.0",
            "description_tooltip": null,
            "_model_module": "@jupyter-widgets/controls",
            "layout": "IPY_MODEL_818ab646d34f4713acb6b8210724a618"
          }
        },
        "e239ec95518b4c4fbb6e21b2fe627caf": {
          "model_module": "@jupyter-widgets/controls",
          "model_name": "FloatProgressModel",
          "model_module_version": "1.5.0",
          "state": {
            "_view_name": "ProgressView",
            "style": "IPY_MODEL_845311f4a67d46058ebe8a612a433df8",
            "_dom_classes": [],
            "description": "",
            "_model_name": "FloatProgressModel",
            "bar_style": "danger",
            "max": 51785,
            "_view_module": "@jupyter-widgets/controls",
            "_model_module_version": "1.5.0",
            "value": 51784,
            "_view_count": null,
            "_view_module_version": "1.5.0",
            "orientation": "horizontal",
            "min": 0,
            "description_tooltip": null,
            "_model_module": "@jupyter-widgets/controls",
            "layout": "IPY_MODEL_0f010fcfc6f843bf9beed34d97cc66b9"
          }
        },
        "593d0dc5d626468495a4b8b7c4afa087": {
          "model_module": "@jupyter-widgets/controls",
          "model_name": "HTMLModel",
          "model_module_version": "1.5.0",
          "state": {
            "_view_name": "HTMLView",
            "style": "IPY_MODEL_1ec7ec8c535d429296da7c6f14feed2e",
            "_dom_classes": [],
            "description": "",
            "_model_name": "HTMLModel",
            "placeholder": "​",
            "_view_module": "@jupyter-widgets/controls",
            "_model_module_version": "1.5.0",
            "value": " 51784/51785 [00:00&lt;00:00, 184058.49 examples/s]",
            "_view_count": null,
            "_view_module_version": "1.5.0",
            "description_tooltip": null,
            "_model_module": "@jupyter-widgets/controls",
            "layout": "IPY_MODEL_b43a1b6fcb384d0485e5f98c597aa01e"
          }
        },
        "b136426b2c0844aa90a2ef55c29cda96": {
          "model_module": "@jupyter-widgets/controls",
          "model_name": "DescriptionStyleModel",
          "model_module_version": "1.5.0",
          "state": {
            "_view_name": "StyleView",
            "_model_name": "DescriptionStyleModel",
            "description_width": "",
            "_view_module": "@jupyter-widgets/base",
            "_model_module_version": "1.5.0",
            "_view_count": null,
            "_view_module_version": "1.2.0",
            "_model_module": "@jupyter-widgets/controls"
          }
        },
        "818ab646d34f4713acb6b8210724a618": {
          "model_module": "@jupyter-widgets/base",
          "model_name": "LayoutModel",
          "model_module_version": "1.2.0",
          "state": {
            "_view_name": "LayoutView",
            "grid_template_rows": null,
            "right": null,
            "justify_content": null,
            "_view_module": "@jupyter-widgets/base",
            "overflow": null,
            "_model_module_version": "1.2.0",
            "_view_count": null,
            "flex_flow": null,
            "width": null,
            "min_width": null,
            "border": null,
            "align_items": null,
            "bottom": null,
            "_model_module": "@jupyter-widgets/base",
            "top": null,
            "grid_column": null,
            "overflow_y": null,
            "overflow_x": null,
            "grid_auto_flow": null,
            "grid_area": null,
            "grid_template_columns": null,
            "flex": null,
            "_model_name": "LayoutModel",
            "justify_items": null,
            "grid_row": null,
            "max_height": null,
            "align_content": null,
            "visibility": null,
            "align_self": null,
            "height": null,
            "min_height": null,
            "padding": null,
            "grid_auto_rows": null,
            "grid_gap": null,
            "max_width": null,
            "order": null,
            "_view_module_version": "1.2.0",
            "grid_template_areas": null,
            "object_position": null,
            "object_fit": null,
            "grid_auto_columns": null,
            "margin": null,
            "display": null,
            "left": null
          }
        },
        "845311f4a67d46058ebe8a612a433df8": {
          "model_module": "@jupyter-widgets/controls",
          "model_name": "ProgressStyleModel",
          "model_module_version": "1.5.0",
          "state": {
            "_view_name": "StyleView",
            "_model_name": "ProgressStyleModel",
            "description_width": "",
            "_view_module": "@jupyter-widgets/base",
            "_model_module_version": "1.5.0",
            "_view_count": null,
            "_view_module_version": "1.2.0",
            "bar_color": null,
            "_model_module": "@jupyter-widgets/controls"
          }
        },
        "0f010fcfc6f843bf9beed34d97cc66b9": {
          "model_module": "@jupyter-widgets/base",
          "model_name": "LayoutModel",
          "model_module_version": "1.2.0",
          "state": {
            "_view_name": "LayoutView",
            "grid_template_rows": null,
            "right": null,
            "justify_content": null,
            "_view_module": "@jupyter-widgets/base",
            "overflow": null,
            "_model_module_version": "1.2.0",
            "_view_count": null,
            "flex_flow": null,
            "width": null,
            "min_width": null,
            "border": null,
            "align_items": null,
            "bottom": null,
            "_model_module": "@jupyter-widgets/base",
            "top": null,
            "grid_column": null,
            "overflow_y": null,
            "overflow_x": null,
            "grid_auto_flow": null,
            "grid_area": null,
            "grid_template_columns": null,
            "flex": null,
            "_model_name": "LayoutModel",
            "justify_items": null,
            "grid_row": null,
            "max_height": null,
            "align_content": null,
            "visibility": null,
            "align_self": null,
            "height": null,
            "min_height": null,
            "padding": null,
            "grid_auto_rows": null,
            "grid_gap": null,
            "max_width": null,
            "order": null,
            "_view_module_version": "1.2.0",
            "grid_template_areas": null,
            "object_position": null,
            "object_fit": null,
            "grid_auto_columns": null,
            "margin": null,
            "display": null,
            "left": null
          }
        },
        "1ec7ec8c535d429296da7c6f14feed2e": {
          "model_module": "@jupyter-widgets/controls",
          "model_name": "DescriptionStyleModel",
          "model_module_version": "1.5.0",
          "state": {
            "_view_name": "StyleView",
            "_model_name": "DescriptionStyleModel",
            "description_width": "",
            "_view_module": "@jupyter-widgets/base",
            "_model_module_version": "1.5.0",
            "_view_count": null,
            "_view_module_version": "1.2.0",
            "_model_module": "@jupyter-widgets/controls"
          }
        },
        "b43a1b6fcb384d0485e5f98c597aa01e": {
          "model_module": "@jupyter-widgets/base",
          "model_name": "LayoutModel",
          "model_module_version": "1.2.0",
          "state": {
            "_view_name": "LayoutView",
            "grid_template_rows": null,
            "right": null,
            "justify_content": null,
            "_view_module": "@jupyter-widgets/base",
            "overflow": null,
            "_model_module_version": "1.2.0",
            "_view_count": null,
            "flex_flow": null,
            "width": null,
            "min_width": null,
            "border": null,
            "align_items": null,
            "bottom": null,
            "_model_module": "@jupyter-widgets/base",
            "top": null,
            "grid_column": null,
            "overflow_y": null,
            "overflow_x": null,
            "grid_auto_flow": null,
            "grid_area": null,
            "grid_template_columns": null,
            "flex": null,
            "_model_name": "LayoutModel",
            "justify_items": null,
            "grid_row": null,
            "max_height": null,
            "align_content": null,
            "visibility": null,
            "align_self": null,
            "height": null,
            "min_height": null,
            "padding": null,
            "grid_auto_rows": null,
            "grid_gap": null,
            "max_width": null,
            "order": null,
            "_view_module_version": "1.2.0",
            "grid_template_areas": null,
            "object_position": null,
            "object_fit": null,
            "grid_auto_columns": null,
            "margin": null,
            "display": null,
            "left": null
          }
        },
        "73a7e150a03945afbca27140d6855017": {
          "model_module": "@jupyter-widgets/controls",
          "model_name": "HBoxModel",
          "model_module_version": "1.5.0",
          "state": {
            "_view_name": "HBoxView",
            "_dom_classes": [],
            "_model_name": "HBoxModel",
            "_view_module": "@jupyter-widgets/controls",
            "_model_module_version": "1.5.0",
            "_view_count": null,
            "_view_module_version": "1.5.0",
            "box_style": "",
            "layout": "IPY_MODEL_2f37fdffc7ac4492a415a1528e8e4cf0",
            "_model_module": "@jupyter-widgets/controls",
            "children": [
              "IPY_MODEL_13d0f4afdcdd4e26aa7204bdfe3186dd",
              "IPY_MODEL_be6cbe14ef2646d1a14a989782a6ae31",
              "IPY_MODEL_74f992d4f3a94a37833ef32ffdf1f309"
            ]
          }
        },
        "2f37fdffc7ac4492a415a1528e8e4cf0": {
          "model_module": "@jupyter-widgets/base",
          "model_name": "LayoutModel",
          "model_module_version": "1.2.0",
          "state": {
            "_view_name": "LayoutView",
            "grid_template_rows": null,
            "right": null,
            "justify_content": null,
            "_view_module": "@jupyter-widgets/base",
            "overflow": null,
            "_model_module_version": "1.2.0",
            "_view_count": null,
            "flex_flow": null,
            "width": null,
            "min_width": null,
            "border": null,
            "align_items": null,
            "bottom": null,
            "_model_module": "@jupyter-widgets/base",
            "top": null,
            "grid_column": null,
            "overflow_y": null,
            "overflow_x": null,
            "grid_auto_flow": null,
            "grid_area": null,
            "grid_template_columns": null,
            "flex": null,
            "_model_name": "LayoutModel",
            "justify_items": null,
            "grid_row": null,
            "max_height": null,
            "align_content": null,
            "visibility": null,
            "align_self": null,
            "height": null,
            "min_height": null,
            "padding": null,
            "grid_auto_rows": null,
            "grid_gap": null,
            "max_width": null,
            "order": null,
            "_view_module_version": "1.2.0",
            "grid_template_areas": null,
            "object_position": null,
            "object_fit": null,
            "grid_auto_columns": null,
            "margin": null,
            "display": null,
            "left": null
          }
        },
        "13d0f4afdcdd4e26aa7204bdfe3186dd": {
          "model_module": "@jupyter-widgets/controls",
          "model_name": "HTMLModel",
          "model_module_version": "1.5.0",
          "state": {
            "_view_name": "HTMLView",
            "style": "IPY_MODEL_ae8e35c1c1c54116976ab691fbc0d37e",
            "_dom_classes": [],
            "description": "",
            "_model_name": "HTMLModel",
            "placeholder": "​",
            "_view_module": "@jupyter-widgets/controls",
            "_model_module_version": "1.5.0",
            "value": "",
            "_view_count": null,
            "_view_module_version": "1.5.0",
            "description_tooltip": null,
            "_model_module": "@jupyter-widgets/controls",
            "layout": "IPY_MODEL_070fc87fe96b4447af3ab8adeac3d0f7"
          }
        },
        "be6cbe14ef2646d1a14a989782a6ae31": {
          "model_module": "@jupyter-widgets/controls",
          "model_name": "FloatProgressModel",
          "model_module_version": "1.5.0",
          "state": {
            "_view_name": "ProgressView",
            "style": "IPY_MODEL_b93ed58e96c84fe5b9f8f0f3e2b4d42d",
            "_dom_classes": [],
            "description": "",
            "_model_name": "FloatProgressModel",
            "bar_style": "info",
            "max": 1,
            "_view_module": "@jupyter-widgets/controls",
            "_model_module_version": "1.5.0",
            "value": 1,
            "_view_count": null,
            "_view_module_version": "1.5.0",
            "orientation": "horizontal",
            "min": 0,
            "description_tooltip": null,
            "_model_module": "@jupyter-widgets/controls",
            "layout": "IPY_MODEL_7273f8bb8efb4b1fb12db0ce9c6e53bf"
          }
        },
        "74f992d4f3a94a37833ef32ffdf1f309": {
          "model_module": "@jupyter-widgets/controls",
          "model_name": "HTMLModel",
          "model_module_version": "1.5.0",
          "state": {
            "_view_name": "HTMLView",
            "style": "IPY_MODEL_0ad9bd8900f441bca87d5bc397d13a1c",
            "_dom_classes": [],
            "description": "",
            "_model_name": "HTMLModel",
            "placeholder": "​",
            "_view_module": "@jupyter-widgets/controls",
            "_model_module_version": "1.5.0",
            "value": " 1153/0 [00:00&lt;00:00, 4350.07 examples/s]",
            "_view_count": null,
            "_view_module_version": "1.5.0",
            "description_tooltip": null,
            "_model_module": "@jupyter-widgets/controls",
            "layout": "IPY_MODEL_1a22c9e8d5b94883ba58b3accacfedca"
          }
        },
        "ae8e35c1c1c54116976ab691fbc0d37e": {
          "model_module": "@jupyter-widgets/controls",
          "model_name": "DescriptionStyleModel",
          "model_module_version": "1.5.0",
          "state": {
            "_view_name": "StyleView",
            "_model_name": "DescriptionStyleModel",
            "description_width": "",
            "_view_module": "@jupyter-widgets/base",
            "_model_module_version": "1.5.0",
            "_view_count": null,
            "_view_module_version": "1.2.0",
            "_model_module": "@jupyter-widgets/controls"
          }
        },
        "070fc87fe96b4447af3ab8adeac3d0f7": {
          "model_module": "@jupyter-widgets/base",
          "model_name": "LayoutModel",
          "model_module_version": "1.2.0",
          "state": {
            "_view_name": "LayoutView",
            "grid_template_rows": null,
            "right": null,
            "justify_content": null,
            "_view_module": "@jupyter-widgets/base",
            "overflow": null,
            "_model_module_version": "1.2.0",
            "_view_count": null,
            "flex_flow": null,
            "width": null,
            "min_width": null,
            "border": null,
            "align_items": null,
            "bottom": null,
            "_model_module": "@jupyter-widgets/base",
            "top": null,
            "grid_column": null,
            "overflow_y": null,
            "overflow_x": null,
            "grid_auto_flow": null,
            "grid_area": null,
            "grid_template_columns": null,
            "flex": null,
            "_model_name": "LayoutModel",
            "justify_items": null,
            "grid_row": null,
            "max_height": null,
            "align_content": null,
            "visibility": null,
            "align_self": null,
            "height": null,
            "min_height": null,
            "padding": null,
            "grid_auto_rows": null,
            "grid_gap": null,
            "max_width": null,
            "order": null,
            "_view_module_version": "1.2.0",
            "grid_template_areas": null,
            "object_position": null,
            "object_fit": null,
            "grid_auto_columns": null,
            "margin": null,
            "display": null,
            "left": null
          }
        },
        "b93ed58e96c84fe5b9f8f0f3e2b4d42d": {
          "model_module": "@jupyter-widgets/controls",
          "model_name": "ProgressStyleModel",
          "model_module_version": "1.5.0",
          "state": {
            "_view_name": "StyleView",
            "_model_name": "ProgressStyleModel",
            "description_width": "",
            "_view_module": "@jupyter-widgets/base",
            "_model_module_version": "1.5.0",
            "_view_count": null,
            "_view_module_version": "1.2.0",
            "bar_color": null,
            "_model_module": "@jupyter-widgets/controls"
          }
        },
        "7273f8bb8efb4b1fb12db0ce9c6e53bf": {
          "model_module": "@jupyter-widgets/base",
          "model_name": "LayoutModel",
          "model_module_version": "1.2.0",
          "state": {
            "_view_name": "LayoutView",
            "grid_template_rows": null,
            "right": null,
            "justify_content": null,
            "_view_module": "@jupyter-widgets/base",
            "overflow": null,
            "_model_module_version": "1.2.0",
            "_view_count": null,
            "flex_flow": null,
            "width": "20px",
            "min_width": null,
            "border": null,
            "align_items": null,
            "bottom": null,
            "_model_module": "@jupyter-widgets/base",
            "top": null,
            "grid_column": null,
            "overflow_y": null,
            "overflow_x": null,
            "grid_auto_flow": null,
            "grid_area": null,
            "grid_template_columns": null,
            "flex": null,
            "_model_name": "LayoutModel",
            "justify_items": null,
            "grid_row": null,
            "max_height": null,
            "align_content": null,
            "visibility": null,
            "align_self": null,
            "height": null,
            "min_height": null,
            "padding": null,
            "grid_auto_rows": null,
            "grid_gap": null,
            "max_width": null,
            "order": null,
            "_view_module_version": "1.2.0",
            "grid_template_areas": null,
            "object_position": null,
            "object_fit": null,
            "grid_auto_columns": null,
            "margin": null,
            "display": null,
            "left": null
          }
        },
        "0ad9bd8900f441bca87d5bc397d13a1c": {
          "model_module": "@jupyter-widgets/controls",
          "model_name": "DescriptionStyleModel",
          "model_module_version": "1.5.0",
          "state": {
            "_view_name": "StyleView",
            "_model_name": "DescriptionStyleModel",
            "description_width": "",
            "_view_module": "@jupyter-widgets/base",
            "_model_module_version": "1.5.0",
            "_view_count": null,
            "_view_module_version": "1.2.0",
            "_model_module": "@jupyter-widgets/controls"
          }
        },
        "1a22c9e8d5b94883ba58b3accacfedca": {
          "model_module": "@jupyter-widgets/base",
          "model_name": "LayoutModel",
          "model_module_version": "1.2.0",
          "state": {
            "_view_name": "LayoutView",
            "grid_template_rows": null,
            "right": null,
            "justify_content": null,
            "_view_module": "@jupyter-widgets/base",
            "overflow": null,
            "_model_module_version": "1.2.0",
            "_view_count": null,
            "flex_flow": null,
            "width": null,
            "min_width": null,
            "border": null,
            "align_items": null,
            "bottom": null,
            "_model_module": "@jupyter-widgets/base",
            "top": null,
            "grid_column": null,
            "overflow_y": null,
            "overflow_x": null,
            "grid_auto_flow": null,
            "grid_area": null,
            "grid_template_columns": null,
            "flex": null,
            "_model_name": "LayoutModel",
            "justify_items": null,
            "grid_row": null,
            "max_height": null,
            "align_content": null,
            "visibility": null,
            "align_self": null,
            "height": null,
            "min_height": null,
            "padding": null,
            "grid_auto_rows": null,
            "grid_gap": null,
            "max_width": null,
            "order": null,
            "_view_module_version": "1.2.0",
            "grid_template_areas": null,
            "object_position": null,
            "object_fit": null,
            "grid_auto_columns": null,
            "margin": null,
            "display": null,
            "left": null
          }
        },
        "1d9b298ad72f4388b86c90cdea923d05": {
          "model_module": "@jupyter-widgets/controls",
          "model_name": "HBoxModel",
          "model_module_version": "1.5.0",
          "state": {
            "_view_name": "HBoxView",
            "_dom_classes": [],
            "_model_name": "HBoxModel",
            "_view_module": "@jupyter-widgets/controls",
            "_model_module_version": "1.5.0",
            "_view_count": null,
            "_view_module_version": "1.5.0",
            "box_style": "",
            "layout": "IPY_MODEL_92821c7f97484c758a365f0b0004f59d",
            "_model_module": "@jupyter-widgets/controls",
            "children": [
              "IPY_MODEL_9107b0b08f6147988d70dfd00be4f91c",
              "IPY_MODEL_aaf2ad24d46d44379dab11da558955c6",
              "IPY_MODEL_3deae264cd7e49948a45d5112e3f855b"
            ]
          }
        },
        "92821c7f97484c758a365f0b0004f59d": {
          "model_module": "@jupyter-widgets/base",
          "model_name": "LayoutModel",
          "model_module_version": "1.2.0",
          "state": {
            "_view_name": "LayoutView",
            "grid_template_rows": null,
            "right": null,
            "justify_content": null,
            "_view_module": "@jupyter-widgets/base",
            "overflow": null,
            "_model_module_version": "1.2.0",
            "_view_count": null,
            "flex_flow": null,
            "width": null,
            "min_width": null,
            "border": null,
            "align_items": null,
            "bottom": null,
            "_model_module": "@jupyter-widgets/base",
            "top": null,
            "grid_column": null,
            "overflow_y": null,
            "overflow_x": null,
            "grid_auto_flow": null,
            "grid_area": null,
            "grid_template_columns": null,
            "flex": null,
            "_model_name": "LayoutModel",
            "justify_items": null,
            "grid_row": null,
            "max_height": null,
            "align_content": null,
            "visibility": null,
            "align_self": null,
            "height": null,
            "min_height": null,
            "padding": null,
            "grid_auto_rows": null,
            "grid_gap": null,
            "max_width": null,
            "order": null,
            "_view_module_version": "1.2.0",
            "grid_template_areas": null,
            "object_position": null,
            "object_fit": null,
            "grid_auto_columns": null,
            "margin": null,
            "display": null,
            "left": null
          }
        },
        "9107b0b08f6147988d70dfd00be4f91c": {
          "model_module": "@jupyter-widgets/controls",
          "model_name": "HTMLModel",
          "model_module_version": "1.5.0",
          "state": {
            "_view_name": "HTMLView",
            "style": "IPY_MODEL_ec0b431a450d402d83fe18079a8d280d",
            "_dom_classes": [],
            "description": "",
            "_model_name": "HTMLModel",
            "placeholder": "​",
            "_view_module": "@jupyter-widgets/controls",
            "_model_module_version": "1.5.0",
            "value": "100%",
            "_view_count": null,
            "_view_module_version": "1.5.0",
            "description_tooltip": null,
            "_model_module": "@jupyter-widgets/controls",
            "layout": "IPY_MODEL_c9f35f19e4d94f81be65cf501526ebcd"
          }
        },
        "aaf2ad24d46d44379dab11da558955c6": {
          "model_module": "@jupyter-widgets/controls",
          "model_name": "FloatProgressModel",
          "model_module_version": "1.5.0",
          "state": {
            "_view_name": "ProgressView",
            "style": "IPY_MODEL_22e6753a680d4a38b423e504e925698b",
            "_dom_classes": [],
            "description": "",
            "_model_name": "FloatProgressModel",
            "bar_style": "danger",
            "max": 1193,
            "_view_module": "@jupyter-widgets/controls",
            "_model_module_version": "1.5.0",
            "value": 1192,
            "_view_count": null,
            "_view_module_version": "1.5.0",
            "orientation": "horizontal",
            "min": 0,
            "description_tooltip": null,
            "_model_module": "@jupyter-widgets/controls",
            "layout": "IPY_MODEL_cb662b81429b4b039b50f919016ce041"
          }
        },
        "3deae264cd7e49948a45d5112e3f855b": {
          "model_module": "@jupyter-widgets/controls",
          "model_name": "HTMLModel",
          "model_module_version": "1.5.0",
          "state": {
            "_view_name": "HTMLView",
            "style": "IPY_MODEL_7616b230f3f742f0a3fdc697d21880d7",
            "_dom_classes": [],
            "description": "",
            "_model_name": "HTMLModel",
            "placeholder": "​",
            "_view_module": "@jupyter-widgets/controls",
            "_model_module_version": "1.5.0",
            "value": " 1192/1193 [00:00&lt;00:00, 25409.30 examples/s]",
            "_view_count": null,
            "_view_module_version": "1.5.0",
            "description_tooltip": null,
            "_model_module": "@jupyter-widgets/controls",
            "layout": "IPY_MODEL_da92ecdb460e4cf980b26ca1a4a24bb9"
          }
        },
        "ec0b431a450d402d83fe18079a8d280d": {
          "model_module": "@jupyter-widgets/controls",
          "model_name": "DescriptionStyleModel",
          "model_module_version": "1.5.0",
          "state": {
            "_view_name": "StyleView",
            "_model_name": "DescriptionStyleModel",
            "description_width": "",
            "_view_module": "@jupyter-widgets/base",
            "_model_module_version": "1.5.0",
            "_view_count": null,
            "_view_module_version": "1.2.0",
            "_model_module": "@jupyter-widgets/controls"
          }
        },
        "c9f35f19e4d94f81be65cf501526ebcd": {
          "model_module": "@jupyter-widgets/base",
          "model_name": "LayoutModel",
          "model_module_version": "1.2.0",
          "state": {
            "_view_name": "LayoutView",
            "grid_template_rows": null,
            "right": null,
            "justify_content": null,
            "_view_module": "@jupyter-widgets/base",
            "overflow": null,
            "_model_module_version": "1.2.0",
            "_view_count": null,
            "flex_flow": null,
            "width": null,
            "min_width": null,
            "border": null,
            "align_items": null,
            "bottom": null,
            "_model_module": "@jupyter-widgets/base",
            "top": null,
            "grid_column": null,
            "overflow_y": null,
            "overflow_x": null,
            "grid_auto_flow": null,
            "grid_area": null,
            "grid_template_columns": null,
            "flex": null,
            "_model_name": "LayoutModel",
            "justify_items": null,
            "grid_row": null,
            "max_height": null,
            "align_content": null,
            "visibility": null,
            "align_self": null,
            "height": null,
            "min_height": null,
            "padding": null,
            "grid_auto_rows": null,
            "grid_gap": null,
            "max_width": null,
            "order": null,
            "_view_module_version": "1.2.0",
            "grid_template_areas": null,
            "object_position": null,
            "object_fit": null,
            "grid_auto_columns": null,
            "margin": null,
            "display": null,
            "left": null
          }
        },
        "22e6753a680d4a38b423e504e925698b": {
          "model_module": "@jupyter-widgets/controls",
          "model_name": "ProgressStyleModel",
          "model_module_version": "1.5.0",
          "state": {
            "_view_name": "StyleView",
            "_model_name": "ProgressStyleModel",
            "description_width": "",
            "_view_module": "@jupyter-widgets/base",
            "_model_module_version": "1.5.0",
            "_view_count": null,
            "_view_module_version": "1.2.0",
            "bar_color": null,
            "_model_module": "@jupyter-widgets/controls"
          }
        },
        "cb662b81429b4b039b50f919016ce041": {
          "model_module": "@jupyter-widgets/base",
          "model_name": "LayoutModel",
          "model_module_version": "1.2.0",
          "state": {
            "_view_name": "LayoutView",
            "grid_template_rows": null,
            "right": null,
            "justify_content": null,
            "_view_module": "@jupyter-widgets/base",
            "overflow": null,
            "_model_module_version": "1.2.0",
            "_view_count": null,
            "flex_flow": null,
            "width": null,
            "min_width": null,
            "border": null,
            "align_items": null,
            "bottom": null,
            "_model_module": "@jupyter-widgets/base",
            "top": null,
            "grid_column": null,
            "overflow_y": null,
            "overflow_x": null,
            "grid_auto_flow": null,
            "grid_area": null,
            "grid_template_columns": null,
            "flex": null,
            "_model_name": "LayoutModel",
            "justify_items": null,
            "grid_row": null,
            "max_height": null,
            "align_content": null,
            "visibility": null,
            "align_self": null,
            "height": null,
            "min_height": null,
            "padding": null,
            "grid_auto_rows": null,
            "grid_gap": null,
            "max_width": null,
            "order": null,
            "_view_module_version": "1.2.0",
            "grid_template_areas": null,
            "object_position": null,
            "object_fit": null,
            "grid_auto_columns": null,
            "margin": null,
            "display": null,
            "left": null
          }
        },
        "7616b230f3f742f0a3fdc697d21880d7": {
          "model_module": "@jupyter-widgets/controls",
          "model_name": "DescriptionStyleModel",
          "model_module_version": "1.5.0",
          "state": {
            "_view_name": "StyleView",
            "_model_name": "DescriptionStyleModel",
            "description_width": "",
            "_view_module": "@jupyter-widgets/base",
            "_model_module_version": "1.5.0",
            "_view_count": null,
            "_view_module_version": "1.2.0",
            "_model_module": "@jupyter-widgets/controls"
          }
        },
        "da92ecdb460e4cf980b26ca1a4a24bb9": {
          "model_module": "@jupyter-widgets/base",
          "model_name": "LayoutModel",
          "model_module_version": "1.2.0",
          "state": {
            "_view_name": "LayoutView",
            "grid_template_rows": null,
            "right": null,
            "justify_content": null,
            "_view_module": "@jupyter-widgets/base",
            "overflow": null,
            "_model_module_version": "1.2.0",
            "_view_count": null,
            "flex_flow": null,
            "width": null,
            "min_width": null,
            "border": null,
            "align_items": null,
            "bottom": null,
            "_model_module": "@jupyter-widgets/base",
            "top": null,
            "grid_column": null,
            "overflow_y": null,
            "overflow_x": null,
            "grid_auto_flow": null,
            "grid_area": null,
            "grid_template_columns": null,
            "flex": null,
            "_model_name": "LayoutModel",
            "justify_items": null,
            "grid_row": null,
            "max_height": null,
            "align_content": null,
            "visibility": null,
            "align_self": null,
            "height": null,
            "min_height": null,
            "padding": null,
            "grid_auto_rows": null,
            "grid_gap": null,
            "max_width": null,
            "order": null,
            "_view_module_version": "1.2.0",
            "grid_template_areas": null,
            "object_position": null,
            "object_fit": null,
            "grid_auto_columns": null,
            "margin": null,
            "display": null,
            "left": null
          }
        },
        "dc840bbdfb88435191891ed8cde63ddc": {
          "model_module": "@jupyter-widgets/controls",
          "model_name": "HBoxModel",
          "model_module_version": "1.5.0",
          "state": {
            "_view_name": "HBoxView",
            "_dom_classes": [],
            "_model_name": "HBoxModel",
            "_view_module": "@jupyter-widgets/controls",
            "_model_module_version": "1.5.0",
            "_view_count": null,
            "_view_module_version": "1.5.0",
            "box_style": "",
            "layout": "IPY_MODEL_d70dd8cc737d4f65a022d86b77727acf",
            "_model_module": "@jupyter-widgets/controls",
            "children": [
              "IPY_MODEL_bf756bcccd6044cc8616d43f8ffc766c",
              "IPY_MODEL_9158d94da9a54de9a868739d116d92bd",
              "IPY_MODEL_11559a3206f3404cb274decb0e201651"
            ]
          }
        },
        "d70dd8cc737d4f65a022d86b77727acf": {
          "model_module": "@jupyter-widgets/base",
          "model_name": "LayoutModel",
          "model_module_version": "1.2.0",
          "state": {
            "_view_name": "LayoutView",
            "grid_template_rows": null,
            "right": null,
            "justify_content": null,
            "_view_module": "@jupyter-widgets/base",
            "overflow": null,
            "_model_module_version": "1.2.0",
            "_view_count": null,
            "flex_flow": null,
            "width": null,
            "min_width": null,
            "border": null,
            "align_items": null,
            "bottom": null,
            "_model_module": "@jupyter-widgets/base",
            "top": null,
            "grid_column": null,
            "overflow_y": null,
            "overflow_x": null,
            "grid_auto_flow": null,
            "grid_area": null,
            "grid_template_columns": null,
            "flex": null,
            "_model_name": "LayoutModel",
            "justify_items": null,
            "grid_row": null,
            "max_height": null,
            "align_content": null,
            "visibility": null,
            "align_self": null,
            "height": null,
            "min_height": null,
            "padding": null,
            "grid_auto_rows": null,
            "grid_gap": null,
            "max_width": null,
            "order": null,
            "_view_module_version": "1.2.0",
            "grid_template_areas": null,
            "object_position": null,
            "object_fit": null,
            "grid_auto_columns": null,
            "margin": null,
            "display": null,
            "left": null
          }
        },
        "bf756bcccd6044cc8616d43f8ffc766c": {
          "model_module": "@jupyter-widgets/controls",
          "model_name": "HTMLModel",
          "model_module_version": "1.5.0",
          "state": {
            "_view_name": "HTMLView",
            "style": "IPY_MODEL_f59da2f772964d52bae9262d22773603",
            "_dom_classes": [],
            "description": "",
            "_model_name": "HTMLModel",
            "placeholder": "​",
            "_view_module": "@jupyter-widgets/controls",
            "_model_module_version": "1.5.0",
            "value": "",
            "_view_count": null,
            "_view_module_version": "1.5.0",
            "description_tooltip": null,
            "_model_module": "@jupyter-widgets/controls",
            "layout": "IPY_MODEL_ce324883973a4c919df794aed416cd8c"
          }
        },
        "9158d94da9a54de9a868739d116d92bd": {
          "model_module": "@jupyter-widgets/controls",
          "model_name": "FloatProgressModel",
          "model_module_version": "1.5.0",
          "state": {
            "_view_name": "ProgressView",
            "style": "IPY_MODEL_f16bb5a9782b44bcbe5c927d224ce133",
            "_dom_classes": [],
            "description": "",
            "_model_name": "FloatProgressModel",
            "bar_style": "info",
            "max": 1,
            "_view_module": "@jupyter-widgets/controls",
            "_model_module_version": "1.5.0",
            "value": 1,
            "_view_count": null,
            "_view_module_version": "1.5.0",
            "orientation": "horizontal",
            "min": 0,
            "description_tooltip": null,
            "_model_module": "@jupyter-widgets/controls",
            "layout": "IPY_MODEL_9e1384e834ee4bee90a02f02ebbb5173"
          }
        },
        "11559a3206f3404cb274decb0e201651": {
          "model_module": "@jupyter-widgets/controls",
          "model_name": "HTMLModel",
          "model_module_version": "1.5.0",
          "state": {
            "_view_name": "HTMLView",
            "style": "IPY_MODEL_5c9fd5b9479248a1b26b9eff84e3aa63",
            "_dom_classes": [],
            "description": "",
            "_model_name": "HTMLModel",
            "placeholder": "​",
            "_view_module": "@jupyter-widgets/controls",
            "_model_module_version": "1.5.0",
            "value": " 1443/0 [00:00&lt;00:00, 4359.91 examples/s]",
            "_view_count": null,
            "_view_module_version": "1.5.0",
            "description_tooltip": null,
            "_model_module": "@jupyter-widgets/controls",
            "layout": "IPY_MODEL_8e22ca8e021e444d966a89aa231596bc"
          }
        },
        "f59da2f772964d52bae9262d22773603": {
          "model_module": "@jupyter-widgets/controls",
          "model_name": "DescriptionStyleModel",
          "model_module_version": "1.5.0",
          "state": {
            "_view_name": "StyleView",
            "_model_name": "DescriptionStyleModel",
            "description_width": "",
            "_view_module": "@jupyter-widgets/base",
            "_model_module_version": "1.5.0",
            "_view_count": null,
            "_view_module_version": "1.2.0",
            "_model_module": "@jupyter-widgets/controls"
          }
        },
        "ce324883973a4c919df794aed416cd8c": {
          "model_module": "@jupyter-widgets/base",
          "model_name": "LayoutModel",
          "model_module_version": "1.2.0",
          "state": {
            "_view_name": "LayoutView",
            "grid_template_rows": null,
            "right": null,
            "justify_content": null,
            "_view_module": "@jupyter-widgets/base",
            "overflow": null,
            "_model_module_version": "1.2.0",
            "_view_count": null,
            "flex_flow": null,
            "width": null,
            "min_width": null,
            "border": null,
            "align_items": null,
            "bottom": null,
            "_model_module": "@jupyter-widgets/base",
            "top": null,
            "grid_column": null,
            "overflow_y": null,
            "overflow_x": null,
            "grid_auto_flow": null,
            "grid_area": null,
            "grid_template_columns": null,
            "flex": null,
            "_model_name": "LayoutModel",
            "justify_items": null,
            "grid_row": null,
            "max_height": null,
            "align_content": null,
            "visibility": null,
            "align_self": null,
            "height": null,
            "min_height": null,
            "padding": null,
            "grid_auto_rows": null,
            "grid_gap": null,
            "max_width": null,
            "order": null,
            "_view_module_version": "1.2.0",
            "grid_template_areas": null,
            "object_position": null,
            "object_fit": null,
            "grid_auto_columns": null,
            "margin": null,
            "display": null,
            "left": null
          }
        },
        "f16bb5a9782b44bcbe5c927d224ce133": {
          "model_module": "@jupyter-widgets/controls",
          "model_name": "ProgressStyleModel",
          "model_module_version": "1.5.0",
          "state": {
            "_view_name": "StyleView",
            "_model_name": "ProgressStyleModel",
            "description_width": "",
            "_view_module": "@jupyter-widgets/base",
            "_model_module_version": "1.5.0",
            "_view_count": null,
            "_view_module_version": "1.2.0",
            "bar_color": null,
            "_model_module": "@jupyter-widgets/controls"
          }
        },
        "9e1384e834ee4bee90a02f02ebbb5173": {
          "model_module": "@jupyter-widgets/base",
          "model_name": "LayoutModel",
          "model_module_version": "1.2.0",
          "state": {
            "_view_name": "LayoutView",
            "grid_template_rows": null,
            "right": null,
            "justify_content": null,
            "_view_module": "@jupyter-widgets/base",
            "overflow": null,
            "_model_module_version": "1.2.0",
            "_view_count": null,
            "flex_flow": null,
            "width": "20px",
            "min_width": null,
            "border": null,
            "align_items": null,
            "bottom": null,
            "_model_module": "@jupyter-widgets/base",
            "top": null,
            "grid_column": null,
            "overflow_y": null,
            "overflow_x": null,
            "grid_auto_flow": null,
            "grid_area": null,
            "grid_template_columns": null,
            "flex": null,
            "_model_name": "LayoutModel",
            "justify_items": null,
            "grid_row": null,
            "max_height": null,
            "align_content": null,
            "visibility": null,
            "align_self": null,
            "height": null,
            "min_height": null,
            "padding": null,
            "grid_auto_rows": null,
            "grid_gap": null,
            "max_width": null,
            "order": null,
            "_view_module_version": "1.2.0",
            "grid_template_areas": null,
            "object_position": null,
            "object_fit": null,
            "grid_auto_columns": null,
            "margin": null,
            "display": null,
            "left": null
          }
        },
        "5c9fd5b9479248a1b26b9eff84e3aa63": {
          "model_module": "@jupyter-widgets/controls",
          "model_name": "DescriptionStyleModel",
          "model_module_version": "1.5.0",
          "state": {
            "_view_name": "StyleView",
            "_model_name": "DescriptionStyleModel",
            "description_width": "",
            "_view_module": "@jupyter-widgets/base",
            "_model_module_version": "1.5.0",
            "_view_count": null,
            "_view_module_version": "1.2.0",
            "_model_module": "@jupyter-widgets/controls"
          }
        },
        "8e22ca8e021e444d966a89aa231596bc": {
          "model_module": "@jupyter-widgets/base",
          "model_name": "LayoutModel",
          "model_module_version": "1.2.0",
          "state": {
            "_view_name": "LayoutView",
            "grid_template_rows": null,
            "right": null,
            "justify_content": null,
            "_view_module": "@jupyter-widgets/base",
            "overflow": null,
            "_model_module_version": "1.2.0",
            "_view_count": null,
            "flex_flow": null,
            "width": null,
            "min_width": null,
            "border": null,
            "align_items": null,
            "bottom": null,
            "_model_module": "@jupyter-widgets/base",
            "top": null,
            "grid_column": null,
            "overflow_y": null,
            "overflow_x": null,
            "grid_auto_flow": null,
            "grid_area": null,
            "grid_template_columns": null,
            "flex": null,
            "_model_name": "LayoutModel",
            "justify_items": null,
            "grid_row": null,
            "max_height": null,
            "align_content": null,
            "visibility": null,
            "align_self": null,
            "height": null,
            "min_height": null,
            "padding": null,
            "grid_auto_rows": null,
            "grid_gap": null,
            "max_width": null,
            "order": null,
            "_view_module_version": "1.2.0",
            "grid_template_areas": null,
            "object_position": null,
            "object_fit": null,
            "grid_auto_columns": null,
            "margin": null,
            "display": null,
            "left": null
          }
        },
        "3ec894ded2af45a8973de8cbfe01e32b": {
          "model_module": "@jupyter-widgets/controls",
          "model_name": "HBoxModel",
          "model_module_version": "1.5.0",
          "state": {
            "_view_name": "HBoxView",
            "_dom_classes": [],
            "_model_name": "HBoxModel",
            "_view_module": "@jupyter-widgets/controls",
            "_model_module_version": "1.5.0",
            "_view_count": null,
            "_view_module_version": "1.5.0",
            "box_style": "",
            "layout": "IPY_MODEL_b77ba0c2575d4ec496da152dcda5edeb",
            "_model_module": "@jupyter-widgets/controls",
            "children": [
              "IPY_MODEL_f9db65031f25484bb707dc4602d5a8ac",
              "IPY_MODEL_a4fbc32f28094c58b5395aba194312d5",
              "IPY_MODEL_8b25df95e7b1432b91ab3a6fc98b62c7"
            ]
          }
        },
        "b77ba0c2575d4ec496da152dcda5edeb": {
          "model_module": "@jupyter-widgets/base",
          "model_name": "LayoutModel",
          "model_module_version": "1.2.0",
          "state": {
            "_view_name": "LayoutView",
            "grid_template_rows": null,
            "right": null,
            "justify_content": null,
            "_view_module": "@jupyter-widgets/base",
            "overflow": null,
            "_model_module_version": "1.2.0",
            "_view_count": null,
            "flex_flow": null,
            "width": null,
            "min_width": null,
            "border": null,
            "align_items": null,
            "bottom": null,
            "_model_module": "@jupyter-widgets/base",
            "top": null,
            "grid_column": null,
            "overflow_y": null,
            "overflow_x": null,
            "grid_auto_flow": null,
            "grid_area": null,
            "grid_template_columns": null,
            "flex": null,
            "_model_name": "LayoutModel",
            "justify_items": null,
            "grid_row": null,
            "max_height": null,
            "align_content": null,
            "visibility": null,
            "align_self": null,
            "height": null,
            "min_height": null,
            "padding": null,
            "grid_auto_rows": null,
            "grid_gap": null,
            "max_width": null,
            "order": null,
            "_view_module_version": "1.2.0",
            "grid_template_areas": null,
            "object_position": null,
            "object_fit": null,
            "grid_auto_columns": null,
            "margin": null,
            "display": null,
            "left": null
          }
        },
        "f9db65031f25484bb707dc4602d5a8ac": {
          "model_module": "@jupyter-widgets/controls",
          "model_name": "HTMLModel",
          "model_module_version": "1.5.0",
          "state": {
            "_view_name": "HTMLView",
            "style": "IPY_MODEL_33be0b55a92e462da97254a9b7bbe077",
            "_dom_classes": [],
            "description": "",
            "_model_name": "HTMLModel",
            "placeholder": "​",
            "_view_module": "@jupyter-widgets/controls",
            "_model_module_version": "1.5.0",
            "value": "100%",
            "_view_count": null,
            "_view_module_version": "1.5.0",
            "description_tooltip": null,
            "_model_module": "@jupyter-widgets/controls",
            "layout": "IPY_MODEL_4c420872d81e4ad6bc2da750fbf70b2b"
          }
        },
        "a4fbc32f28094c58b5395aba194312d5": {
          "model_module": "@jupyter-widgets/controls",
          "model_name": "FloatProgressModel",
          "model_module_version": "1.5.0",
          "state": {
            "_view_name": "ProgressView",
            "style": "IPY_MODEL_35a4ea66e491438a9b9c07c9b06a18e1",
            "_dom_classes": [],
            "description": "",
            "_model_name": "FloatProgressModel",
            "bar_style": "danger",
            "max": 1803,
            "_view_module": "@jupyter-widgets/controls",
            "_model_module_version": "1.5.0",
            "value": 1802,
            "_view_count": null,
            "_view_module_version": "1.5.0",
            "orientation": "horizontal",
            "min": 0,
            "description_tooltip": null,
            "_model_module": "@jupyter-widgets/controls",
            "layout": "IPY_MODEL_15791e2e2c4d4d6b83d38c9f7ef132d8"
          }
        },
        "8b25df95e7b1432b91ab3a6fc98b62c7": {
          "model_module": "@jupyter-widgets/controls",
          "model_name": "HTMLModel",
          "model_module_version": "1.5.0",
          "state": {
            "_view_name": "HTMLView",
            "style": "IPY_MODEL_c285fec819d1456d8297682b62b9db8e",
            "_dom_classes": [],
            "description": "",
            "_model_name": "HTMLModel",
            "placeholder": "​",
            "_view_module": "@jupyter-widgets/controls",
            "_model_module_version": "1.5.0",
            "value": " 1802/1803 [00:00&lt;00:00, 26368.69 examples/s]",
            "_view_count": null,
            "_view_module_version": "1.5.0",
            "description_tooltip": null,
            "_model_module": "@jupyter-widgets/controls",
            "layout": "IPY_MODEL_c87b6697573a4c94b62d01f13f5cc876"
          }
        },
        "33be0b55a92e462da97254a9b7bbe077": {
          "model_module": "@jupyter-widgets/controls",
          "model_name": "DescriptionStyleModel",
          "model_module_version": "1.5.0",
          "state": {
            "_view_name": "StyleView",
            "_model_name": "DescriptionStyleModel",
            "description_width": "",
            "_view_module": "@jupyter-widgets/base",
            "_model_module_version": "1.5.0",
            "_view_count": null,
            "_view_module_version": "1.2.0",
            "_model_module": "@jupyter-widgets/controls"
          }
        },
        "4c420872d81e4ad6bc2da750fbf70b2b": {
          "model_module": "@jupyter-widgets/base",
          "model_name": "LayoutModel",
          "model_module_version": "1.2.0",
          "state": {
            "_view_name": "LayoutView",
            "grid_template_rows": null,
            "right": null,
            "justify_content": null,
            "_view_module": "@jupyter-widgets/base",
            "overflow": null,
            "_model_module_version": "1.2.0",
            "_view_count": null,
            "flex_flow": null,
            "width": null,
            "min_width": null,
            "border": null,
            "align_items": null,
            "bottom": null,
            "_model_module": "@jupyter-widgets/base",
            "top": null,
            "grid_column": null,
            "overflow_y": null,
            "overflow_x": null,
            "grid_auto_flow": null,
            "grid_area": null,
            "grid_template_columns": null,
            "flex": null,
            "_model_name": "LayoutModel",
            "justify_items": null,
            "grid_row": null,
            "max_height": null,
            "align_content": null,
            "visibility": null,
            "align_self": null,
            "height": null,
            "min_height": null,
            "padding": null,
            "grid_auto_rows": null,
            "grid_gap": null,
            "max_width": null,
            "order": null,
            "_view_module_version": "1.2.0",
            "grid_template_areas": null,
            "object_position": null,
            "object_fit": null,
            "grid_auto_columns": null,
            "margin": null,
            "display": null,
            "left": null
          }
        },
        "35a4ea66e491438a9b9c07c9b06a18e1": {
          "model_module": "@jupyter-widgets/controls",
          "model_name": "ProgressStyleModel",
          "model_module_version": "1.5.0",
          "state": {
            "_view_name": "StyleView",
            "_model_name": "ProgressStyleModel",
            "description_width": "",
            "_view_module": "@jupyter-widgets/base",
            "_model_module_version": "1.5.0",
            "_view_count": null,
            "_view_module_version": "1.2.0",
            "bar_color": null,
            "_model_module": "@jupyter-widgets/controls"
          }
        },
        "15791e2e2c4d4d6b83d38c9f7ef132d8": {
          "model_module": "@jupyter-widgets/base",
          "model_name": "LayoutModel",
          "model_module_version": "1.2.0",
          "state": {
            "_view_name": "LayoutView",
            "grid_template_rows": null,
            "right": null,
            "justify_content": null,
            "_view_module": "@jupyter-widgets/base",
            "overflow": null,
            "_model_module_version": "1.2.0",
            "_view_count": null,
            "flex_flow": null,
            "width": null,
            "min_width": null,
            "border": null,
            "align_items": null,
            "bottom": null,
            "_model_module": "@jupyter-widgets/base",
            "top": null,
            "grid_column": null,
            "overflow_y": null,
            "overflow_x": null,
            "grid_auto_flow": null,
            "grid_area": null,
            "grid_template_columns": null,
            "flex": null,
            "_model_name": "LayoutModel",
            "justify_items": null,
            "grid_row": null,
            "max_height": null,
            "align_content": null,
            "visibility": null,
            "align_self": null,
            "height": null,
            "min_height": null,
            "padding": null,
            "grid_auto_rows": null,
            "grid_gap": null,
            "max_width": null,
            "order": null,
            "_view_module_version": "1.2.0",
            "grid_template_areas": null,
            "object_position": null,
            "object_fit": null,
            "grid_auto_columns": null,
            "margin": null,
            "display": null,
            "left": null
          }
        },
        "c285fec819d1456d8297682b62b9db8e": {
          "model_module": "@jupyter-widgets/controls",
          "model_name": "DescriptionStyleModel",
          "model_module_version": "1.5.0",
          "state": {
            "_view_name": "StyleView",
            "_model_name": "DescriptionStyleModel",
            "description_width": "",
            "_view_module": "@jupyter-widgets/base",
            "_model_module_version": "1.5.0",
            "_view_count": null,
            "_view_module_version": "1.2.0",
            "_model_module": "@jupyter-widgets/controls"
          }
        },
        "c87b6697573a4c94b62d01f13f5cc876": {
          "model_module": "@jupyter-widgets/base",
          "model_name": "LayoutModel",
          "model_module_version": "1.2.0",
          "state": {
            "_view_name": "LayoutView",
            "grid_template_rows": null,
            "right": null,
            "justify_content": null,
            "_view_module": "@jupyter-widgets/base",
            "overflow": null,
            "_model_module_version": "1.2.0",
            "_view_count": null,
            "flex_flow": null,
            "width": null,
            "min_width": null,
            "border": null,
            "align_items": null,
            "bottom": null,
            "_model_module": "@jupyter-widgets/base",
            "top": null,
            "grid_column": null,
            "overflow_y": null,
            "overflow_x": null,
            "grid_auto_flow": null,
            "grid_area": null,
            "grid_template_columns": null,
            "flex": null,
            "_model_name": "LayoutModel",
            "justify_items": null,
            "grid_row": null,
            "max_height": null,
            "align_content": null,
            "visibility": null,
            "align_self": null,
            "height": null,
            "min_height": null,
            "padding": null,
            "grid_auto_rows": null,
            "grid_gap": null,
            "max_width": null,
            "order": null,
            "_view_module_version": "1.2.0",
            "grid_template_areas": null,
            "object_position": null,
            "object_fit": null,
            "grid_auto_columns": null,
            "margin": null,
            "display": null,
            "left": null
          }
        }
      }
    }
  },
  "cells": [
    {
      "cell_type": "markdown",
      "metadata": {
        "id": "view-in-github",
        "colab_type": "text"
      },
      "source": [
        "<a href=\"https://colab.research.google.com/github/ashikshafi08/Recipe1M/blob/main/Learning_Transformers_with_TensorFlow.ipynb\" target=\"_parent\"><img src=\"https://colab.research.google.com/assets/colab-badge.svg\" alt=\"Open In Colab\"/></a>"
      ]
    },
    {
      "cell_type": "markdown",
      "metadata": {
        "id": "Q8Iku2AdY3ZM"
      },
      "source": [
        "# Learning Transformers with TensorFlow \n",
        "\n",
        "Here you can find all the theory and code for transformers. \n",
        "\n",
        "\n",
        "**What is transformer**\n",
        "\n",
        "A transformer model handles **variable-sized input using stacks of self-attention layers**.\n",
        "- Layer outputs can be calculated in parallel, instead of a series like an RNN. \n",
        "- Can learn long-range dependencies. \n",
        "- Attention mechanism has an infinite reference window \n",
        "\n",
        "\n",
        "## Input Embedding \n",
        "- Input into the word embedding layer that is the input should be in embedding format. \n",
        "- Next we will inject the Positional embeddings, because transformer doesnt have reccurence. The author in the paper used Sine and Cosine function to calculate this. \n",
        "    - For every odd time step create a vector using the cosine function. \n",
        "    - For every even time step create a vector using the sine funciton. \n",
        "    - Then add those vectors and we will get Positional Input Embeddings\n",
        "\n",
        "## Encoder Layer \n",
        "The encoder layer maps all the input sequence into a abstract continous representation that holds the learned info for entire sequence. \n",
        "\n",
        "It consists of two sub modules, \n",
        "- Multi - headed attention \n",
        "- Fully connected layer \n",
        "- Also it has residual connections and a Layer Normalization. \n",
        "\n",
        "### 1. Multi-Headed Attention \n",
        "They use a specific attention mechanism that is called self attention. \n",
        "\n",
        "**Self attention** -> helps in associating each individual word in the inputs to other words in a input. Helps to connect. \n",
        "\n",
        "To achieve self attention, \n",
        "- we connect the inputs into a three distinguished fully connected layers to create the query , key and value vectors. \n",
        "\n",
        "[Query, key and values](https://stats.stackexchange.com/questions/421935/what-exactly-are-keys-queries-and-values-in-attention-mechanisms)\n",
        "- Query and key form a dot product matrix multiplication to produce a score matrix. The score matrix produces how much focus should be put on each word. \n",
        "- Higher the score, the more the focus\n",
        "- The scores get scaled by dividing with the square root of the queries and the keys. This is for more stable gradients.\n",
        "- Then the scaled vector is passed into a softmax function to get the probs distribution, this will be our attention weights. \n",
        "- So then we multiply the attention weights with our values. The more prob distribution the model will consider it as important words. \n",
        "- Then we pass the output vector into a linear layer. \n",
        "\n",
        "> Before applying self attention we gotta make sure to split the query , key and value into N vectors, since its a multi-headed (more than 1). And each self attention process is called as a head and its concatenatd into a single vector and then passed into a Linear layer.\n",
        "\n",
        "So the multi-headed is a module in the transformer network that attends the input and produces an output vector with information on how each word should attend to all other words in a sequence. \n",
        "\n",
        "- Then a residual connection that gets connects with the multi-headed output and passed into a LayerNorm. \n",
        "- This is again passed into a Point wise Feed Forward network, followed by a LayerNorm layer. \n",
        "- Then again a residual connection is been made, where the input of the LayerNorm is passed to the input of the LayerNorm + Feed Forwards output. \n",
        "\n",
        "\n",
        "So this whole purpose of this Encoder layer is to make our inputs in a continous representation with a attention detail in it. \n",
        "\n",
        "This will make the decoder to focus on the appropriate words in the decoding process. \n",
        "\n",
        "> **Note**: We can stack the Encoder layer for N number of times, so at each time it will learn new attention detials. So it helps in predictions. \n",
        "\n",
        "## Decoder Layer\n",
        "The decoder job is to generate the text sequences. Like the encoder the decoder even has the sub layer, \n",
        "- 2 multi-headed attention layer \n",
        "- point wise fed forward \n",
        "- residual connections and LayerNorm after each sub layer. \n",
        "\n",
        "The decoder is autoregressive, where it takes the previous outputs as inputs and also the encoder outputs that contains the attention details as inputs. \n",
        "\n",
        "Decoder stops when it generates a end token as the output. \n",
        "\n",
        "- The input goes into a Embedding layer and Positional Embedding layer and gives out the Positional Embeddings. \n",
        "- Then the Positional Embedding is passed into the 1st Multi-head attention layer which computes the attention score for the decoder inputs. \n",
        "\n",
        "\n",
        "#### 1st Multi headed attention layer \n",
        "\n",
        "**Masking in the decoders multi-head attention**\n",
        "\n",
        "> **Note**: Since the decoder is auto-regressive and generates the sequence word by word, we need to condition the words from seeing the future tokens. It can have access to the previous tokens but not the upcoming one. \n",
        "\n",
        "> To prevent this we use something called a **Mask**, that provides us a with a look ahead mask. So we add the scaled scores and the look ahead mask, this will give us the Masked Scores. \n",
        "\n",
        "Mask is the same matrix same as the attention score. And it has negaitve inifinities, so when we take a softmax these -ve infinities will get zero out. So this means zero attention score for the future tokens. \n",
        "\n",
        "The output of the first multi-headed attention layer is a mask output vector, which has the information on how the model should attend on the decoders input. \n",
        "\n",
        "#### 2nd Multi headed attention layer \n",
        "Here we pass two inputs, \n",
        "- The output of the Encoder layer, only the queries and the keys.\n",
        "- Mask output vector of the 1st multi-headed layer, the values. \n",
        "\n",
        "This process matches the encoder inputs and the decoder inputs, so it will figure out which input to focus on. \n",
        "\n",
        "Likewise the output of the 2nd multi-headed layer passes into point-wise feed forward layer. \n",
        "\n",
        "Atlast the output from the point-wise feed forward is passed into a linear classifier layer. Where we specify the various number of classes we have, followed by a softmax layer nnd this will give us the probability distribution. Further computing the argmax we will get the predicted word. \n",
        "\n",
        "This goes on and on....\n",
        "\n",
        "\n",
        "\n",
        "\n"
      ]
    },
    {
      "cell_type": "code",
      "metadata": {
        "id": "7Hmvd7lDZNft",
        "colab": {
          "base_uri": "https://localhost:8080/"
        },
        "outputId": "96ac03ef-26b3-46e3-9742-e397e41ba13a"
      },
      "source": [
        "# Some downloads\n",
        "!pip install tensorflow_datasets\n",
        "!pip install -U tensorflow-text"
      ],
      "execution_count": 1,
      "outputs": [
        {
          "output_type": "stream",
          "name": "stdout",
          "text": [
            "Requirement already satisfied: tensorflow_datasets in /usr/local/lib/python3.7/dist-packages (4.0.1)\n",
            "Requirement already satisfied: absl-py in /usr/local/lib/python3.7/dist-packages (from tensorflow_datasets) (0.12.0)\n",
            "Requirement already satisfied: tqdm in /usr/local/lib/python3.7/dist-packages (from tensorflow_datasets) (4.62.3)\n",
            "Requirement already satisfied: termcolor in /usr/local/lib/python3.7/dist-packages (from tensorflow_datasets) (1.1.0)\n",
            "Requirement already satisfied: tensorflow-metadata in /usr/local/lib/python3.7/dist-packages (from tensorflow_datasets) (1.2.0)\n",
            "Requirement already satisfied: dm-tree in /usr/local/lib/python3.7/dist-packages (from tensorflow_datasets) (0.1.6)\n",
            "Requirement already satisfied: numpy in /usr/local/lib/python3.7/dist-packages (from tensorflow_datasets) (1.19.5)\n",
            "Requirement already satisfied: attrs>=18.1.0 in /usr/local/lib/python3.7/dist-packages (from tensorflow_datasets) (21.2.0)\n",
            "Requirement already satisfied: importlib-resources in /usr/local/lib/python3.7/dist-packages (from tensorflow_datasets) (5.2.2)\n",
            "Requirement already satisfied: future in /usr/local/lib/python3.7/dist-packages (from tensorflow_datasets) (0.16.0)\n",
            "Requirement already satisfied: protobuf>=3.6.1 in /usr/local/lib/python3.7/dist-packages (from tensorflow_datasets) (3.17.3)\n",
            "Requirement already satisfied: requests>=2.19.0 in /usr/local/lib/python3.7/dist-packages (from tensorflow_datasets) (2.23.0)\n",
            "Requirement already satisfied: six in /usr/local/lib/python3.7/dist-packages (from tensorflow_datasets) (1.15.0)\n",
            "Requirement already satisfied: dill in /usr/local/lib/python3.7/dist-packages (from tensorflow_datasets) (0.3.4)\n",
            "Requirement already satisfied: promise in /usr/local/lib/python3.7/dist-packages (from tensorflow_datasets) (2.3)\n",
            "Requirement already satisfied: chardet<4,>=3.0.2 in /usr/local/lib/python3.7/dist-packages (from requests>=2.19.0->tensorflow_datasets) (3.0.4)\n",
            "Requirement already satisfied: urllib3!=1.25.0,!=1.25.1,<1.26,>=1.21.1 in /usr/local/lib/python3.7/dist-packages (from requests>=2.19.0->tensorflow_datasets) (1.24.3)\n",
            "Requirement already satisfied: idna<3,>=2.5 in /usr/local/lib/python3.7/dist-packages (from requests>=2.19.0->tensorflow_datasets) (2.10)\n",
            "Requirement already satisfied: certifi>=2017.4.17 in /usr/local/lib/python3.7/dist-packages (from requests>=2.19.0->tensorflow_datasets) (2021.5.30)\n",
            "Requirement already satisfied: zipp>=3.1.0 in /usr/local/lib/python3.7/dist-packages (from importlib-resources->tensorflow_datasets) (3.5.0)\n",
            "Requirement already satisfied: googleapis-common-protos<2,>=1.52.0 in /usr/local/lib/python3.7/dist-packages (from tensorflow-metadata->tensorflow_datasets) (1.53.0)\n",
            "Collecting tensorflow-text\n",
            "  Downloading tensorflow_text-2.6.0-cp37-cp37m-manylinux1_x86_64.whl (4.4 MB)\n",
            "\u001b[K     |████████████████████████████████| 4.4 MB 34.4 MB/s \n",
            "\u001b[?25hRequirement already satisfied: tensorflow<2.7,>=2.6.0 in /usr/local/lib/python3.7/dist-packages (from tensorflow-text) (2.6.0)\n",
            "Requirement already satisfied: tensorflow-hub>=0.8.0 in /usr/local/lib/python3.7/dist-packages (from tensorflow-text) (0.12.0)\n",
            "Requirement already satisfied: astunparse~=1.6.3 in /usr/local/lib/python3.7/dist-packages (from tensorflow<2.7,>=2.6.0->tensorflow-text) (1.6.3)\n",
            "Requirement already satisfied: typing-extensions~=3.7.4 in /usr/local/lib/python3.7/dist-packages (from tensorflow<2.7,>=2.6.0->tensorflow-text) (3.7.4.3)\n",
            "Requirement already satisfied: wheel~=0.35 in /usr/local/lib/python3.7/dist-packages (from tensorflow<2.7,>=2.6.0->tensorflow-text) (0.37.0)\n",
            "Requirement already satisfied: keras~=2.6 in /usr/local/lib/python3.7/dist-packages (from tensorflow<2.7,>=2.6.0->tensorflow-text) (2.6.0)\n",
            "Requirement already satisfied: wrapt~=1.12.1 in /usr/local/lib/python3.7/dist-packages (from tensorflow<2.7,>=2.6.0->tensorflow-text) (1.12.1)\n",
            "Requirement already satisfied: clang~=5.0 in /usr/local/lib/python3.7/dist-packages (from tensorflow<2.7,>=2.6.0->tensorflow-text) (5.0)\n",
            "Requirement already satisfied: tensorboard~=2.6 in /usr/local/lib/python3.7/dist-packages (from tensorflow<2.7,>=2.6.0->tensorflow-text) (2.6.0)\n",
            "Requirement already satisfied: gast==0.4.0 in /usr/local/lib/python3.7/dist-packages (from tensorflow<2.7,>=2.6.0->tensorflow-text) (0.4.0)\n",
            "Requirement already satisfied: h5py~=3.1.0 in /usr/local/lib/python3.7/dist-packages (from tensorflow<2.7,>=2.6.0->tensorflow-text) (3.1.0)\n",
            "Requirement already satisfied: absl-py~=0.10 in /usr/local/lib/python3.7/dist-packages (from tensorflow<2.7,>=2.6.0->tensorflow-text) (0.12.0)\n",
            "Requirement already satisfied: google-pasta~=0.2 in /usr/local/lib/python3.7/dist-packages (from tensorflow<2.7,>=2.6.0->tensorflow-text) (0.2.0)\n",
            "Requirement already satisfied: opt-einsum~=3.3.0 in /usr/local/lib/python3.7/dist-packages (from tensorflow<2.7,>=2.6.0->tensorflow-text) (3.3.0)\n",
            "Requirement already satisfied: grpcio<2.0,>=1.37.0 in /usr/local/lib/python3.7/dist-packages (from tensorflow<2.7,>=2.6.0->tensorflow-text) (1.40.0)\n",
            "Requirement already satisfied: tensorflow-estimator~=2.6 in /usr/local/lib/python3.7/dist-packages (from tensorflow<2.7,>=2.6.0->tensorflow-text) (2.6.0)\n",
            "Requirement already satisfied: protobuf>=3.9.2 in /usr/local/lib/python3.7/dist-packages (from tensorflow<2.7,>=2.6.0->tensorflow-text) (3.17.3)\n",
            "Requirement already satisfied: keras-preprocessing~=1.1.2 in /usr/local/lib/python3.7/dist-packages (from tensorflow<2.7,>=2.6.0->tensorflow-text) (1.1.2)\n",
            "Requirement already satisfied: six~=1.15.0 in /usr/local/lib/python3.7/dist-packages (from tensorflow<2.7,>=2.6.0->tensorflow-text) (1.15.0)\n",
            "Requirement already satisfied: flatbuffers~=1.12.0 in /usr/local/lib/python3.7/dist-packages (from tensorflow<2.7,>=2.6.0->tensorflow-text) (1.12)\n",
            "Requirement already satisfied: termcolor~=1.1.0 in /usr/local/lib/python3.7/dist-packages (from tensorflow<2.7,>=2.6.0->tensorflow-text) (1.1.0)\n",
            "Requirement already satisfied: numpy~=1.19.2 in /usr/local/lib/python3.7/dist-packages (from tensorflow<2.7,>=2.6.0->tensorflow-text) (1.19.5)\n",
            "Requirement already satisfied: cached-property in /usr/local/lib/python3.7/dist-packages (from h5py~=3.1.0->tensorflow<2.7,>=2.6.0->tensorflow-text) (1.5.2)\n",
            "Requirement already satisfied: setuptools>=41.0.0 in /usr/local/lib/python3.7/dist-packages (from tensorboard~=2.6->tensorflow<2.7,>=2.6.0->tensorflow-text) (57.4.0)\n",
            "Requirement already satisfied: requests<3,>=2.21.0 in /usr/local/lib/python3.7/dist-packages (from tensorboard~=2.6->tensorflow<2.7,>=2.6.0->tensorflow-text) (2.23.0)\n",
            "Requirement already satisfied: tensorboard-data-server<0.7.0,>=0.6.0 in /usr/local/lib/python3.7/dist-packages (from tensorboard~=2.6->tensorflow<2.7,>=2.6.0->tensorflow-text) (0.6.1)\n",
            "Requirement already satisfied: tensorboard-plugin-wit>=1.6.0 in /usr/local/lib/python3.7/dist-packages (from tensorboard~=2.6->tensorflow<2.7,>=2.6.0->tensorflow-text) (1.8.0)\n",
            "Requirement already satisfied: markdown>=2.6.8 in /usr/local/lib/python3.7/dist-packages (from tensorboard~=2.6->tensorflow<2.7,>=2.6.0->tensorflow-text) (3.3.4)\n",
            "Requirement already satisfied: werkzeug>=0.11.15 in /usr/local/lib/python3.7/dist-packages (from tensorboard~=2.6->tensorflow<2.7,>=2.6.0->tensorflow-text) (1.0.1)\n",
            "Requirement already satisfied: google-auth<2,>=1.6.3 in /usr/local/lib/python3.7/dist-packages (from tensorboard~=2.6->tensorflow<2.7,>=2.6.0->tensorflow-text) (1.35.0)\n",
            "Requirement already satisfied: google-auth-oauthlib<0.5,>=0.4.1 in /usr/local/lib/python3.7/dist-packages (from tensorboard~=2.6->tensorflow<2.7,>=2.6.0->tensorflow-text) (0.4.6)\n",
            "Requirement already satisfied: pyasn1-modules>=0.2.1 in /usr/local/lib/python3.7/dist-packages (from google-auth<2,>=1.6.3->tensorboard~=2.6->tensorflow<2.7,>=2.6.0->tensorflow-text) (0.2.8)\n",
            "Requirement already satisfied: rsa<5,>=3.1.4 in /usr/local/lib/python3.7/dist-packages (from google-auth<2,>=1.6.3->tensorboard~=2.6->tensorflow<2.7,>=2.6.0->tensorflow-text) (4.7.2)\n",
            "Requirement already satisfied: cachetools<5.0,>=2.0.0 in /usr/local/lib/python3.7/dist-packages (from google-auth<2,>=1.6.3->tensorboard~=2.6->tensorflow<2.7,>=2.6.0->tensorflow-text) (4.2.2)\n",
            "Requirement already satisfied: requests-oauthlib>=0.7.0 in /usr/local/lib/python3.7/dist-packages (from google-auth-oauthlib<0.5,>=0.4.1->tensorboard~=2.6->tensorflow<2.7,>=2.6.0->tensorflow-text) (1.3.0)\n",
            "Requirement already satisfied: importlib-metadata in /usr/local/lib/python3.7/dist-packages (from markdown>=2.6.8->tensorboard~=2.6->tensorflow<2.7,>=2.6.0->tensorflow-text) (4.8.1)\n",
            "Requirement already satisfied: pyasn1<0.5.0,>=0.4.6 in /usr/local/lib/python3.7/dist-packages (from pyasn1-modules>=0.2.1->google-auth<2,>=1.6.3->tensorboard~=2.6->tensorflow<2.7,>=2.6.0->tensorflow-text) (0.4.8)\n",
            "Requirement already satisfied: urllib3!=1.25.0,!=1.25.1,<1.26,>=1.21.1 in /usr/local/lib/python3.7/dist-packages (from requests<3,>=2.21.0->tensorboard~=2.6->tensorflow<2.7,>=2.6.0->tensorflow-text) (1.24.3)\n",
            "Requirement already satisfied: chardet<4,>=3.0.2 in /usr/local/lib/python3.7/dist-packages (from requests<3,>=2.21.0->tensorboard~=2.6->tensorflow<2.7,>=2.6.0->tensorflow-text) (3.0.4)\n",
            "Requirement already satisfied: idna<3,>=2.5 in /usr/local/lib/python3.7/dist-packages (from requests<3,>=2.21.0->tensorboard~=2.6->tensorflow<2.7,>=2.6.0->tensorflow-text) (2.10)\n",
            "Requirement already satisfied: certifi>=2017.4.17 in /usr/local/lib/python3.7/dist-packages (from requests<3,>=2.21.0->tensorboard~=2.6->tensorflow<2.7,>=2.6.0->tensorflow-text) (2021.5.30)\n",
            "Requirement already satisfied: oauthlib>=3.0.0 in /usr/local/lib/python3.7/dist-packages (from requests-oauthlib>=0.7.0->google-auth-oauthlib<0.5,>=0.4.1->tensorboard~=2.6->tensorflow<2.7,>=2.6.0->tensorflow-text) (3.1.1)\n",
            "Requirement already satisfied: zipp>=0.5 in /usr/local/lib/python3.7/dist-packages (from importlib-metadata->markdown>=2.6.8->tensorboard~=2.6->tensorflow<2.7,>=2.6.0->tensorflow-text) (3.5.0)\n",
            "Installing collected packages: tensorflow-text\n",
            "Successfully installed tensorflow-text-2.6.0\n"
          ]
        }
      ]
    },
    {
      "cell_type": "code",
      "metadata": {
        "id": "mkL1Vx3nZgcn"
      },
      "source": [
        "# Imports \n",
        "\n",
        "import collections\n",
        "import logging\n",
        "import os\n",
        "import pathlib\n",
        "import re\n",
        "import string\n",
        "import sys\n",
        "import time\n",
        "\n",
        "import numpy as np\n",
        "import matplotlib.pyplot as plt\n",
        "\n",
        "import tensorflow_datasets as tfds\n",
        "import tensorflow_text as text\n",
        "import tensorflow as tf\n",
        "\n",
        "\n",
        "logging.getLogger('tensorflow').setLevel(logging.ERROR)  # suppress warnings"
      ],
      "execution_count": 2,
      "outputs": []
    },
    {
      "cell_type": "markdown",
      "metadata": {
        "id": "t5WBC-eQaF3j"
      },
      "source": [
        "### Downloading the datasets \n",
        "\n",
        "Testing the transformer on Portuguese-English translation dataset. This dataset contains approx 50000 training examples, 1100 validation examples and 2000 test examples. \n",
        "\n"
      ]
    },
    {
      "cell_type": "code",
      "metadata": {
        "colab": {
          "base_uri": "https://localhost:8080/",
          "height": 365,
          "referenced_widgets": [
            "062b6554c0c64c288dd7bb6339e0c7c2",
            "441b890ab2234c948b5cf6ecc25c87d2",
            "9a3f686e23344c2ea17a6408cf26315c",
            "c52f65229d154d0c8ed9a55bebad9861",
            "33f6247b7e38458eb0c327f0f0b72028",
            "1746f95b5cf84824ae2facc2a079dec5",
            "d6f3e70eac0d4934936a8aed30dcf047",
            "96a48150c8be4297975df6328ec16bbf",
            "c0518ce36745493cb8ac806ae9fb1cd1",
            "884f1f755dcc441ea1a8001cbd2e60b7",
            "37c4dd01190b4c4ba0ceed022adb97af",
            "68d309de64374cadbc995e3329731b95",
            "43807792888d4b099ca4c47becf28edd",
            "cf448d97eb47470298e45548630e8f5b",
            "3cf6abd2cfb04b30b2da1d242bf53639",
            "a7499a0f8e1b4119ac1cadd3b7776d48",
            "1550bc1a1e704608a39bb09a4e86896e",
            "375a3e7636aa4449ad183e5707d35da3",
            "ddcb38ea7eee422393cb12b97011385a",
            "7e7c316c546b44a68356fb8de63b70d0",
            "54ef5e67a8e24fc4b1b73db7cd5f29e0",
            "2fe6a832a6714316b2793b624fc61429",
            "de8bb94d61a1448fbcaaae8c5b2407a2",
            "0e7970c937a34b2d93acd018fb86a401",
            "0de5d1b7f4014d27b429dbf750a14feb",
            "932466f4528a4094a64295a678adc212",
            "5518bd8ee70b4447b6acb6512e8a5772",
            "053f9bdd47f348eb9aa67ac0945b125e",
            "3a8298ea13974e24bfbedd64bb87edd3",
            "d4348414c0144983bebeb9755f9f72ea",
            "44e78aa3c0ce4662b8c7aaa65bc0e0e0",
            "dd65b71a65514841b10a31597237ce44",
            "c423ed684d6146d2969ff0659cf056a8",
            "33986a74c30a41fbaefbdd5fad6f91da",
            "50eac86b0dc145fba3a3c0c9c333158f",
            "b53a66bf57c547d483e46131d093517e",
            "efa95b919b5c4f8e9f2fcbe53ee4f0d8",
            "19bd6f26f81e4e50a7b01fabc583ca45",
            "49a8b4e1b9d0402489ed284bbe86f62b",
            "fcf0cafae714499989ecc4bf1213d563",
            "84f9e63402f1426ca1a209b6cb1bf1a1",
            "b407206fe73540429e1c7f0c6d9724fb",
            "3dcf734b2bf04f0faadfbeb41e41d35c",
            "bc14c9deb6f54042bc67de7995a98cfc",
            "581bd8b4c8a74d48afd6f6210aec4e2a",
            "322782adabf947859f55369615e10d4d",
            "1a7baa2ae56c417bb1ad30eca930618d",
            "e239ec95518b4c4fbb6e21b2fe627caf",
            "593d0dc5d626468495a4b8b7c4afa087",
            "b136426b2c0844aa90a2ef55c29cda96",
            "818ab646d34f4713acb6b8210724a618",
            "845311f4a67d46058ebe8a612a433df8",
            "0f010fcfc6f843bf9beed34d97cc66b9",
            "1ec7ec8c535d429296da7c6f14feed2e",
            "b43a1b6fcb384d0485e5f98c597aa01e",
            "73a7e150a03945afbca27140d6855017",
            "2f37fdffc7ac4492a415a1528e8e4cf0",
            "13d0f4afdcdd4e26aa7204bdfe3186dd",
            "be6cbe14ef2646d1a14a989782a6ae31",
            "74f992d4f3a94a37833ef32ffdf1f309",
            "ae8e35c1c1c54116976ab691fbc0d37e",
            "070fc87fe96b4447af3ab8adeac3d0f7",
            "b93ed58e96c84fe5b9f8f0f3e2b4d42d",
            "7273f8bb8efb4b1fb12db0ce9c6e53bf",
            "0ad9bd8900f441bca87d5bc397d13a1c",
            "1a22c9e8d5b94883ba58b3accacfedca",
            "1d9b298ad72f4388b86c90cdea923d05",
            "92821c7f97484c758a365f0b0004f59d",
            "9107b0b08f6147988d70dfd00be4f91c",
            "aaf2ad24d46d44379dab11da558955c6",
            "3deae264cd7e49948a45d5112e3f855b",
            "ec0b431a450d402d83fe18079a8d280d",
            "c9f35f19e4d94f81be65cf501526ebcd",
            "22e6753a680d4a38b423e504e925698b",
            "cb662b81429b4b039b50f919016ce041",
            "7616b230f3f742f0a3fdc697d21880d7",
            "da92ecdb460e4cf980b26ca1a4a24bb9",
            "dc840bbdfb88435191891ed8cde63ddc",
            "d70dd8cc737d4f65a022d86b77727acf",
            "bf756bcccd6044cc8616d43f8ffc766c",
            "9158d94da9a54de9a868739d116d92bd",
            "11559a3206f3404cb274decb0e201651",
            "f59da2f772964d52bae9262d22773603",
            "ce324883973a4c919df794aed416cd8c",
            "f16bb5a9782b44bcbe5c927d224ce133",
            "9e1384e834ee4bee90a02f02ebbb5173",
            "5c9fd5b9479248a1b26b9eff84e3aa63",
            "8e22ca8e021e444d966a89aa231596bc",
            "3ec894ded2af45a8973de8cbfe01e32b",
            "b77ba0c2575d4ec496da152dcda5edeb",
            "f9db65031f25484bb707dc4602d5a8ac",
            "a4fbc32f28094c58b5395aba194312d5",
            "8b25df95e7b1432b91ab3a6fc98b62c7",
            "33be0b55a92e462da97254a9b7bbe077",
            "4c420872d81e4ad6bc2da750fbf70b2b",
            "35a4ea66e491438a9b9c07c9b06a18e1",
            "15791e2e2c4d4d6b83d38c9f7ef132d8",
            "c285fec819d1456d8297682b62b9db8e",
            "c87b6697573a4c94b62d01f13f5cc876"
          ]
        },
        "id": "JjXpo1BoatsQ",
        "outputId": "08192579-279a-4705-8d53-911312da8b2a"
      },
      "source": [
        "examples, metadata = tfds.load('ted_hrlr_translate/pt_to_en', with_info=True,\n",
        "                               as_supervised=True)\n",
        "train_examples, val_examples = examples['train'], examples['validation']"
      ],
      "execution_count": 3,
      "outputs": [
        {
          "output_type": "stream",
          "name": "stdout",
          "text": [
            "\u001b[1mDownloading and preparing dataset ted_hrlr_translate/pt_to_en/1.0.0 (download: 124.94 MiB, generated: Unknown size, total: 124.94 MiB) to /root/tensorflow_datasets/ted_hrlr_translate/pt_to_en/1.0.0...\u001b[0m\n"
          ]
        },
        {
          "output_type": "display_data",
          "data": {
            "application/vnd.jupyter.widget-view+json": {
              "model_id": "062b6554c0c64c288dd7bb6339e0c7c2",
              "version_minor": 0,
              "version_major": 2
            },
            "text/plain": [
              "Dl Completed...: 0 url [00:00, ? url/s]"
            ]
          },
          "metadata": {}
        },
        {
          "output_type": "display_data",
          "data": {
            "application/vnd.jupyter.widget-view+json": {
              "model_id": "68d309de64374cadbc995e3329731b95",
              "version_minor": 0,
              "version_major": 2
            },
            "text/plain": [
              "Dl Size...: 0 MiB [00:00, ? MiB/s]"
            ]
          },
          "metadata": {}
        },
        {
          "output_type": "display_data",
          "data": {
            "application/vnd.jupyter.widget-view+json": {
              "model_id": "de8bb94d61a1448fbcaaae8c5b2407a2",
              "version_minor": 0,
              "version_major": 2
            },
            "text/plain": [
              "Extraction completed...: 0 file [00:00, ? file/s]"
            ]
          },
          "metadata": {}
        },
        {
          "output_type": "stream",
          "name": "stdout",
          "text": [
            "\n",
            "\n",
            "\n"
          ]
        },
        {
          "output_type": "display_data",
          "data": {
            "application/vnd.jupyter.widget-view+json": {
              "model_id": "33986a74c30a41fbaefbdd5fad6f91da",
              "version_minor": 0,
              "version_major": 2
            },
            "text/plain": [
              "0 examples [00:00, ? examples/s]"
            ]
          },
          "metadata": {}
        },
        {
          "output_type": "stream",
          "name": "stdout",
          "text": [
            "Shuffling and writing examples to /root/tensorflow_datasets/ted_hrlr_translate/pt_to_en/1.0.0.incompleteIJ7EW1/ted_hrlr_translate-train.tfrecord\n"
          ]
        },
        {
          "output_type": "display_data",
          "data": {
            "application/vnd.jupyter.widget-view+json": {
              "model_id": "581bd8b4c8a74d48afd6f6210aec4e2a",
              "version_minor": 0,
              "version_major": 2
            },
            "text/plain": [
              "  0%|          | 0/51785 [00:00<?, ? examples/s]"
            ]
          },
          "metadata": {}
        },
        {
          "output_type": "display_data",
          "data": {
            "application/vnd.jupyter.widget-view+json": {
              "model_id": "73a7e150a03945afbca27140d6855017",
              "version_minor": 0,
              "version_major": 2
            },
            "text/plain": [
              "0 examples [00:00, ? examples/s]"
            ]
          },
          "metadata": {}
        },
        {
          "output_type": "stream",
          "name": "stdout",
          "text": [
            "Shuffling and writing examples to /root/tensorflow_datasets/ted_hrlr_translate/pt_to_en/1.0.0.incompleteIJ7EW1/ted_hrlr_translate-validation.tfrecord\n"
          ]
        },
        {
          "output_type": "display_data",
          "data": {
            "application/vnd.jupyter.widget-view+json": {
              "model_id": "1d9b298ad72f4388b86c90cdea923d05",
              "version_minor": 0,
              "version_major": 2
            },
            "text/plain": [
              "  0%|          | 0/1193 [00:00<?, ? examples/s]"
            ]
          },
          "metadata": {}
        },
        {
          "output_type": "display_data",
          "data": {
            "application/vnd.jupyter.widget-view+json": {
              "model_id": "dc840bbdfb88435191891ed8cde63ddc",
              "version_minor": 0,
              "version_major": 2
            },
            "text/plain": [
              "0 examples [00:00, ? examples/s]"
            ]
          },
          "metadata": {}
        },
        {
          "output_type": "stream",
          "name": "stdout",
          "text": [
            "Shuffling and writing examples to /root/tensorflow_datasets/ted_hrlr_translate/pt_to_en/1.0.0.incompleteIJ7EW1/ted_hrlr_translate-test.tfrecord\n"
          ]
        },
        {
          "output_type": "display_data",
          "data": {
            "application/vnd.jupyter.widget-view+json": {
              "model_id": "3ec894ded2af45a8973de8cbfe01e32b",
              "version_minor": 0,
              "version_major": 2
            },
            "text/plain": [
              "  0%|          | 0/1803 [00:00<?, ? examples/s]"
            ]
          },
          "metadata": {}
        },
        {
          "output_type": "stream",
          "name": "stdout",
          "text": [
            "\u001b[1mDataset ted_hrlr_translate downloaded and prepared to /root/tensorflow_datasets/ted_hrlr_translate/pt_to_en/1.0.0. Subsequent calls will reuse this data.\u001b[0m\n"
          ]
        }
      ]
    },
    {
      "cell_type": "code",
      "metadata": {
        "colab": {
          "base_uri": "https://localhost:8080/"
        },
        "id": "0035oMGwa8Zr",
        "outputId": "46c83d66-38c4-44cc-a912-aa1d3c32adc0"
      },
      "source": [
        "# Looking into the text examples \n",
        "for pt_examples, en_examples in train_examples.batch(3).take(1):\n",
        "  for pt in pt_examples.numpy():\n",
        "    print(pt.decode('utf-8'))\n",
        "\n",
        "  print()\n",
        "\n",
        "  for en in en_examples.numpy():\n",
        "    print(en.decode('utf-8'))"
      ],
      "execution_count": 4,
      "outputs": [
        {
          "output_type": "stream",
          "name": "stdout",
          "text": [
            "e quando melhoramos a procura , tiramos a única vantagem da impressão , que é a serendipidade .\n",
            "mas e se estes fatores fossem ativos ?\n",
            "mas eles não tinham a curiosidade de me testar .\n",
            "\n",
            "and when you improve searchability , you actually take away the one advantage of print , which is serendipity .\n",
            "but what if it were active ?\n",
            "but they did n't test for curiosity .\n"
          ]
        }
      ]
    },
    {
      "cell_type": "markdown",
      "metadata": {
        "id": "pJn3qL2obEWm"
      },
      "source": [
        "### Text tokenization & detokenizatiion \n",
        "\n",
        "Here we will convert the text to some numeric representation, so now we will convert the text to sequences of token IDs, which are used as indices into an embedding. \n",
        "\n",
        "Downloading a saved model \n"
      ]
    },
    {
      "cell_type": "code",
      "metadata": {
        "colab": {
          "base_uri": "https://localhost:8080/",
          "height": 86
        },
        "id": "LWB6xRhKbpjy",
        "outputId": "02411d46-ecca-44a2-8826-e00135886f87"
      },
      "source": [
        "model_name = \"ted_hrlr_translate_pt_en_converter\"\n",
        "tf.keras.utils.get_file(\n",
        "    f\"{model_name}.zip\",\n",
        "    f\"https://storage.googleapis.com/download.tensorflow.org/models/{model_name}.zip\",\n",
        "    cache_dir='.', cache_subdir='', extract=True\n",
        ")"
      ],
      "execution_count": 5,
      "outputs": [
        {
          "output_type": "stream",
          "name": "stdout",
          "text": [
            "Downloading data from https://storage.googleapis.com/download.tensorflow.org/models/ted_hrlr_translate_pt_en_converter.zip\n",
            "188416/184801 [==============================] - 0s 0us/step\n",
            "196608/184801 [===============================] - 0s 0us/step\n"
          ]
        },
        {
          "output_type": "execute_result",
          "data": {
            "application/vnd.google.colaboratory.intrinsic+json": {
              "type": "string"
            },
            "text/plain": [
              "'./ted_hrlr_translate_pt_en_converter.zip'"
            ]
          },
          "metadata": {},
          "execution_count": 5
        }
      ]
    },
    {
      "cell_type": "code",
      "metadata": {
        "id": "hgJq_kKwbqAL"
      },
      "source": [
        "# Loading the saved model \n",
        "tokenizers = tf.saved_model.load(model_name)\n"
      ],
      "execution_count": 6,
      "outputs": []
    },
    {
      "cell_type": "markdown",
      "metadata": {
        "id": "jv6prt2Mb0i7"
      },
      "source": [
        "The tokenizes contains two text tokenizers, one for english and one for portuguese. "
      ]
    },
    {
      "cell_type": "code",
      "metadata": {
        "colab": {
          "base_uri": "https://localhost:8080/"
        },
        "id": "Uk5Fj7I3b6pC",
        "outputId": "334a1cab-4137-4465-9bd1-4d25e4f8fce2"
      },
      "source": [
        "print([item for item in dir(tokenizers) if not item.startswith('_')])\n",
        "print([item for item in dir(tokenizers.en) if not item.startswith('_')])\n",
        "print([item for item in dir(tokenizers.pt) if not item.startswith('_')])"
      ],
      "execution_count": 7,
      "outputs": [
        {
          "output_type": "stream",
          "name": "stdout",
          "text": [
            "['en', 'graph_debug_info', 'pt', 'signatures', 'tensorflow_git_version', 'tensorflow_version']\n",
            "['detokenize', 'get_reserved_tokens', 'get_vocab_path', 'get_vocab_size', 'lookup', 'tokenize', 'tokenizer', 'vocab']\n",
            "['detokenize', 'get_reserved_tokens', 'get_vocab_path', 'get_vocab_size', 'lookup', 'tokenize', 'tokenizer', 'vocab']\n"
          ]
        }
      ]
    },
    {
      "cell_type": "markdown",
      "metadata": {
        "id": "2PHN8NJacB2h"
      },
      "source": [
        "- The `tokenize` method converts a batch of strings to a padded-batch of token IDs. \n",
        "- This method also splits punctuations, lowercases and unicode-normalizes the input before tokenizing. "
      ]
    },
    {
      "cell_type": "code",
      "metadata": {
        "colab": {
          "base_uri": "https://localhost:8080/"
        },
        "id": "LKai3rCvcrw3",
        "outputId": "31a18868-3885-4225-f96b-89dca5a1b848"
      },
      "source": [
        "# Printing out the english exampels \n",
        "for en in en_examples.numpy():\n",
        "  print(en.decode('utf-8'))"
      ],
      "execution_count": 8,
      "outputs": [
        {
          "output_type": "stream",
          "name": "stdout",
          "text": [
            "and when you improve searchability , you actually take away the one advantage of print , which is serendipity .\n",
            "but what if it were active ?\n",
            "but they did n't test for curiosity .\n"
          ]
        }
      ]
    },
    {
      "cell_type": "markdown",
      "metadata": {
        "id": "vLf-YEuBcycL"
      },
      "source": [
        "The `detokenize` method attempts to convert these token IDs back to human readable text"
      ]
    },
    {
      "cell_type": "code",
      "metadata": {
        "colab": {
          "base_uri": "https://localhost:8080/"
        },
        "id": "-ruI56X5eKDA",
        "outputId": "c858e7fe-d33c-4e35-92f9-e7ee344c1e2f"
      },
      "source": [
        "# Tokenizing a text \n",
        "encoded = tokenizers.en.tokenize(en_examples)\n",
        "\n",
        "for row in encoded.to_list():\n",
        "  print(row)\n"
      ],
      "execution_count": 9,
      "outputs": [
        {
          "output_type": "stream",
          "name": "stdout",
          "text": [
            "[2, 72, 117, 79, 1259, 1491, 2362, 13, 79, 150, 184, 311, 71, 103, 2308, 74, 2679, 13, 148, 80, 55, 4840, 1434, 2423, 540, 15, 3]\n",
            "[2, 87, 90, 107, 76, 129, 1852, 30, 3]\n",
            "[2, 87, 83, 149, 50, 9, 56, 664, 85, 2512, 15, 3]\n"
          ]
        }
      ]
    },
    {
      "cell_type": "code",
      "metadata": {
        "colab": {
          "base_uri": "https://localhost:8080/"
        },
        "id": "P2FmD0CIeUQS",
        "outputId": "13aaca88-c4c2-4513-854f-e2f05a7f4913"
      },
      "source": [
        "# Detokenizing a text \n",
        "round_trip = tokenizers.en.detokenize(encoded)\n",
        "\n",
        "for line in round_trip.numpy():\n",
        "  print(line.decode('utf-8'))"
      ],
      "execution_count": 10,
      "outputs": [
        {
          "output_type": "stream",
          "name": "stdout",
          "text": [
            "and when you improve searchability , you actually take away the one advantage of print , which is serendipity .\n",
            "but what if it were active ?\n",
            "but they did n ' t test for curiosity .\n"
          ]
        }
      ]
    },
    {
      "cell_type": "markdown",
      "metadata": {
        "id": "VsDx8NYWer4D"
      },
      "source": [
        "Lookup method converts from token-IDs to token text"
      ]
    },
    {
      "cell_type": "code",
      "metadata": {
        "colab": {
          "base_uri": "https://localhost:8080/"
        },
        "id": "VlnvaOdHezjM",
        "outputId": "a67380ac-3594-4427-e5a5-f2edd234dbd3"
      },
      "source": [
        "tokens = tokenizers.en.lookup(encoded)\n",
        "tokens"
      ],
      "execution_count": 11,
      "outputs": [
        {
          "output_type": "execute_result",
          "data": {
            "text/plain": [
              "<tf.RaggedTensor [[b'[START]', b'and', b'when', b'you', b'improve', b'search', b'##ability', b',', b'you', b'actually', b'take', b'away', b'the', b'one', b'advantage', b'of', b'print', b',', b'which', b'is', b's', b'##ere', b'##nd', b'##ip', b'##ity', b'.', b'[END]'], [b'[START]', b'but', b'what', b'if', b'it', b'were', b'active', b'?', b'[END]'], [b'[START]', b'but', b'they', b'did', b'n', b\"'\", b't', b'test', b'for', b'curiosity', b'.', b'[END]']]>"
            ]
          },
          "metadata": {},
          "execution_count": 11
        }
      ]
    },
    {
      "cell_type": "markdown",
      "metadata": {
        "id": "Qupf-t4re4Za"
      },
      "source": [
        "## Setup input pipeline \n",
        "\n",
        "Gotta apply some transformations in order to make the data suitable for Input pipeline. \n",
        "\n"
      ]
    },
    {
      "cell_type": "code",
      "metadata": {
        "id": "WFXBDcgCeoWG"
      },
      "source": [
        "# Preprocessing function and we can use while making the dataset\n",
        "def tokenize_pairs(pt , en):\n",
        "  '''\n",
        "  pt -> portugese text\n",
        "  en -> english text\n",
        "  '''\n",
        "\n",
        "  pt = tokenizers.pt.tokenize(pt)\n",
        "\n",
        "  # Converting the ragged tensors to dense by padding with zero \n",
        "  pt = pt.to_tensor()\n",
        "  return pt , en"
      ],
      "execution_count": 12,
      "outputs": []
    },
    {
      "cell_type": "code",
      "metadata": {
        "id": "N7JVsfhOe44v"
      },
      "source": [
        "# Hyper parameters for batching and shuffling \n",
        "BUFFER_SIZE = 20000\n",
        "BATCH_SIZE = 64 \n",
        "\n",
        "# Function to apply the dataset transforms \n",
        "def make_batches(ds):\n",
        "  return(\n",
        "      ds\n",
        "      .cache()\n",
        "      .shuffle(BUFFER_SIZE)\n",
        "      .batch(BATCH_SIZE)\n",
        "      .map(tokenize_pairs , num_parallel_calls = tf.data.AUTOTUNE)\n",
        "      .prefetch(tf.data.AUTOTUNE)\n",
        "  )\n",
        "\n",
        "\n"
      ],
      "execution_count": 13,
      "outputs": []
    },
    {
      "cell_type": "code",
      "metadata": {
        "colab": {
          "base_uri": "https://localhost:8080/"
        },
        "id": "tQF_XOFne5Qn",
        "outputId": "0932fe45-c2c0-45e5-9d88-ecfd79aca16d"
      },
      "source": [
        "# Applying the transforms on our datasets \n",
        "train_batches = make_batches(train_examples)\n",
        "val_batches = make_batches(val_examples)\n",
        "\n",
        "train_batches , val_batches\n"
      ],
      "execution_count": 14,
      "outputs": [
        {
          "output_type": "execute_result",
          "data": {
            "text/plain": [
              "(<PrefetchDataset shapes: ((None, None), (None,)), types: (tf.int64, tf.string)>,\n",
              " <PrefetchDataset shapes: ((None, None), (None,)), types: (tf.int64, tf.string)>)"
            ]
          },
          "metadata": {},
          "execution_count": 14
        }
      ]
    },
    {
      "cell_type": "markdown",
      "metadata": {
        "id": "Eq2KRMStgbiI"
      },
      "source": [
        "### **Positional Encoding** \n",
        "\n",
        "- Attention layers see the input as a set of vectors with no sequential order. \n",
        "- Like we know the transformers doesnt contain any recurrent or convolutional layers, so this means no reccurence available in the transformers. \n",
        "\n",
        "Thats why we need the help of a **positional encoding** and its added to give the mdoel some information about the relatives position of the tokens in the sentence. It kinda filss up the void of reccurence. \n",
        "\n",
        "- The positional encoding vector is added to a embedding vector. \n",
        "- Since the embedding is a vector and after adding the **positional encoding the tokens will be closer to each  other bases on the similarity of their meaning and their position in the sentence, in the d-dimensional space**. \n",
        "\n",
        "\n",
        "So we use two formula's for calculating the positional encoding, \n",
        "- Cosine function : For every odd time step create a vector using the cosine function.\n",
        "- Sine function : For every even time step create a vector using the sine funciton. \n",
        "- Then add those vectors and we will get Positional Input Embeddings\n"
      ]
    },
    {
      "cell_type": "code",
      "metadata": {
        "id": "S0lFEm2eimTn"
      },
      "source": [
        "# Getting the angles \n",
        "\n",
        "def get_angles(pos , i , d_model):\n",
        "  angle_rates = 1 / np.power(1000 , (2 * (i // 2))) / np.float32(d_model) # 1 / 1000 (to the power 2i / d_model)\n",
        "  return pos * angle_rates  # here we multiply by pos to make it complete \n",
        "\n",
        "# Defining thhe whole positional encoding \n",
        "def positional_encoding(position , d_model):\n",
        "  angle_rads = get_angles(pos = np.arange(position)[: , np.newaxis] , \n",
        "                          i = np.arange(d_model)[np.newaxis, :], \n",
        "                          d_model = d_model)\n",
        "  \n",
        "  # Apply sine function to even indices in the array, 2i \n",
        "  angle_rads[: , 0::2] = np.sin(angle_rads[: , 0::2])\n",
        "  \n",
        "  # Apply cos to odd indices in the array, 2i+1 \n",
        "  angle_rads[: , 1::2] = np.cos(angle_rads[: , 1::2])\n",
        "\n",
        "  # Into one dedicated variable \n",
        "  pos_encoding = angle_rads[np.newaxis , ...]\n",
        "  \n",
        "  return tf.cast(pos_encoding , dtype = tf.float32)\n",
        "\n",
        "\n",
        "                 "
      ],
      "execution_count": 15,
      "outputs": []
    },
    {
      "cell_type": "code",
      "metadata": {
        "colab": {
          "base_uri": "https://localhost:8080/"
        },
        "id": "NZUVaCf8mHfi",
        "outputId": "5f4a5031-909b-48b8-c162-4f0991a28360"
      },
      "source": [
        "# Using the above function \n",
        "n , d = 2048 , 512 # position and dimension \n",
        "\n",
        "# Passing the arguments to our model \n",
        "pos_encoding  = positional_encoding(n , d)\n",
        "pos_encoding = pos_encoding[0]\n",
        "print(pos_encoding)\n"
      ],
      "execution_count": 16,
      "outputs": [
        {
          "output_type": "stream",
          "name": "stdout",
          "text": [
            "tf.Tensor(\n",
            "[[ 0.0000000e+00  1.0000000e+00  0.0000000e+00 ...            nan\n",
            "             nan            nan]\n",
            " [ 1.9531237e-03  9.9999809e-01  1.9531250e-09 ...            nan\n",
            "             nan            nan]\n",
            " [ 3.9062400e-03  9.9999237e-01  3.9062500e-09 ...            nan\n",
            "             nan            nan]\n",
            " ...\n",
            " [-7.5295961e-01 -6.5806675e-01  3.9941406e-06 ...            nan\n",
            "             nan            nan]\n",
            " [-7.5424343e-01 -6.5659487e-01  3.9960937e-06 ...            nan\n",
            "             nan            nan]\n",
            " [-7.5552440e-01 -6.5512049e-01  3.9980469e-06 ...            nan\n",
            "             nan            nan]], shape=(2048, 512), dtype=float32)\n"
          ]
        },
        {
          "output_type": "stream",
          "name": "stderr",
          "text": [
            "/usr/local/lib/python3.7/dist-packages/ipykernel_launcher.py:4: RuntimeWarning: divide by zero encountered in true_divide\n",
            "  after removing the cwd from sys.path.\n",
            "/usr/local/lib/python3.7/dist-packages/ipykernel_launcher.py:5: RuntimeWarning: invalid value encountered in multiply\n",
            "  \"\"\"\n",
            "/usr/local/lib/python3.7/dist-packages/ipykernel_launcher.py:14: RuntimeWarning: invalid value encountered in sin\n",
            "  \n",
            "/usr/local/lib/python3.7/dist-packages/ipykernel_launcher.py:17: RuntimeWarning: invalid value encountered in cos\n"
          ]
        }
      ]
    },
    {
      "cell_type": "code",
      "metadata": {
        "colab": {
          "base_uri": "https://localhost:8080/"
        },
        "id": "BdAQRIcPpqN-",
        "outputId": "619d085f-3c04-4e1c-8acd-fe366423d738"
      },
      "source": [
        "pos_encoding[0]"
      ],
      "execution_count": 17,
      "outputs": [
        {
          "output_type": "execute_result",
          "data": {
            "text/plain": [
              "<tf.Tensor: shape=(512,), dtype=float32, numpy=\n",
              "array([ 0.,  1.,  0.,  1.,  0.,  1.,  0.,  1.,  0.,  1.,  0.,  1., -0.,\n",
              "        1., -0.,  1.,  0.,  1., -0.,  1.,  0.,  1., nan, nan, nan, nan,\n",
              "       nan, nan, nan, nan, nan, nan, nan, nan, nan, nan, nan, nan, nan,\n",
              "       nan, nan, nan, nan, nan, nan, nan, nan, nan, nan, nan, nan, nan,\n",
              "       nan, nan, nan, nan, nan, nan, nan, nan, nan, nan, nan, nan, nan,\n",
              "       nan, nan, nan, nan, nan, nan, nan, nan, nan, nan, nan, nan, nan,\n",
              "       nan, nan, nan, nan, nan, nan, nan, nan, nan, nan, nan, nan, nan,\n",
              "       nan, nan, nan, nan, nan, nan, nan, nan, nan, nan, nan, nan, nan,\n",
              "       nan, nan, nan, nan, nan, nan, nan, nan, nan, nan, nan, nan, nan,\n",
              "       nan, nan, nan, nan, nan, nan, nan, nan, nan, nan, nan, nan, nan,\n",
              "       nan, nan, nan, nan, nan, nan, nan, nan, nan, nan, nan, nan, nan,\n",
              "       nan, nan, nan, nan, nan, nan, nan, nan, nan, nan, nan, nan, nan,\n",
              "       nan, nan, nan, nan, nan, nan, nan, nan, nan, nan, nan, nan, nan,\n",
              "       nan, nan, nan, nan, nan, nan, nan, nan, nan, nan, nan, nan, nan,\n",
              "       nan, nan, nan, nan, nan, nan, nan, nan, nan, nan, nan, nan, nan,\n",
              "       nan, nan, nan, nan, nan, nan, nan, nan, nan, nan, nan, nan, nan,\n",
              "       nan, nan, nan, nan, nan, nan, nan, nan, nan, nan, nan, nan, nan,\n",
              "       nan, nan, nan, nan, nan, nan, nan, nan, nan, nan, nan, nan, nan,\n",
              "       nan, nan, nan, nan, nan, nan, nan, nan, nan, nan, nan, nan, nan,\n",
              "       nan, nan, nan, nan, nan, nan, nan, nan, nan, nan, nan, nan, nan,\n",
              "       nan, nan, nan, nan, nan, nan, nan, nan, nan, nan, nan, nan, nan,\n",
              "       nan, nan, nan, nan, nan, nan, nan, nan, nan, nan, nan, nan, nan,\n",
              "       nan, nan, nan, nan, nan, nan, nan, nan, nan, nan, nan, nan, nan,\n",
              "       nan, nan, nan, nan, nan, nan, nan, nan, nan, nan, nan, nan, nan,\n",
              "       nan, nan, nan, nan, nan, nan, nan, nan, nan, nan, nan, nan, nan,\n",
              "       nan, nan, nan, nan, nan, nan, nan, nan, nan, nan, nan, nan, nan,\n",
              "       nan, nan, nan, nan, nan, nan, nan, nan, nan, nan, nan, nan, nan,\n",
              "       nan, nan, nan, nan, nan, nan, nan, nan, nan, nan, nan, nan, nan,\n",
              "       nan, nan, nan, nan, nan, nan, nan, nan, nan, nan, nan, nan, nan,\n",
              "       nan, nan, nan, nan, nan, nan, nan, nan, nan, nan, nan, nan, nan,\n",
              "       nan, nan, nan, nan, nan, nan, nan, nan, nan, nan, nan, nan, nan,\n",
              "       nan, nan, nan, nan, nan, nan, nan, nan, nan, nan, nan, nan, nan,\n",
              "       nan, nan, nan, nan, nan, nan, nan, nan, nan, nan, nan, nan, nan,\n",
              "       nan, nan, nan, nan, nan, nan, nan, nan, nan, nan, nan, nan, nan,\n",
              "       nan, nan, nan, nan, nan, nan, nan, nan, nan, nan, nan, nan, nan,\n",
              "       nan, nan, nan, nan, nan, nan, nan, nan, nan, nan, nan, nan, nan,\n",
              "       nan, nan, nan, nan, nan, nan, nan, nan, nan, nan, nan, nan, nan,\n",
              "       nan, nan, nan, nan, nan, nan, nan, nan, nan, nan, nan, nan, nan,\n",
              "       nan, nan, nan, nan, nan, nan, nan, nan, nan, nan, nan, nan, nan,\n",
              "       nan, nan, nan, nan, nan], dtype=float32)>"
            ]
          },
          "metadata": {},
          "execution_count": 17
        }
      ]
    },
    {
      "cell_type": "markdown",
      "metadata": {
        "id": "NYQv4VTJqBpt"
      },
      "source": [
        "#### Masking\n",
        "The mask indicates where pad value 0 is present: it outputs a 1 at those locations, and a 0 otherwise."
      ]
    },
    {
      "cell_type": "code",
      "metadata": {
        "id": "qhBgY3DBvnvw"
      },
      "source": [
        "# function to create padding \n",
        "def create_padding(seq):\n",
        "  seq = tf.cast(tf.math.equal(seq , 0) , tf.float32)\n",
        "\n",
        "  # Add extra dimensions to add the padding (so we can add padding to our attention scores)\n",
        "  # mask + attention scores \n",
        "  return seq[: , tf.newaxis , tf.newaxis , :] # (batch_size , 1 , 1 , seq_len)"
      ],
      "execution_count": 18,
      "outputs": []
    },
    {
      "cell_type": "code",
      "metadata": {
        "colab": {
          "base_uri": "https://localhost:8080/"
        },
        "id": "TdmO0PaZySW_",
        "outputId": "c1e33ed2-c61f-48ed-90e2-86e95916a94b"
      },
      "source": [
        "# Testing out the above function \n",
        "x = tf.constant([  [7 , 6 , 0 , 0 ,1] , [1 , 2 ,3 , 0 , 0] , [0 , 0 , 0 , 4 , 5] ])\n",
        "create_padding(x)"
      ],
      "execution_count": 19,
      "outputs": [
        {
          "output_type": "execute_result",
          "data": {
            "text/plain": [
              "<tf.Tensor: shape=(3, 1, 1, 5), dtype=float32, numpy=\n",
              "array([[[[0., 0., 1., 1., 0.]]],\n",
              "\n",
              "\n",
              "       [[[0., 0., 0., 1., 1.]]],\n",
              "\n",
              "\n",
              "       [[[1., 1., 1., 0., 0.]]]], dtype=float32)>"
            ]
          },
          "metadata": {},
          "execution_count": 19
        }
      ]
    },
    {
      "cell_type": "markdown",
      "metadata": {
        "id": "PVJCD9dPymSR"
      },
      "source": [
        "The look-ahead mask is used to mask the future token sequence. In other words, the mask indicates which entries should not be used.\n",
        "\n",
        "Zero attention scores for the token sequence\n",
        "\n"
      ]
    },
    {
      "cell_type": "code",
      "metadata": {
        "colab": {
          "base_uri": "https://localhost:8080/"
        },
        "id": "EiRdnDuB0iOS",
        "outputId": "27dfe091-f26c-4b3c-d92f-5c181dfb0746"
      },
      "source": [
        "# Creating the look ahead matrix \n",
        "def create_look_ahead_mask(size):\n",
        "  mask = 1 - tf.linalg.band_part(tf.ones(shape = (size , size)) , -1, 0)\n",
        "  return mask \n",
        "\n",
        "# Applying dummy tensors \n",
        "x = tf.random.uniform((1 , 3))\n",
        "temp = create_look_ahead_mask(x.shape[1])\n",
        "temp"
      ],
      "execution_count": 20,
      "outputs": [
        {
          "output_type": "execute_result",
          "data": {
            "text/plain": [
              "<tf.Tensor: shape=(3, 3), dtype=float32, numpy=\n",
              "array([[0., 1., 1.],\n",
              "       [0., 0., 1.],\n",
              "       [0., 0., 0.]], dtype=float32)>"
            ]
          },
          "metadata": {},
          "execution_count": 20
        }
      ]
    },
    {
      "cell_type": "markdown",
      "metadata": {
        "id": "wpadEj0u2ntv"
      },
      "source": [
        "### Scaled dot product attention \n",
        "Like we saw above the attention function used by the transformer takes namely three inputs, \n",
        "- Query (Q)\n",
        "- Key (K)\n",
        "- Value (V)\n",
        "\n",
        "The equation used to calculate the attention weights, \n",
        "\n",
        "`Attention(Q , K , V) = Softmax of [ (Query , key)T / square root of the depth of the keys  `\n",
        "\n",
        "Dont worry much if it take sense, will code every line out and eventually get that shit. \n"
      ]
    },
    {
      "cell_type": "markdown",
      "metadata": {
        "id": "DoWApYdaYZ-u"
      },
      "source": [
        "![Screenshot 2021-10-03 at 2.29.45 PM.png](data:image/png;base64,iVBORw0KGgoAAAANSUhEUgAAAiwAAAI5CAYAAACCbGHBAAABSWlDQ1BJQ0MgUHJvZmlsZQAAKJFjYGASSSwoyGFhYGDIzSspCnJ3UoiIjFJgf8rAxcDMwMogxiCYmFxc4BgQ4ANUwgCjUcG3awyMIPqyLsisH3byWkIbryT9fxv3tG/m3P+Y6lEAV0pqcTKQ/gPE6ckFRSUMDIwpQLZyeUkBiN0BZIsUAR0FZM8BsdMh7A0gdhKEfQSsJiTIGci+AWQLJGckAs1gfAFk6yQhiacjsaH2ggCvU2peoIJ7uJGJuakHAfeSDEpSK0pAtHN+QWVRZnpGiYIjMJRSFTzzkvV0FIwMjAwZGEBhDlH9OQgcloxi+xBi+UsYGCy+MTAwT0SIJU1hYNjexsAgcQshpjKPgYG/hYFh26GCxKJEuAMYv7EUpxkbQdg89gwMrHf///+swcDAPpGB4e/E//9/L/7//+9ioPm3GRgOVAIAm+1ijyzrPT4AAABWZVhJZk1NACoAAAAIAAGHaQAEAAAAAQAAABoAAAAAAAOShgAHAAAAEgAAAESgAgAEAAAAAQAAAiygAwAEAAAAAQAAAjkAAAAAQVNDSUkAAABTY3JlZW5zaG90FFyolQAAAdZpVFh0WE1MOmNvbS5hZG9iZS54bXAAAAAAADx4OnhtcG1ldGEgeG1sbnM6eD0iYWRvYmU6bnM6bWV0YS8iIHg6eG1wdGs9IlhNUCBDb3JlIDYuMC4wIj4KICAgPHJkZjpSREYgeG1sbnM6cmRmPSJodHRwOi8vd3d3LnczLm9yZy8xOTk5LzAyLzIyLXJkZi1zeW50YXgtbnMjIj4KICAgICAgPHJkZjpEZXNjcmlwdGlvbiByZGY6YWJvdXQ9IiIKICAgICAgICAgICAgeG1sbnM6ZXhpZj0iaHR0cDovL25zLmFkb2JlLmNvbS9leGlmLzEuMC8iPgogICAgICAgICA8ZXhpZjpQaXhlbFlEaW1lbnNpb24+NTY5PC9leGlmOlBpeGVsWURpbWVuc2lvbj4KICAgICAgICAgPGV4aWY6UGl4ZWxYRGltZW5zaW9uPjU1NjwvZXhpZjpQaXhlbFhEaW1lbnNpb24+CiAgICAgICAgIDxleGlmOlVzZXJDb21tZW50PlNjcmVlbnNob3Q8L2V4aWY6VXNlckNvbW1lbnQ+CiAgICAgIDwvcmRmOkRlc2NyaXB0aW9uPgogICA8L3JkZjpSREY+CjwveDp4bXBtZXRhPgqSEAirAABAAElEQVR4AeydB2BU15X+j4R6RwIh0XvvYDAuGINNXOPYcWI7juOUzSZbsi3by39btmSzJb1n7Y1TbGzHDVcwNpjeey8CSYgmQEJCFc3/fGe446dBvaDRm+/aw7x55b57f/dp7jfnnntuTECTMJEACZAACZAACZBABBOIjeCysWgkQAIkQAIkQAIkYAQoWPggkAAJkAAJkAAJRDwBCpaIbyIWkARIgARIgARIgIKFzwAJkAAJkAAJkEDEE6BgifgmYgFJgARIgARIgAQoWPgMkAAJkAAJkAAJRDwBCpaIbyIWkARIgARIgARIgIKFzwAJkAAJkAAJkEDEE6BgifgmYgFJgARIgARIgAQoWPgMkAAJkAAJkAAJRDwBCpaIbyIWkARIgARIgARIgIKFzwAJkAAJkAAJkEDEE6BgifgmYgFJgARIgARIgAQoWPgMkAAJkAAJkAAJRDwBCpaIbyIWkARIgARIgARIgIKFzwAJkAAJkAAJkEDEE6BgifgmYgFJgARIgARIgAQoWPgMkAAJkAAJkAAJRDwBCpaIbyIWkARIgARIgARIgIKFzwAJkAAJkAAJkEDEE6BgifgmYgFJgARIgARIgAQoWPgMkAAJkAAJkAAJRDwBCpaIbyIWkARIgARIgARIgIKFzwAJkAAJkAAJkEDEE6BgifgmYgFJgARIgARIgAQoWPgMkAAJkAAJkAAJRDwBCpaIbyIWkARIgARIgARIgIKFzwAJkAAJkAAJkEDEE6BgifgmYgFJgARIgARIgAQoWPgMkAAJkAAJkAAJRDwBCpaIbyIWkARIgARIgARIgIKFzwAJkAAJkAAJkEDEE6BgifgmYgFJgARIgARIgAQoWPgMkAAJkAAJkAAJRDwBCpaIbyIWkARIgARIgARIgIKFzwAJkAAJkAAJkEDEE6BgifgmYgFJgARIgARIgAQoWPgMkAAJkAAJkAAJRDwBCpaIbyIWkARIgARIgARIgIKFzwAJkAAJkAAJkEDEE6BgifgmYgFJgARIgARIgAQoWPgMkAAJkAAJkAAJRDwBCpaIbyIWkARIgARIgARIgIKFzwAJkAAJkAAJkEDEE6BgifgmYgFJgARIgARIgAQoWPgMkAAJkAAJkAAJRDwBCpaIbyIWkARIgARIgARIgIKFzwAJkAAJkAAJkEDEE6BgifgmYgFJgARIgARIgAQoWPgMkAAJkAAJkAAJRDwBCpaIbyIWkARIgARIgARIgIKFzwAJkAAJkAAJkEDEE6BgifgmYgFJgARIgARIgAQoWPgMkAAJkAAJkAAJRDwBCpaIbyIWkARIgARIgARIgIKFzwAJkAAJkAAJkEDEE6BgifgmYgFJgARIgARIgAQoWPgMkAAJkAAJkAAJRDwBCpaIbyIWkARIgARIgARIgIKFzwAJkAAJkAAJkEDEE6BgifgmYgFJgARIgARIgATiiCCyCdTW1sqGDRtkx44dkpycLDfccINMmjRJ+vTpI6dOnZKXX35ZvvzlL/dIJerq6mTVqlWydOlSeeyxx2TOnDndWo6CggL5zW9+IzExMfLHf/zHLd6rvr5eLl682OI5aWlpkpSU1OI5kXKwtfqASVZWlj0XkVLm8HLgWV6xYoU9s3/zN38jQ4YMCT+lV3/+2c9+Jh//+MetHXp1RTpQeHwXfOMb35Djx4/L//t//08GDRrUgVx4CQm0QiDAFLEE9Ms9MG7cuIA2YaNXSkpKYOHChQEVCIHs7OzrXn4VDYGPfOQjgdTU1FC5sK+70p/92Z8FJk6cGLqXdgqt3mr37t0B7RAD2pGHrgvniM8qAgMjRowIfP7znw8sWbIkcP78+Vbz7okTUJ+8vLwW6xIbGxvIzc0N3HPPPYHvfOc7gYqKip4o6jX3XLNmTeD+++8PqEAMlX/Xrl3XnNebd6COeJ6+/vWv9+ZqdLjs+Ntxf1+/9Vu/1eF8eCEJtESAQ0L6VxaJaevWrXL33XfLgQMH5I477pCNGzfKyZMn5Y033pD58+fbL1Xs0w5Wqqurr2sV8vPz5dFHH71uv5BnzpwpeLUnwQp14sQJ2b59eyMryqhRo+QnP/mJ/PSnP5V//Md/lMcff9z4/e///q988pOflP79+8vv//7vy+XLl9tzu24/F/UpKSmx9vfeDM/GM888I//1X/8lv/3bvy01NTV2zle+8hWZPHmyvPPOO97Te2S7b9++snjxYsnIyOiR+1+Pm373u9+12+Ad1rBoSyqmQ1WOi6PhPgSDG11LoCU1w2M9R+CWW26xXyyDBw8OVFZWNipIQ0ND4N/+7d9Cv2iOHDnS6Pj1+vDP//zPoTJ0p4UF9VGxFrpXWywsXgY33XRT6Nq/+qu/8h6ybe3kAz//+c8Do0ePDp2H7XXr1l1zbmd3bNu2LfCrX/2qU9ngmdBvAXv9+Mc/bpRXeXl54FOf+lToOKwumzdvbnROT31QQRUqV09bWP7yL/8ycOXKlS5BgWczPj4+VLdnn322Xfm29ky0drxdN+vkyS1xe+qppwL//d//HbFWyk5WnZdHAAFaWLpW/3VJbpcuXZL169dbXtOnTxcdAmqUL/wV9ItDPvvZz9p+WF56IsHScr0SfqV3NKWnp4cuTUxMDG27jYSEBHniiSfMV0jFje0+fPiw6LCXFBcXu9M6/a5iQh555BHRzrpTeXktFfBl8ibUFdajsWPH2m4Vt/K3f/u33lN6bLszbdiVhf7hD38o//7v/95llhAVjQIfDpe++c1vus1W31t7Jlo73uoNuvCE1rjh+wi+ZZHSzl1YdWYVIQQoWCKkIbzFgDOtMytjaKi54Yl/+Zd/Ef0FbUNF3uu53ZgABF5bkvoD2XCKcxhEZ/F7v/d7bbm01XP0x4k8+eSTcvDgwVbPbe2E1uoD52wMFbmkFha3GfXvcGD/wz/8wy7jAKHyox/9SIYOHRoaesSPDdyntdTaM9Ha8dby78rjXc2tK8vGvKKHAAVLBLb1wIEDQ6WC9eRLX/qSqPk6tM9t4LyHH364xZkh8G+Br4s6xQk6Lh1ecpc3+Q4v/2XLlsmvf/1ref/99xv9cmzygjbsPH36tPlSoAyY6dOWBF+MDz74QF566SWBteN6pczMTPn2t78dut0rr7wir776auhz+MaZM2fk7bffltdff13Onj0bftg+w8rxJ3/yJzY7BjsgQEtLS+2FY92RnOhy90Pn5xIE8erVq+0j7v/ee+9Zm7vj3nd0yJihhrbToYkmn0Pv+d7twsJCefHFF60dm3vuLly4EGIBJl5LBWZ5OU7u3Zt/+Dbu99prr8mbb75ps1XCj+/du1cefPBBwWwlJJenOieHn9rmz6gffIv+/u//3qxn7sLWrCytPROtHXf3ce/gtnPnTmsntCf+fppLOBe+Tag/Ej6vXbvWns+ioqJrLmsPN/ytY+ZgSwn3a88z1d7ytnRvHuvlBPSLjCkCCXj9LvQRC9x5553mx9HWomKGCGbXYGxdh0EC6kxqY+yYYaTOpgH4bXiTWnICt912m50zYcKEgA732LZOlQ0055+iQw92DsrX1DmHDh2y2UQ47n3Nnj07oCLEe/vQtgqsAGYZ6HRjew0fPtxm+jzwwAOhPNrrw3LXXXeFrv2Hf/iH0L2a21DrVmDAgAGha3Ta+DWnqqgL+bzgXHU0tPPVqTegDrCN/CM+/elPh/LycsC2Ovtek3drO9QBN5SfTqVt8nQ1z4fOwbOjIinwwgsvBD72sY9ZWTFrR4VsQIVN6Dz4H7ik1qXAF7/4RXt2MLsHzwHKi5lhmIWkliJ36jXvK1euDIADzoe/Da4Ho/Hjx4fu5XxY1Bm30Uyuv/7rvw7lB18cd1/kpUN3oWPeDRW2gSlTplje3raYN29eyH9HO/MAnn3kE/5S64g3u3Zt33zzzTZTD3w3bdoUyhvPgwqoZvNq7Zlo7bjLGH443/ve9xpxQv0w+02Hvdxp9veuwtv+tnJycqycKlLsWh1GDJUbPk94fl1qCzc8K//3f/8XQFvqEGVg0aJF7vJG7+15pvD91JHyNrohP/iOgPiuRj6pEL6E8QXt/XJV34XAt771rQA61JYSpubCaRRfHv/zP/8TgAhA8jo9qlk8lAWEhesYcD4S7qEzTez++PJtSmC0JFgwDRcdxK233hrQX1MB/bUceO655+yLFHXSce5rBNi5c+cCc+fOtXv+wR/8Qajcag0I9OvXL8SiuwUL6g/R5NijU/ImjTNhnSw6Zf31aYfUUhD4nd/5ndA1EFjOqVNnKwU0Xk7omM5MCuzbt89eVVVV3qzbtN2aYMH9XHuiDv/xH/8R0BlDjRxDZ8yYYUy9nZWbjnr06FGb6o1r/+7v/i70vKEdvMIXz2h4ggCDSIbghQhGQmfu5Yl8nWDBcbVohdioDwR2hZL6c4XEc1OCBX8PmLqus8hCIgrlh0jHfVA/tRpaGcBch8pC99IZZNYG4NWRhPrhHl/96ldDl7vnF/v/4i/+IrQ/fKO1Z6K14y6/z3zmM/Y98f3vfz+Avx/UHYIS98cLTrJI2K+zDu1HgDuGZwBMsR8/Itx+iBawQkLbtcQN90T4APzAcNc3JVja+0x1tLxWaP7jWwIULBHctGpubvJXIb6c8WuuueSsEeiovGn//v2hLxUdTgod+trXvhba751R4r6Q8UXk/dXlLmxOsEAg4RcvOk0dJnGn2zu+3N0XGzp4b4IlA8dgEQlPOkQVuu56CBbvLCwdJgoVB79K0UGinF5WOEHN+AEdoguVE1xdgmhz9W5qppI7ry3vLQkWiAh11A7dS4dAAjoEYtmi7K4MeIc1A8IUVho8M1u2bLHznEXqvvvuu6Y4OMdZkxDzRYcVQufocF9IKKgfR2g/NnAfb7m9gsXLJlyw4Nrbb7/dyh0uWHAPiCNYVSBsvEmn3Yfq6p1JBR6OQbiV0Xt9W7YRuwfPgneWnk4xD+WPGEnhM/y8+Xrr3dQz0drxX/7yl3YvDcLnzTagw5ShHwZg5rX0/Omf/mmofPgO8M6EU+fs0DFYYb2pNW7esjYlWDr6THW0vN6yc9s/BOjDot9ekZoeeugh8xtQ03ajIqqQEP0lJzq80Wg/PsCXAn4XapGweCLeEzQIneiXrDnqwvfFJe14bFO//MUbT0FN+O4Ui6ob+tDKBvwdMBMGM270T8V8O+DfgdeNN94Yuvqtt94KbauYstkt2PFHf/RHof1uA3E8rmcCP5fKysoELyQ4bKJO4D9r1ix3ir3DGRZRPl1Sa1W3x8jRAHEWZVg7BJsZpBYtiz2DMiD6MNoC7YqEGWcujRw5UnRauvk/4ZlAxGTEukGcH9cuTTkc45yPfvSjlg38dxDd1SVEr4XvBNoYfLwJs5k02KF3V2i7qZlboYO6ET4Tyh1DvBz4N6gIFkQt9ibMooMTtYoZ0aFO76Eu2Yb/B/y8wB0sXUIsH/f3hBhJOl3eHeryd7V+WZ4og/v7wjuSikN7d9GF7YP+4y0rnh3v36NaZtxpcuzYsdB2WzYQ86e5durMM9Vd5W1LnXhO5BGgYIm8NmlUIkxP1SiaomPEJkLcQTjlIfBZeFh+OIAioWPBbJHwhA4G06bVlB46hA4LXyo6jBMKqY1zvJ1RexwT4ayLhDzx5e19feITn7Bj+AdfinC6RNJfi6GZURqDxvZ5/wmf2u091h3bTqAgb3BU3w1zWHYzbrxiznt/tSzZ8gnYh06tNQdE77Ud2YZogFMkpl/D0RZCFA6gasYXjfciag0JZesVBujQMMMsPLm2w/7m6viFL3whdBmcopEgVDT+iG031X440JVtCLZq7Wn2ftOmTTNnWHBxU7zt5C76B38bOpx3zSwytWiI+v6E7oK/Mwjcrk5wMNZhE8sWItX7N4Zt95ziBMcJ297nIVxgTJ06FadYwt9/exKepfD83PUdfaZwfXeV15WN772LwIffZr2r3FFVWvxy17FqwS8gxDn4xS9+Eao/plTilyt+2SFhrRYkdXa096b+Ce848EWDqLpIsHTgSxYCwvsF1lQ+ze3TYQk7pH4o8ru/+7vNnWb73S9jdLpIOoxk4sA+9OA/3tg2sBThixOWLdf5OKtFU0VEZ6lDdnbIdSpNnef2wUoAawFEaFNJfSFEfZKaOmRWEgjOrkoQrS41V0fUzyVXP0zXdjPZWnr23HWdfcdMGNcWzd0P4qE7EtrpBz/4gWWNWUKwTnkTxIRL+HvCjwhYQboyub8xCIU9e/bY+lrN5Y+Zb21JzQmOtlzb0jkdfaZayhPHuqu8rd2Xx3uOAAVLz7Fv950xTIEw7MOGDRPEYHFJnVlDgkWd9Ww3plq2J+GXKKbePv/88xYwDbEkYI5tykrTWr6YNouEDgzDUG1JsAggofOOhISp3S6pD4VtejuilgLKeTtQ/ApvLaljoyD4WHMJ8VuaEyzNXdPR/eF19E6Pdnli2BCdBdrX1c+1H865Hm3onnPcD8/69VxIEYt9Yno+lnF49913UYRrEoS4s0piaLCrBYv7G4N4wveCdwjzmsL08I6OPlM9XGzePgIJULBEYKNg3F2noApMvU0ldeYUxEvAMBESvjTReaATwa8pmHPxqwu/QGGdaS2hs1mwYIFgeAHj4v/0T/9klyCGS0cSIl2iDC7WR1vycJ0c4nVg7B/+Bz2VwA4+OC7ptGDb9Eb29XaY7jz37rVg6aKNbnez71gx2uv7En4igpJdr4Q6ul/EqGNTK3DjOcPwEoSWq59rP5SzJTZdVQ+v1QDlbaqcXXWv8HwQpwfWGzwnEC1NJfyIwHpbSIh5AguiY9XU+e3d540mi78zna7e3iyu2/kdfaauWwF5o15DILbXlDSKCoo/8JY6MKBwX4bYRsehszCwKbrysL2j04C5urmE/BEIDAmL5kGs4Fcq/GI6m5yjnM4caDR+Hp4vFuzDEBeSKze2vWPe+Hw9E36xev2CMNziOsMxY8aE/D7QAXl/OXrL6B1Ogk9LawmdP7g397qegsVrEXP+UOHlh38PnjkkV7/r3X7e+yFImxseCi8rgg7CcthVCYtp4geCzqpqVqzgXnCY9waA9PqMdUVZ3N8Y8vL6moXnDfGPNkVAt55KHX2meqq8vG/kEqBgicC2gfkfnTZ+pTWXvEM18DVxDpVu+ALXYaYEIteGJ/i96JRkQQeMzgdRLpFgGfBaZBCa3qXm/Cvcce+718dBpyCbGPIexzZ+dWJWyWd1/REk74ybpqKEOkGGc9tr+Wlr2WElwMwYZxnCF6036i1+TTvTPjpIry8RyuWS81/B7BTXaXm5egWNu6Y9714Wba1bW/OHr5RLGB5sirWrH87DTCQkWA9gKUKCdcr5UtmOq/94y+3N1+trolOEvZfYthveRF1dfTVuiGDdJCTc71//9V9t2/uPxggx4eAd1upsO3zjG9+wW3gda733dNvw/0GEapcwlIvyeFNrZWnpOHg7HyMMUWkIA2/Wto3hOg2+Z6t2w2rbmdRSWVrLt6PPVGv58ngUEtAvXqYII4BgT/ooWiyF8HgWrqjq12Dn4DwX7A3H9Ms9FAsDxxDoS6cvWlRTneIacBE0EZkSSQWLBZjDuXipM6PtVwtNo2BfLiaHTpu04/jnu9/9bqgM3hVqdfZPoyBliAuivwIDyBMB6BDvQb9sA5/73OdCeeGYOraG8kM8Du2cQsd1CnfoGAJV6S/G0LHWNm644YbQtd4gX+467UgDOpU3gABxjgPugSif4QlxK1B2nIcovN44JDjXxa5BXXSoInS5ipRQ3irobL8KpIA6b4YCs4VObmUDcUdcOb3RTFu5zALxueuaipXhrkdbu/Oair+j05rtuIoVd4m9ewMTIsaHDpmEjqvPTwD7XL5f//rXQ4H1cJJaFe0YuGF1YiTEMPHG4cC14OsSggu6/PCujucWHRV/MypgAmqFCKjobBTV2VtGF50ZEX8RFK+1hFgjOhxmQQ+9z2Zz1+HvwFu+8EByrT0TrR33BuNDsDc82zorzWIf6Qw9CwanP0JCwQ1RTm+QPld/V378bbvy6sKfbre9t8YNz7K7FlG6w1NHn6mOljf8/vzsDwIwpTJFGAFvQDZ0jviiUz8T++JFVFr95Rb6crj33nsbdeyoCgJK6S+i0Dnui8S9qxWhUY290TlxnQurrjEaAgiahuvwhYgQ5i5oG4JuIbx7c3nq1NrQMXeO9x0RR8MDd0F4ec/R6agBtcBYtFyEhPceQzlxj9aSDms0EmToGNVhOfCf//mfgT//8z8PQPh5O1J8wevMpgAi1zaX1EIVyhNfzgjIh4Rgfupwa1E/0YbepD5Gje6jFiXrUPBFjmNtSTjPG5gMPBCMDZFc25IQmt8xRNRkneHT5GWoOwL/4Vy0OwKvQTwgtLoL/AdxFy4a1RE0gDZz9wBLtUgFEI0VQdTcfveOZwuCGQni1e3HO0QdjkNwI1qyO6bWmIDG6bFr1E8qAI7uWPg7QtC7trEL9B8IRHceyqdDNwGch+UEWkqI6OqiwSKqK/4OW0v4m3X3wjvKjojHEMhIrT0TrR1Hu+Nv0nsP7za+O3RdpVAxIbIg6tw5WHrBPXs45v0BAvaos0utcdPYT6F8EV0YP5y8qSPPVGfK6703t/1DgIIlAttSh4Psjx+RXxE2G1/a7kvGveNLAZ2ui2IaXg18geDXpTsf7xqfIfD000+Hn2piSGcehc5FhFpYNPDFik7d5YHOUWdHBNQs3mQHhM7a+6sNnTYsFe56vOOLEFYBNVdfUw7seOqpp0Jh4d11OnQV0NViLR/cA7+63a/wJjPRnegs0CG5PJp6xxo3CE+OL3FYfSAGsIRAW5LGxrEIrO4eeEeHpDFIbCmCpvLQIGIhoYNf6ljXpzkO4dejPt7w5+H1QafbXFRV/PqFNSj8GnRoECZONHjviXJBKMNKgetQN1g/IO684fq912BbncEDiDKL+rn7odywmGFtK+zHr3ewgAByCdteqyGuhRUIVgr8HegQaOCRRx4JwJLnFZOwCuC41zoHMQshoj5GLvvQO0QOIkW7sumMp4AumBg63tQGQvh783fXhluYvNfib8WdF/4OEe5Sa89Ea8chEhGKH+3jvY+GOghFLsa9cJ73b9ydCyEJTviecfvcO+qM9XyQmuOGKL9YIyr8BxLaC2tBeVN7nqnOltd7X277h0AMqqIPKFMEEYDvCHw8vNFoMSsIcUAwVRJBvxDUy/mtNFd0/YViwaXgxwLHTfjG6BdLk6cjIiZWe0VcB0RExbtL2lmaLwN8U7z73fHW3g8cOGAzRzAdW603rcZP0F99NgMDUTsxVg8nZDymWHUaDrDN1aG1cnTHcfhlwLkYZQaf1toE/ivgoULJYs50R5m6Ok84bGJGDAKweadst3QfXIPYLPBrwfOk4kjUKmGz2BDYrLkEZ2b4rLh2x3lwnMU1ahVq7jLBys7givaAI3BL5+JZR5tpJ2+xhnr6eWrtmWjtOKBgdh2CxYGzLl4q3llEzUJr54Gu5NaRZ6qdxeXpPiRAweLDRmWVSIAESIAESMBvBD78Ge23mrE+JEACJEACJEACviFAweKbpmRFSIAESIAESMC/BChY/Nu2rBkJkAAJkAAJ+IYABYtvmpIVIQESIAESIAH/EqBg8W/bsmYkQAIkQAIk4BsCFCy+aUpWhARIgARIgAT8S4CCxb9ty5qRAAmQAAmQgG8IULD4pilZERIgARIgARLwLwEKFv+2LWtGAiRAAiRAAr4hQMHim6ZkRUiABEiABEjAvwQoWPzbtqwZCZAACZAACfiGAAWLb5qSFSEBEiABEiAB/xKgYPFv27JmJEACJEACJOAbAhQsvmlKVoQESIAESIAE/EuAgsW/bcuakQAJkAAJkIBvCFCw+KYpWRESIAESIAES8C8BChb/ti1rRgIkQAIkQAK+IUDB4pumZEVIgARIgARIwL8EKFj827asGQmQAAmQAAn4hgAFi2+akhUhARIgARIgAf8SoGDxb9uyZiRAAiRAAiTgGwIULL5pSlaEBEiABEiABPxLgILFv23LmpEACZAACZCAbwhQsPimKVkREiABEiABEvAvAQoW/7Yta0YCJEACJEACviFAweKbpmRFSIAESIAESMC/BChY/Nu2rBkJkAAJkAAJ+IYABYtvmpIVIQESIAESIAH/EqBg8W/bsmYkQAIkQAIk4BsCFCy+aUpWhARIgARIgAT8S4CCxb9ty5qRAAmQAAmQgG8IULD4pilZERIgARIgARLwLwEKFv+2LWtGAiRAAiRAAr4hQMHim6ZkRUiABEiABEjAvwQoWPzbtqwZCZAACZAACfiGAAWLb5qSFSEBEiABEiAB/xKgYPFv27JmJEACJEACJOAbAhQsvmlKVoQESIAESIAE/EuAgsW/bcuakQAJkAAJkIBvCFCw+KYpWRESIAESIAES8C8BChb/ti1rRgIkQAIkQAK+IRDnm5qwIiRAAr2aQENDg5X/9ddfl8LCQrnzzjtl1KhREhMTY69eXTkWngRIoNMEKFg6jZAZkAAJdJZAIBAwUVJZWSmrV6+WDRs2yPDhw2XkyJEUK52Fy+tJwCcEOCTkk4ZkNUigNxOAYMHr4MGDsnPnTtm2bZu9X7p0yaqFY0wkQALRTYCCJbrbn7UngYgggGGfK1euyLp162T//v0CoQIry9GjR03IREQhWQgSIIEeJUDB0qP4eXMSIAHnu3Lq1CnZvHmzlJSUGBRnZamtrSUkEiABEhAKFj4EJEACPU4AomXTpk2yY8cOqaurk9jYWDl58qRs3LgxJGA4LNTjzcQCkECPEqBg6VH8vDkJRDcBiBAMB2EIaP369aEhIOyvr6+3YaG9e/eKs8JENy3WngSimwAFS3S3P2tPAj1KwFlN4LeCIaBwJ1s44W7dulXKysqsnO78Hi00b04CJNAjBChYegQ7b0oCJAACsK5gCAgOthAnLjlhgmnOsLwcPnyYzrcODt9JIEoJULBEacOz2iTQ0wScKCkqKjJn2/Pnz0tc3IehobCdkJBg05vh21JTU9PTReb9SYAEepAABUsPwuetSSDaCcBPZe3atXLs2DGZNm2ajBkzRuLj4w1Lv379ZObMmZKamipbtmyx6LcQOU7oRDs71p8Eoo3Ahz9noq3mrC8JkECPEXCiA0M+Z8+elTlz5sjtt98uS5cuNfGCqcwDBw6UT3/60+Z8e+TIEZstNHr06B4rM29MAiTQswQoWHqWP+9OAlFP4Oabb5bc3FwZMmSIWVsckD59+ggECsTMoUOHJDs72w7B74WJBEgg+ghQsERfm7PGJNDjBJzoyMjIkNmzZ5vzLawq3unLbvgnPT1dZs2aZWV21/V4BVgAEiCB606APizXHTlvSAIk4AggQJwTJrCo4LNLECfuM4QMPlOwODp8J4HoI0ALS/S1OWtMAhFFAKIEQgRrCTWVnGihWGmKDveRQPQQ+PDnTPTUmTUlARLoRQScg24vKjKLSgIk0A0EKFi6ASqzJAESIAESIAES6FoCFCxdy5O5kQAJkAAJkAAJdAMBCpZugMosSYAESIAESIAEupYABUvX8mRuJEACJEACJEAC3UCAgqUboDJLEiABEiABEiCBriVAwdK1PJkbCZAACZAACZBANxBgHJZugMosSaArCfh9Wq8LHOfew9m5/S4eS/hxv3xmnBm/tCTr0V0EKFi6iyzzJYFOEnAdtcsGn6MtuTrj3Ru2308cnFBBHbHtPvupjqwLCXQFAQqWrqDIPEigiwmg83IvdGCIAosOG/v8mlz9vJ026l1XV+fXKlu9YDnCsgRIaF8X+dd28B8SIIEQAQqWEApukEBkEECnhc4bHXVZWZmcO3fOXlVVVb4VLE6UFRYWWoeNTruiokJ2795tFgfw8KvlITExUfr27Sv9+/eXnJwcSUpKsnb2a30j46+MpeiNBGL0y9G/P9l6Y4uwzFFNAH+OeKGz3rNnj6xcuVK2b98hp0+fkurqal+zQb1LSkrk7NmzZlFKTU2VwYMHS1pamgk4v3bg8fHxJlQmTJggCxYssNWrs7KyODzk66edlesIAQqWjlDjNSTQTQTQaVdWVsqKFSvkmWeeMcFy/vx57bywQGA33TSCsnWCzStOvNsRVNQuK4o2uaaAQKBNmzZNnnzySbn//vtNxPjd0bjLIDKjqCDAIaGoaGZWsjcQQGcNn40NGzbI97//fVm1apXU19dLXFycJCYmSXx8Qm+oRifKiPo3hJxrIVT69IFQ83f0hfr6OqmtrVGhelnWrFkj5eXl2t6JJloyMjI6wZOXkoC/CFCw+Ks9WZteSgBiBenUqVPy/PPPW8cFH5a4uHjJGzBQxo2drH4O/a7WjqO4V0H06jc0eayKsYrKS3Lk6D45UXjMhMuuXbtkyZIlMmzYMLnlllt6dR1ZeBLoSgIULF1Jk3mRQAcJQLDAorB161bZsmWLwMEWaejgEfLgA5+WG+cukLTUdJEoGBbqIMLed5npzhgTKbv3bJYXXvq57Nq9Ra7of5s2bZJnn32WgqX3tSpL3I0EKFi6ES6zJoG2EoBYgWg5fPiwFBcX22VJScly260fkbsXPyQZGdk6PKTTe02wULW0lWvEn6dtHhvbRwbk5utQ0EU5WVIoJaeKbFYYLG3f/e53I74KLCAJXC8CFCzXizTvQwItEIBggf/KpUuX1LpSbeIlO7ufjB0zSf0ZknV/Ga0rLfDrrYcgPdHuqWo9Q1vn5w1W0VJkvkuYLcVEAiTwIQEKlg9ZcIsEeoSAGw5CrBF0XpgxgpSakmbOl9iG4y1EzfVIzp+mPffryDVtqUtH8u3INeFlQR7tqX/49e35DAsL7hcfnygJCYl6abD9r9f921NWnksCPUmAgqUn6fPeJOAhgA7K20mFOl4dB3LbntO7bdPdC+/e8rR0Q3dNS+e0dqyp+7l8mzrWXH7umuaOt2V/V+TRlvsEz3Eh+fEpKFYUvbZ5Q9uz4JkkEAUEKFiioJFZxd5BAJ3k9e0om+ISo9acPipUYnV6cXA5gKbO8u6DqOnTJ/hVgms6UgeteZNDXsgXsUhgfULebUmYWYXU0bIE6xO0euC+TCRAApFBgIIlMtqBpSCBCCAQY518RWWZzlyplZSUVElS/5mWEkap6upqpfJyhVljMIzlxEtL13mPQeBAlOAVaNBlCZxlQfdXVJRLdU2VlSM5OaVViw9EyqWKMhtaS9GyJLQzdg3ECoblcF/UA47PTCRAApFBgIIlMtqBpSCBHiUA0YAF+CBWlq94Vfbt3ynzbrxd5s29XZJVtARFRLgPDYYy4mTfwc2y6oN3JDMjS+5Y+FEZlD9M6q/UtyouXIUhVKqqKqVcHYvhfJqamqaHYmxW1NoNK2TTljUycfxUuX3+3ZKVlWOCInyoCuWHZeVE0VF5972luoxBpdy56AEZO3qyWWfcvVp6dwzKyi/Ie6tel9z++TJn1nzLF8eYSIAEepaAv0NI9ixb3p0EehUBBDGDNWP7zk3y1rKXZOUHb+n02lMSY06h4VUJTsetqqqQdetXyOtvPS+bt67RxRqDywi4s9HRN/VyxzHkAksGhMZrbz4rBw/vDrpxqD7AsX0HdsiK95fKshWvyPHCIypjwkWTy0mtQ4ErWvYN8raWffXa5XL6THB6uPf+7mzvu/e4Mai+LNt2rJfDGsztilpsmr+nNxdukwAJdDcBCpbuJsz8SaDXEFCLif7XR31YsvvmSPHJ43L02AEbJmrKogGhUXDiiEVoTUlJkaRkDJ+ooDBNERQquA6Wj0Sd/YJXnC70FxPrnIhhoRGdHROn07Yvyv4DO+X8hbN6fnBGFI7hWkzvLj1/Vg4e2i1VKiZgkXHOqUALwYFrIK5wDiL5Z2Rkat4ffr3hnuF1wLVI2B9cq0nLdfUzyopFCSlWDBH/IYGIIPDhX3REFIeFIAES6FkC6kOiPhwjR46VZBUgBw/v0aGai0H/Es+wCDr4Kzrss2v3JhMIY8ZM1Cm5CWaRQPnR8WOICa8atdqcO39GSlWMVENwxOh+tdoEE8QCpvTGmc9Mgk7tdeJBN6RO19jB0gS5uXlytOCAnDlXYnl6imLZQMTsU8GD4ZwxoydIWnqGlQ+CA/oJlhO8rk3BGTqxYYLGWV2uPZ97SIAEeooAfVh6ijzvSwKRRkB7dlgb0FkPVD8ULMBXWHRMiooLpO9V3xEUOWjRiJez507KAbVoDBo4XEVEjJ5bgKM4xQROVdVlPb5L9uzbLidPnjChkZ3dXyZPnCnjx02V9LQMs6hs27FONm7+QM8plC3b1tmyBKNGjJfBg4aaAEpPz5QRw8foejsHzOIzdPBIvQNkSDAhjgl8YHbv2SqZ6VmSP3CIbWNICUKkurpWjh46aA60gweNUAuSfu1pHa0eaiWCmCosPKqiKF+GWN6oRbAe7h58JwES6HkCTf3k6PlSsQQkQAI9QwDjMCoGMBQDYYEFGGFlqdWZQF4LBSwaGMJBOPnx46ZIRnpfi86Ka2M1j9rqKlm15i35zSs/t+shDup0aQFc89wLP5V16kyL2UVY+G/Dpg/U/2WtnDl7Snbu2izL331NhclBFSsNJqAadAXnCSpw4JB74OBunQWEGTw6o8iJDhUgJ4p0aEr9YEaOHK9h7geadQUA4X+DYaQVK5fKhi2rpLa+JijKIEn0egxRFauYevXN50xcBQVbz6DnXUmABFomQAtLy3x4lASikgDWLRqtnf/O3Zvl8JG9cl6tEHm5g010OIvGTl2oL02tJGNGT5LS0jNmtYBtAmJn38GdKhJel2FDR8l9dz+iImKwCoQGDTt/Qn757A9lrTrqjhszWfr3y9e1ku5XP5Us+WDNCpk1Y57MnD5Pzx9ifimAX19fr8NCg2XMqAmye+9WFRgFOmtohs0WgkBCvjv36KKBOkSFVa3h+BuMnxIcDsIMpwsXSyVeh6wCEEGeFoVviw1ZqVi6fLlSj+EorSseRNwkgYghQAtLxDQFC0ICkUPgioqEzMxsFQbT5VzpaTlWcBA2iaBVAhYNnbGD4aKROnSTlzsoKB6uWmca1HJRdPK45OTkyt0f+bhMHDfNlhlIS82QGVPnyNw5880yU3KqWDDcM3vmjSpS5ki//gNk8qTpsnDB3TJi+GgdzkHwNuigBo2nkihTJs2ylY0PqYCCdQa3Q5C7UhVTBw7sknwVNcOGjLYyOsmBd/jEwIEWQso53oZEi56A4ziG+zGRAAlELgEKlshtG5aMBHqMQLDDjzFfkz6xcTpcskcuq58InGhhvdizb5tZNMarRSMlOdX2mYOrqograp2B0PnovY+pBWWgWjcuqPWiwl6l58/JhQulGpjtkjrU1kq9Djmdv1Cp51xSS0e1Os2Wy5kzZ6SyssKECoQFRAbiuowYPlYtMf3V4rNPzz9nAgMiAwIGomWMLh6Y3be/lis4lBSCp6oHweDM6uKUTOhg0GcH05cZCj8EhRskEJEEOCQUkc3CQpFAzxKASIAVY/jQ0baK8BGNSQLH1MkTZ5m/CJxjhwwZacNB8AUJpaubw4eNsWixJ04cFlhSTp46LhfLSjWPAik4ftQW+YvB9GSzksTZ8A98ZOLUCTZeo9NaxNuG+mC2ECxq8clRsTJj2lx5b+UbJlJy1Vfl8uVyWbtuhVpw0s0CA0tKU8LDWVZcOT0ltl0hi4s7ge8kQAIRR4AWlohrEhaIBHqegGoEDcSm043jEmS0+o7Az+O4xlxBcLaC44fU2lIho0aM05k+mUHrSqjH12nCKkSOq1B54aWn5dXXg8Hg4vsk6vkT5VOPfEnuvfthnc2D6zQoG24UlsyP5NrdJmJGDR9vwzcFxw+ahabkdLHOViqR4cNGS7/sAZ6hqbBMm/2IYa4Geq00y4cHSCByCNDCEjltwZKQQEQRgGaAw+rYMVMkJfV1tWrskVnn5tk0ZawZNG7slKA1REUMTCXwcYm18P7l8vbyl6RIpzkjVP+kCTNM2GA4KSsrWy6qA+yWLWsbDdHgXtAusNbY8EwYCRsWUisLrDr5eUM0Cu1+OX22WJcQ2CE1Gqtl4oTp5gCMYZ8mtE4oNzezSG9k98LnuvpajT2j1hwtQLjlJXQhN0iABHqcAC0sPd4ELAAJRAgB11tbj692Du3AMVuof78BOkNnogqEEp2O/F5w+rA620I4YGaOjeugCno9Is7C4nHo0D6bybNowX0yVEVGugZyg68L/FQwRFSl057h6GoqJXipbUPUII/gFGotiJYB5UCRIGRSktNUAE1XH5dLOhV6tezas1lnEA0S+Leo9oDiCZ5/9TrdoyIKX3M61VqFDQQYnGxxbtAf54r6zJzU6dXlV++pB+x+BgGXM5EACUQIAQqWCGkIFoMEIoIAOn1LwQ4bFoi42HjzD8EQzqtLn7UgbRPGT9PItGkWK8XUBE53fbzmgTgtWJcIwgJCAT4osIRgbaC9+7drMLcqExamcvRSOM9CHMGxF/FagvuDofutOFezRxnGq8UnS2cwvbP8FZ2tdNQcfOFsi2MQG6iCKw4sLklJKWp9SZfi4gKN9VJiM4awijNeBTp0tXvvNi1rjQWUQ31dNYK5hIC4YvCdBEighwhwSKiHwPO2JBBxBK721Aj8pv9fHR7BDJ06gQUD05c3b1knd+pQ0Ej9jGSXaJ+Od1guIEz6D86XUSPHydbt6yzcPmYMwUqCxQvhe5Ku4iEtLU0XGFyncVpGWnRZCJCkhBRZtXqZWjxO6TTnmzQOzDizeuBaS/qOWUW5alGBxWfL1nXmXzMeQ1Pqa1NXVxM8z/MvREySrjaNIHj7derzK0t/ZdO001MzLYz/3v1b1QIjai0apFdBnOgLb3ov3PXqHt1iIgES6GkCFCw93QK8PwlEAAFoAlgXEFxt9MgJkpiUbBYIdNno9BFDZdaMm3VWzmW5YdatFqofaw45cwRC+dfW1NqwD2bs3LnwAbOUrN+4UjZsXKWzguJ1baIUneVzo0yZPMui28J59/TpkyoWhupSAENl0e33ypp176lfyi4ZrOH+IVgglDI03D6sOTqaEyyjipMpk2/QJQNOaBwYFVIafyU4M0hXbFaLSo5aWyCSsrNz7XzUa/bMmy143PoNK+VXz/1EF2JMsrWSJk6YJlOnzNEIujv1Ppl2foIuSQBBNEAFWnBoCrKFiQRIoKcJxOgfM/8ae7oVeP+oJoA/QVgRajUuyde+9jX5zne+o4HVym0Rv9/70l/KnFm3WRySkKWhm2hBtCAcfsWlcisPQuFjaCdYvlizYGB9oCQVM+jw4WSLhHLZUI5aPyBKMNSC6y5qxFms9oyQ+1gYcdDAYRb5Fr4sZRrSH2H90/QeuA/8SRArBYsXIuIs1hnCMA62sR+CBb4tjhX2Iaw/8k3WIZ8Pk0aura3SIadq3a+iS1ddxjW4Fv4zsPKcKDxmvjdYO8jEmdbl/IUzVvb0tCy7X+XlSzbFGvUJqbIPb9KlWxBbCVqGI0f3ynd+8C/qJ7RSy4xbBB2Du/RmzIwEejEBWlh6ceOx6CTQlQTQSWIl5X45A0yMwKfECQR0qhhagaUFQdyCzrbBu+McTG+GSME1EBPIK0ctHAP6D7wqbDDEgtguNfqqk8yMvjoNOdfWKMI1sIxAVOTnDdaVnON0P86r1VlFOSaIMBQUdJgNDtQg3kpu/zy7F67/MAXMyoPyoIwoCwQVhqogtDA0hBcShrBwD1wPCw/KgPMhnnL65tr9kAfqdz3S9bnL9agJ70EC3UOAgqV7uDJXEuilBALmLIvCY6VjZ12wTl99WTAFGB19uLUHAgMGF+zHCwLHOdYGrTQ6RRpOscjR1u+ptuM45vKCsy2sTO4cDMfAKmKfr+ZrH1T4QFjU11+2j8jDmyBOIIpcWXAM28g7GNI/GIIfAgWFtmMqXOw8zRsCBQ7D3uvtIP8hARLoUQIULD2KnzcngeYJQC4guaGX4Kfu/zdcALg7BoWK+9T43Xw9XIH1kLezDwqD4MwhdxVES3iyPMKW82m+LEFhFJ4HPnvv7T3u8gr6uzQWZN7zsO3ODd/ffZ8b21dUX2m6llH33Z85k0DkE6Bgifw2Ygl9TgAdLBLevR1ltVoXMBUYv/jRyQYCvbsDu15DK219XCKlPE5AYfo3LEMuuefCfeY7CUQ7AQqWaH8CWP+IIQAfjtTUVHMkRaGwUOAJXRH5Bu3IEtV/BEMq7MQiprm6pCBB61nQrITVr8/qythOuGZkZHTJPZgJCfiFAAWLX1qS9ejVBNyv/REjRkh+fr6cP39eZ8hUyNq1K2T4kFEybeocm5lDwdKrm/mawkOwwOfmwMGD8v6qt+SURgFGysrKksWLF19zPneQQDQToGCJ5tZn3SOOwIwZM2T69Oly+PBhdTit0aiwO+TpZ76jguUGycnJuxoXJOKKzQJ1mEBAyi9d1Gi7W2W/xp/BjCUMC06ZMkWefPLJDufKC0nAjwQoWPzYqqxTryMAywmsLEOHDpX77rtP1+I5JDt27LCZLXv375SjBYdsWi6mBreUzFKjp7R2Xkt58FjHCNjwztWZUu3JAX5KWA07aGWLkcGDB8nHPvYxmT17dnuy4bkk4HsCFCy+b2JWsLcQgGhBfJE777xTLl26JM8884zs3LnTtmt12q3XIbPpOiEqLRb3wwyaxlN9mz6fe7uSQNAxuuXZR03fD07VGj8mJUUGDRokjz76qAmWvn37Nn0695JAlBJgpNsobXhWO3IJoPO6ePGibNy4UV577TXZrpaW8rIyEyPNlRoiBWIFsUbgvItX8Bd7c1dwf1cSgEBEzBi0QWJiksWwaSt/tF2iLgcwYcIEueuuu2ThwoWSl5dnxcMxJhIggSABChY+CSQQYQRc3BIERzt9+rQcO6azR86eDQVVCy8uOkZEZ4Wj7v79+2XgwIEybNiwkLUl/Hx+7loCjj+sYVVVVSY80tPT2yQYcS3EZXZ2trUZ2i45OdkKSLHSte3E3Ho/AQ4J9f42ZA18RgBOlxAtECEYIsALqbkODOfi2Pr162Xr1q3qAzFYHnroIbse+5u7zmfYeqQ6zooCy1ZRUZEUFxfLjTfeKBMnTjTurbHH9TjH5YN3t69HKsSbkkAEE6BgieDGYdGilwBEi+u8QMHbqTVFBR0mhpCWLVtmv9Dnz59vlhbXETZ1Dfd1noATF4WFhSYYd+3aJXPmzJGxY8ea5aQtd3Dt7PLyBg9sy/U8hwSihQA986KlpVnPXkcAIgWdV0sdGKwr6OjQYW7YsMF+5eN9z549ZqXBMabuIeCEBobuwHzv3r02HR3CEUN47nhb7o62hkWtpbZuSz48hwT8TIAWFj+3LuvmGwLo0JpK6OAgWrZs2SK7d++2RQH37dtnQ0Nz584VFy21ueubypP72k4AXM+dO2fWlePHjxt/iBf4EsFxFsfJvu08eSYJtESAFpaW6PAYCUQwAWc9wYwi+K/AORedI6ZEo9M8evRoBJe+9xfNWVAwDLR9+3aNTHzZ+EM4btu2TSorK62Srp16f41ZAxLoWQIULD3Ln3cngU4RQGeI4R/XYbrM4HyLWSutx25xV/C9vQQgDhGNGGLxoIbWd6m8vDwkIClWHBW+k0DnCVCwdJ4hcyCBHiMAZ1t0mAcOHGjkM1FSUmJOuCdPnmy0v8cK6rMbOyECK9bmzZultLS0EWcM0cHygnWCmEiABLqGAAVL13BkLiRwXQm4DhN+E+gw4UeB5PbDr8XrfHtdCxclN4MYgYMtnG0dd7zD8oLpzZs2bdLFDE81EjJRgobVJIFuIUDB0i1YmSkJdD8BiBKIFXSY2HbOna7zxHpE8KXAEAWS29/9JfP3HRxHBOqDYEH8FSS3H9uYOYRjcL5lIgES6BoCFCxdw5G5kMB1I+A6Rjc7pUzD9ufm5uriiElWBkROHTBggIV7X7duXWi46LoV0Oc3An+8MOwDPyFEtUWkWkxLRsKaQPn5+SZkcA7aB8m1m33gPyRAAu0mQMHSbmS8gAR6ngA6P1hWzpw5I4sXL5YHH3zQOkmUDKHd7777bnn88cctVDzOq66u7vlC+6QEsGRhRhAcmyESP/e5z8nNN98sCQkJVsMRI0bIY489Zvtg5Tpy5AjFik/antXoWQKMw9Kz/Hl3Emg3AXSYECyIwXL//ffLzJkz7Zf+mjVrLC/snzJliq34i2EJdKroYCFkcJ0bOmr3jXlBSHhgmG3UqFEyffp0mTp1qnzrW98Kcc3KyrIVt/v162dDco63eydGEiCBjhGgYOkYN15FAj1KAJ0fOstZs2ZJamqqBY2DHwuSe8cw0X333WdTbyFW2GF2vskcQ4gSrKyM4R9MHYcQxMvxx7DcjBkzZOTIkRai313X+RIwBxKIXgIULNHb9qx5LyaADjAzM9OcO53DresU3TuqB+sKxUrXNzSEirNYNRXrBm0Ax1v4tzjflq4vBXMkgegiQB+W6Gpv1tZHBNwvenSOXpHiquj2ufPcfr53DQFwdewda2/Obh/5e6lwmwQ6ToAWlo6z45Uk0KMEWuosXcHcOe4z37uOQGtsnWBx7113Z+ZEAtFJgBaW6Gx31poESIAESIAEehUBWlh6VXOxsJ0hANO838zzzn/FOdqCj6sn9rn9fvqV35plozPPCK8lARKIXAIULJHbNixZFxFwHbj3vYuy7vFsUCfXgTtRgndMbca7Eyw9XtAuLICrm6t3F2bNrEiABCKYAAVLBDcOi9Z5Al6RgtkcFRUVUllZaTM4Op97z+fgBMuFCxdMnGBGCjp01BHr2fhlhgrqibpg1hNmRyFIG/Y58dLzLcESkAAJdDcBCpbuJsz8e5QAOjVYGU6fPm2RYffs2SOFhYUWAbZHC9ZFN3edNhZBRKj++Ph4q+8777wj2OcnwQKRgtgykydPlokTJ0peXp7FQaFo6aKHidmQQIQToGCJ8AZi8TpOAJ05VtQ9ePCgLFmyRJYtWyYnTpwwK0tdfZ06e3Q870i60g39QJipl45UVVfJ+vXrbfE9idGS+qSeEF/JKcmS2z9X5s2bJw8//LDMnTtXMjIympzWHUltxLKQAAl0ngAFS+cZMocIJOAsKwcOHJDvfe978pvf/EZKS0ttCAHFRcfuq6TV8dbpilzxXSceUxdjayKdLz1vwhMWpK985SuyaNEiBsfz1cPMypBA0wQoWJrmwr29mADEChIEynPPPScvv/yynD9/3sRKZlam5OTmSEKiLlSH02CB8EFClYP1DtYdFQs6pfqhclqHq5FjL5ZekIvnL9raSCtXrhSEyB80aJAtU4Caos5MJEAC/iRAweLPdmWtlMCWLVtk+fLl5tuBjiy7f47cftftcuOCeZKuwwiW2L9F/rOiGgw6pLamVvbt2CvLly6XIwcPS11tnbz//vsyf/58GTdunPmzRH5lWEISIIGOEqBg6Sg5XheRBJx1Beu4bNu2TY4cOWKWh4TERFl0zx3yxO9+RoaMHMJf4hHZei0XClakmTfNlrSMdHnmhz+X4hNFZkXbuXOnOVUPHz7cMqCVpWWOPEoCvZUABUtvbTmWu0UCmNZbUlJiDrY4MX9Qnsy7/SYZPGKwrV4caAjGL2kxEx6MGALmn6OCJS0jVebMnysfLP9AThYWmxgtKiqSs2fPCgQLBCsFS8Q0GwtCAl1KgIKlS3Eys0ghgNlBiLviLC59c7Ils2+mzhpSd1R9YSqsO9YVZQ7vJF0H2xV5N8oDQ1jOTaXRgU5+6K58O1ks7+UQmRgWSkrWFahTk0NOxlVVVUERSrHixcVtEvAdAQoW3zUpK+QIeEWE245VZ4juiNsB8eMVQLifu6crT1e8Qwi1JV+UpS3necsUiNFrItkLWVc+i4mNEQiXgE7hRlnBw8vdWx9ukwAJ+IsABYu/2pO1aYaAdWoQFc0c7/BuzbAhEOw8Y/toOPyrHT7uh44VH9srHJoqi+UHW+7yowAAQABJREFUEWIZ6hleiwi2PSlYVxhi2iZa7Pyr17f1Gs/trvtmIKy+170AvCEJkECPEKBg6RHsvGmPEOjqjk71CDr4uLh4tdoE1+1B8DYIlD5xwT+tKzo0BUHQWdGC6+M0TwRPwz0wrIV7N5Xi+sSZJQLn4dVScmVzEXFxvlfAtHQtj5EACZDA9SRAwXI9afNe/iKgAig2JlbKL5TJ8cPHpeDoMSm7WKZBzJJkwMB8GTZquL7nSnxCMFx+h0WL3qfhSoOUnimVCxqHJC09VfoN6G+xZCBazJKjZJF/fV29nDp9SiovVUp2v76SmZ1lQ2DNgccQy+WKy3Lu9Dk7r9+AfpKUktQ9fjLNFYL7SYAESKANBChY2gCJp5BAOAEIBfjDHDt4TN556W05vO+QXGlQq4f6gUDE1NdekZS0FJm/eL7cvOgWyeibYdaOjogWCJIdG7bL8teW21TeG2+bJ4sf+EhoBtTAoYPU+tLHrCoQKq/++hXZsGqD3HHfHXLfI/ebszGmeYffG5aUPrF9ZNu6bfLKsy9J3+xseeQLj8qYSWNM+ISfH86An0mABEjgehKgYLmetHkvXxBARx8XHydFx4rkhaeW6PTaEhMlE6aPlxS1ftTX1ktxQZGsfOt9+c0zL0qtBjhb/LHFtg6O82sBiKaGayASnFDAuX3i+8jpolPy1otvyvlz5+WGW+bI+GkTTBxhHyL2PvjphyQjO9PYIpha4dFC2btjj6SnpcmMG2dKVk6WaKT+xklHkzAMdKnskmxavVE2r94sYyaMMcuMuz8uQF2bGiJqVM6r50ComW9Nozth8cngkJg330an8AMJkAAJtIEABUsbIPEUEggnAOfXzas3yZEDR+SBTz1oloyk5MSQM+zU2VNl4vSJ8sP/+IEsf/UdGTFmhEyfOz1ohdEOHgnWDYgGWGqwCxYas9LoB3TusOIk9kmUsyfPypmS0zL/zgXy6Bcekz4JfaT0bKkO45zV6b0pEqNeqPGxcWbd0QvVf6aP5OXn2TDPwd0HzGKCfRAeXqdg+Nkc2X9ETp44KdlqXUlNTW1UTSdU4BPTR6eBW5lQzkDjcqIezQkb1AuzsvBqSqA1uiE/kAAJkEALBPQnERMJkEBbCaBjRueLeCAFRwqkv/qSQJzA6Rb+JRdLL0qZ+rRcrrwsw1SkLLrvThsiQlRW12FDNEBAwBpyuvCUioajapEplurL1SZg4FdiTiR6r4bKBik/Uy516rybGJckdVV1UnWpyqw4cMKNU7Fw5fIVqa+qx3QlExUY/hk1brT6ueTKwT0HpfR0qeWr+ieY9B33qKutle0btklCfLxMnDbJrDUNKpqCwiSYFwRVlfq4FB0r1mGvI2ZVqqqosjq58+o13o3V7WqxHUsTSBBeV4LxU5wAcsf5TgIkQALtIUALS3to8dyoJ4BOGsMeNrSjAgHB6Wqqq01fJCQkmFUEHTMC11VWVKqVZZI8/uUnpH9ef+vU7XoVDAWHCmTdijWyf9d+uVR+SYeLUmTE6BEy97a5ahEZa8NHFzR664rV72pU11VSdLxQli97R85cOC1JSUlSXlYme7bvVpGRKD8PPC2jJ4yWW9Rfpo9OrUaMEtyvX24/OaAWlqMHj0j+kPxQ28FyE68ipViHtA6poBk6apgJqAO7DoTOgSjDTKTdO3bJhpUbVJwdUxFWqUHbktVaNFJuueNWKyesQ9s3bZfi48VqQZohQ0cONTZgAFFWosNlGHIaPX60jBg30oK+UbiEMHODBEigHQQoWNoBi6eSAAhArMQnxtssoG1qoVjxxgpJSU6RHJ1hk5iSYBaYQCBeYOnIysmUG2+/0YZMMNMHfh57dQG/3zzzgg3zjFRLyOiJY6SqskrFxX7Zv3Of3PfoR+XWO29VMVQvRSeK5WTxSamqqpazp87KcbXqJKtoKNMVi2HJiVcflqOHjkpyWrJZfRJVwFhSUTVFLT9HDx6V/Tv2ywwVE0mIDqtlR4KVZ/fW3VJRXmFDVxAWV67Uh6wrOGPb+q3yyi9fVmtMrIwcO0oSkxOk/OIl2blph5xUgfLYFx9Xf5rxUlejixC++Z6cKiqRT3z2k5Kls5MgeCrKKuSNF16XHRu3y7QbptsQmN2c/5AACZBABwhQsHQAGi+JbgKwEMBSAmtIweFjslrXtYGlYuT4Udqxj5QhI4ZI/9xcnRmUaZ08LBoQLxjCOVtyVl597lUpPVeqM3Iek9k332B+KPX1dXJo7yH5xQ9+Lm+++IbkDRogo9Qq8cjjj0regDx54dfP60rTC2XxQx+x4Z1LFy7JU9/6mU5BTpaHP/0J6Z/fXzJyMuTi+TIrGyw/sHaMGDPcRAscg8eoMKq7UmfXV6iz7c7NO80hd7Q6254qPm1+NKhbsJzn5F2dlRSnlphP/fbj5geDwHgY3ln19ip59n9/LTu37FCxNVpm3Tzb/GDefX255OYPkHs+fq/A2vTBslWydf0WuXnhLSruhlmAPVpXovtvh7Ungc4QoGDpDD1eG5UEIFYw5JOnwyyPfvFTNqSyee1mG/rYsHK9DXv0zemrwzRjbJYOhmswxRlWB4iEArV63POJe+W2uxaYLwnywhDNTJ3Rc1mnJf/smz+VLWu22NALFmvMH5pveebm5dqwEe5/SS0dEEQpGEpSX5mM7Aypra81Sw6GrDCcA0vMlFlTbcbQYRVDI3VIBn4sGKo5qtOxi44XyaybZqk4ytM4L1enPetxCJNLOuSEoae5OoV6yuwpVnaUMzk9SabPmSZvvvSGWYiwjk92v2y5++N3y2l1DF75zvsyMF+nWSfEybJX3pHxk8bLPQ/fa8NouDcTCZAACXSUAAVLR8nxuqgmANGA/nfw8MHy8c88LAtUfGD45sTREyZICg4dUwvDSvX/WC+36PDOXQ/dbT4l+3fulcysTJk0fbKJCwRtg5CB0yqsMOOnjJeBQwdqILpjNhMI05UrqytNgFy+fNkC0+F8+L3UVNfYMEtZRZnEJsfathbraorRGUcNMnbqeMnQ+2G20NzbbjSLCqZd71C/E9QBPjZJqUlB/xq9Es64iM6bk5tjFiDEj6moqJBqdbStqa6V2rpaHbbab2IFQgoWE5QjLTNd7tehLFh9Xvjl81YXCKq7VMhk9882Xx/cj4kESIAEOkqAgqWj5HhdVBOAD4h11jU1NoSSryJjkIqX2TfNthlCiJmCoHLLXnlb3n75LY1OmyYL7r5dh2wuSHpWunbwaTZEginD6tgSEi2IMts/t78U6ayhqstVlnesztRBZ48ZOxiugWCBlQTvmJ2EfTjmTdAG9eqTMmjIIBk7eZzsUX8ViCkMHSFOyz71o8HQ1fAxw1WsQHp9KCYadNgnPTNDdA6SOQUfPXLUZkDB/wX+LBfVf6a8rNyuwFUoR01tjeW18N475Gf/8xNbPfljjz9o/jl1OtxFseJtHW6TAAl0hAAFS0eo8ZroJaB9O+KXYJryUY3Bgk5/0LDB5vBqQkKFQ5KG5h+i/iPDRg83P5Jv/tP/2EyayTN1aEWvbdDpzC7Bv0WD44aSSQcTIhpxILQ/uGH+H7qJa9wxHAn5hXyoOVQg6H61sMRrgDtMu96ukXLh1DtNh3Pg2Fumvi6Y6ZOlQ1fB4aBgEdRgokNCGqxOfVqWPvea+tUctPoNGDjArDNYEuBK3RWdFVRk5bD76xYEHCwt5RfL1W8naLHBNvYhuB0TCZAACXSWAAVLZwny+qgiAHGAMPhFGskWUWwX3HW7DB42RGLUwIFhnYa6Bo1sG/QlQTTc/CEDZbCGzj+m05jhV5LVN0sddQtsdg6sGjZzSAUK8oXVxNb1OXNWYuNjbU2fwNWVoJ1AaQq23VfvDcHkTbBqYG2hETrDB/FiECTu+JHjNh06U4eaYHmBZcYJHogPJAwLbfxgg2AGFJYWuP3ehTqslGHlS9FAdRAz8MmBuMG9YXmBpWjTBxvlvTfelSkzJquFpVZWvP6uhvvP0llS80L52gb/IQESIIEOEGj8DdeBDHgJCUQXAQ3mpiICTrUI/LZvh1ordMHDxMQk7bQ1cq2G0ofDKaY9J8TrNGC1ZCCgXIpOKe6b3dcCumGxxCP7D+uYjU6P1pWeMbYCsYGYKvB9KdFQ/IOHDdKFCzODviV6HCLCDavAmuESHGQTYhMkPia+0XGcixdEUqb6oYyfOkGD2l2Q915foaLlhM36QWwWN5UZJhm7Ru/ToBYUlC81PUVuXnCzDB0+VBKSMF1bg9Spn80xLeOZk6dtKAriDRYUCKHXn19qQ0kf06UCsCZRWkaqOue+aZYolJOJBEiABDpDgN8inaHHa6OOADp1WC0QbG3mjbNtmAWLH5acOKXioCHkZwKLyPlT52XZS+9I4bFCc27NGZCts3am2OyiD95ZJbs27bThFVhiIFiw4vPSJUtNOEyfO9NC5cMCAzHhTWaNUfGAay6cuyBnT5yRyguVZq2x8+x0+NhcHT7Sz7hvvE41XrrkNamtqjGn32QVUZZ/o8z1g56fkpZq6wwVHCzQ1ajLtc4aTVfjrRzec1g2vL/eZgRhuOeKWpQunL1gw0fwbYFzMRyRh40eJh997GPmHIyhpQZlw0QCJEACnSHAIaHO0OO10UdAxQOGQZKSEuXOj96h1pNSWb50mUWUxeKBfftr0DRMC9Zpx5hKjLWGYN3ATKE4tboMGKJxSnSa7wtPL5Gnf/i0ThGebo6wGArasXGHzr45I/d+4j6ZoAsc2lCNig4M2yTq/cyxVsUE9sPigTgrK3QI5vvf/p5Fmf3IQ3eZxQbB4xISEoMWE1UfEFiYHo3pzzs2b7fpzSM0Xox3mAl5Y2o1EoamMMV67/Y98uKvX5AThSckUxdQLNNlBxArBtalqbOmydF9h2Xlm+9LpUbARcTeRbo69AxdLwl8ruhq1TPnzbRIt0uXvGqrR2N6dFpGWrBe0ffksMYkQAKdJEDB0kmAvDz6CNhQi87AGTJqqDzxu0/K+vfWyp5te2T7xm2CqcfosBEfpW9Ottyn4uPG22+S3IG5Zs3AtbPmzTLH3PffeM+iySK0P4aDBgzMsyBts2+Zbf4rEBr1OgTTX+OvwEEWTryqX2zNIDj+LrjndknQBRf379prw1QwqcDhFUIhToeaknW6MsQNypOo581bOE+tLPEyacYkHSbKtIUWUR4cR6yYRBVB/TRaL4LOTZw5SR5+8hMWwXaVTs+G1SUzI9PC8S+8d5Gu6lwhq95ZaUsEwJKz+GMfUVF2iwqpRItRg2LCcrTg7gU27HTuzDlzwE3X6c8mxHACEwmQAAm0gwAFSztg8VQScATQScM/BH4gD+j03QX3LLTVkzHdF8MssCT018UHs2Fx0aGbWhUBSBAHsGbAsjJq3Cg5WXjSpghD4OQNzjORA0db+IrgOiwsOESHWPIH59vsHYgSiAecM0j9XB564iGprrrH8oYvCQTIHQ8s1lOCCyzifsgH+Y3TGC8IZgcLEJYIgHBwgmXKDVNk8qxJNgMKQglWmnkLbzLr0KniEnOizVIHWpQDDreoO9YGgrhBXpiOjXwRXA55IiEfCJT7H31Alx64bFYilIeJBEiABDpCgIKlI9R4TdQTQKeMDr9G/UFgSUCgNVhRYrTzRnfdoMfg0Fqns2VqNFYLVAauwQudPTpuxGOZnKtTnZGX/ocOHn4hEDxwsrWk+gTWFFguIDq8PicQB4jBgplHcATGCtIoU4qG69fL7D4ha4bugHCJTwmuceTNB/dJUMuLc6pF2UwwqQDJHZRrwgjldvfAfRD/JV1jyaC+eksTKgg4B6HkktVVy4zw/n11fSE4KVOwODp8JwESaC8BCpb2EuP5vZeAdqwfdqedrwY6ZGQIoYGpzN7O2mKl6C1wDoSCN0GMQEhUX662lzuGa3BuSKzggOYP8eAsF3ZPd4G+474QOTjPrtX7YUoxEs71nt9SPvUqogKBoHXEXQdRU6W+NVXIXBPKhzrCkoJgc5d1wcZgwn30/iperp56dX+wDHVaxtqaq3XDiZ1NUEhMJEACUUeAgiXqmjy6KuztsFFzCAW8vOKis0QgMHRCc/PZNNG/mijo00znHXa+ExB2g7BjJoa8ekiPhwQSzvWc31I+TR0LlrHpeuGYOQF7ax12P3coVB7s8JTHHW/Tu6KytkO0XVNFQasUrm1U9jZlxpNIgAR6IwEKlt7YaixzqwTcrBd0ZkiXdHXiCnUURcIeDG90WQrvhHGD8H3hN/Meb+1877kt5eOONXd+c/txXVPHvPtaK6O7d1Pv3nyaOt6WfZoHBAvED4ak8LKk5YK/DYbGXFu3JTueQwIk0PsIULD0vjZjiVsggE4LHVtqaqoMGDBA0tLSbNikuLBYZ+RsMyfS7Nxs9H5N9tEtZM1DEUCgtqpWdm7aIYUFJ4KWFhUs+fn5kpOTY6WjaImARmIRSKCbCFCwdBNYZtuzBPCLe/LkyTJ06FC5cOGCVFdXyTuvvm0xRmzVYp3Wi4X8mHoPgeqqap0+vluWPv+areWEkmOqNdo5Ly+PFpbe05QsKQl0iAAFS4ew8aLeQOCGG26Q+fPnS0FBgZSVl0lxYZG88PMlsmbFasnMytThBfhndMV4ReTQUMORjXlhBMdv6bJOjS4pOiml50ptthSGgm666SZ7wZKGRAuL31qd9SGBDwlQsHzIgls+IeCGhfCr+5Of/KScOXNG3nrrLSkvLzdflvKL+62mfhwUCjkU+1CxOEdptG9ycrJMmzZNnnzySZk6dSqFik/+dlkNEmiJAAVLS3R4rNcScL+0Z82aJV/5ylckPT1dVq9eLaUaSt9Fo/WTYLHO3IkUOKj6zHKEBxFtCqtK36y+JlYee+wxWbhwoUUVdu3dax9YFpwESKBVAhQsrSLiCb2VADox+LLMmTPHHHAXLVok27Ztk+LiYovQ2lvr1VS5UdfaulqprKi0laOTNUS/3xLqCOda+KygTUePHm2WFr/Vk/UhARJomgAFS9NcuNdnBIYNGyYDBw6UBQsWyKVLlyziql9+lWMYCOnEiROycuUqGT9+nMB/B8kvdbTK6D9JSUnSt29fe7fhLxUxfqujqyvfSYAEGhOgYGnMg598RgCdGTo2vGBtwS90NwXWT1VF/fbt2ydr166RzMxMsyhhfSIkv3Xorj1RL7/VzU/PJOtCAl1NgIKlq4kyv4gj4Do219Hh3U8J9amsrFSxslY2bdpk/jq33TbfnFFRT7916qhPo+i5fmpM1oUESKBZAhQszaLhAb8RcMLFT/XCYoKo18GDB80/BzOhtm7dKrt37zZfj3hdeNBvgsVP7ce6kAAJtJ0AI2e1nRXPJIGIIwAxgoUR161bJ3v27LHywal448aNUlJSEhoOi7iCs0AkQAIk0E4CFCztBMbTSSBSCMC6guGgkydPhgQKBAxWZd6wYYMJGJzDRAIkQAJ+IEDB4odWZB2ilgAEy+bNm20ICEIFn/Hav3+/DQ1hRhQS9jGRAAmQQG8mQMHSm1uPZY9aAhAgsKbAZ2X9+vVy7NgxY+H2IzgehoWOHDlCsRK1TwkrTgL+IkDB4q/2ZG2ihACECV579+6VHTt22CwhVB37XNq+fbvs3LnTd0HyXP34TgIkEF0EKFiiq71ZW58QcM628FVB/BVM8/VO9UXMmbNnz9o0ZzjhOoHjk+qzGiRAAlFIgNOao7DRWeXeTcBZUTAMBP8VrFScn59vq1KfO3fO1tuZMGGC9OnTxxxvYWkZPHiwYIozEwmQAAn0VgIULL215VjuqCYA0XLgwAHJyMiQr371q1JdXS0//vGPBYIlISFB7r//fpk+fbq8+eabcvr0aamoqLCQ9rgO1hkmEiABEuhtBChYeluLsbxRT8BNXR47dqwMHTpURowYIcuXL7elBwAHoqR///6yePFigaWlqqqq0XBR1AMkABIggV5JgIKlVzYbCx3tBOCvAsHiEqY04+VSTU2NbeIc7IfIoWXF0eE7CZBAbyRAp9ve2Gosc9QTcE62LjAcPnsFifsMawt8WfBiIgESIIHeTICCpTe3Hsse1QQgRpwwaQ6EV8Q0dw73kwAJkEBvIMAhod7QSixjhwigQ/d7cnV07976evd5t73n+Gmb4sxPrcm6kMC1BChYrmXCPb2YADpm90I1/N6JtSZEHAs/c3AMUEf36sWPMItOAiTQDAEKlmbAcHfvI4COyy0IiNKj83KdWe+rTdtKjPo1J0ZwzL3allvvPsvrz4OhMiYSIAF/EaBg8Vd7Rm1tnFCpq6uT8+fPW5RXLPyHz35OqDcCwmGxw8rKSqtqfX29HD58WFavXm0xWVoSNb2dDeqGqL4pKSmSnZ1t07mx7ec69/Y2Y/lJoKMEKFg6So7XRQwBJ1YuXrwou3btkvfee89WKj5z5ozvBQsaAdYE1L2kpMS2a2tr5ZVXXpE1a9bYZ3Tefk6oPwLoIebMokWLZN68eSZcMDOqOeuTn3mwbiTgVwIULH5t2SirV1lZmUV1feaZZyxcPVYxVo8GHReKHhAQJm4oBNFt8YqWhLpv3rTJRNojjzwijz76qAXVAw+Klmh5ClhPvxOgYPF7C0dB/TAUsmLFCvn+979vlhUMicTGxEpycrKkJCUFfVn8zkE77IYGWFKC1pQYrb911D4XbKhejVqUsDRBlb5gYbtw4YINhT3xxBPSr18/a3mKFr//AbB+0UCAgiUaWtnndcTQx4svvijbtm2zqK4pKlSG5Q+RqeMnSn5ungVNw6iIz/tun7dyM9VTx+qy8jLZe3i/vg5IeWWFFBUVyZIlS2yI6M477wwtWdBMDtxNAiTQSwhQsPSShmIxmyfw1FNPCVYkNsuKDgFMHz9ZfusTn5GbZsyR9NQ0Dgk0j84XR2rqamX/0YPy4yX/J29/sEIqL1+WnTt3yvr162XOnDmSk5NDJ1xftDQrEe0EKFii/QnwQf2x8B+GBOB8m5WRKQ8sukfuX3iXpCelSIxnfR0fVJVVaIJAQK0seXNulUp9Bo4VHpft+3YLHI+PHDkicLzG7CEOCTUBjrtIoJcRoGDpZQ3G4l5LANOYzdlUx31ys3Jk9LBRkhqXILU6PGDDQNqhMfmXQABTu5OSZfLIMTJ80FDZpoIFAgWO2BUVFf6tOGtGAlFGgIIlyhrc79Xt0ydW+lwVKBAxsRQrfm9ygYUlVsVqgk5jRkwayFPMGnLT3X0PgBUkgSghwHCQUdLQrCYJOALozPX/iEsoFxMJkAAJNEeAgqU5MtwfVQTsF3mgQScFt63TDJ4fDH3f3aCCAqNt5WqtLCYKbMpza2d23fE2lRyWMLWItencrisacyIBEuhFBDgk1Isai0XtRgIuwJiKltZ6TRM1V8+PgVWgmy0DMXovS11wHwyf1DZckTgdOImLjQzfHpSiQetWp+wR7C9OyxgZJevG541ZkwAJtJsABUu7kfECvxDAr3k4Z1bVVEvB6RKp0Pdh/fOkf2ZWix0mrjlTdkFOnD0tGersOVRjvSTFJ2pu3WAf0HudulAql3UGzIC+2ZKq9+uIQIJlpY+uuVOs9TxcWCAj1Dl1WN5AgcNqdyetgsRA1zV3Iz2hQYP97Ti4R2OmxMuEEaMlSZ2mW7iiuZy4nwRIwMcEOCTk48Zl1VomgE48tk+cnDhzWr758x/JH/zzn8sbHyyTqtoaKBlz3LwmB91fV39FXn3vbfmjr/2V/FBjf5SooIhRh08bbrnmgo7vMJGh+a7YtFb+95Vn5ZiKjQ7fR8tdrVO8l2leH2zfKNUau0R0aKiry+ytLSxDldVVsmXvTrlYeUmtKLCgXJusnuose7jouLyy8h05fLJIRJ2nu7Ns15aCe0iABCKdAAVLpLcQy9eNBPQ3vw6LVNZWS/HZU7LjwD55b9M6KVTLSWgYxnN3dKCxKiBOnDmp562RnYf2yqlzZ+WyxvzAUIuzIOA8dM6YpXJFX3gPzljxZHZ10869ep6dq9c16qg137MXz8uJU8VyWS1AEFLepLeyezW6xnuCbuNYHxUEhwqPaR13y/DBw2R4/mAJIEYNyo3yXi1jo/I2kU/wPkHfHVe/ULlDBLRMmh8EUdG50/LtXz8lh0oKpVZXzkZ5w8uKzzGxfeSGyTOl4nKlbNy5RcPsV1kbOKZhReFHEiCBKCRAwRKFjc4qhxHQDhNToPMGDJCCU0WyV6OmosNtLA2C16AD3agWg9Lyi3p+nsQnxDfqgNH5avcrAbXcBBJ0WENfARULqnT0SvTWLh+IGj0XgkGP41x74TqcqcdcwjTtOL0+PPiZ3QuF1GvgsNps0nPqtT6rt2+yek0eO1ESE5P0HvDXMY+cYHnjXXn1/arFyFsOE0sq8FA0K7cO3zRbbpQrLlbqtTZlal2px32Qp1pOwkUX6tVQXydjhgyX0UNHmBA8dLLQymA3a7ZiPEACJBBNBOjDEk2tzbo2SwAd86xJ09RXpEp2qhXithlzJUej5jaoFQIdKo7DunLxUpls2rlVBvTLlYz0DB250KELWBM0Weeu59Tp59NlF+WMippa7YjTklNkUEZf6YuFGIMnaqcNjREr5Wp1wJDSxYpy/dxH8jL7Sm5KmiToPTVHnG0pKCvcp+C9IBpq1IH2vAbIS9S8sjV/LProTShTHxUWJ0vPyJ5D+2TIgIEySl9yBVIC2kHrpu/nLlfISfXLqdbhMCuvliMrwfnlQIIF73VFF1hMUF+YGq1jycULUqo8YlXEWLlT04Pl1gwhxirU8lSmryu6Xa31PF9dI5l6vxSbpWQkQkUFwxgVM9PGTZL1amHZfWi/TB4+mnF0QoS4QQIkQMHCZyDqCVinrR3m6MHDtfMOyMHjx+Rg8XGZlzVdO3YdNtGEjj9GLRm71fpSoL/+b505V4p0GOns+dKrFgM9rp3xRR3SWKuWjFWb10mB+mRgyYD09HTtiCfL3bculPFDR0r8VVFxTPN5V31Ktu7bJad0GAoCZsSQYXLnTQvkxskzJB1WkCZax4ZbVDRUqqPq+zo0tffwXrlxyiyZN2m6Oqs2nhpsIkrP3X3skJzTiMC3zZwnGbq+EpxcUd5KFVQ7DuyRd9etkr1HDupQzGXJzMjS8k6U2+feIhNUNCRrvTFEtmPvDjmvCw3mDxws+48dlnVb1kuh+psgn2GDh8rCubfKTVNmSk56pkWZfXfjGlm9dYMcO1Egz772vO7Pknl6fMHsm3SNp9SQGEQVY1T06GJQMkH5ZKhg23/kgJzX/PqrcGpQcYV7MJEACUQ3AQqW6G5/1t5DIFUtFFO1o3664IjsPrBXZo+ZqKMaarFQsQIxUadWgrXbNtvqz7MnTZXSdRdDQ0cxKkJqVdy8vmqZvPDOUrPA3KRWmkQd7ik+d0reWrNCik4Xyx889gUTAcd16OlHL/5Ctut9pk+YLJNHj1dfmGp1UN0hP3ruaanXey2ac7OkiA4neVKDWjgCWpaL6s/yli7098o7r8r4UWNkSG6+JGKIxnMuNtHRw3qx/+hh83XJzR1g1+O8OrXOwBfnmVeWmK8NFo3sn5Utp86fk/dVcO3Usn3h44+beEpS0bJl/27ZvG+npKrF6JJadQbqjKpF824z35rtKrq++6ufyvm7H5SH7rjPWBxXv5vDurZPRWWlFBSfkDMJZ2R43iC7rxasUUlhwYE1q69atYbkD5J9KgwLz52Rftm6cCFcbRqdzQ8kQALRSICCJRpbnXVukgBWe56qImWQTlPepQ61J8+flWE6fHJFxQOm2xao4+hOnXoLS8zYISNVhLx/NZ+AxMXHyaGDx+SNVctlgq5p86XHPi/5/QfYdF4MvvzqtSXy4luvyDbt9MePHicbtIOHZeW+O+6WJz76iKQkJEmDduIFJ47Jf/zkW7Js7fsySc8brQ6yEEwQGBhmwSyhMzqE9NKKN2TZ6hUyb9pseey+h2WIDlE5a9DVQplVCEsT1Ku4OXW2RDLS0iS3rwoAFT2xanXZq3X51dIXpa9aMb706Gdl4qhxEqfCpE4tGpt2bZPvPvMjWaJlzu83QEXWKLMkbd+/R8YMGyFffPgJmTt1tiSpFQjlKlZH5G8/82N5YfnrMlgtMLfosS8+8jmZN2ue/PsP/kv+8PNfVuvJaMlS60kK/H6uDrW5suIdlqO4xEQZpIJli7I5c+GcCRWKFS8lbpNA9BJoPOAdvRxYcxLQ6cr1kqm/6KdOmCKFOoV4r1panMUioEMWcLbFkMh0PZ6tnXy9dbpXwamFpVSPDRqQL4tvWSgjBw6RBPVJQRC0dO2kJ42dZDNhSs6cUkFwRS5VXdYLYyQrp5+k6PBInF6fpOdOHjFG7l+wWAZrjBRYdHBO4GqPDafVIhUrP9cpzsvXvCd36X1+6+OfluFq6YhRa0lTCX43FXqvczp0hRguGWodgfvvFT1/hQ7ZlKv148HF98us8VMkWe8VrwxStRy3zbpR7tdVrw+qgNq0Z5v6oQRnL8Fac/ucW2S+CpEM9XGJ0/MTtD4QcY/e85BqpgbZsG2TrpZcY/FscrP6SqI6FOcorzyta6aKpnA/m8bljpF+auXBLKtLyjNGxRWHgxoT4icSiFYCtLBEa8uz3tcQMH8PFQ4z1fn27Q/eld1qgZg/daakJ6dKWcUlm27bTzvgSTpsZLOA1LJggxWwYqi4mDpyrIxQX470tAw5q51tmfqD1Kp1A9N5N+3eJqd1iOOKdu6wLkxSYYLhl+Ur3lEfkQQZrZ/76XBIjoqbu25ZJPXa4SfpcBKGSWz4REXL8ZIief39t+X5138jn/jIA/bqp/4i9RpTBZ16U5YIOOZW1lRJ5eXL0lfPTVTLCoa5zl0oUz+Rg7q68WBb5TigwuOK+rPAIhOoV0uHiq05yuGV5UvlYMFhKde6IBIthNQYDewWr0KoXv1zbMgJlh91Vp6slpeheflyDMM/ZeclS0XKFa1Hg4qjWi3jlRrdbjzCdU0bYEeyWm2qL1dJhTLUi5s8hztJgASijwAFS/S1OWvcDAHr9FVcTFTHz9FDh8uBY0fkuFpapuo04D1qZTii1oabZ8yRUXmDJUaHTUxIuLy0Y83UWUPlF+tlzY7NclzPLdX4KehuMQ/n+MliqdEO22YV6T2mqbj5zEc/IS8uf0N++ZtfSbaKFwwhDdfhkLF6v8kjxkqGDkPp+I3Eq3g4qZaZX730K0nQqcc5KppOqMPusaICyYLlxu7hCvLhe9A6pGJKy4ZYKfEqVuJVrKhDjlzQWUlll8plYu5YyVKrS4zeB346JnrwrkJpgEb87Z/dTypUjFTWaKwZPZqloio9JdWGqVB/s35A5Gj+GNaCuDtxRqMGV2kcFd3/YdJtOz946Yf7w7eCFpV65QuLV/jsqPCz+ZkESCB6CFCwRE9bs6atELCOXzvqTLVyzJ40Q3659AXZrbNVxulMmfU6lRnWihkTp9m03yodZgl1x6oM+uiU3H1Hj8hTr71gw0m4ZogKm1wdYhqqPh3F2olDdJgfipYDwuPOeQsEjq77dAbPfrViHFUH1WXrV8nLGkX3vlvvkE/eea8MyOlvIudcaak6146VLz/2OanSmUjf+cVP5bk3X5Y8FRSD++WpYAhOv/ZW0eqjO0yIQSxYiSEcVDTgRP0HRiKzLHkvDB6yY7gmVv+7eoUJCDj+4lpXf7uP5g/R0lJy57tzcF+8XPnc/jq19GDWEPyCmEiABEjAEeA3giPBdxIAAXTmam2YpULiZXUg3XvogA3fYMbMKF1/Z6IOh3g7eO23oQikRsP1v7zibTlUcFQ+//FPyfzZN2vMuET1FwlIolowEBYfwy1QAbAcwDckOI15uPmE3DTzRqnWoZvTpWfl6Zefk9dXvysjdYrzvSpcEMsFQ02feehTcovOPGpQS01BUaE5xC5d9a48fs+DkmaB4IKdP4oUSnq/ZBVHyerMWnulTl9qtVBhkZWWbhah0vILckEFUJqKNAw/oUxwfo2N0/WSEGdFfWYGqOhK0bpAcJTqvjKNvQJGEF8mZfCuVqBLaokp17wwbTotWdc8QkKdg1At/4Y+WBEbu3W/3suO6/XgEkwxtm4SAtul6xAWplO7KdhXT+AbCZBAlBLA9w0TCUQ1AXSp1nFe7Vzr6+plqM4OmqizdI4Wn5Aly5ZaZFs42w7ALBvt9HFq0DKg16o/B3w8sKjgEJ22O0tjomSqIEjAMIueCP+NQ8ePymmdLozZRjZr6O1X5Hu6DlGBWl7Qhcdrh52ZlCITdDjorkV3qXUhXgrVZwXOsQH1us3S2ChwRsVQjca8lYfUIfaGydPlzdXLZe3urVIfLFDjdtR9EBbpKSmSowsnVmk5KlXsYHior+Y3duRonW6skX3VunMFa/doPUw26HudWjg2awC9Mp2+PGrICFvkEQ7ERSUnZd/hA7qcwf9v7z2j6zyuNN2NnDMBEgABgjmBOYpiEk2KVKKyLI3l1Hbb7VlXbt9eM72m1/yZH7fnrtsz3aP2uGWP21Y7SGplUYmKJCVRYs45Z4IESAAkkfPd7z4o8BAEyEOkk97SOjjnfF99FZ4CVS927drVIBG6xIT8sDwhou8hXaK6qAHqRmrE2mwNlGcWF71nnFR4tGF3ULS6/BpwkQr1CzqqcVwqdGkKyUSMvkMkgVuKLrFhCzcTCZAACYAA/2/A3wMSgPhwFHSitO21apWYq1uGq2qr5BV1coUAmazB37DrxmNh8XpIxQacUFM10usFPTvnsFpPqtUhFcKgUq0OG/fukK+3bTDLRJXGWmnROvJVEMHKsmbnZinViLjwM2lQy8s5nfCxpdoTkyTdY5XRqmz5RO+jna1qKcH25GcefFwDsKXKWxr35eBp3dEEUdBhqfD0CX1JUCE0RHcSwXH4kkazbVGVEaXbl++ZpXFeNPbMB2s/lt269FWv4qZNnY5r9JmNuq35g7UfyTD1qZmpwghOuDgiIEaXaTZpYLw1O7fIZV0Ww1ZsiKXjGmPm9U/fV6uLyKxJ0yxWCxyM8Vy0stmvDr5HNdDe5boa5eI5OfobDTz39y/8Dwt+B1aIZYMQ/dhJFa8WnSwVaCaI3NjwnQRIIKwJcEkorIc/zDvfPhtim22ibvmN00kSSedfC10/VYO5FQ0pkN0H98tUtXyMysvHfmAVDcigRoXoWA0MFyeROtmmq7MptgK/oFaT32oAtSPY9qvLLDgo8ciZ4zI0J0/jlkyXzeqQO2v8ZAsKd0ItEu9++I6cP33SIrxi+QNiZ7OGpodvy/QJk02wQAxhazAcdlEz6m/VkPdTRoyVZ3Q56IVXX5T3NS5L/hPf051G6SZ2nLXClndUnIwaNkK2aVA6+NLM0L5gp9K00ePlmfsekT+897r8r9//b7lr8gzdipwpFyouyVcaoRa7iZ5e8bCMzi8wawnis2CHELYov/fJe7JXdz6Nziu00623aNnHtO1P3btSZmr/oDTgV5OhVpIxGsPlpbf/XdZ9/YWsmLdIHly4zIQS4qzs1wBxd02ZYduYY3W3FI4oKFNL1DA9nHGoxpaxbc1Gmz9IgATCnQAFS7j/BoRx/21S10kVk/zSuxZJvu7SwbZfCBYsZ2Tp9YcWLVOn2XxZotaIZBU1mIQhGbBkMUfD51+rqZJMDb2PZaKlGsq+Wa0UH67/XN5R/xcIjCyNPbJQhcyKeffoktFJ+XTDVxYlNleD0/30qR/IqjWrbbv0NnXqhdUjPS1N7tNtzagXUWFb1KpSrAHd0nXiR5h6bPP1iBH1G9G6lsycK1U6yV/RZRVsXUZfvJPlVXEyScv4WMs4c/6MnYScoOIMSzwPLlxqy00ffPmpfKqxXRpUCCXpLqDxo8bIw4tXyHTdwq1EtEjPic4p6o/z+LIH5YIeJfDZN1/Iph1b7V6ubnf+6ZPfk6UaowWxXlpV2CFAHbZdf0fjs8AnpUy3dcNHBoDh/zJx5DgVRI/IpNHjPH1SYXZCo+PCEjR5+gRdVkpvX37zCETvfvEzCZBA+BGgYAm/MWeP2wlgMsfSS646lX7/4adsWo7Rn5hoLemkumjmXTJfX/YPxa7rfb0JMbJcz/zBtltM6IiGm6wT/aNL7jOBcqn8slkN4DsySJdv4iOjJU8tBrPUvwXrsDiscFTeUPm/NCJumQZuq1RnVkzmmbplOQv54R+iYgXtm6tLLG0yzXxXvCPEwnqSGBMvT6pVo1Hz6hnLJrQ8gsZ6YEIAyyyI2DtBt1KfKy2RMyocxqpfSov6tMS1Lw3NUGtO6aUydXit1Yi4qZIzKFsFWiLWn6wNEGgeXq2SqlaY+SrgFqujcEVlhQqtKMnW/JkqMKKUGdrs2qCPqTAZIyPUyoKAeerLK3Fq0QKv2brUNB3LTdrUSH0OhyTuOXbIlpMmqHULfjytms+V5ekRf5IACYQrAQqWcB35UO23LfO0Cw4f+4iFlnj1tVAHEBMZ7jH4g0CYwBIBi0vnUi2miWZ2zqV4j9LJGFuNEc7ekl7D4X0t+sLEm6JLOxBECKaG3S/xOtkj9kpRXoFXfs89zwWxpRksA3XVBjjVIkpujPrcwPrj7cPinoc1I0onf4Txf2X123qA41GLxIt+wc8kQu9n6M6eTLWGaCM9HPQ6hI53sqUwGDu0L/H6NlT9YgrVCmRJ64Y1CCLKW2Bo0Zq/RRKUY6KKI9tdpN9x2dqtzr2eZasoc9hFMLvRhcNVUBV5uHpK9+0nCrUKfcvOXCRAAsFFgIIluMaLrb0FAScoPO/u2y0eaL+FnN2dCAwRAMOK9yTsSoS1A89638OE3Nx43cLgBITl0ckczrWY800Y6BsmeRMNuKbphvyeSyZwbhVADUKmVU8I9G5H+6P2huttzY0yWZeFtmg02mMnj8jFsRN1J1SuiSYsM6FdEqHB8FzSif+G8rSjJt5sycwjdFp0+QjXkLpq9/WiVKBpP11y5Zp4aW7vmZa7ef8uPe6gWZ18p5mT851ZVzASeDGRAAmEKgEKllAd2TDqFyZAEwHaZ5x5g7/YYcUwi0T7hOoLDjfpdpX3Tu/BqoHk2uX9vN3xtgToZ++Qa3jGO78V5MOPWz0DJtFq3Vmgyzh79ADGao2XYpzQDlhVNHk/790GXIdFaIxaPhA2H9YYsEWeW/XTCu3ih3c9uK1GFjugEdu1l8ycp1F+NdZNuxjURnVRwo2X0A/ww5ITzndyyX4v2vvmrvGdBEggeAlQsATv2LHl7QRSU1Mt7H2jxhip1KBmJXoycb0uZ8TCD8TMI/5Ddfvp9ua29eSZm0vpdEUnblg5xusp0yNyC9SPRq0uEAMq6Lqq74ZreFZFAQ48xKGE2D0EwWKB39qruSF/p6p9+YotzdhmjS3QMfrZoulqvb6Ui+3crbqkd+piiVxU/xwkiKlkPWgxwQWws6v8QQIkEMwEKFiCefTYdiMwb948OXTokJw5fVou6anEq7/8TIaqD8Q03RqcoluP4TDK1E5AWURp8DosxzRBdNxJ0mcj1XkYVizETenrFAmBqf81qDXH0u3Uig4rBGm9tqXkwll557P35aD6wCDFqDVp+PDhkpOjW6M5/saEP0gg2AlQsAT7CLL98v3vf19effVVuXjxojTprpK1W77RyLRXbbcOAp/F2CGCOvuFvW7BDI9fGPzQz8bjdqrA/YLhWZf3Tp91ZdzmvaN4a5hmdhe6fg4LgYgEjOMCNu/bJRt3brUDHSFQRo0aJXPmzJFBgwbZwxQtXTPkVRIIJgIULME0WmxrlwQeeughqdfIssePH5cjR46YaNmukVr36fk/sbo7JlwmK+gJWCgwkYeLUQHLWvBbqW+ot3eMNUTKo48+KjNnzgybse/yHwYvkkCIEaBgCbEBDcfuwE/hgQcekIqKCnn55Zfl6NGjKmDqpEHjjOAVLsnjHOvZVmwB2sKl49pP9D1GxWlebp488ugj8vTTT0t+fr4JlnARrGE03OxqmBKgYAnTgQ+1bmdlZckPfvADGTZsmKxatUoOHz4s1dXVtmXYnEtDrcOd+oNJGY6xWBKLVl8QBHMLh34DA/qaqKI1TwXK8uXL5cEHH5ShQ4daIL5OmPiVBEggiAlQsATx4LHpHgLuL+iMjAybrObOnSsnT56Uc+fO2VJROEzcYHDlyhVbEsvLy5OCggITMOHwOwLLyuDBg83JFn2HxS0cxjwcxpZ9JAFvAhQs3jT4OegJxOruEExaubm5YWNdgWUFacuWLbJ3714pLCyUxx9/3CwtuO4EHT6HWoIwQf9gZcEyGL67a6HWV/aHBMKdAAVLuP8GhGD/3V/XmMRCebLG0LkJGktBO3fulLVr10pSUpIsXrzYlkWQJ9QZeHMIl/6in0wkEG4EKFjCbcTDoL9ugnaTeSh32Ymz8+fPy+bNm+Xs2bP2fuDAAbMyhZPzrRv3UB5v9o0EwpkABUs4j36I9z1cJjAsCW3fvl327dtny2AHDx6UHTt2yOzZsyU9PT0sLCwh/qvM7pEACSgBz8llREECJBB0BJx15erVq7Jx40ZzNIZIq6qqkk2bNllcmnCwMgXdwLHBJEACPSJAwdIjbHyIBAKHwP79+2XXrl1SU1PTYU2BPwsccOHbguTETeC0mi0hARIggTsjQMFyZ7yYmwQCikCDHvgIawrOUoIocTuGSkpKzOoC3xaKlYAaMjaGBEighwQoWHoIjo+RgD8JuKWe03rgI7Yzl5V5TinGdSwL4R1+LbC+OBHjz/aybhIgARLoLQEKlt4S5PMk4CcCTpTAyRbJORnjOhKOKMDSEHxckNx1+8IfJEACJBBkBChYgmzA2FwScMIDZydhK3NlZaVkZ2dLfHy8wUH8mZycHDtbB864OBDSPUN6JEACJBCsBChYgnXk2O6wJQDxgRe2MZeWlsqyZcvkkUcesQi/gJKYmCj33XefHQBYV1dn/i3wdUGicDEM/EECJBCEBBiHJQgHjU0ObwIIBge/FLxwSvWsWbNslxCsKS5NnjxZnnrqKXO8xVIRDoJ0FhiXh+8kQAIkEEwEKFiCabTYVhJoJwARMmfOHDs/B0IEW5g7W09wGCQETWNjo4kV5+NCiCRAAiQQjAQoWIJx1NjmsCcA8ZGcnHzbHUAQM7SshP2vCwGQQEgQoA9LSAwjOxGOBJwvC/renfXEO084MmKfSYAEQocABUvojCV7EmYEIFLc61Zd707M3OoZ3iMBEiCBQCPAJaFAGxG2J6AJBJrFAo63ECSd/VfwHffce6CIFl8EVkD/ArBxJEACfiNAweI39Kw42Ag4AeDEgXv3Zz/QBuwa6pycQHFt7nzfH9+dWPF+90c7WCcJkEBwEqBgCc5xY6sHmAAmfvfCIYPYJtzc3DzArbi5OggWCAAEj2tpaTHxgu/Xrl0TnCMUExNz80N+uAJRlZSUZI7C0dHRHSILbWUiARIgAV8IULD4Qol5wpoARAHECs7rQdRYnM9z6tQpqa2tDQAubYLItidOnLT2QRhASK1Zs0YuXCixe9p8vycIp7y8PBk/fry98NntXqJo8fvwsAEkEBQEKFiCYpjYSH8RgFiBADh27Ji8+eab8u6778rJkycFkWPb2lr91awb6sWED+sK2on2NjTUa8j+TbJt29Yb8vntiwqmiMgIiY6OkUGDBsmSJUssCu+MGTMkJSWl2x1OfmsvKyYBEghIAhQsATksbFQgEMDkj9fx48fll7/8pQkWLL0gBepKhu4b0vj7YgIGIiZQEhZ+IPKqqqrkpZdekrNnz8ovfvELWbBggSQkJFC0BMpAsR0kEMAEKFgCeHDYNP8RgFBBwknHr7/+ullWysvL1fciQtLTUiQ3d5AkJSdIZAApF9dmDzVsefZ88vdPoKxvaNQlqwopL7+qkXcbZO3atZKVlWXLRBMnTrQmcmnI3yPF+kkgsAlQsAT2+LB1fiawfft2+fTTTzv8Q3JyMuX+++bLiuVzJT8/S31Ebt6h4+cmB1z1ra1t6hRcLRs37ZW331mny2tnpampWdatWyeLFi2S0aNHS1xcnFmzKFoCbvjYIBIIGAIULAEzFGxIoBGAoy3O6IHPii4OSXxsnDy8cqH8/OfPyKhReRIdpS0OECtGoLHr3J7W1giZPafYTpJ+4YXXpeTCJTtpeufOnXLvvfdKQUEBl4U6Q+N3EiCBGwhQsNyAg19IQF1AdA0Df+nj0MCLFy/aFmH4hcC6snDhNBkzerBmapLWZuTrLTFXgGcJqrelBerzbWplyUhPlCXfmilr122RCxcvG2fsvLpy5YoJFsc9UPvAdpEACfiXAAWLf/mz9gAmAAuL23mDZqamJkpKapK1uK21xURNu6tLj3txXa6EtmAxT2BpksE5qZKZmapixSMMIQqbmpp6zI8PkgAJhA8BCpbwGWv29A4JwMqCuCY3+FXoRGsiQ+/dcP0OyvaIHM8OpOsypf0T6uy92cbn1pijLqq2/vj8WM8ytjPTHvbseT5FAiQQ1gQoWMJ6+Nn52xHwFiXXxcXtnur+PgQCBEtrm07aESqG8KYKCCFdsGwSIRpRVzPgmnfd3ZfYuzttbXoOkdYaiTUvJhIgARIIYAIULAE8OGxaiBHwmFakTdVI5ZUGOXuuUiorKqSpuVGjvibpUkmGDM1Pk7SUGJUQAyMgrlU3SmNTm6SlxkhcDC0fIfYbx+6QQEgRoGAJqeFkZwKZACRIs+6WOXKsRD75aLNGoj0slzW2S3OTCpZEFSwZqTJ71ni5d/kcGV40WGJjLAxcv3UpQs07GzfskXMl5bJs6SwZNixbTT/NA2LZ6bdOsWASIIGQJUDBErJDy44FEgHbARMZJQcPnJZ/+Ze35cyZUpmr23wfmTBfkhJjNE5JrWzddkhefe0z2X/glPzsZ4/KpOJh6s+CBZvryS0peZxYPcHhuls66i4vDD1YcsKPvftP6dlIZ2TatAkqWHLMruPq834edXRXz/XW8RMJkAAJ9B8BCpb+Y8uSScAIeMRKpIamb5JV73ypBydekJ/85DFZrpaURBUriJ7brFukH3hwoYb/XyO/+/178s7bX2pgusdkUFay+ra0mlhAADZYadrU/wW+JxAd8HmJ6OTz4oQGpI4nL7SJfWvPC0kC1eKRPa3qQOMp2S7pMx4/GzxhvjaaNTLy5no4vCRAAiQwkAQoWAaSNusKSwIQGRERURp7pFwOHjotxcUj5e67J0lSgkaea21U1aAHA6p4yEhPkCeeWCKHDp+SAwdO6gnMpSpY0lRAeASFOciqSqmqaZZrVU0SFxspaWmx7b4nnQ5i1Poam1rl6rUGqa9v0fN6osxPJRZ+Kp0ObcSuJPwHuQKxYp7AujsKz125WqcnVYseRxAjifHR1hY46NLaEpa/yuw0CfiVAAWLX/Gz8rAgAMWiYqCmtl6tLM1qVUlQ/5QoFQItJgAgFSzp94y0OHng/rtl/76TkpQUp0+pWjBLSIRcqqhVIXNKdu8+ZJFik5MSZey4ETJt6hgZVpilAgYZ9XRpPfPw5Oky2bnziBw+fELPQ6qS9PQUGT9+pMycNVaG5mVIlIkUrVXbBo1iTTQ7S4Se+9Mqx0+UyI4dhzSM/mn1sWmR4cPzZerU8TJmTL6kq1OwPQQTDxMJkAAJDBABCpYBAs1qwpeAZ15vlYyMZD3wL0X27Tuq/irHZc6ccZKcHKVzv0doYGdQa0uzzL97gsydO0Fi8a+zDQHqItU6c0X+/dU18vmarRKrN9LTk6WkuULWr98ro0bmy1/86EEVLiP1uIAoOXDwlLz44ody9Ng5ychMkhgVR2fOXpLPP9+ulp3J8uMfPygjinKcSmkfGI9qadIdQ998vVf+9OeP5PLlqzIoO1Wi1Nqyd+9JPVNpqzz17aWy4t6ZkpoSa89Ts4Tv7zV7TgIDTYCCZaCJs76wI2DLJ2o9GZKTJkuWzJDf/J9V8qtfvSwHD86UsWOLVBRkS3Z2ui7/JOghgNESrf8qY1UPeIKzREh1bZO89vo6WaVT2S4AADlnSURBVL16oyxdOlMeeWSRPpMhLS2tsuGb3fLr37wtr776uQweMkhS9QTpf3/1MxUopfLTnz4sc2ZPlCg99KhBT0t+4421smrVehk3dphaZJZYPdcHo00iY6Ll4J5j8sc/fqhWnQj5z//pP8jE4uEWPO+sOgn/2799KP/+yie6mylFliyebA7B15/nJxIgARLoXwIULP3Ll6WTQAcB3SSkyz13qQCIllXvfqEC4nMVHW2Sqss1sJJMmjhcRo8ZocsuBRrCPskOV4yKjpPde4/q+Tvb1CIzUX74w4cld0ialqnrPrpW9NDKBXLu3GXZsmW/nD5Vrr4miVKulpF7750ty+6dozuQVPnACSUyXlasWKgWmT16mOM5qa1tVP8XPWYADrb6H8pqamxRK8w2qatvVqfgp2TxPdPVuqL1aJ6c7ByJjUuRv//738vGjXtlxozRdjaQO6Kgo5P8QAIkQAL9RICCpZ/AslgS6EygrblVUpLj5NHHFujSTLEcPnRG9uw9rtuKT8jxY2dl5/YDEhkVrcKkWJ588lsyeXKRJKrI2b7toPmlzF8wXYVMirQ01ZtfC4RETFSMniB9txSr2BlWmKFWk0h5+unlUlQ0xJxyq6vrVIC0SE1NrZw9W65+NLV6qGODnZHkKcT0iBYVJWVl19Tqc1pycwfrklOWLild1i406wu+KhFq/Umye6dPX5Tz5ytVsOgOJhVO9GTpPNL8TgIk0B8EKFj6gyrLJIGuCKgvCBxcY6PapGDoIBk6NEcW6OnPEBEVl6/IkSNnZd26XfLFl9v1lOhy+Zv/+xmZMnmEnDl9XlKS4lUsZHnUhcqEyI6Y/i1SqA63BYXZumW5xYwpSclpGkW3XMvaLRUamK6qqlGqa+rl6NGzuqW6RGZMG9HeOo+rrRaq31WwlF6V0tLLUlFxQhobqlQ8YdcQskKStEqU+sfsVYGVkZ6qJ1jXeB7DfSoWQGIiARLoZwIULP0MmMWTgCNw5uxlEw5D8zPN1wTX49QiEpeeqH4hyTJiZIHMXzBDhr+UL7/73Sr55ptdMnZ0vp5m3KLLQxESo3mRbtpSbNuUPeLjalW9fPLJNvnyyx12JlFqSrw6+6ZJXl6O+bMcPnLKyvDkvlFpNDQ2q+WlRYVJpESrPwsOfvTkwyOIyiIyadJoGT0KS1ap2hDEh7Hi+IMESIAE+p0ABUu/I2YFJACRESkfvL9etu04Jn/5l4/I3Nlj1KcWyy0qCdQhFzM/AsMlqSVl0aLpKjo2SImGzG9QsZKmTq7nzper2GnwHIyoZg+IFgtIp+VeunRVY7aUSH7BENm+46j8+aXVMnXyaF0a+pbk5g1Sp1s9JyguQS5cKJcPV3/tJUK8RwZ1x9qW61mzp6jD7hP2HTuXTJVonRAvVyp1OUqXgQbnJKhFB1uuqVi8KfIzCZBA/xHw/MnWf+WzZBIIewIWOVaFRZs628JH5IguzTRBq+CMZAgBvNQxFoKlVd+xowfXsH0ZTrejRhZZDJcTx8+pL4vm0W3Q2CEEh90WiZGvNxyRf/n1e7J7z3HZvv2gJCbEysOPLJVitYZkZSVKuh5smKjOMFeuXNWYLNVeGgNiBJoDYeNaZciQDN1plKXbmSt1SahOMtPjNdicBpxLidJloFgNdBct677YqMJrnS4bVWu8O0/7w36ACYAESGBACFCwDAhmVkICEWpVKVY/lEz58ottGtTtlNQhyK1EqwCJUbmgwdhU0JSV1cjHuqRz9WqtbnkuVCfdWJmlwd6yB6WqT8pWFTwQLfqM5o+IjlVflysqInYY3nxd9kFqVDVkjrWNraIHQZtfy/lzFbLm850aEO681hdposfC+2t+i3Qb0WLHAEybMkodgM/IJ59ukXIVJS0tuntIY7PU1bfJpk0HVKx8qf4r1SqAENSOiQRIgAQGjgCXhAaONWsKUwLmc9LWrLt+CjWGykKNc/KRPP/8n2XZMj0heXiBBnZLUDJtKgQqZdPGPbJBT1CeO3eizJs3WbcVt8qY0UMs9srvf/++vPDCG7pleZ5k52SrkKhTEbNZnWlPyXf+wzKNZFsok4+NVEG0U1579WN1tq2TpORkaair1m3P+zT4XIX6smTLsaPnZfeuo3K3lq9eKCpeULsuM+mZRt/SOC8IPPfuqrW6zblRJk8ZZ9uwy0rL5B29lqTRdZctm2M+N1jKusmfJkzHmN0mARLofwIULP3PmDWQgCoCzxLPY48t1CixyfLue1/J6xrIzVxA1LoRoctDLerKEhcXK/fdN08ef3yRDC/K1uc8TrD33zdHhUOExm5Zp4HnXrfty3CQjY+L07yL5f7759p5QfcsnqpxWcrko482yYH/+aLEx6slRi03Q/MHy7e//S1ZuGiKvP3WGtm985BuhR6pu5UGS0tzs1pyEqS1uUlGDB+ikXAflj9rpNsPP1wvqz/6yiwwcPwtKMiV739/hUyfMcKWkDisJEACJDCQBChYBpI26wpvAuqfgjgsD62cp9aTYjlz5qIGcSuRyivXbMtwXm62jB5dIPlDs9UPRf9pqlgxJxM1gSTo9wcfnGfnBu3bf1wdci9JamqyTJw4QkaNypeEeA3xr4Jj0KAUdep9SB13p8nBAyektq5BxUqOTNB8eeqA26x57pozVncdRZqPykMPzNQlpKkqohJVhHhiqkwqLpT/8l+eNX+bY+pv06CWlgJ16MWhjbm5GuslEiYZOtyG9y8ze08CA0+AgmXgmbPGcCagoiVaLSVDNFrtEJ38Z8wcb5YVVQsW2VZ3EqsW0EMRsdzixQlOuTG6tXn4iMFSOGyIPROl36M0pkubnj9kF7BzSPMl66GJM2aMkSlTxpj/CkL9R+rSUquacGI0lsqwolytREWH1hEbB98ZrUmfa8PaEJJez8pMthOl58yZbA7Arow2LQP5uBTkQcWfJEACA0eAgmXgWLOmYCdg83n7pN6bvqh1olWj3mKrM7QCArRZUiHQqjt/VE3cJAgsh4oMLNtEqpTxPIPvml+vOwGBfCYqVFjgRGaIGjipoFxbftLsra1Nns+o1IQLPtyYWnWZCGVCXFlSQeMpQ3cUtV+68Qkfvxk+++HjA8xGAiRAAh4CFCz8TSCBASfgJn1sZ75x8vYIj+4VAe60YTmm/THL30lBuK835UM/tYDuS78OwlOGZ7u1u+pEkfves3c0HC3wpRU9q4FPkQAJhCYBCpbQHFf2qg8JeE+tmG49sVN0yvW+0cP6eiICfH3G13y3anpflIHyYcjRLUlq3VERpILLww7CzfO6VRt4jwRIgARAgIKFvwck0A0BTKY4PycCjiWaamrrpVq3CjfrpBuhM3CbW2bp5nlevk4AQgUcL5dXyZWr1/SGx0QUExNjjK/n5CcSIAES6JoABUvXXHg1jAlAqHgizcZKdna2JGssk5qaGo1jclk2btorM2eO0+3A2ep/AmtBGIO6g65H6KnTlVfq9IyjPRo35ly7lSXS+Kanp1tJfWXNuYNmMSsJkEAQEaBgCaLBYlMHjgAECybQ4uJiKSoq0gi0ZRquvlHeeWedxKlVYKkGT0tNS7E8A9eq4K2pqbFBtumxAS+/vNq2c0PoDRqUpYcpTjLRQrESvGPLlpPAQBGgYBko0qwnqAi4CXT69OmycOFCOXLkiJ7Fc0UPELws//r7VfLBh1+rYEmwYG7OATaoOjjAjcXBjWVllcoQy0EIkBcnixcv1ng08zTGDCL9wieoD5yCrCT+IAESCEUCFCyhOKrsU68JYPKElSUrK0uefPJJKS0tlQ8++EAn3Eqpra2TY8fPBORykLMM9RpAPxQAppHqx5KYmCDTpk2TZ599ViZMmECh0g+sWSQJhCIBCpZQHFX2qU8IONEyefJkee655yQlJUV9ML4w8VJVhYMBEYk2sBIEC1KgWSvQHlhS4BMEqxXECixXcLoNtLYG1oiyNSRAAo4ABYsjwXcS6IIAJtNoDfM6ZcoU+bu/+ztZunSpHiS4RU6dOiX19fVdPDHwl5xIadQQ+li2SkxMNHEVSNYW7LYaPHiwRuCdYctAhYWFFCsD/6vCGkkgqAlQsAT18LHxA0UASxmYcFesWCH33HOPNDQ02JLRQNV/q3qcYDl+/LgeeviRngo92awXeCaQrBewpkBM4d21+Vb94j0SIAES8CZAweJNg59J4DYEYG3BhIutzoGQvCf+r7/+WtauXWttW758uSQlJVkTA0m0oL14BVKbAmEc2QYSIIHbE6BguT0j5iABI+AmWW+R4G80ri3Xrl2TzZs3y969e81ReMmSJebY6u/2dVW/49jVPV4jARIgge4IULB0R4bXSaAbAoE44R44cEC2bdsmEC47duyQPXv2WAyZ2NhYWjO6GUdeJgESCC4CnpjjwdVmtpYESMCLAJxtN27cKIcOHTJxUlJSIps2bZLz58/b8ouzwng9wo8kQAIkEHQEKFiCbsjYYBLwEHBC5PTp07YcdPHiRbvR2tpqO5n279+vhw3qiYNMJEACJBACBChYQmAQ2YXwJQBBsn37dsGSkBMwoIHIvLiObc5I3vfsAn+QAAmQQJARoGAJsgFjc0kABJwAgSDB8g+sLLjmrtfV1ZnV5dixYx3XSI4ESIAEgpkABUswjx7bHrYEnDjBrqDdu3cLBAqcgXEd73jB8Rb34ePCRAIkQALBToCCJdhHkO0POwJOlDQ1NZmvCpZ/EEkWwe1cwu6g8vJys76cOYNzj65bX1wevpMACZBAMBG4/n+4YGo120oCYUwA4gPp6NGjtpU5MzPTQt7jHSk+Pt6OEkAYfIgZWFqam5vtHn+QAAmQQLASYByWYB05tjtsCbiln5MnT0pOTo48+uijeoJ0rfzyl7+UsrIyi8T7yCOPmIjBCdOwtFRXV0tGRkbHklHYwmPHSYAEgpYABUvQDh0bHq4EIFiwO2jixIkyYcIEycvLk9WrV5vfCpjAAoOw/HfffbeMGzfOxAyWjPAcEwmQAAkEKwEKlmAdObY7rAnAX6WoqMgYOIuLWyrCxZaWFhMoBQUFHZ8tM3+QAAmQQJASoGAJ0oFjs8ObAEQKXhAmt0oQMRA3tK7cihLvkQAJBAMBOt0GwyixjSTQDQEnXLq5bZcpVm5Fh/dIgASChQAFS7CMFNtJAiRAAiRAAmFMgIIljAefXScBEiABEiCBYCFAH5ZgGSm2s88JeDup9nnhA1jg7fpxu/sD2NReVcWlrV7h48MkEPQEaGEJ+iFkB3wl4D1xe3/29flAzOdLP3zJE4h969wm1w+8u8+d8/A7CZBA6BKghSV0x5Y98yLgJjm8I4YJwtqHwqSHviDGCiLZuv7gHf2rr6/vuOaFIig/wrqCfkZH3/i/LFpdgnI42WgS6BGBG//196gIPkQCgUvATeI4HPDChQty/vx5i/xaVVVlk3ywT3joX0xMjIXor6ystIGAWNm5c6e8+eabds8xCNxRun3LME6JiYkWrXfIkCGC+DKpqan2YLCP4e17zxwkQAIgQMHC34OQJ1BaWiobNmywaLCbN28WfIf1AdaJUEgakUWaW5qlqbHJ4q00NDTI22+9Le+9914odM/6AFECYZaeni7FxcWyYsUKWbZsmQwbNsyuU7SEzFCzIyTQLQEKlm7R8EawE4BlAeLklVdekd/+9rd2WKBe0kk92HvWffshXpCampvs1X3O4Lxz9epVOX36tGzcuFH27dsnf/VXf2XHE/DogeAcT7aaBO6EAAXLndBi3qAg4JZAampq5O2335Zf//rXcuLECbM+REdH6dJCksTFxevUHlrKRV1R9SCh9iHSroVO/zwqE0tdtbXV5p+D5a+XXnpJEhIS5K//+q9tiQjjTktLUPwTZSNJoEcEKFh6hI0PBTIBN3EdOHBAVq1aZWIF7U1ISJKxoydI8cTpkpU5yELWw+LCFOgEPEKkuqZajhzdL3v27ZArV8oFghTLXjNmzJAnnnjCloYCvSdsHwmQQM8JULD0nB2fDFAC+Csb/ilbt26Vw4cP21/dUVHRMmP6XHn26b+SieOnS0x0DEwQTEFEAEL0Yuk5ee2tF2X1x2/J1auVcvLkSRvnRYsWSW5urvWGVpYgGlQ2lQTugAAFyx3AYtbAJ+CWg+BUe+rUKamoqLCtvbCofGvxg1I8YYaKmTapb6jn8kHgD+cNLcTY5ucVybIlK1WI7pOduzfb2EK0wFcJgsVZ1254kF9IgARCggAFS0gMIzvRmQAEC7Yuw+8BafDgXBkyON9ESltbsy0HdX6G3wOfAMYzIz1L0tIyOhoLR1wsDzGRAAmENgFGug3t8Q3r3nkvDUTqklBkZFS7IyrXgoL1FwM7vDxuR/qz3f8IVhX3CtZ+sd0kQAK3J0DBcntGzBEKBOhdGwqj6NUHik4vGPxIAmFBgIIlLIaZnQQBTnH8PSABEiCB4CVAwRK8Y8eWByABLE3o+sQdtay3yxm29NWFGutJuT155sbO3nn/b3ye30iABEigawJ0uu2aC6+SwB0RgGi4oFtuT5w8LIka72X0yPGSnJyu2qXr8P/I39DYIMdPHJTL5WUyvGi05OUWSmTEnf8NgbD8EEmI9mrh4rTspqZGOa5twTbggvwiKSwcqVu5Y83Xo6uORUZGSnnFJTl2/KD6+kRo+yeoY2tmt/m7KgN9OldyWp2dr8rQ/OGSmpIWMscfdNVfXiMBEhhYAnf+f8eBbR9rI4GAJwCrRJQ69O7dt1X+9wv/j/zLb/9fOawBzmD0wL3OyfKrE/CFC6flz6+8IP/jf/1X2bp9vbS2tNzRVmsIhJbWFtm7f5vsO7BdGtq3auN6fX2txip5Q/77//e38ta7f5bKynITQ121x7Vv246v5flf/Td58U//LGfPn2wPrHdz+11+73eUi5OUt+/4Rt5b/YqUlp03J+db1ef9PD+TAAmQwO0IULDcjhDvk4CPBBobG01wlJSckYOHd0tNXXW3k3arCo2Dh/dIyYWzWnqbnhzd1L7pxbO2gzD7nSd77++ezx5LylfrP5Yvv/5EajRsPcQKEp6HlaVNWtVqckBOnzlm1+ym1w+Ug6B6FZWXZf8BjSB7VePW6H8tarXxlHVzO7wetzZ6twtnGDWq5ai1G8uS97P8TAIkQAJ3QoCC5U5oMS8JdEPArB06yaekpkmmBqk7eeqIXLx4TsXAjf/EMLlHa5Td8ooyEzUpqakaHybPSvVIDY9VJkKXhrDEg6UalI137wP+oEui9Boi9kZaviizcLhlIRQI0ZCfV6iHIDbKkWP77BwebO32FhjIh7KPHtsvly5f1KWcAklOSlbLDZay9DQibQfK785l2VP39T626yU6OAMsEwmQQJ8SoA9Ln+JkYWFLQAUEJnmP/8o4jbB7WY6pf8rw4WM7rB6ODUTMERUI5eq7MnH8VDlz9oRaNFpUE0CyeM7NaVIrBXxbyi5dkLraWjvkLycnVwZlDZbY2DiL1ltVfU0qr+JMHY9lpaysBI+r70yaCQ2UWVg4Qs/YiVULy3HzsRk9cqI+q3W1J4iV+oY6PZ9nmySqUJmQM1WFS6m0aV/QHCwtNTU3S0J8ggkt95x7r1Z/FVhkEuKT9JI+0L6C5NtCkiuF7yRAAiRwewIULLdnxBwk4BMByA34oYwZXSwHD+02q8bsmQslM32QwDHWWUrqVATs0+WXpKQUGT1qgi0LOedcWDSqq6/Ilu1fqV/L1xpy/oKKhnoVHdEyKHuwLJi3TGbPWKinTcdZng2b1sm+/dvN+nLlSqUe7lgs9y1/QlKSU8ySkpiQLOPGFFtZcKgdUXRdQDlrz5mzx23JaNzYSSZKLpaWmO7AUhGWtuBIPGfWIhlWOEqXrjz9QF+wjPWFLke1tbXIwgUr7BRsiBcmEiABEugPAtdtuf1ROsskgTAigEkc1ojsQUNk7JhJ6lR7Vs6eOyERuusGyQmEc+dPqQg4IsNVPOBsHDjO2vKL/oT1Y8PmNbL6kzfVUpIqTz72A/npj/+zPP7o981p9v3Vr8qBQzvNmBEfFy+pugQVp++xsficrs+kSLQu4TjZACvLWBUs6emZJqDgowIH4evLQm3qtOtx2B0/doo97ywwWD7Crp/d6kyM52CNQcKz6CsOmDx4aI8cOLi7w+G3o2LLyR8kQAIk0HcEaGHpO5YsiQR0Mm9Va0e0TJo4w3b+HD66T8aNnWxbijHB4/7+gzvVIbZBrSETJUm3QLe2qL8InF91lw18W7bpTpuRI8bJ9575jyp+cs2qAVEyvGiUvKA7kGD1mDRxpiycf5/MnX2P7kr670b+h9/9uWRm5FjZEBiw1sAKkqXLSGNGFatFZr0JqKzMbGlr9uzquXqtUg6p8++gQYOlqGiMLRs5sYNC4SdjRxqoQOkq4TIEGf5jIgESIIH+JEALS3/SZdlhR8CzVNJsyydDBheoJeWQ+YSY06xaLK5cKVeLxC7Jyc6VEerfYo4iMEu0z/c43G+UxnCZN+ceXdZJk7q6GvUxqZXqmmtmRYnWWCo47A87cbCTB/chSvCqq6s1fxQII48zie4RghCKjJYJ46eZRQS+M57tz3DijbY4MGWXL9gyFvxjbHeQa4yWguchsrDUox9vSjj52oQYTSs3seEFEiCBviVAwdK3PFlauBNQ4YFJPzkpVcarZQXbhbFjCJM6LChHdYvxJXWkHaPWlaxMCARP7BUInRZdThqckyePPPSsCYjLam05c+6knNDnYZXZvPULKSk5q8LB4ymCZ2BFQTJLh/6IxAev5BFQTVKkgeOG5OTLiROHTUBhp1JjY70528KJd5wuYcWqc26bChAmEiABEghEAlwSCsRRYZuCloD30gh8QjZsWmNbhqdNmas7fRJl996tEqc7bsaOnmS7d5yzreswBAd2+0CgnL9wRqPGXrPtyvHqZAvHXU9+iArfhAXkC0RRSkq6WlmmytovP1QBdFgtQCM1ONxZE1DDCkZaZFqzzNyod67bWnyrznWD7yRAAiTQ5wQoWPocKQsMdwLOqpE3pMCWhk6dOapWjQsSp5YM7LgpGjZaBUKRbR12rGA1MSfX86fkjXf+zbZFT50yR6ZMmi3paVm6hDREl30aVczolmP3kNd7V9fcbbunP+BL883Gz9t3Ly1Q35W9tow0bsxkswjB2dZbcLnnO947iRnEeXGC65bPdRTADyRAAiTQcwIULD1nxydJoBsCnh00cJSdMG6qWkt22Rk98DOp1/D5EA5YMsLuIIgbT8LyToRs2bZezpeckWee/Eu5e+5SeI6YhQRipuTCKfNdsSdUgFzf6QMXmAjPUlEXjiYoFxFoc1VAFQwdIefOndKjA/bqbqPd6qSbbQ6+sOx4l+c6hmcRk8WsL1iKai8f151/TbxajK6bYtyTfCcBEiCBviVAH5a+5cnSwp2ATuSW9A1LMThEMEe3OW/ftUG+2bRWBmtU25EWTE7/6ZnpA1IDvieRKmCa7QDChPhE2xoNQYOgcXDExa4i+LKU6nJRpDrRwmEWogFCATV6LDTt0XDtihsIlI7t0q2CbdDFE6ZpWY3y6Zp35ZyeFwRfGmzDRltdYSjX85ToMlaS1KpjL3YdIUVHR6kvDiLwRnmC0V08b+3QeLx23/PmnvZc4k8SIAES6AsCFCx9QZFlkAAI2ETvQYEpGz4nmbqFeML4KXL48D6zssC51e3GcXM8nsDSCkQAdg9duVKhvi5b5LKGykcU2qvXKlTwfKPbnb/W84KqpEoDy1VUXlKR0WwxVWJViCAi7oFDu1SEnNJToOu16HYB4WmOiQoTUKMmakyWLPlq/afmYAsLEGK4YHnHaS1rD2w7ak3JzxumXyNlx66NckrPI6qprbHIuoeO7JGtaI/uXsKhhzw7qB0030iABPqNAJeE+g0tCw4nAlgpgWUkI2OQRaFF3zHh42yf8SoKCrdvkBaNCAtnW+zKgZUDCffT0tIlXh1yITJmTJunjrAH5fN1H8hxDS6XnpZpIgWCZNLE6bJsyUrZpY67m3THEILBpaVm6A6fybb7588v/0aKNc9jD39P25FpgeRgWfGcBeTZvQQBNX6cCqgj+/RYgGkeXxovsRKvfUCZ8LeBz0yRRredO3uRfLn+E/k3PcU5XwPdITZLqfrk5OUOlTlzFkpSYrIZi9BfWGQQwA67kJhIgARIoC8JULD0JU2WFZYEsIQCh1VYT1JS0qRw6EhbgsF1hLLPzx0mDz3wbV32iTKB4LFm6BKQWkgy1NrxrXtW6vsgs7IUDB0uTz/5I9m4eZ0cPLhHnWwv6FbnXFl6z0Myc/p8PcCwRoVCoYqEFJU3MJBGqKBYrMs6g+XI0QMqFjI0RH6i7UCar2H8se4EfxmEz0dePDNj6jxJTU7XcgqsHM/uIN1WrctCEFRoU+6QQmt7XFyi3Hfv41b+1m3f6I6nAyqwMmTK5Flyl9ZbojuZsGSUpEcAoD+w2ORr++Abg2MKmEiABEigrwhQsPQVSZYT1gQw6SMQ3GhdcoFzLSZ/CBZYHbDkMmfWYuMDywpinXhETqsGh8vQiX+JCRw8h3KwzbiocLTFSUE5cN6NVp+VRvVlwdlAKx94xhxhG7UsiIR4FRVTJ8+VWXrGEJ5HYDgIqDl6jhES6kSANyesBms8lqH5w/VZBJxrtjyQMtYHjXY7asQE6wPKQPtTktLUsvOwLF5wv7apUfsTa6/mJgiuQZ5+ar0oa9SI8ba05fqCOplIgARIoC8IULD0BUWWERQE4ONqfq791FqPcyyWenT6v2GiblMRUWe1eq5fn8Thu+K5d/0ZlIMEnxa8IFqcsMD1mppGK9+V5crAycqubty7XueNrmoQORAUyOMpA6V6kqfu631AN+D829LgEWA4dBHCBgcyIuF57CLSD/bdPe8p93o/7SZ/kAAJkEAvCFCw9AIeHw1sArAODGS61STtItJ21Z7O95yIQPvxwnd3Dc9H6NJS54Qy2jVDx63O5bobnctz1/HuqedGoeFdt7MceV/zrrir573L74vPHa3Dh4Ed4r5oPssgARLoIQEKlh6C42OBTcDO7lGHVjexNujZO9gajBluoIVMb0kFWnv91R5XL5aq8HIJu5TgvMxEAiQQ2gQoWEJ7fMOud06gxMfH6y6adNux09jQKKWlJXqmz1HbsROnPiWY/FzesIMUpB12guV8yWm5XF7W0YuMjAx1dlYn5M4mpo4c/EACJBAKBChYQmEU2YcbCGBig2AZM2aMBmobrOfxVElF+WX5bO37tu24eMKMjq3HNzzILwFNAMtR2JW0+pO35aRu+cY4w6dm3LhxkpubS8ES0KPHxpFA7wlQsPSeIUsIUAJz5syRWbNmaSj6c9JQ3yB79m7ToGzlMlGjvWZpPBL+RR6gA9epWbqIZxuysX36oB4ncOz4YdsJBcEyfvx4ueuuuyQrK8ue4ph2gsevJBBCBChYQmgw2RUPATdpjR07Vp544gn9a/yk7NyxU31YmjSc/Al7ueUFMgseAhhXjJsb37y8PHnyySdlxowZwdMJtpQESKDHBChYeoyODwYDgaVLl0p1dbX84Q9/kN27d8vVq1dtW66b9IKhD2yjh4ATLAkJCVJYWCjf/va37ZWd7bGWcUz5m0ICoU2AgiW0xzfse5eUlCRPPfWUDB8+XN5//33ZtWuXLgtdMdHSGzjYhYRYJDU1GuVV64DPDOKThGsCj2vXqsyKlZqaYucL9bUVC4IEnEeNGiX333+/LF68WM9qyjTkFCvh+pvHfocTAQqWcBrtMOur+4sc217nzZtnSwclJSVy6dKlGwKx3SkWTMQxMTGydetW2bZtm8yfP1+Ki4utzHCcOB2Pjz76SMAXVq2hQ4f2uSULbNPS0qSgoMB2BblxC0fmru98J4FwIkDBEk6jHYZ9xWSGFyZV7CiBpQWv3iSUBX+Y9evXy759+2TBggUybdo0C1ffm3KD8VmwAF/sxHrttdfk6NGj8thjj8ns2bM1Si+C2XWEeevT7rl6+6v8Pm0sCyMBEugTAjfG7O6TIlkICQQeAUxsbnLDZNfTF7bWIp05c8YsLFhi2rx5s1kWUCaWhXpadjA+5/oL/6CdO3fK9u3bZceOHSZgwMnd78u+odz+FEMon4kESCDwCNDCEnhjwhb1IwFv4dKbarAUtH//fjvnB5M0PsMRNNwmUvBsaGiQjRs3yuHDh02o4POyZctk5syZJhKdUOwNbz5LAiRAArSw8HeABHwkACsBJl/sNIL/yunTp+37kSNHzKqA60jIFw7J9RMctmzZImVlZcYDFpY9e/bYyc7hwIF9JAESGBgCFCwDw5m1hAABN0Hv3bvXBAp2CMGigndYFeC/EW4JSz4QKwcOHDChBkF34cIF44GAfUiOW7ixYX9JgAT6lgAFS9/yZGkhTMAtf2zatMmWP9BVNxnDhwMvLI+EQ3L9rqysNB8e+PS4a+i/95JZOPBgH0mABPqfAAVL/zNmDSFAwE3Gp06dMosCtkYjuesXL16UDRs2yNmzZ2+4bl9C+AdEGhyP6+rqrJewuCDB2gTfHsS8YSIBEiCBviBAwdIXFFlGyBOAMMFkDN8V7+UPXHdOpfDdcI64IQ9EO4jAeVgKgw+PE27oN3hAwMASFY7LZOEw9uwjCfiDAAWLP6izzqAi4ERJRUWFWVfgm4HAcU6o4B3fcWYRRAuWSZC8J/Gg6vBtGuv6dfz4cRNwcDZGcD6XoqKijAccb8Npmcz1n+8kQAL9Q4CCpX+4stQQJAAxcvDgQZkwYYJFzU1NTbVeIjQ/tvCOGTPGJujOFocQRGFRfRF/prS01KIIjxs3zkQK+pqTk2PX0tPTzb8FQo6JBEiABHpL4PqfRb0tic+TQIgSgAWlublZ4KcyceJEeeCBB+TQoUPy/PPPmzUlJSVFvvvd78rgwYNl3bp1Ul5ebvFZvK0OoYLGWZtwoCQsK4sWLZKHHnpI3nrrLYHFpbGxUYYNGybPPfec+a/AvwXbncePHx8qCNgPEiABPxGgYPETeFYbXAQwEeM8ouXLl5swgdXALY3gHVaWhx9+2CwvCNsPgYNlolBLbhkM/XrwwQclKyvLzvV57733OnjA1wfWp5UrV5qgwZEITCRAAiTQWwIULL0lyOfDgkBiYqKdEuxESnedxsF83pN6d/mC/XpGRoZgyQcJAq1zAgO8cG4TYtUwkQAJkEBvCfD/JL0lyOdJQAm4CRowbidqQgWY66d33737hutILp/3PX4mARIggTslQAvLnRJj/rAl4Cbg2wHwNd/tygn0+90JFe92+5LHOz8/kwAJkEB3BGhh6Y4Mr5MACZAACZAACQQMAQqWgBkKNoQESIAESIAESKA7AhQs3ZHhdRIgARIgARIggYAhQMESMEPBhpAACZAACZAACXRHgIKlOzK8TgIkQAIkQAIkEDAEKFgCZijYEBIgARIgARIgge4IULB0R4bXSYAESIAESIAEAoYABUvADAUbQgIkQAIkQAIk0B0BCpbuyPA6CZAACZAACZBAwBCgYAmYoWBDgplAuES3vdUYkcGt6PAeCZBAbwlQsPSWIJ8PSwLek7P357CEoZ3uzIDnB4XrbwL7TQL9R4BnCfUfW5YcogQwOSckJEh2drY0NDRITk6OxMfHW287T9whiuCmbqWkpEhubq7U1tZKZmamxMbG3pSHF0iABEigNwQoWHpDj8+GHQEnSCZPnix/8Rd/IVeuXJHU1FQZP3582LKIioqS+fPnS1JSktTX10teXp4MGzbsJqtL2AFih0mABPqUQISabtv6tEQWRgJhRMD983FCJoy6flNXw5UFRNof//hHef/9983iNnHiRPnhD38okyZNMtHG342bflV4gQR6RICCpUfY+BAJiLgJ2rEI54kpnFmg71VVVbYc1traasthsLpxWcz9y+A7CfQNAQqWvuHIUsKIQOfJ2bvr4SBavPvvS3/vNL83z0D7fKu+uHtdMbnVvUDrI9tDAoFKgD4sgToybFfAEXCTjntHAzE5eX93je5q0nL3QuEdfb6TPsLy4PK792DkgH7jFRl54wZL79+BzmzwPVT6H4xjxjaHDgEKltAZS/akHwlg0sGrqalJKisrpaysTK5evWrfo6OjzfF28ODBtkMmJibGWhLME/OtUNbU1Mi1a9ckOTlZsDuou36CFxLyX758WcAFO4iwwyoYE/qDfqM/aWlp1n/Xj+4Y4H5jY6NUVFQInJMzMjKMg3uO7yRAAr4ToGDxnRVzhikBJ1YgUnbs2CEbN26UXbt2ydmzZ21XDHwVhg4dKtg5dNddd8nMmTMF4gUT1K0msmDD6QTI3r175fPPP7e+Llq0SCDYkLz76phB3K1bt07Wr18vU6ZMkeXLl9suIu+8wcRh+/bt1pe7775bFi5cKHFxcd023/E6dOiQOeQOHz5c7rvvPhMtnXl1WwhvkAAJdBCgYOlAwQ8kcDMBN/GeOHFCXn/9dXnzzTdNpECgYBdIYmKi1NXVmQUBu0Q++ugjWblypTzzzDMyevRom8yDdXK+mYbnyoEDB+Tll182p1JM3E6wuPyOGawqq1atkt/97ncm4ObNm2cWGZcvmN6d+KiurjbxcfHiRRvfwsJCE2rdjXFzc7N89tln8qc//Ul+9KMfmYgNpn6zrSQQSAQoWAJpNNiWgCLgJqkzZ87Ib37zG1m9erWMGTNGnnrqKYs7MmTIEJu0sUyEyXnDhg3y2muvySuvvGLxWZ577jkZNWqU9am7CS2gOuxjY+C/AeuRtwXJ9c+JldLSUnnjjTeMxaBBg+Sf/umfpKCgwCwSLq+P1QVUNljPIFT37NkjR44cEQiWrpLzWQGHnTt3WnDBWbNm2dIh8gczg676y2skMBAEKFgGgjLrCDoCTqzAX+Gdd96Rjz/+WObMmSN/8zd/I8XFxR39QT5YGCBeHn30URk7dqw8//zz8umnn1rwNPxVnZ6ebv4voTJJoc+YkB0jwPD+XFJSIi+99JK89dZbZoXwFm4d4ILsA8YOfUQ0XyxtYVlw3759AgsTrGy419X4QtgcP35cZs+ebSy6yxdkONhcEvALgRtd3f3SBFZKAoFHwE3AmJQ+/PBDgZUAwcAgVnDPTTyYpNxEhWsTJkyQH//4xwJ/hQ8++MD+unZlBV4v+65Fjsnp06flX//1X826Ap+ev/3bv5W5c+daRd6s+q7mgSvJjTmsLIjmC38W9Ler8UVfcWzD1q1bzUkbVhmI2mBnMHC0WRMJ3EyAguVmJrxCAjaxwP/g66+/llOnTsnSpUvNqRZoMOl03taKa26JZNq0aQJnVDjlwjkXkVCRuprY7EaQ/0C/YHE5evSo/OpXv5L33nvPRAqsUbBGIIFPsCfXBxzDMG7cOLOwHDx40Pru3Tc3zvi9wfhj2QjRb/H7wUQCJNBzAhQsPWfHJ0OUgJtwcE4QLCw4I2fq1Km2lRVddhNXV93Hs9i+63YKYYcI/BhcmV09E6zX0Ce8IFYwcf/zP/+zrFmzxsTdz3/+cztfKZT67cY9KyvLxhfblXfv3m1bnTGGnfsKsQLRgt8F+DK554N1vNluEvA3AQoWf48A6w84Am7igdBA/Aws72AJANfdvVs1GhNTUVGRPXPu3Dm5dOnSrbIH5T3HAQ7HcCr9x3/8R9tFNWPGDPnJT35i/hroGCxRoThRQ4SMGDHC+o4dZI6He4fv07Zt2yxOD6xMWFJECkUW1jH+IIEBIEDBMgCQWUXwEcDE44KEIdgXAqQh3W7CcfcRWAzOmOXl5RZgLvgI3LrF6CcsDJiUsQNo06ZNtmMKy1/Y+tvS0nLrAoL0rhtfWEzgr4SdQvv37+/orxMs7jqWj5CPiQRIoPcEKFh6z5AlhCgB+LBg4oXvQWefldt1GfnxggUC5YRawsQNp9N/+Id/EFgYvvvd78rDDz9swgU7hM6fP2/izk3godZ/iFEECcQ7ln6wrd31FUtkcLaFDxMsTrC2OaETahzYHxIYSALc1jyQtFlXUBGIj4/vsBrAmnAnCTtEIFbg/4JyQilBiLmAaNg19bOf/czECkRKbW2tbQHPz8+X733vewJ/D0zkoThhT58+3awn2LoMh2NEN0bCkQ1YJsPRBfB98tU6F0q/I+wLCfQHAVpY+oMqywx6AphgsRSUmpoqiGoKX5ZbJUzK7oV88FuB0252drbFYbnVs8F2D2zwwk6ZX/ziF/L4448bJyx9YOs3dsW8+uqrFvW3qqqqw/IQbP3srr1OfCHaMfxT8PuB6L8QtbgHR+3Dhw/bPcTlYSIBEugbAhQsfcORpYQQATch4S9mONvCtI9lj+6WdrBsBGuK89uAcIEPAxxuMalBtLgyQwETljyQHnjgATsbB1Yk9A+v+fPnyw9+8ANj8Yc//EG++eYbi0cCJqGU0B8sFSIgHKxIWB5DwDz8jmzZssUEK6wrCDSHFErjH0rjyL4EFwEKluAaL7Z2AAi4yQXWFZj9MTkhsumFCxfss5uwcR0vBA/DYYDur2wXph87RRB/A4IFyZU7AF3o1yrQZywLYckDh/+hX/iOhEl8xYoV8p3vfEdOnjwpL774ojmlOlb92rABLNyNJQLCYYyxLIQt7LC24IBMCF1YX3AwJhMJkEDfEKAPS99wZCkhSACTLA7sQ0h+7ILBqcMIv4+J2k3AmLhcwDQIk6efflpw9tBXX31l/gv4CxxxWUItuf579wssIObgs4HzluDT8vbbb8sf//hHWz6Cg6qb6L2fC8bP6AcYZGZmmqjFeEOwYpcULHILFiywrd2h0t9gHCO2OfQIRP03TaHXLfaIBHpHwE00mJAwCeNgQ/glYDLOycmRhISEjskXvi6wMOBUXogaTF6YzHCOECYuJ1hcmb1rmf+fxq4YWJwQ0RdiDmcpub7hHX0HJzjeYlkM1qeRI0daLBIsHyG5/P7vTc9bgH6iH3jBqoK4PfgdKSsrk8cee8wCxrn7Pa+FT5IACTgCFCyOBN9JoAsCmHDgh4JJGaIFlhY402IXEHaDYPkHsVYgamBZQVwSTFgLFy40Z1T4MEDMoJxQSYjuChYQLLAggQ2S66N7h7CDmMNSCc5VggVquAbhw64plycUmECcIdIvxCqsLAgqB8GC/qOfodTXUBgv9iF4CXBJKHjHji3vZwKYaPBXNHxZnn32WbMQvPbaaxbR9Y033rAJGBYD+KrAdwGiBbE54MeB5RDkwecxY8aYL0OoTFywLkF8OGfbrobB9RVOuBB1OARx9erVxgJWmVAQce73A0uE6Cdir+AaTnAuYuyVrn4teI0EekWAFpZe4ePDoU7ATbxwLsW2XVgUsG0XkzZ2hGBnECYsnEyMv6p/+tOfysqVK82X4ZNPPjHrA5wy4b+B5MoLZm7oA3ZQwcIC51KIsu76hXtYDkL/YakaNmyYPYvroZQQ2Rjh9xEobtmyZcYFTLrjEkp9Z19IYKAIROhfkKG133CgyLGesCLQ+Z8JrClYFoJoweQLQYN35MMkBasLfFkgbGbNmmWiJlSAebPwZUL2zg8GvjwTbKy8+xiK/Qu28WB7Q5MABUtojit71U8EMDHhhUnJe2Jy11Gt9/WuvvdT0wasWNfXzgxu1QAXoyYUloK66qdjgnt3wqWrsniNBEigawIULF1z4VUSuC0BTFLeqbNQcfc7X/d+hp9JgARIgAR8I0DB4hsn5iIBEiABEiABEvAjAUa69SN8Vk0CJEACJEACJOAbAQoW3zgxFwmQAAmQAAmQgB8JULD4ET6rJgESIAESIAES8I0ABYtvnJiLBEiABEiABEjAjwQoWPwIn1WTAAmQAAmQAAn4RoCCxTdOzEUCJEACJEACJOBHAhQsfoTPqkmABEiABEiABHwjQMHiGyfmIgESIAESIAES8CMBChY/wmfVJEACJEACJEACvhGgYPGNE3ORAAmQAAmQAAn4kQAFix/hs2oSIAESIAESIAHfCFCw+MaJuUiABEiABEiABPxIgILFj/BZNQmQAAmQAAmQgG8EKFh848RcJEACJEACJEACfiRAweJH+KyaBEiABEiABEjANwIULL5xYi4SIAESIAESIAE/EqBg8SN8Vk0CJEACJEACJOAbAQoW3zgxFwmQAAmQAAmQgB8JULD4ET6rJgESIAESIAES8I0ABYtvnJiLBEiABEiABEjAjwQoWPwIn1WTAAmQAAmQAAn4RoCCxTdOzEUCJEACJEACJOBHAhQsfoTPqkmABEiABEiABHwjQMHiGyfmIgESIAESIAES8CMBChY/wmfVJEACJEACJEACvhGgYPGNE3ORAAmQAAmQAAn4kQAFix/hs2oSIAESIAESIAHfCFCw+MaJuUiABEiABEiABPxIgILFj/BZNQmQAAmQAAmQgG8EKFh848RcJEACJEACJEACfiRAweJH+KyaBEiABEiABEjANwIULL5xYi4SIAESIAESIAE/EqBg8SN8Vk0CJEACJEACJOAbAQoW3zgxFwmQAAmQAAmQgB8JULD4ET6rJgESIAESIAES8I0ABYtvnJiLBEiABEiABEjAjwQoWPwIn1WTAAmQAAmQAAn4RoCCxTdOzEUCJEACJEACJOBHAhQsfoTPqkmABEiABEiABHwjQMHiGyfmIgESIAESIAES8CMBChY/wmfVJEACJEACJEACvhGgYPGNE3ORAAmQAAmQAAn4kQAFix/hs2oSIAESIAESIAHfCFCw+MaJuUiABEiABEiABPxIgILFj/BZNQmQAAmQAAmQgG8EKFh848RcJEACJEACJEACfiRAweJH+KyaBEiABEiABEjANwIULL5xYi4SIAESIAESIAE/EqBg8SN8Vk0CJEACJEACJOAbAQoW3zgxFwmQAAmQAAmQgB8JULD4ET6rJgESIAESIAES8I0ABYtvnJiLBEiABEiABEjAjwQoWPwIn1WTAAmQAAmQAAn4RoCCxTdOzEUCJEACJEACJOBHAhQsfoTPqkmABEiABEiABHwjQMHiGyfmIgESIAESIAES8CMBChY/wmfVJEACJEACJEACvhGgYPGNE3ORAAmQAAmQAAn4kQAFix/hs2oSIAESIAESIAHfCFCw+MaJuUiABEiABEiABPxIgILFj/BZNQmQAAmQAAmQgG8EKFh848RcJEACJEACJEACfiRAweJH+KyaBEiABEiABEjANwIULL5xYi4SIAESIAESIAE/EqBg8SN8Vk0CJEACJEACJOAbAQoW3zgxFwmQAAmQAAmQgB8JULD4ET6rJgESIAESIAES8I0ABYtvnJiLBEiABEiABEjAjwQoWPwIn1WTAAmQAAmQAAn4RoCCxTdOzEUCJEACJEACJOBHAhQsfoTPqkmABEiABEiABHwjQMHiGyfmIgESIAESIAES8CMBChY/wmfVJEACJEACJEACvhGgYPGNE3ORAAmQAAmQAAn4kQAFix/hs2oSIAESIAESIAHfCFCw+MaJuUiABEiABEiABPxIgILFj/BZNQmQAAmQAAmQgG8EKFh848RcJEACJEACJEACfiRAweJH+KyaBEiABEiABEjANwIULL5xYi4SIAESIAESIAE/EqBg8SN8Vk0CJEACJEACJOAbAQoW3zgxFwmQAAmQAAmQgB8JULD4ET6rJgESIAESIAES8I0ABYtvnJiLBEiABEiABEjAjwQoWPwIn1WTAAmQAAmQAAn4RuD/B4yraexiarj1AAAAAElFTkSuQmCC)"
      ]
    },
    {
      "cell_type": "code",
      "metadata": {
        "id": "cN7VFYXVVUvN"
      },
      "source": [
        "# Function for scaling the dot product attention \n",
        "\n",
        "# That is passing in the query , key and value to our attention \n",
        "def scaled_out_product_attention(q , k , v , mask):\n",
        "\n",
        "  '''\n",
        "  Calculate the attention weights\n",
        "\n",
        "  - q , k , v must have a matching leading dimensions \n",
        "  - k , v must have matching penultimate dimension, i.e seq_len_k = seq_len_v \n",
        "  \n",
        "  The mask has different shapes depending on its type(padding or look ahead) but its broadcastable for attention \n",
        "\n",
        "\n",
        "  Args: \n",
        "    q: query shape == (..... , seq_len_q , depth)\n",
        "    key: key shape == (..... , seq_len_q , depth)\n",
        "    v: value shape == (....., seq_len_v , depth_v)\n",
        "\n",
        "    mask: Float tensor with shape broadcastable to (.... , seq_len_q , seq_len_k) \n",
        "\n",
        "  Returns: \n",
        "    output , attention_weights\n",
        "\n",
        "  '''\n",
        "\n",
        "\n",
        "  # The first matrix mult for between query and key \n",
        "  matmul_qk = tf.matmul(q , k , transpose_b= True) # (... , seq_len_q , seq_len_k)\n",
        "\n",
        "  # Now scale the above matrix mul output \n",
        "  dk = tf.cast(tf.shape(k)[-1] , tf.float32) # getting the last shape index of k, and  casting into float32\n",
        "  scaled_attention_logits = matmul_qk / tf.math.sqrt(dk)\n",
        "\n",
        "  # Adding the mask vector to the scaled tensor \n",
        "  if mask is not None: \n",
        "    scaled_attention_logits += (mask * -1e-9)\n",
        "\n",
        "  # Apply softmax \n",
        "  # Softmax is normalized on the last axiss (seq_len_k) so that the scores add upto 1 \n",
        "  attention_weights = tf.nn.softmax(scaled_attention_logits , axis = -1)  # (..., seq_len_q, seq_len_k)\n",
        "\n",
        "  # Now the matrix multiplication between our values and softmax applied attention weights\n",
        "  output = tf.matmul(attention_weights , v )\n",
        "\n",
        "  # It returns the scaled attention weights and the attention_weights\n",
        "  return output , attention_weights\n",
        "\n"
      ],
      "execution_count": 21,
      "outputs": []
    },
    {
      "cell_type": "markdown",
      "metadata": {
        "id": "0hcHGOCUcbXQ"
      },
      "source": [
        "As the softmax normalization is done on K (keys), its values decide the amount of importance given to Q. \n",
        "\n",
        "The output represents the multiplication of the attention weights and the V vector. This ensures that the tokens you want to focus on are kept as-is and the irrelevant tokens are flushed out."
      ]
    },
    {
      "cell_type": "code",
      "metadata": {
        "id": "VnQK_JXgeMkK"
      },
      "source": [
        "def print_out(q , k , v):\n",
        "\n",
        "  # Applying the above dot product function\n",
        "  temp_out , temp_attn = scaled_out_product_attention(q , k , v , None)\n",
        "\n",
        "  print(f'Attention weights are: {temp_attn}\\n')\n",
        "  print(f'Output is (matmul of v and attention weights): {temp_out}\\n')"
      ],
      "execution_count": 22,
      "outputs": []
    },
    {
      "cell_type": "code",
      "metadata": {
        "colab": {
          "base_uri": "https://localhost:8080/"
        },
        "id": "mSaJ42NpeoVM",
        "outputId": "9b39d6a3-930b-4354-afd3-bea442326572"
      },
      "source": [
        "# Using the above function visualizing our attention weights \n",
        "np.set_printoptions(suppress= True)\n",
        "\n",
        "# Creating the v and k \n",
        "temp_k = tf.constant([[10 , 0 , 0] , \n",
        "                       [0 , 10 , 0] , \n",
        "                       [0 ,0 , 10] , \n",
        "                       [0 , 0 , 10]] , dtype = tf.float32) # (4 , 3)\n",
        "\n",
        "temp_v = tf.constant([[1 , 0], \n",
        "                      [10 , 0], \n",
        "                      [100 , 5], \n",
        "                      [1000 , 6]], dtype = tf.float32) # (4 ,2)\n",
        "\n",
        "\n",
        "# Creating the query, and its aligned with the second `key`\n",
        "temp_q = tf.constant([[0 , 10 ,0]] , dtype =tf.float32) # (1, 3)\n",
        "\n",
        "# Using our print function \n",
        "print_out(temp_q , temp_k , temp_v)"
      ],
      "execution_count": 23,
      "outputs": [
        {
          "output_type": "stream",
          "name": "stdout",
          "text": [
            "Attention weights are: [[0. 1. 0. 0.]]\n",
            "\n",
            "Output is (matmul of v and attention weights): [[10.  0.]]\n",
            "\n"
          ]
        }
      ]
    },
    {
      "cell_type": "markdown",
      "metadata": {
        "id": "j2gu1ymsghpj"
      },
      "source": [
        "### **Multi-Head Attention** \n",
        "\n",
        "The multi-head attention consists of four parts, \n",
        "- Linear layers \n",
        "- Scaled dot-product attention \n",
        "- Final linear layer \n",
        "\n",
        "\n",
        "**Inputs of multi-head attention block:**\n",
        "- Each multi head attention block gets three inputs, [Query, Key, Value]. \n",
        "- Then these are put through (Dense) layers before the multi-head attention function. \n",
        "\n",
        "The (Q , K , V) are passed through seperate linear (Dense) layers for each attention head. And we specified number of heads as `num_heads`  time as outputs. \n",
        "\n",
        "**The output shape will be** -> `(batch , num_heads , ....)`\n",
        "\n",
        "**Scaled dot product attention**\n",
        "The `scaled_dot_product_attention` function is defined above is applied in a single cell. An appropriate mask must be used in the attention step. \n",
        "\n",
        "The *attention output for each head* is then concatenated (using `tf.transpose` and `tf.reshape`) and put through the final `Dense` layer. \n",
        "\n",
        "\n",
        "Since its a multi-head attention so we want to get the N number of heads Q , K and V are split into multiple heads because it allows the model to jointly attend to information diferent representation subspaces. \n",
        "\n",
        "\n",
        "After the split each head has a reduced dimensionality, so the total computation cost is the same as a single head attention with full dimensionality.\n",
        "\n",
        "\n",
        "\n",
        "**Reading List** \n",
        "- https://data-science-blog.com/blog/2021/04/07/multi-head-attention-mechanism/ To know how the multi-head attention works (in and out)\n",
        "\n",
        "\n"
      ]
    },
    {
      "cell_type": "code",
      "metadata": {
        "id": "5wZXobHDpGOl"
      },
      "source": [
        "# Coding out the Multi-Head attention!! \n",
        "\n",
        "\n",
        "class MultiHeadAttention(tf.keras.layers.Layer):\n",
        "\n",
        "  def __init__(self , d_model , num_heads ):\n",
        "    super(MultiHeadAttention , self).__init__()\n",
        "    self.num_heads = num_heads \n",
        "    self.d_model = d_model # the dimensions \n",
        "\n",
        "    assert d_model % self.num_heads == 0 \n",
        "\n",
        "    self.depth = d_model // self.num_heads\n",
        "\n",
        "    # Creating our key , value and pairs \n",
        "    self.wq = tf.keras.layers.Dense(d_model)\n",
        "    self.wk = tf.keras.layers.Dense(d_model)\n",
        "    self.wv = tf.keras.layers.Dense(d_model)\n",
        "\n",
        "    self.dense = tf.keras.layers.Dense(d_model)\n",
        "\n",
        "  \n",
        "  # A function that will split the head for N number of times \n",
        "  def split_heads(self , x , batch_size):\n",
        "\n",
        "    '''\n",
        "    Splits the last dimension into (num_heads , depth)\n",
        "    Transpose the result such that the shape is (batch_size , num_heads , seq_len, depth)\n",
        "    '''\n",
        "\n",
        "    x = tf.reshape(x , shape= (batch_size , -1 , self.num_heads , self.depth))\n",
        "    return tf.transpose(x , perm= [0 , 2 ,1 ,3]) # perm helps us to structure our elements inside the tensor \n",
        "\n",
        "  \n",
        "  # Forward pass \n",
        "  def call(self , v , k , q , mask):\n",
        "    batch_size = tf.shape(q)[0]\n",
        "\n",
        "    # Getting the k , v and q \n",
        "    q = self.wq(q) # (batch_size , seq_len , d_model)\n",
        "    k = self.wk(k) # (batch_size , seq_len , d_model)\n",
        "    v = self.wv(v) # (batch_size , seq_len , d_model)\n",
        "\n",
        "\n",
        "    # Applying spplit heads , depending upon the number of heads \n",
        "    q = self.split_heads(q , batch_size) # (batch_size , num_heads , seq_len_q , depth)\n",
        "    k = self.split_heads(k , batch_size) # (batch_size , num_heads , seq_len_k , depth)\n",
        "    v = self.split_heads(v , batch_size) # (batch_size , num_heads , seq_len_v , depth)\n",
        "\n",
        "\n",
        "    # Now we're onto the scaled attention, where we wiill scale our attention weights \n",
        "    \n",
        "    # Lets look at the weigths\n",
        "    # shape of scaled_attenttion_weights.shape --> (batch_size , num_heads , seq_len_q , depth)\n",
        "    # shape of attention__weights.shape --> (batch_size , num_heads , seq_len_q , seq_len_k)\n",
        "\n",
        "    # Getting the scaled attention weights and attention weights value from the function \n",
        "    scaled_attention , attention_weights = scaled_out_product_attention(q , k , v , mask)    \n",
        "\n",
        "    scaled_attention = tf.transpose(scaled_attention , perm = [0 , 2 ,1 ,3]) # (batch_size , seq_len_q , num_heads , depth)\n",
        "\n",
        "  \n",
        "    # Now we got the attention weights lets concatenate along the num_heads so we will concatenate all the heads \n",
        "    concat_attention = tf.reshape(scaled_attention , shape = (batch_size , -1 , self.d_model)) # (batch_size , seq_len_q , d_model)\n",
        "\n",
        "    # Atlast putting our concatenated attention into a dense layer \n",
        "    output = self.dense(concat_attention) # (batch_size , seq_len_q , d_model)\n",
        "\n",
        "    # Returning the output(scaled one) and the attention weights \n",
        "    return output , attention_weights"
      ],
      "execution_count": 24,
      "outputs": []
    },
    {
      "cell_type": "markdown",
      "metadata": {
        "id": "t31kIllozp9q"
      },
      "source": [
        "Lets create a `MultiHeadAttention` layer to try out, wehre at each location in the sequeunce it runs all 8 attention heads across all other locations in the sequence, returning a new vector of the same length at each location. \n",
        "\n"
      ]
    },
    {
      "cell_type": "code",
      "metadata": {
        "colab": {
          "base_uri": "https://localhost:8080/"
        },
        "id": "Ou-c4-5R0AvR",
        "outputId": "ac2fca0e-ff5c-41d7-aced-c6bd4c912dc3"
      },
      "source": [
        "# Dummy multi-head attention \n",
        "temp_mha = MultiHeadAttention(d_model = 512 , num_heads = 8)\n",
        "\n",
        "# Dummy input\n",
        "y = tf.random.uniform((1 , 60 , 512)) # (batch_size , encoder_sequence , d_model)\n",
        "\n",
        "out , attn = temp_mha(v = y , k = y , q = y , mask = None)\n",
        "out.shape , attn.shape"
      ],
      "execution_count": 25,
      "outputs": [
        {
          "output_type": "execute_result",
          "data": {
            "text/plain": [
              "(TensorShape([1, 60, 512]), TensorShape([1, 8, 60, 60]))"
            ]
          },
          "metadata": {},
          "execution_count": 25
        }
      ]
    },
    {
      "cell_type": "code",
      "metadata": {
        "colab": {
          "base_uri": "https://localhost:8080/"
        },
        "id": "2Cqn2Ady0tvT",
        "outputId": "5ff881ce-2ff4-41c1-e785-5a281eca2fbe"
      },
      "source": [
        "out"
      ],
      "execution_count": 26,
      "outputs": [
        {
          "output_type": "execute_result",
          "data": {
            "text/plain": [
              "<tf.Tensor: shape=(1, 60, 512), dtype=float32, numpy=\n",
              "array([[[-0.2062973 , -0.04923492, -0.34539944, ...,  0.56473297,\n",
              "         -1.2863908 , -1.1363502 ],\n",
              "        [-0.20589893, -0.05910258, -0.3453129 , ...,  0.56635624,\n",
              "         -1.2930948 , -1.1379515 ],\n",
              "        [-0.20482917, -0.05804722, -0.3482399 , ...,  0.56327736,\n",
              "         -1.2915623 , -1.135945  ],\n",
              "        ...,\n",
              "        [-0.20841087, -0.05762263, -0.3454985 , ...,  0.5624378 ,\n",
              "         -1.2902788 , -1.1370839 ],\n",
              "        [-0.20553286, -0.05332463, -0.34386364, ...,  0.5608835 ,\n",
              "         -1.2902347 , -1.1307579 ],\n",
              "        [-0.20707864, -0.05461825, -0.34664798, ...,  0.5585875 ,\n",
              "         -1.2913888 , -1.135209  ]]], dtype=float32)>"
            ]
          },
          "metadata": {},
          "execution_count": 26
        }
      ]
    },
    {
      "cell_type": "markdown",
      "metadata": {
        "id": "6ebX7qvP5dvc"
      },
      "source": [
        "### Point wise feed forward network \n",
        "\n",
        "It consists of two-fully connected layers with a ReLu activation in betwee. "
      ]
    },
    {
      "cell_type": "code",
      "metadata": {
        "id": "N7kKzJdLc7FK"
      },
      "source": [
        "# Creating a function for point wise forward network \n",
        "def point_wise_feed_forward(d_model , dff):\n",
        "  return tf.keras.Sequential([\n",
        "      tf.keras.layers.Dense(dff , activation= 'relu') ,# (batch_size , seq_len , dff) \n",
        "      tf.keras.layers.Dense(dff) # (batch_size , seq_len , d_model)\n",
        "  ])\n"
      ],
      "execution_count": 28,
      "outputs": []
    },
    {
      "cell_type": "code",
      "metadata": {
        "colab": {
          "base_uri": "https://localhost:8080/"
        },
        "id": "FzL6ptn7dnu8",
        "outputId": "7c7ca790-7bb9-45e8-b66b-a6bdd706be09"
      },
      "source": [
        "# Applying on a sample data \n",
        "\n",
        "sample_ffn = point_wise_feed_forward(512 , 2048) #(dimensions and dff)\n",
        "\n",
        "# Passing a dummy data \n",
        "sample_ffn(tf.random.uniform((64 , 50 , 512))).shape"
      ],
      "execution_count": 29,
      "outputs": [
        {
          "output_type": "execute_result",
          "data": {
            "text/plain": [
              "TensorShape([64, 50, 2048])"
            ]
          },
          "metadata": {},
          "execution_count": 29
        }
      ]
    },
    {
      "cell_type": "markdown",
      "metadata": {
        "id": "jPqgvKjiiYAN"
      },
      "source": [
        "## Encoder and Decoder \n",
        "\n",
        "- The input sentence is passed through `N` encoder layers that generates an output for each token in the sentence. \n",
        "- The decoder attends to encoders output and its own input (self-attention) to predict the next word. \n",
        "\n",
        "### Encoder Layer \n",
        "Encoder layer consists of sublayers:\n",
        "- Multi-head attention (has padding mask) \n",
        "- Point wise feed forward networks. \n",
        "\n",
        "Reach of these sublayers has a residula connections within and its followed by a layer normalization. Residual connections help in avoiding the vanishing gradient problem in neural networks. \n",
        "\n",
        "The output of each sublayer is `LayerNorm(x + Sublayer(x))`. Thor normalizatt\n"
      ]
    },
    {
      "cell_type": "code",
      "metadata": {
        "id": "gNxZoATHiaKh"
      },
      "source": [
        ""
      ],
      "execution_count": null,
      "outputs": []
    }
  ]
}