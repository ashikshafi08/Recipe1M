{
  "nbformat": 4,
  "nbformat_minor": 0,
  "metadata": {
    "colab": {
      "name": "Learning_Transformers_with_TensorFlow.ipynb",
      "provenance": [],
      "collapsed_sections": [],
      "authorship_tag": "ABX9TyN+rAU91f3zgI5wJnrP5aG+",
      "include_colab_link": true
    },
    "kernelspec": {
      "name": "python3",
      "display_name": "Python 3"
    },
    "language_info": {
      "name": "python"
    },
    "widgets": {
      "application/vnd.jupyter.widget-state+json": {
        "eda26d17770f4cd9a91fd2007c98e1e7": {
          "model_module": "@jupyter-widgets/controls",
          "model_name": "HBoxModel",
          "model_module_version": "1.5.0",
          "state": {
            "_view_name": "HBoxView",
            "_dom_classes": [],
            "_model_name": "HBoxModel",
            "_view_module": "@jupyter-widgets/controls",
            "_model_module_version": "1.5.0",
            "_view_count": null,
            "_view_module_version": "1.5.0",
            "box_style": "",
            "layout": "IPY_MODEL_96dfa624932142a6aa5784bb4a1fb9df",
            "_model_module": "@jupyter-widgets/controls",
            "children": [
              "IPY_MODEL_5af24dc5307f46c5939c346798e7ee46",
              "IPY_MODEL_3924cfc048bd448ba8498d27e7af0da0",
              "IPY_MODEL_55bebb696bbf46979fdcf216618b68a7"
            ]
          }
        },
        "96dfa624932142a6aa5784bb4a1fb9df": {
          "model_module": "@jupyter-widgets/base",
          "model_name": "LayoutModel",
          "model_module_version": "1.2.0",
          "state": {
            "_view_name": "LayoutView",
            "grid_template_rows": null,
            "right": null,
            "justify_content": null,
            "_view_module": "@jupyter-widgets/base",
            "overflow": null,
            "_model_module_version": "1.2.0",
            "_view_count": null,
            "flex_flow": null,
            "width": null,
            "min_width": null,
            "border": null,
            "align_items": null,
            "bottom": null,
            "_model_module": "@jupyter-widgets/base",
            "top": null,
            "grid_column": null,
            "overflow_y": null,
            "overflow_x": null,
            "grid_auto_flow": null,
            "grid_area": null,
            "grid_template_columns": null,
            "flex": null,
            "_model_name": "LayoutModel",
            "justify_items": null,
            "grid_row": null,
            "max_height": null,
            "align_content": null,
            "visibility": null,
            "align_self": null,
            "height": null,
            "min_height": null,
            "padding": null,
            "grid_auto_rows": null,
            "grid_gap": null,
            "max_width": null,
            "order": null,
            "_view_module_version": "1.2.0",
            "grid_template_areas": null,
            "object_position": null,
            "object_fit": null,
            "grid_auto_columns": null,
            "margin": null,
            "display": null,
            "left": null
          }
        },
        "5af24dc5307f46c5939c346798e7ee46": {
          "model_module": "@jupyter-widgets/controls",
          "model_name": "HTMLModel",
          "model_module_version": "1.5.0",
          "state": {
            "_view_name": "HTMLView",
            "style": "IPY_MODEL_cfd256a211e5429ea2f387e04363caba",
            "_dom_classes": [],
            "description": "",
            "_model_name": "HTMLModel",
            "placeholder": "​",
            "_view_module": "@jupyter-widgets/controls",
            "_model_module_version": "1.5.0",
            "value": "Dl Completed...: 100%",
            "_view_count": null,
            "_view_module_version": "1.5.0",
            "description_tooltip": null,
            "_model_module": "@jupyter-widgets/controls",
            "layout": "IPY_MODEL_d5e28ef8f0ff4c1eabbf93b88ce78721"
          }
        },
        "3924cfc048bd448ba8498d27e7af0da0": {
          "model_module": "@jupyter-widgets/controls",
          "model_name": "FloatProgressModel",
          "model_module_version": "1.5.0",
          "state": {
            "_view_name": "ProgressView",
            "style": "IPY_MODEL_1d5cbd787d59448d94934271e92ec854",
            "_dom_classes": [],
            "description": "",
            "_model_name": "FloatProgressModel",
            "bar_style": "success",
            "max": 1,
            "_view_module": "@jupyter-widgets/controls",
            "_model_module_version": "1.5.0",
            "value": 1,
            "_view_count": null,
            "_view_module_version": "1.5.0",
            "orientation": "horizontal",
            "min": 0,
            "description_tooltip": null,
            "_model_module": "@jupyter-widgets/controls",
            "layout": "IPY_MODEL_64845adad529443f9885e2abdb7809d6"
          }
        },
        "55bebb696bbf46979fdcf216618b68a7": {
          "model_module": "@jupyter-widgets/controls",
          "model_name": "HTMLModel",
          "model_module_version": "1.5.0",
          "state": {
            "_view_name": "HTMLView",
            "style": "IPY_MODEL_7f9ec4b7c6a9452e915b0c5e119d23eb",
            "_dom_classes": [],
            "description": "",
            "_model_name": "HTMLModel",
            "placeholder": "​",
            "_view_module": "@jupyter-widgets/controls",
            "_model_module_version": "1.5.0",
            "value": " 1/1 [00:09&lt;00:00,  4.43s/ url]",
            "_view_count": null,
            "_view_module_version": "1.5.0",
            "description_tooltip": null,
            "_model_module": "@jupyter-widgets/controls",
            "layout": "IPY_MODEL_2798c58d7bd54c3bb5864a9a9f67bc36"
          }
        },
        "cfd256a211e5429ea2f387e04363caba": {
          "model_module": "@jupyter-widgets/controls",
          "model_name": "DescriptionStyleModel",
          "model_module_version": "1.5.0",
          "state": {
            "_view_name": "StyleView",
            "_model_name": "DescriptionStyleModel",
            "description_width": "",
            "_view_module": "@jupyter-widgets/base",
            "_model_module_version": "1.5.0",
            "_view_count": null,
            "_view_module_version": "1.2.0",
            "_model_module": "@jupyter-widgets/controls"
          }
        },
        "d5e28ef8f0ff4c1eabbf93b88ce78721": {
          "model_module": "@jupyter-widgets/base",
          "model_name": "LayoutModel",
          "model_module_version": "1.2.0",
          "state": {
            "_view_name": "LayoutView",
            "grid_template_rows": null,
            "right": null,
            "justify_content": null,
            "_view_module": "@jupyter-widgets/base",
            "overflow": null,
            "_model_module_version": "1.2.0",
            "_view_count": null,
            "flex_flow": null,
            "width": null,
            "min_width": null,
            "border": null,
            "align_items": null,
            "bottom": null,
            "_model_module": "@jupyter-widgets/base",
            "top": null,
            "grid_column": null,
            "overflow_y": null,
            "overflow_x": null,
            "grid_auto_flow": null,
            "grid_area": null,
            "grid_template_columns": null,
            "flex": null,
            "_model_name": "LayoutModel",
            "justify_items": null,
            "grid_row": null,
            "max_height": null,
            "align_content": null,
            "visibility": null,
            "align_self": null,
            "height": null,
            "min_height": null,
            "padding": null,
            "grid_auto_rows": null,
            "grid_gap": null,
            "max_width": null,
            "order": null,
            "_view_module_version": "1.2.0",
            "grid_template_areas": null,
            "object_position": null,
            "object_fit": null,
            "grid_auto_columns": null,
            "margin": null,
            "display": null,
            "left": null
          }
        },
        "1d5cbd787d59448d94934271e92ec854": {
          "model_module": "@jupyter-widgets/controls",
          "model_name": "ProgressStyleModel",
          "model_module_version": "1.5.0",
          "state": {
            "_view_name": "StyleView",
            "_model_name": "ProgressStyleModel",
            "description_width": "",
            "_view_module": "@jupyter-widgets/base",
            "_model_module_version": "1.5.0",
            "_view_count": null,
            "_view_module_version": "1.2.0",
            "bar_color": null,
            "_model_module": "@jupyter-widgets/controls"
          }
        },
        "64845adad529443f9885e2abdb7809d6": {
          "model_module": "@jupyter-widgets/base",
          "model_name": "LayoutModel",
          "model_module_version": "1.2.0",
          "state": {
            "_view_name": "LayoutView",
            "grid_template_rows": null,
            "right": null,
            "justify_content": null,
            "_view_module": "@jupyter-widgets/base",
            "overflow": null,
            "_model_module_version": "1.2.0",
            "_view_count": null,
            "flex_flow": null,
            "width": "20px",
            "min_width": null,
            "border": null,
            "align_items": null,
            "bottom": null,
            "_model_module": "@jupyter-widgets/base",
            "top": null,
            "grid_column": null,
            "overflow_y": null,
            "overflow_x": null,
            "grid_auto_flow": null,
            "grid_area": null,
            "grid_template_columns": null,
            "flex": null,
            "_model_name": "LayoutModel",
            "justify_items": null,
            "grid_row": null,
            "max_height": null,
            "align_content": null,
            "visibility": null,
            "align_self": null,
            "height": null,
            "min_height": null,
            "padding": null,
            "grid_auto_rows": null,
            "grid_gap": null,
            "max_width": null,
            "order": null,
            "_view_module_version": "1.2.0",
            "grid_template_areas": null,
            "object_position": null,
            "object_fit": null,
            "grid_auto_columns": null,
            "margin": null,
            "display": null,
            "left": null
          }
        },
        "7f9ec4b7c6a9452e915b0c5e119d23eb": {
          "model_module": "@jupyter-widgets/controls",
          "model_name": "DescriptionStyleModel",
          "model_module_version": "1.5.0",
          "state": {
            "_view_name": "StyleView",
            "_model_name": "DescriptionStyleModel",
            "description_width": "",
            "_view_module": "@jupyter-widgets/base",
            "_model_module_version": "1.5.0",
            "_view_count": null,
            "_view_module_version": "1.2.0",
            "_model_module": "@jupyter-widgets/controls"
          }
        },
        "2798c58d7bd54c3bb5864a9a9f67bc36": {
          "model_module": "@jupyter-widgets/base",
          "model_name": "LayoutModel",
          "model_module_version": "1.2.0",
          "state": {
            "_view_name": "LayoutView",
            "grid_template_rows": null,
            "right": null,
            "justify_content": null,
            "_view_module": "@jupyter-widgets/base",
            "overflow": null,
            "_model_module_version": "1.2.0",
            "_view_count": null,
            "flex_flow": null,
            "width": null,
            "min_width": null,
            "border": null,
            "align_items": null,
            "bottom": null,
            "_model_module": "@jupyter-widgets/base",
            "top": null,
            "grid_column": null,
            "overflow_y": null,
            "overflow_x": null,
            "grid_auto_flow": null,
            "grid_area": null,
            "grid_template_columns": null,
            "flex": null,
            "_model_name": "LayoutModel",
            "justify_items": null,
            "grid_row": null,
            "max_height": null,
            "align_content": null,
            "visibility": null,
            "align_self": null,
            "height": null,
            "min_height": null,
            "padding": null,
            "grid_auto_rows": null,
            "grid_gap": null,
            "max_width": null,
            "order": null,
            "_view_module_version": "1.2.0",
            "grid_template_areas": null,
            "object_position": null,
            "object_fit": null,
            "grid_auto_columns": null,
            "margin": null,
            "display": null,
            "left": null
          }
        },
        "c94227da108f4a29ab4359ef50e4d875": {
          "model_module": "@jupyter-widgets/controls",
          "model_name": "HBoxModel",
          "model_module_version": "1.5.0",
          "state": {
            "_view_name": "HBoxView",
            "_dom_classes": [],
            "_model_name": "HBoxModel",
            "_view_module": "@jupyter-widgets/controls",
            "_model_module_version": "1.5.0",
            "_view_count": null,
            "_view_module_version": "1.5.0",
            "box_style": "",
            "layout": "IPY_MODEL_2dfff98f32bd46c5824a3a8a59258606",
            "_model_module": "@jupyter-widgets/controls",
            "children": [
              "IPY_MODEL_6d14f3a421624fcd96a301c87cd4c5fd",
              "IPY_MODEL_b9f4f92938b5488a911b288f34cbcd23",
              "IPY_MODEL_349ae3d9899d43e88d04f1f07cea88cd"
            ]
          }
        },
        "2dfff98f32bd46c5824a3a8a59258606": {
          "model_module": "@jupyter-widgets/base",
          "model_name": "LayoutModel",
          "model_module_version": "1.2.0",
          "state": {
            "_view_name": "LayoutView",
            "grid_template_rows": null,
            "right": null,
            "justify_content": null,
            "_view_module": "@jupyter-widgets/base",
            "overflow": null,
            "_model_module_version": "1.2.0",
            "_view_count": null,
            "flex_flow": null,
            "width": null,
            "min_width": null,
            "border": null,
            "align_items": null,
            "bottom": null,
            "_model_module": "@jupyter-widgets/base",
            "top": null,
            "grid_column": null,
            "overflow_y": null,
            "overflow_x": null,
            "grid_auto_flow": null,
            "grid_area": null,
            "grid_template_columns": null,
            "flex": null,
            "_model_name": "LayoutModel",
            "justify_items": null,
            "grid_row": null,
            "max_height": null,
            "align_content": null,
            "visibility": null,
            "align_self": null,
            "height": null,
            "min_height": null,
            "padding": null,
            "grid_auto_rows": null,
            "grid_gap": null,
            "max_width": null,
            "order": null,
            "_view_module_version": "1.2.0",
            "grid_template_areas": null,
            "object_position": null,
            "object_fit": null,
            "grid_auto_columns": null,
            "margin": null,
            "display": null,
            "left": null
          }
        },
        "6d14f3a421624fcd96a301c87cd4c5fd": {
          "model_module": "@jupyter-widgets/controls",
          "model_name": "HTMLModel",
          "model_module_version": "1.5.0",
          "state": {
            "_view_name": "HTMLView",
            "style": "IPY_MODEL_34bbb36efcf54a4288b1b780c7d3c507",
            "_dom_classes": [],
            "description": "",
            "_model_name": "HTMLModel",
            "placeholder": "​",
            "_view_module": "@jupyter-widgets/controls",
            "_model_module_version": "1.5.0",
            "value": "Dl Size...: 100%",
            "_view_count": null,
            "_view_module_version": "1.5.0",
            "description_tooltip": null,
            "_model_module": "@jupyter-widgets/controls",
            "layout": "IPY_MODEL_1cbfecffff1c42948ee5dd47f7b2cd2f"
          }
        },
        "b9f4f92938b5488a911b288f34cbcd23": {
          "model_module": "@jupyter-widgets/controls",
          "model_name": "FloatProgressModel",
          "model_module_version": "1.5.0",
          "state": {
            "_view_name": "ProgressView",
            "style": "IPY_MODEL_52373b8327e448489b54cdb165cfb51e",
            "_dom_classes": [],
            "description": "",
            "_model_name": "FloatProgressModel",
            "bar_style": "success",
            "max": 1,
            "_view_module": "@jupyter-widgets/controls",
            "_model_module_version": "1.5.0",
            "value": 1,
            "_view_count": null,
            "_view_module_version": "1.5.0",
            "orientation": "horizontal",
            "min": 0,
            "description_tooltip": null,
            "_model_module": "@jupyter-widgets/controls",
            "layout": "IPY_MODEL_aaf4eb32161c4e06b723749f6d986cb1"
          }
        },
        "349ae3d9899d43e88d04f1f07cea88cd": {
          "model_module": "@jupyter-widgets/controls",
          "model_name": "HTMLModel",
          "model_module_version": "1.5.0",
          "state": {
            "_view_name": "HTMLView",
            "style": "IPY_MODEL_62a0f8a136a94c58b6f2903a00d71018",
            "_dom_classes": [],
            "description": "",
            "_model_name": "HTMLModel",
            "placeholder": "​",
            "_view_module": "@jupyter-widgets/controls",
            "_model_module_version": "1.5.0",
            "value": " 124/124 [00:09&lt;00:00, 37.18 MiB/s]",
            "_view_count": null,
            "_view_module_version": "1.5.0",
            "description_tooltip": null,
            "_model_module": "@jupyter-widgets/controls",
            "layout": "IPY_MODEL_9b68a42f420344cb83ed2a1943863a72"
          }
        },
        "34bbb36efcf54a4288b1b780c7d3c507": {
          "model_module": "@jupyter-widgets/controls",
          "model_name": "DescriptionStyleModel",
          "model_module_version": "1.5.0",
          "state": {
            "_view_name": "StyleView",
            "_model_name": "DescriptionStyleModel",
            "description_width": "",
            "_view_module": "@jupyter-widgets/base",
            "_model_module_version": "1.5.0",
            "_view_count": null,
            "_view_module_version": "1.2.0",
            "_model_module": "@jupyter-widgets/controls"
          }
        },
        "1cbfecffff1c42948ee5dd47f7b2cd2f": {
          "model_module": "@jupyter-widgets/base",
          "model_name": "LayoutModel",
          "model_module_version": "1.2.0",
          "state": {
            "_view_name": "LayoutView",
            "grid_template_rows": null,
            "right": null,
            "justify_content": null,
            "_view_module": "@jupyter-widgets/base",
            "overflow": null,
            "_model_module_version": "1.2.0",
            "_view_count": null,
            "flex_flow": null,
            "width": null,
            "min_width": null,
            "border": null,
            "align_items": null,
            "bottom": null,
            "_model_module": "@jupyter-widgets/base",
            "top": null,
            "grid_column": null,
            "overflow_y": null,
            "overflow_x": null,
            "grid_auto_flow": null,
            "grid_area": null,
            "grid_template_columns": null,
            "flex": null,
            "_model_name": "LayoutModel",
            "justify_items": null,
            "grid_row": null,
            "max_height": null,
            "align_content": null,
            "visibility": null,
            "align_self": null,
            "height": null,
            "min_height": null,
            "padding": null,
            "grid_auto_rows": null,
            "grid_gap": null,
            "max_width": null,
            "order": null,
            "_view_module_version": "1.2.0",
            "grid_template_areas": null,
            "object_position": null,
            "object_fit": null,
            "grid_auto_columns": null,
            "margin": null,
            "display": null,
            "left": null
          }
        },
        "52373b8327e448489b54cdb165cfb51e": {
          "model_module": "@jupyter-widgets/controls",
          "model_name": "ProgressStyleModel",
          "model_module_version": "1.5.0",
          "state": {
            "_view_name": "StyleView",
            "_model_name": "ProgressStyleModel",
            "description_width": "",
            "_view_module": "@jupyter-widgets/base",
            "_model_module_version": "1.5.0",
            "_view_count": null,
            "_view_module_version": "1.2.0",
            "bar_color": null,
            "_model_module": "@jupyter-widgets/controls"
          }
        },
        "aaf4eb32161c4e06b723749f6d986cb1": {
          "model_module": "@jupyter-widgets/base",
          "model_name": "LayoutModel",
          "model_module_version": "1.2.0",
          "state": {
            "_view_name": "LayoutView",
            "grid_template_rows": null,
            "right": null,
            "justify_content": null,
            "_view_module": "@jupyter-widgets/base",
            "overflow": null,
            "_model_module_version": "1.2.0",
            "_view_count": null,
            "flex_flow": null,
            "width": "20px",
            "min_width": null,
            "border": null,
            "align_items": null,
            "bottom": null,
            "_model_module": "@jupyter-widgets/base",
            "top": null,
            "grid_column": null,
            "overflow_y": null,
            "overflow_x": null,
            "grid_auto_flow": null,
            "grid_area": null,
            "grid_template_columns": null,
            "flex": null,
            "_model_name": "LayoutModel",
            "justify_items": null,
            "grid_row": null,
            "max_height": null,
            "align_content": null,
            "visibility": null,
            "align_self": null,
            "height": null,
            "min_height": null,
            "padding": null,
            "grid_auto_rows": null,
            "grid_gap": null,
            "max_width": null,
            "order": null,
            "_view_module_version": "1.2.0",
            "grid_template_areas": null,
            "object_position": null,
            "object_fit": null,
            "grid_auto_columns": null,
            "margin": null,
            "display": null,
            "left": null
          }
        },
        "62a0f8a136a94c58b6f2903a00d71018": {
          "model_module": "@jupyter-widgets/controls",
          "model_name": "DescriptionStyleModel",
          "model_module_version": "1.5.0",
          "state": {
            "_view_name": "StyleView",
            "_model_name": "DescriptionStyleModel",
            "description_width": "",
            "_view_module": "@jupyter-widgets/base",
            "_model_module_version": "1.5.0",
            "_view_count": null,
            "_view_module_version": "1.2.0",
            "_model_module": "@jupyter-widgets/controls"
          }
        },
        "9b68a42f420344cb83ed2a1943863a72": {
          "model_module": "@jupyter-widgets/base",
          "model_name": "LayoutModel",
          "model_module_version": "1.2.0",
          "state": {
            "_view_name": "LayoutView",
            "grid_template_rows": null,
            "right": null,
            "justify_content": null,
            "_view_module": "@jupyter-widgets/base",
            "overflow": null,
            "_model_module_version": "1.2.0",
            "_view_count": null,
            "flex_flow": null,
            "width": null,
            "min_width": null,
            "border": null,
            "align_items": null,
            "bottom": null,
            "_model_module": "@jupyter-widgets/base",
            "top": null,
            "grid_column": null,
            "overflow_y": null,
            "overflow_x": null,
            "grid_auto_flow": null,
            "grid_area": null,
            "grid_template_columns": null,
            "flex": null,
            "_model_name": "LayoutModel",
            "justify_items": null,
            "grid_row": null,
            "max_height": null,
            "align_content": null,
            "visibility": null,
            "align_self": null,
            "height": null,
            "min_height": null,
            "padding": null,
            "grid_auto_rows": null,
            "grid_gap": null,
            "max_width": null,
            "order": null,
            "_view_module_version": "1.2.0",
            "grid_template_areas": null,
            "object_position": null,
            "object_fit": null,
            "grid_auto_columns": null,
            "margin": null,
            "display": null,
            "left": null
          }
        },
        "ee175bcba7cd4d899e414168809e979a": {
          "model_module": "@jupyter-widgets/controls",
          "model_name": "HBoxModel",
          "model_module_version": "1.5.0",
          "state": {
            "_view_name": "HBoxView",
            "_dom_classes": [],
            "_model_name": "HBoxModel",
            "_view_module": "@jupyter-widgets/controls",
            "_model_module_version": "1.5.0",
            "_view_count": null,
            "_view_module_version": "1.5.0",
            "box_style": "",
            "layout": "IPY_MODEL_21024b8fe6c34b16bb6189ed8d3a1d7c",
            "_model_module": "@jupyter-widgets/controls",
            "children": [
              "IPY_MODEL_70fe3cda27db4c248bc06da4ef08d8cd",
              "IPY_MODEL_cf0f0fc1f8804efea50fb3a793c328dd",
              "IPY_MODEL_71dbd7b8d9ad42579ca23343493f4e21"
            ]
          }
        },
        "21024b8fe6c34b16bb6189ed8d3a1d7c": {
          "model_module": "@jupyter-widgets/base",
          "model_name": "LayoutModel",
          "model_module_version": "1.2.0",
          "state": {
            "_view_name": "LayoutView",
            "grid_template_rows": null,
            "right": null,
            "justify_content": null,
            "_view_module": "@jupyter-widgets/base",
            "overflow": null,
            "_model_module_version": "1.2.0",
            "_view_count": null,
            "flex_flow": null,
            "width": null,
            "min_width": null,
            "border": null,
            "align_items": null,
            "bottom": null,
            "_model_module": "@jupyter-widgets/base",
            "top": null,
            "grid_column": null,
            "overflow_y": null,
            "overflow_x": null,
            "grid_auto_flow": null,
            "grid_area": null,
            "grid_template_columns": null,
            "flex": null,
            "_model_name": "LayoutModel",
            "justify_items": null,
            "grid_row": null,
            "max_height": null,
            "align_content": null,
            "visibility": null,
            "align_self": null,
            "height": null,
            "min_height": null,
            "padding": null,
            "grid_auto_rows": null,
            "grid_gap": null,
            "max_width": null,
            "order": null,
            "_view_module_version": "1.2.0",
            "grid_template_areas": null,
            "object_position": null,
            "object_fit": null,
            "grid_auto_columns": null,
            "margin": null,
            "display": null,
            "left": null
          }
        },
        "70fe3cda27db4c248bc06da4ef08d8cd": {
          "model_module": "@jupyter-widgets/controls",
          "model_name": "HTMLModel",
          "model_module_version": "1.5.0",
          "state": {
            "_view_name": "HTMLView",
            "style": "IPY_MODEL_a9cc4db140f444bd98b03608e3bb7be6",
            "_dom_classes": [],
            "description": "",
            "_model_name": "HTMLModel",
            "placeholder": "​",
            "_view_module": "@jupyter-widgets/controls",
            "_model_module_version": "1.5.0",
            "value": "Extraction completed...: 100%",
            "_view_count": null,
            "_view_module_version": "1.5.0",
            "description_tooltip": null,
            "_model_module": "@jupyter-widgets/controls",
            "layout": "IPY_MODEL_45c8bea57013410fbf3c3e4c67bf5931"
          }
        },
        "cf0f0fc1f8804efea50fb3a793c328dd": {
          "model_module": "@jupyter-widgets/controls",
          "model_name": "FloatProgressModel",
          "model_module_version": "1.5.0",
          "state": {
            "_view_name": "ProgressView",
            "style": "IPY_MODEL_0441539c346643d9bee2665c05a08b43",
            "_dom_classes": [],
            "description": "",
            "_model_name": "FloatProgressModel",
            "bar_style": "success",
            "max": 1,
            "_view_module": "@jupyter-widgets/controls",
            "_model_module_version": "1.5.0",
            "value": 1,
            "_view_count": null,
            "_view_module_version": "1.5.0",
            "orientation": "horizontal",
            "min": 0,
            "description_tooltip": null,
            "_model_module": "@jupyter-widgets/controls",
            "layout": "IPY_MODEL_41f11d34e8774ab9ab002b8df6e2415e"
          }
        },
        "71dbd7b8d9ad42579ca23343493f4e21": {
          "model_module": "@jupyter-widgets/controls",
          "model_name": "HTMLModel",
          "model_module_version": "1.5.0",
          "state": {
            "_view_name": "HTMLView",
            "style": "IPY_MODEL_b9d15fba74cc4de4af687a436c30faf5",
            "_dom_classes": [],
            "description": "",
            "_model_name": "HTMLModel",
            "placeholder": "​",
            "_view_module": "@jupyter-widgets/controls",
            "_model_module_version": "1.5.0",
            "value": " 1/1 [00:09&lt;00:00,  9.19s/ file]",
            "_view_count": null,
            "_view_module_version": "1.5.0",
            "description_tooltip": null,
            "_model_module": "@jupyter-widgets/controls",
            "layout": "IPY_MODEL_794e6966d05a4a61a671947a7f45f518"
          }
        },
        "a9cc4db140f444bd98b03608e3bb7be6": {
          "model_module": "@jupyter-widgets/controls",
          "model_name": "DescriptionStyleModel",
          "model_module_version": "1.5.0",
          "state": {
            "_view_name": "StyleView",
            "_model_name": "DescriptionStyleModel",
            "description_width": "",
            "_view_module": "@jupyter-widgets/base",
            "_model_module_version": "1.5.0",
            "_view_count": null,
            "_view_module_version": "1.2.0",
            "_model_module": "@jupyter-widgets/controls"
          }
        },
        "45c8bea57013410fbf3c3e4c67bf5931": {
          "model_module": "@jupyter-widgets/base",
          "model_name": "LayoutModel",
          "model_module_version": "1.2.0",
          "state": {
            "_view_name": "LayoutView",
            "grid_template_rows": null,
            "right": null,
            "justify_content": null,
            "_view_module": "@jupyter-widgets/base",
            "overflow": null,
            "_model_module_version": "1.2.0",
            "_view_count": null,
            "flex_flow": null,
            "width": null,
            "min_width": null,
            "border": null,
            "align_items": null,
            "bottom": null,
            "_model_module": "@jupyter-widgets/base",
            "top": null,
            "grid_column": null,
            "overflow_y": null,
            "overflow_x": null,
            "grid_auto_flow": null,
            "grid_area": null,
            "grid_template_columns": null,
            "flex": null,
            "_model_name": "LayoutModel",
            "justify_items": null,
            "grid_row": null,
            "max_height": null,
            "align_content": null,
            "visibility": null,
            "align_self": null,
            "height": null,
            "min_height": null,
            "padding": null,
            "grid_auto_rows": null,
            "grid_gap": null,
            "max_width": null,
            "order": null,
            "_view_module_version": "1.2.0",
            "grid_template_areas": null,
            "object_position": null,
            "object_fit": null,
            "grid_auto_columns": null,
            "margin": null,
            "display": null,
            "left": null
          }
        },
        "0441539c346643d9bee2665c05a08b43": {
          "model_module": "@jupyter-widgets/controls",
          "model_name": "ProgressStyleModel",
          "model_module_version": "1.5.0",
          "state": {
            "_view_name": "StyleView",
            "_model_name": "ProgressStyleModel",
            "description_width": "",
            "_view_module": "@jupyter-widgets/base",
            "_model_module_version": "1.5.0",
            "_view_count": null,
            "_view_module_version": "1.2.0",
            "bar_color": null,
            "_model_module": "@jupyter-widgets/controls"
          }
        },
        "41f11d34e8774ab9ab002b8df6e2415e": {
          "model_module": "@jupyter-widgets/base",
          "model_name": "LayoutModel",
          "model_module_version": "1.2.0",
          "state": {
            "_view_name": "LayoutView",
            "grid_template_rows": null,
            "right": null,
            "justify_content": null,
            "_view_module": "@jupyter-widgets/base",
            "overflow": null,
            "_model_module_version": "1.2.0",
            "_view_count": null,
            "flex_flow": null,
            "width": "20px",
            "min_width": null,
            "border": null,
            "align_items": null,
            "bottom": null,
            "_model_module": "@jupyter-widgets/base",
            "top": null,
            "grid_column": null,
            "overflow_y": null,
            "overflow_x": null,
            "grid_auto_flow": null,
            "grid_area": null,
            "grid_template_columns": null,
            "flex": null,
            "_model_name": "LayoutModel",
            "justify_items": null,
            "grid_row": null,
            "max_height": null,
            "align_content": null,
            "visibility": null,
            "align_self": null,
            "height": null,
            "min_height": null,
            "padding": null,
            "grid_auto_rows": null,
            "grid_gap": null,
            "max_width": null,
            "order": null,
            "_view_module_version": "1.2.0",
            "grid_template_areas": null,
            "object_position": null,
            "object_fit": null,
            "grid_auto_columns": null,
            "margin": null,
            "display": null,
            "left": null
          }
        },
        "b9d15fba74cc4de4af687a436c30faf5": {
          "model_module": "@jupyter-widgets/controls",
          "model_name": "DescriptionStyleModel",
          "model_module_version": "1.5.0",
          "state": {
            "_view_name": "StyleView",
            "_model_name": "DescriptionStyleModel",
            "description_width": "",
            "_view_module": "@jupyter-widgets/base",
            "_model_module_version": "1.5.0",
            "_view_count": null,
            "_view_module_version": "1.2.0",
            "_model_module": "@jupyter-widgets/controls"
          }
        },
        "794e6966d05a4a61a671947a7f45f518": {
          "model_module": "@jupyter-widgets/base",
          "model_name": "LayoutModel",
          "model_module_version": "1.2.0",
          "state": {
            "_view_name": "LayoutView",
            "grid_template_rows": null,
            "right": null,
            "justify_content": null,
            "_view_module": "@jupyter-widgets/base",
            "overflow": null,
            "_model_module_version": "1.2.0",
            "_view_count": null,
            "flex_flow": null,
            "width": null,
            "min_width": null,
            "border": null,
            "align_items": null,
            "bottom": null,
            "_model_module": "@jupyter-widgets/base",
            "top": null,
            "grid_column": null,
            "overflow_y": null,
            "overflow_x": null,
            "grid_auto_flow": null,
            "grid_area": null,
            "grid_template_columns": null,
            "flex": null,
            "_model_name": "LayoutModel",
            "justify_items": null,
            "grid_row": null,
            "max_height": null,
            "align_content": null,
            "visibility": null,
            "align_self": null,
            "height": null,
            "min_height": null,
            "padding": null,
            "grid_auto_rows": null,
            "grid_gap": null,
            "max_width": null,
            "order": null,
            "_view_module_version": "1.2.0",
            "grid_template_areas": null,
            "object_position": null,
            "object_fit": null,
            "grid_auto_columns": null,
            "margin": null,
            "display": null,
            "left": null
          }
        },
        "9bee459ff4664bdf93b66f28434774fc": {
          "model_module": "@jupyter-widgets/controls",
          "model_name": "HBoxModel",
          "model_module_version": "1.5.0",
          "state": {
            "_view_name": "HBoxView",
            "_dom_classes": [],
            "_model_name": "HBoxModel",
            "_view_module": "@jupyter-widgets/controls",
            "_model_module_version": "1.5.0",
            "_view_count": null,
            "_view_module_version": "1.5.0",
            "box_style": "",
            "layout": "IPY_MODEL_4cfa6b09363a46f98cede5e06033248d",
            "_model_module": "@jupyter-widgets/controls",
            "children": [
              "IPY_MODEL_d8f42b0db8f1471f9779af8eebb8ae79",
              "IPY_MODEL_d55f16bc290d4884a9b74ff67961fc18",
              "IPY_MODEL_92557f5843dc41849a90e4d7652df829"
            ]
          }
        },
        "4cfa6b09363a46f98cede5e06033248d": {
          "model_module": "@jupyter-widgets/base",
          "model_name": "LayoutModel",
          "model_module_version": "1.2.0",
          "state": {
            "_view_name": "LayoutView",
            "grid_template_rows": null,
            "right": null,
            "justify_content": null,
            "_view_module": "@jupyter-widgets/base",
            "overflow": null,
            "_model_module_version": "1.2.0",
            "_view_count": null,
            "flex_flow": null,
            "width": null,
            "min_width": null,
            "border": null,
            "align_items": null,
            "bottom": null,
            "_model_module": "@jupyter-widgets/base",
            "top": null,
            "grid_column": null,
            "overflow_y": null,
            "overflow_x": null,
            "grid_auto_flow": null,
            "grid_area": null,
            "grid_template_columns": null,
            "flex": null,
            "_model_name": "LayoutModel",
            "justify_items": null,
            "grid_row": null,
            "max_height": null,
            "align_content": null,
            "visibility": null,
            "align_self": null,
            "height": null,
            "min_height": null,
            "padding": null,
            "grid_auto_rows": null,
            "grid_gap": null,
            "max_width": null,
            "order": null,
            "_view_module_version": "1.2.0",
            "grid_template_areas": null,
            "object_position": null,
            "object_fit": null,
            "grid_auto_columns": null,
            "margin": null,
            "display": null,
            "left": null
          }
        },
        "d8f42b0db8f1471f9779af8eebb8ae79": {
          "model_module": "@jupyter-widgets/controls",
          "model_name": "HTMLModel",
          "model_module_version": "1.5.0",
          "state": {
            "_view_name": "HTMLView",
            "style": "IPY_MODEL_8eb873111e3b4ea29511707b6ce139cc",
            "_dom_classes": [],
            "description": "",
            "_model_name": "HTMLModel",
            "placeholder": "​",
            "_view_module": "@jupyter-widgets/controls",
            "_model_module_version": "1.5.0",
            "value": "",
            "_view_count": null,
            "_view_module_version": "1.5.0",
            "description_tooltip": null,
            "_model_module": "@jupyter-widgets/controls",
            "layout": "IPY_MODEL_eae1580eed4a4cc2afcc94b9b54fa96c"
          }
        },
        "d55f16bc290d4884a9b74ff67961fc18": {
          "model_module": "@jupyter-widgets/controls",
          "model_name": "FloatProgressModel",
          "model_module_version": "1.5.0",
          "state": {
            "_view_name": "ProgressView",
            "style": "IPY_MODEL_6846a382ffbe4bd1bd7ba94456b0f5ed",
            "_dom_classes": [],
            "description": "",
            "_model_name": "FloatProgressModel",
            "bar_style": "info",
            "max": 1,
            "_view_module": "@jupyter-widgets/controls",
            "_model_module_version": "1.5.0",
            "value": 1,
            "_view_count": null,
            "_view_module_version": "1.5.0",
            "orientation": "horizontal",
            "min": 0,
            "description_tooltip": null,
            "_model_module": "@jupyter-widgets/controls",
            "layout": "IPY_MODEL_c28b24dda1a74cdc882ea2dca5b29e20"
          }
        },
        "92557f5843dc41849a90e4d7652df829": {
          "model_module": "@jupyter-widgets/controls",
          "model_name": "HTMLModel",
          "model_module_version": "1.5.0",
          "state": {
            "_view_name": "HTMLView",
            "style": "IPY_MODEL_305e5b9c0a0e48c59b9203d08e5353f1",
            "_dom_classes": [],
            "description": "",
            "_model_name": "HTMLModel",
            "placeholder": "​",
            "_view_module": "@jupyter-widgets/controls",
            "_model_module_version": "1.5.0",
            "value": " 51409/0 [00:08&lt;00:00, 6051.25 examples/s]",
            "_view_count": null,
            "_view_module_version": "1.5.0",
            "description_tooltip": null,
            "_model_module": "@jupyter-widgets/controls",
            "layout": "IPY_MODEL_4daa4bcfbf214011a319a7fdd10a801b"
          }
        },
        "8eb873111e3b4ea29511707b6ce139cc": {
          "model_module": "@jupyter-widgets/controls",
          "model_name": "DescriptionStyleModel",
          "model_module_version": "1.5.0",
          "state": {
            "_view_name": "StyleView",
            "_model_name": "DescriptionStyleModel",
            "description_width": "",
            "_view_module": "@jupyter-widgets/base",
            "_model_module_version": "1.5.0",
            "_view_count": null,
            "_view_module_version": "1.2.0",
            "_model_module": "@jupyter-widgets/controls"
          }
        },
        "eae1580eed4a4cc2afcc94b9b54fa96c": {
          "model_module": "@jupyter-widgets/base",
          "model_name": "LayoutModel",
          "model_module_version": "1.2.0",
          "state": {
            "_view_name": "LayoutView",
            "grid_template_rows": null,
            "right": null,
            "justify_content": null,
            "_view_module": "@jupyter-widgets/base",
            "overflow": null,
            "_model_module_version": "1.2.0",
            "_view_count": null,
            "flex_flow": null,
            "width": null,
            "min_width": null,
            "border": null,
            "align_items": null,
            "bottom": null,
            "_model_module": "@jupyter-widgets/base",
            "top": null,
            "grid_column": null,
            "overflow_y": null,
            "overflow_x": null,
            "grid_auto_flow": null,
            "grid_area": null,
            "grid_template_columns": null,
            "flex": null,
            "_model_name": "LayoutModel",
            "justify_items": null,
            "grid_row": null,
            "max_height": null,
            "align_content": null,
            "visibility": null,
            "align_self": null,
            "height": null,
            "min_height": null,
            "padding": null,
            "grid_auto_rows": null,
            "grid_gap": null,
            "max_width": null,
            "order": null,
            "_view_module_version": "1.2.0",
            "grid_template_areas": null,
            "object_position": null,
            "object_fit": null,
            "grid_auto_columns": null,
            "margin": null,
            "display": null,
            "left": null
          }
        },
        "6846a382ffbe4bd1bd7ba94456b0f5ed": {
          "model_module": "@jupyter-widgets/controls",
          "model_name": "ProgressStyleModel",
          "model_module_version": "1.5.0",
          "state": {
            "_view_name": "StyleView",
            "_model_name": "ProgressStyleModel",
            "description_width": "",
            "_view_module": "@jupyter-widgets/base",
            "_model_module_version": "1.5.0",
            "_view_count": null,
            "_view_module_version": "1.2.0",
            "bar_color": null,
            "_model_module": "@jupyter-widgets/controls"
          }
        },
        "c28b24dda1a74cdc882ea2dca5b29e20": {
          "model_module": "@jupyter-widgets/base",
          "model_name": "LayoutModel",
          "model_module_version": "1.2.0",
          "state": {
            "_view_name": "LayoutView",
            "grid_template_rows": null,
            "right": null,
            "justify_content": null,
            "_view_module": "@jupyter-widgets/base",
            "overflow": null,
            "_model_module_version": "1.2.0",
            "_view_count": null,
            "flex_flow": null,
            "width": "20px",
            "min_width": null,
            "border": null,
            "align_items": null,
            "bottom": null,
            "_model_module": "@jupyter-widgets/base",
            "top": null,
            "grid_column": null,
            "overflow_y": null,
            "overflow_x": null,
            "grid_auto_flow": null,
            "grid_area": null,
            "grid_template_columns": null,
            "flex": null,
            "_model_name": "LayoutModel",
            "justify_items": null,
            "grid_row": null,
            "max_height": null,
            "align_content": null,
            "visibility": null,
            "align_self": null,
            "height": null,
            "min_height": null,
            "padding": null,
            "grid_auto_rows": null,
            "grid_gap": null,
            "max_width": null,
            "order": null,
            "_view_module_version": "1.2.0",
            "grid_template_areas": null,
            "object_position": null,
            "object_fit": null,
            "grid_auto_columns": null,
            "margin": null,
            "display": null,
            "left": null
          }
        },
        "305e5b9c0a0e48c59b9203d08e5353f1": {
          "model_module": "@jupyter-widgets/controls",
          "model_name": "DescriptionStyleModel",
          "model_module_version": "1.5.0",
          "state": {
            "_view_name": "StyleView",
            "_model_name": "DescriptionStyleModel",
            "description_width": "",
            "_view_module": "@jupyter-widgets/base",
            "_model_module_version": "1.5.0",
            "_view_count": null,
            "_view_module_version": "1.2.0",
            "_model_module": "@jupyter-widgets/controls"
          }
        },
        "4daa4bcfbf214011a319a7fdd10a801b": {
          "model_module": "@jupyter-widgets/base",
          "model_name": "LayoutModel",
          "model_module_version": "1.2.0",
          "state": {
            "_view_name": "LayoutView",
            "grid_template_rows": null,
            "right": null,
            "justify_content": null,
            "_view_module": "@jupyter-widgets/base",
            "overflow": null,
            "_model_module_version": "1.2.0",
            "_view_count": null,
            "flex_flow": null,
            "width": null,
            "min_width": null,
            "border": null,
            "align_items": null,
            "bottom": null,
            "_model_module": "@jupyter-widgets/base",
            "top": null,
            "grid_column": null,
            "overflow_y": null,
            "overflow_x": null,
            "grid_auto_flow": null,
            "grid_area": null,
            "grid_template_columns": null,
            "flex": null,
            "_model_name": "LayoutModel",
            "justify_items": null,
            "grid_row": null,
            "max_height": null,
            "align_content": null,
            "visibility": null,
            "align_self": null,
            "height": null,
            "min_height": null,
            "padding": null,
            "grid_auto_rows": null,
            "grid_gap": null,
            "max_width": null,
            "order": null,
            "_view_module_version": "1.2.0",
            "grid_template_areas": null,
            "object_position": null,
            "object_fit": null,
            "grid_auto_columns": null,
            "margin": null,
            "display": null,
            "left": null
          }
        },
        "19c5de4138fe49bfa3b0bfb7f55f1296": {
          "model_module": "@jupyter-widgets/controls",
          "model_name": "HBoxModel",
          "model_module_version": "1.5.0",
          "state": {
            "_view_name": "HBoxView",
            "_dom_classes": [],
            "_model_name": "HBoxModel",
            "_view_module": "@jupyter-widgets/controls",
            "_model_module_version": "1.5.0",
            "_view_count": null,
            "_view_module_version": "1.5.0",
            "box_style": "",
            "layout": "IPY_MODEL_98c58a728aab44ba91103f1764f14566",
            "_model_module": "@jupyter-widgets/controls",
            "children": [
              "IPY_MODEL_1ce4b97a0ec6427fa12d3f6898113779",
              "IPY_MODEL_7099fd7399d842f1a75e91c1bdeebcc8",
              "IPY_MODEL_ebe9279aaf104ca48d68650d8a26a4a3"
            ]
          }
        },
        "98c58a728aab44ba91103f1764f14566": {
          "model_module": "@jupyter-widgets/base",
          "model_name": "LayoutModel",
          "model_module_version": "1.2.0",
          "state": {
            "_view_name": "LayoutView",
            "grid_template_rows": null,
            "right": null,
            "justify_content": null,
            "_view_module": "@jupyter-widgets/base",
            "overflow": null,
            "_model_module_version": "1.2.0",
            "_view_count": null,
            "flex_flow": null,
            "width": null,
            "min_width": null,
            "border": null,
            "align_items": null,
            "bottom": null,
            "_model_module": "@jupyter-widgets/base",
            "top": null,
            "grid_column": null,
            "overflow_y": null,
            "overflow_x": null,
            "grid_auto_flow": null,
            "grid_area": null,
            "grid_template_columns": null,
            "flex": null,
            "_model_name": "LayoutModel",
            "justify_items": null,
            "grid_row": null,
            "max_height": null,
            "align_content": null,
            "visibility": null,
            "align_self": null,
            "height": null,
            "min_height": null,
            "padding": null,
            "grid_auto_rows": null,
            "grid_gap": null,
            "max_width": null,
            "order": null,
            "_view_module_version": "1.2.0",
            "grid_template_areas": null,
            "object_position": null,
            "object_fit": null,
            "grid_auto_columns": null,
            "margin": null,
            "display": null,
            "left": null
          }
        },
        "1ce4b97a0ec6427fa12d3f6898113779": {
          "model_module": "@jupyter-widgets/controls",
          "model_name": "HTMLModel",
          "model_module_version": "1.5.0",
          "state": {
            "_view_name": "HTMLView",
            "style": "IPY_MODEL_22e490a66bc14bae8d1d5f04eb2ba44a",
            "_dom_classes": [],
            "description": "",
            "_model_name": "HTMLModel",
            "placeholder": "​",
            "_view_module": "@jupyter-widgets/controls",
            "_model_module_version": "1.5.0",
            "value": "100%",
            "_view_count": null,
            "_view_module_version": "1.5.0",
            "description_tooltip": null,
            "_model_module": "@jupyter-widgets/controls",
            "layout": "IPY_MODEL_741311700378485586480e558cd935f3"
          }
        },
        "7099fd7399d842f1a75e91c1bdeebcc8": {
          "model_module": "@jupyter-widgets/controls",
          "model_name": "FloatProgressModel",
          "model_module_version": "1.5.0",
          "state": {
            "_view_name": "ProgressView",
            "style": "IPY_MODEL_942a2fce3f3e498cba03c8bd5c81441e",
            "_dom_classes": [],
            "description": "",
            "_model_name": "FloatProgressModel",
            "bar_style": "danger",
            "max": 51785,
            "_view_module": "@jupyter-widgets/controls",
            "_model_module_version": "1.5.0",
            "value": 51784,
            "_view_count": null,
            "_view_module_version": "1.5.0",
            "orientation": "horizontal",
            "min": 0,
            "description_tooltip": null,
            "_model_module": "@jupyter-widgets/controls",
            "layout": "IPY_MODEL_e2f05a1b856944d284b40cd241860fe6"
          }
        },
        "ebe9279aaf104ca48d68650d8a26a4a3": {
          "model_module": "@jupyter-widgets/controls",
          "model_name": "HTMLModel",
          "model_module_version": "1.5.0",
          "state": {
            "_view_name": "HTMLView",
            "style": "IPY_MODEL_9aa3ef0a2e414f1ab1dcb4d6cb8b33db",
            "_dom_classes": [],
            "description": "",
            "_model_name": "HTMLModel",
            "placeholder": "​",
            "_view_module": "@jupyter-widgets/controls",
            "_model_module_version": "1.5.0",
            "value": " 51784/51785 [00:00&lt;00:00, 225568.20 examples/s]",
            "_view_count": null,
            "_view_module_version": "1.5.0",
            "description_tooltip": null,
            "_model_module": "@jupyter-widgets/controls",
            "layout": "IPY_MODEL_596b166dc2084cdb892a7165175f4fbe"
          }
        },
        "22e490a66bc14bae8d1d5f04eb2ba44a": {
          "model_module": "@jupyter-widgets/controls",
          "model_name": "DescriptionStyleModel",
          "model_module_version": "1.5.0",
          "state": {
            "_view_name": "StyleView",
            "_model_name": "DescriptionStyleModel",
            "description_width": "",
            "_view_module": "@jupyter-widgets/base",
            "_model_module_version": "1.5.0",
            "_view_count": null,
            "_view_module_version": "1.2.0",
            "_model_module": "@jupyter-widgets/controls"
          }
        },
        "741311700378485586480e558cd935f3": {
          "model_module": "@jupyter-widgets/base",
          "model_name": "LayoutModel",
          "model_module_version": "1.2.0",
          "state": {
            "_view_name": "LayoutView",
            "grid_template_rows": null,
            "right": null,
            "justify_content": null,
            "_view_module": "@jupyter-widgets/base",
            "overflow": null,
            "_model_module_version": "1.2.0",
            "_view_count": null,
            "flex_flow": null,
            "width": null,
            "min_width": null,
            "border": null,
            "align_items": null,
            "bottom": null,
            "_model_module": "@jupyter-widgets/base",
            "top": null,
            "grid_column": null,
            "overflow_y": null,
            "overflow_x": null,
            "grid_auto_flow": null,
            "grid_area": null,
            "grid_template_columns": null,
            "flex": null,
            "_model_name": "LayoutModel",
            "justify_items": null,
            "grid_row": null,
            "max_height": null,
            "align_content": null,
            "visibility": null,
            "align_self": null,
            "height": null,
            "min_height": null,
            "padding": null,
            "grid_auto_rows": null,
            "grid_gap": null,
            "max_width": null,
            "order": null,
            "_view_module_version": "1.2.0",
            "grid_template_areas": null,
            "object_position": null,
            "object_fit": null,
            "grid_auto_columns": null,
            "margin": null,
            "display": null,
            "left": null
          }
        },
        "942a2fce3f3e498cba03c8bd5c81441e": {
          "model_module": "@jupyter-widgets/controls",
          "model_name": "ProgressStyleModel",
          "model_module_version": "1.5.0",
          "state": {
            "_view_name": "StyleView",
            "_model_name": "ProgressStyleModel",
            "description_width": "",
            "_view_module": "@jupyter-widgets/base",
            "_model_module_version": "1.5.0",
            "_view_count": null,
            "_view_module_version": "1.2.0",
            "bar_color": null,
            "_model_module": "@jupyter-widgets/controls"
          }
        },
        "e2f05a1b856944d284b40cd241860fe6": {
          "model_module": "@jupyter-widgets/base",
          "model_name": "LayoutModel",
          "model_module_version": "1.2.0",
          "state": {
            "_view_name": "LayoutView",
            "grid_template_rows": null,
            "right": null,
            "justify_content": null,
            "_view_module": "@jupyter-widgets/base",
            "overflow": null,
            "_model_module_version": "1.2.0",
            "_view_count": null,
            "flex_flow": null,
            "width": null,
            "min_width": null,
            "border": null,
            "align_items": null,
            "bottom": null,
            "_model_module": "@jupyter-widgets/base",
            "top": null,
            "grid_column": null,
            "overflow_y": null,
            "overflow_x": null,
            "grid_auto_flow": null,
            "grid_area": null,
            "grid_template_columns": null,
            "flex": null,
            "_model_name": "LayoutModel",
            "justify_items": null,
            "grid_row": null,
            "max_height": null,
            "align_content": null,
            "visibility": null,
            "align_self": null,
            "height": null,
            "min_height": null,
            "padding": null,
            "grid_auto_rows": null,
            "grid_gap": null,
            "max_width": null,
            "order": null,
            "_view_module_version": "1.2.0",
            "grid_template_areas": null,
            "object_position": null,
            "object_fit": null,
            "grid_auto_columns": null,
            "margin": null,
            "display": null,
            "left": null
          }
        },
        "9aa3ef0a2e414f1ab1dcb4d6cb8b33db": {
          "model_module": "@jupyter-widgets/controls",
          "model_name": "DescriptionStyleModel",
          "model_module_version": "1.5.0",
          "state": {
            "_view_name": "StyleView",
            "_model_name": "DescriptionStyleModel",
            "description_width": "",
            "_view_module": "@jupyter-widgets/base",
            "_model_module_version": "1.5.0",
            "_view_count": null,
            "_view_module_version": "1.2.0",
            "_model_module": "@jupyter-widgets/controls"
          }
        },
        "596b166dc2084cdb892a7165175f4fbe": {
          "model_module": "@jupyter-widgets/base",
          "model_name": "LayoutModel",
          "model_module_version": "1.2.0",
          "state": {
            "_view_name": "LayoutView",
            "grid_template_rows": null,
            "right": null,
            "justify_content": null,
            "_view_module": "@jupyter-widgets/base",
            "overflow": null,
            "_model_module_version": "1.2.0",
            "_view_count": null,
            "flex_flow": null,
            "width": null,
            "min_width": null,
            "border": null,
            "align_items": null,
            "bottom": null,
            "_model_module": "@jupyter-widgets/base",
            "top": null,
            "grid_column": null,
            "overflow_y": null,
            "overflow_x": null,
            "grid_auto_flow": null,
            "grid_area": null,
            "grid_template_columns": null,
            "flex": null,
            "_model_name": "LayoutModel",
            "justify_items": null,
            "grid_row": null,
            "max_height": null,
            "align_content": null,
            "visibility": null,
            "align_self": null,
            "height": null,
            "min_height": null,
            "padding": null,
            "grid_auto_rows": null,
            "grid_gap": null,
            "max_width": null,
            "order": null,
            "_view_module_version": "1.2.0",
            "grid_template_areas": null,
            "object_position": null,
            "object_fit": null,
            "grid_auto_columns": null,
            "margin": null,
            "display": null,
            "left": null
          }
        },
        "d7f5d0e685e24206b2ff8d00ce2fd456": {
          "model_module": "@jupyter-widgets/controls",
          "model_name": "HBoxModel",
          "model_module_version": "1.5.0",
          "state": {
            "_view_name": "HBoxView",
            "_dom_classes": [],
            "_model_name": "HBoxModel",
            "_view_module": "@jupyter-widgets/controls",
            "_model_module_version": "1.5.0",
            "_view_count": null,
            "_view_module_version": "1.5.0",
            "box_style": "",
            "layout": "IPY_MODEL_ac4eb323e1db41deb30432b07bd21645",
            "_model_module": "@jupyter-widgets/controls",
            "children": [
              "IPY_MODEL_37179cb9b7604f4cb8bbafeeb2d68c67",
              "IPY_MODEL_b9d3c0e73dd14542bf2847d888ad1816",
              "IPY_MODEL_0b8db497dca247598e75aee3dab08657"
            ]
          }
        },
        "ac4eb323e1db41deb30432b07bd21645": {
          "model_module": "@jupyter-widgets/base",
          "model_name": "LayoutModel",
          "model_module_version": "1.2.0",
          "state": {
            "_view_name": "LayoutView",
            "grid_template_rows": null,
            "right": null,
            "justify_content": null,
            "_view_module": "@jupyter-widgets/base",
            "overflow": null,
            "_model_module_version": "1.2.0",
            "_view_count": null,
            "flex_flow": null,
            "width": null,
            "min_width": null,
            "border": null,
            "align_items": null,
            "bottom": null,
            "_model_module": "@jupyter-widgets/base",
            "top": null,
            "grid_column": null,
            "overflow_y": null,
            "overflow_x": null,
            "grid_auto_flow": null,
            "grid_area": null,
            "grid_template_columns": null,
            "flex": null,
            "_model_name": "LayoutModel",
            "justify_items": null,
            "grid_row": null,
            "max_height": null,
            "align_content": null,
            "visibility": null,
            "align_self": null,
            "height": null,
            "min_height": null,
            "padding": null,
            "grid_auto_rows": null,
            "grid_gap": null,
            "max_width": null,
            "order": null,
            "_view_module_version": "1.2.0",
            "grid_template_areas": null,
            "object_position": null,
            "object_fit": null,
            "grid_auto_columns": null,
            "margin": null,
            "display": null,
            "left": null
          }
        },
        "37179cb9b7604f4cb8bbafeeb2d68c67": {
          "model_module": "@jupyter-widgets/controls",
          "model_name": "HTMLModel",
          "model_module_version": "1.5.0",
          "state": {
            "_view_name": "HTMLView",
            "style": "IPY_MODEL_82485b326bb14602b5d4d9194bb929f0",
            "_dom_classes": [],
            "description": "",
            "_model_name": "HTMLModel",
            "placeholder": "​",
            "_view_module": "@jupyter-widgets/controls",
            "_model_module_version": "1.5.0",
            "value": "",
            "_view_count": null,
            "_view_module_version": "1.5.0",
            "description_tooltip": null,
            "_model_module": "@jupyter-widgets/controls",
            "layout": "IPY_MODEL_09ef81718b9a4007857a856b9ac142da"
          }
        },
        "b9d3c0e73dd14542bf2847d888ad1816": {
          "model_module": "@jupyter-widgets/controls",
          "model_name": "FloatProgressModel",
          "model_module_version": "1.5.0",
          "state": {
            "_view_name": "ProgressView",
            "style": "IPY_MODEL_729678990890407b9ed052613289985f",
            "_dom_classes": [],
            "description": "",
            "_model_name": "FloatProgressModel",
            "bar_style": "info",
            "max": 1,
            "_view_module": "@jupyter-widgets/controls",
            "_model_module_version": "1.5.0",
            "value": 1,
            "_view_count": null,
            "_view_module_version": "1.5.0",
            "orientation": "horizontal",
            "min": 0,
            "description_tooltip": null,
            "_model_module": "@jupyter-widgets/controls",
            "layout": "IPY_MODEL_a26f31b8c06e470bacd96e3d6cfdcb6c"
          }
        },
        "0b8db497dca247598e75aee3dab08657": {
          "model_module": "@jupyter-widgets/controls",
          "model_name": "HTMLModel",
          "model_module_version": "1.5.0",
          "state": {
            "_view_name": "HTMLView",
            "style": "IPY_MODEL_8166f25a95a04f87a2679ca3ecf6ead1",
            "_dom_classes": [],
            "description": "",
            "_model_name": "HTMLModel",
            "placeholder": "​",
            "_view_module": "@jupyter-widgets/controls",
            "_model_module_version": "1.5.0",
            "value": " 746/0 [00:00&lt;00:00, 4088.99 examples/s]",
            "_view_count": null,
            "_view_module_version": "1.5.0",
            "description_tooltip": null,
            "_model_module": "@jupyter-widgets/controls",
            "layout": "IPY_MODEL_35e0316f455e4ec69be510c8a2bd5eb5"
          }
        },
        "82485b326bb14602b5d4d9194bb929f0": {
          "model_module": "@jupyter-widgets/controls",
          "model_name": "DescriptionStyleModel",
          "model_module_version": "1.5.0",
          "state": {
            "_view_name": "StyleView",
            "_model_name": "DescriptionStyleModel",
            "description_width": "",
            "_view_module": "@jupyter-widgets/base",
            "_model_module_version": "1.5.0",
            "_view_count": null,
            "_view_module_version": "1.2.0",
            "_model_module": "@jupyter-widgets/controls"
          }
        },
        "09ef81718b9a4007857a856b9ac142da": {
          "model_module": "@jupyter-widgets/base",
          "model_name": "LayoutModel",
          "model_module_version": "1.2.0",
          "state": {
            "_view_name": "LayoutView",
            "grid_template_rows": null,
            "right": null,
            "justify_content": null,
            "_view_module": "@jupyter-widgets/base",
            "overflow": null,
            "_model_module_version": "1.2.0",
            "_view_count": null,
            "flex_flow": null,
            "width": null,
            "min_width": null,
            "border": null,
            "align_items": null,
            "bottom": null,
            "_model_module": "@jupyter-widgets/base",
            "top": null,
            "grid_column": null,
            "overflow_y": null,
            "overflow_x": null,
            "grid_auto_flow": null,
            "grid_area": null,
            "grid_template_columns": null,
            "flex": null,
            "_model_name": "LayoutModel",
            "justify_items": null,
            "grid_row": null,
            "max_height": null,
            "align_content": null,
            "visibility": null,
            "align_self": null,
            "height": null,
            "min_height": null,
            "padding": null,
            "grid_auto_rows": null,
            "grid_gap": null,
            "max_width": null,
            "order": null,
            "_view_module_version": "1.2.0",
            "grid_template_areas": null,
            "object_position": null,
            "object_fit": null,
            "grid_auto_columns": null,
            "margin": null,
            "display": null,
            "left": null
          }
        },
        "729678990890407b9ed052613289985f": {
          "model_module": "@jupyter-widgets/controls",
          "model_name": "ProgressStyleModel",
          "model_module_version": "1.5.0",
          "state": {
            "_view_name": "StyleView",
            "_model_name": "ProgressStyleModel",
            "description_width": "",
            "_view_module": "@jupyter-widgets/base",
            "_model_module_version": "1.5.0",
            "_view_count": null,
            "_view_module_version": "1.2.0",
            "bar_color": null,
            "_model_module": "@jupyter-widgets/controls"
          }
        },
        "a26f31b8c06e470bacd96e3d6cfdcb6c": {
          "model_module": "@jupyter-widgets/base",
          "model_name": "LayoutModel",
          "model_module_version": "1.2.0",
          "state": {
            "_view_name": "LayoutView",
            "grid_template_rows": null,
            "right": null,
            "justify_content": null,
            "_view_module": "@jupyter-widgets/base",
            "overflow": null,
            "_model_module_version": "1.2.0",
            "_view_count": null,
            "flex_flow": null,
            "width": "20px",
            "min_width": null,
            "border": null,
            "align_items": null,
            "bottom": null,
            "_model_module": "@jupyter-widgets/base",
            "top": null,
            "grid_column": null,
            "overflow_y": null,
            "overflow_x": null,
            "grid_auto_flow": null,
            "grid_area": null,
            "grid_template_columns": null,
            "flex": null,
            "_model_name": "LayoutModel",
            "justify_items": null,
            "grid_row": null,
            "max_height": null,
            "align_content": null,
            "visibility": null,
            "align_self": null,
            "height": null,
            "min_height": null,
            "padding": null,
            "grid_auto_rows": null,
            "grid_gap": null,
            "max_width": null,
            "order": null,
            "_view_module_version": "1.2.0",
            "grid_template_areas": null,
            "object_position": null,
            "object_fit": null,
            "grid_auto_columns": null,
            "margin": null,
            "display": null,
            "left": null
          }
        },
        "8166f25a95a04f87a2679ca3ecf6ead1": {
          "model_module": "@jupyter-widgets/controls",
          "model_name": "DescriptionStyleModel",
          "model_module_version": "1.5.0",
          "state": {
            "_view_name": "StyleView",
            "_model_name": "DescriptionStyleModel",
            "description_width": "",
            "_view_module": "@jupyter-widgets/base",
            "_model_module_version": "1.5.0",
            "_view_count": null,
            "_view_module_version": "1.2.0",
            "_model_module": "@jupyter-widgets/controls"
          }
        },
        "35e0316f455e4ec69be510c8a2bd5eb5": {
          "model_module": "@jupyter-widgets/base",
          "model_name": "LayoutModel",
          "model_module_version": "1.2.0",
          "state": {
            "_view_name": "LayoutView",
            "grid_template_rows": null,
            "right": null,
            "justify_content": null,
            "_view_module": "@jupyter-widgets/base",
            "overflow": null,
            "_model_module_version": "1.2.0",
            "_view_count": null,
            "flex_flow": null,
            "width": null,
            "min_width": null,
            "border": null,
            "align_items": null,
            "bottom": null,
            "_model_module": "@jupyter-widgets/base",
            "top": null,
            "grid_column": null,
            "overflow_y": null,
            "overflow_x": null,
            "grid_auto_flow": null,
            "grid_area": null,
            "grid_template_columns": null,
            "flex": null,
            "_model_name": "LayoutModel",
            "justify_items": null,
            "grid_row": null,
            "max_height": null,
            "align_content": null,
            "visibility": null,
            "align_self": null,
            "height": null,
            "min_height": null,
            "padding": null,
            "grid_auto_rows": null,
            "grid_gap": null,
            "max_width": null,
            "order": null,
            "_view_module_version": "1.2.0",
            "grid_template_areas": null,
            "object_position": null,
            "object_fit": null,
            "grid_auto_columns": null,
            "margin": null,
            "display": null,
            "left": null
          }
        },
        "74bfdc71431f4f2ea7a35c2f50b08cf7": {
          "model_module": "@jupyter-widgets/controls",
          "model_name": "HBoxModel",
          "model_module_version": "1.5.0",
          "state": {
            "_view_name": "HBoxView",
            "_dom_classes": [],
            "_model_name": "HBoxModel",
            "_view_module": "@jupyter-widgets/controls",
            "_model_module_version": "1.5.0",
            "_view_count": null,
            "_view_module_version": "1.5.0",
            "box_style": "",
            "layout": "IPY_MODEL_664eb6e13d15463cb0129a74eb74e2de",
            "_model_module": "@jupyter-widgets/controls",
            "children": [
              "IPY_MODEL_99342eb92dd94575a5c9d24b687935a3",
              "IPY_MODEL_ff13b312837e495ebef7cc74ac98189a",
              "IPY_MODEL_c22e88b50b334a878d352c578d7b9552"
            ]
          }
        },
        "664eb6e13d15463cb0129a74eb74e2de": {
          "model_module": "@jupyter-widgets/base",
          "model_name": "LayoutModel",
          "model_module_version": "1.2.0",
          "state": {
            "_view_name": "LayoutView",
            "grid_template_rows": null,
            "right": null,
            "justify_content": null,
            "_view_module": "@jupyter-widgets/base",
            "overflow": null,
            "_model_module_version": "1.2.0",
            "_view_count": null,
            "flex_flow": null,
            "width": null,
            "min_width": null,
            "border": null,
            "align_items": null,
            "bottom": null,
            "_model_module": "@jupyter-widgets/base",
            "top": null,
            "grid_column": null,
            "overflow_y": null,
            "overflow_x": null,
            "grid_auto_flow": null,
            "grid_area": null,
            "grid_template_columns": null,
            "flex": null,
            "_model_name": "LayoutModel",
            "justify_items": null,
            "grid_row": null,
            "max_height": null,
            "align_content": null,
            "visibility": null,
            "align_self": null,
            "height": null,
            "min_height": null,
            "padding": null,
            "grid_auto_rows": null,
            "grid_gap": null,
            "max_width": null,
            "order": null,
            "_view_module_version": "1.2.0",
            "grid_template_areas": null,
            "object_position": null,
            "object_fit": null,
            "grid_auto_columns": null,
            "margin": null,
            "display": null,
            "left": null
          }
        },
        "99342eb92dd94575a5c9d24b687935a3": {
          "model_module": "@jupyter-widgets/controls",
          "model_name": "HTMLModel",
          "model_module_version": "1.5.0",
          "state": {
            "_view_name": "HTMLView",
            "style": "IPY_MODEL_3c977f14704f480bac580c9e480522a0",
            "_dom_classes": [],
            "description": "",
            "_model_name": "HTMLModel",
            "placeholder": "​",
            "_view_module": "@jupyter-widgets/controls",
            "_model_module_version": "1.5.0",
            "value": "100%",
            "_view_count": null,
            "_view_module_version": "1.5.0",
            "description_tooltip": null,
            "_model_module": "@jupyter-widgets/controls",
            "layout": "IPY_MODEL_d5805e0a67804a70bb3223ac598f0dc3"
          }
        },
        "ff13b312837e495ebef7cc74ac98189a": {
          "model_module": "@jupyter-widgets/controls",
          "model_name": "FloatProgressModel",
          "model_module_version": "1.5.0",
          "state": {
            "_view_name": "ProgressView",
            "style": "IPY_MODEL_cea03cf9fcac43629993d035ea0b85d5",
            "_dom_classes": [],
            "description": "",
            "_model_name": "FloatProgressModel",
            "bar_style": "danger",
            "max": 1193,
            "_view_module": "@jupyter-widgets/controls",
            "_model_module_version": "1.5.0",
            "value": 1192,
            "_view_count": null,
            "_view_module_version": "1.5.0",
            "orientation": "horizontal",
            "min": 0,
            "description_tooltip": null,
            "_model_module": "@jupyter-widgets/controls",
            "layout": "IPY_MODEL_565d51043a6f4d4bbf3a0f7f06e89184"
          }
        },
        "c22e88b50b334a878d352c578d7b9552": {
          "model_module": "@jupyter-widgets/controls",
          "model_name": "HTMLModel",
          "model_module_version": "1.5.0",
          "state": {
            "_view_name": "HTMLView",
            "style": "IPY_MODEL_1df27e5920114524949fb684666c7990",
            "_dom_classes": [],
            "description": "",
            "_model_name": "HTMLModel",
            "placeholder": "​",
            "_view_module": "@jupyter-widgets/controls",
            "_model_module_version": "1.5.0",
            "value": " 1192/1193 [00:00&lt;00:00, 28772.91 examples/s]",
            "_view_count": null,
            "_view_module_version": "1.5.0",
            "description_tooltip": null,
            "_model_module": "@jupyter-widgets/controls",
            "layout": "IPY_MODEL_300b5c7a723245b192546046b7ac478f"
          }
        },
        "3c977f14704f480bac580c9e480522a0": {
          "model_module": "@jupyter-widgets/controls",
          "model_name": "DescriptionStyleModel",
          "model_module_version": "1.5.0",
          "state": {
            "_view_name": "StyleView",
            "_model_name": "DescriptionStyleModel",
            "description_width": "",
            "_view_module": "@jupyter-widgets/base",
            "_model_module_version": "1.5.0",
            "_view_count": null,
            "_view_module_version": "1.2.0",
            "_model_module": "@jupyter-widgets/controls"
          }
        },
        "d5805e0a67804a70bb3223ac598f0dc3": {
          "model_module": "@jupyter-widgets/base",
          "model_name": "LayoutModel",
          "model_module_version": "1.2.0",
          "state": {
            "_view_name": "LayoutView",
            "grid_template_rows": null,
            "right": null,
            "justify_content": null,
            "_view_module": "@jupyter-widgets/base",
            "overflow": null,
            "_model_module_version": "1.2.0",
            "_view_count": null,
            "flex_flow": null,
            "width": null,
            "min_width": null,
            "border": null,
            "align_items": null,
            "bottom": null,
            "_model_module": "@jupyter-widgets/base",
            "top": null,
            "grid_column": null,
            "overflow_y": null,
            "overflow_x": null,
            "grid_auto_flow": null,
            "grid_area": null,
            "grid_template_columns": null,
            "flex": null,
            "_model_name": "LayoutModel",
            "justify_items": null,
            "grid_row": null,
            "max_height": null,
            "align_content": null,
            "visibility": null,
            "align_self": null,
            "height": null,
            "min_height": null,
            "padding": null,
            "grid_auto_rows": null,
            "grid_gap": null,
            "max_width": null,
            "order": null,
            "_view_module_version": "1.2.0",
            "grid_template_areas": null,
            "object_position": null,
            "object_fit": null,
            "grid_auto_columns": null,
            "margin": null,
            "display": null,
            "left": null
          }
        },
        "cea03cf9fcac43629993d035ea0b85d5": {
          "model_module": "@jupyter-widgets/controls",
          "model_name": "ProgressStyleModel",
          "model_module_version": "1.5.0",
          "state": {
            "_view_name": "StyleView",
            "_model_name": "ProgressStyleModel",
            "description_width": "",
            "_view_module": "@jupyter-widgets/base",
            "_model_module_version": "1.5.0",
            "_view_count": null,
            "_view_module_version": "1.2.0",
            "bar_color": null,
            "_model_module": "@jupyter-widgets/controls"
          }
        },
        "565d51043a6f4d4bbf3a0f7f06e89184": {
          "model_module": "@jupyter-widgets/base",
          "model_name": "LayoutModel",
          "model_module_version": "1.2.0",
          "state": {
            "_view_name": "LayoutView",
            "grid_template_rows": null,
            "right": null,
            "justify_content": null,
            "_view_module": "@jupyter-widgets/base",
            "overflow": null,
            "_model_module_version": "1.2.0",
            "_view_count": null,
            "flex_flow": null,
            "width": null,
            "min_width": null,
            "border": null,
            "align_items": null,
            "bottom": null,
            "_model_module": "@jupyter-widgets/base",
            "top": null,
            "grid_column": null,
            "overflow_y": null,
            "overflow_x": null,
            "grid_auto_flow": null,
            "grid_area": null,
            "grid_template_columns": null,
            "flex": null,
            "_model_name": "LayoutModel",
            "justify_items": null,
            "grid_row": null,
            "max_height": null,
            "align_content": null,
            "visibility": null,
            "align_self": null,
            "height": null,
            "min_height": null,
            "padding": null,
            "grid_auto_rows": null,
            "grid_gap": null,
            "max_width": null,
            "order": null,
            "_view_module_version": "1.2.0",
            "grid_template_areas": null,
            "object_position": null,
            "object_fit": null,
            "grid_auto_columns": null,
            "margin": null,
            "display": null,
            "left": null
          }
        },
        "1df27e5920114524949fb684666c7990": {
          "model_module": "@jupyter-widgets/controls",
          "model_name": "DescriptionStyleModel",
          "model_module_version": "1.5.0",
          "state": {
            "_view_name": "StyleView",
            "_model_name": "DescriptionStyleModel",
            "description_width": "",
            "_view_module": "@jupyter-widgets/base",
            "_model_module_version": "1.5.0",
            "_view_count": null,
            "_view_module_version": "1.2.0",
            "_model_module": "@jupyter-widgets/controls"
          }
        },
        "300b5c7a723245b192546046b7ac478f": {
          "model_module": "@jupyter-widgets/base",
          "model_name": "LayoutModel",
          "model_module_version": "1.2.0",
          "state": {
            "_view_name": "LayoutView",
            "grid_template_rows": null,
            "right": null,
            "justify_content": null,
            "_view_module": "@jupyter-widgets/base",
            "overflow": null,
            "_model_module_version": "1.2.0",
            "_view_count": null,
            "flex_flow": null,
            "width": null,
            "min_width": null,
            "border": null,
            "align_items": null,
            "bottom": null,
            "_model_module": "@jupyter-widgets/base",
            "top": null,
            "grid_column": null,
            "overflow_y": null,
            "overflow_x": null,
            "grid_auto_flow": null,
            "grid_area": null,
            "grid_template_columns": null,
            "flex": null,
            "_model_name": "LayoutModel",
            "justify_items": null,
            "grid_row": null,
            "max_height": null,
            "align_content": null,
            "visibility": null,
            "align_self": null,
            "height": null,
            "min_height": null,
            "padding": null,
            "grid_auto_rows": null,
            "grid_gap": null,
            "max_width": null,
            "order": null,
            "_view_module_version": "1.2.0",
            "grid_template_areas": null,
            "object_position": null,
            "object_fit": null,
            "grid_auto_columns": null,
            "margin": null,
            "display": null,
            "left": null
          }
        },
        "f035ecac315b40b2a3f6c037e6199a9f": {
          "model_module": "@jupyter-widgets/controls",
          "model_name": "HBoxModel",
          "model_module_version": "1.5.0",
          "state": {
            "_view_name": "HBoxView",
            "_dom_classes": [],
            "_model_name": "HBoxModel",
            "_view_module": "@jupyter-widgets/controls",
            "_model_module_version": "1.5.0",
            "_view_count": null,
            "_view_module_version": "1.5.0",
            "box_style": "",
            "layout": "IPY_MODEL_58c621a0df8c4ecf92d3397023860f61",
            "_model_module": "@jupyter-widgets/controls",
            "children": [
              "IPY_MODEL_d9695edfc1174f23bd52cf6e6b5ddb46",
              "IPY_MODEL_1d1b02bab62248df85eb503583a33787",
              "IPY_MODEL_50be6a0b36534a86aeef897f485b0ba6"
            ]
          }
        },
        "58c621a0df8c4ecf92d3397023860f61": {
          "model_module": "@jupyter-widgets/base",
          "model_name": "LayoutModel",
          "model_module_version": "1.2.0",
          "state": {
            "_view_name": "LayoutView",
            "grid_template_rows": null,
            "right": null,
            "justify_content": null,
            "_view_module": "@jupyter-widgets/base",
            "overflow": null,
            "_model_module_version": "1.2.0",
            "_view_count": null,
            "flex_flow": null,
            "width": null,
            "min_width": null,
            "border": null,
            "align_items": null,
            "bottom": null,
            "_model_module": "@jupyter-widgets/base",
            "top": null,
            "grid_column": null,
            "overflow_y": null,
            "overflow_x": null,
            "grid_auto_flow": null,
            "grid_area": null,
            "grid_template_columns": null,
            "flex": null,
            "_model_name": "LayoutModel",
            "justify_items": null,
            "grid_row": null,
            "max_height": null,
            "align_content": null,
            "visibility": null,
            "align_self": null,
            "height": null,
            "min_height": null,
            "padding": null,
            "grid_auto_rows": null,
            "grid_gap": null,
            "max_width": null,
            "order": null,
            "_view_module_version": "1.2.0",
            "grid_template_areas": null,
            "object_position": null,
            "object_fit": null,
            "grid_auto_columns": null,
            "margin": null,
            "display": null,
            "left": null
          }
        },
        "d9695edfc1174f23bd52cf6e6b5ddb46": {
          "model_module": "@jupyter-widgets/controls",
          "model_name": "HTMLModel",
          "model_module_version": "1.5.0",
          "state": {
            "_view_name": "HTMLView",
            "style": "IPY_MODEL_d603b8ceb1a6461c936585f49f019b21",
            "_dom_classes": [],
            "description": "",
            "_model_name": "HTMLModel",
            "placeholder": "​",
            "_view_module": "@jupyter-widgets/controls",
            "_model_module_version": "1.5.0",
            "value": "",
            "_view_count": null,
            "_view_module_version": "1.5.0",
            "description_tooltip": null,
            "_model_module": "@jupyter-widgets/controls",
            "layout": "IPY_MODEL_e19b6787d6074f98af3040a0efe4df3b"
          }
        },
        "1d1b02bab62248df85eb503583a33787": {
          "model_module": "@jupyter-widgets/controls",
          "model_name": "FloatProgressModel",
          "model_module_version": "1.5.0",
          "state": {
            "_view_name": "ProgressView",
            "style": "IPY_MODEL_cc8b8537398248d3be4de2754893167f",
            "_dom_classes": [],
            "description": "",
            "_model_name": "FloatProgressModel",
            "bar_style": "info",
            "max": 1,
            "_view_module": "@jupyter-widgets/controls",
            "_model_module_version": "1.5.0",
            "value": 1,
            "_view_count": null,
            "_view_module_version": "1.5.0",
            "orientation": "horizontal",
            "min": 0,
            "description_tooltip": null,
            "_model_module": "@jupyter-widgets/controls",
            "layout": "IPY_MODEL_92be0c3dddb14b4aaadc1cdb10f7f730"
          }
        },
        "50be6a0b36534a86aeef897f485b0ba6": {
          "model_module": "@jupyter-widgets/controls",
          "model_name": "HTMLModel",
          "model_module_version": "1.5.0",
          "state": {
            "_view_name": "HTMLView",
            "style": "IPY_MODEL_a8ebbb1d908144cb87c2c46415e52095",
            "_dom_classes": [],
            "description": "",
            "_model_name": "HTMLModel",
            "placeholder": "​",
            "_view_module": "@jupyter-widgets/controls",
            "_model_module_version": "1.5.0",
            "value": " 1730/0 [00:00&lt;00:00, 5072.01 examples/s]",
            "_view_count": null,
            "_view_module_version": "1.5.0",
            "description_tooltip": null,
            "_model_module": "@jupyter-widgets/controls",
            "layout": "IPY_MODEL_90343eb2d591475e998ff0533cab9372"
          }
        },
        "d603b8ceb1a6461c936585f49f019b21": {
          "model_module": "@jupyter-widgets/controls",
          "model_name": "DescriptionStyleModel",
          "model_module_version": "1.5.0",
          "state": {
            "_view_name": "StyleView",
            "_model_name": "DescriptionStyleModel",
            "description_width": "",
            "_view_module": "@jupyter-widgets/base",
            "_model_module_version": "1.5.0",
            "_view_count": null,
            "_view_module_version": "1.2.0",
            "_model_module": "@jupyter-widgets/controls"
          }
        },
        "e19b6787d6074f98af3040a0efe4df3b": {
          "model_module": "@jupyter-widgets/base",
          "model_name": "LayoutModel",
          "model_module_version": "1.2.0",
          "state": {
            "_view_name": "LayoutView",
            "grid_template_rows": null,
            "right": null,
            "justify_content": null,
            "_view_module": "@jupyter-widgets/base",
            "overflow": null,
            "_model_module_version": "1.2.0",
            "_view_count": null,
            "flex_flow": null,
            "width": null,
            "min_width": null,
            "border": null,
            "align_items": null,
            "bottom": null,
            "_model_module": "@jupyter-widgets/base",
            "top": null,
            "grid_column": null,
            "overflow_y": null,
            "overflow_x": null,
            "grid_auto_flow": null,
            "grid_area": null,
            "grid_template_columns": null,
            "flex": null,
            "_model_name": "LayoutModel",
            "justify_items": null,
            "grid_row": null,
            "max_height": null,
            "align_content": null,
            "visibility": null,
            "align_self": null,
            "height": null,
            "min_height": null,
            "padding": null,
            "grid_auto_rows": null,
            "grid_gap": null,
            "max_width": null,
            "order": null,
            "_view_module_version": "1.2.0",
            "grid_template_areas": null,
            "object_position": null,
            "object_fit": null,
            "grid_auto_columns": null,
            "margin": null,
            "display": null,
            "left": null
          }
        },
        "cc8b8537398248d3be4de2754893167f": {
          "model_module": "@jupyter-widgets/controls",
          "model_name": "ProgressStyleModel",
          "model_module_version": "1.5.0",
          "state": {
            "_view_name": "StyleView",
            "_model_name": "ProgressStyleModel",
            "description_width": "",
            "_view_module": "@jupyter-widgets/base",
            "_model_module_version": "1.5.0",
            "_view_count": null,
            "_view_module_version": "1.2.0",
            "bar_color": null,
            "_model_module": "@jupyter-widgets/controls"
          }
        },
        "92be0c3dddb14b4aaadc1cdb10f7f730": {
          "model_module": "@jupyter-widgets/base",
          "model_name": "LayoutModel",
          "model_module_version": "1.2.0",
          "state": {
            "_view_name": "LayoutView",
            "grid_template_rows": null,
            "right": null,
            "justify_content": null,
            "_view_module": "@jupyter-widgets/base",
            "overflow": null,
            "_model_module_version": "1.2.0",
            "_view_count": null,
            "flex_flow": null,
            "width": "20px",
            "min_width": null,
            "border": null,
            "align_items": null,
            "bottom": null,
            "_model_module": "@jupyter-widgets/base",
            "top": null,
            "grid_column": null,
            "overflow_y": null,
            "overflow_x": null,
            "grid_auto_flow": null,
            "grid_area": null,
            "grid_template_columns": null,
            "flex": null,
            "_model_name": "LayoutModel",
            "justify_items": null,
            "grid_row": null,
            "max_height": null,
            "align_content": null,
            "visibility": null,
            "align_self": null,
            "height": null,
            "min_height": null,
            "padding": null,
            "grid_auto_rows": null,
            "grid_gap": null,
            "max_width": null,
            "order": null,
            "_view_module_version": "1.2.0",
            "grid_template_areas": null,
            "object_position": null,
            "object_fit": null,
            "grid_auto_columns": null,
            "margin": null,
            "display": null,
            "left": null
          }
        },
        "a8ebbb1d908144cb87c2c46415e52095": {
          "model_module": "@jupyter-widgets/controls",
          "model_name": "DescriptionStyleModel",
          "model_module_version": "1.5.0",
          "state": {
            "_view_name": "StyleView",
            "_model_name": "DescriptionStyleModel",
            "description_width": "",
            "_view_module": "@jupyter-widgets/base",
            "_model_module_version": "1.5.0",
            "_view_count": null,
            "_view_module_version": "1.2.0",
            "_model_module": "@jupyter-widgets/controls"
          }
        },
        "90343eb2d591475e998ff0533cab9372": {
          "model_module": "@jupyter-widgets/base",
          "model_name": "LayoutModel",
          "model_module_version": "1.2.0",
          "state": {
            "_view_name": "LayoutView",
            "grid_template_rows": null,
            "right": null,
            "justify_content": null,
            "_view_module": "@jupyter-widgets/base",
            "overflow": null,
            "_model_module_version": "1.2.0",
            "_view_count": null,
            "flex_flow": null,
            "width": null,
            "min_width": null,
            "border": null,
            "align_items": null,
            "bottom": null,
            "_model_module": "@jupyter-widgets/base",
            "top": null,
            "grid_column": null,
            "overflow_y": null,
            "overflow_x": null,
            "grid_auto_flow": null,
            "grid_area": null,
            "grid_template_columns": null,
            "flex": null,
            "_model_name": "LayoutModel",
            "justify_items": null,
            "grid_row": null,
            "max_height": null,
            "align_content": null,
            "visibility": null,
            "align_self": null,
            "height": null,
            "min_height": null,
            "padding": null,
            "grid_auto_rows": null,
            "grid_gap": null,
            "max_width": null,
            "order": null,
            "_view_module_version": "1.2.0",
            "grid_template_areas": null,
            "object_position": null,
            "object_fit": null,
            "grid_auto_columns": null,
            "margin": null,
            "display": null,
            "left": null
          }
        },
        "69e8ff9013b248c6bd1ac837fd5d3454": {
          "model_module": "@jupyter-widgets/controls",
          "model_name": "HBoxModel",
          "model_module_version": "1.5.0",
          "state": {
            "_view_name": "HBoxView",
            "_dom_classes": [],
            "_model_name": "HBoxModel",
            "_view_module": "@jupyter-widgets/controls",
            "_model_module_version": "1.5.0",
            "_view_count": null,
            "_view_module_version": "1.5.0",
            "box_style": "",
            "layout": "IPY_MODEL_e3c00f9594724d7b838db7684d5e6d0f",
            "_model_module": "@jupyter-widgets/controls",
            "children": [
              "IPY_MODEL_769fcc6c081f4869a0f9d8230820cef3",
              "IPY_MODEL_e636ba2dafac4a4ca0c972444f5788d3",
              "IPY_MODEL_507f28f200bd4b878bf5c244b2d2b50b"
            ]
          }
        },
        "e3c00f9594724d7b838db7684d5e6d0f": {
          "model_module": "@jupyter-widgets/base",
          "model_name": "LayoutModel",
          "model_module_version": "1.2.0",
          "state": {
            "_view_name": "LayoutView",
            "grid_template_rows": null,
            "right": null,
            "justify_content": null,
            "_view_module": "@jupyter-widgets/base",
            "overflow": null,
            "_model_module_version": "1.2.0",
            "_view_count": null,
            "flex_flow": null,
            "width": null,
            "min_width": null,
            "border": null,
            "align_items": null,
            "bottom": null,
            "_model_module": "@jupyter-widgets/base",
            "top": null,
            "grid_column": null,
            "overflow_y": null,
            "overflow_x": null,
            "grid_auto_flow": null,
            "grid_area": null,
            "grid_template_columns": null,
            "flex": null,
            "_model_name": "LayoutModel",
            "justify_items": null,
            "grid_row": null,
            "max_height": null,
            "align_content": null,
            "visibility": null,
            "align_self": null,
            "height": null,
            "min_height": null,
            "padding": null,
            "grid_auto_rows": null,
            "grid_gap": null,
            "max_width": null,
            "order": null,
            "_view_module_version": "1.2.0",
            "grid_template_areas": null,
            "object_position": null,
            "object_fit": null,
            "grid_auto_columns": null,
            "margin": null,
            "display": null,
            "left": null
          }
        },
        "769fcc6c081f4869a0f9d8230820cef3": {
          "model_module": "@jupyter-widgets/controls",
          "model_name": "HTMLModel",
          "model_module_version": "1.5.0",
          "state": {
            "_view_name": "HTMLView",
            "style": "IPY_MODEL_b9857779b4214a278b0b4557aa97614d",
            "_dom_classes": [],
            "description": "",
            "_model_name": "HTMLModel",
            "placeholder": "​",
            "_view_module": "@jupyter-widgets/controls",
            "_model_module_version": "1.5.0",
            "value": "100%",
            "_view_count": null,
            "_view_module_version": "1.5.0",
            "description_tooltip": null,
            "_model_module": "@jupyter-widgets/controls",
            "layout": "IPY_MODEL_0f1ad7c5def746f5a79949bd90f60ac9"
          }
        },
        "e636ba2dafac4a4ca0c972444f5788d3": {
          "model_module": "@jupyter-widgets/controls",
          "model_name": "FloatProgressModel",
          "model_module_version": "1.5.0",
          "state": {
            "_view_name": "ProgressView",
            "style": "IPY_MODEL_84ef96894a2d4aca95f9896521a21729",
            "_dom_classes": [],
            "description": "",
            "_model_name": "FloatProgressModel",
            "bar_style": "danger",
            "max": 1803,
            "_view_module": "@jupyter-widgets/controls",
            "_model_module_version": "1.5.0",
            "value": 1802,
            "_view_count": null,
            "_view_module_version": "1.5.0",
            "orientation": "horizontal",
            "min": 0,
            "description_tooltip": null,
            "_model_module": "@jupyter-widgets/controls",
            "layout": "IPY_MODEL_8bab88e9cbeb406f85ded27592ac9f64"
          }
        },
        "507f28f200bd4b878bf5c244b2d2b50b": {
          "model_module": "@jupyter-widgets/controls",
          "model_name": "HTMLModel",
          "model_module_version": "1.5.0",
          "state": {
            "_view_name": "HTMLView",
            "style": "IPY_MODEL_1dd163e7811345769b9cdd83fb202240",
            "_dom_classes": [],
            "description": "",
            "_model_name": "HTMLModel",
            "placeholder": "​",
            "_view_module": "@jupyter-widgets/controls",
            "_model_module_version": "1.5.0",
            "value": " 1802/1803 [00:00&lt;00:00, 31150.10 examples/s]",
            "_view_count": null,
            "_view_module_version": "1.5.0",
            "description_tooltip": null,
            "_model_module": "@jupyter-widgets/controls",
            "layout": "IPY_MODEL_56bc0a408ff4426b9613c16f0b84c95b"
          }
        },
        "b9857779b4214a278b0b4557aa97614d": {
          "model_module": "@jupyter-widgets/controls",
          "model_name": "DescriptionStyleModel",
          "model_module_version": "1.5.0",
          "state": {
            "_view_name": "StyleView",
            "_model_name": "DescriptionStyleModel",
            "description_width": "",
            "_view_module": "@jupyter-widgets/base",
            "_model_module_version": "1.5.0",
            "_view_count": null,
            "_view_module_version": "1.2.0",
            "_model_module": "@jupyter-widgets/controls"
          }
        },
        "0f1ad7c5def746f5a79949bd90f60ac9": {
          "model_module": "@jupyter-widgets/base",
          "model_name": "LayoutModel",
          "model_module_version": "1.2.0",
          "state": {
            "_view_name": "LayoutView",
            "grid_template_rows": null,
            "right": null,
            "justify_content": null,
            "_view_module": "@jupyter-widgets/base",
            "overflow": null,
            "_model_module_version": "1.2.0",
            "_view_count": null,
            "flex_flow": null,
            "width": null,
            "min_width": null,
            "border": null,
            "align_items": null,
            "bottom": null,
            "_model_module": "@jupyter-widgets/base",
            "top": null,
            "grid_column": null,
            "overflow_y": null,
            "overflow_x": null,
            "grid_auto_flow": null,
            "grid_area": null,
            "grid_template_columns": null,
            "flex": null,
            "_model_name": "LayoutModel",
            "justify_items": null,
            "grid_row": null,
            "max_height": null,
            "align_content": null,
            "visibility": null,
            "align_self": null,
            "height": null,
            "min_height": null,
            "padding": null,
            "grid_auto_rows": null,
            "grid_gap": null,
            "max_width": null,
            "order": null,
            "_view_module_version": "1.2.0",
            "grid_template_areas": null,
            "object_position": null,
            "object_fit": null,
            "grid_auto_columns": null,
            "margin": null,
            "display": null,
            "left": null
          }
        },
        "84ef96894a2d4aca95f9896521a21729": {
          "model_module": "@jupyter-widgets/controls",
          "model_name": "ProgressStyleModel",
          "model_module_version": "1.5.0",
          "state": {
            "_view_name": "StyleView",
            "_model_name": "ProgressStyleModel",
            "description_width": "",
            "_view_module": "@jupyter-widgets/base",
            "_model_module_version": "1.5.0",
            "_view_count": null,
            "_view_module_version": "1.2.0",
            "bar_color": null,
            "_model_module": "@jupyter-widgets/controls"
          }
        },
        "8bab88e9cbeb406f85ded27592ac9f64": {
          "model_module": "@jupyter-widgets/base",
          "model_name": "LayoutModel",
          "model_module_version": "1.2.0",
          "state": {
            "_view_name": "LayoutView",
            "grid_template_rows": null,
            "right": null,
            "justify_content": null,
            "_view_module": "@jupyter-widgets/base",
            "overflow": null,
            "_model_module_version": "1.2.0",
            "_view_count": null,
            "flex_flow": null,
            "width": null,
            "min_width": null,
            "border": null,
            "align_items": null,
            "bottom": null,
            "_model_module": "@jupyter-widgets/base",
            "top": null,
            "grid_column": null,
            "overflow_y": null,
            "overflow_x": null,
            "grid_auto_flow": null,
            "grid_area": null,
            "grid_template_columns": null,
            "flex": null,
            "_model_name": "LayoutModel",
            "justify_items": null,
            "grid_row": null,
            "max_height": null,
            "align_content": null,
            "visibility": null,
            "align_self": null,
            "height": null,
            "min_height": null,
            "padding": null,
            "grid_auto_rows": null,
            "grid_gap": null,
            "max_width": null,
            "order": null,
            "_view_module_version": "1.2.0",
            "grid_template_areas": null,
            "object_position": null,
            "object_fit": null,
            "grid_auto_columns": null,
            "margin": null,
            "display": null,
            "left": null
          }
        },
        "1dd163e7811345769b9cdd83fb202240": {
          "model_module": "@jupyter-widgets/controls",
          "model_name": "DescriptionStyleModel",
          "model_module_version": "1.5.0",
          "state": {
            "_view_name": "StyleView",
            "_model_name": "DescriptionStyleModel",
            "description_width": "",
            "_view_module": "@jupyter-widgets/base",
            "_model_module_version": "1.5.0",
            "_view_count": null,
            "_view_module_version": "1.2.0",
            "_model_module": "@jupyter-widgets/controls"
          }
        },
        "56bc0a408ff4426b9613c16f0b84c95b": {
          "model_module": "@jupyter-widgets/base",
          "model_name": "LayoutModel",
          "model_module_version": "1.2.0",
          "state": {
            "_view_name": "LayoutView",
            "grid_template_rows": null,
            "right": null,
            "justify_content": null,
            "_view_module": "@jupyter-widgets/base",
            "overflow": null,
            "_model_module_version": "1.2.0",
            "_view_count": null,
            "flex_flow": null,
            "width": null,
            "min_width": null,
            "border": null,
            "align_items": null,
            "bottom": null,
            "_model_module": "@jupyter-widgets/base",
            "top": null,
            "grid_column": null,
            "overflow_y": null,
            "overflow_x": null,
            "grid_auto_flow": null,
            "grid_area": null,
            "grid_template_columns": null,
            "flex": null,
            "_model_name": "LayoutModel",
            "justify_items": null,
            "grid_row": null,
            "max_height": null,
            "align_content": null,
            "visibility": null,
            "align_self": null,
            "height": null,
            "min_height": null,
            "padding": null,
            "grid_auto_rows": null,
            "grid_gap": null,
            "max_width": null,
            "order": null,
            "_view_module_version": "1.2.0",
            "grid_template_areas": null,
            "object_position": null,
            "object_fit": null,
            "grid_auto_columns": null,
            "margin": null,
            "display": null,
            "left": null
          }
        }
      }
    }
  },
  "cells": [
    {
      "cell_type": "markdown",
      "metadata": {
        "id": "view-in-github",
        "colab_type": "text"
      },
      "source": [
        "<a href=\"https://colab.research.google.com/github/ashikshafi08/Recipe1M/blob/main/Learning_Transformers_with_TensorFlow.ipynb\" target=\"_parent\"><img src=\"https://colab.research.google.com/assets/colab-badge.svg\" alt=\"Open In Colab\"/></a>"
      ]
    },
    {
      "cell_type": "markdown",
      "metadata": {
        "id": "Q8Iku2AdY3ZM"
      },
      "source": [
        "# Learning Transformers with TensorFlow \n",
        "\n",
        "Here you can find all the theory and code for transformers. \n",
        "\n",
        "\n",
        "**What is transformer**\n",
        "\n",
        "A transformer model handles **variable-sized input using stacks of self-attention layers**.\n",
        "- Layer outputs can be calculated in parallel, instead of a series like an RNN. \n",
        "- Can learn long-range dependencies. \n",
        "- Attention mechanism has an infinite reference window \n",
        "\n",
        "\n",
        "## Input Embedding \n",
        "- Input into the word embedding layer that is the input should be in embedding format. \n",
        "- Next we will inject the Positional embeddings, because transformer doesnt have reccurence. The author in the paper used Sine and Cosine function to calculate this. \n",
        "    - For every odd time step create a vector using the cosine function. \n",
        "    - For every even time step create a vector using the sine funciton. \n",
        "    - Then add those vectors and we will get Positional Input Embeddings\n",
        "\n",
        "## Encoder Layer \n",
        "The encoder layer maps all the input sequence into a abstract continous representation that holds the learned info for entire sequence. \n",
        "\n",
        "It consists of two sub modules, \n",
        "- Multi - headed attention \n",
        "- Fully connected layer \n",
        "- Also it has residual connections and a Layer Normalization. \n",
        "\n",
        "### 1. Multi-Headed Attention \n",
        "They use a specific attention mechanism that is called self attention. \n",
        "\n",
        "**Self attention** -> helps in associating each individual word in the inputs to other words in a input. Helps to connect. \n",
        "\n",
        "To achieve self attention, \n",
        "- we connect the inputs into a three distinguished fully connected layers to create the query , key and value vectors. \n",
        "\n",
        "[Query, key and values](https://stats.stackexchange.com/questions/421935/what-exactly-are-keys-queries-and-values-in-attention-mechanisms)\n",
        "- Query and key form a dot product matrix multiplication to produce a score matrix. The score matrix produces how much focus should be put on each word. \n",
        "- Higher the score, the more the focus\n",
        "- The scores get scaled by dividing with the square root of the queries and the keys. This is for more stable gradients.\n",
        "- Then the scaled vector is passed into a softmax function to get the probs distribution, this will be our attention weights. \n",
        "- So then we multiply the attention weights with our values. The more prob distribution the model will consider it as important words. \n",
        "- Then we pass the output vector into a linear layer. \n",
        "\n",
        "> Before applying self attention we gotta make sure to split the query , key and value into N vectors, since its a multi-headed (more than 1). And each self attention process is called as a head and its concatenatd into a single vector and then passed into a Linear layer.\n",
        "\n",
        "So the multi-headed is a module in the transformer network that attends the input and produces an output vector with information on how each word should attend to all other words in a sequence. \n",
        "\n",
        "- Then a residual connection that gets connects with the multi-headed output and passed into a LayerNorm. \n",
        "- This is again passed into a Point wise Feed Forward network, followed by a LayerNorm layer. \n",
        "- Then again a residual connection is been made, where the input of the LayerNorm is passed to the input of the LayerNorm + Feed Forwards output. \n",
        "\n",
        "\n",
        "So this whole purpose of this Encoder layer is to make our inputs in a continous representation with a attention detail in it. \n",
        "\n",
        "This will make the decoder to focus on the appropriate words in the decoding process. \n",
        "\n",
        "> **Note**: We can stack the Encoder layer for N number of times, so at each time it will learn new attention detials. So it helps in predictions. \n",
        "\n",
        "## Decoder Layer\n",
        "The decoder job is to generate the text sequences. Like the encoder the decoder even has the sub layer, \n",
        "- 2 multi-headed attention layer \n",
        "- point wise fed forward \n",
        "- residual connections and LayerNorm after each sub layer. \n",
        "\n",
        "The decoder is autoregressive, where it takes the previous outputs as inputs and also the encoder outputs that contains the attention details as inputs. \n",
        "\n",
        "Decoder stops when it generates a end token as the output. \n",
        "\n",
        "- The input goes into a Embedding layer and Positional Embedding layer and gives out the Positional Embeddings. \n",
        "- Then the Positional Embedding is passed into the 1st Multi-head attention layer which computes the attention score for the decoder inputs. \n",
        "\n",
        "\n",
        "#### 1st Multi headed attention layer \n",
        "\n",
        "**Masking in the decoders multi-head attention**\n",
        "\n",
        "> **Note**: Since the decoder is auto-regressive and generates the sequence word by word, we need to condition the words from seeing the future tokens. It can have access to the previous tokens but not the upcoming one. \n",
        "\n",
        "> To prevent this we use something called a **Mask**, that provides us a with a look ahead mask. So we add the scaled scores and the look ahead mask, this will give us the Masked Scores. \n",
        "\n",
        "Mask is the same matrix same as the attention score. And it has negaitve inifinities, so when we take a softmax these -ve infinities will get zero out. So this means zero attention score for the future tokens. \n",
        "\n",
        "The output of the first multi-headed attention layer is a mask output vector, which has the information on how the model should attend on the decoders input. \n",
        "\n",
        "#### 2nd Multi headed attention layer \n",
        "Here we pass two inputs, \n",
        "- The output of the Encoder layer, only the queries and the keys.\n",
        "- Mask output vector of the 1st multi-headed layer, the values. \n",
        "\n",
        "This process matches the encoder inputs and the decoder inputs, so it will figure out which input to focus on. \n",
        "\n",
        "Likewise the output of the 2nd multi-headed layer passes into point-wise feed forward layer. \n",
        "\n",
        "Atlast the output from the point-wise feed forward is passed into a linear classifier layer. Where we specify the various number of classes we have, followed by a softmax layer nnd this will give us the probability distribution. Further computing the argmax we will get the predicted word. \n",
        "\n",
        "This goes on and on....\n",
        "\n",
        "\n",
        "\n",
        "\n"
      ]
    },
    {
      "cell_type": "code",
      "metadata": {
        "id": "7Hmvd7lDZNft",
        "colab": {
          "base_uri": "https://localhost:8080/"
        },
        "outputId": "e16e3cb6-6e49-4acc-8f1d-705bf520bf55"
      },
      "source": [
        "# Some downloads\n",
        "!pip install tensorflow_datasets\n",
        "!pip install -U tensorflow-text"
      ],
      "execution_count": 1,
      "outputs": [
        {
          "output_type": "stream",
          "name": "stdout",
          "text": [
            "Requirement already satisfied: tensorflow_datasets in /usr/local/lib/python3.7/dist-packages (4.0.1)\n",
            "Requirement already satisfied: tensorflow-metadata in /usr/local/lib/python3.7/dist-packages (from tensorflow_datasets) (1.2.0)\n",
            "Requirement already satisfied: importlib-resources in /usr/local/lib/python3.7/dist-packages (from tensorflow_datasets) (5.2.2)\n",
            "Requirement already satisfied: dm-tree in /usr/local/lib/python3.7/dist-packages (from tensorflow_datasets) (0.1.6)\n",
            "Requirement already satisfied: dill in /usr/local/lib/python3.7/dist-packages (from tensorflow_datasets) (0.3.4)\n",
            "Requirement already satisfied: six in /usr/local/lib/python3.7/dist-packages (from tensorflow_datasets) (1.15.0)\n",
            "Requirement already satisfied: numpy in /usr/local/lib/python3.7/dist-packages (from tensorflow_datasets) (1.19.5)\n",
            "Requirement already satisfied: promise in /usr/local/lib/python3.7/dist-packages (from tensorflow_datasets) (2.3)\n",
            "Requirement already satisfied: protobuf>=3.6.1 in /usr/local/lib/python3.7/dist-packages (from tensorflow_datasets) (3.17.3)\n",
            "Requirement already satisfied: tqdm in /usr/local/lib/python3.7/dist-packages (from tensorflow_datasets) (4.62.3)\n",
            "Requirement already satisfied: requests>=2.19.0 in /usr/local/lib/python3.7/dist-packages (from tensorflow_datasets) (2.23.0)\n",
            "Requirement already satisfied: absl-py in /usr/local/lib/python3.7/dist-packages (from tensorflow_datasets) (0.12.0)\n",
            "Requirement already satisfied: termcolor in /usr/local/lib/python3.7/dist-packages (from tensorflow_datasets) (1.1.0)\n",
            "Requirement already satisfied: attrs>=18.1.0 in /usr/local/lib/python3.7/dist-packages (from tensorflow_datasets) (21.2.0)\n",
            "Requirement already satisfied: future in /usr/local/lib/python3.7/dist-packages (from tensorflow_datasets) (0.16.0)\n",
            "Requirement already satisfied: urllib3!=1.25.0,!=1.25.1,<1.26,>=1.21.1 in /usr/local/lib/python3.7/dist-packages (from requests>=2.19.0->tensorflow_datasets) (1.24.3)\n",
            "Requirement already satisfied: certifi>=2017.4.17 in /usr/local/lib/python3.7/dist-packages (from requests>=2.19.0->tensorflow_datasets) (2021.5.30)\n",
            "Requirement already satisfied: idna<3,>=2.5 in /usr/local/lib/python3.7/dist-packages (from requests>=2.19.0->tensorflow_datasets) (2.10)\n",
            "Requirement already satisfied: chardet<4,>=3.0.2 in /usr/local/lib/python3.7/dist-packages (from requests>=2.19.0->tensorflow_datasets) (3.0.4)\n",
            "Requirement already satisfied: zipp>=3.1.0 in /usr/local/lib/python3.7/dist-packages (from importlib-resources->tensorflow_datasets) (3.5.0)\n",
            "Requirement already satisfied: googleapis-common-protos<2,>=1.52.0 in /usr/local/lib/python3.7/dist-packages (from tensorflow-metadata->tensorflow_datasets) (1.53.0)\n",
            "Collecting tensorflow-text\n",
            "  Downloading tensorflow_text-2.6.0-cp37-cp37m-manylinux1_x86_64.whl (4.4 MB)\n",
            "\u001b[K     |████████████████████████████████| 4.4 MB 7.7 MB/s \n",
            "\u001b[?25hRequirement already satisfied: tensorflow-hub>=0.8.0 in /usr/local/lib/python3.7/dist-packages (from tensorflow-text) (0.12.0)\n",
            "Requirement already satisfied: tensorflow<2.7,>=2.6.0 in /usr/local/lib/python3.7/dist-packages (from tensorflow-text) (2.6.0)\n",
            "Requirement already satisfied: termcolor~=1.1.0 in /usr/local/lib/python3.7/dist-packages (from tensorflow<2.7,>=2.6.0->tensorflow-text) (1.1.0)\n",
            "Requirement already satisfied: opt-einsum~=3.3.0 in /usr/local/lib/python3.7/dist-packages (from tensorflow<2.7,>=2.6.0->tensorflow-text) (3.3.0)\n",
            "Requirement already satisfied: keras~=2.6 in /usr/local/lib/python3.7/dist-packages (from tensorflow<2.7,>=2.6.0->tensorflow-text) (2.6.0)\n",
            "Requirement already satisfied: h5py~=3.1.0 in /usr/local/lib/python3.7/dist-packages (from tensorflow<2.7,>=2.6.0->tensorflow-text) (3.1.0)\n",
            "Requirement already satisfied: six~=1.15.0 in /usr/local/lib/python3.7/dist-packages (from tensorflow<2.7,>=2.6.0->tensorflow-text) (1.15.0)\n",
            "Requirement already satisfied: absl-py~=0.10 in /usr/local/lib/python3.7/dist-packages (from tensorflow<2.7,>=2.6.0->tensorflow-text) (0.12.0)\n",
            "Requirement already satisfied: astunparse~=1.6.3 in /usr/local/lib/python3.7/dist-packages (from tensorflow<2.7,>=2.6.0->tensorflow-text) (1.6.3)\n",
            "Requirement already satisfied: wrapt~=1.12.1 in /usr/local/lib/python3.7/dist-packages (from tensorflow<2.7,>=2.6.0->tensorflow-text) (1.12.1)\n",
            "Requirement already satisfied: google-pasta~=0.2 in /usr/local/lib/python3.7/dist-packages (from tensorflow<2.7,>=2.6.0->tensorflow-text) (0.2.0)\n",
            "Requirement already satisfied: tensorflow-estimator~=2.6 in /usr/local/lib/python3.7/dist-packages (from tensorflow<2.7,>=2.6.0->tensorflow-text) (2.6.0)\n",
            "Requirement already satisfied: grpcio<2.0,>=1.37.0 in /usr/local/lib/python3.7/dist-packages (from tensorflow<2.7,>=2.6.0->tensorflow-text) (1.40.0)\n",
            "Requirement already satisfied: keras-preprocessing~=1.1.2 in /usr/local/lib/python3.7/dist-packages (from tensorflow<2.7,>=2.6.0->tensorflow-text) (1.1.2)\n",
            "Requirement already satisfied: tensorboard~=2.6 in /usr/local/lib/python3.7/dist-packages (from tensorflow<2.7,>=2.6.0->tensorflow-text) (2.6.0)\n",
            "Requirement already satisfied: numpy~=1.19.2 in /usr/local/lib/python3.7/dist-packages (from tensorflow<2.7,>=2.6.0->tensorflow-text) (1.19.5)\n",
            "Requirement already satisfied: clang~=5.0 in /usr/local/lib/python3.7/dist-packages (from tensorflow<2.7,>=2.6.0->tensorflow-text) (5.0)\n",
            "Requirement already satisfied: gast==0.4.0 in /usr/local/lib/python3.7/dist-packages (from tensorflow<2.7,>=2.6.0->tensorflow-text) (0.4.0)\n",
            "Requirement already satisfied: wheel~=0.35 in /usr/local/lib/python3.7/dist-packages (from tensorflow<2.7,>=2.6.0->tensorflow-text) (0.37.0)\n",
            "Requirement already satisfied: flatbuffers~=1.12.0 in /usr/local/lib/python3.7/dist-packages (from tensorflow<2.7,>=2.6.0->tensorflow-text) (1.12)\n",
            "Requirement already satisfied: typing-extensions~=3.7.4 in /usr/local/lib/python3.7/dist-packages (from tensorflow<2.7,>=2.6.0->tensorflow-text) (3.7.4.3)\n",
            "Requirement already satisfied: protobuf>=3.9.2 in /usr/local/lib/python3.7/dist-packages (from tensorflow<2.7,>=2.6.0->tensorflow-text) (3.17.3)\n",
            "Requirement already satisfied: cached-property in /usr/local/lib/python3.7/dist-packages (from h5py~=3.1.0->tensorflow<2.7,>=2.6.0->tensorflow-text) (1.5.2)\n",
            "Requirement already satisfied: google-auth<2,>=1.6.3 in /usr/local/lib/python3.7/dist-packages (from tensorboard~=2.6->tensorflow<2.7,>=2.6.0->tensorflow-text) (1.35.0)\n",
            "Requirement already satisfied: requests<3,>=2.21.0 in /usr/local/lib/python3.7/dist-packages (from tensorboard~=2.6->tensorflow<2.7,>=2.6.0->tensorflow-text) (2.23.0)\n",
            "Requirement already satisfied: werkzeug>=0.11.15 in /usr/local/lib/python3.7/dist-packages (from tensorboard~=2.6->tensorflow<2.7,>=2.6.0->tensorflow-text) (1.0.1)\n",
            "Requirement already satisfied: tensorboard-plugin-wit>=1.6.0 in /usr/local/lib/python3.7/dist-packages (from tensorboard~=2.6->tensorflow<2.7,>=2.6.0->tensorflow-text) (1.8.0)\n",
            "Requirement already satisfied: setuptools>=41.0.0 in /usr/local/lib/python3.7/dist-packages (from tensorboard~=2.6->tensorflow<2.7,>=2.6.0->tensorflow-text) (57.4.0)\n",
            "Requirement already satisfied: tensorboard-data-server<0.7.0,>=0.6.0 in /usr/local/lib/python3.7/dist-packages (from tensorboard~=2.6->tensorflow<2.7,>=2.6.0->tensorflow-text) (0.6.1)\n",
            "Requirement already satisfied: markdown>=2.6.8 in /usr/local/lib/python3.7/dist-packages (from tensorboard~=2.6->tensorflow<2.7,>=2.6.0->tensorflow-text) (3.3.4)\n",
            "Requirement already satisfied: google-auth-oauthlib<0.5,>=0.4.1 in /usr/local/lib/python3.7/dist-packages (from tensorboard~=2.6->tensorflow<2.7,>=2.6.0->tensorflow-text) (0.4.6)\n",
            "Requirement already satisfied: rsa<5,>=3.1.4 in /usr/local/lib/python3.7/dist-packages (from google-auth<2,>=1.6.3->tensorboard~=2.6->tensorflow<2.7,>=2.6.0->tensorflow-text) (4.7.2)\n",
            "Requirement already satisfied: pyasn1-modules>=0.2.1 in /usr/local/lib/python3.7/dist-packages (from google-auth<2,>=1.6.3->tensorboard~=2.6->tensorflow<2.7,>=2.6.0->tensorflow-text) (0.2.8)\n",
            "Requirement already satisfied: cachetools<5.0,>=2.0.0 in /usr/local/lib/python3.7/dist-packages (from google-auth<2,>=1.6.3->tensorboard~=2.6->tensorflow<2.7,>=2.6.0->tensorflow-text) (4.2.2)\n",
            "Requirement already satisfied: requests-oauthlib>=0.7.0 in /usr/local/lib/python3.7/dist-packages (from google-auth-oauthlib<0.5,>=0.4.1->tensorboard~=2.6->tensorflow<2.7,>=2.6.0->tensorflow-text) (1.3.0)\n",
            "Requirement already satisfied: importlib-metadata in /usr/local/lib/python3.7/dist-packages (from markdown>=2.6.8->tensorboard~=2.6->tensorflow<2.7,>=2.6.0->tensorflow-text) (4.8.1)\n",
            "Requirement already satisfied: pyasn1<0.5.0,>=0.4.6 in /usr/local/lib/python3.7/dist-packages (from pyasn1-modules>=0.2.1->google-auth<2,>=1.6.3->tensorboard~=2.6->tensorflow<2.7,>=2.6.0->tensorflow-text) (0.4.8)\n",
            "Requirement already satisfied: certifi>=2017.4.17 in /usr/local/lib/python3.7/dist-packages (from requests<3,>=2.21.0->tensorboard~=2.6->tensorflow<2.7,>=2.6.0->tensorflow-text) (2021.5.30)\n",
            "Requirement already satisfied: chardet<4,>=3.0.2 in /usr/local/lib/python3.7/dist-packages (from requests<3,>=2.21.0->tensorboard~=2.6->tensorflow<2.7,>=2.6.0->tensorflow-text) (3.0.4)\n",
            "Requirement already satisfied: urllib3!=1.25.0,!=1.25.1,<1.26,>=1.21.1 in /usr/local/lib/python3.7/dist-packages (from requests<3,>=2.21.0->tensorboard~=2.6->tensorflow<2.7,>=2.6.0->tensorflow-text) (1.24.3)\n",
            "Requirement already satisfied: idna<3,>=2.5 in /usr/local/lib/python3.7/dist-packages (from requests<3,>=2.21.0->tensorboard~=2.6->tensorflow<2.7,>=2.6.0->tensorflow-text) (2.10)\n",
            "Requirement already satisfied: oauthlib>=3.0.0 in /usr/local/lib/python3.7/dist-packages (from requests-oauthlib>=0.7.0->google-auth-oauthlib<0.5,>=0.4.1->tensorboard~=2.6->tensorflow<2.7,>=2.6.0->tensorflow-text) (3.1.1)\n",
            "Requirement already satisfied: zipp>=0.5 in /usr/local/lib/python3.7/dist-packages (from importlib-metadata->markdown>=2.6.8->tensorboard~=2.6->tensorflow<2.7,>=2.6.0->tensorflow-text) (3.5.0)\n",
            "Installing collected packages: tensorflow-text\n",
            "Successfully installed tensorflow-text-2.6.0\n"
          ]
        }
      ]
    },
    {
      "cell_type": "code",
      "metadata": {
        "id": "mkL1Vx3nZgcn"
      },
      "source": [
        "# Imports \n",
        "\n",
        "import collections\n",
        "import logging\n",
        "import os\n",
        "import pathlib\n",
        "import re\n",
        "import string\n",
        "import sys\n",
        "import time\n",
        "\n",
        "import numpy as np\n",
        "import matplotlib.pyplot as plt\n",
        "\n",
        "import tensorflow_datasets as tfds\n",
        "import tensorflow_text as text\n",
        "import tensorflow as tf\n",
        "\n",
        "\n",
        "logging.getLogger('tensorflow').setLevel(logging.ERROR)  # suppress warnings"
      ],
      "execution_count": 2,
      "outputs": []
    },
    {
      "cell_type": "markdown",
      "metadata": {
        "id": "t5WBC-eQaF3j"
      },
      "source": [
        "### Downloading the datasets \n",
        "\n",
        "Testing the transformer on Portuguese-English translation dataset. This dataset contains approx 50000 training examples, 1100 validation examples and 2000 test examples. \n",
        "\n"
      ]
    },
    {
      "cell_type": "code",
      "metadata": {
        "colab": {
          "base_uri": "https://localhost:8080/",
          "height": 365,
          "referenced_widgets": [
            "eda26d17770f4cd9a91fd2007c98e1e7",
            "96dfa624932142a6aa5784bb4a1fb9df",
            "5af24dc5307f46c5939c346798e7ee46",
            "3924cfc048bd448ba8498d27e7af0da0",
            "55bebb696bbf46979fdcf216618b68a7",
            "cfd256a211e5429ea2f387e04363caba",
            "d5e28ef8f0ff4c1eabbf93b88ce78721",
            "1d5cbd787d59448d94934271e92ec854",
            "64845adad529443f9885e2abdb7809d6",
            "7f9ec4b7c6a9452e915b0c5e119d23eb",
            "2798c58d7bd54c3bb5864a9a9f67bc36",
            "c94227da108f4a29ab4359ef50e4d875",
            "2dfff98f32bd46c5824a3a8a59258606",
            "6d14f3a421624fcd96a301c87cd4c5fd",
            "b9f4f92938b5488a911b288f34cbcd23",
            "349ae3d9899d43e88d04f1f07cea88cd",
            "34bbb36efcf54a4288b1b780c7d3c507",
            "1cbfecffff1c42948ee5dd47f7b2cd2f",
            "52373b8327e448489b54cdb165cfb51e",
            "aaf4eb32161c4e06b723749f6d986cb1",
            "62a0f8a136a94c58b6f2903a00d71018",
            "9b68a42f420344cb83ed2a1943863a72",
            "ee175bcba7cd4d899e414168809e979a",
            "21024b8fe6c34b16bb6189ed8d3a1d7c",
            "70fe3cda27db4c248bc06da4ef08d8cd",
            "cf0f0fc1f8804efea50fb3a793c328dd",
            "71dbd7b8d9ad42579ca23343493f4e21",
            "a9cc4db140f444bd98b03608e3bb7be6",
            "45c8bea57013410fbf3c3e4c67bf5931",
            "0441539c346643d9bee2665c05a08b43",
            "41f11d34e8774ab9ab002b8df6e2415e",
            "b9d15fba74cc4de4af687a436c30faf5",
            "794e6966d05a4a61a671947a7f45f518",
            "9bee459ff4664bdf93b66f28434774fc",
            "4cfa6b09363a46f98cede5e06033248d",
            "d8f42b0db8f1471f9779af8eebb8ae79",
            "d55f16bc290d4884a9b74ff67961fc18",
            "92557f5843dc41849a90e4d7652df829",
            "8eb873111e3b4ea29511707b6ce139cc",
            "eae1580eed4a4cc2afcc94b9b54fa96c",
            "6846a382ffbe4bd1bd7ba94456b0f5ed",
            "c28b24dda1a74cdc882ea2dca5b29e20",
            "305e5b9c0a0e48c59b9203d08e5353f1",
            "4daa4bcfbf214011a319a7fdd10a801b",
            "19c5de4138fe49bfa3b0bfb7f55f1296",
            "98c58a728aab44ba91103f1764f14566",
            "1ce4b97a0ec6427fa12d3f6898113779",
            "7099fd7399d842f1a75e91c1bdeebcc8",
            "ebe9279aaf104ca48d68650d8a26a4a3",
            "22e490a66bc14bae8d1d5f04eb2ba44a",
            "741311700378485586480e558cd935f3",
            "942a2fce3f3e498cba03c8bd5c81441e",
            "e2f05a1b856944d284b40cd241860fe6",
            "9aa3ef0a2e414f1ab1dcb4d6cb8b33db",
            "596b166dc2084cdb892a7165175f4fbe",
            "d7f5d0e685e24206b2ff8d00ce2fd456",
            "ac4eb323e1db41deb30432b07bd21645",
            "37179cb9b7604f4cb8bbafeeb2d68c67",
            "b9d3c0e73dd14542bf2847d888ad1816",
            "0b8db497dca247598e75aee3dab08657",
            "82485b326bb14602b5d4d9194bb929f0",
            "09ef81718b9a4007857a856b9ac142da",
            "729678990890407b9ed052613289985f",
            "a26f31b8c06e470bacd96e3d6cfdcb6c",
            "8166f25a95a04f87a2679ca3ecf6ead1",
            "35e0316f455e4ec69be510c8a2bd5eb5",
            "74bfdc71431f4f2ea7a35c2f50b08cf7",
            "664eb6e13d15463cb0129a74eb74e2de",
            "99342eb92dd94575a5c9d24b687935a3",
            "ff13b312837e495ebef7cc74ac98189a",
            "c22e88b50b334a878d352c578d7b9552",
            "3c977f14704f480bac580c9e480522a0",
            "d5805e0a67804a70bb3223ac598f0dc3",
            "cea03cf9fcac43629993d035ea0b85d5",
            "565d51043a6f4d4bbf3a0f7f06e89184",
            "1df27e5920114524949fb684666c7990",
            "300b5c7a723245b192546046b7ac478f",
            "f035ecac315b40b2a3f6c037e6199a9f",
            "58c621a0df8c4ecf92d3397023860f61",
            "d9695edfc1174f23bd52cf6e6b5ddb46",
            "1d1b02bab62248df85eb503583a33787",
            "50be6a0b36534a86aeef897f485b0ba6",
            "d603b8ceb1a6461c936585f49f019b21",
            "e19b6787d6074f98af3040a0efe4df3b",
            "cc8b8537398248d3be4de2754893167f",
            "92be0c3dddb14b4aaadc1cdb10f7f730",
            "a8ebbb1d908144cb87c2c46415e52095",
            "90343eb2d591475e998ff0533cab9372",
            "69e8ff9013b248c6bd1ac837fd5d3454",
            "e3c00f9594724d7b838db7684d5e6d0f",
            "769fcc6c081f4869a0f9d8230820cef3",
            "e636ba2dafac4a4ca0c972444f5788d3",
            "507f28f200bd4b878bf5c244b2d2b50b",
            "b9857779b4214a278b0b4557aa97614d",
            "0f1ad7c5def746f5a79949bd90f60ac9",
            "84ef96894a2d4aca95f9896521a21729",
            "8bab88e9cbeb406f85ded27592ac9f64",
            "1dd163e7811345769b9cdd83fb202240",
            "56bc0a408ff4426b9613c16f0b84c95b"
          ]
        },
        "id": "JjXpo1BoatsQ",
        "outputId": "97d5d732-d741-46d5-ad75-36592bd45f2b"
      },
      "source": [
        "examples, metadata = tfds.load('ted_hrlr_translate/pt_to_en', with_info=True,\n",
        "                               as_supervised=True)\n",
        "train_examples, val_examples = examples['train'], examples['validation']"
      ],
      "execution_count": 3,
      "outputs": [
        {
          "output_type": "stream",
          "name": "stdout",
          "text": [
            "\u001b[1mDownloading and preparing dataset ted_hrlr_translate/pt_to_en/1.0.0 (download: 124.94 MiB, generated: Unknown size, total: 124.94 MiB) to /root/tensorflow_datasets/ted_hrlr_translate/pt_to_en/1.0.0...\u001b[0m\n"
          ]
        },
        {
          "output_type": "display_data",
          "data": {
            "application/vnd.jupyter.widget-view+json": {
              "model_id": "eda26d17770f4cd9a91fd2007c98e1e7",
              "version_minor": 0,
              "version_major": 2
            },
            "text/plain": [
              "Dl Completed...: 0 url [00:00, ? url/s]"
            ]
          },
          "metadata": {}
        },
        {
          "output_type": "display_data",
          "data": {
            "application/vnd.jupyter.widget-view+json": {
              "model_id": "c94227da108f4a29ab4359ef50e4d875",
              "version_minor": 0,
              "version_major": 2
            },
            "text/plain": [
              "Dl Size...: 0 MiB [00:00, ? MiB/s]"
            ]
          },
          "metadata": {}
        },
        {
          "output_type": "display_data",
          "data": {
            "application/vnd.jupyter.widget-view+json": {
              "model_id": "ee175bcba7cd4d899e414168809e979a",
              "version_minor": 0,
              "version_major": 2
            },
            "text/plain": [
              "Extraction completed...: 0 file [00:00, ? file/s]"
            ]
          },
          "metadata": {}
        },
        {
          "output_type": "stream",
          "name": "stdout",
          "text": [
            "\n",
            "\n",
            "\n"
          ]
        },
        {
          "output_type": "display_data",
          "data": {
            "application/vnd.jupyter.widget-view+json": {
              "model_id": "9bee459ff4664bdf93b66f28434774fc",
              "version_minor": 0,
              "version_major": 2
            },
            "text/plain": [
              "0 examples [00:00, ? examples/s]"
            ]
          },
          "metadata": {}
        },
        {
          "output_type": "stream",
          "name": "stdout",
          "text": [
            "Shuffling and writing examples to /root/tensorflow_datasets/ted_hrlr_translate/pt_to_en/1.0.0.incomplete1HGS10/ted_hrlr_translate-train.tfrecord\n"
          ]
        },
        {
          "output_type": "display_data",
          "data": {
            "application/vnd.jupyter.widget-view+json": {
              "model_id": "19c5de4138fe49bfa3b0bfb7f55f1296",
              "version_minor": 0,
              "version_major": 2
            },
            "text/plain": [
              "  0%|          | 0/51785 [00:00<?, ? examples/s]"
            ]
          },
          "metadata": {}
        },
        {
          "output_type": "display_data",
          "data": {
            "application/vnd.jupyter.widget-view+json": {
              "model_id": "d7f5d0e685e24206b2ff8d00ce2fd456",
              "version_minor": 0,
              "version_major": 2
            },
            "text/plain": [
              "0 examples [00:00, ? examples/s]"
            ]
          },
          "metadata": {}
        },
        {
          "output_type": "stream",
          "name": "stdout",
          "text": [
            "Shuffling and writing examples to /root/tensorflow_datasets/ted_hrlr_translate/pt_to_en/1.0.0.incomplete1HGS10/ted_hrlr_translate-validation.tfrecord\n"
          ]
        },
        {
          "output_type": "display_data",
          "data": {
            "application/vnd.jupyter.widget-view+json": {
              "model_id": "74bfdc71431f4f2ea7a35c2f50b08cf7",
              "version_minor": 0,
              "version_major": 2
            },
            "text/plain": [
              "  0%|          | 0/1193 [00:00<?, ? examples/s]"
            ]
          },
          "metadata": {}
        },
        {
          "output_type": "display_data",
          "data": {
            "application/vnd.jupyter.widget-view+json": {
              "model_id": "f035ecac315b40b2a3f6c037e6199a9f",
              "version_minor": 0,
              "version_major": 2
            },
            "text/plain": [
              "0 examples [00:00, ? examples/s]"
            ]
          },
          "metadata": {}
        },
        {
          "output_type": "stream",
          "name": "stdout",
          "text": [
            "Shuffling and writing examples to /root/tensorflow_datasets/ted_hrlr_translate/pt_to_en/1.0.0.incomplete1HGS10/ted_hrlr_translate-test.tfrecord\n"
          ]
        },
        {
          "output_type": "display_data",
          "data": {
            "application/vnd.jupyter.widget-view+json": {
              "model_id": "69e8ff9013b248c6bd1ac837fd5d3454",
              "version_minor": 0,
              "version_major": 2
            },
            "text/plain": [
              "  0%|          | 0/1803 [00:00<?, ? examples/s]"
            ]
          },
          "metadata": {}
        },
        {
          "output_type": "stream",
          "name": "stdout",
          "text": [
            "\u001b[1mDataset ted_hrlr_translate downloaded and prepared to /root/tensorflow_datasets/ted_hrlr_translate/pt_to_en/1.0.0. Subsequent calls will reuse this data.\u001b[0m\n"
          ]
        }
      ]
    },
    {
      "cell_type": "code",
      "metadata": {
        "colab": {
          "base_uri": "https://localhost:8080/"
        },
        "id": "0035oMGwa8Zr",
        "outputId": "3898c652-f711-4084-a056-3f9bb0ae98f1"
      },
      "source": [
        "# Looking into the text examples \n",
        "for pt_examples, en_examples in train_examples.batch(3).take(1):\n",
        "  for pt in pt_examples.numpy():\n",
        "    print(pt.decode('utf-8'))\n",
        "\n",
        "  print()\n",
        "\n",
        "  for en in en_examples.numpy():\n",
        "    print(en.decode('utf-8'))"
      ],
      "execution_count": 4,
      "outputs": [
        {
          "output_type": "stream",
          "name": "stdout",
          "text": [
            "e quando melhoramos a procura , tiramos a única vantagem da impressão , que é a serendipidade .\n",
            "mas e se estes fatores fossem ativos ?\n",
            "mas eles não tinham a curiosidade de me testar .\n",
            "\n",
            "and when you improve searchability , you actually take away the one advantage of print , which is serendipity .\n",
            "but what if it were active ?\n",
            "but they did n't test for curiosity .\n"
          ]
        }
      ]
    },
    {
      "cell_type": "markdown",
      "metadata": {
        "id": "pJn3qL2obEWm"
      },
      "source": [
        "### Text tokenization & detokenizatiion \n",
        "\n",
        "Here we will convert the text to some numeric representation, so now we will convert the text to sequences of token IDs, which are used as indices into an embedding. \n",
        "\n",
        "Downloading a saved model \n"
      ]
    },
    {
      "cell_type": "code",
      "metadata": {
        "colab": {
          "base_uri": "https://localhost:8080/",
          "height": 86
        },
        "id": "LWB6xRhKbpjy",
        "outputId": "1cfa7de5-ca87-49ce-a2d5-c434e9b98421"
      },
      "source": [
        "model_name = \"ted_hrlr_translate_pt_en_converter\"\n",
        "tf.keras.utils.get_file(\n",
        "    f\"{model_name}.zip\",\n",
        "    f\"https://storage.googleapis.com/download.tensorflow.org/models/{model_name}.zip\",\n",
        "    cache_dir='.', cache_subdir='', extract=True\n",
        ")"
      ],
      "execution_count": 5,
      "outputs": [
        {
          "output_type": "stream",
          "name": "stdout",
          "text": [
            "Downloading data from https://storage.googleapis.com/download.tensorflow.org/models/ted_hrlr_translate_pt_en_converter.zip\n",
            "188416/184801 [==============================] - 0s 1us/step\n",
            "196608/184801 [===============================] - 0s 1us/step\n"
          ]
        },
        {
          "output_type": "execute_result",
          "data": {
            "application/vnd.google.colaboratory.intrinsic+json": {
              "type": "string"
            },
            "text/plain": [
              "'./ted_hrlr_translate_pt_en_converter.zip'"
            ]
          },
          "metadata": {},
          "execution_count": 5
        }
      ]
    },
    {
      "cell_type": "code",
      "metadata": {
        "id": "hgJq_kKwbqAL"
      },
      "source": [
        "# Loading the saved model \n",
        "tokenizers = tf.saved_model.load(model_name)\n"
      ],
      "execution_count": 6,
      "outputs": []
    },
    {
      "cell_type": "markdown",
      "metadata": {
        "id": "jv6prt2Mb0i7"
      },
      "source": [
        "The tokenizes contains two text tokenizers, one for english and one for portuguese. "
      ]
    },
    {
      "cell_type": "code",
      "metadata": {
        "colab": {
          "base_uri": "https://localhost:8080/"
        },
        "id": "Uk5Fj7I3b6pC",
        "outputId": "c87eb394-a88c-49c5-ee8b-29edfbccf990"
      },
      "source": [
        "print([item for item in dir(tokenizers) if not item.startswith('_')])\n",
        "print([item for item in dir(tokenizers.en) if not item.startswith('_')])\n",
        "print([item for item in dir(tokenizers.pt) if not item.startswith('_')])"
      ],
      "execution_count": 7,
      "outputs": [
        {
          "output_type": "stream",
          "name": "stdout",
          "text": [
            "['en', 'graph_debug_info', 'pt', 'signatures', 'tensorflow_git_version', 'tensorflow_version']\n",
            "['detokenize', 'get_reserved_tokens', 'get_vocab_path', 'get_vocab_size', 'lookup', 'tokenize', 'tokenizer', 'vocab']\n",
            "['detokenize', 'get_reserved_tokens', 'get_vocab_path', 'get_vocab_size', 'lookup', 'tokenize', 'tokenizer', 'vocab']\n"
          ]
        }
      ]
    },
    {
      "cell_type": "markdown",
      "metadata": {
        "id": "2PHN8NJacB2h"
      },
      "source": [
        "- The `tokenize` method converts a batch of strings to a padded-batch of token IDs. \n",
        "- This method also splits punctuations, lowercases and unicode-normalizes the input before tokenizing. "
      ]
    },
    {
      "cell_type": "code",
      "metadata": {
        "colab": {
          "base_uri": "https://localhost:8080/"
        },
        "id": "LKai3rCvcrw3",
        "outputId": "cec0d489-1413-469a-f28d-cf805473868c"
      },
      "source": [
        "# Printing out the english exampels \n",
        "for en in en_examples.numpy():\n",
        "  print(en.decode('utf-8'))"
      ],
      "execution_count": 8,
      "outputs": [
        {
          "output_type": "stream",
          "name": "stdout",
          "text": [
            "and when you improve searchability , you actually take away the one advantage of print , which is serendipity .\n",
            "but what if it were active ?\n",
            "but they did n't test for curiosity .\n"
          ]
        }
      ]
    },
    {
      "cell_type": "markdown",
      "metadata": {
        "id": "vLf-YEuBcycL"
      },
      "source": [
        "The `detokenize` method attempts to convert these token IDs back to human readable text"
      ]
    },
    {
      "cell_type": "code",
      "metadata": {
        "colab": {
          "base_uri": "https://localhost:8080/"
        },
        "id": "-ruI56X5eKDA",
        "outputId": "ae7c11a9-b958-4cc0-afc9-5dc34d311dcc"
      },
      "source": [
        "# Tokenizing a text \n",
        "encoded = tokenizers.en.tokenize(en_examples)\n",
        "\n",
        "for row in encoded.to_list():\n",
        "  print(row)\n"
      ],
      "execution_count": 9,
      "outputs": [
        {
          "output_type": "stream",
          "name": "stdout",
          "text": [
            "[2, 72, 117, 79, 1259, 1491, 2362, 13, 79, 150, 184, 311, 71, 103, 2308, 74, 2679, 13, 148, 80, 55, 4840, 1434, 2423, 540, 15, 3]\n",
            "[2, 87, 90, 107, 76, 129, 1852, 30, 3]\n",
            "[2, 87, 83, 149, 50, 9, 56, 664, 85, 2512, 15, 3]\n"
          ]
        }
      ]
    },
    {
      "cell_type": "code",
      "metadata": {
        "colab": {
          "base_uri": "https://localhost:8080/"
        },
        "id": "P2FmD0CIeUQS",
        "outputId": "6e963d6b-0a2f-45fe-bd3a-c29823baf7f8"
      },
      "source": [
        "# Detokenizing a text \n",
        "round_trip = tokenizers.en.detokenize(encoded)\n",
        "\n",
        "for line in round_trip.numpy():\n",
        "  print(line.decode('utf-8'))"
      ],
      "execution_count": 10,
      "outputs": [
        {
          "output_type": "stream",
          "name": "stdout",
          "text": [
            "and when you improve searchability , you actually take away the one advantage of print , which is serendipity .\n",
            "but what if it were active ?\n",
            "but they did n ' t test for curiosity .\n"
          ]
        }
      ]
    },
    {
      "cell_type": "markdown",
      "metadata": {
        "id": "VsDx8NYWer4D"
      },
      "source": [
        "Lookup method converts from token-IDs to token text"
      ]
    },
    {
      "cell_type": "code",
      "metadata": {
        "colab": {
          "base_uri": "https://localhost:8080/"
        },
        "id": "VlnvaOdHezjM",
        "outputId": "49f73d1f-0cbd-4181-bccd-a6108a3b4033"
      },
      "source": [
        "tokens = tokenizers.en.lookup(encoded)\n",
        "tokens"
      ],
      "execution_count": 11,
      "outputs": [
        {
          "output_type": "execute_result",
          "data": {
            "text/plain": [
              "<tf.RaggedTensor [[b'[START]', b'and', b'when', b'you', b'improve', b'search', b'##ability', b',', b'you', b'actually', b'take', b'away', b'the', b'one', b'advantage', b'of', b'print', b',', b'which', b'is', b's', b'##ere', b'##nd', b'##ip', b'##ity', b'.', b'[END]'], [b'[START]', b'but', b'what', b'if', b'it', b'were', b'active', b'?', b'[END]'], [b'[START]', b'but', b'they', b'did', b'n', b\"'\", b't', b'test', b'for', b'curiosity', b'.', b'[END]']]>"
            ]
          },
          "metadata": {},
          "execution_count": 11
        }
      ]
    },
    {
      "cell_type": "markdown",
      "metadata": {
        "id": "Qupf-t4re4Za"
      },
      "source": [
        "## Setup input pipeline \n",
        "\n",
        "Gotta apply some transformations in order to make the data suitable for Input pipeline. \n",
        "\n"
      ]
    },
    {
      "cell_type": "code",
      "metadata": {
        "id": "WFXBDcgCeoWG"
      },
      "source": [
        "# Preprocessing function and we can use while making the dataset\n",
        "def tokenize_pairs(pt , en):\n",
        "  '''\n",
        "  pt -> portugese text\n",
        "  en -> english text\n",
        "  '''\n",
        "\n",
        "  pt = tokenizers.pt.tokenize(pt)\n",
        "\n",
        "  # Converting the ragged tensors to dense by padding with zero \n",
        "  pt = pt.to_tensor()\n",
        "  return pt , en"
      ],
      "execution_count": 12,
      "outputs": []
    },
    {
      "cell_type": "code",
      "metadata": {
        "id": "N7JVsfhOe44v"
      },
      "source": [
        "# Hyper parameters for batching and shuffling \n",
        "BUFFER_SIZE = 20000\n",
        "BATCH_SIZE = 64 \n",
        "\n",
        "# Function to apply the dataset transforms \n",
        "def make_batches(ds):\n",
        "  return(\n",
        "      ds\n",
        "      .cache()\n",
        "      .shuffle(BUFFER_SIZE)\n",
        "      .batch(BATCH_SIZE)\n",
        "      .map(tokenize_pairs , num_parallel_calls = tf.data.AUTOTUNE)\n",
        "      .prefetch(tf.data.AUTOTUNE)\n",
        "  )\n",
        "\n",
        "\n"
      ],
      "execution_count": 13,
      "outputs": []
    },
    {
      "cell_type": "code",
      "metadata": {
        "colab": {
          "base_uri": "https://localhost:8080/"
        },
        "id": "tQF_XOFne5Qn",
        "outputId": "9bc4d029-5c1a-46a4-85e0-a07d8bbb2bd1"
      },
      "source": [
        "# Applying the transforms on our datasets \n",
        "train_batches = make_batches(train_examples)\n",
        "val_batches = make_batches(val_examples)\n",
        "\n",
        "train_batches , val_batches\n"
      ],
      "execution_count": 14,
      "outputs": [
        {
          "output_type": "execute_result",
          "data": {
            "text/plain": [
              "(<PrefetchDataset shapes: ((None, None), (None,)), types: (tf.int64, tf.string)>,\n",
              " <PrefetchDataset shapes: ((None, None), (None,)), types: (tf.int64, tf.string)>)"
            ]
          },
          "metadata": {},
          "execution_count": 14
        }
      ]
    },
    {
      "cell_type": "markdown",
      "metadata": {
        "id": "Eq2KRMStgbiI"
      },
      "source": [
        "### **Positional Encoding** \n",
        "\n",
        "- Attention layers see the input as a set of vectors with no sequential order. \n",
        "- Like we know the transformers doesnt contain any recurrent or convolutional layers, so this means no reccurence available in the transformers. \n",
        "\n",
        "Thats why we need the help of a **positional encoding** and its added to give the mdoel some information about the relatives position of the tokens in the sentence. It kinda filss up the void of reccurence. \n",
        "\n",
        "- The positional encoding vector is added to a embedding vector. \n",
        "- Since the embedding is a vector and after adding the **positional encoding the tokens will be closer to each  other bases on the similarity of their meaning and their position in the sentence, in the d-dimensional space**. \n",
        "\n",
        "\n",
        "So we use two formula's for calculating the positional encoding, \n",
        "- Cosine function : For every odd time step create a vector using the cosine function.\n",
        "- Sine function : For every even time step create a vector using the sine funciton. \n",
        "- Then add those vectors and we will get Positional Input Embeddings\n"
      ]
    },
    {
      "cell_type": "code",
      "metadata": {
        "id": "S0lFEm2eimTn"
      },
      "source": [
        "# Getting the angles \n",
        "\n",
        "def get_angles(pos , i , d_model):\n",
        "  angle_rates = 1 / np.power(1000 , (2 * (i // 2))) / np.float32(d_model) # 1 / 1000 (to the power 2i / d_model)\n",
        "  return pos * angle_rates  # here we multiply by pos to make it complete \n",
        "\n",
        "# Defining thhe whole positional encoding \n",
        "def positional_encoding(position , d_model):\n",
        "  angle_rads = get_angles(pos = np.arange(position)[: , np.newaxis] , \n",
        "                          i = np.arange(d_model)[np.newaxis, :], \n",
        "                          d_model = d_model)\n",
        "  \n",
        "  # Apply sine function to even indices in the array, 2i \n",
        "  angle_rads[: , 0::2] = np.sin(angle_rads[: , 0::2])\n",
        "  \n",
        "  # Apply cos to odd indices in the array, 2i+1 \n",
        "  angle_rads[: , 1::2] = np.cos(angle_rads[: , 1::2])\n",
        "\n",
        "  # Into one dedicated variable \n",
        "  pos_encoding = angle_rads[np.newaxis , ...]\n",
        "  \n",
        "  return tf.cast(pos_encoding , dtype = tf.float32)\n",
        "\n",
        "\n",
        "                 "
      ],
      "execution_count": 15,
      "outputs": []
    },
    {
      "cell_type": "code",
      "metadata": {
        "colab": {
          "base_uri": "https://localhost:8080/"
        },
        "id": "NZUVaCf8mHfi",
        "outputId": "e902d566-26fb-4aa5-bce5-126bc5b71a1d"
      },
      "source": [
        "# Using the above function \n",
        "n , d = 2048 , 512 # position and dimension \n",
        "\n",
        "# Passing the arguments to our model \n",
        "pos_encoding  = positional_encoding(n , d)\n",
        "pos_encoding = pos_encoding[0]\n",
        "print(pos_encoding)\n"
      ],
      "execution_count": 16,
      "outputs": [
        {
          "output_type": "stream",
          "name": "stdout",
          "text": [
            "tf.Tensor(\n",
            "[[ 0.0000000e+00  1.0000000e+00  0.0000000e+00 ...            nan\n",
            "             nan            nan]\n",
            " [ 1.9531237e-03  9.9999809e-01  1.9531250e-09 ...            nan\n",
            "             nan            nan]\n",
            " [ 3.9062400e-03  9.9999237e-01  3.9062500e-09 ...            nan\n",
            "             nan            nan]\n",
            " ...\n",
            " [-7.5295961e-01 -6.5806675e-01  3.9941406e-06 ...            nan\n",
            "             nan            nan]\n",
            " [-7.5424343e-01 -6.5659487e-01  3.9960937e-06 ...            nan\n",
            "             nan            nan]\n",
            " [-7.5552440e-01 -6.5512049e-01  3.9980469e-06 ...            nan\n",
            "             nan            nan]], shape=(2048, 512), dtype=float32)\n"
          ]
        },
        {
          "output_type": "stream",
          "name": "stderr",
          "text": [
            "/usr/local/lib/python3.7/dist-packages/ipykernel_launcher.py:4: RuntimeWarning: divide by zero encountered in true_divide\n",
            "  after removing the cwd from sys.path.\n",
            "/usr/local/lib/python3.7/dist-packages/ipykernel_launcher.py:5: RuntimeWarning: invalid value encountered in multiply\n",
            "  \"\"\"\n",
            "/usr/local/lib/python3.7/dist-packages/ipykernel_launcher.py:14: RuntimeWarning: invalid value encountered in sin\n",
            "  \n",
            "/usr/local/lib/python3.7/dist-packages/ipykernel_launcher.py:17: RuntimeWarning: invalid value encountered in cos\n"
          ]
        }
      ]
    },
    {
      "cell_type": "code",
      "metadata": {
        "colab": {
          "base_uri": "https://localhost:8080/"
        },
        "id": "BdAQRIcPpqN-",
        "outputId": "74418fda-bd9d-4d62-dbe6-81652ae4086f"
      },
      "source": [
        "pos_encoding[0]"
      ],
      "execution_count": 17,
      "outputs": [
        {
          "output_type": "execute_result",
          "data": {
            "text/plain": [
              "<tf.Tensor: shape=(512,), dtype=float32, numpy=\n",
              "array([ 0.,  1.,  0.,  1.,  0.,  1.,  0.,  1.,  0.,  1.,  0.,  1., -0.,\n",
              "        1., -0.,  1.,  0.,  1., -0.,  1.,  0.,  1., nan, nan, nan, nan,\n",
              "       nan, nan, nan, nan, nan, nan, nan, nan, nan, nan, nan, nan, nan,\n",
              "       nan, nan, nan, nan, nan, nan, nan, nan, nan, nan, nan, nan, nan,\n",
              "       nan, nan, nan, nan, nan, nan, nan, nan, nan, nan, nan, nan, nan,\n",
              "       nan, nan, nan, nan, nan, nan, nan, nan, nan, nan, nan, nan, nan,\n",
              "       nan, nan, nan, nan, nan, nan, nan, nan, nan, nan, nan, nan, nan,\n",
              "       nan, nan, nan, nan, nan, nan, nan, nan, nan, nan, nan, nan, nan,\n",
              "       nan, nan, nan, nan, nan, nan, nan, nan, nan, nan, nan, nan, nan,\n",
              "       nan, nan, nan, nan, nan, nan, nan, nan, nan, nan, nan, nan, nan,\n",
              "       nan, nan, nan, nan, nan, nan, nan, nan, nan, nan, nan, nan, nan,\n",
              "       nan, nan, nan, nan, nan, nan, nan, nan, nan, nan, nan, nan, nan,\n",
              "       nan, nan, nan, nan, nan, nan, nan, nan, nan, nan, nan, nan, nan,\n",
              "       nan, nan, nan, nan, nan, nan, nan, nan, nan, nan, nan, nan, nan,\n",
              "       nan, nan, nan, nan, nan, nan, nan, nan, nan, nan, nan, nan, nan,\n",
              "       nan, nan, nan, nan, nan, nan, nan, nan, nan, nan, nan, nan, nan,\n",
              "       nan, nan, nan, nan, nan, nan, nan, nan, nan, nan, nan, nan, nan,\n",
              "       nan, nan, nan, nan, nan, nan, nan, nan, nan, nan, nan, nan, nan,\n",
              "       nan, nan, nan, nan, nan, nan, nan, nan, nan, nan, nan, nan, nan,\n",
              "       nan, nan, nan, nan, nan, nan, nan, nan, nan, nan, nan, nan, nan,\n",
              "       nan, nan, nan, nan, nan, nan, nan, nan, nan, nan, nan, nan, nan,\n",
              "       nan, nan, nan, nan, nan, nan, nan, nan, nan, nan, nan, nan, nan,\n",
              "       nan, nan, nan, nan, nan, nan, nan, nan, nan, nan, nan, nan, nan,\n",
              "       nan, nan, nan, nan, nan, nan, nan, nan, nan, nan, nan, nan, nan,\n",
              "       nan, nan, nan, nan, nan, nan, nan, nan, nan, nan, nan, nan, nan,\n",
              "       nan, nan, nan, nan, nan, nan, nan, nan, nan, nan, nan, nan, nan,\n",
              "       nan, nan, nan, nan, nan, nan, nan, nan, nan, nan, nan, nan, nan,\n",
              "       nan, nan, nan, nan, nan, nan, nan, nan, nan, nan, nan, nan, nan,\n",
              "       nan, nan, nan, nan, nan, nan, nan, nan, nan, nan, nan, nan, nan,\n",
              "       nan, nan, nan, nan, nan, nan, nan, nan, nan, nan, nan, nan, nan,\n",
              "       nan, nan, nan, nan, nan, nan, nan, nan, nan, nan, nan, nan, nan,\n",
              "       nan, nan, nan, nan, nan, nan, nan, nan, nan, nan, nan, nan, nan,\n",
              "       nan, nan, nan, nan, nan, nan, nan, nan, nan, nan, nan, nan, nan,\n",
              "       nan, nan, nan, nan, nan, nan, nan, nan, nan, nan, nan, nan, nan,\n",
              "       nan, nan, nan, nan, nan, nan, nan, nan, nan, nan, nan, nan, nan,\n",
              "       nan, nan, nan, nan, nan, nan, nan, nan, nan, nan, nan, nan, nan,\n",
              "       nan, nan, nan, nan, nan, nan, nan, nan, nan, nan, nan, nan, nan,\n",
              "       nan, nan, nan, nan, nan, nan, nan, nan, nan, nan, nan, nan, nan,\n",
              "       nan, nan, nan, nan, nan, nan, nan, nan, nan, nan, nan, nan, nan,\n",
              "       nan, nan, nan, nan, nan], dtype=float32)>"
            ]
          },
          "metadata": {},
          "execution_count": 17
        }
      ]
    },
    {
      "cell_type": "markdown",
      "metadata": {
        "id": "NYQv4VTJqBpt"
      },
      "source": [
        "#### Masking\n",
        "The mask indicates where pad value 0 is present: it outputs a 1 at those locations, and a 0 otherwise."
      ]
    },
    {
      "cell_type": "code",
      "metadata": {
        "id": "qhBgY3DBvnvw"
      },
      "source": [
        "# function to create padding \n",
        "def create_padding(seq):\n",
        "  seq = tf.cast(tf.math.equal(seq , 0) , tf.float32)\n",
        "\n",
        "  # Add extra dimensions to add the padding (so we can add padding to our attention scores)\n",
        "  # mask + attention scores \n",
        "  return seq[: , tf.newaxis , tf.newaxis , :] # (batch_size , 1 , 1 , seq_len)"
      ],
      "execution_count": 18,
      "outputs": []
    },
    {
      "cell_type": "code",
      "metadata": {
        "colab": {
          "base_uri": "https://localhost:8080/"
        },
        "id": "TdmO0PaZySW_",
        "outputId": "6c505698-9092-49a3-9167-64a4424c3a14"
      },
      "source": [
        "# Testing out the above function \n",
        "x = tf.constant([  [7 , 6 , 0 , 0 ,1] , [1 , 2 ,3 , 0 , 0] , [0 , 0 , 0 , 4 , 5] ])\n",
        "create_padding(x)"
      ],
      "execution_count": 19,
      "outputs": [
        {
          "output_type": "execute_result",
          "data": {
            "text/plain": [
              "<tf.Tensor: shape=(3, 1, 1, 5), dtype=float32, numpy=\n",
              "array([[[[0., 0., 1., 1., 0.]]],\n",
              "\n",
              "\n",
              "       [[[0., 0., 0., 1., 1.]]],\n",
              "\n",
              "\n",
              "       [[[1., 1., 1., 0., 0.]]]], dtype=float32)>"
            ]
          },
          "metadata": {},
          "execution_count": 19
        }
      ]
    },
    {
      "cell_type": "markdown",
      "metadata": {
        "id": "PVJCD9dPymSR"
      },
      "source": [
        "The look-ahead mask is used to mask the future token sequence. In other words, the mask indicates which entries should not be used.\n",
        "\n",
        "Zero attention scores for the token sequence\n",
        "\n"
      ]
    },
    {
      "cell_type": "code",
      "metadata": {
        "colab": {
          "base_uri": "https://localhost:8080/"
        },
        "id": "EiRdnDuB0iOS",
        "outputId": "a56b938d-f80d-4008-d601-77229899928d"
      },
      "source": [
        "# Creating the look ahead matrix \n",
        "def create_look_ahead_mask(size):\n",
        "  mask = 1 - tf.linalg.band_part(tf.ones(shape = (size , size)) , -1, 0)\n",
        "  return mask \n",
        "\n",
        "# Applying dummy tensors \n",
        "x = tf.random.uniform((1 , 3))\n",
        "temp = create_look_ahead_mask(x.shape[1])\n",
        "temp"
      ],
      "execution_count": 20,
      "outputs": [
        {
          "output_type": "execute_result",
          "data": {
            "text/plain": [
              "<tf.Tensor: shape=(3, 3), dtype=float32, numpy=\n",
              "array([[0., 1., 1.],\n",
              "       [0., 0., 1.],\n",
              "       [0., 0., 0.]], dtype=float32)>"
            ]
          },
          "metadata": {},
          "execution_count": 20
        }
      ]
    },
    {
      "cell_type": "markdown",
      "metadata": {
        "id": "wpadEj0u2ntv"
      },
      "source": [
        "### Scaled dot product attention \n",
        "Like we saw above the attention function used by the transformer takes namely three inputs, \n",
        "- Query (Q)\n",
        "- Key (K)\n",
        "- Value (V)\n",
        "\n",
        "The equation used to calculate the attention weights, \n",
        "\n",
        "`Attention(Q , K , V) = Softmax of [ (Query , key)T / square root of the depth of the keys  `\n",
        "\n",
        "Dont worry much if it take sense, will code every line out and eventually get that shit. \n"
      ]
    },
    {
      "cell_type": "markdown",
      "metadata": {
        "id": "DoWApYdaYZ-u"
      },
      "source": [
        "![Screenshot 2021-10-03 at 2.29.45 PM.png](data:image/png;base64,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)"
      ]
    },
    {
      "cell_type": "code",
      "metadata": {
        "id": "cN7VFYXVVUvN"
      },
      "source": [
        "# Function for scaling the dot product attention \n",
        "\n",
        "# That is passing in the query , key and value to our attention \n",
        "def scaled_out_product_attention(q , k , v , mask):\n",
        "\n",
        "  '''\n",
        "  Calculate the attention weights\n",
        "\n",
        "  - q , k , v must have a matching leading dimensions \n",
        "  - k , v must have matching penultimate dimension, i.e seq_len_k = seq_len_v \n",
        "  \n",
        "  The mask has different shapes depending on its type(padding or look ahead) but its broadcastable for attention \n",
        "\n",
        "\n",
        "  Args: \n",
        "    q: query shape == (..... , seq_len_q , depth)\n",
        "    key: key shape == (..... , seq_len_q , depth)\n",
        "    v: value shape == (....., seq_len_v , depth_v)\n",
        "\n",
        "    mask: Float tensor with shape broadcastable to (.... , seq_len_q , seq_len_k) \n",
        "\n",
        "  Returns: \n",
        "    output , attention_weights\n",
        "\n",
        "  '''\n",
        "\n",
        "\n",
        "  # The first matrix mult for between query and key \n",
        "  matmul_qk = tf.matmul(q , k , transpose_b= True) # (... , seq_len_q , seq_len_k)\n",
        "\n",
        "  # Now scale the above matrix mul output \n",
        "  dk = tf.cast(tf.shape(k)[-1] , tf.float32) # getting the last shape index of k, and  casting into float32\n",
        "  scaled_attention_logits = matmul_qk / tf.math.sqrt(dk)\n",
        "\n",
        "  # Adding the mask vector to the scaled tensor \n",
        "  if mask is not None: \n",
        "    scaled_attention_logits += (mask * -1e-9)\n",
        "\n",
        "  # Apply softmax \n",
        "  # Softmax is normalized on the last axiss (seq_len_k) so that the scores add upto 1 \n",
        "  attention_weights = tf.nn.softmax(scaled_attention_logits , axis = -1)  # (..., seq_len_q, seq_len_k)\n",
        "\n",
        "  # Now the matrix multiplication between our values and softmax applied attention weights\n",
        "  output = tf.matmul(attention_weights , v )\n",
        "\n",
        "  # It returns the scaled attention weights and the attention_weights\n",
        "  return output , attention_weights\n",
        "\n"
      ],
      "execution_count": 21,
      "outputs": []
    },
    {
      "cell_type": "markdown",
      "metadata": {
        "id": "0hcHGOCUcbXQ"
      },
      "source": [
        "As the softmax normalization is done on K (keys), its values decide the amount of importance given to Q. \n",
        "\n",
        "The output represents the multiplication of the attention weights and the V vector. This ensures that the tokens you want to focus on are kept as-is and the irrelevant tokens are flushed out."
      ]
    },
    {
      "cell_type": "code",
      "metadata": {
        "id": "VnQK_JXgeMkK"
      },
      "source": [
        "def print_out(q , k , v):\n",
        "\n",
        "  # Applying the above dot product function\n",
        "  temp_out , temp_attn = scaled_out_product_attention(q , k , v , None)\n",
        "\n",
        "  print(f'Attention weights are: {temp_attn}\\n')\n",
        "  print(f'Output is (matmul of v and attention weights): {temp_out}\\n')"
      ],
      "execution_count": 22,
      "outputs": []
    },
    {
      "cell_type": "code",
      "metadata": {
        "colab": {
          "base_uri": "https://localhost:8080/"
        },
        "id": "mSaJ42NpeoVM",
        "outputId": "84f8ad8a-88c6-4048-9fdd-6df943bcb02f"
      },
      "source": [
        "# Using the above function visualizing our attention weights \n",
        "np.set_printoptions(suppress= True)\n",
        "\n",
        "# Creating the v and k \n",
        "temp_k = tf.constant([[10 , 0 , 0] , \n",
        "                       [0 , 10 , 0] , \n",
        "                       [0 ,0 , 10] , \n",
        "                       [0 , 0 , 10]] , dtype = tf.float32) # (4 , 3)\n",
        "\n",
        "temp_v = tf.constant([[1 , 0], \n",
        "                      [10 , 0], \n",
        "                      [100 , 5], \n",
        "                      [1000 , 6]], dtype = tf.float32) # (4 ,2)\n",
        "\n",
        "\n",
        "# Creating the query, and its aligned with the second `key`\n",
        "temp_q = tf.constant([[0 , 10 ,0]] , dtype =tf.float32) # (1, 3)\n",
        "\n",
        "# Using our print function \n",
        "print_out(temp_q , temp_k , temp_v)"
      ],
      "execution_count": 23,
      "outputs": [
        {
          "output_type": "stream",
          "name": "stdout",
          "text": [
            "Attention weights are: [[0. 1. 0. 0.]]\n",
            "\n",
            "Output is (matmul of v and attention weights): [[10.  0.]]\n",
            "\n"
          ]
        }
      ]
    },
    {
      "cell_type": "markdown",
      "metadata": {
        "id": "j2gu1ymsghpj"
      },
      "source": [
        "### **Multi-Head Attention** \n",
        "\n",
        "The multi-head attention consists of four parts, \n",
        "- Linear layers \n",
        "- Scaled dot-product attention \n",
        "- Final linear layer \n",
        "\n",
        "\n",
        "**Inputs of multi-head attention block:**\n",
        "- Each multi head attention block gets three inputs, [Query, Key, Value]. \n",
        "- Then these are put through (Dense) layers before the multi-head attention function. \n",
        "\n",
        "The (Q , K , V) are passed through seperate linear (Dense) layers for each attention head. And we specified number of heads as `num_heads`  time as outputs. \n",
        "\n",
        "**The output shape will be** -> `(batch , num_heads , ....)`\n",
        "\n",
        "**Scaled dot product attention**\n",
        "The `scaled_dot_product_attention` function is defined above is applied in a single cell. An appropriate mask must be used in the attention step. \n",
        "\n",
        "The *attention output for each head* is then concatenated (using `tf.transpose` and `tf.reshape`) and put through the final `Dense` layer. \n",
        "\n",
        "\n",
        "Since its a multi-head attention so we want to get the N number of heads Q , K and V are split into multiple heads because it allows the model to jointly attend to information diferent representation subspaces. \n",
        "\n",
        "\n",
        "After the split each head has a reduced dimensionality, so the total computation cost is the same as a single head attention with full dimensionality.\n",
        "\n",
        "\n",
        "\n",
        "**Reading List** \n",
        "- https://data-science-blog.com/blog/2021/04/07/multi-head-attention-mechanism/ To know how the multi-head attention works (in and out)\n",
        "\n",
        "\n"
      ]
    },
    {
      "cell_type": "code",
      "metadata": {
        "id": "5wZXobHDpGOl"
      },
      "source": [
        "# Coding out the Multi-Head attention!! \n",
        "\n",
        "\n",
        "class MultiHeadAttention(tf.keras.layers.Layer):\n",
        "\n",
        "  def __init__(self , d_model , num_heads ):\n",
        "    super(MultiHeadAttention , self).__init__()\n",
        "    self.num_heads = num_heads \n",
        "    self.d_model = d_model # the dimensions \n",
        "\n",
        "    assert d_model % self.num_heads == 0 \n",
        "\n",
        "    self.depth = d_model // self.num_heads\n",
        "\n",
        "    # Creating our key , value and pairs \n",
        "    self.wq = tf.keras.layers.Dense(d_model)\n",
        "    self.wk = tf.keras.layers.Dense(d_model)\n",
        "    self.wv = tf.keras.layers.Dense(d_model)\n",
        "\n",
        "    self.dense = tf.keras.layers.Dense(d_model)\n",
        "\n",
        "  \n",
        "  # A function that will split the head for N number of times \n",
        "  def split_heads(self , x , batch_size):\n",
        "\n",
        "    '''\n",
        "    Splits the last dimension into (num_heads , depth)\n",
        "    Transpose the result such that the shape is (batch_size , num_heads , seq_len, depth)\n",
        "    '''\n",
        "\n",
        "    x = tf.reshape(x , shape= (batch_size , -1 , self.num_heads , self.depth))\n",
        "    return tf.transpose(x , perm= [0 , 2 ,1 ,3]) # perm helps us to structure our elements inside the tensor \n",
        "\n",
        "  \n",
        "  # Forward pass \n",
        "  def call(self , v , k , q , mask):\n",
        "    batch_size = tf.shape(q)[0]\n",
        "\n",
        "    # Getting the k , v and q \n",
        "    q = self.wq(q) # (batch_size , seq_len , d_model)\n",
        "    k = self.wk(k) # (batch_size , seq_len , d_model)\n",
        "    v = self.wv(v) # (batch_size , seq_len , d_model)\n",
        "\n",
        "\n",
        "    # Applying spplit heads , depending upon the number of heads \n",
        "    q = self.split_heads(q , batch_size) # (batch_size , num_heads , seq_len_q , depth)\n",
        "    k = self.split_heads(k , batch_size) # (batch_size , num_heads , seq_len_k , depth)\n",
        "    v = self.split_heads(v , batch_size) # (batch_size , num_heads , seq_len_v , depth)\n",
        "\n",
        "\n",
        "    # Now we're onto the scaled attention, where we wiill scale our attention weights \n",
        "    \n",
        "    # Lets look at the weigths\n",
        "    # shape of scaled_attenttion_weights.shape --> (batch_size , num_heads , seq_len_q , depth)\n",
        "    # shape of attention__weights.shape --> (batch_size , num_heads , seq_len_q , seq_len_k)\n",
        "\n",
        "    # Getting the scaled attention weights and attention weights value from the function \n",
        "    scaled_attention , attention_weights = scaled_out_product_attention(q , k , v , mask)    \n",
        "\n",
        "    scaled_attention = tf.transpose(scaled_attention , perm = [0 , 2 ,1 ,3]) # (batch_size , seq_len_q , num_heads , depth)\n",
        "\n",
        "  \n",
        "    # Now we got the attention weights lets concatenate along the num_heads so we will concatenate all the heads \n",
        "    concat_attention = tf.reshape(scaled_attention , shape = (batch_size , -1 , self.d_model)) # (batch_size , seq_len_q , d_model)\n",
        "\n",
        "    # Atlast putting our concatenated attention into a dense layer \n",
        "    output = self.dense(concat_attention) # (batch_size , seq_len_q , d_model)\n",
        "\n",
        "    # Returning the output(scaled one) and the attention weights \n",
        "    return output , attention_weights"
      ],
      "execution_count": 24,
      "outputs": []
    },
    {
      "cell_type": "markdown",
      "metadata": {
        "id": "t31kIllozp9q"
      },
      "source": [
        "Lets create a `MultiHeadAttention` layer to try out, wehre at each location in the sequeunce it runs all 8 attention heads across all other locations in the sequence, returning a new vector of the same length at each location. \n",
        "\n"
      ]
    },
    {
      "cell_type": "code",
      "metadata": {
        "colab": {
          "base_uri": "https://localhost:8080/"
        },
        "id": "Ou-c4-5R0AvR",
        "outputId": "e2e942f7-ae3f-449a-83dd-0299fd03597e"
      },
      "source": [
        "# Dummy multi-head attention \n",
        "temp_mha = MultiHeadAttention(d_model = 512 , num_heads = 8)\n",
        "\n",
        "# Dummy input\n",
        "y = tf.random.uniform((1 , 60 , 512)) # (batch_size , encoder_sequence , d_model)\n",
        "\n",
        "out , attn = temp_mha(v = y , k = y , q = y , mask = None)\n",
        "out.shape , attn.shape"
      ],
      "execution_count": 25,
      "outputs": [
        {
          "output_type": "execute_result",
          "data": {
            "text/plain": [
              "(TensorShape([1, 60, 512]), TensorShape([1, 8, 60, 60]))"
            ]
          },
          "metadata": {},
          "execution_count": 25
        }
      ]
    },
    {
      "cell_type": "code",
      "metadata": {
        "colab": {
          "base_uri": "https://localhost:8080/"
        },
        "id": "2Cqn2Ady0tvT",
        "outputId": "282ffbc8-4e6b-4e44-d4c8-767d806dd82e"
      },
      "source": [
        "out"
      ],
      "execution_count": 26,
      "outputs": [
        {
          "output_type": "execute_result",
          "data": {
            "text/plain": [
              "<tf.Tensor: shape=(1, 60, 512), dtype=float32, numpy=\n",
              "array([[[-0.2761638 ,  0.07599244, -1.1748303 , ..., -0.03034562,\n",
              "         -0.3804115 , -0.12298578],\n",
              "        [-0.27057928,  0.07503626, -1.169733  , ..., -0.02560627,\n",
              "         -0.3821526 , -0.12399158],\n",
              "        [-0.2695321 ,  0.07193279, -1.1785613 , ..., -0.02804965,\n",
              "         -0.3789319 , -0.12100151],\n",
              "        ...,\n",
              "        [-0.27368724,  0.08061019, -1.172421  , ..., -0.02472505,\n",
              "         -0.37687314, -0.12299362],\n",
              "        [-0.27594206,  0.08207816, -1.1762881 , ..., -0.02468413,\n",
              "         -0.3783194 , -0.12467968],\n",
              "        [-0.2720992 ,  0.07118565, -1.1774892 , ..., -0.02938169,\n",
              "         -0.3845192 , -0.12178519]]], dtype=float32)>"
            ]
          },
          "metadata": {},
          "execution_count": 26
        }
      ]
    },
    {
      "cell_type": "markdown",
      "metadata": {
        "id": "6ebX7qvP5dvc"
      },
      "source": [
        "### Point wise feed forward network \n",
        "\n",
        "It consists of two-fully connected layers with a ReLu activation in betwee. "
      ]
    },
    {
      "cell_type": "code",
      "metadata": {
        "id": "N7kKzJdLc7FK"
      },
      "source": [
        "# Creating a function for point wise forward network \n",
        "def point_wise_feed_forward(d_model , dff):\n",
        "  return tf.keras.Sequential([\n",
        "      tf.keras.layers.Dense(dff , activation= 'relu') ,# (batch_size , seq_len , dff) \n",
        "      tf.keras.layers.Dense(d_model) # (batch_size , seq_len , d_model)\n",
        "  ])\n"
      ],
      "execution_count": 27,
      "outputs": []
    },
    {
      "cell_type": "code",
      "metadata": {
        "colab": {
          "base_uri": "https://localhost:8080/"
        },
        "id": "FzL6ptn7dnu8",
        "outputId": "2535d7d1-6dfa-4fbd-b61e-9d3c9353a36d"
      },
      "source": [
        "# Applying on a sample data \n",
        "\n",
        "sample_ffn = point_wise_feed_forward(512 , 2048) #(dimensions and dff)\n",
        "\n",
        "# Passing a dummy data \n",
        "sample_ffn(tf.random.uniform((64 , 50 , 512))).shape"
      ],
      "execution_count": 28,
      "outputs": [
        {
          "output_type": "execute_result",
          "data": {
            "text/plain": [
              "TensorShape([64, 50, 512])"
            ]
          },
          "metadata": {},
          "execution_count": 28
        }
      ]
    },
    {
      "cell_type": "markdown",
      "metadata": {
        "id": "jPqgvKjiiYAN"
      },
      "source": [
        "## Encoder and Decoder \n",
        "\n",
        "- The input sentence is passed through `N` encoder layers that generates an output for each token in the sentence. \n",
        "- The decoder attends to encoders output and its own input (self-attention) to predict the next word. \n",
        "\n",
        "### Encoder Layer \n",
        "Encoder layer consists of sublayers:\n",
        "- Multi-head attention (has padding mask) \n",
        "- Point wise feed forward networks. \n",
        "\n",
        "Reach of these sublayers has a residula connections within and its followed by a layer normalization. Residual connections help in avoiding the vanishing gradient problem in neural networks. \n",
        "\n",
        "- The output of each sublayer is `LayerNorm(x + Sublayer(x))`. \n",
        "- The normalization is done on the `d_model` (dimension) the last axis. \n",
        "- There are N encoder layers in the transformer. \n",
        "\n",
        "Lets code them!\n"
      ]
    },
    {
      "cell_type": "markdown",
      "metadata": {
        "id": "GB_Ighu_tfcn"
      },
      "source": [
        "![Screenshot 2021-10-04 at 6.00.52 AM.png](data:image/png;base64,iVBORw0KGgoAAAANSUhEUgAAARwAAAGLCAYAAAAVly0bAAABSWlDQ1BJQ0MgUHJvZmlsZQAAKJFjYGASSSwoyGFhYGDIzSspCnJ3UoiIjFJgf8rAxcDCwMogzyCUmFxc4BgQ4ANUwgCjUcG3awyMIPqyLsisW4ujdWbPsdryhvvgc8+rzZcx1aMArpTU4mQg/QeI05MLikoYGBhTgGzl8pICELsDyBYpAjoKyJ4DYqdD2BtA7CQI+whYTUiQM5B9A8gWSM5IBJrB+ALI1klCEk9HYkPtBQFep9S8QAX3cCMTc1MPAu4lGZSkVpSAaOf8gsqizPSMEgVHYCilKnjmJevpKBgZGBkyMIDCHKL6cxA4LBnF9iHE8pcwMFh8Y2BgnogQS5rCwLC9jYFB4hZCTGUeAwN/CwPDtkMFiUWJcAcwfmMpTjM2grB57BkYWO/+//9Zg4GBfSIDw9+J////Xvz//9/FQPNvMzAcqAQAaGZibBy3TXsAAABWZVhJZk1NACoAAAAIAAGHaQAEAAAAAQAAABoAAAAAAAOShgAHAAAAEgAAAESgAgAEAAAAAQAAARygAwAEAAAAAQAAAYsAAAAAQVNDSUkAAABTY3JlZW5zaG90HTndwwAAAdZpVFh0WE1MOmNvbS5hZG9iZS54bXAAAAAAADx4OnhtcG1ldGEgeG1sbnM6eD0iYWRvYmU6bnM6bWV0YS8iIHg6eG1wdGs9IlhNUCBDb3JlIDYuMC4wIj4KICAgPHJkZjpSREYgeG1sbnM6cmRmPSJodHRwOi8vd3d3LnczLm9yZy8xOTk5LzAyLzIyLXJkZi1zeW50YXgtbnMjIj4KICAgICAgPHJkZjpEZXNjcmlwdGlvbiByZGY6YWJvdXQ9IiIKICAgICAgICAgICAgeG1sbnM6ZXhpZj0iaHR0cDovL25zLmFkb2JlLmNvbS9leGlmLzEuMC8iPgogICAgICAgICA8ZXhpZjpQaXhlbFlEaW1lbnNpb24+Mzk1PC9leGlmOlBpeGVsWURpbWVuc2lvbj4KICAgICAgICAgPGV4aWY6UGl4ZWxYRGltZW5zaW9uPjI4NDwvZXhpZjpQaXhlbFhEaW1lbnNpb24+CiAgICAgICAgIDxleGlmOlVzZXJDb21tZW50PlNjcmVlbnNob3Q8L2V4aWY6VXNlckNvbW1lbnQ+CiAgICAgIDwvcmRmOkRlc2NyaXB0aW9uPgogICA8L3JkZjpSREY+CjwveDp4bXBtZXRhPgoqtq9DAABAAElEQVR4Aey9BWBcx7k2/IqZmSWTzBwzYwyJEzsOMzZp2qRwU7h/uV+b3kKggQYajhM7ZIqZGSWDDDKJLFmyJVksywL/zzOrXdFKWsnWWjCTyLt7zpk5M++Zec7LY3MNRa6j5Ofny7p16+TTTz+VQ4cOCX8XFhbKdTZ7HT3SVTUFNAWuhwL29vbi6ekpAQEBMmnSJHnqqadkwIAB4ujoeD3Nqro2rQWcyspKOXHihLzzzjuyZs0ayczMlKKiogYdsrGxQee9JDAwULy9vcTXz08NxM7WDtdeF9Y1uJc+0PEoYGNjK6VXrsjx48fk6JEjagC2trYSHR0jw4YNEzc3N7y8qjrewNptj22koqJCLl++LJcuXZS8vDzJzs7B79wGPeba9fHxkaioKHn44YflkUceUb8bXNiCA/YtuNZ0aUlJiWzevFlee+01iY+Pl5ycnDocDTvq6+sr/fr1l1tuGSF9+/aRSHTax8db3DGBHBydxMbUmv7SlSnAuXIpO1vefvttSTh6VM0jOzt76d6jh7zwwgsSHh4uVVUacG70HLl69aoUFxdLLoDnfFqaHDt2TA4ePIjPBLl48aK6HaWU3NxcKSgokL///e/qmpdeekm6d+8ufCm0prQYcIiI3333nQKbM2fOqE4bb0xWjJzM2LFj5dZZs2XI4MESEBgkri7OwnO2duRqdNEUqKGAXfXEdXFxMR0EBokT2Hc/P38JCgqSCnDTurQNBapA26FDh8q06dPA8WTL4cOH5L/vvy+HwW0WAmhYyBFlZGTIN998oySZ3/3udzJo0CBxcHBocadaBDhEu88//1z+/e9/S0pKihAljYWs16hRo+X+++9TXA3lP3bIBhPqGt5QREsOThdNgfoUqMLcqK/zo2aRohS5Gz1v6lPsxv52ADPg7e0jXlB9REVGQl8zUDasXyeLFi2SxMREKSsrUzekGLZt2zb5yU9+Ii+//DLW+S0t1utYDDhkq5YvX67AJikpSaEee0HOJSIiUu5/4AFZuHChREZEQGRyNIHMNQ0yN3Z26NY0BW4wBQj2xnVKJqFXz54SHhYGBmIURN3/yNq1a5Suh7clDlD0+u1vfyv//Oc/lTLZrgWSi0WC2BUo9bZv3y6vvvqq1AYbssGDBg2W3/zmN/KDHzwr3bp1UwDEN1L9N9YNppFuTlNAU6ANKKDABwDk5uomQ4YMld///vfy3A+fl5CQEKG+jaW0tFT27t0rf/7zn+X8+fMtWuvNAg5Z2uPHjyuwOXnypImzIdgMHDhQfv3rX8u8efPAjnmYuJo2oINuUlNAU8CKFKiCOEuACQOn88Mf/lB+9KMf1wEdKpw3bNggb775pon7saR7zQIOzd2U5fbt22eS5ZycnKR///7y0i9+IVOmTFG6Gs3RWEJufY2mQMehgJHboU/OY489BuB5XoKCg02cDn3uqNPduHGjUAqypDQJOGSdKEp9/fXXSnZjgzSHRUKx9IMfPCdTJk8Rym8abCwhtb5GU6BjUoAqEvpDPf7443L33fdAwextGsiFCxfk9ddfV0YkS9wXmgSc1NRUWbJkiaSnp5tuQOvT/PkLZO7cuRpsTFTRXzQFOjcFyFSQ03nu2edk+PDh4urqqgbM43FxcbJs2TKzjr/1qdIo4NC5b8+ePbJz506T3sbd3V0pkh566CFxd6cHqPYUrk9Q/VtToLNSgP44kZERSrQKDg4xOf9Rn0O1SxocCJvjchoFHGqfv//+ezgDXVL0owIpGPLbvffeq6xRvLkumgKaAl2LAlz3kydPllmzZimOxzj6U6dOqZhKgk9TxSzg0KGPFilyOEbEIjs1GJ7DU6dNlUrtat4UTfU5TYFOSwFKNfTVeeDBByUYpnL64bFQ37tixQoVo9XU4M0CDsMX9u/fr9yYWZncjR+CLmchXMHP1097fjZFUX1OU6CTU4BcTv9+/WTc2HFKmWwc7uHDh1VAd+0IBOM546dZT+NsBNMRcMrLy9V1DEunZYoxUlpvA0sdLHP2+CMQa3oYp1LrPmn1pGt9/WBAW1sbsceblG/T+udad6euW4vzlKUcQHEjwkQ454kJc+bMkVWrvpcCmMepzWXoAx0C6aHcWCqLBoDDtBP0vTl37pzqJP/xgDg1aPAQCQ0NNSmQTSe70BcCjS0eHvVajK49iTiT/HwEuFF5rsPfWzUTuBiKYaCIj48z1acYz/nHCHIvLy+TWG+6QH+xmAKkryeccnsiXKFf3/4SGBSo5vD16mAZUDt06DCJio6WbGSLuIp4KwIRc2JRvOJzM1caAA4DtWgONyqLWYnWKXoVE7WMgVzmGuvMxwg2uSAsFenfffetCvGggowArUvrKcAFQYDhvDJyi1wMSUnnkNTtE2E0ufF46+/SdWuSvuQQ6UcTExMjs2fPUZEBKgofdG5tYexVQIC/9O7dR47j5UvAYeGLmA6BbJ/3rl8aAA49Bul3wyAtFnbW28tbYnvFdtkHT7BhDNnbb70lK1euUPl/iOJ6IdSfTjfuN90y+KfLjaEAF38GnPQY/X004ag8i9jHvn37tlpioQhFhTHTVKxYvszUSTIqzKfTA/mMzAV1NgAcvrUJOEbrFGVoehYGIM+N8Zip9S7whWCTBo7vjTfekG++/kolJNJA0wUefCcbIudsCdZ2GkB8OZz0KisqVZoJilqtFa+IB9269aijr+FLgt7H1P9aBDjUMNNKZSxEMbJjHhCrmLekKxW+FYqQn3nVqlWybOl3irOpPX5X0MXP11sYW6aLpkB7pEBZ2VVIK4VKzGH/CDzM0Lke+W5oCHoe8VEuri6t4tYJOP5+voa8V1grbJtAQ+VxY8xJAw6HgGMUp9hBAg7dmPl3IzTcbLOjFCYPoyi1evVqU9pF9t3T010G9O8tCxZMhgwbBcBpeeazjkID3c+OTQECzqnT55HLapscOHAUa7tIAQPFnu3bt8nESZNkNKxKreFy6I/n6+tTB3AINEzU11h7DQCHKFX/Ynt7OzRq3+B4x34UTfee3M1VPKxjx45LQkKC6Q3gjpCOkSMHya9+8TAU6cz/Q/N4023ps5oCN4sCXM8jbuktA/t3k9f+vUTWrd8lpSWlai2fPXtWDh44IMORrN6cgteSPjs7OzVwWyB+8L7milnHP3MXdrVj5G6Ki4vkzNkzYEGzTcMPDPKT+XdOBuj0EWdwNrhMF02BdksB+jNxng4b1ktunzsO2TlDTH3NASfC+V0E3Q51la0rLXvb6uXSBJVpscuBE6SR46PFzt/PWwYOYNZ6USEejQB5E602fYrb5zg5Oao/w1Y6TV9vyVmaltmmoyNyTLdsfqjryd06Ozsqbs6S+9W/xnB/ByTTd1LipzFxev3rLPnN/rM/bMvRsQGDbrYJY53rGYPZhjvAQc5Pij4ODnbSs1cEUocGmXpdDvUJTdjF2N6J/mXWKJY9MWv0pB3egw/qanmNrwIBx8HeQS2+Gw00huHbwIkqX46fSFILvXevaPg6eGPCtN7Xh6xydk6BJJ5KxiJ1wdY9MQo4GmN5az8GzsHy8ko5fTpdsi7mINdtpAQH+VocS8d722LfqYLCEjl16jz0YNnYl8xLYmOjxdfH3QTkte/Z1Hf25+rVSph20yQ55QLe1kHSOzaqWRDlGE6dSpOsrFxYVSLgwOqH25hn+Zu6f0c/5+jAF1mNvpFzgNYqa/qSacBpdhbVn5ht8ybg4iwHuG3aHC9//8en4uHhKk89cYc88MA0LPBmO9noBVzwp06nyV//+hn2eAqSv738LNLBukqlBYjJuqWlJbJi5Q7ZuOmA/PC5hXL7bWMtAhyOpwKTed/+4/Lhh99LXPwJlRWOMn+/fj3loQdnIlvkUABSo11vcIL9KSwskq++2SJffrlGhg7pIy+99LAMHtRN0a5BBRxgP0pKymTpsu2yYeMBeerJ+XLP3ZOwyGpeJObqdcZjSJVuZljmj5q58IYc6hKAQ/mUbHxTyqwbQs3raMTOzlYuZBbI7j0J8IO6KK5uLrJ5Sxz29xolPl4ACHBbrS0Esst5BQrEWgpelZXXJL+gGJ7neQCM8ma5idp9PHT4nLz2+mJkg7sgM2eOlj59IuXc2QsY10F5/d+LxRFv26mThzQKFrXbMnynVzL6kw9/krRM+JWUSUhoADidh0Ejd9CoISdIUUHVySvCDpN5AFDLUmE2vLc+ciMo0KkBx/B2K5HT2LCPYDMI4RlM/s44kPZm4q8EEiQmnkfC+iQZOWKgOLs6yYmT5+TIkbNI5TpYKq+2HnDIRFB5aMO/FnAUnGBgKkxhYpbWJd2Likqxh1G8nD2XLnctmCrPPjMPrhWOWPBl4LT85b33liNMZIeMvKUvRFSmqW3ZdHaF7whBeNPmA3BR6CEPghNsrNTuN/umy82jQKdXGtNTmrsG/vEPf1DZ55cuXaoUwTzOv/YwAcl9FULPceDACSzUYrnzzkkyZdJQHMOi3RoPvUVFs/3kOIzKXYotVKi2ZGzsA5XKSrHr7NBqBTGnMkWfkpKrkn4hGxYSe4g+PbAjq5fqnx90OIMG9hR/6KbS07PVGG1tWm4hCQz0lzFjhokjnuE3325C0OA51f71LCXSy0gDKphJz8bwie4QvNao2K9Nf56rX9iO4fk4AWCdzLbNZ0Adi0G5TiV951uenZrDoVKMoNIPMSPckH3ZsqVIKrZb7VvNBPDTp09HFG0vPGQncD03JnS//kSz7LeNpJ3PlgMHE8Xf3xsZ1YbIhYxLEhjgKwfiTkB8uITAO2x5C51I/cKJTnGMoHTuXJYkJyMsBVt8BAcHSLeYUISluFGRUb+a6TcnOU1uObmFcha6nuzsy8gO4CbdoVwNC/NDGo7WTHrS3U7csMVzOZS8+fklSqzh8+DfFfg3XQGnQwW0s7O96q+pQxZ9YXoEB6RLGQgxLUoWQ5/zyWer4TkbCCW7p1k6NdUsaUA3iLy8Yjlz5jyUy9lo3xEWnUCJ6RYCrtixWhw3tMIxJCdnIqtCDuZVCJTQ/oh4L0PSujQ4veUrZXZEhL+6GJcqUCrHszuXlCEpyRnKYz+ium1ngDu5Wz7DnNwiKOjT8EK8jOfmgXikSMwBRl1DuXsdInVTY7f2uXYLOFxI9HKmZYjf+ZBbU1iXm68vvHshFJdxchR7JmdlZanPxYu/lOG3jFDpEult6evrq+5jNIO35n4trcP+lcE8efjwGQDLBZk7Zxx2L/XHm9tOBg/pBWXtPoDkcVhXghs0zbrUTxw+ckY+/Wyt7Np1CIu7UF3n5uaKXRF7QdS4lXiC0hB0WD/nchGUwjvl2283K10Lo36ZhyY0JEhmzBgJ3ctIszExDTpT6wBDYDyhmB4yuJdsgrJ58+aDMm3aLRIU6AmfpkKIWkekGIAzevRA6JVa51bP+eDn6ymTJw7BQk9Cm3HyXd9u8tijhvFaOl3IoRQWlcjqNftk8ZL1AO3zAEPoecCleXhgM7jBsdipYLqMH9cPz8QAjlz7m7ccklWrd4O+MxXA/PeDFbJv71GEAbnKk0/eIRMnDJQlX20WZxcH1B2Kl902WbN2pwIk9t0TOqdJE2+RJx6fi+cdIMtX7JIvvlwnyUnpSrnO3WujosKg4J4md94xHhvTOXYK0GlXgMMFwIfBVAV0SkpJTpbUlFS8/dOUc1KtOd2ir2yXIRvcO5nfjZHIBB5mKfti0ecqr8e0adNl1q2zkCh+sMrnwWvbuvDNlpKSA2A5iDQgLnAqnAiAsMGb2ksmTxosW6CjWL5yq0yfMVz8YEo2vunYN5p7OVFf/tvHAJ4queuu6TJ1ymD1Rj6XlCVLl27Drqj/kd59YqoBu2Y8fKufTcqERWyRrFmzE5n4+8nvf/c0wDkYYh12Wt2RIEuXb8WeQ/sRuOvbIjLwGTpArJg8BWCQiJ0/vlovr722RBbMnySLvlyPDdT2ypzZY+S+e6e3qN2GF1/Ds+oO69kC+eOfPoA1bDn66i130JJ2rSE3WL8+weZc8gXVt9Wrd8JPJVpefOF+REB3g5d5BRT4x+TrbzbJCy/+A8AyG/eZp4CUL6QrV8oQJlACENmP8Jfziv5PPHmnjBrZF5xlkKSkZsvBuFPKALB582G8VMrk6afnw4erGxT4RfLNN5vla9DlxPFk6dY9ApxNMjLoDZJfvvSAOEGciz90Rj77fLX89eUPFUg9+4N5AH6uj/qj6Fi/2wXgcPFUwcKQkZGJib5TbaTOhEzZ2TmQ8QsUO9uWZCUAncDuoonI47wEXM+wYcPlduwmSs6osSC0G9UfgkbCsWS8pZOhLO6Le4YqICEQ9eoVKX37dUe/kqDfSZTZs0bUUR4nJCTJJ5+uUvqAX//qMYDVOHSLYovAXb0P3rKD5d33VsjnEDdK4cTYrVuY6jaVx7T0LIOpmJzB3LkT5Pe/fULCQn0gWhp2XBw3biBibPrKv15ZjJibOHATHqhbA1jNjZ/A6O/nKffcMxXerOexeL5HztvtWEwO8vhj82AWnw4OAqKsGTGxubZrn78G8ZGu+wSvf72yCDl0Vkss/IX69ouUilo+VLXr8DvnXEFhMRb+Vlm/YZ9MmTpSfvubxyQmKrCaBgIdUX9wYQPkL3/9SL5buhlibYjce89k1lacN8VPilDk1H7+s3ulB7jQctIPV6SlZSuQp4jbs0eE/OKlpyHaRymDBcE+tmeEGvtXX61DdPUl7Gx5N7izWUr6JWDfMryPhAT7yZ8ApLv3HJE75o0Hx4O+XSe9OPabWW4q4BiApkrtT7xs+XJsuPeVWvTNZX5vK4IRXMj1rFmzWnbv3iXR0XSSMyhfOQludOHEu5Sdj7SMCeBcKpTYQUtOWVm5kuuDEUYx4pY+SPd6TLbC4jMFHANwCIVc2lWIWgl4k2bKvXfPgCg2GlxceTUnY+ipv5+H3Hf3FDlzKlVWrtqqFgnPUEw9l3RBtm6Ng8UoQJ55+g7ofLykBGKOsfDZjBndHy+BbIDhOeNhiz9ZnxzAyZMpkn3pslKGu0Cn88gjcxChfAfaYcxe81xIczfkY6Ee5NZbRyqHyZXwGfr08zXyy188IJ7gGBsrTJ1w4mSqbNl6EAs5WJ5+ap4SberTYMTwWHkUff7r3z6BCLVLgTj1RNT5MBCyJ4Dj8cfmSEx0oIl+nDN8RnyJ+gF0p04ZDmfHcJw3mORBGsXBDh7UE9zePontHSFTpw7Ds4OjKXRxLGyjV68o6QUnSTpM0iGUeryOXlqjEbwhY+aEZH6Old+vlGeeeRrs/G8l7uBBxC/V3WaC15H4RqvS9Xza2jWOr7wP2+buFJFQMDMz2oPYfysC+/C0BdgYiGgjSVA+xh86LZHhweBKeiug4Tne0w2m8cGDe0Jx6CMHDx6HfuGCQa8F/UJuboEcO54CMdFFJkBf4OjYMDMeF3RwiK+MGz9IiYhUTrKQqzpzOkOBSd++MUiuFm6a6OoC/MP7O6DNIUN6wsrU23jYok/S8tKlfHnjre8g0r2jlKSPPjYfOhw/6D4OQDl+ytQOdVAVFVVYnK0HdI4zPMxfFi6Yori4Dev3yOpVe7HmzU9vdE/5/pw4kQLfpxyIUEy/GaUA29QxfCEN2AR1UYMG9ISiOAOglqKUwAQHAmh/BEXG9gprQD8CKkEnFH5CfftF15lDBEmyMk6wVnl6eSjlNF8OdQHYoHh3grWRyd6K4PBo08h4ave5vX9vfAW2Yc85ITPBSXzy8cfywQf/VWbr2rfjG5iWI1oKnJ2dxc8/AIvPVbHBta+z+Dvux7dNDkS0FCTTqqrlZcq+ODo5q3w/3Xv0wJvyViSHng3rR1/JvJABP5ijFt+mJRfyvnzjxcUlSkb6JZmPxeLkZKcc7NRcRWO2kNl9YGXqAx3Mjp3x4LoSpA/ehhSJiotLoecqEB8fH7yZg01AVbsPXDA00QYF+gCY3KrFQ3oAV0ju5XyxxbnY2BhlijWnKKcaxAupOIJD/OCtnIKmmwcF6kWyLubJO+8uV+bqSTDv/xLewLS2fLZovbz62pfyyquL5C9/flb54xw4eFq2bj8iw6Egnzx5oEX3qD1G43cu1qFDe8r9982U//v7J9AVrVUWrCEwydcvivYlV5TuBY8Bfjw9odyFeFe9aUDt6wnSfgADijPxh05JaloWuNFroKXAkuSprHnOTo4A1brcGkGF92F6Xm8oiPks6hcec4eSOSgoQL1I6p83/UbV6wFkUzvt4IvVAYcPITU1TV599VW4p38JVtuQypS0INDwAfkHBMqIESNk0qRJmAz9JQT73zgBeFi3NYXtnj59Gu79f8FbKkk1Qa7JCUDDfB4jR46SO+68Q217wc3+OBEoXlGfwTdZWxTqaLKyLkM3c1LOp2fIxx8vw7bKa3C/mrtxtDRxl2BxXAVXsn17vLJYUJ9SBP0Dd9fw9vbCOBxxZa2KNU3gbWwLr2WAN/xhOC5glXq7X76cp/LQcsI3Ttdq8zY4LUsK26HJe+WqnQgl2CLjxw+W30E3FODvgZida3IblLnn4UW9ePE6efudpfKzn9yH9B9nkdxsi3h5OMNNYYgCQ0vuVf8ajo2+R9OnDUcKzbNQmG8BwK2FGBKsxJ+618MyCKVwEehKy5MnuETSxXy5pgA5AC4KzuBo6LhoWPzXlPXOGEBa+7kZ2yE9OGX5gmi08FQTpxut10FPWBVw+AC4o+err74in3/+mWIVSTceJzcTFhaOhX+n3HfffUhs1Vs5dRkWft23R0toTdd2imn79+2TvXv2qvu4e3iobGfTpk6X22+/DebjAQYPZLz5jUniWx+ub1nvKNYcg4XiyNEzUBRHQl6H6MbXZr1C2lCnc+ZsOriMVCymJIQDDDZMdoiALEbLVb2qpp8MT7hWS2QhTQi4BOLm6hrB19RYE18IoukZubJrZ4LiqO6/d4bibJgEisXP110eeXgWgDIfSc12qWdBzsrOrkoFVNI6dz1FiZDBvnLfPdPlNII1aWHrD6X73LljOMnqNE26Eow5PqOoWeeCWj94Db3T+fJRHtumpgwK+lqX6q/NUMBqgMMFzExgi75YJF99taQO2FAsGAk/mBdeeFEmjB+vusyJyPQQ11uuYWIdhwVqKfK4UkwbPXo0QOZ2mGynSkR4mJpwTIt4I+5laV8NyuICKH2P4Y1eLi/9/FF54rHZAp6qQROwh0D8KZb/vPMtxJTvEIC4H34dA8QDsn8AvG1pKSmCH4mNDU3XDQGLXBq9mEtKr+ItDtESjBD9bPz8mKnNEWJmHkTMhvXYEb6ZS1EvL7+0Qb/MHeAizs3Jgyk4C1yqj0TD8bB2JDIBIQJhDU8/ebtSJH/22fdKDxIbG4WE3kbTvbmWLT/GoMx+0JncB7D76/99LF8uWQcO2R+gVlufc025Dvj6eCh91kWIgJXQI5kr9JouKi6R8xClyjAfPeGbw3Hq0joKWAVw+ICo+Fq7dq188N8PYJLNV73lcf+AAFhY5sr/95vfwCwbCuXbVQUCrRtO3Vpsn9xNalqayi7/v//7v/A3GQ652U2x7kZupm4ta/yygWiXCUXwScjv/nA+jJXSshI1+c3d3dHRBlxYD+V9egDR1ykpF6EXcENdH8RfnVUm9b4IjKxfCGyFiGk6dy4DXrQF1UmWKCbZI9TAB5dXIZvhaRWcSR2PueBHin007RqWWPMLjR7G9AImB3cVnFn9QgDq0zsSlp+5KsUEgzCpo4qMuDEmX4o2jo4GH6CE4+fgTLcWTpGrEcflZJJcyLHQe5icJbm8g/Dmvpw/yWwAKK1RGRk5iAnLAP3dJTo6uB541R+h/t0UBWrDflPXXfc56lAoRmVkpKu2CAbcPnju3Nvk94hzCoWepvbeRNd9QzTAiUWl860zZ8rLf/0rTJoT1C6P5GbMKUlvxD2ba4PjVsrieOpuLgIA+0p0FMMWzL9h2Z7yyekZBqVob2z1kS27oDymHodm1asI6ly3fj/M6wXKesL2jX9UDjAgdBM8fQnkSmTBgqQDWc+e4VAYRyFPTCqU0ceVgtpYj59U/tLVf+u2QwClMw1EEnPjrILo5ocEZZFw9yeXs2/fMVxW0x+2y9/MMVQM/Qm/8zmcOpWCkIJ0JeKYa7elx8hJBfh7wUt3CvxZ+mJ8h5ULAO/HQlAiTfv1jVZm7WPQ+WyD4hrMpIl2BhqAu0E82xZE7Z84cQ7A2E3VuVlzp6V0aI/XtzngUJTiLhArV66U3bt2mWhA8/O4cePhL/FLyPkBakGYTt7AL3yDEXT4Zr3RgNaabnKik2vYu/cELGMusMwMg6hnUOg21h51DORIRo7oBzpVAATi4MhXofxkhsHBbwtMzW+/jaDUy4awBooBFKUOxp+GKPYdnNCy4H4frgAYWgelEI9C3NGtM0ZBXCiVf78J574dx5QylHVZaAH7cslGeDJvg8+IPxSmCEEwo2Oq3WcquAPh6XsLfIeoXP3w4+/h53K4Dud2GSD25eJN8HD+DMBTriLjj4MTees/3wBMcy0GHYJGU4WiFc39dAgkCJ4/n1FHrU6a9ugRpkJJSq5clXcgsm7adEjR1whMeUjL8dW3W+VzKJ+D4BPFoFofeHsrZ1B2oIk+qFPNdZIDaKIN42k+s85SrCJSJSFEYd26tSZQocIyOjoa/jfPwNwYaVLUthVRyem0h8IXPEWNo8eS5NDhROVJPGhg90b1B8Y+Gzg1B/h8xIBeQXCOhLIZ8VNjx/aXxx+dIxezcuSjj5ZBRDuBfZ37igtc41PSLgLUjkM5bAsl/K3K/M43PwsVyIyynj79FoSNXJQPP1ohP37hHwC/4RITHaRCG+haf+pUMqyF/aHQDVThCM1tE8R+OkGcmjl9BPLepMO7eJU8/6O/48UyWPpCjLoCESsOIBgXd1LCIUL9768fRSL67jCVL1HhFe++5yc/eeEucW8mvoovMY6rqefKR04ubQJ8kJiDOgs0smOdaqKyLi1Uc2aPkjwA9bvvL0UIwz9hqURfIZ4SDOPikWQc/k90wHz22btkAnRnzC1kBCTewzwY8C7GO5He1Tdt8MHa+K/m0rpX4AS5UXP7O9W9sOP8alPAIVtKHco+WIjOQKQyFl+IUjNmzMSCGWsCIeO5zv1JixOVt9eE/ilTsMAN8VHNW+EIEoz+vh/gcehQolyp1nWNHt1P/vnPF7C410FHtlveePMriAWwCEEpPH7CUHnkwVnYT9obeiskfMfk5SIjcNDiwtCDHz43H96sUbII3rmr1+ySQuxh5OLqjNSd3eXHP7oHHMAYWNPOYdVUCvUXzfmDUA8UDN3ST39yDxTB3eCLs1l2bD+E3DfblDgbEhKgfGUefuhW6FAMCb2feXoe/I3clfL7DBJ0MZ2FuVgoclD0Kh4KZ0gHjKU7IrkbU3hzHrEvXkheRtGKC/cSFOw9ETpiXOHqPHRXTzwxR4lWny1aIzshfn2/apta5AH+vhD5x6O/M1RWQbZJoCJ9GXYybdowhC2E83CdQoChvofhIbzWzd2pjpWQF+Owqjtj2gjph4j3+oXP29XNGSJ3H+g2/eAJ7mvgrOpf2MF+24CAdfCVFp2f/vSnSsHLsXBT8tmzZ8v77/+3xXoPvolSU1Lkt7/7ndq1ku2Ruxk8eLC8/vobKkiSuoX2WNh3mvD/Ct3PJx9/pLrIvo8cgb6/9hPI8xHVb7uW9Z4TkO044I+mVoYjWFoI4IYcLLZSDusWuSUWw1Y1tip38cXMbGWJ8vf3UUplSkhV4GzsATQs9cMfKHLyzX+ltByOjrmwSBWoiOfQsACIfE7KZMz7MhiTuhcjl6Qaa+IfKqztUIdWrszMXAQs5oszXB8CER/k5+ulAM+oCyEnQrGSDnVXIN6wkE7miuoLxmKP52PoT0PLXv16bN8BPjrUYak69WKsjG1SXKXnMS1t9Dr3B+AwiJb12NfaS4XPkHSnqG7geureleNvjObGK6m8J12ZusJcGzXPu7rf1RyqsX5LPnmvI0eS5Q9/eh8uCdtUVY5hHmIG//jHP0l0dHSr1jc3GZgxYzp0cGdMgPjHP/5RfvzjHyvsqN/HNuVwKPNz2+Djx6k8NBQP+MAMHDgIC7Y3iGz5YjPWt+YnH4iLc008DmX38nLkcsGi4GRoTSG8c3KZm2DNtccJb/RpqX0tQcDGBnE78HMJ8PfEKepp6F+CRQKHO5bKal8Y9aPWPxxTFRTPTIcRHROIdqodH6HjoP+PsbS0v/TvYZZCij7RENNi0K6xXxUVtEQaWzZwIiWlBvBsjqykAUHzqtT0raYl89/IyVReaZyLNLbJZxoRHihRkYxZYoJx0pFJxmt1tvoWBCAjYJq7qxp/IzQ3Xt/cPGjseRvrt+STdOXLvawa0FmX46WLBOe5tUqb3YmD4QMh4BAFjYX7lI8cOVI52t08s7SxN01/MjObH7YyJRegFiYW0cVLubIfmfkGD+5WDToNJ2PTrbbdWb5t+Ve7cKJZUiiuIH4Upaa+pXWbbp+xUg25kBvTdtN3bvlZA0jXIyGec8tbak81aAgg95aA9LXc7cJY6GzL9egBA079eWO85kZ/th3gYJESUNLSkEUuJ1f1myBEDqcHNlBv74XcmbubO2T1XpCfQ0zm/IyMiypRUvfu4VBI9q8GnfY+Gt2/rkoBOCUokW3nrmMIKdkAwDG4pZAeAbAO947trfzSyE1Zo7QZ4LDzZOHUxuZg7VkoF3vDqzg0pK4HqjrZzv7hA7CHJ25/xHINGjQIeogLisvhmOLijsnPfv6q3IY8MszK5wwP5joyQjsbi+5OV6UAY9uuqGySq9fuQs6n02oOkxoUoxisPAyOsPxuLfVGmwIOWelC7OpnLEadiAsy7jdnYjXWuZmf1yC/R8fEyJ3z5yPm6QiiutOV4pAP59Spc0j4lARlpDMAh9HCN7On+t6aAuYpQJ1j2ZW6oSmUNMLCw2XG9BmINetnVuQ139r1H21TwDFo8GuUe8zn4QhugLJjc05k1z+062+BXA7jr5hsPSkpSd57913Eg+WY3hI8f7WsVP1d/910C5oCbU8B6iP9/f1h7p8rCxcuVPPbnI6trXrSpoDDTjdQuFFW5F8HKdy/ig/omaefUUBJEzmzAjI8QnmcdpBx6G52bQoYPe6DkH6FQPPUU0/DbYIhNQ0V+m1JqTYHnLbsvLXaJuj4+fshmv0FpPwcASe7z+CBekBZ36ylbLPWWG/GfUhDGhiYW9pYyFm6Xk/SNWND+lNZWZmRgbm67777bpk0aZLVORvjY9CAY6REM58EHTqbTZkyGR6kY5X1LRXZA5m6oAEX10xb+nQNBahPYPaA75Z+J9+vWKF0ZDQuDBkyVB597HH4FflDP9ZobEBNQ/pboxRwc3VDKEk4IvIjFNBQB2ltzsbYOQ04RkpY8Kl0NrBScZF069YNwX89LKilL2mKAmT1mW42Li7OdBnpGxgYiOx9U1V+6Uors/2mjnSiLxT/CTI327NfA04rJhWBx1pmxFZ0r0NVYQgJaVlfH8ZobopZ3JjvZr2NOxQhO0hnDbkIOkhndTc7HwWYhdCcIy8Oo5g70/lo0JVGpDmcVjxtsvwsWmHcCuLpKlangHG+8sY3e85qwGnF46d/UWFhISKr81WeW/0mbgURq6tQh5MD3yYmaTMWek0Uw2J1Dr5PpXBaayoFhbGO/myEAng30uLnhXgphhXd7Nw6GnAaeU71D/MtwajslJRklbpjw4YNcvbsWRyrcWysX0f/towCjKwuBcAY376k6cED+7Eb5hM3fYFYNoL2fRWT5UdFR8mkiZNVKonY2FgVzmCktzV7rwHHAmoTbIqQSGz16tXyn7ffRl4RbE4PZaYubUMBLoSCggL11zZ36Hqtnjt3Vnbu2IH9ur6TJ596SuXB8QTHY23Q0YDTzNxTYFNULF9/8zUy6/1DUpAuVRdNgY5IAZrE4+Pj5G8vv6ycVp988kmVmoI+ZtYqGnCaoDTBhvqaHTu2yxv//ncdsGFcGPeGdkBcmMHO0nHCNZoYsj7VqShgw4zJUg6goXuB0fUgNTUFieE/R+rZILnnnnvUfmXWGrYGnCYoTQVbMlKkcuO+U6cSTVcySxq3I47tP0h69sOundjnqiMEo5oGoL90DQrgpVgCVUBS4nE5lXBYLmZmwufJkML1LFKCrli+XIYPG4bc032t5lemAaeRqUfuhg5px48dQxL4/aarmGIjpkdPufeZF2TagnvFGfE+tKrooinQHimAaSylxUWydcV38uU7r8up4wlInWpIj8qX6P79B7CdTi/l8WSNaawBp5FZwh0Xi2H6ZlL59PTzpqv8A4Nl5oL7ZOa9j4BFrUTy8evfjtjUuP6iKdAGFLCzd5RJty+QwvzLkvfmK3Khej4z60HCsaPKBYGBstZ4c2pP4yYeMFNQXEI+ZqNrPbkeP8i9Q8ZOVJn8tRjVBPH0qXZDAepuHOCL03PAEAmP6W7qF7ffzs3NVUny+IK1RtEcThNU5mZo3FfLWKjTccEOlO4wJ3aEjIXGft+IT4JtS4q1za0t6Ruv5XiUCNFF5GFmpHR198AWQO4mUvEZGePVGGJijZh8DTgm8lv2hfOzq4ENKcON82jxaL7AZsfLWghQzbd7Y69Q3KnC0JYB6Y3thXVbI8DUfxEYSGA9GmjAse4z73B3IydwKeO8HNm7C1viGnbfaGoQxJngsAgZOGqsuHv5tDvrnXE8CQf2ioe3jwwcOQZpb50bLMSmxqjPtZ4CGnBaT7suUZMLNOlkgnz62t8k43watp91U+JIU4PvP2yERPWIFU8ff+ymaQ1Gvane1D3HdBg0E3/2+v9JRPeeEjtgsDhys8MuIlrVpYb1f2nAsT7NO9wdbWzssG2vvfQbMkwe+tFL4oHNAY1OZPUHQydIN+i4AoLDEHRp3Xy59fvS2G9bbv2L+CJ7ewcdd9sYkdrouAacNiJsZ2zWw8NLYgcNFp+g4CYjuKnjqoKvR319AfU6tbUFDc43SjTUq1XR8noG5TCbVdonzcU0SmFrndCAYy1Kd4L7MLdwBSx35dg2tsXcCxGDQFS96Ak9ylJEIGkSCNQF4KgMCmvL6qFOdbtUDquaRrCrjVyd4Jl0tCFowOloT6zD9ZfxaBWSn50lyYknJSMtRYlj/vBn6t5ngPiFhGGHU4g29UCHwFJhrHcK9RD/QzHOH9xV9z79G61HVojBiAXIsZNy6oScTz6nOK2g0FCJ7tVXAsLC63BZHY6cHbzDGnA6+ANsz90nB1NSVCj7Nq6VVV9+LMlnTplidujTFBYRJdPn3ysT4QVLi5FRVFL14OW9b+MaWbX4E0k+nYj9sQ36IFUvMhr17paJt93VoN6VkmKJ37lFVi36WBITjphih1ROmO49ZNbdD4iDs3O7N9u35+d6PX3TgHM91OuSdSmrNF8IGlz8m5Yuka/ee0PFnN31+A+kz/CRYmdrL2ePH5bNK76VJe+/IXm52bLgqecRBOuBhq8Z6i1bLEvee1NcsMXJgieelb7DR6GenZw9Vl0P5/JzcmT+kz8UF3dPVY+BiTvXrJRFb72C31Vy230Py6CxE7CBoYtkppyTbWuWy7cfviOhUTHgltqnQrt5ynbsKzTgdOznZ9XeM81BbvZFqaQuBnFk9QtBhls5u3l4QrKxk9NH4gA4X4lPQJA886s/yMDRE1DFoIsZNHqcDBs/WT555WXZtnq5MlFPvuNuJQ6dQr2NS78WP8StPf1L1htvqjdY1ZuEen8DgKyQ8O69ZPIdC5W/z5kjh2Tt15+rlCEPv/iSTJhzp0FPhNoDR42Roch4t+zDd2UDQLAInBdFLF2sSwENONald4e8G3AE5ZqcOHxQfvv0A2Jrh2lTT+fCK2hmHjJ2nDz8wi/h2+Is8bt2KO5lIbiXgQAKlRrBWA+NhsNXZ+Zd98sH//h/sgdi18gpMxQcxe/cLvmXc2QhuJcBcCAsv1oruyLr9ewtM+66Tz78519kz6a1MmLydJjtHeTovl1yEU6KMxBcO2b6HBUDVzvezRvAN23BPZJ67rTsWLfaqnlgSB9dMEc0ETQFLKWAM8SbiG49VSCggU+pW5P6lcCwSJx3lMuXsuT8uVPiHxwqg0aOxuLHXuwNmSIJ6xYt0T1jJTMtVXIy08XO0V7VC2C9EaOQSoF7uNe9D3+Fd4+Gc2FPyULkc25WujjDITHl9Elx8/SWASNGiz36UF5myP1irF2FnNTs38ARY+A5vVspoY3n9Kd1KKABxzp07tB3MTAlNtIb0ca/fu0d+OEEYrGagRwc4gZ2NH2fQdqDdIBIBcSwbWtWiRPzBtWrY2Nrg1wtxXLhfCryF+fJJQCOs6szfqcp8/vWtavFefvWJuqdl+KCfFUvIDhIChF64ePrJ0EAlcqKhihFpbQ9HP58Iaq5YRcDo4m+Qz+cDtZ5DTgd7IHdzO5Sb1OGlB1XSrFTZhNexBS5ypAniErjdOxysQRK42rHmEa7H9GtO0SnciWpEYTSU5Pl4nv/xvVMm2AG3KpbiujWA+BSDsDKl8sAHF//AKVHAkqZvRfTMDghlIGpYc2JhWYr6YM3jAIacG4YKXVDtSlAtQ9FLIpFDzz/c3GCyAOWovYldb47u7hC3AmX4wiqtLNnvdFy//M/haiEdArN1AsKD0d8VIIKvyAXoxTaSK9JS5W5Qn8eRr/rYn0KaMCxPs07/R251t08kXsF1ionRyeJ6dVb/ELDIG7VBRxIVAjuRNbEoiIlQrkAXFw93MUNeVucYe3q1qtP0/WQOpOez86u7tjkzQfcjT+yNBaplJoU16S+zggKZ4ZclMJCRU6NVjVdrEsBDTjWpXeXuBuZB2//IAkBx5J67oyknkkUL+hNKgEOtYst/HEy05Jk6Yf/kcs52fLIi/+DoM8gld4iDR7CKXAUbKred6iXDx+eh378c0Sm++CegcqzOBnK46jYvubwRumM0uGTU4idPq2V5a72mLv6d/KdumgK3FAKXAPX4u3nL1G9+8nl7Euyc933Upx3GWlZbRVXQc6Ci72y4qqciNsnB7ZvVucIUh6+gRLduy/qZcmuJupR9Dq4raaeu7cfdtAYJBWwTPH45YtZde9HbgZIePb4ITm0e5vaNoX90cW6FNAUty69O+jdKArVFYeaGgj1KBSPhoyZIOEwo+9Yv1pWfvYBPIOzoWw2KJzLoFA+smcHHPUWQYHrJJPm3CFu3r4QjzxkyOgJyvyu6n3+IeKi6tfbLmu/WQRfHyeZCOc+go0drE907uuJ/DYEsBWf/leZ5qlQpoK7DPl7jx/cj+MfSk7WBXBfoVpp3NRDbKNzWqRqI8J2rmYZ2U3upPr9ZIHClaDTAxzH/Meels/f+Jd89/G7cuLQfuk1aLjYw0KUlZIkR/btVJapeQ89LkMnTIF+hUoX1ANo3PkI6/1TvvvoHTkRv89ULzMV9fbuVLqbeQ89IUPgrcxgTaY/DY3uIbPve0Tyci7Jyi8QS3UkXnoPuUXFTmWnp8mxg3uVD9HU2xfiXBwUx5aDaOd6njdvNBpwbh7tO8SduSj9Q0LhBTxTfKAjoQexJcuU9Zhd75bJM8THL1DWgSM5hDSlR/bvVdZoZg7s2X+gTJ13l4ycOkuBkNErWNWD1zHvtw4c0CEAjKmeO+r1GyhTEM4wasqtdepRVBuEMAg/bFK49qtFsm/rBjkWf0CJcV7gngaPGSu3InjTyzdAWb/skVqU3JU2j1tvKmrAsR6tO+SdCBzdkA7iuUFDlAMerUJGYGhuQAp0EHDZe9hI6TV4mBJxci5mQndTKR5eXhIUHilOMIfXb7NBPehjci5V1/P2hmNfRKP12KdIKIyf/PUf5a6nfyTZuB91N77QD/kitYUNQJAc0d3Pvogrr+HeZhKFNTcwfb7VFNCA02rSdZ2K9Fu5eqVWPFMLhk7woB4FbAYWfKj4h0ao2vSDoYmaAaHmSp16CHPwB8iwNFeP13BnSd6PsVN+wSE8pDygqcyuqraUNXZfdbH+p80ooAGnzUirG65DAQAPlbdNeSjXud7447rrGRvSn+2BAtpK1R6egu6DpkAXoYAGnC7yoPUwNQXaAwU04LSHp6D7oCnQRSigAaeLPGg9TE2B9kABDTjt4SnoPmgKdBEKaMDpIg9aD1NToD1QQANOe3gKug+aAl2EAtoPp5M/6JbkfKGznS4tpICKQmcdTTtLKKcBxxIqdcBr6JHLVJ0l2FCOOMLgxqaKPbLsuTLxFRKl62IZBeitXAz6MkOhu6eXitmyrGbXvUoDTid89sw1U3w5D7tdfiKrlnxmWAh8EzcBOr4IsJyJrVdmLHwAANU0OHVCkrV4SMzbfOrIXvka+ZpDo6LlwR//D7IVemnaNUNJDTjNEKgjnia0cD9v5n3Jybwg4THdVKBkE6mBEUHtq/464nhvRp+J3yWF+XI+6Qyi4plMzBC/pdjJm9GhDnJPDTgd5EG1vJvMYWODXS8D5J6nnpPZDz6KvaEa51wMwZKVhoXT8pt1yRrMD2Rnb4/MgnYYP2Fel+YooAGnOQp19PMQj8qRgqHsSoVKA9HS4TSmdDZIXeYAzLjwDOfM1W9KZDNe39w19e9vrGdufObbMt9Pi9tVIqq5u+ljTVFAA05T1Oni57iIK5C7pqy0WEqREpR5ZOwdHMQV6UMdsbdT/UVeifMl2BGBqiJ35LvhW7+stAR1i3CtHXZxcFfbBDeWS5jAwC1ewJs1muC85hpkIOTODKqwn0wjynsVKy6NnIezixuU4K5qu5rqC9WH6ieUvegUlL2e6piqCyU7k3+5QQFsj/qETLZ7Bf2/UlKi9DOOTi5QrruJExTFmqmpTVXLvmvAsYxOXfKq/NwcSUAa0H2b18u5xBNSgm1ZfJAcvT8Sag0ZN0l6DRxi2DcKQEEQyTqfIiuRS5i6ont+8AJ2ZEiRPetXyUmk8+SWv8PHTxHuFNNnyHClaGWendrlAtKHHtu/R9wAVoNGjQNo+dRJ9kWgSDl1QpLRlxgkaO/Wp58CgXykFOW+4vu3rJekUyelGNvOEBS7xfaW4ROnItPfBOzq4KeupbI3My1ZVnzyPsQhB1mA/cuz0M/dG1arvdOjevSSe5GcyzcoDFsIZ8iR3Ttk/9b1kowdJKqwq2hYVIwMGzdRhk+air7V3YWi9lj0d/MU0IBjni6d6ig5EUoA9TmS2oOsL3ZwUX4P8Ni6ernKkhcaGS0+gUFSnJ8vG5Yuwfa9y2XG/Htlzv2PiYePLxq3RZKuK5KJbXv5uXfDKmUhy8nKQq7hbuIfFCJH9+9C2s+NsuCJZ+XOx5413Z79Kr9aJgcAGB+98rIER0SJO0z0wyZOMyXoIqAxmfoaWN4O7tgsD7/wSwDeIElPOisrPn4P/Vyh0p8yi6APtqS5AnA8DBA6hETt0+YtlDufeM7QT9zV0M8UAMY12bNuhaz5+ktkFLwoIZFRSKcaroAo9fRxWKDelP3bNqmE8OwTubsc7Jn+1ftvIR/zLolBZkFyY4q4ptHoL01RQANOU9TpBOeok6jETgkV5VcgauCHmXINi4YLWgETPnOzMhWnsnH519gBc6zc/czz0qP/YCQgd4bIVCSHdm6Vbz54S1Yt/lSJIFzMTBVqC+CwBweRmp4q21YtU1zNM7/+k/RGelEnFxccWw7Q2SOJh+Nh4SlQ3BGBjvctwDYyqeAiypGRjxvjnTtxDJzJRFNvaeq/mHFe0rDPFUGlN7ikUly3A4C4HdvJDB07Qe3UGRrTQylyr2KrYW4l88Xbr+D8SnBEfWXi7XcpIxLvZ2/vqPbL2g6gCgwNl2f+908Sy37CDykLnNaKTz8AZ7NRRk6ejvH/SCJ69laiWREAd8+GNciZ/LlsXvkduL5CNW5TR/WXJimgAadJ8nT8kxSD4nftlNIrV1WaTXMj8oAeo/egYRKFHTJp3qUYtXvjGunVf4g8+cvfSWg37PtdVq52q+SOCyOm3QqwcJX3//YH2b5mpQwAKA2ECISVJxUAt0swxffoO0Ae/umvJKJ7L7UzQwXFEXA6oRBJssAF8S8GydDV5njgjrIBJtkX0qU7dtskOJ1KOAynugJxhT6FoMQ0pWlnT8PUnylDx08E6ERIRvJZ7OhwADmOIxXXFG68F5TkBKi+t4ySsefmyDfgVJJOHpdxsyuwnYyDArgK7Il1EfdjQvYHXnxJ9ZP5ja9iO5lDu3aAZttk4Igx8vBPfiGB4VGGMeA8gXUSEr9zG5yP/vUXuZR1UfpC76OLZRTQgGMZnTrsVXmXc2XP5nVyEAuosRKIXRlsH7GRGIDEZYgMCdhOpQrixoTZt0tIdHeIIDV5h5lAnZqXXgOHyoRZt8sy6EIOQuzoN3ykkixYz8vHX0ZMmoY9qXphwzlDXepr/IPDoHcZINtXL8OGdEelGxY7uY2qajApyL8sw7FdDIHm7IkEiGcp2DJmiFJWcwtfckD0eemLrV8ISlfh6evt6y/RAKkA5EomYLCwTfWJf1ygOK6E13V29kXlm6QAB8cpTnGzvuETpqq9s9hPglQB6HXy8EGlMB49bZYEhBnARjWIfzgOWwBkX4x36NiJkgY/HMU2GS/Qn01SQANOk+Tp+CcDsVPBrIX3y8hps7Hg6m+2bRgfN5QLgFL32rVKybl4QVJPJyqdS79ht0AB3FAMI+gwBCK6V1/1pj974qgUASyMVhu/oCCJAbDUrss6LtgaphtEm70bV8vphEMyHpvfOTq5SlFRnqRDVKI/y6Ax4yUjJUmOg3M5m3BEiXL0d7mMXRvI4Xj7B+DYQHBSVeBKYuXJX/1BiXX22O6lAsDFHSC4KwQ5osK8HHA2x9C3fAzUaNECaFSPiYrsaCiegT2qUKwszMtVnJZfYCDGAKW04VSdf5mXmfumU4fj7eunQKjOBfpHoxTQgNMoaTrHCQcnJ+xi2V0Gjx6NBWlu+fAFTZEF26VgEefnXpZcWH1CwqPFAzta0hTeWPHFogzErghXaI6GOdwGy5OLlntOeXh5or26dW2g34no3lPpTJIBarnwhKYYlAfu4wIsRT4BwQAkLvJrypx9DmIQFbwOEOOou8lKT4M+aKgScbjjA5W4dhBnCgASmdD5pKckqWtKCvKkCH9ZGRlyKSNdmbaNXI9xLOynm7u7Motfo+mMBZhUVJCP9vJw3EPFR5nOGa4w/WsDcHRBfSe4B9RXuJsu0l8aUEADTgOSdLIDABP60ly9Wtms4x8XoQIYrD97Rwe1yVxT4oIDFjw3xitXAaLV4KIYCf5Tw1EYKcqAUm6qFwNQ2bNprSQlHlcAREsT96vi1sCefgESDJ0Mxby0s6ewR3gmtnsJUFwXOQuKU87QoxAgCUYnsTc5twtORlv22O7XxcMD9wiTaJi3uVEegWw5tgs2D5x1+0i3nitlJVICXx7659gBVMAPGbtf55NSmz3M6vTb0YBThzRN/tCA0yR5utZJ6jAoXpFzKIOjG/f/pnK0sQVFJ7vC/Dxl8eFiv3r1SpMEYzuu7hBFIFYdgAXoTMJRGTpuMuKRzirzN0UYcixeAJ2wmJ44fg6iFvQ2tlUAnJPwy/FWIhb5EbZ1ElsHf/r6/8HvplDmPvAYdgedgX2oQiGmGXYHtcE1m5d/Y9LpNNk5nKRo5e7uBR2UDwAKe2aVYy8uiHPmQIciYllZKUAcup9qnVFz7evzsCtoImgK1KaAL7bXDYKZmMpTmqG5U2X9ohS9WJCZ59OURYqeuS4AEjAwTRcAAEWR8G491S6YSaeOS9qZRElPPodIa0+IU/2lkroe6IeiesUq4DsD5XJ6chL6ki6REMfoD0Nu5QrAjtYk7qx5O/Ymv+PRZyQA1iRyVmXgfMrLyqCwLpNyfDcEVjbdNZ5l/909vYXbAhdA70MfIlu7ulwQr+P4qSvKz8mGm0CxBhwSxcKiAcdCQnWFy2iB8ca+3FSGXoYeJ27HFqmEQ179Nzh/pcSgMwAAQABJREFU5+XkyIm4A2rx9xs2AuEA3k1JXybyGcWqqB6xUARflMO7t0OXk6nM5b7QB1E3Q5ALg3XMB31JPHJIjh88AA6oDPqb4UpvQggog/k6H0phhljQj0ZsoIcCCBi5MfaR3FcKAI2flgRYcmdOTyiBQ2C6J5gcj9srFQCtuuNn2IWdZGdmKJM8LWsUq3SxjAIacCyjU5e4imIC3/CDRo1V5uYda7+Xw7u2wroF0zYWsFp4+GS8FC1N1MNwcQ4bPxnnMJUo6zRTCAhuyBsTDVAj57FjzQqlqO01YJDSzfA8gc8X3sJhkTFQFp+Wg9s3q1wzPWEiV+IU7mGMlaIDYQoU0KXFJap/RnBgHw/t3AKv5C1SDouV2iIYXFlTxdA3D+k/fJQS33atXy3HDuwG5wMQNI1fwP3lyG6EbCQejhNn6LCM92yqbX3OQAENOHom1KUAFlYsOImZC++DOTlPPvjHX2TdkkWSihglhi2chTl7+cfvyrcf/kf5wsy6+0EJB7dSCe5A4Q0Ao0nkwXnGM0X26AlLlrccBweDFSvd4ANkxCsufGbQi4R3byGsRmehEA6LiUHoQSQ4INwH5ynG0WmPitv13y6WDd98IecBTozHOgFF8tL/viXrvlokNG+HRUXLeZjUj+3bDWtaAf0TcS/Df3UHz+M20gfuAGNnzpGM1BT55JW/yfbvlyGE4rSKDTsFc/23SLq1celXED3DJKZnLACprjWufpv6dw0FtNK4hhad6hsjqclJ0DGuJaZbg7+Mu0y94x5xgCJ4xaKP5ONX/6b0KnSaY1rN8rIrMLX3kHmPPCVjps/BKsXihcaVXAeBwsERb31l4TFPUnIbdNSLhXczwYQ6nVBwMyZLEkEJbYV3764sWvkQ35R1ys3DoI9Bs1QuD0Y4AwFmDaxU//3nX5SZmwGZFRC/2PexM+fKxNnzZBNCNDau+FaWwknRw9dLmezZT+qLDKJWTT85ftJt1j0PA8zsZd03X8rb/++3SpSj6FQJJTGtc2Omz0bYx2hZ/90SeF27QQxsqOupaVV/M1JAA46REp3okyIJ013OAPcxesZsCYCZ2LSYLRinob6nzLznIRkwcgw8iTeriO8imL/9IeoMHjUGnsWjxB+gwXbJcfAt7wdP4rt/8KJyrHOH4pXHzRW1qBERPufBx2UELEueAEVnWsPQb2Ph9+jY/vLcb19Wfj5BYYZ7Gc+zjz5QcC948nn4GI2XA+hjEixZ9gCFKCiXaf3qMXCwsljRcjVu1jyENdhLSEQ0ANFB7nnup2gKnBSiyKsgMtUubJsOhvMRIzYM7VAso/KaqTNi4NVMEbI7nA/pYEhFNTk2F4Bh7f7Xbk9/r6GABpwaWnSqb+Q2aNEJi45RXAEXUUsKr6duIrx7b1iM+lHqUYUYQk9dAo2y/hgbxTEn6DMoXrFQ+dsY4PA8o6z9EEEeGBaOtqrQVt1UD6zrCKfFcIAHg0J5r/pj4G/6AfUfOU4Gjp5Qt484xzZ5jRdCGHzhcc02jX2OqO6niuVih+oV1iOQdEcKjl4QMWvGb9AxsR07OweJBACxNNZOvWa7/E8NOJ11CihQwCK9DvWCYYEyVKAuGDRGMnU9LEWWFvq68K+xYmyvqSHwGvrCNFUIHlUQBWsXSwCi5v6Nj8mSdmrft6t/10rjrj4D9Pg1BaxIAQ04ViS2vpWmQFengAacrj4D9Pg1BaxIAQ04ViS2vpWmwM2kQHsw3GvAaWIG8AEx2VLtUgUfEvqc6KIp0NEoQCU4/+oW2gutV+quJuvdt0PciWZZTy8PZR5mh5nAqqigQC4hNaUd3VV10RToMBS4hjw/OQhKzTP1mI6MLsicyPAMY1Iy08k2+qLN4o0Qlk5crngYYaGh4gZP0iIk7ObbgQGHezatU+7/zLeLg420oA9rCrQTCuDdmH/pksTv3K5SgRh75Y55HRISIh7IIWQtp0UNOEbqm/l0cXWRPn36SEREhJw4cUJdkZN9SW2d4oZtTKYtuEdlxavZkM1MI/qQpsBNo4AtgKRSChFsunXlUlmHmLNsvDCNJTQsTAYOHCiu2CyQG/5Zo2jAaYTK5GbIcsbGxsr48eMlJSUFmeAMuy9mpKXKEgQH7tuyAakceiuPWM3oNEJIffgmUsAGWRFLVXrWJCSgZ0J9Y+FOHQOxr9ew4cOMh6zyqQGnCTKTzQxGjpa77loox44dlwMHDyK5U6mqwQRNR+L2q78mmtCnNAXaHQWotxkwYIAsmD8f3Huk1bgbEkIrjZuYDuRyGE80bPhweeHFF2UQ2E/P6r2om6imT2kKtEsKcC67IzPjgAED5aknn5IpU6ZYTXdjJIjmcIyUaOSToOOIXQOmT5smVLK9+967sn//fuTRLUZO2ysNAgobaUYf1hS4aRRgcnwnWFypHB48ZKg89uijMnnyZJXCtSVZBG7EADTgWEBFPhTmX5k4caL07dtXtm7bJtvxd/bcOQU6FjShL7GAAtxEr7w6KTkXCMFel+ungBOSysdER8uECROUPjI4OFi5eFgbbDgSDTgWPk9Ofmry/fz95Z6775b5kH8LCwqxrUjTOxVY2HyXv4xv4ezsbNm5c6e4wC9k5sxbVf4ZDTnXNzXo1ufk5AhRyl0lDqvAy9NaFilzPdeAY44qTRzjW6EMf5SHPbBZGv/T5foowHw3BJyUlGTZsH69BAYGybzb5yn6MiufLtdPAc5bbo18s4sGnFY+AXI89XeWbGVTXb7aNQDOFWznEh8Xr/RjkZERcvjIYRk3bpxK9NXlCdSJCKCtVJ3oYXbUoVA/lo5teffu3StZ2DLm/PnzsmPHDujHsBGdLp2KAhpwOtXj7HiDoWhKncKxhGMSHx+vFMXU5Rw4cEBS09JUIvOONyrd48YooAGnMcro41ahALcXvnz5MgBmv6TBg5uFuoYzZ87I3j17dKiaVZ6C9W6iAcd6tNZ3aoQCClz27ZXi4mLTFRSttm/Hrpy5OSqJuumE/tKhKaABp0M/vo7deYpTpYhPi4MolZiYWGcw+fkFcuLkCUlISFD7XdU5qX90WApowOmwj67jd1wpi9PTZd/ePXLpYk0Us2Fk1yQtNU22wcGyFPuIE5x06fgU0IDT8Z9hhxwBAaQcW8ocPXpEDh8+bHYMOTnZcvDgAUlKTlae3mYv0gc7FAU04HSox9V5OktlcQ628N23b59K/WFuZLReEWyoPLZWRjpz/dDHbhwFNODcOFrqllpIASqLDx6Ma9IDNvPCBdm+Y7tcQsY65ifSpWNTQANOx35+HbL3FKe4Tzmj7k+fPiVe2Gfcz89PReUbB8ScLT4+PoinuiYnkW2RPjp24Ip06dgU0E+wYz+/Dtl7KovT4E0cfyge+aLdZdq06TJ7zlzxBsAYS3h4uNx2++0yevRoZS7fvXu3FCKvtFYeGynUMT/bHnB0uG/HnBlt2GsqizMQyuCJJPS/+MUv5O9//4eMGT2mzpY85Hruufseef311+WuhQvlCixV59POa+VxGz4XazTd5sGbdd9I1xSLXAk2mUpDHfxojUfc/u5RhQjw3r37SGyvWImKilQ6nPKKupHMvAZbYuC6WPnpT38uF6DLcUaaBW7Vo0vHpUCbAo69vT32vXE1UaeiskpKkRP4Cv5sbbxEJx4wkaZLfaFIFRYWqsZMS1RjIML8WxUVleLk6CAxMdEqHaZOytWxp0qbilQOmCheXp4mubuysgLyeBE248rHsTa9dcd+Kl2g98zPYmnGOYIMr9Vg0/EnRputeu544OTohF0PgpBIyVNRqgKyex4C9VJSU1TCpY5PPj0CTQFNgZZQoM0Ah51g8vGw8Ahl3jR2qhDm0COHjzTKRhuv05+aApoCnY8CbQY4ZH/toMPhVrkRMHEaSz7EKXqXZmZmakcuI1H0p6ZAF6FAmwGOkX7cSG7osOEqgTOPcfdKRgZv2bJFO3IZiaQ/NQW6CAXaFHCox6HSeOTIkdDlBCuSkvO5hP2Nly5dqtJKanf1LjLT9DA1BUCBtgUcgIsD9DiDBg2SUaNGm9JFFhQUIAdKnCz+crFcRd7aur46+rloCmgKdFYKtCngkGjkckLA3cy97Tb4XoSZ6JgFHc7ixV/IemwLQicvDTom0ugvmgKdlgJtDzjgchyxi+KYMWNkDuJluCEXCx2+GC38yiuvyObNW9RvDTqddp7pgWkKKAq0OeDwLnTaCgwMlHvvvVeGQYHMbVxZmMntCPYf+vOf/yRLly2TvLw8xelo4FHk0f9oCnQ6CrRpaENtajFBZP/+/eX5558HsFyWE0g5wOz8BJ3Dhw/JH//we2R/OyoL77oLbuwxCIlwUc6BKuYKIpcunZMCfL76BdM5n625UVkNcGidogJ54sSJUlRUKP/617/k1KlTarMzilfJyOz23rvvIFP/Npk1a7aMx66LERER4u7hrjyWGX+jJ6a5R9ixj/GZMnq8CnF2DNbUpXNTwGqAQzJStHJxdZW5c28D92In//7360jAdFroDMhShHwnB5CUiZuiLfr8c4mNjVV/oXAeVAmaEC2sS+ejAAM0E/DMr14t73yD0yOqQwGrAg7vTNBxhrh0O5IrcdP6t99+S/Yga//l3Fz1puM1paUlcvbsGfW3atX3ypzORE0ODvZ6YzQSqNOVa3j2FVJYWNDpRqYHVJcCVgcc3p6gQxFp3PhxEh0dDfP4Ylm2bCn2lE4T+ujU31OaIld+fl7dnutfmgKaAh2OAjcFcEgl6nSYgCsyMkJe/MmLMnXaFFmxYoXabfE89pRmCAQVygQb/hkSMnU4+uoOawpoCtSiwE0DHGMfCCa2UBwOGzpMBg0cDC7nvBzAXkRMsJ148qTkF+RLYUGhAh+tVDRSrfN98gWTW0us7nwj1CMiBW464LAT5HZoqQDuqJST3brFyIL585V4Rd8c/lHU0lwOqdW5Cp85lcYbN26QTz/9VLKzszvXAPVo6lCgXQCOsUfAHZMIxWNubm5ItO0p0dDzaJO4kUqd65PPlVxuGsRoe3uHzjU4PZoGFGhXgFO/d+R8OBl16bwUMPrhlFdok3jnfco1I7NKaEPN7fQ3TQFNga5MAQ04Xfnp67FrCliZAhpwrExwfTtNga5MAQ04Xfnp67FrCliZAhpwrExwfTtNga5MAQ04Xfnp67FrCliZAhpwrExwfTtNga5MAQ04Xfnp67FrCliZAhpwrExwfTtNga5MAQ04Xfnp67FrCliZAhpwrExwfTtNga5MAQ04Xfnp67FrCliZAhpwrExwfTtNga5MAQ04Xfnp67FrCliZAhpwrExwfTtNga5MAQ04Xfnp67FrCliZAhpwrExwfTtNga5MAQ04Xfnp67FrCliZAhpwrExwfTtNga5MAQ04Xfnp67FrCliZAhpwrExwfTtNga5MAQ04Xfnp67FrCliZAhpwrExwfTtNga5MAQ04Xfnp67FrCliZAu16Izwr06JFt+MGbvhfxEZjdosIZ+ZiW1tbszurKvriels7OzO19CFLKXCtqkpdyo0lb3bRgNPCJ2DccriyslKuXr2qdgatrDQ80BY2pS8HBYjXFeUVUlpSij3ma+hI+hYUFkpubi72nde7r7Z2stjZ2WILZXtxdHQUu2rgvpnAowHHwidpBJqSkhLJuHBBzp45I0lJSXL58mXDgiC3o0uLKUC6VlVVyvHjx6WsrMxUPycnR5YuXSaHDx/R2z2bqNLyLw7Yr93Hx1uioqKkR48eEhoaKm5ubqqhmwE8GnAseIZcFHzjpqeny/oNG2T1qu8lISFBLl68qBeDBfRrzSXnz5+XxV9+0Zqquk49CpC78fPzk759+8msWbNk+vTpEhkZqTgea4OOBpx6D6f+TyPY8A387rvvyurVqxTQ1L9O/9YUaK8UoOh/AVw5/xISjkpcfLw8+eRTMmTwYICOLURZ6+l2tMbTglmSnJwsb739tixZsliDjQX00pe0XwpkZWXJyhUr5M0335DTp09Dh2ZdCNAcThNzg9xNIRSXa9askXVr10hpaam6msfd3FzFy9tDXJwcDdaqJtrRpzQFbg4FbBT3cqXsqhQUFOGvGN24hs982bVzh3z3XU8JC/uReHi4W43L0YDTzEw4A+Xw99+vlEuXLqkrCTZ+vj4yZGhfmT1rtPToHiJ2tniwzbSjT2sKWJsCnKvlFVUwbmTKunV7Zd/+BMnJyVXgQvFqy9YtMmHiRJkwfrzVdJEacBqZBXxYV8vLlfUkMTHRdJWnp4eMGTtEfvubx2VA/2gc11BjIo7+0i4pQBXNuLED5R///EJWrd6quB12NAWqgriDB2XUyJFWUyBrwGlkilC2LSkulnMwfWdnZ1dfZSOBgX5y57yJ0r9flFy5UmPGbaQZfVhT4KZTAO9O6dMnUubMHSOHjyQCcM6oPtGl4+zZs0pt4OPrK9dgiW3rYl2NUVuP5ga3f+XKFeVnY9Ti0+PV19dLeveOAlta46R2I2/LyWFna6f+yGXdiMJ2DG227nEb67e2P8b6N2pcNe1ZPh5jndaO4UY8h5vVBjkcTqXoqBDobAJN3SivqJCioiKhb5ntDZprpsYb+aI5nEYIw8P0IL4KhZuxQFUj9nbw2nRyAOAYj97Yz+LiMljCLmOGiAQGeEM57XLdCr3S0qvQQV0WBwd7cGg+YsuBWFiqqq4BdAuksKhEAvy9xd295f0pKiqF7qBAKd2dnJ3F388L43JGPyCQtpCOlZXsT77qk6eXu6JRcyBiGEM+PJdL4Y/iJZ4eLhaOvnNdxufv6OBQMygQv6KyQvmY1Rxs228acJqiL9elubXZ0lXS1D2qz3HREOD27D0BE/zX4gRQe+ShOTJ79qjrUuiRq0g8dRZm0K8lJMRfXvqfhwAaThaBGPtUUnJFli7bJtt3HJLHHp0n06YOsSjUgC9MjicpOUvWrz8gO3YeApBmY8H7yuhRA+B8Nlxie0VAd0BLigUE4qNAowS+LxdvRJ82yy239JfnfrAAb+4gqYS3srnCOqUYw9ffbMEYDstDD8yCsn9Uo9eba6OzHCOnzv9qFzW9+bCsVDTgWInQzd3GFkFF2ZcLYTmIl927E8TLy03CwoNlwoTB4uJCjqruRGmuvdrn8/OL5djxJCzWK3ijVSn2udKC9shmV1RUSlraRSjPk8Gl5JsNsqx9r5rvNgps3njzW9my5YDirAKD/CQPY/zk0+/lyNEz8rOf3if9+0ZL5TXzYFHTluEbaVRRXikpqVmyf/8xycrKk6BAf/nBM/MapRHHUI4xpKLOcdAg82KeQb6o37j+bRUKdAnA4WK1QwAbo2avZ+G25RPhmycpOUOOH0uSnj0jxdnZSQ4dSgR3kibDh/W0iKtorH802zs42CGIj1HZjV1l/jiDK1mHnIKlohivvXKlXLZuPSQ7dsTL+HGD5aWfPyQRkf5yITMXHtvLZcXKbYiV2qa4nJb6ntlgPC4uzpKXly8rVmyDtbCbTJs2VPXTHI6q/mN47JddS29mniz6aCspYLnWrZU3uJnVOMGoGGOwJQMt6binFg6Uv/xsL4V9KS4pk4NxpyB25Mr8+VPk1pmjJBccxQ6IAVXQWzRX2IZSytpD4cw/iFI8xsVpSeFCNNVXSmtMDQvr1m+fnEgh9CWJp1LFwdEO8TujAaIhUNhUSWREAMY2AgGFnnL8RJLk55e0HARADl8/H8QGxUpefpF8/sUaPN8sdLf1aSw4HerQoBYN64+Pvw30rkmrYaJ/Nd2N1/C48btqv97zUSer/zG1UX1vXl9dvfZlHfp7p+dwKuBLE4/YkQ0IuhwwoL+MuGWEClzz9PAQOyjQ2gPXwwV64UKuHDhwUjw9XWXWjBGSdSlXli3fBvHqqNy9cIoEB3lD79DQMmaYkAaOIi+vUPlYkIujJ7SPjwfaQ2RwE7OWk5y6lnx4ol6GuENQdkKwnze8qL193FtpvbimbmmPhYMlo3RQVQAbwuY1KKHZPwdwnEybYCiWgWLNSrsmHu6uMnXaSMlIz5Tt2+NkyVeb5IfP3akUwuboVFO34TfSoAq0LYQbBGlQVFwC44CduHu4iQ/o4Oxs8CY3csfkokivooIS0MhDKdJLS8uRSiNfyq6Ww5IJuqNuOeYeSc9xXr1aIblQvitvXzTgwbYBus7OBiUunwH1U1TQl5aWKQ6X9+Z8sHa8U0MK3bgjxid+41psRy2phefuLj0Rlv/FokXy5z/9CW/aXjIR3pWjx4yBebs3LCZ+UNA6qZiSmwE+nOzkwqhjOX06VUaO6is9eiKFgLuz9O/fXeLjTkhcXKLMnTu6AeBwMtNqk55+SXbuSpBdu45ALEvHgq6S0JBgGX5LH5k8cbDSewB1zD4ZWpCOHD2nxJ+jCWdgzcoRL09P6de/h4wbMwB9CceiMV/XbIM4WIUFxYUS2ytSNm8+KPv2nZCpU4bjmIuyFB06ckYB46RJQ6Grcm2VApeWp8jwABkDep0Ap7RqzU7p16+bzJk9Qi1ygoIlhWOjFS/hGGlwGH4qpyQz85KaExHhIXLLiD4ydvQA6dYtRImldPTkvbdsPiSbt8bJvNsmSK9e4bJpcxzof1QBzsK7JsuYMf3lwP6T4DZtpRdE5IPxpxQtzp5JVQAfGRkiHP9k/Hl7u6lnsGVLvMRDjKZy3cvLUwYNjIWoOEyGDe2FfDZQCVg6KEsGfpOuaZeAw0lQP6isqpVOSXxI3bt3l7vuuguTKkH27t0jR44clm++/QZWjhEyaeIkGTxkiISHh4k78oQYdT3W8ksgd5ONt9r+fcdVXphpU0aoN2pAgJfcMry37AaIbN1+SKZOHYYJz8jemplChudkYpq89/4K2b4tDm9kFwCNv1oYl7JzZdGitXIQXFN/6DgMpQY4SGOKPSu/3yMffczQjVzQIFBZssqvVoKzOiL79h6T8eMHK2VzzV2b/0aaOyPGbNTIfrJ1W7wCwk2bocsZP0C2bTuCiPs90OcEyZw5Y7GQ7JRiuvlWG17BMYwa2Qcc4DR5G5a9zxetQahJqPTtE2WRIpr1i0CD9RsOyseffC/JKRckJNgX3KSfAvfTZ1JUOMCWLXHy1JO3y5jR/cCZob/XKqCLypETJ1Ph13JKNuH85s37xdXNSfr17Q7AdpfMC5flk8/WIsfPVRkypI/s3BmPAVSBY3KHfusqIrZPyv6DxyUlJUv69I2RZbAEpqdnKe4oONgPzyNfFi/B88MLh8r18eMGNCRABzzSrgCHE4Bv4kr4BpTCIYlOSfwrxJ/yh6lZLy0iNWVhe/gg9OjeQ7lzU2xQCbTOnZMN69dJ7z59wPVMwltpjEpSxNwhrmCD2R/+17blmiQnX8Cb9QxEvWAZOqSXGj8XbH+8sYOwAA7FJ8rpMxkycEC0SXnMMaVn5GCRrZMNG/fKxAlDlYm4d+8ItShy84pk08aDsuRrmJCXbgUdS01KX+p1KsoqZBesYR98tFwqYcX56U8flLlzRmPCu0s5ziWeOg/dyDrZDAtTOSxDLS0Uobj4F8yfLK+88oX8551v5cDBRKUId3Fxkscfm6u8tWkFa20hJ+eGRX7rjFtggToHLuOALIZo9eILC8UHVr6mRCtOtQrEGW3feVTeRt+YwuFHz98NEBwNwPFVIta5cxdk0RcbINpulTff+kYByZAh3dFdG4hJdlIOMYk6NoLmA/ffKrfNHQsAIsdsj+eZrOZPYmIy2hKlk1uwYJKE4nkymHLt+v3y2mtf4vmtBtAHgxuMkhf/70cAy0glzqWlXZL3P1gh3367Wb79bgvUAd3EF2DV1JhaS0dr1msXgMOFzbciwYUKXgZMHj92TM4CEM6npUl2TrbSA1zP0iebX1RYVIe2lNsZtrBj+3YVU/L111/JqFGjYIqeKIMHDVJOUcxG11aF46ayOA6AQme/mTNGwpHNS73xCSjR0UGwUPUBF7IdItOR6tgtTHfUo6l33/4TAISDMnxoH/nVLx4C2x+MhVOuRBQ/AMf8+eOVLuYvL38sF8HBDLTroYbC+tQZrVi5E5aeQnnxx/fJQw/OQLtwBEO7FAMGDowRf/+F8sZbdvLZZ98rpz8utJYUAlsUQDQ6OhT32ionTyYhWHCY/M/PHoA5PAqil4G26E4dzq0l91CiFbilhdBznYa4sn7dHizaGADdeBPAmmuP6TYJ9MuXbwcNCqD/WSgPPzwTYG2rABbkRzhAhPzoh/NRvUrp05bhWopPFG+Yh5lcYUVFuTzzzHy5/96pCniYDpUAo8zx+M7wl+HDYsEhzRVXV0fVtouLo0ydPEyOHjkrb//na4BUgNx33zS8bHoo4KNPUUxMkMy/c5J6EaWmZkpW5mWI/54acMw9TEuPceKzFEFZR45jOxb+5i2bVcBkVmamAhlL27re6+jenXjypOrHmtWrseAGIiJ8GHxPcq636UbrK2UxzMT79ycCGFzBpQwGJ4aZXk65yUYpFYcP7yNr1u4G4ByWBXdOxKTzUOdyARRxsGpVQv8ze9YYTNBgsO/lpnsROPgWHgqT+uRJwwDiKaZzFMvOnElHMqaz0ht6FlqNjGDDiwj+XDjBQT4yE+d2wOmvuIipDSwrfKw0i9PqtnjJRsTrnIdYG6HAjCJfSIgvGqLy2AA0vB/HWz0dLLtJravITVHPcffC6fLa61/K4sXrJDY2Agmmuislda1L1Vfeh7ov6s0Sjp1VurJZt44CvQxgw4vYJSp6/fECmDtnHMaSqHx/zpzNAGcWrdphv+m8OHP6LUrcbZh7+ZoKJRg1qp/yrObLgIXZI6ksDg31F18fL9AmXHqjv8ztrEjBa4BaVPoHBvgAGM/DGlfQJICqhjvAPzeNwyHYkPApKSmybv16yLBLJeHoUZhJ828q2Yz9Sk/PwAR0UP3hMcOiuHFdY5vkUo7Boe7EyWTI+T0lPCIQytQS070ISPSi7RYTJqcTUyGOnAEADFfsfh6c+VLhkMcJO3Ag2Xwu2rqF9PX0cIUyNQaT10vRm1dwYaRnZCtQ6NevO7x/PRQY1K0NCAD2RUUEQbkeDQvasfqnzf7muAg227YdlnffXy6X4Stz730zwJ11B/hsgK7jAPQkfhCp5sCXxlGywNmdT8uWIIBbRISf2TabO8hnw7aoYCWArF69SwFdBJTK1IXVL+wjRajTp9OUeDN0SG84JnpXK9frXk1DQnR0MLidaLwQD6HOeQU45Kw8oavp3ZucYEP6GeaLLWjrDZEpyPRM2TpBhU+LekpawgjCrq5OStle++7kEOn7VA4uqgx6H4JyRy83BXD4wKlHORgXJx99+JFs2rQRoo0h34yRoLzG0clZXOHg5Yz4GzvEMLW64DnRHMt7Xr5syAdSuy2yx26wZnl5eUkYkkwPGzYcC3umBIeEICTgTSg9d9a+/IZ8NyiL85VillaJwsJQ+fKLtQAF8OPVhZOtqLhUStBvikTbdx6GuDdQvR2LwRXm5uRhwroq0ywXQP3CiU3zLkHH1dVZ0YCsfgW4ojzEI3FRhIQEKL8dvl3rF9KM+hZaUQyl4T3q12E/4uJPK7AphAj7s5/cD8vRaMU9uOCtnpWVA4X9JqWgnj1rJJTTxxGqsEluv22sPPzgNCUO1m/Tkt/k6MKwcO+aP0kSAc6boMTtA6B84P6pWKd1Fyp/lsD0TJ8nOkWGhQYqbrC8vIb2xntSFPfwcJbw0AA0YwvTdj4An26acD1wdQEH5K38l8yFVpDWTtDFOTViYSL9mW/YHSZ+zsHGStvrERu7840/fh2ruHWdIZBQV0O/mP+88x8suL11RCcH+MZ4eXnjreGHxRCqfGaioqPx0A2iRGvuygefB85p08YNykrFBcdC/wiCTEBAgDKXj58wAeLHJKU4dnV1hdUipTW3s6gOJyytIocOn1YLP+HYGYg4hrQBdRrA4qiEcpMlDhaLlNRL0FFEQIleroDI28lTTXhzHA7rkEuh852KWeIBFIJaKSLhqZynk2BTE5qgR8uMJYWOg7SurFq9G5xrhjz77AKII2OwQCvBVVUpTozK4ldeXSwffLhSgWBq6gXJyMhUIp0t4qpq4a0lt6xzDUWrQYN6yH33zJBXXvtCvobCnNxd926hDZiDygoGLkJfhYXu6PT/t/ed0VVeZ7ovNiCKOhLqQo0iCRBNovdiTDEdXGI7iUuKk0kms5LJ/XPn3pm71sy6a+yxk8lcxzWZ2I4dN7BNMWB6E0I0VYSEekdCqIum+zz76Ds6ko46Kudobzg65Wt7v9+3n/32tyNHUPoUYfGDLw6zBVguCGQ4OqKdwZB05HzJ58DKWtFiXPb0pV8BhzeOKzNTdr7xxusoAXLFTEtOfldXlrMIUtai5cuXQ7aeClZ3vPKJMO/YzQ+8JkWL744ckd1ffqE+s0wGgcYHHMws6GlWr14DE/kcXMtLLYYEJCbfolK5Lxr7VEtlMfQChYWlsmnTMvhzLLR6Pe5bWVUDS9MpgFMaLEsJWLkDZDSiyN1cndHP+0qEaTOjmjpOXQX9TKiP4LnYqNuhOECRkcGZJva/6YAWb6ZYqjrFzrfYYPULAaMIXMO1a9lC0+4SmNS5cLMPbFTILoNfUMWtavnDm58DeD5WTnO0NIUic6LRP6sn78KPHAeteytWzJIk+Obs2X0MVqZD8jJM2pYcBHZTCl6KMYwtq6yss0p70yUh0oDGlfBopr6MHEtv+9mFodjtLv0GOLxJrDt04sQJ+d3v3mgBNqNHjwaL7Y8HZaU8+eST0GfMhNjgoFYTggXl7Z42XjcnJ0e+hN9Nfj6Ul3ACDA0JlUWLFysfnIiICKy0o9UDR4uD0UxT0/j2cN8NZTEd4pimYevm5bISk+QB/DtaN66gfODr6u5BBE2VE8fjkQBskbg4OYKdd1eWn0I4qoWEMM9JS4sax05RqQQBi1VVyHkCboUiAsHdA1Hb/J4FR0Eqm4cPbxu1Te6IgZ9FsJCY6NE5VeohqtTAY3YsxTiMzRLMqAglIDy2Nkby8kvkrbe/xL29C6X1Alh/4DvTxMm1pkF3vlO08fZ2hWi1VK6nZSsvZPrV0APYaAQcior+ftStDJP0DOhyAKqMN7PsL/enl295eRVCJwpAr0YEi7ppwDEI2YP3fgEcPvjkFljL6Y9v/bEF2FB0CYcfzA9feFG2b9uGldcZEwxKMos8ND0YlzqE1+W5UmF9KigohI/FBigWVyvTNx39uOpxe28Arbt9U31qUhYnwXckMiJEIpA9sKEBIk47HBU5knAk/QoJ9pc0eCMnJmYq0YF+LrGxCcqfhlYachDGOTB0NVnozxEXl6w8e41VnhMrINATHKWjJCBqOx0+PlOnTlCiLScjG0UNckUJiTdgNczAd5ywaZtpj7Z/OVmd4f9CICTnlptToryBhw27j4ls2p9ijyvCLWJiImF9OwclbLaMwuTv9ORtL9fuLxR7ImBJ2rVrtbz62ocqlQU5umbxB7oTiO4EORfopy5cSFZ+RzOiQlrQQAE27lVCQgYcLLOh1Ia/zORAXLdvON92B2RHG7CG9U8rQnmKjz/5GCbWU+ZVhGATGTlVfvnLv4cfyPewIo5Vk7/1KtObHjJswBNi2a9+9Q/y6quvys6dO8BN+akHi0DzMK/VlX6Su2G8Dr14eX168o5D7I0BFNbOQeVtQOB4TNII+IxUw3v3slIcz50bAV2XG0TUM8j1kgDxCjoZ6FEIUIKVm+kb9n8bC4e7VCg4x5hW5qaJHxbqJ/PnTwcQl8FZ7ju8l+PSJoc2nqMBYBMfnyb79p0FWNVA14O4s04Qh/30hBKV4EiFLGPBcvNKsdiYlNdUYJNbS0jKgl/OKRV7xJijuPOJiPo+rSxGnOS9bbynI8HFLYX4tn7dIuiVbkF8TTadFuc3wI8eyQvmR6nQkL/BfJ8DcDb6ShpQEX316g3k0jkKTq8aIuJM+BWNV5x3b/s4VI/vcw6HDxBFqbNnz8BcuR/KTlMeYGrnJ06cKK/87GeyecsWWFAeICq6pUjQ25vCB280LFyzZs1SKzYndX9yM9b6zxX+BthzgoAXPFrnw0ejsznGftPSNHvWZOX1Gns+AWLiSjgnhinrznvwSH31tY8AGmsQQW3yVC0HqJ0CCNF/h2klqR/jBFJKSuhUGGC4Dr4nSfDF2QvHQopVax+bC/BzVJzN9ev5iE86qyZrdPR0TMoixaVaG5PxG/vpCg5n+fKZiqv6Fv5DNMGvWR0DMcdNTdTr8GD+Zt8ZSYWOZenSWTCXhynl7kfwaqa4QtM2/WEMUDDObflOzOS97WixoGhFn6UtmxerGLW9+0+qsRvHqO0ezmo7FdwHD52DE2adcr709UFoA55F+tx89fUp5a+0ArFg9CRm1jxy3zwPo/iN81n2j59JZz7TjLjHLbfa1Dlo8epgsNzW0XarJx7EP/Y94IA1L4QTH4tv5TRZfQhCXl7eiG/aIZs3bVLk6UuiEsgeNpj15J5y3BRT8tSqf18WLpgudNgzrGYdnZMizmR4uS5aFAV9Qj68sAsA2L7g2GD2BWdCF/jX3/hIAdMj0DtQUUsRatHCKJjSZ2PinFA6CCUaYTKwRUWFIgxgl7zz7lfy3eFz0HdcAufERwKKdlhxGFbxwx9shEXrDkDplDIPdzA31Dn5h8D4yk+3y7vvf6VCI+g4SMUwz0tlOfVWu2BJevrp1TLewwUhA2PlfcRzfXvovEyaHCRh8Ji2npQLeY0wNi84wwXCu9gJAaIdPTcUrSYi+JQ0ugkXAjYGleIg9ZmwMB0hA7/4u13yLkD7FMbP6Hx6BLMx3SvFzyc2LpbvP78O1/QEXU3Kd1eIaL6+43A+w2Wg6ZTqrRGm8BFwq3BXXCWdOcn9WTbycYy5og8O46vYLMfC/dVYoXyvratVOifL7eoAG/zTp4DDCXYXYkNiQiIihs+byUM9zew5s/HQ7cINHdGlCWc+2IY/8IGhiX4WnPz+9/96QcVOWVNUWhsiV2QfPOA/+fEWKYEvC4MfCV5ecGyj2/x8RDTTMS019YbiREJCAhHwF6UcCnFJALwzF1v14BriGzmJefPCJQigd+ZMMriuZHBJDCB0QRqPaSpYMQD5a4ohHrFKhT9c8DsDR46RY1qJVKThCF+IRcpUBiDm5RYCaKCvg6Pc4sVRMhUTfST2IyishRKZIQO0xjnAhG/0rzUdyB3SJ2bbtqWybNlMlRScnEh7TdEbg6YHN0WhKsSTMdTCOD9xB5gss3E/Av/pBRUqcu5cIlwPCsAZ03IWqBYFmtqdnGDRAofIRnouWTodTn8ByhrHe2PZOCZ6U7/0wgbuDedMRyjrW7E5OMfChVNVOApzRRP8LBv3d3cbK88g5KEWnFdwsA8WgZbXsdy/K59xSSvN+q9WdnwoP/Ut4OBu0nP43LlzUCIWqQ4ThGjq3rRpM5Rw8CfphQXqoVCgg5PQmsPUFUaj4pten/Sk5UPXk8Y4pVDoTzjB+GAaD3FXzkWAmBjmpzgd41imCmVsT0z0JLwmg5MzPdg0UbOPRuBl1PQQrKAmJbpxLWPF9MUqumvnUtmxfQn6BN8UcBF0cmNwJPvnBxf8AESS04rUenIZ57J8N87rj+Mm7FgKY4DpvNRfsV9sBC5j7PQSnoEwBBNndd8MCGpHiz8ECILZxDB/0ABcXBf6w74wjIAR87TKGXQzTstzkpvyBKf1xMYFKoCVNDD1lSpOU3yZ0Vcex2fYDw6TgfDC5jNhuY3beU2a3BlwyfNzrHy3bKSCD0Rqfz+Pds5B0/0IGFQmqOsRbAygtDxPdz5Tx0f/LaNxHPTDom6tv1qfAg4HUVxSjARYF0F000CpKA6D7mYpnOz6ys/lYRGPpnlPD6Z7GKGsWexvGVjzK1evQxwJUXqhNitXFy5OttxYmLsLXJYcRvOxnBQtTeoPWn5VuhR2rfmY5o4yiPIBlLlGM3ENzas5v5t+s368cVzr99bnVd8t+tXcF1PslnF88+/GLy3fu9+flvSxdn7rfW2mSetjLPdvvc3U287H1JVzWN5X69dpSRtr3wie5IbT4IFNdwSjjcRi6gp/tDHgPOku0R+tzwCH6ElHqby8fBUvZQyG4lR0dDRYfK82k8TYZzC8U+E3dsxYsLwhiIfxgC9KoepWcfFN+QIOZZMQtMdcuuQuBFHWrTjiwTAE3YchTgHOQT6YdTDUMMnaV9+cREL8AjNV3N3clF+ak6NTv+k4+wxwOCqKS/l5uRCrTAo7EsDZmcGGUWDbaXa0WO7MZBgcH8gWj4AljVkBw+EcWAJOjRxONaKm42Al+ud/eRdWi8USFOSjWHUNOIPjvuleWFAA843PbDbSWzCglf5G1AexDQfXzsR0tOD2px61zwCHkbANdxqUhcqIACfIuLi6YJIiFwoIMdgbuRzelA3r1yN1RQoUqqbV4TZSBZw4cUElk2IqSKWX6B+OdLCTTPdvUFGAgHMfyvIahJOYFn12jwu/t7c3FO/LwaVPU/v0V7f7DHA4APpgVFVWmcdCVGUQposLfDJsAXDA5Tiiv2vXrlVJwZigq7TUiGpvhEMck2JXmsenP2gKDHYKEGw8oJdcvXq1bN68Wc3H/pQ0+hRwqNyjD4HR6EsyCiknmG5COUUZGwbxO/13aE17+eWXVS/379+nQIdBqLppCtgKBQg0DFpmZoSVK1fJiy+9qPQ3/Qk2pFWfAg5BxTCRmm4MEwqx/pHJNGorN4tjoGXtN7/5jYpg37tvr9zIyFCR77xhLcdoK6MaPP2kNEoP9Nvghh/AgsdGdwRyw9QvaPoqkvToD4GG7h2OyPcUHBwia5DnaT1UBL7IlNDfYMMB9Cng9IhCg/QgcjoeWB2ee/55ddOSEIiaAdChPocmf95Y3XpGAYrXCcj2yNzShoGBvlpMbE8roWGS79nZh+5RBGqmIHGGnjEkOFjFLfqgfNBAGmw04HTjeTTCI7g6+Pv5qSP16tsNArazKyP2P/jgA5S0udACcJ5++ilZs2YNrJ3NzmrtnEL/3BEFsBhyOaShhlzNQHA2Rvc04BiU6Mb7QN6wbnTTJnYlZ0h6tvZgJpAzlSc9gwlIutkHBfotPYV9kEuPQlNAU6A3FNAcTg+ox1WZfkYMxNStdxQgLcnqM/+MZVM0Jp3xotJTt95RgKELbY04vTtnT47Wd7IbVOPDz8bk21W3bsGqUin1qKiglZrdIKKVXal0z8/Pb0FHVthIT7+OsBL3NoGPVk6hf+qAArT0sSqJiptqSsQ2ULpHDTgd3CjLTcZKXFxSolKkxsdfgPfxNcRYsWCf1jFY0qq7n/nw3wKAV1Y21ySjV/ebb76plMkDNTm6O47Buv/o0WOQziRAFXeMnhOtwnXo0DoQSK4BpwtPCcGGikvmZP7kk0+QHe6gZGdlaWVmF2jX010qKiqQTrXZHb+n59HHNVNg7zffIN1FhGzZuhVxgBuQCdJPZQ8A3vdb04DTCakJNrSiXETRvtdffx2VI48iAE57GXdCNr15EFLAlJvqLDI45KJWeZG88AKTwAX0q2OlBpwuPBiZ4GbeffddOQTOxjJhGBMXOSBnzvCmpFJdOJXeRVOgXykAfbzSOTIPsxEwnZeXJ59++jdVm+2ll15SXsj9JbZqwOng9pO7YczUURTRO3r0iBlsGJ7BWt0T/Lzx8pIxyCinm6bAYKQAvbhvoV59Vm6RFBSVqMhx9jM3NxcVUvehrPVsWbpsmTTCENIfTQNOB1Sm6ZvWkyMAnGKUuWEjCHmiDPHaFfPkBzvXShTqFDkiRaZumgKDkQL34TxZhtJCh89clfc+3ifxV5JRr94UUJ2Rno482CdkDhLijUExyv7gcjTgdPCUMJSBVTvT0q6Z92KVztlRk+U3P9kpk1GzuhEpOAZC22/ukP6gKdABBSjtj0c5nJ0bF6lCif96q1ISUtLUEeXl5apIJPU5YahI2x8e9NrTuJ2bRU6G/jW3kLiIWf6Mxnrei2OiZBIy/TUyxqc/VfxGJ/S7pkB3KIDwEFRylugZk2Um6oAxcTobdTplZWVy82apyuLQnVP2dF8NOB1QjiwmUZ9Z04w2ZvQo8ff17L/ocACfsl3yvSett8e3vqZxvta/d/RdHdPRDh1s6/H1ekivDrrSJ5t6Mr6edASi1Tjn0eLp5gQjR/O0pxGEhSq5wPZH0yJVJ1Q2PQ/NN4Of+iukgcxTA/x/7oLT4jUd4DE6vBu5hO7hIWu4yyqRKK+Ch8wBVSN70+gez/4wf/Mo9KXFM2p84cUs2l2UcrmDHDcjYNEb2bSyWmzu8KPRf459FJLVm2KeOzxETMfcBb2s9LHjQ/t96z1wGCzdwvI1vLfNT1nfdOVR0PFRZVFtvpIJaJq/982Vm8/auyew+Tz608OmAB6OmroGiU+4LhcTrok7RLl5syOgN/InL9zp1Tjx0m7ky0kkfGcjKx0zfWKnx7W7A/pDa8f5y6mqLPDyBVHi4jhaiZQKiCheqkneDAz8PQ1lja+kZkrkpAkShZrjXRZBcb28wlI5FZcobi5Oshx10MdQOd8Sz1p2F8cUoKoGj3F2HCvLcIzjmFFdv2bLs/XtN46vqEzOXEgSDxQeXBIzFaDat9ZORbqO6Ne3I1Zn14DTD0Tu0SXwQJbX1MlnB07Lm3/+AmKct7z87Cb59Y/8Os+ahhXzVmWNfLr/tPz+vc9Vtc0XntogMVGTej75cM7Cstvyp8+PwrRaLVMjQlGqFmVzgX1lFVUSezEVw2zEJJ+BSc7igRRHH8iZSyny5kcH5NktKyUqPKjr18f4E67nyL+//bmEBvnJjOmTVXG5DgELVsWkG3nyH+9+iUJ1XjJ96iRxHGsCxR7dg748CH3l+NjXKWGBMmvaJKTeBaBiobDnpgHHBu4uo6WrAT5xmLyFxbckADW/O+JyGsFqZKLgWSy4kbr6elVit8+GiYmTU3JL3v7kEC7RKFHTJmOSN3MVNLeOg8+Smvh91gl9YluhgAYcG7hTzgi0c3Z2kuz8YolD1c8A3/ntAw44g3p4lSYm35DMnELxBWc0HKkf+j1pPRZqOkjOjAiR4ajvFR7i136fB+IegE7NDZ3tCmOhDunJcZbH4Kqt9FzN/bD/T83qavsfq82O0NnZUaaGQ/+Ckq3UydRBt9NSY2sxNEykwpu35Wx8KhKRj5QFc6ar9xZOXZxstFS0mHQW5+BHbgNgqFerTeav2GcYzvMIFMJU7FIByc/DUAOdWlsquMNRC3374/NkGmqpD4qGPlIDVgedU1VdvdQCnFU5dvzeLj24DWOhXqym/o46rqa+QX1X2mlut9bUcY9A6f8AxzVINV4NUBI34vdhON9QbJrDsYG7PnLEozIlNEAeHfZAriany42cYihhAwSOQm16T0VtakauJEBRGzbBR6ZNDpJLidfMCzgX15u3q6QEDmBebs7i4WotTcEwqcZkzC0pFwck4Q70HgdTaptLSfntGskpLpPE69lS2eSrdDX1BgDPRTwBkgFe7nCnL5esgjLxxzmC/MYN3OqOSX4HE78YteGpTM/KLpDbVVXKw3ZCoI9MCQkQXy83jBcDteRAgAsEpRwoeNOgc8krKJV6FHgcjXJHfj6eMmmiv0zA+2gqfFscB6U/ACYr/6ZcS8+RfCjACfrjPdxkEnQ2oXAabRfg2pLabn7RgGMLtxIPqj8mr7vzKPnwy8NyCpaNCABOmzUSq2ZFZZ1cTsiAWNUAB8XpSLrkCHGqSV7gpEPunhPnEuTLb8/K9vVLZPPqmJYThfSA6TQtu1D+35/2iOc4N/ntT58UZ9ZQNzdcGae8CrHtD//9lWTnFko+JiTbv7z6J1iIRsvjS6PlJ89ukFNQJn+w57hsW7tAfrBtedtrmc/Zhx/Q3TpwFldSs+RvX52Q81dSESNXi/gheIlD3KT3eFR4KLxxl8q8mZNkNN0HCB447nZNgxyLTZTP9p6Qaxk5pni6RpY/Qrkj6NYiJgbKs9tXyZLoyGbQAZ1vQpF++PQV2f3tGQBcHhToMNXj/oyEeBmIGLx1q+aaucI+HPmgO7XlUzToOqc7ZKIA8WIMFLGTsZp+iQf4FMSqHesWi7sLLDAGmKhdqSwulnNQLnu4O8vSedMVp2NJR3JA+eBKroATWRA9zfoqiwlTUV2rjvXxqlHWJstzGJ9ppvb2dJca1KsuA8eEboqXp5u4Oo0RV1cAHb6zzGwBVvfbsJr1tFFUexSi2zBwH433eVbrjeIdXwopjF0AGg8eDJPEtBx5AxahK0npMicqXFYsjBKf8a7od7WciU+WM3FJAM2b8quXtgGoI4C5Jo7oZFyy/Of7e6QKAPU44udmRAQr8/wtcHencMyxM5el6s/14BRdZPbUEHXVaoi8X393Xt78yzfq+7pV82T2tFDlB5UPju/Y2Svy8e4juEeucheOpf3l12WQZCDfNeAMJPW7c22sjqHwwaGIdCU5Q63Wy+dHYjY1iVWYIA3QSySlZksmOI6Vi2ZJ6ARvuYwJ1qJx8kI3Q0e8jgoSchIMxwQfQX1Mm4ZJj4lMM3sM4sriUzLln1/9AHs1yu/+5WcQpdzwkU5t7FsTWOB83W3GEbcrq+VySoZkFTlCjOwAcNDXa5n5SmluVpHgujcrKmXPgTOgTaZs37BMXnl+I4DSVfWNfV6/IkY+BufzLoIbP/jisEwM9hU/WAKLim7JviOxUl5xW3750nZ58omlMtJwnkTnVoHG/zF2jHx1+KwCrVmRJsC5mJwpf/v6uPLo/eVLO+SJNXNRcRYmb9UaZc2S2fLOxwfk60Nn5CZcDR5RINm02c7fNODYyA2m/O+DILxoTPJzl1Ll+LmrsmhOuIwgHnAOYmIVl1dJHMQFehSvWDBTHEY7KL3BoBxiewBEUcbcMKvxNeV6lhLVRij9inlj2w845+2qWiktuwXflglqO7mjpOu5iusLh/jz/Z1rADYupqDbpjO4wuX/icfmQfTJlVhwhxcS0lF3bL6UAmgqcb458AFaMT9K0boRoQBNJxYPiKuRU4Jl37E4yc0rUqVu6hvugVtKhFPfTXly0wrZsDJaHCCimo/DwRP8PABeyyQjK1++zS/UHE7TfdBvg4kCmIijIf9HgsMZP85FLlxJgSfuTQkO8MSq/wCSVaNcp1cvVtcQKEGjp4cNLjO0BS0Z7tAA/UkLyxm2k6sa+ehwlPe14KqAOeQOvCC6jXKgYtbiRK0/Yt/hULCXlleYzo3vd8FlZWTmSUVVjSxfOFPFElVaEe8c4XQXOSlQTkM/lnQtSzauiJbx8ADe8vhipQdzdxmLq+GE4A5ZL+vuvftSDVHyZvltZICsldr6OiXdFpdXQteTL67OY2U+PMPHjEapYsXpWXQW9yvMfzz0ReFyGuDEFBJDpWkOx6budCMAxgv6gEly8EQcfHLSJDhwvOJuKmvq5VJCmtxC6eHNjy1QIsOgq1gJQDGFO+TLifOJUovKDJZtHKxmc2eES/hEWODQUNhEvUdFTpTf/fPPxM/TuZXOSm1u/gMxcf+JePmf//d9ZLmD8RvXq4WlKK+gRMpv3VZK37c/3GvVJ4mcUEpGHnQ6FZILPVg99DC0sgU8Ph9WqTvKm/pmTpVUwMJXX3cHIHMHXEypHD19GdkEaoFD0B9BjiuvqlYiHPUzgQjyNSvsm3uJgTXCVWGE+HiNg3/VWKv9sdzdnj5rwLGlu4kH1QPK2NmIiTp86qKKGdqwHMmTEEqQU3BTYq9ck3HYvmTeNFU3azAO7R4wJBWc2MffHENZ36oWXQxA9kQXVzcJB6fBSfkwWj39bWrrURGiSs5eSIBl7XqHXJITYq/cAAL0nbmHPuTnlSgR9kpylhSVlEHEqlLWKQeYxR1GQg8GvdEYhE+YgGWYVIGTYr15b4CJ0tu0NwwAnIPDcJjhh7fh9B7GuAfrOTTgDNY7Y6VfnIPMo0xdREigNyZPhlzLLpKpyDqYlJYNnUABHLrVF48AADQiSURBVP0i4NULJ7suBHhauYT5J4oNrUUe88ZefBiBibZg1mRYaJ5TQaCWpxqLyU5xUPUd+z2MppwRcS4PmPd3QaeyKCZSGiEOtWm4HPellcvXwx3xZyMlC2Dz/t8Owap0GWKsq4p3CgmcKX5Qivt6eYCLdJMDxy9KOnQx5NyIZLSm8R7xa2f043bTcQ9nrG3GNAh/0IAzCG9Kx12CTw4sKHMgVn2w+7CcuZgsnrC4xF1OwWEMnpyJ2CkET1Kk6GkD2NTDo7YOClBOwofWMMF4Op/x7gi5gO6JOhHLRv8W9ptg+TCui0k/BvofNyh3R40ahQoFvrIGHCFchC2vavqMrpRDNCq4eUtckPPoAfpBcWn/kXMyb1aE/PrHOyUYeheThzCrWBJRCCrQn6G/aiQYn5uLs4xzd4M3eD1cAWolwIdxb60uh50ZalJVXQ8a38E5W223469DaKh2chfxoDvTUQ3pJpzGjpUz8MmJv5wml+GEF+g7HmZqhEBweW2ncWJwBaaikkrPNg0Tva7hLnxnbsKJsFo5q7XZp8Mf1NTrcA8CCrMl0nLT4sV0rQSbh9YaVQR2gL+30rEkgyOshFK3EU54La97VxoQHHvkyAX513//ixw5cUmoE0uFhzArcqyF2TwkyBsgDkU38gGptLLoJ2PWSuG5XAuRjfhIEBoHcPOCFawElrJrsHpZvRXYuaK6DsrsAoh6pPHQmYZDZ6QP7SEe+BPRY5W+ItOmBEkyRKlPvjoGX5FKmTdnqgoh6Ii7YeQ5Y7O4Kl+HByyj0M1xVTjvA7xuQJQ4fYHJtusgIliJaWhBgmZwY4UAlkGmgx5mUYu9BuQLusbsdmFBvrBOOcu5+CQ5eSFF7hDT2D+iBMbbiFdGfin8ac6BJvkm+mAbFc+0RpFbUcGv5mMQH4VTJKTnKjoxXQfpRG6QOrao8BBYxx7IkdOXTB7Y9LPBNUzXe0QawGHFXkmT0+jPHQDYI0OIxRkET8WAPIq2cVHFslvpKpZNHw8XmTsrXGXgP3LqgjjDAW0ZPIsfURndmo8hHFBPYKy0nICBfuPFEybfC1Ayf3PsouTD+awSq3R5VR18VvJkz8Gzko7QBi9PxD5ZNJ6LegfjXMYmJo4aDbMylapHz12R84nXJRsxR8Z+nekyjPNYe8fV1DWtbbP2m6l/zYTj9ymh/rIaznbM2/PWB1/LEXj6FoLToTK57DY8qq/lyodfHJGrcGCkDow6Jlbi8PfxgCXtjhw+eUkuJWVKGUSkCoBwXuktOX4+Cc59J+G1XS5OSPZVivPlYMwElQUA/qjwYJi8E+TdTw5Kyo0CRVvSuOBmhXyHCgp/3X1UiVze4yFaNnfX2pDs6jetwxnEt5ML8Ag48dH/hMpIc8Mk4gSfCp+cicF+kogwhajIMIkMg7K4he4G3sJYeR0QBzUC/ikGArDaxDqICe9+sl9ef/szicVK6wc3/was5jdyYUJGWZGFiMPKhjObpQKCfjLsD71tuWCrhr54IgB0OibY1ZTr8jucz8fDVdYui5YfP7NecRgOACTLPLpNR3b6Ro9oHsvrkRZdaabx4himJOVBEHPcnEYrV4Hi0grZfyxW/vV3H8P8Pkm8xzkj8rsBwae5kg7xZzo4k+9tXaXGQ6BbMncaMhxeQyjJVbkJszpTbdCpsrgMvjbghJwQM7blsYVy7mIigDpHPvjyqDy7baVMRoT801tWIAlatew+cArm+FyJwL3hsSVwzkwEV8r+MeThMsBZhW10cXxdocFg3kcDzmC9O5jIY6HwjIYJfBTAIgx6iBb6DUykkABveRqWlysTJ8ja5THQ6SDxlaEDwfEMXQiDNWsdJv8MAIJq+J0esnTTH4E8ugePn5eT5y4Dpx7ASW2UTAwJlO9tWS6RmHxff3sOp7tvCm/Aca6YuEvg3VwH3xaajxWAoR+eECN2bVyi0npeSUqDquMelKdjlW5iIsSZxxbPVFyGAXhdIjmuxwjztUvmwBrkDuVvJ05/PCmO8YNC+jFwM+5I+kX6qWvi97BAL/n5DzZJEGh25PRFeGpfQSBmAyb7cHFDHNTG1fNl54alJtAGLQhWpNkvfrhFPvnmhIrS333gJJTDw8TJaaxMiwhD2o3FiK0KkdCA8bLv6Hl5BArkBtBmOIByxfxpSDzmLJ/uPakU+mnpWehKI6pdApxx7FYcy+h0JjYfC7qr9KJkIe28acAZrDcYD6c7JvjTGxZL4/rFphXeABP2GdvHYfv3Ni1VLzUMy+34gfloKB7MRwS0Wu1xjGp49x/vJj99dp1sWTMPKRSKVByWG5J8hU7wBViMUXFQP9i+UshXqcqi4Jz84OH8o6ceM52DfwE2bFycQ+GQ+LPn14HDWqsmlroefl80e4osnDXF1H/j+jyos4Z9p8MfZ9rEZ0x95/6dHY/xR0J8ivj5U22PwbZAHzdwXWtl2+MLVDIzKsVHo1Szv7cHYqfGKU7QzCHiWuRIGD5CziYTeq3im2UKRL1gNp8AsXSsyrHcKE+silGeyeig6boAXNJ+NmKrIpGKgmEO+ci1TMDxGT9OOQSOZrVW0PSV76030aYr4+uMZjawXQOODdykrooT7Q3FmPwttuPhHwGkCERczwSAhUIN/KZ8VDARRmLCeLjBnZ+Ygt87bRZg1/p6vel/63N12g/s0O4xAEiqwL2h//IBd6FmOobWyABYiqJ8WTaOGy8Cy9QpAL9HgtRWpUDmvi3GzE0WcpGi2wNwLuBOg31kYigyHqKZzP5N1+MRFoeoHez8jwYcO7/BnQ4PE0dNAms7NnEw1jbZ9G8Aim6lXCXwQL/VKFYcBjsjRG+O7ezcNrjdQhNpg73XXdYU0BSwKQpowLGp26U7qylg2xTQgGPb90/3XlPApiigAcembpfurKaAbVNAA45t3z/de00Bm6KABhybul26s5oCtk0BDTi2ff907zUFbIoCGnBs6nb1sLP0LhtqHmYGqdTYjS/6faApoB3/BvoO9PH178PxrAF5W9hGInaKLvedNgOc6LRmrXW23doxffWbGg7+WOkrk7XfRboMBo6OZMoM3QacAhpwBvwW9F0HCBeZucVyDCVlRmDSzZ8TKZMQXW7pkt/66kxlwfpWbKMYcW3pro/fOtuuDuzHP6x9xRw8I1jtwaKGFvuZinw/V1OzZOqkCUgXEWQVlPqxq/pSoIAWqez1MQAXUoM0oQdOXJR/eu2/5V9+/1f5GhntmBi83YZjym5Xq/wvh3BcTR2Ax+BmeFDT9kPID2N1e7sn7psN9xB6kYLUEl8eOIsCeAXNfQXDw2Ttp5Bs6433v5Jj55Obt/VNV/RZu0gBDThdJJTN7QZwyEVyqLgr11Vlx0chUjDvTWFhuSnDn7UBIa1CHnLGvPfZd/LOp4eRBrPelKnO2Bfbc0puyXvY9u5nh+UW0mQ2J8Yxduqnd4yPnM1xpFh9409fyVlk0LPMMkhJyxHVFMYhwt2RaTs6wNl+6rG+DCigRSp7fAww26i7SIQ4cSOnUFYtjlZ6jPir1yT26nUJ8GcC81aR0U10IANkzprXDm3U9na2tfjZkjviho64qxYH4kuLY9mp1juYvvOUbWJM8RtX0lnI++wwejSqWPjieOvjNUmMhKem1p0+8hDLfnb3WOOaQ+hdA4493mzkyC1FQbc4ZKu7h9wsW9cuRuXJKlXu9iSy161bOsuU48ZygmDiDIMORL3wmdn9WPN6GDIGqt3wh9sewXcm/Sbo8LN5u0WqBjUJcTzzAbMYH7PnUcfCzIOqWV6XP2BfxSk1IQex5Q4Sqt9F35lqwpQxsCljIY8lPqAPjyI/M7MCUg8+DO/MpcxrEYGYIDECmfdYVG8YwcbaNXHu+wDmBiRzp87HlGFwpIlR4v7siNHYR77YmvpwH3XOGxoaTMeqzIojTAxfGwQ0Hab/ag7HLp8BgkE66lVdSbkhE/y9UOZksmSjSuQEFJq7gsoFLEQ3KzIY+V9M6RY4r8qhu8kqKZfEa9ko9lYDvfIDuZiYDhHKWbycnVU2wWzk8uX226guyWtcRHrM3BIX8UZplAnI/2uajygGV9sg13OKJA1VDwqRfIr7jkMO5cnITMgMgOOcx5gBgNtKblXiVYWUny5IvTlC0jLzJRXXKS4tV9+9UQMqAopfVh0di8RVrCqRX1oqBRAZc1BVk0nOM3ML5fTFFHFCPfVAJNRyQmWLvIIyyUKBwACU1QlG3h9zQ0drAYTZ2JaKdJ+szElLnpOTo4RCqc60rT4ovTOSqIX+cWA1rOAJcZJZFH1Rj4qpQhOQAzkrp0Ady0x+YSEByGzoK94YaxM0mS+pP5gooDkce3sSODmQp/cyRCfWvd6wci6KzjkqMIiePkk+/ea4nEQ9a1ptDEMxV/erKVny5offqImbjxIxXN7/9Xd/ERdkFVy1aDbSYk6Ut/+617QdIMKJ+G/Y7uw4RtYunSM///4mshnI93tbDhyLVxUQclAylxwWJ9+wRx5V2e7WIP3n1rULFAiQ9Kz9feJconxzJE6WLYjCfsNk33exqJtegpK6qNdNSQjnnYTifsw3vGrxDCi2a+Rve47LQeQnLsH1mG94z77jcgapUsORO/jFZzaoFKAn41Pkb9+cki1r56Om1DL0GScDfah7Oh6bKJ8j/Wfy9WxcA+VpMB5ybM6OTsgPHYI+LlTpXUeTK0OfcorK5b2/HsDhw2Tp/BkqRWk8SiuzyibHeP/BMKQqdZI1i2fJ05uXSwhqWCmw4iB1M1NAA46ZFHbyAROCyuLzUKK6Iq/wsvmYxBiau9MYpdP46vBZlLxNlJ1IW+rjYarVze1jkNXOG/mAazDJy8FtsMAbC9a5ouytOyYSs97xO7eXoUIBG9NluuC87siRrCYyqj58+e1ZVKs8oPL0bl67CJnyJigRLD2zUOUS/uDLQxDvauSn31uHyhHOShzJLypTddIrcDwrpni4OcmPVj0hXkhyzoTuNOsfP3NJla0ZD+4iCJzOOPTJF5xMA0SviqpajNVJpQr1QoVNU37gRlXeN7+oGPXAq9E/9hjcF8B439F4eQs1xmtqa2UxEqXPnx0OoBkN8KoEkCTIdyijnJFdIH//4jZZGhMhj6JTlajWkIxE6UWoupBXglpUNTWqEgQBjiB5LT1f9n53Vj7ac0SJej9/fgMqP6AgITkk3cwU0IBjJoUdfMCkouWGyuLrKD87H7mEwyawgNt9NenDkO83PDQQBd6yJT4hA9zPbOg7sA0gNRfJ2qNRyeAiOJ3/8x8fYsV+IK/90yuYxG4yDJ+5ss+FaBbP7a99oNQbr/1PbEeeYOpIyIhcSrohX+w/hdrcjvKPrzyFqgdTTdUisI21upeDg3njnS9UNUvW1WIidwIVK0rUoihfflGJ7Ny4XL6/YyXAxsWk+cV8XRQ9VVXQ3I9E5UdOXZJ//NE2eRm5lZ/dukLe+mi/fLjnmDy3fa28uGs1+oq6WDjnHY4Z70rHA0Ag2CDPn1xG/z/88jASwdfJL1/cLpvB/ajk89wFg1izZJYq7fLJ7u/kL58dQq5mbwma4KXox+oKxSU3ZQryFP/DyztQDmaKDKfvD45tWHZflSn+tz98hKT0V1RVjKjwCSpTIM6sWxMFQC3d7IYCWImpC4m7lAocuYcJPkPVyFbogJXWHxxK9IzJqLhZL1Qe16PmEie80agM5gRl46Tldxbd42c29Z2fTf8hgnAfbMd+t2FCP3MhSYlx29YvhXg0XYZjP1ap5Gs4rk8x7kmIGw4ODuAiLkEXVNt0fYABgCLYz1O2rZ0n492dTBUuoathpcsAL3dZCNChfoflXFg1gtfktQkq7BC5DPZH9ZU/tW7Yrxq6pVPnE1EzvEgeXz5XiVqOqAahqoA2XYv1vp7ZtBzXm4Z6VZlyAmMimLJRr+UEU/uyeVNl4ZzJ8iiA1jh2JMg2G6AdFR6qRDzqlgy6mY7Wf0kBDTh29BxQAZtBZXFqpgRP8JGYmZPVxIRNXPneOEEfMwt6HJZduQj9Q0ZOMVGkmQLgJjqUALDdaPxo/orJXAhRIxlKYpZG4cSrhSKXpYSr+d70uba+Xnx9PCXI3wc1r4qhpylTQMGJ7IhiclGREwE60H3AumVuuAjBxBnlVMagFlctrEIN0PsQ9NjMfWjzRW02/+E58qAUv5KSgXK8TrJ84QyIfRB5cO0WDd8DfcYBcCKhm3kg5y+lQJSDP5LCtWESCCV89IwpCuxaEAuEc0bpHDeIoLSu1dUDLDskZourDpkvWqSyl1uNSU9l8aUEVL3ECr4E4ssNvN+A9cbcAC6lFbcVKCRh9T4dnwyzsf9DWHWGqRrbeQXF0IvUydcHT8sRgENLNEAvMGmpQ8nNL1RglF9cKpOgA+HEZLmW8R5u4FIAgE3WM3O/MbbhAE3L0AXztq5+ICiiMigtUizzEhbo0xZseC4gGEWnACh93aCbKiguUzoisCuKY3FEhVM3WLNoem/R8HUkWLqRTeEV2F03KxTQgGOFKDb5E57wXKzgsfC9KYcPznl4FV+HBabFKoxJwHrZpbDs3IIi9SzEha2PzYeS1soE6hYRGrGig5OBYrW4tEx2f3saitaOZ1wwJrwSh5q4AIof5EL6rOE6tRAlKY6RU1LcTQcciDu4IA93N7lz7y78dGDFamrscydDM3bV71YooAHHClFs7ifM0zsQQ5JTs6EQzlHF7CYH+0PxayGamAc1DDWZPOQ6fV0ycuQq/F1WLJiGFdvavuaDOv3AiTgCXEg4fG1+9v3NsHo5tCtSDAMHQV0IuQzqd1RrxTB0esEe7GDoqB5QyU1RivjWznXvQCxquHtHgaIGmB4Qu51DNOC0Qxib+hnK4psVFRILfcM9rMi/eHGXfG/zMlNRu1YDIRdxC+bnP8Is/OdPD8rRM5dlIapjOjSJAq127+JXlL+FP44zSuBS5JgPhasPrFtt9COY4axfXgAHuhpYicawXHB/NaCGK6xn7COV1TfB4Y2D+R3ym9Ue3CyrkNKb5dA3ecPZ0EHKKkyuAFZ31j92mQIWGsMuH6N3HGQUMJTFF5MyUK96nMyFJYoWHOoiWr/IibjB05fKY07A+CvXUPYWjnxNymMVGtCF8ZE5aBaAGmX8OFeUsPWGSHVLksA1KesULT+WL3AzOfBA/uP7e+SP7+7GvrfN1+3CJXu1Cwvf+cFvJyzIX3kwX02+YZ25AX2oC0tNy5UqOAgGwyzO0sctRNNe9WRoH6wBx9bvPyZIdZOyuAD1q2dNm4JVGZYeKl6po7DyIugwL86MyDBV9/osOCNESilKcBsbY4yo72F8kgFGOJnZ1Etx7R5iidR2HDseTnqRkwPhZFclXx86I0WIOoeNHcfifDwnPtcAfE7GJcvBk/HQpdxTgNfbiUzdD32G7gLMaCoHwpqup0Zh8Qd08IKj4expYapu+oFjcVCul5r2N/qI4++CZBfhT3QEjoYusDgtnj+9yZHQ4lz6Y48poAGnx6QbJAdiwuXCU/ccQIOerfR/GQXfEuvLd1OfMfnobxIDRz+acE/FJsitiho1UZkVcBREiEJYZw6fuShnoITOhAnbaA4jhiuLUsvtRYhhGqW8dieFBsh3AJS3EQaQAu9ihhFUwiyeCzFq//F4hBOcUF7Im9YsgEjD2uUmszSd8hpbW36Mi+KdqhZycsRP1fD+CETJ0bjuHQRf0sx/FOO4itgoegUTiHg68ylx4GjQZRE8i+fOilD7vwmxMh6cTilCJarQxyKEghyDn847cCakpzH9mGKmTeSFTZfEW1dN3eZ+NnVXv5kooHU4tvwkgHFgRHZaRp5kZBUg3ihAZkwJQq1w63oJ81DV5BspU8ODEWPkLelZeSo73kJ4znpCrzEzIkQSU9LlD+99gSBGN3ls8Wz5ux9shkexiCdCCmao7RlquzeCHNcuQSwVtjOz3g93rZU//GkPYraOQYGdK1OQGoImbYYEXEnOVNkEn9m8QpbOizSjwXBGWgPIuJ/1ZorkJhiORIQ4wQRTX3koM9CSAapn4hIk9XqmTJ8SjFiq9SqWimZ0RqgzxahqALdJ8Lx+fvtqBHw2yIGjsZKUliVROMYZOXPKEEZxGQGZpdDfrFkaLc9uX4UQCkcFMhRR2ccReJmu37an/H0ktjswlSucEHVrSwENOG1pYlO/MHCQAYZLYqYiBCBSPDBBmpf1jobSKGEBPgg0XCHJmHSNEJ/48kD81fb1i2QsFLpXk68r0cqN5ySPAaDyxOcd6xaLI6Kxje0qlgrbxjgMl9UIrmRowxcwjSfAyS4tPRPdAXcBTiR0gj88fKNl3fI5iOY2xRk9iqDOKfDFeXzpbIABfGOwb5uG33w9XOUxBH66u7lgQgOYsBun9OypIfLLF7YgS2G8FCDg0wu6JMZSIYGGTAYYrUWoQjhCOtR5cQzN9fNmTIRe5kn5HGEYp5HA6+CJOLkP4CZnF+DnLVseWyDrV81VHs4mxfcj4gkz+bJ505QlbqzyMWrbTwJbFMCY4mmQL3IOmdmrNiMasj9owLHlW49nnpNr5cIo9VIredt5YH2EmAxME/HME0vkfuNiTBFMX+hCyAuEIjjyZ8+th6X8vml1xyRVqzomPid5aGA723HOMejPEgQ8zoGuJKugFM52N6HruY8ATyec1xeBoBCjiBZNk3EEOIHliLlaGhNp8suhubp1AxBOggn9Nz/eobYoPVMTMDkBGFdj/Kuga6FeieNQ4RY4z6I54bIAgZlU0ZiBDMeR+YgI9ZNQxGTlb1omuYWlSHlxR1xhwaKS2APe0kxDYbay4VyBCK945dl1ba5v7irOS85m0+r5snHV/PbHYj5gaH7QgGPj951zaXiThYnzuLuNQDIcrxatadJz4io+ovV5O9pOIMBrzKjhEgEvZiqSVcNvStRrOtbyeuxDZ46C3KdVL83n5fUUHagw5vWbmum8xjeLd+4C8YquACEAz9BgcFakAUDQ1Efs0ASIxlHc3E4PjF3Ue7vXbLHX0P2iAWfo3vvOR948d63v29F2boOY0tiOn4v1E/byVwuw6dKZ2McmUbJL++udek0BbaXqNQn1CTQFNAW6SgENOF2llN5PU0BToNcU0IDTaxLqE2gK2AYFlA5M/Rm4/mrA6Sbt6fhFz1bdNAVsjQIsHMhKE5aKdY6BCvH+ahpwOqQ045FQCgUerUaj+ZRetow41k1TwGYoAIsjg3ZLkRHyvoUFbuTIkcik2H5k/8Men7ZStUNRcjIMfHR1dVPlQ4qKTDtWVjKPTKI8sSoG+YINR7WOzDXtXED/rCnQXxQAC1OPLIlxCenwrM5WVSZ46eHw2h43bpx4eHiA6emfBVQDTgc3nYXWAgMDJDQ0DMmsrqs9b1dWIclVivznn7+Wp5Cf1x/1mEa08v/o4JR6k6ZA/1EAohI9BaqRdOxKUqb85dNv5VpGlvn6Li6uEhIaKp7jxytPa/OGPvygAacT4vr5+cnSpUvlwoU4uXkTaRzQCuFC/9fdh5GGIQuObcEqKLCrQX2dXE5v1hR4iBQYBj+oRilDocHLSelIQJ+jSuPwAkxGFhISIosWLgIH76S8yh/ihds9lQacdkkDZ1O45Ds6OsqqVasU4Bw8dEiqKpmIqVHKy2/JsdNx6kXvUt00BQYrBUz+kM1iP59XHx9fWb1mjUTHRPdrtzXgdIHcoWFh8sMXXkRhtUoAzwW5detWi6M0d9OCHPrLIKYA9Tbe3j7yxBNPyM4dO5SOkgtrfzUNOJ1QmmDC9Anz582T4b/+jfz3f/9Zzseeh3hVioxw1ZB9UXfJtIR0cia9WVNgYChAjmYEAktdXZGVMTAQnM1j8uSuXRKGhZTZBvqzacDpArUV6GBlIOgETQiS48dRx/rMacnNzZXq6iqpR8WC3oDOXRR7q2c1AaR8oBl+qDYmNm9oaFDDHzNmTK9oass0JEDUoaQynwvSoTfPBI8dPXqMuLi4yOTJk2X58uUSHR0tTs7O/Q42vCcacLr4ZBqA4uvnK88887Rs3LhBiotLIGbdVqIWk5f3tF2/ni5XrlyRRYsWKnaXOqKh14ZBL1Yuly9fRl4aZA9cvEjl4hl6dDCNOD4+XvLy8mXhwoXKbN3TZ8LBYZQCG3d3d3UeAhgdV/tTjLK8hxpwLKnRhc+8UfRYGDt2rEyaNFHliaHGvyfNWMmKURAuPz9f3N3Hybp164bkyk5aUD926PBh8fIaD/BdrGhsAH1P6GuLxzDXT8Xt2wDeKwqAg4KCZMmSJT1+Jkg/vsg9Mk81uaaBbBpwekh93sTe3rxHwO7m5uXJiZMnJCHhqnz33Xfq4Rpq4gTBhknQL166KCdPnFC+T+R0YmLmqrI3PbxFNnkYlbqJiUnqmbiWmgrR/YzMmjVLOenZA/j2bGm2yVs5uDrNSUZu6fr1NLmEiVaBulJ8T0hIUA/X4Opt3/aG1RYKCwskFsr44uJipRvjRCOgk05DpXGstbW1ygUjNSVVSktv4pm4JHngfnujxxlM9NOAM0B3g5OssqpSLl68KPngcmgtyMP7sWPHkGi8YUhNNLL7KVjNCbh3Ue2yrKxM4uLiMNHy7GaideUxI6jQEBEbGwuwKUE1iga1IJHbY15oe2gacAbwLubm5Mq5s2flNmR2Nk40Pmw3bmQOmYlGsZLcnVKSYrKxcZW/di0V7gex6vtQ+UOOjhzN1atXzeJ6YWGhXAD4VuIZIa1svWnAGYA7SNb5DqLOE5OSJCk52dwDmoQzMtKVHsNeVjTz4Dr4kHnjhsSeO6eAx9itCNGyZwHGtwBG9jDRjHG1984xlpSUyDnQgZyu0ehkevXqFUlLSzMldjc22Oi7BpwBuHEUp8gycwUvxUNm2cjlnIQSuQS6DHufaATeevibXLp0WVJTUyzJoLg+6rOSoEB9tIdWwBYntIEvXHwoVtbWoihhU6O4mZmZpSx4d+5Ap2VssNF3DTgDcONY5zojIwN6ivNm1tnoRlVVlaSkpMj58+ftfqJRZ1FQUICxxiplsUEDvnOi5eRky+kzp5RTpD0rj7mwUGSKwz3PzMy0JIP6zMWJLgMUr5jBwJabBpx+vnssvVKNkAjK6jk5OW2uTtMnWWsqj6nbsdeJxnFRUc5V/fLlSwpgWhOD3N6FC/GKTvZipWk9Rn6n700arJWxseeUHq/1PoZO6yo4PltvGnD6+w4ie2A+VnXK6q2DQI2uUIlK61ViYqLdmsgpVpaXlyuFKC0z1hp1Wunp1yUWHJC96rQIvMoUHndBcbbW6MDfyAlSeUwO2JZFbQ047d3hPvidDxctESlY1RMT21+tuPLnwyR87DhM5Jh09srlpKenK/M3Y9Ho7Mh0l2wc7+jRo5WncTGUx6dOnsTKf9OmJ1p7jxM5NyqJKUKXlpa2t5vKxURO8AYU7D31bG/35P24QQNOPxKbq/otrOr0MaGDmwuidz09x7cAFE40Nzc3JXbFnqOJ/IbdmcgJKDUQKyku5eXlyvTpUTJ79hw1bt4Obvfx9ZX58xeAPp6Ky6GpWJX47cf71R+X4gJEbpa+NgRc3nsDeHl9BlkyIx8Bmc8CdTn3cIytNg04/XjnTMriGypQMyAgUNY9vk5WrlwpzniojMYUAtHRMRIVFQWRqxwWq5N2F8RI4C0rK1dm8AULFshv/8f/kF1P7sKkYt1xUwsEfV555RX5+c//ToJDQiUTvknkhGzdSmOMj+8UjWj+J4gwOHMhsu9FRES2ABxfAO/GDRtVlDcV6RfiL0gJOCFbFatsW+VtefcG+Weu2nV19eoB8/bxkV27dqq8JJcuXlLKQsP5j/tNmzZN1iAb25EjRxSnU4k8yi4AJXupFEHgHTFiOMB2hRB4/QMC5PPPP8OUa/amJR0CkLtlxYoVMnfeXETkV8Hz9o7K64JoxEF+t7vevZKSUiU6/uAHP5RJSB/x148+xPNQr05A0Sk4KFhe/tHLyMk0XD799FOA9G3Jg87LF89Q/6Q97/pYurKnBpyuUOkh7cPM+KFhofLLX/xSIiMj1EpWghQXE/BQGeZQKpIZyPncc8/J3//9r5SyELG+6IH9TDJa4ry8vJCKw1uJiwzc5OrduhGYKF5ERk4VfuY+9hDAaIyTyds8x3vK0888I/7InX3gwAFJhn6POjw25rAJRZJzJs1yQ/UQH4BMenqGAihbjTPTIpVx9/v4nROF+pmpkZEQl6ZDTyFyD8Gb/gH+iIqOVg8Ru8DES6nXrsn+A/ux/ygkTZokzk7kbuwHcAxSkyZMmdBR4z4McuU7uR57ahyPH0Sm8CmTlVL4yNGjLVwlCMizZs1GknNnxd0x2fms2bNk4sQwm6WFBpwBeIK5ghE/uGq7YhWbNxeZBIOCzT2h9/H+ffubZHvzz/qDHVKA+iymqj0KsDl96qTU1Ji8jKkkDg8PV6kpDGW5Ab62TAYNOAN49/gA0XN02vTpsgypH1khgo1cTlJSonz44YeSnZ1tt744A0j6QXFpcji0ONEn67PPPpWsrCxzv1hVYcmSpViIJnTKBZoPsoEPGnAG+CaRy/FE5cPHHlsjU6ZMMfeGXraHDh2UP/35zyofChMz2ZtIYR7sEPygwAai4gWkEn3/vfcRLc/UHCZzN3U3MTExshwKc+qwuDDZS9OAM8B30uByZs6cKVu3bhdfXz/VI/5Oh7CP//pXefutt1TlT/5mq+bQASbzoLk8gYb3sA4m/lMQof7rD39QSfmZG5ttFPR8kdDzbd26DRaqILMCedAMoJcd0VaqXhLwYRxOpShrmD/xxEbJyc2Wz2D+ZJVPAkxubg5Eqw9UfNV21BGaOXOG2pfXJXfEfXQb3BQwOFN6FZOLKcBCchypVD/5+GPl/FhdzeKKpmqYEyZMkB07dkKcWizU7zR2olQf3CNv2zsNOG1pMiC/EDxo/nzu2eek7GYZ8hsfVrFGBBRGCe/ZsxspHFIhej0mdJajudQNSdcdRo6AjudRGxa3kGr1AWt/QWS0oLzBCXCSgimw2cax0UjAeCl6lzNY9RgUxMeOHVU6G0OMegTjD/D3l61btsrmTZtlDJL0cyGyt6YBZ5DcUQILJ1lERIT89Kc/VfEyrH9VVFSoekjHQKazYDDjwYMHZcaMmdg3HCKYr/JUJujYauPYOS7me2Ej01aF9KuMHaq8XWHVR8dWxtqARGs3oY/LgfKfpYCY44dcq2GN4jjoLkEHyK1bt8qzWHDom9OZu4CtjL91PzXgtKbIAH7nxKN3KbP0//rXv1bOcXv37lXxRgzi5HZGWDONARM1Me6G9YZYsoacgC03RshXVJhKKNNBko6Qv3vjDTUZOW5bbOw2ORiWiGaYCp06W4+FoSzh4REQo3bIli1bZDzipgzHP1scc2d91oDTGYX6eTsfSHI6k2Gx+vnfIY4oOFi+/vor5YFKvY7xMNLNnyw6X/bYOFa+7LVxkfDy8lZVMAk2ixcvVmKUcX/tddwacAbhnSXoUFlIT9Pnn38eiuJZsnffN3IWpVNykHidJnPqBMgJ6GY7FKBrAwN1mSGAHuTLli1XMXMTYI2iDs8edTat744GnNYUGUTf+QDyIY2OniNTwqfItfWpKrE40xmwUmd5OYGHNajvDKJed78rBFjqOmgaNlZ4BwcHNTlHjBjR/RMOoiOGIeGag8NI5dTJVBthYRNlDmp7R8+ZI0EAGo7PGPMg6nafdUUDTp+R9uGcmJORD+QYKBYJPDNmzFB6HKYnpWcq65vX1FSbFKsQxWyhGWZiJT6iw/fvP1ABqydOHDdXbqAug45voaFh5gnJ43iMtdbeNstrtT6us23WrtXZMbyG5XEjsGDQkc8PwZkEGD8/fwCpk+oKFcNDCWw4aA046tYP/j98iBlVzeaBldLb20vJ/wNZmP5hUI0TmJPuA/gaMeudSIU6LbmBnfBHWb16tcqD8zCuNRDn4Pio0KcxgPeQYx1qIGNJdw04ltSwkc8Ute7gZTRj1TW+29u7rY9vKANM62dRA05ritjgd0sW3ta6TzDprP+dbbe1MQ/l/vZ9LJU1kRsPmW6aApoCQ48CfQo4jAUZhjpMzQ3JlBj/gxe36aYpoCkwtCjQp7OeJVpHOYwyU5Rgc+dOg6qkaCQVMm/UHzQFNAXsngJ9CjjD4WNAR6dhTWF5VJ5VVVWjomSFDQcb2v0zoQeoKdBnFOgzwKHY5IDkQTRvMvKVjYBDsKG3LM2EumkKaAoMLQr06axntjKmXHB3d1NUpbWBUc+sOmmv0bBD6/HRo9UU6B4F+gxwCC50eGL6BD8/f3OvqlXFxTgVmKez15nJoj9oCgwJCvQZ4JB6tESxlg5ztxgxMSzGzkRSZ5E4mkpl3TQFNAWGDgX6dMZTj8N8H3PnxihdDslKzocpFXbv3q2qUDI4UTdNAU2BoUGBvgUcgMtIRP1ORxkUplgwXNSZbCkWHM6ePXtUgS8tWg2Nh02PUlOgTwGH5CWX449crevWr1filfoNQMTUmR8jiTSrDVKBbICRviWaApoC9kuBvgccgAtzti5dskRWrFwlrCjIpkrapqbIf/3XH4RpCQg6mtOx3wdNj0xTgBToc8AxyMx8IE8+uUuJV4bexpQYPE5ee/U11NI+gITZt1XCKc3tGFTT75oC9kWBftHYGiby6DnR8sILLypfHFqq+DtBhnlQqNe5npYmq1atQla0MHPZW8Nfh/vqZp8U0AuM7d7X7s7LNoDDm2+YsA0y0EOY2ed782CwY/Q4Zl2lCoDMO2+/jWqSaSqYs7a2Rq5evYL6SwVyLjZWiV8s+BYYOEFVJmC6Se2ZbNwN+3vv7kNrfxSw3RE11De0KONDjKDDb3tY0QZwuLOjo6OZAgSburp6pXNhpvnePBxMHOWGsia7du5UPjh/Rt1sgg4TgjOwk+byQwe/lYvxFyQkJBSJpidLENIyesOXZ9SoUeaYLHPn9Ae7oAC52KtXrtp8bma7uBndGAT96Fj6hpkoDVwg0DB+sj0GwSrgsNaR0e4h3yyLdlXjxRMRgHrTCDr0zXnqqaeUb85f/vIXFAi7bC53wvMb5U9Yf8nJyUldd+RIB3gS9ubK+tjBSgFKy3XgcukUqpvtUIDgUoY6aUzibwAOpSPWSzP0tK1H0wZwyMUwHIEIRa7jLtJJEMWKi4rFH4rfh9HYOUcAyYYNG4S1lD//4gsUdD8muUgMzkJvRud5fSqW+dJNU0BTYHBRgBiRcSND+dIZPaMVmvjRXmHGNoBD0YUWJXIWnOimSQ+FLkqxzpkz2zhvr9/J6bBTM1FlMig4WBUCO3zokCrvWlBQCOC5JbV1ELXu946j6nVH9Qk0BTQFrFKAonAiShcb9dG5k4eHh6oY22UOhwpaAs64cePMnAVFKnXi7dutXrinP5KTYcE3smCPr10rMdExkgLfnEuXLklSYiJEqyJlvaqBjuf+veak4T29nj5uEFKAYjKeAwb1lpSUtFgtB2FvdZeaKECfOVZGTUpKalFVY9KkSaYcWBC3rLU2HI4R4U3T9I0bN9QxfBhYiD0/Lw9F1wN6rcdp3RFyO6wh6YY0FosXLZJ5c+cqsOOASktLVTF41tbWzf4owMeSK+WZs2dlz+4vVVVR+xul/Y1oOAAnHgUZs7OzzIsEdTqzZ882O/daG3UbwOFOZIuiUR3w2LFj6mT0CmZx+dMoNfs0lL191RTw4OFjozWL/QgPD1ffDb2O+qL/2A0F+JCyTnoDXvv27rWbcdnzQNQ9g5vMgf37FWdqzE1KRfPmzVORBe2N3yrgUMSZg1KkXl5ekpubq5S4ZWU3YbI+iFrIq2FlcuvzOsiW4NNe5/Xvtk8BPry0TN7XujqbuZnUz1yE2uPUqVPKgm10PCIiQjEIrf34jO18txraQF+cKVOmKPbI2LmyshK6lYuwJh3XeWwMouh3TYEhRgGDI/3kk08kvyDfrF6h7pdWZ7rUcJ/2mlXA4c40bdErmGING61VRUVF8vlnnyvxqj0ttNpZ/9EU0BSwSwpQx3sSnM23iH2stvCbos6XZZktnYatEaBdwKFZfMGCBRITE2NGLHI558/HCtGNimQd3W2NpPo3TQH7pABFJapY3n77LSmw4G7ou7djxw4JhntLex7GBkXaBRyyRTzBToQhMJ8NG5VDNF1+AUc9Rnffu3dXg45BSf2uKWDHFKBEc+tWhbz33nty5vTpFrqbGTNmyLZt25TvXmckaBdweCC5nOXLl8umTZuUbZ2/0cknM/MGgi/fkmNHj+k8NiSKbpoCdkwBgk1VVbUwDIlJ8yyjAah6eemllxD7GNIpd0MSdQg43IFJ0J9++mlltTK0z3QEvHr1qvz+97+XI0eOIPzhjuZ0SCzdNAXsjAIEm7KyMgU2b7/9RyVKUZ/L5uLiojibtXDaNRLrdTb8TgGHIDNt2jT50Y9+ZPaJ4Umpz7lwIU7+47VX5auvvtLJszqjtN6uKWBDFKBKhWCTnZMt77zzDjJz/iec/LLNVilaspctWyY//vGPzYalrgzPqh9O6wOpeWZiLHr+vv7660gpcV3tQtCJj4+X23hnZzZufAKsVbDKp0PvUcMhqPX59HdNAU2BwUkBA2hoFLp8+bJ8/MnHsn/fPpXBweBsCDbz58+XX/3qVypZXnuBmtZG2CXA4YG0r1MTXV9fL2+++aYZdJjLhnFWpVAmJ6ekyLp1j8NLOUZ8IYqRO3oARTOd+HTTFNAUGJwUIMiwhtwjeKfXd3JKspw4fkK++eYbuXgxXlmkjZ4zPzmjEH77298qCzbBpzuty4DDk7JO+LPPPqtYLWqrmSaUMU5EvsLCQvn6qz0qt828ufNk0aLFMnVaJCxcAeIIsxnBhwPTXE93bs/Q2JfPz6OPPNpisGoScCLgRdZet4dPAWM+MoFWTdVtyc/PlwSU4f7i8y+Uky8t0pb5rxiBQM7mF7/4hSxBUQRmluhu6/adJOg899xzKpqcGfsuIoCLSiU2cjup4HKys7Lk5MmTSucTERkpYaGh4gNttqenh4wd66g8lXWG4u7eKvvcH5Aid+FeQcvHg0aTMpIjvXPnrmLjM/EsWT709kmF/h8VyzdV11RDTVImBfkFKlA7OTlJUsDdMG6yNc0ZtE21yk9+8hOJiopSaUR70uth4Dh6NPcZ0HnhwgX56KOPlKWKOpzWEd1EUJrW3dzcFdiMH+8lztBsqxWrZ5ftyRj1MYOZAuR68fBnAVgSsboaydYYxxcVNUOll9Ui+cO+gYhfQ+waCxiUlpaojAxMskedbGs4oCWKKSe2bNmisnQGBgZ2yfzdXo97DDg8IVnhgoIC2Yso331QLCUihw3ZstbA0+LiZJPxD26ELX7WXzQFWj/sXLBMeWX1s9IXT0drelteg0ATFBSk9DVbt25VFinqb3rbegU4xsUJMBkZGXL48GEUtTuhdDvU6bD0i6HZNvbV75oCmgKDkwIMS2C+ccZFUWxas2aNysRJNUpnIQtdHdFDARzjYtRwkzWOi4tT5vI01JliwCflcybIphhmmY7QOE6/awpwYbLUGxjKYhOXo+nTFxSgIYeKXxZHoEKYYiwrpTz++OMyc+ZMpad9WEBj9P+hAo5xUrJq9EbOQVL09PR05aND0YvKZf5OHx39IBnU0u98Hkw6nES1KJEifPinTp0q48ePb6NX0BTrPQUIJPQOZtIshiewmAE5GyqHCUB91bptpepKRwgmdBZkQh6+CEDkbCh6GTWounIevc/QoACfiw8//FAtTuSC2RhS8/LLLyvza0e6hqFBoYc/SgIOdTJ80YjTXwxAnwBOa/JwMHQQ4otWK900BSwpQGfS1sXTyO6Tzff29rbcVX+2cQp0Gktl4+PT3bcBCpCDsWZc0JyNDdy8bnbx/wM/Ce1OYYpAJwAAAABJRU5ErkJggg==)"
      ]
    },
    {
      "cell_type": "code",
      "metadata": {
        "id": "gNxZoATHiaKh"
      },
      "source": [
        "# Building the encoder layer not the whole Encoder itself. \n",
        "# This has the whole block of layer except the positional encoding \n",
        "\n",
        "class EncoderLayer(tf.keras.layers.Layer):\n",
        "\n",
        "  def __init__(self , d_model , num_heads , dff , rate = 0.1 ):\n",
        "    super(EncoderLayer , self).__init__()\n",
        "\n",
        "\n",
        "    # Defining the sub-layers of the encoder\n",
        "    self.mha = MultiHeadAttention(d_model , num_heads) # multi head attention \n",
        "    self.ffn = point_wise_feed_forward(d_model , dff) # point wise feed forward network \n",
        "\n",
        "    # The layer normalization layers (Add & Norm)\n",
        "    self.layernorm1 = tf.keras.layers.LayerNormalization(epsilon= 1e-6)\n",
        "    self.layernorm2 = tf.keras.layers.LayerNormalization(epsilon= 1e-6)\n",
        "\n",
        "    # Defining the dropout layers\n",
        "    self.dropout1 = tf.keras.layers.Dropout(rate)\n",
        "    self.dropout2 = tf.keras.layers.Dropout(rate)\n",
        "\n",
        "\n",
        "  # Initiating the forward pass in the class method \n",
        "  def call(self, x , training , mask):\n",
        "\n",
        "    # At first we pass the input embedding into a multi-head attention (not the positional encoding in here)\n",
        "    attn_output , _ = self.mha(x , x , x , mask) # (batch_size , input_seq_len , d_model)\n",
        "    \n",
        "    # Dropout \n",
        "    attn_output = self.dropout1(attn_output , training = training) \n",
        "\n",
        "    # Passing inside a layer normalization layer (also initiating the skip connections)\n",
        "    # We are passing x straight to the attn output (residual connections)\n",
        "    out1 = self.layernorm1(x + attn_output)  # (batch_size , input_seq_len , d_model)\n",
        "\n",
        "    # Point wise feed forward network \n",
        "    ffn_output = self.ffn(out1) # (batch_size , input_seq_len , d_model)\n",
        "    \n",
        "    # Applying dropout \n",
        "    ffn_output = self.dropout2(ffn_output , training = training) \n",
        "\n",
        "    # Applying layernorm (and initiating the residual connections)\n",
        "    out2 = self.layernorm2(out1 + ffn_output) # (batch_size , input_seq_len , d_model)\n",
        "\n",
        "    return out2 \n"
      ],
      "execution_count": 29,
      "outputs": []
    },
    {
      "cell_type": "code",
      "metadata": {
        "colab": {
          "base_uri": "https://localhost:8080/"
        },
        "id": "_bO_ovQzu4OD",
        "outputId": "40d35beb-6628-4470-9d81-d5fc2ff3fe6e"
      },
      "source": [
        "#Passing some dummy data into our Encoder Layer \n",
        "sample_encoder_layer = EncoderLayer(d_model = 512 , \n",
        "                                    num_heads = 8 , \n",
        "                                    dff = 2048)\n",
        "\n",
        "x = tf.random.uniform((64 , 43 , 512))\n",
        "\n",
        "sample_enc_layer_output = sample_encoder_layer(x, training = False , mask = None)\n",
        "\n",
        "sample_enc_layer_output.shape # (batch_size, input_seq_len , d_model)"
      ],
      "execution_count": 30,
      "outputs": [
        {
          "output_type": "execute_result",
          "data": {
            "text/plain": [
              "TensorShape([64, 43, 512])"
            ]
          },
          "metadata": {},
          "execution_count": 30
        }
      ]
    },
    {
      "cell_type": "markdown",
      "metadata": {
        "id": "44xJf78UvdNq"
      },
      "source": [
        "### Decoder Layer \n",
        "\n",
        "Each decoder layer consists of sublayers:\n",
        "- Masked multi-head attention (with look ahead mask and padding mask) \n",
        "- Multi-head attention with padding mask, \n",
        "  - where value and key recieve the encoder output as inputs\n",
        "  - query recieves the output from the masked multi-head attention sublayer. \n",
        "- Point wise feed forward networks \n",
        "\n",
        "Each of these sublayers has a residual connection around it followed by a layer normalization. The output of each sublayer is `LayerNorm(x + Sublayer(x))`. \n",
        "\n",
        "The normalization is done on the `d_model` last axis. \n",
        "\n",
        "Likewise there are N decoder layers in the transformer. \n",
        "\n",
        "- As the query recieves the output from decoder's first attention block, and key recieves the encoder output, the **attention weights represent the importance given to the decoders input based on the encoders output.**\n",
        "- In other words, the decoder predicts the next token by looking at the encoders outputs and self-attending to its own output. \n",
        "- "
      ]
    },
    {
      "cell_type": "code",
      "metadata": {
        "id": "ImRI8BVzyxKr"
      },
      "source": [
        "# Building the Decoder layer \n",
        "\n",
        "class DecoderLayer(tf.keras.layers.Layer):\n",
        "\n",
        "  def __init__(self , d_model , num_heads , dff , rate = 0.1 , **kwargs):\n",
        "    super(DecoderLayer , self).__init__(**kwargs)\n",
        "\n",
        "    # Two multi-head attention block in the Decoder \n",
        "    self.mha1 = MultiHeadAttention(d_model , num_heads)\n",
        "    self.mha2 = MultiHeadAttention(d_model , num_heads)\n",
        "\n",
        "    # Point wise feed forward network \n",
        "    self.ffn = point_wise_feed_forward(d_model , dff)\n",
        "\n",
        "    # Defining the three layer normalization layers \n",
        "    self.layernorm1 = tf.keras.layers.LayerNormalization(epsilon= 1e-6)\n",
        "    self.layernorm2 = tf.keras.layers.LayerNormalization(epsilon= 1e-6)\n",
        "    self.layernorm3 = tf.keras.layers.LayerNormalization(epsilon= 1e-6)\n",
        "\n",
        "    # Dropout layers\n",
        "    self.dropout1 = tf.keras.layers.Dropout(rate)\n",
        "    self.dropout2 = tf.keras.layers.Dropout(rate)\n",
        "    self.dropout3 = tf.keras.layers.Dropout(rate)\n",
        "\n",
        "  \n",
        "  # Initiating the forward pass \n",
        "  def call(self , x, enc_output , training , look_ahead_mask , padding_mask):\n",
        "\n",
        "    # enc_output.shape == (batch_size , input_seq_len , d_model)\n",
        "\n",
        "\n",
        "    # First multi-head attention and the layer normalization layer\n",
        "    attn1 , attn_weights_block1 = self.mha1(x , x , x , look_ahead_mask) # (batch_size , target_seq_len , d_model)\n",
        "    attn1 = self.dropout1(attn1 , training = training)\n",
        "    out1 = self.layernorm1(attn1 + x)\n",
        "\n",
        "    # Second multi-head attention, where we will pass the Encoder outputs in here\n",
        "    # Query and keys --> enc_output \n",
        "    # Value --> self attended decoder output\n",
        "    # Also apply the layer normalization\n",
        "    attn2 , attn_weights_block2 = self.mha2(\n",
        "        enc_output , enc_output , out1 , padding_mask ) # (batch_size , target_seq_len , d_model)\n",
        "\n",
        "    attn2 = self.dropout2(attn2 , training = training)\n",
        "    out2 = self.layernorm2(attn2 + out1) # (batch_size , target_seq_len , d_model)\n",
        "\n",
        "    # Point wise feed forward network \n",
        "    ffn_output = self.ffn(out2) # (batch_size , target_seq_len , d_model)\n",
        "    ffn_output = self.dropout3(ffn_output , training = training)\n",
        "    out3 = self.layernorm3(ffn_output + out1) # (batch_size , target_seq_len , d_model)\n",
        "\n",
        "\n",
        "    return out3 , attn_weights_block1 , attn_weights_block2  \n",
        "\n"
      ],
      "execution_count": 31,
      "outputs": []
    },
    {
      "cell_type": "code",
      "metadata": {
        "colab": {
          "base_uri": "https://localhost:8080/"
        },
        "id": "KChk75l116Rh",
        "outputId": "18447729-6427-47ce-9726-ed2c2cf9fd41"
      },
      "source": [
        "# Testing out the decoder with sample data \n",
        "sample_decoder_layer = DecoderLayer(512 , 8 , 2048)\n",
        "\n",
        "sample_decoder_layer_output , _ , _ = sample_decoder_layer(\n",
        "    x = tf.random.uniform((64 , 50 , 512)) , enc_output = sample_enc_layer_output , \n",
        "    training = False , look_ahead_mask = None , padding_mask = None\n",
        ")\n",
        "\n",
        "sample_decoder_layer_output.shape"
      ],
      "execution_count": 32,
      "outputs": [
        {
          "output_type": "execute_result",
          "data": {
            "text/plain": [
              "TensorShape([64, 50, 512])"
            ]
          },
          "metadata": {},
          "execution_count": 32
        }
      ]
    },
    {
      "cell_type": "markdown",
      "metadata": {
        "id": "7eoXeqnO2bYb"
      },
      "source": [
        "So far we've been building the Encoder and Decoder Layers, now its time to build the whole Encoder and Decoder on whole by using the layers we've created. \n",
        "\n",
        "\n"
      ]
    },
    {
      "cell_type": "markdown",
      "metadata": {
        "id": "-WZCWPDbKPVW"
      },
      "source": [
        "## Encoder \n",
        "The `Encoder` consists of, \n",
        "- Input Embedding \n",
        "- Positional Encoding \n",
        "- N encoder layers (for n number of times)\n",
        "\n",
        "- The input is put through an embedding which is summed with the positional encoding. \n",
        "- The output of this summation is the input to the encoder layers that we created above `EncoderLayer`. \n",
        "- The output of the encoder is the input to the decoder. \n",
        "\n"
      ]
    },
    {
      "cell_type": "code",
      "metadata": {
        "id": "4fkRBemtLAlM"
      },
      "source": [
        "# Coding out the Encoder \n",
        "\n",
        "class Encoder(tf.keras.layers.Layer):\n",
        "  def __init__(self , num_layers , d_model , num_heads , dff , input_vocab_size , \n",
        "                maximum_position_encoding , rate = 0.1  ):\n",
        "    super(Encoder , self).__init__()\n",
        "\n",
        "    # Getting the dimensions \n",
        "    self.d_model = d_model \n",
        "    self.num_layers = num_layers # number of layers\n",
        "\n",
        "    # Initializing a Embedding layer to get the inputs \n",
        "    self.embedding = tf.keras.layers.Embedding(input_vocab_size , d_model)\n",
        "    \n",
        "    # Defining the positional encoder \n",
        "    self.pos_encoding = positional_encoding(maximum_position_encoding , \n",
        "                                            self.d_model)\n",
        "    \n",
        "    \n",
        "    # For the N number of layers we are create the the Encoder layer that has multi-head etc.. \n",
        "    self.enc_layers = [EncoderLayer(d_model , num_heads , dff , rate) for _ in range(self.num_layers)]\n",
        "\n",
        "    # Dropout \n",
        "    self.dropout = tf.keras.layers.Dropout(rate)\n",
        "\n",
        "  \n",
        "  # Initiating the Forward pass \n",
        "  def call(self , x , training , mask):\n",
        "\n",
        "    # Getting the sequence length \n",
        "    seq_len = tf.shape(x)[1]\n",
        "    print(seq_len)\n",
        "\n",
        "    # Adding embedding and the positional encoding to our input tokens\n",
        "    x = self.embedding(x) # (batch_size , input_seq_len , d_model)\n",
        "    x *= tf.math.sqrt(tf.cast(self.d_model , tf.float32))\n",
        "    x += self.pos_encoding[: , :seq_len , :]\n",
        "\n",
        "    # Applying the dropout \n",
        "    x = self.dropout(x , training = training)\n",
        "\n",
        "    # Now indexing into the Encoder layers and passing our inputs\n",
        "    for i in range(self.num_layers):\n",
        "      x = self.enc_layers[i](x , training , mask)\n",
        "\n",
        "    return x # (batch_size , input_seq_len , d_model)"
      ],
      "execution_count": 33,
      "outputs": []
    },
    {
      "cell_type": "code",
      "metadata": {
        "colab": {
          "base_uri": "https://localhost:8080/"
        },
        "id": "gT0O0c9VQFLg",
        "outputId": "2f98f26a-e50f-4a77-e1f3-4c51c7b5c9da"
      },
      "source": [
        "# Passing dummy data \n",
        "sample_encoder = Encoder(num_layers = 2 , d_model = 512 , num_heads = 8 , \n",
        "                         dff = 2048 , input_vocab_size = 8500 , \n",
        "                         maximum_position_encoding = 10000)\n",
        "\n",
        "\n",
        "# Sample input \n",
        "temp_input = tf.random.uniform((64 , 206) , dtype = tf.int64 , minval= 0 , maxval= 200)\n",
        "sample_encoder_output = sample_encoder(temp_input , training = False , mask = None)\n",
        "\n",
        "print(sample_encoder_output.shape) # (batch_size , input_seq_len , d_model)\n"
      ],
      "execution_count": 34,
      "outputs": [
        {
          "output_type": "stream",
          "name": "stderr",
          "text": [
            "/usr/local/lib/python3.7/dist-packages/ipykernel_launcher.py:4: RuntimeWarning: divide by zero encountered in true_divide\n",
            "  after removing the cwd from sys.path.\n",
            "/usr/local/lib/python3.7/dist-packages/ipykernel_launcher.py:5: RuntimeWarning: invalid value encountered in multiply\n",
            "  \"\"\"\n",
            "/usr/local/lib/python3.7/dist-packages/ipykernel_launcher.py:14: RuntimeWarning: invalid value encountered in sin\n",
            "  \n",
            "/usr/local/lib/python3.7/dist-packages/ipykernel_launcher.py:17: RuntimeWarning: invalid value encountered in cos\n"
          ]
        },
        {
          "output_type": "stream",
          "name": "stdout",
          "text": [
            "tf.Tensor(206, shape=(), dtype=int32)\n",
            "(64, 206, 512)\n"
          ]
        }
      ]
    },
    {
      "cell_type": "markdown",
      "metadata": {
        "id": "Yw6tmJ-AQSjz"
      },
      "source": [
        "## Decoder \n",
        "\n",
        "The `Decoder` consists of,\n",
        "- Output Embedding \n",
        "- Positional Encoding \n",
        "- N decoder layers \n",
        "\n",
        "- The target is put through an embedding which is summed with the positional encoding. \n",
        "- The output of the this summation is the input to the decoder layers.\n",
        "- The output of the decoder is the input to the final linear layer. "
      ]
    },
    {
      "cell_type": "code",
      "metadata": {
        "id": "lR8o1nibZ1c4"
      },
      "source": [
        "class Decoder(tf.keras.layers.Layer):\n",
        "\n",
        "  def __init__(self , num_layers , d_model , num_heads ,dff , target_vocab_size , maximum_position_encoding , rate = 0.1):\n",
        "    super(Decoder , self).__init__()\n",
        "\n",
        "    # Get the dimensions and number of layers \n",
        "    self.d_model = d_model\n",
        "    self.num_layers = num_layers\n",
        "\n",
        "    # Embedding and positional encoding \n",
        "    self.embedding = tf.keras.layers.Embedding(target_vocab_size , d_model)\n",
        "    self.pos_encoding = positional_encoding(maximum_position_encoding , d_model)\n",
        "\n",
        "    # Generating the decoder layers \n",
        "    self.dec_layers = [DecoderLayer(d_model , num_heads , dff , rate) for _ in range(num_layers)]\n",
        "\n",
        "    self.dropout = tf.keras.layers.Dropout(rate)\n",
        "\n",
        "  \n",
        "  # Initializing the forward pass \n",
        "  def call(self , x , enc_output , training , look_ahead_mask , padding_mask):\n",
        "\n",
        "    seq_len = tf.shape(x)[1]\n",
        "    attention_weights = {} \n",
        "\n",
        "    x = self.embedding(x) # (batch_size, target_seq_len , d_model)\n",
        "    x *= tf.math.sqrt(tf.cast(self.d_model , tf.float32))\n",
        "    x += self.pos_encoding[: , :seq_len , :]\n",
        "\n",
        "    x = self.dropout(x , training = training)\n",
        "\n",
        "    for i in range(self.num_layers):\n",
        "      x , block1 , block2  = self.dec_layers[i](x , enc_output , training , \n",
        "                                                look_ahead_mask , padding_mask)\n",
        "      \n",
        "      attention_weights[f'decoder_layer{i+1}_block1'] = block1\n",
        "      attention_weights[f'decoder_layer{i+1}_block2'] = block2 \n",
        "\n",
        "    # x.shape --> (batch_size , target_seq_len , d_model)\n",
        "    # also we return attention_weights dictionary\n",
        "    return x , attention_weights"
      ],
      "execution_count": 35,
      "outputs": []
    },
    {
      "cell_type": "code",
      "metadata": {
        "colab": {
          "base_uri": "https://localhost:8080/"
        },
        "id": "lNtVcFH1e5TG",
        "outputId": "cf4b85e1-2c11-42a4-e4b2-af11e70abc34"
      },
      "source": [
        "# Passing the sample data \n",
        "sample_decoder = Decoder(2 , 512 , 8 , 2048 , 8000 , 5000)\n",
        "temp_input = tf.random.uniform((64,  26), dtype = tf.int64 , minval = 0 , maxval = 200)\n",
        "\n",
        "output , attn = sample_decoder(temp_input , \n",
        "                               enc_output = sample_encoder_output  , \n",
        "                               training = False , \n",
        "                               look_ahead_mask = None , \n",
        "                               padding_mask = None)\n",
        "\n",
        "# Printing the output shape \n",
        "output.shape , attn['decoder_layer2_block2'].shape"
      ],
      "execution_count": 36,
      "outputs": [
        {
          "output_type": "stream",
          "name": "stderr",
          "text": [
            "/usr/local/lib/python3.7/dist-packages/ipykernel_launcher.py:4: RuntimeWarning: divide by zero encountered in true_divide\n",
            "  after removing the cwd from sys.path.\n",
            "/usr/local/lib/python3.7/dist-packages/ipykernel_launcher.py:5: RuntimeWarning: invalid value encountered in multiply\n",
            "  \"\"\"\n",
            "/usr/local/lib/python3.7/dist-packages/ipykernel_launcher.py:14: RuntimeWarning: invalid value encountered in sin\n",
            "  \n",
            "/usr/local/lib/python3.7/dist-packages/ipykernel_launcher.py:17: RuntimeWarning: invalid value encountered in cos\n"
          ]
        },
        {
          "output_type": "execute_result",
          "data": {
            "text/plain": [
              "(TensorShape([64, 26, 512]), TensorShape([64, 8, 26, 206]))"
            ]
          },
          "metadata": {},
          "execution_count": 36
        }
      ]
    },
    {
      "cell_type": "markdown",
      "metadata": {
        "id": "32wGcl6kgVbA"
      },
      "source": [
        "Alright we have all the modules and layers required for creating the whole transformer model. Lets put them altogether and create a Model class called Transformer. \n",
        "\n",
        "Talking about the masks where encoder takes only one masks whereas decoders takes two of them, \n",
        "- Encoder -> Encoder padding mask \n",
        "- Decoder -> Decoder padding mask and Look ahead mask \n",
        "\n",
        "where the look ahead mask helps to figure out the future tokens. "
      ]
    },
    {
      "cell_type": "code",
      "metadata": {
        "id": "OngJL2knGnDi"
      },
      "source": [
        "# Coding out the entire Transformer class \n",
        "\n",
        "\n",
        "class Transformer(tf.keras.Model):\n",
        "  def __init__(self , num_layers , d_model , num_heads , dff , input_vocab_size , \n",
        "               target_vocab_size , pe_input , pe_target , rate = 0.1):\n",
        "    super().__init__()\n",
        "\n",
        "    # Initializing the Encoder and the Decoder + The file dense layer \n",
        "    self.encoder  = Encoder(num_layers , d_model , num_heads , dff , input_vocab_size , \n",
        "                            pe_input , rate)\n",
        "    \n",
        "\n",
        "    self.decoder = Decoder(num_layers , d_model , num_heads , dff , input_vocab_size , \n",
        "                           pe_input , rate)\n",
        "    \n",
        "    self.final_layer = tf.keras.layers.Dense(target_vocab_size)\n",
        "\n",
        "\n",
        "  # Initializing the forward pass \n",
        "  def call(self, inputs , training):\n",
        "\n",
        "    # Keras model prefer if we pass all the inputs in the first segment \n",
        "    # Unpacking \n",
        "    inp , tar = inputs \n",
        "\n",
        "    # Function to create masks \n",
        "    enc_padding_mask  , look_ahead_mask , dec_padding_mask = self.create_masks(inp , tar)\n",
        "\n",
        "    # Getting the output from the encoder \n",
        "    enc_output = self.encoder(inp , training , enc_padding_mask) # (batch_size , inp_seq_len , d_model)\n",
        "\n",
        "    # Now the decoder (takes in the encoder output , look ahead mask , padding mask and the target)\n",
        "    # dec_output.shape --> (batch__size , tar_seq_len , d_modek)\n",
        "    dec_output , attention_weights = self.decoder(tar , enc_output , \n",
        "                                                  training , look_ahead_mask , dec_padding_mask)\n",
        "    \n",
        "    final_output = self.final_layer(dec_output) # (batch_size , tar_seq_len , target_vocab_size)\n",
        "\n",
        "    return final_output , attention_weights \n",
        "\n",
        "  # Function to create the masks \n",
        "  def create_masks(self , inp , tar):\n",
        "\n",
        "    # Encoder padding mask \n",
        "    enc_padding_mask = create_padding(inp)\n",
        "\n",
        "\n",
        "    # Used in the 2nd attention block in the decoder \n",
        "    # This padding mask is used to mask the encoder ouputs \n",
        "    dec_padding_mask = create_padding(inp)\n",
        "\n",
        "    # Using in the 1 st attention block in the decoder \n",
        "    # It is used to pad and mask future tokens in the input recieved by the decoder \n",
        "    look_ahead_mask = create_look_ahead_mask(tf.shape(tar)[1])\n",
        "    dec_target_padding_mask = create_padding(tar)\n",
        "    look_ahead_mask = tf.maximum(dec_target_padding_mask , look_ahead_mask)\n",
        "\n",
        "    return enc_padding_mask , look_ahead_mask , dec_padding_mask \n",
        "\n"
      ],
      "execution_count": 37,
      "outputs": []
    },
    {
      "cell_type": "code",
      "metadata": {
        "colab": {
          "base_uri": "https://localhost:8080/"
        },
        "id": "VGFLr3F6PmIv",
        "outputId": "3910e686-833c-47cf-8d99-67ea1156eb65"
      },
      "source": [
        "# Testing on the dummy data \n",
        "sample_transformer = Transformer(\n",
        "    num_layers = 2 , d_model = 512 , num_heads = 8 , dff = 2048 , \n",
        "    input_vocab_size = 8500 , target_vocab_size = 8000 , \n",
        "    pe_input = 10000 , pe_target = 6000\n",
        ")\n",
        "\n",
        "# Passing dummy inputs \n",
        "temp_input = tf.random.uniform((64 , 38) , dtype = tf.int64 , minval = 0 , maxval = 200 )\n",
        "temp_targ = tf.random.uniform((64 , 36) , dtype = tf.int64 , minval = 0 , maxval = 200 )\n",
        "\n",
        "# Using the above Transformer valls \n",
        "# Passing in the input and output \n",
        "fn_out , _ = sample_transformer([temp_input , temp_targ] , training = False)\n",
        "\n",
        "fn_out.shape # (batch_size , tar_seq_len , target_vocab_size) "
      ],
      "execution_count": 40,
      "outputs": [
        {
          "output_type": "stream",
          "name": "stderr",
          "text": [
            "/usr/local/lib/python3.7/dist-packages/ipykernel_launcher.py:4: RuntimeWarning: divide by zero encountered in true_divide\n",
            "  after removing the cwd from sys.path.\n",
            "/usr/local/lib/python3.7/dist-packages/ipykernel_launcher.py:5: RuntimeWarning: invalid value encountered in multiply\n",
            "  \"\"\"\n",
            "/usr/local/lib/python3.7/dist-packages/ipykernel_launcher.py:14: RuntimeWarning: invalid value encountered in sin\n",
            "  \n",
            "/usr/local/lib/python3.7/dist-packages/ipykernel_launcher.py:17: RuntimeWarning: invalid value encountered in cos\n"
          ]
        },
        {
          "output_type": "stream",
          "name": "stdout",
          "text": [
            "tf.Tensor(38, shape=(), dtype=int32)\n"
          ]
        },
        {
          "output_type": "execute_result",
          "data": {
            "text/plain": [
              "TensorShape([64, 36, 8000])"
            ]
          },
          "metadata": {},
          "execution_count": 40
        }
      ]
    },
    {
      "cell_type": "markdown",
      "metadata": {
        "id": "GK4Gw_vDP8vX"
      },
      "source": [
        "### Setting the hyper parameters "
      ]
    },
    {
      "cell_type": "code",
      "metadata": {
        "id": "zeXQpM2owNi9"
      },
      "source": [
        "num_layers = 4  \n",
        "d_model = 128\n",
        "dff = 512 \n",
        "num_heads = 8 \n",
        "dropout_rate = 0.1 "
      ],
      "execution_count": 42,
      "outputs": []
    },
    {
      "cell_type": "markdown",
      "metadata": {
        "id": "2GZbGNOn2GRP"
      },
      "source": [
        "Using the adam optimizer with a custom learning rate scheduler "
      ]
    }
  ]
}