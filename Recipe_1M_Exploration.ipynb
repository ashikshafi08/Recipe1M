{
  "nbformat": 4,
  "nbformat_minor": 0,
  "metadata": {
    "colab": {
      "name": "Recipe_1M_Exploration.ipynb",
      "provenance": [],
      "collapsed_sections": [],
      "machine_shape": "hm",
      "authorship_tag": "ABX9TyNdiB2esIvP6doBG76C5wvH",
      "include_colab_link": true
    },
    "kernelspec": {
      "name": "python3",
      "display_name": "Python 3"
    },
    "language_info": {
      "name": "python"
    }
  },
  "cells": [
    {
      "cell_type": "markdown",
      "metadata": {
        "id": "view-in-github",
        "colab_type": "text"
      },
      "source": [
        "<a href=\"https://colab.research.google.com/github/ashikshafi08/Recipe1M/blob/main/Recipe_1M_Exploration.ipynb\" target=\"_parent\"><img src=\"https://colab.research.google.com/assets/colab-badge.svg\" alt=\"Open In Colab\"/></a>"
      ]
    },
    {
      "cell_type": "markdown",
      "metadata": {
        "id": "RAcK_TWw63PV"
      },
      "source": [
        "# Recipe Generator Exploration  "
      ]
    },
    {
      "cell_type": "code",
      "metadata": {
        "colab": {
          "base_uri": "https://localhost:8080/"
        },
        "id": "GIe8oN-evWhm",
        "outputId": "258fd74f-97dc-4739-97e2-97b154fb330f"
      },
      "source": [
        "from google.colab import drive \n",
        "drive.mount('/content/drive/')"
      ],
      "execution_count": null,
      "outputs": [
        {
          "output_type": "stream",
          "name": "stdout",
          "text": [
            "Mounted at /content/drive/\n"
          ]
        }
      ]
    },
    {
      "cell_type": "code",
      "metadata": {
        "id": "a_hb0zQ6rzAf"
      },
      "source": [
        "# Loading in the json file 1 (layer1.json)\n",
        "with open('/content/drive/MyDrive/Recipe_1M/layer1.json' , 'r') as file:\n",
        "  data_1 = json.load(file)"
      ],
      "execution_count": null,
      "outputs": []
    },
    {
      "cell_type": "code",
      "metadata": {
        "colab": {
          "base_uri": "https://localhost:8080/"
        },
        "id": "YLtzxmFM2wd_",
        "outputId": "2b2d8109-4eaa-485d-a729-7695cd6c95ad"
      },
      "source": [
        "# Looking whats inside thhe subset of layer1 json file \n",
        "sub_layer = data_1[:10]\n",
        "for attr in sub_layer[:3]:\n",
        "    print(f\"ID: {attr['id']}\\n\")\n",
        "    print(f\"Ingredients: {attr['ingredients']}\\n\")\n",
        "    print(f\"Partition: {attr['partition']}\\n\")\n",
        "    print('\\n----Next Food----\\n')"
      ],
      "execution_count": null,
      "outputs": [
        {
          "output_type": "stream",
          "name": "stdout",
          "text": [
            "ID: 000018c8a5\n",
            "\n",
            "Ingredients: [{'text': '6 ounces penne'}, {'text': '2 cups Beechers Flagship Cheese Sauce (recipe follows)'}, {'text': '1 ounce Cheddar, grated (1/4 cup)'}, {'text': '1 ounce Gruyere cheese, grated (1/4 cup)'}, {'text': '1/4 to 1/2 teaspoon chipotle chili powder (see Note)'}, {'text': '1/4 cup (1/2 stick) unsalted butter'}, {'text': '1/3 cup all-purpose flour'}, {'text': '3 cups milk'}, {'text': '14 ounces semihard cheese (page 23), grated (about 3 1/2 cups)'}, {'text': '2 ounces semisoft cheese (page 23), grated (1/2 cup)'}, {'text': '1/2 teaspoon kosher salt'}, {'text': '1/4 to 1/2 teaspoon chipotle chili powder'}, {'text': '1/8 teaspoon garlic powder'}, {'text': '(makes about 4 cups)'}]\n",
            "\n",
            "Partition: train\n",
            "\n",
            "\n",
            "----Next Food----\n",
            "\n",
            "ID: 000033e39b\n",
            "\n",
            "Ingredients: [{'text': '1 c. elbow macaroni'}, {'text': '1 c. cubed American cheese (4 ounce.)'}, {'text': '1/2 c. sliced celery'}, {'text': '1/2 c. minced green pepper'}, {'text': '3 tbsp. minced pimento'}, {'text': '1/2 c. mayonnaise or possibly salad dressing'}, {'text': '1 tbsp. vinegar'}, {'text': '3/4 teaspoon salt'}, {'text': '1/2 teaspoon dry dill weed'}]\n",
            "\n",
            "Partition: train\n",
            "\n",
            "\n",
            "----Next Food----\n",
            "\n",
            "ID: 000035f7ed\n",
            "\n",
            "Ingredients: [{'text': '8 tomatoes, quartered'}, {'text': 'Kosher salt'}, {'text': '1 red onion, cut into small dice'}, {'text': '1 green bell pepper, cut into small dice'}, {'text': '1 red bell pepper, cut into small dice'}, {'text': '1 yellow bell pepper, cut into small dice'}, {'text': '1/2 cucumber, cut into small dice'}, {'text': 'Extra-virgin olive oil, for drizzling'}, {'text': '3 leaves fresh basil, finely chopped'}]\n",
            "\n",
            "Partition: train\n",
            "\n",
            "\n",
            "----Next Food----\n",
            "\n"
          ]
        }
      ]
    },
    {
      "cell_type": "code",
      "metadata": {
        "colab": {
          "base_uri": "https://localhost:8080/"
        },
        "id": "brT5HV_1seGU",
        "outputId": "4f24b34a-6864-4684-b1a1-eea73ea0f2db"
      },
      "source": [
        "# Id for the json file 1 \n",
        "[lay['id'] for lay in data_1[:10]]"
      ],
      "execution_count": null,
      "outputs": [
        {
          "output_type": "execute_result",
          "data": {
            "text/plain": [
              "['000018c8a5',\n",
              " '000033e39b',\n",
              " '000035f7ed',\n",
              " '00003a70b1',\n",
              " '00004320bb',\n",
              " '0000631d90',\n",
              " '000075604a',\n",
              " '00007bfd16',\n",
              " '000095fc1d',\n",
              " '0000973574']"
            ]
          },
          "metadata": {},
          "execution_count": 15
        }
      ]
    },
    {
      "cell_type": "code",
      "metadata": {
        "colab": {
          "base_uri": "https://localhost:8080/"
        },
        "id": "S8gjZ6MFsOFx",
        "outputId": "b3691efd-8fe0-46e9-9021-c6d8662b184e"
      },
      "source": [
        "# How does the 10 samples look like? \n",
        "data_2[:10]"
      ],
      "execution_count": null,
      "outputs": [
        {
          "output_type": "execute_result",
          "data": {
            "text/plain": [
              "[{'id': '00003a70b1',\n",
              "  'images': [{'id': '3e233001e2.jpg',\n",
              "    'url': 'http://img.sndimg.com/food/image/upload/w_512,h_512,c_fit,fl_progressive,q_95/v1/img/recipes/47/91/49/picaYYmb9.jpg'},\n",
              "   {'id': '7f749987f9.jpg',\n",
              "    'url': 'http://img.sndimg.com/food/image/upload/w_512,h_512,c_fit,fl_progressive,q_95/v1/img/recipes/47/91/49/picpy37SW.jpg'},\n",
              "   {'id': 'aaf6b2dcd3.jpg',\n",
              "    'url': 'http://img.sndimg.com/food/image/upload/w_512,h_512,c_fit,fl_progressive,q_95/v1/img/recipes/47/91/49/picX9CNE2.jpg'}]},\n",
              " {'id': '000075604a',\n",
              "  'images': [{'id': '6bdca6e490.jpg',\n",
              "    'url': 'https://img-global.cpcdn.com/001_recipes/5806945844854784/0x0/photo.jpg'}]},\n",
              " {'id': '00007bfd16',\n",
              "  'images': [{'id': '6409eab844.jpg',\n",
              "    'url': 'http://img.sndimg.com/food/image/upload/w_512,h_512,c_fit,fl_progressive,q_95/v1/img/recipes/40/86/94/picNQPjbC.jpg'},\n",
              "   {'id': 'f7cb3de295.jpg',\n",
              "    'url': 'http://img.sndimg.com/food/image/upload/w_512,h_512,c_fit,fl_progressive,q_95/v1/img/recipes/40/86/94/picjXIJN8.jpg'}]},\n",
              " {'id': '000095fc1d',\n",
              "  'images': [{'id': 'a1374cdd98.jpg',\n",
              "    'url': 'http://tastykitchen.com/recipes/wp-content/uploads/sites/2/2011/06/IMG_2692-630x420-410x615.jpg'}]},\n",
              " {'id': '0000b1e2b5',\n",
              "  'images': [{'id': 'cb1a684683.jpg',\n",
              "    'url': 'http://assets.epicurious.com/photos/5609a4d662fa7a9917c25748/master/pass/351294_hires.jpg'}]},\n",
              " {'id': '0000c79afb',\n",
              "  'images': [{'id': '2f4b4c4452.jpg',\n",
              "    'url': 'http://img.sndimg.com/food/image/upload/w_512,h_512,c_fit,fl_progressive,q_95/v1/img/recipes/30/53/85/picZAmxgu.jpg'}]},\n",
              " {'id': '00010379bf',\n",
              "  'images': [{'id': 'f480145da5.jpg',\n",
              "    'url': 'https://img-global.cpcdn.com/001_recipes/5205549177110528/0x0/photo.jpg'}]},\n",
              " {'id': '00010c7867',\n",
              "  'images': [{'id': '3b99e69c3c.jpg',\n",
              "    'url': 'http://img.sndimg.com/food/image/upload/w_512,h_512,c_fit,fl_progressive,q_95/v1/img/recipes/37/19/14/pic8wSA2x.jpg'},\n",
              "   {'id': '5ab32d58e0.jpg',\n",
              "    'url': 'http://img.sndimg.com/food/image/upload/w_512,h_512,c_fit,fl_progressive,q_95/v1/img/recipes/37/19/14/piczTZER2.jpg'}]},\n",
              " {'id': '00010d44c7',\n",
              "  'images': [{'id': '9f497dcfa5.jpg',\n",
              "    'url': 'http://img.sndimg.com/food/image/upload/w_512,h_512,c_fit,fl_progressive,q_95/v1/img/recipes/30/40/6/30406.jpg'}]},\n",
              " {'id': '00013266c9',\n",
              "  'images': [{'id': '4636c7f576.jpg',\n",
              "    'url': 'https://img-global.cpcdn.com/001_photo_reports/4904504583520256/0x0/photo.jpg'}]}]"
            ]
          },
          "metadata": {},
          "execution_count": 19
        }
      ]
    },
    {
      "cell_type": "code",
      "metadata": {
        "id": "kHMiI8J311xs"
      },
      "source": [
        "\n",
        "# def get_list_of_strings(key , json_file):\n",
        "#     stop_words = []\n",
        "#     key_list = []\n",
        "    \n",
        "#     # Iterating to find out the stop words and adding all elements into a list \n",
        "#     for i in range(0 , len(json_file)):\n",
        "#         list_of_key = json_file[i][key]\n",
        "        \n",
        "#         # Getting the stop words \n",
        "#         stop_words.append((list_of_key[-1]['text']))\n",
        "#         for elem in list_of_key:\n",
        "#             key_list.append(elem['text'])\n",
        "            \n",
        "    \n",
        "#     # Now we're adding a '#' character at every end of ingredients/instructions last value \n",
        "#     updated_key_list = [] \n",
        "#     for word in key_list:\n",
        "#         if word in stop_words:\n",
        "#             word += '#'\n",
        "#             updated_key_list.append(word)\n",
        "#         else:\n",
        "#             word +='/t'\n",
        "#             updated_key_list.append(word)\n",
        "            \n",
        "    \n",
        "#     # Converting the whole list of text into a big giant string\n",
        "#     big_string = ' '.join([str(word) for word in updated_key_list])\n",
        "    \n",
        "#     # Now returning the list of text for each ingredient/instructions (individual list of ingredients/instructions )\n",
        "#     indi_list = big_string.split('#')\n",
        "    \n",
        "#     # We just really want the list \n",
        "#     return indi_list"
      ],
      "execution_count": null,
      "outputs": []
    },
    {
      "cell_type": "markdown",
      "metadata": {
        "id": "4TguGr-2RDyz"
      },
      "source": [
        "### Making a dataframe with the data we've got "
      ]
    },
    {
      "cell_type": "code",
      "metadata": {
        "id": "S7qS2WSMCV75",
        "colab": {
          "base_uri": "https://localhost:8080/"
        },
        "outputId": "1b8b9a52-d205-49df-cb56-d2f5efbb9b25"
      },
      "source": [
        "# Storing all the values of (id, title , partition) in a list \n",
        "import pandas as pd\n",
        "from tqdm import tqdm \n",
        "\n",
        "id = []\n",
        "title = []\n",
        "part = []\n",
        "url = [] \n",
        "\n",
        "# Looping through and appending the values to a newly created list \n",
        "for attr in tqdm(data_1):\n",
        "  id.append(attr['id'])\n",
        "  title.append(attr['title'])\n",
        "  part.append(attr['partition'])\n",
        "  url.append(attr['url'])"
      ],
      "execution_count": null,
      "outputs": [
        {
          "output_type": "stream",
          "name": "stderr",
          "text": [
            "100%|██████████| 1029720/1029720 [00:01<00:00, 720585.11it/s]\n"
          ]
        }
      ]
    },
    {
      "cell_type": "code",
      "metadata": {
        "id": "j5QuhWVSy3XF"
      },
      "source": [
        "# Building a dictionary with above values \n",
        "data_1_dict = {'ID': id , 'food_title': title , 'partition': part , \"image_url\": url}\n",
        "\n",
        "# Convert this beautiful dict into a fully fledge dataframe \n",
        "data1_df = pd.DataFrame(data_1_dict)"
      ],
      "execution_count": null,
      "outputs": []
    },
    {
      "cell_type": "code",
      "metadata": {
        "colab": {
          "base_uri": "https://localhost:8080/",
          "height": 514
        },
        "id": "9q3ZyNzs0XYf",
        "outputId": "d750aea8-a50e-43bd-99d8-f6007c502b93"
      },
      "source": [
        "# Looking first 15 samples \n",
        "data1_df.head(15)"
      ],
      "execution_count": null,
      "outputs": [
        {
          "output_type": "execute_result",
          "data": {
            "text/html": [
              "<div>\n",
              "<style scoped>\n",
              "    .dataframe tbody tr th:only-of-type {\n",
              "        vertical-align: middle;\n",
              "    }\n",
              "\n",
              "    .dataframe tbody tr th {\n",
              "        vertical-align: top;\n",
              "    }\n",
              "\n",
              "    .dataframe thead th {\n",
              "        text-align: right;\n",
              "    }\n",
              "</style>\n",
              "<table border=\"1\" class=\"dataframe\">\n",
              "  <thead>\n",
              "    <tr style=\"text-align: right;\">\n",
              "      <th></th>\n",
              "      <th>ID</th>\n",
              "      <th>food_title</th>\n",
              "      <th>partition</th>\n",
              "      <th>image_url</th>\n",
              "    </tr>\n",
              "  </thead>\n",
              "  <tbody>\n",
              "    <tr>\n",
              "      <th>0</th>\n",
              "      <td>000018c8a5</td>\n",
              "      <td>Worlds Best Mac and Cheese</td>\n",
              "      <td>train</td>\n",
              "      <td>http://www.epicurious.com/recipes/food/views/-...</td>\n",
              "    </tr>\n",
              "    <tr>\n",
              "      <th>1</th>\n",
              "      <td>000033e39b</td>\n",
              "      <td>Dilly Macaroni Salad Recipe</td>\n",
              "      <td>train</td>\n",
              "      <td>http://cookeatshare.com/recipes/dilly-macaroni...</td>\n",
              "    </tr>\n",
              "    <tr>\n",
              "      <th>2</th>\n",
              "      <td>000035f7ed</td>\n",
              "      <td>Gazpacho</td>\n",
              "      <td>train</td>\n",
              "      <td>http://www.foodnetwork.com/recipes/gazpacho1.html</td>\n",
              "    </tr>\n",
              "    <tr>\n",
              "      <th>3</th>\n",
              "      <td>00003a70b1</td>\n",
              "      <td>Crunchy Onion Potato Bake</td>\n",
              "      <td>test</td>\n",
              "      <td>http://www.food.com/recipe/crunchy-onion-potat...</td>\n",
              "    </tr>\n",
              "    <tr>\n",
              "      <th>4</th>\n",
              "      <td>00004320bb</td>\n",
              "      <td>Cool 'n Easy Creamy Watermelon Pie</td>\n",
              "      <td>train</td>\n",
              "      <td>http://www.food.com/recipe/cool-n-easy-creamy-...</td>\n",
              "    </tr>\n",
              "    <tr>\n",
              "      <th>5</th>\n",
              "      <td>0000631d90</td>\n",
              "      <td>Easy Tropical Beef Skillet</td>\n",
              "      <td>train</td>\n",
              "      <td>http://www.food.com/recipe/easy-tropical-beef-...</td>\n",
              "    </tr>\n",
              "    <tr>\n",
              "      <th>6</th>\n",
              "      <td>000075604a</td>\n",
              "      <td>Kombu Tea Grilled Chicken Thigh</td>\n",
              "      <td>train</td>\n",
              "      <td>https://cookpad.com/us/recipes/150100-kombu-te...</td>\n",
              "    </tr>\n",
              "    <tr>\n",
              "      <th>7</th>\n",
              "      <td>00007bfd16</td>\n",
              "      <td>Strawberry Rhubarb Dump Cake</td>\n",
              "      <td>train</td>\n",
              "      <td>http://www.food.com/recipe/strawberry-rhubarb-...</td>\n",
              "    </tr>\n",
              "    <tr>\n",
              "      <th>8</th>\n",
              "      <td>000095fc1d</td>\n",
              "      <td>Yogurt Parfaits</td>\n",
              "      <td>train</td>\n",
              "      <td>http://tastykitchen.com/recipes/breakfastbrunc...</td>\n",
              "    </tr>\n",
              "    <tr>\n",
              "      <th>9</th>\n",
              "      <td>0000973574</td>\n",
              "      <td>Zucchini Nut Bread</td>\n",
              "      <td>train</td>\n",
              "      <td>http://www.food.com/recipe/zucchini-nut-bread-...</td>\n",
              "    </tr>\n",
              "    <tr>\n",
              "      <th>10</th>\n",
              "      <td>0000a4bcf6</td>\n",
              "      <td>Salmon &amp; Salad a La SPORTZ</td>\n",
              "      <td>train</td>\n",
              "      <td>http://www.kraftrecipes.com/recipes/salmon-sal...</td>\n",
              "    </tr>\n",
              "    <tr>\n",
              "      <th>11</th>\n",
              "      <td>0000b1e2b5</td>\n",
              "      <td>Fennel-Rubbed Pork Tenderloin with Roasted Fen...</td>\n",
              "      <td>train</td>\n",
              "      <td>http://www.epicurious.com/recipes/food/views/f...</td>\n",
              "    </tr>\n",
              "    <tr>\n",
              "      <th>12</th>\n",
              "      <td>0000c79afb</td>\n",
              "      <td>Pink Sangria</td>\n",
              "      <td>train</td>\n",
              "      <td>http://www.food.com/recipe/pink-sangria-305385</td>\n",
              "    </tr>\n",
              "    <tr>\n",
              "      <th>13</th>\n",
              "      <td>0000ed95f8</td>\n",
              "      <td>Pineapple Loaf</td>\n",
              "      <td>train</td>\n",
              "      <td>http://www.food.com/recipe/pineapple-loaf-88070</td>\n",
              "    </tr>\n",
              "    <tr>\n",
              "      <th>14</th>\n",
              "      <td>00010379bf</td>\n",
              "      <td>Brown Sugar 'Karintou' Snacks</td>\n",
              "      <td>train</td>\n",
              "      <td>https://cookpad.com/us/recipes/156014-brown-su...</td>\n",
              "    </tr>\n",
              "  </tbody>\n",
              "</table>\n",
              "</div>"
            ],
            "text/plain": [
              "            ID  ...                                          image_url\n",
              "0   000018c8a5  ...  http://www.epicurious.com/recipes/food/views/-...\n",
              "1   000033e39b  ...  http://cookeatshare.com/recipes/dilly-macaroni...\n",
              "2   000035f7ed  ...  http://www.foodnetwork.com/recipes/gazpacho1.html\n",
              "3   00003a70b1  ...  http://www.food.com/recipe/crunchy-onion-potat...\n",
              "4   00004320bb  ...  http://www.food.com/recipe/cool-n-easy-creamy-...\n",
              "5   0000631d90  ...  http://www.food.com/recipe/easy-tropical-beef-...\n",
              "6   000075604a  ...  https://cookpad.com/us/recipes/150100-kombu-te...\n",
              "7   00007bfd16  ...  http://www.food.com/recipe/strawberry-rhubarb-...\n",
              "8   000095fc1d  ...  http://tastykitchen.com/recipes/breakfastbrunc...\n",
              "9   0000973574  ...  http://www.food.com/recipe/zucchini-nut-bread-...\n",
              "10  0000a4bcf6  ...  http://www.kraftrecipes.com/recipes/salmon-sal...\n",
              "11  0000b1e2b5  ...  http://www.epicurious.com/recipes/food/views/f...\n",
              "12  0000c79afb  ...     http://www.food.com/recipe/pink-sangria-305385\n",
              "13  0000ed95f8  ...    http://www.food.com/recipe/pineapple-loaf-88070\n",
              "14  00010379bf  ...  https://cookpad.com/us/recipes/156014-brown-su...\n",
              "\n",
              "[15 rows x 4 columns]"
            ]
          },
          "metadata": {},
          "execution_count": 11
        }
      ]
    },
    {
      "cell_type": "code",
      "metadata": {
        "colab": {
          "base_uri": "https://localhost:8080/"
        },
        "id": "d0ElnKJj3cPl",
        "outputId": "ee325ec7-edbf-4226-9325-edc887bd4f0c"
      },
      "source": [
        "# Checking for missing values \n",
        "data1_df.isna().sum()"
      ],
      "execution_count": null,
      "outputs": [
        {
          "output_type": "execute_result",
          "data": {
            "text/plain": [
              "ID            0\n",
              "food_title    0\n",
              "partition     0\n",
              "image_url     0\n",
              "dtype: int64"
            ]
          },
          "metadata": {},
          "execution_count": 12
        }
      ]
    },
    {
      "cell_type": "code",
      "metadata": {
        "colab": {
          "base_uri": "https://localhost:8080/"
        },
        "id": "WQyf1pjj3oAx",
        "outputId": "a6a061f2-27bb-4c4c-fc56-3cdf249accac"
      },
      "source": [
        "# Paritions value counts \n",
        "data1_df['partition'].value_counts() # its sime like they've mentioned in the paper "
      ],
      "execution_count": null,
      "outputs": [
        {
          "output_type": "execute_result",
          "data": {
            "text/plain": [
              "train    720639\n",
              "val      155036\n",
              "test     154045\n",
              "Name: partition, dtype: int64"
            ]
          },
          "metadata": {},
          "execution_count": 13
        }
      ]
    },
    {
      "cell_type": "markdown",
      "metadata": {
        "id": "wuPJVndn3voS"
      },
      "source": [
        "Lets create a function that will parse out the ingredients and instructions out. "
      ]
    },
    {
      "cell_type": "code",
      "metadata": {
        "colab": {
          "base_uri": "https://localhost:8080/"
        },
        "id": "3wTPsKaz4izI",
        "outputId": "db85879a-4022-47f0-f801-085f84652e24"
      },
      "source": [
        "def get_list_of_strings(key , json_file):\n",
        "    all_ingredient_lists = []\n",
        "    for recipie in tqdm(json_file):\n",
        "        ingredients = recipie[key]\n",
        "        ingredient_list = []\n",
        "        for ingredient in ingredients:\n",
        "            ingredient_list.append(ingredient['text'])\n",
        "            \n",
        "        all_ingredient_lists.append(ingredient_list)\n",
        "    return all_ingredient_lists\n",
        "\n",
        "\n",
        "# Using the above function and parsing out the values\n",
        "ingredients_list = get_list_of_strings('ingredients' , data_1)\n",
        "instructions_list = get_list_of_strings('instructions' , data_1)"
      ],
      "execution_count": null,
      "outputs": [
        {
          "output_type": "stream",
          "name": "stderr",
          "text": [
            "100%|██████████| 1029720/1029720 [00:03<00:00, 263812.94it/s]\n",
            "100%|██████████| 1029720/1029720 [00:09<00:00, 112250.87it/s]\n"
          ]
        }
      ]
    },
    {
      "cell_type": "code",
      "metadata": {
        "colab": {
          "base_uri": "https://localhost:8080/"
        },
        "id": "6N1p6DTR5ULy",
        "outputId": "cb6c1862-60ea-4845-9b43-9e882c4bb94b"
      },
      "source": [
        "# Checking both of the lengths \n",
        "len(ingredients_list) , len(instructions_list)"
      ],
      "execution_count": null,
      "outputs": [
        {
          "output_type": "execute_result",
          "data": {
            "text/plain": [
              "(1029720, 1029720)"
            ]
          },
          "metadata": {},
          "execution_count": 15
        }
      ]
    },
    {
      "cell_type": "code",
      "metadata": {
        "colab": {
          "base_uri": "https://localhost:8080/"
        },
        "id": "nyl4EfwT5BAo",
        "outputId": "b717e669-16f0-4d73-c875-be759a7d8010"
      },
      "source": [
        "# Looking into the instructions list (first 5 samples)\n",
        "instructions_list[:5]"
      ],
      "execution_count": null,
      "outputs": [
        {
          "output_type": "execute_result",
          "data": {
            "text/plain": [
              "[['Preheat the oven to 350 F. Butter or oil an 8-inch baking dish.',\n",
              "  'Cook the penne 2 minutes less than package directions.',\n",
              "  '(It will finish cooking in the oven.)',\n",
              "  'Rinse the pasta in cold water and set aside.',\n",
              "  'Combine the cooked pasta and the sauce in a medium bowl and mix carefully but thoroughly.',\n",
              "  'Scrape the pasta into the prepared baking dish.',\n",
              "  'Sprinkle the top with the cheeses and then the chili powder.',\n",
              "  'Bake, uncovered, for 20 minutes.',\n",
              "  'Let the mac and cheese sit for 5 minutes before serving.',\n",
              "  'Melt the butter in a heavy-bottomed saucepan over medium heat and whisk in the flour.',\n",
              "  'Continue whisking and cooking for 2 minutes.',\n",
              "  'Slowly add the milk, whisking constantly.',\n",
              "  'Cook until the sauce thickens, about 10 minutes, stirring frequently.',\n",
              "  'Remove from the heat.',\n",
              "  'Add the cheeses, salt, chili powder, and garlic powder.',\n",
              "  'Stir until the cheese is melted and all ingredients are incorporated, about 3 minutes.',\n",
              "  'Use immediately, or refrigerate for up to 3 days.',\n",
              "  'This sauce reheats nicely on the stove in a saucepan over low heat.',\n",
              "  'Stir frequently so the sauce doesnt scorch.',\n",
              "  'This recipe can be assembled before baking and frozen for up to 3 monthsjust be sure to use a freezer-to-oven pan and increase the baking time to 50 minutes.',\n",
              "  'One-half teaspoon of chipotle chili powder makes a spicy mac, so make sure your family and friends can handle it!',\n",
              "  'The proportion of pasta to cheese sauce is crucial to the success of the dish.',\n",
              "  'It will look like a lot of sauce for the pasta, but some of the liquid will be absorbed.'],\n",
              " ['Cook macaroni according to package directions; drain well.',\n",
              "  'Cold.',\n",
              "  'Combine macaroni, cheese cubes, celery, green pepper and pimento.',\n",
              "  'Blend together mayonnaise or possibly salad dressing, vinegar, salt and dill weed; add in to macaroni mix.',\n",
              "  'Toss lightly.',\n",
              "  'Cover and refrigeratewell.',\n",
              "  'Serve salad in lettuce lined bowl if you like.',\n",
              "  'Makes 6 servings.'],\n",
              " ['Add the tomatoes to a food processor with a pinch of salt and puree until smooth.',\n",
              "  'Combine the onions, bell peppers and cucumbers with the tomato puree in a large bowl.',\n",
              "  'Chill at least 1 hour.',\n",
              "  'Drizzle with olive oil, garnish with chopped basil and serve.'],\n",
              " ['Preheat oven to 350 degrees Fahrenheit.',\n",
              "  'Spray pan with non stick cooking spray.',\n",
              "  'Heat milk, water and butter to boiling; stir in contents of both pouches of potatoes; let stand one minute.',\n",
              "  'Stir in corn.',\n",
              "  'Spoon half the potato mixture in pan.',\n",
              "  'Sprinkle half each of cheese and onions; top with remaining potatoes.',\n",
              "  'Sprinkle with remaining cheese and onions.',\n",
              "  'Bake 10 to 15 minutes until cheese is melted.',\n",
              "  'Enjoy !'],\n",
              " ['Dissolve Jello in boiling water.',\n",
              "  'Allow to cool to room temp.',\n",
              "  'Whisk in Cool Whip.',\n",
              "  'Fold in watermelon.',\n",
              "  'Spoon into crust.',\n",
              "  'Chill for 2-3 hours or overnight.',\n",
              "  'Yum!']]"
            ]
          },
          "metadata": {},
          "execution_count": 16
        }
      ]
    },
    {
      "cell_type": "code",
      "metadata": {
        "colab": {
          "base_uri": "https://localhost:8080/"
        },
        "id": "z2X0EoIn5om4",
        "outputId": "d57632a9-1697-40db-b1f0-b2addd073d0f"
      },
      "source": [
        "# Looking into the ingredients list (first 5 samples)\n",
        "ingredients_list[:5]"
      ],
      "execution_count": null,
      "outputs": [
        {
          "output_type": "execute_result",
          "data": {
            "text/plain": [
              "[['6 ounces penne',\n",
              "  '2 cups Beechers Flagship Cheese Sauce (recipe follows)',\n",
              "  '1 ounce Cheddar, grated (1/4 cup)',\n",
              "  '1 ounce Gruyere cheese, grated (1/4 cup)',\n",
              "  '1/4 to 1/2 teaspoon chipotle chili powder (see Note)',\n",
              "  '1/4 cup (1/2 stick) unsalted butter',\n",
              "  '1/3 cup all-purpose flour',\n",
              "  '3 cups milk',\n",
              "  '14 ounces semihard cheese (page 23), grated (about 3 1/2 cups)',\n",
              "  '2 ounces semisoft cheese (page 23), grated (1/2 cup)',\n",
              "  '1/2 teaspoon kosher salt',\n",
              "  '1/4 to 1/2 teaspoon chipotle chili powder',\n",
              "  '1/8 teaspoon garlic powder',\n",
              "  '(makes about 4 cups)'],\n",
              " ['1 c. elbow macaroni',\n",
              "  '1 c. cubed American cheese (4 ounce.)',\n",
              "  '1/2 c. sliced celery',\n",
              "  '1/2 c. minced green pepper',\n",
              "  '3 tbsp. minced pimento',\n",
              "  '1/2 c. mayonnaise or possibly salad dressing',\n",
              "  '1 tbsp. vinegar',\n",
              "  '3/4 teaspoon salt',\n",
              "  '1/2 teaspoon dry dill weed'],\n",
              " ['8 tomatoes, quartered',\n",
              "  'Kosher salt',\n",
              "  '1 red onion, cut into small dice',\n",
              "  '1 green bell pepper, cut into small dice',\n",
              "  '1 red bell pepper, cut into small dice',\n",
              "  '1 yellow bell pepper, cut into small dice',\n",
              "  '1/2 cucumber, cut into small dice',\n",
              "  'Extra-virgin olive oil, for drizzling',\n",
              "  '3 leaves fresh basil, finely chopped'],\n",
              " ['2 12 cups milk',\n",
              "  '1 12 cups water',\n",
              "  '14 cup butter',\n",
              "  'mashed potatoes, 1 box, homestyle',\n",
              "  '1 (8 ounce) can whole kernel corn (drained)',\n",
              "  '1 cup cheddar cheese',\n",
              "  '1 cup French-fried onions'],\n",
              " ['1 (3 ounce) package watermelon gelatin',\n",
              "  '14 cup boiling water',\n",
              "  '1 (12 ounce) package Cool Whip, thawed',\n",
              "  '2 cups cubed seedless watermelon',\n",
              "  '1 graham cracker crust']]"
            ]
          },
          "metadata": {},
          "execution_count": 17
        }
      ]
    },
    {
      "cell_type": "code",
      "metadata": {
        "id": "UIZ2aUm8HCIg"
      },
      "source": [
        "# # Creating columns for our dataframe\n",
        "# cols = ['ingredients' , 'instructions']\n",
        "\n",
        "# # Making into a one whole string and adding up the rows by looping\n",
        "# def get_df(cols = cols):\n",
        "#   info_df = pd.DataFrame(columns= cols)\n",
        "#   for i in tqdm(range(0 , len(data_1))):\n",
        "#     info_df = info_df.append({'ingredients': ' /t '.join(ingredients_list[i]) ,  \n",
        "#                               'instructions': ' /t '.join(instructions_list[i])} , ignore_index = True)\n",
        "\n",
        "#   return info_df"
      ],
      "execution_count": null,
      "outputs": []
    },
    {
      "cell_type": "code",
      "metadata": {
        "colab": {
          "base_uri": "https://localhost:8080/"
        },
        "id": "ZobAC-hSKHFQ",
        "outputId": "a7f97667-3bd1-42b0-f366-008d5ea2ec2a"
      },
      "source": [
        "# Creating updated list with one individual strings \n",
        "updated_ingredients_list = [' /t '.join(ingredients_list[i]) for i in tqdm(range(0 , len(data_1)))] \n",
        "updated_instructions_list = [' /t '.join(instructions_list[i]) for i in tqdm(range(0 , len(data_1)))] "
      ],
      "execution_count": null,
      "outputs": [
        {
          "output_type": "stream",
          "name": "stderr",
          "text": [
            "100%|██████████| 1029720/1029720 [00:01<00:00, 751385.39it/s]\n",
            "100%|██████████| 1029720/1029720 [00:01<00:00, 709387.23it/s]\n"
          ]
        }
      ]
    },
    {
      "cell_type": "code",
      "metadata": {
        "id": "xWVZvITeXnDM",
        "colab": {
          "base_uri": "https://localhost:8080/",
          "height": 204
        },
        "outputId": "025fe2a6-ab27-483a-f723-8253e01ae209"
      },
      "source": [
        "import numpy as np \n",
        "\n",
        "data1_df['ingredients'] = pd.Series(updated_ingredients_list)\n",
        "data1_df['instructions'] = pd.Series(updated_instructions_list)\n",
        "\n",
        "data1_df.head()"
      ],
      "execution_count": null,
      "outputs": [
        {
          "output_type": "execute_result",
          "data": {
            "text/html": [
              "<div>\n",
              "<style scoped>\n",
              "    .dataframe tbody tr th:only-of-type {\n",
              "        vertical-align: middle;\n",
              "    }\n",
              "\n",
              "    .dataframe tbody tr th {\n",
              "        vertical-align: top;\n",
              "    }\n",
              "\n",
              "    .dataframe thead th {\n",
              "        text-align: right;\n",
              "    }\n",
              "</style>\n",
              "<table border=\"1\" class=\"dataframe\">\n",
              "  <thead>\n",
              "    <tr style=\"text-align: right;\">\n",
              "      <th></th>\n",
              "      <th>ID</th>\n",
              "      <th>food_title</th>\n",
              "      <th>partition</th>\n",
              "      <th>image_url</th>\n",
              "      <th>ingredients</th>\n",
              "      <th>instructions</th>\n",
              "    </tr>\n",
              "  </thead>\n",
              "  <tbody>\n",
              "    <tr>\n",
              "      <th>0</th>\n",
              "      <td>000018c8a5</td>\n",
              "      <td>Worlds Best Mac and Cheese</td>\n",
              "      <td>train</td>\n",
              "      <td>http://www.epicurious.com/recipes/food/views/-...</td>\n",
              "      <td>6 ounces penne /t 2 cups Beechers Flagship Che...</td>\n",
              "      <td>Preheat the oven to 350 F. Butter or oil an 8-...</td>\n",
              "    </tr>\n",
              "    <tr>\n",
              "      <th>1</th>\n",
              "      <td>000033e39b</td>\n",
              "      <td>Dilly Macaroni Salad Recipe</td>\n",
              "      <td>train</td>\n",
              "      <td>http://cookeatshare.com/recipes/dilly-macaroni...</td>\n",
              "      <td>1 c. elbow macaroni /t 1 c. cubed American che...</td>\n",
              "      <td>Cook macaroni according to package directions;...</td>\n",
              "    </tr>\n",
              "    <tr>\n",
              "      <th>2</th>\n",
              "      <td>000035f7ed</td>\n",
              "      <td>Gazpacho</td>\n",
              "      <td>train</td>\n",
              "      <td>http://www.foodnetwork.com/recipes/gazpacho1.html</td>\n",
              "      <td>8 tomatoes, quartered /t Kosher salt /t 1 red ...</td>\n",
              "      <td>Add the tomatoes to a food processor with a pi...</td>\n",
              "    </tr>\n",
              "    <tr>\n",
              "      <th>3</th>\n",
              "      <td>00003a70b1</td>\n",
              "      <td>Crunchy Onion Potato Bake</td>\n",
              "      <td>test</td>\n",
              "      <td>http://www.food.com/recipe/crunchy-onion-potat...</td>\n",
              "      <td>2 12 cups milk /t 1 12 cups water /t 14 cup bu...</td>\n",
              "      <td>Preheat oven to 350 degrees Fahrenheit. /t Spr...</td>\n",
              "    </tr>\n",
              "    <tr>\n",
              "      <th>4</th>\n",
              "      <td>00004320bb</td>\n",
              "      <td>Cool 'n Easy Creamy Watermelon Pie</td>\n",
              "      <td>train</td>\n",
              "      <td>http://www.food.com/recipe/cool-n-easy-creamy-...</td>\n",
              "      <td>1 (3 ounce) package watermelon gelatin /t 14 c...</td>\n",
              "      <td>Dissolve Jello in boiling water. /t Allow to c...</td>\n",
              "    </tr>\n",
              "  </tbody>\n",
              "</table>\n",
              "</div>"
            ],
            "text/plain": [
              "           ID  ...                                       instructions\n",
              "0  000018c8a5  ...  Preheat the oven to 350 F. Butter or oil an 8-...\n",
              "1  000033e39b  ...  Cook macaroni according to package directions;...\n",
              "2  000035f7ed  ...  Add the tomatoes to a food processor with a pi...\n",
              "3  00003a70b1  ...  Preheat oven to 350 degrees Fahrenheit. /t Spr...\n",
              "4  00004320bb  ...  Dissolve Jello in boiling water. /t Allow to c...\n",
              "\n",
              "[5 rows x 6 columns]"
            ]
          },
          "metadata": {},
          "execution_count": 20
        }
      ]
    },
    {
      "cell_type": "code",
      "metadata": {
        "id": "CpZXDQprZDBn"
      },
      "source": [
        "#pd.set_option('display.max_colwidth', None)"
      ],
      "execution_count": null,
      "outputs": []
    },
    {
      "cell_type": "code",
      "metadata": {
        "colab": {
          "base_uri": "https://localhost:8080/",
          "height": 204
        },
        "id": "iSRzkclxavr0",
        "outputId": "9c9943e0-4c7a-446d-d5da-e146ce84d972"
      },
      "source": [
        "data1_df.head()"
      ],
      "execution_count": null,
      "outputs": [
        {
          "output_type": "execute_result",
          "data": {
            "text/html": [
              "<div>\n",
              "<style scoped>\n",
              "    .dataframe tbody tr th:only-of-type {\n",
              "        vertical-align: middle;\n",
              "    }\n",
              "\n",
              "    .dataframe tbody tr th {\n",
              "        vertical-align: top;\n",
              "    }\n",
              "\n",
              "    .dataframe thead th {\n",
              "        text-align: right;\n",
              "    }\n",
              "</style>\n",
              "<table border=\"1\" class=\"dataframe\">\n",
              "  <thead>\n",
              "    <tr style=\"text-align: right;\">\n",
              "      <th></th>\n",
              "      <th>ID</th>\n",
              "      <th>food_title</th>\n",
              "      <th>partition</th>\n",
              "      <th>image_url</th>\n",
              "      <th>ingredients</th>\n",
              "      <th>instructions</th>\n",
              "    </tr>\n",
              "  </thead>\n",
              "  <tbody>\n",
              "    <tr>\n",
              "      <th>0</th>\n",
              "      <td>000018c8a5</td>\n",
              "      <td>Worlds Best Mac and Cheese</td>\n",
              "      <td>train</td>\n",
              "      <td>http://www.epicurious.com/recipes/food/views/-...</td>\n",
              "      <td>6 ounces penne /t 2 cups Beechers Flagship Che...</td>\n",
              "      <td>Preheat the oven to 350 F. Butter or oil an 8-...</td>\n",
              "    </tr>\n",
              "    <tr>\n",
              "      <th>1</th>\n",
              "      <td>000033e39b</td>\n",
              "      <td>Dilly Macaroni Salad Recipe</td>\n",
              "      <td>train</td>\n",
              "      <td>http://cookeatshare.com/recipes/dilly-macaroni...</td>\n",
              "      <td>1 c. elbow macaroni /t 1 c. cubed American che...</td>\n",
              "      <td>Cook macaroni according to package directions;...</td>\n",
              "    </tr>\n",
              "    <tr>\n",
              "      <th>2</th>\n",
              "      <td>000035f7ed</td>\n",
              "      <td>Gazpacho</td>\n",
              "      <td>train</td>\n",
              "      <td>http://www.foodnetwork.com/recipes/gazpacho1.html</td>\n",
              "      <td>8 tomatoes, quartered /t Kosher salt /t 1 red ...</td>\n",
              "      <td>Add the tomatoes to a food processor with a pi...</td>\n",
              "    </tr>\n",
              "    <tr>\n",
              "      <th>3</th>\n",
              "      <td>00003a70b1</td>\n",
              "      <td>Crunchy Onion Potato Bake</td>\n",
              "      <td>test</td>\n",
              "      <td>http://www.food.com/recipe/crunchy-onion-potat...</td>\n",
              "      <td>2 12 cups milk /t 1 12 cups water /t 14 cup bu...</td>\n",
              "      <td>Preheat oven to 350 degrees Fahrenheit. /t Spr...</td>\n",
              "    </tr>\n",
              "    <tr>\n",
              "      <th>4</th>\n",
              "      <td>00004320bb</td>\n",
              "      <td>Cool 'n Easy Creamy Watermelon Pie</td>\n",
              "      <td>train</td>\n",
              "      <td>http://www.food.com/recipe/cool-n-easy-creamy-...</td>\n",
              "      <td>1 (3 ounce) package watermelon gelatin /t 14 c...</td>\n",
              "      <td>Dissolve Jello in boiling water. /t Allow to c...</td>\n",
              "    </tr>\n",
              "  </tbody>\n",
              "</table>\n",
              "</div>"
            ],
            "text/plain": [
              "           ID  ...                                       instructions\n",
              "0  000018c8a5  ...  Preheat the oven to 350 F. Butter or oil an 8-...\n",
              "1  000033e39b  ...  Cook macaroni according to package directions;...\n",
              "2  000035f7ed  ...  Add the tomatoes to a food processor with a pi...\n",
              "3  00003a70b1  ...  Preheat oven to 350 degrees Fahrenheit. /t Spr...\n",
              "4  00004320bb  ...  Dissolve Jello in boiling water. /t Allow to c...\n",
              "\n",
              "[5 rows x 6 columns]"
            ]
          },
          "metadata": {},
          "execution_count": 23
        }
      ]
    },
    {
      "cell_type": "code",
      "metadata": {
        "id": "S900mr5vaxk0"
      },
      "source": [
        "# Saving the dataframe \n",
        "path = '/content/drive/MyDrive/Recipe_1M/'\n",
        "data1_df.to_csv( path+'data_1.csv' , index = False)"
      ],
      "execution_count": null,
      "outputs": []
    },
    {
      "cell_type": "markdown",
      "metadata": {
        "id": "Gl_P98ArbXyU"
      },
      "source": [
        "So far we have worked on getting a pretty big and beautiful dataframe, now the next step is preprocessing a removing bits of data from our huge dataframe. We can do things like, \n",
        "- Remove recipes with less than 2 ingredients or 2 instructions\n",
        "- Remove recipes that doesnt have a image (but not sure how to find this for now) \n",
        "\n",
        "\n"
      ]
    },
    {
      "cell_type": "code",
      "metadata": {
        "colab": {
          "base_uri": "https://localhost:8080/"
        },
        "id": "aWDoG7ZQkIlV",
        "outputId": "f205a3e0-8ec2-4455-e575-5a33660ac86d"
      },
      "source": [
        "data1_df['food_title'].value_counts()"
      ],
      "execution_count": null,
      "outputs": [
        {
          "output_type": "execute_result",
          "data": {
            "text/plain": [
              "Banana Bread                                 247\n",
              "Guacamole                                    202\n",
              "Chicken Enchiladas                           198\n",
              "Beef Stroganoff                              185\n",
              "Chocolate Chip Cookies                       179\n",
              "                                            ... \n",
              "Breakfast Queso Fundido Recipe                 1\n",
              "Sheila's Banana Bread                          1\n",
              "Sauerkraut on Bread Dough                      1\n",
              "Teenie's Accidental Rhubarb-Raspberry Pie      1\n",
              "Spicy Cilantro Sliders                         1\n",
              "Name: food_title, Length: 809994, dtype: int64"
            ]
          },
          "metadata": {},
          "execution_count": 30
        }
      ]
    },
    {
      "cell_type": "code",
      "metadata": {
        "colab": {
          "base_uri": "https://localhost:8080/",
          "height": 748
        },
        "id": "Vc-KOkjolAFK",
        "outputId": "171939da-1fb0-4b59-a4a6-573d2eecee80"
      },
      "source": [
        "# Not needed, but just filtering out the dataframe with food titles \n",
        "\n",
        "counts = data1_df['food_title'].value_counts()\n",
        "\n",
        "# Filtering out the dataframe with the food title \n",
        "preprocessed_df = data1_df[~data1_df['food_title'].isin(counts[counts < 2].index)]\n",
        "\n",
        "preprocessed_df.head()"
      ],
      "execution_count": null,
      "outputs": [
        {
          "output_type": "execute_result",
          "data": {
            "text/html": [
              "<div>\n",
              "<style scoped>\n",
              "    .dataframe tbody tr th:only-of-type {\n",
              "        vertical-align: middle;\n",
              "    }\n",
              "\n",
              "    .dataframe tbody tr th {\n",
              "        vertical-align: top;\n",
              "    }\n",
              "\n",
              "    .dataframe thead th {\n",
              "        text-align: right;\n",
              "    }\n",
              "</style>\n",
              "<table border=\"1\" class=\"dataframe\">\n",
              "  <thead>\n",
              "    <tr style=\"text-align: right;\">\n",
              "      <th></th>\n",
              "      <th>ID</th>\n",
              "      <th>food_title</th>\n",
              "      <th>partition</th>\n",
              "      <th>image_url</th>\n",
              "      <th>ingredients</th>\n",
              "      <th>instructions</th>\n",
              "    </tr>\n",
              "  </thead>\n",
              "  <tbody>\n",
              "    <tr>\n",
              "      <th>2</th>\n",
              "      <td>000035f7ed</td>\n",
              "      <td>Gazpacho</td>\n",
              "      <td>train</td>\n",
              "      <td>http://www.foodnetwork.com/recipes/gazpacho1.html</td>\n",
              "      <td>8 tomatoes, quartered /t Kosher salt /t 1 red onion, cut into small dice /t 1 green bell pepper, cut into small dice /t 1 red bell pepper, cut into small dice /t 1 yellow bell pepper, cut into small dice /t 1/2 cucumber, cut into small dice /t Extra-virgin olive oil, for drizzling /t 3 leaves fresh basil, finely chopped</td>\n",
              "      <td>Add the tomatoes to a food processor with a pinch of salt and puree until smooth. /t Combine the onions, bell peppers and cucumbers with the tomato puree in a large bowl. /t Chill at least 1 hour. /t Drizzle with olive oil, garnish with chopped basil and serve.</td>\n",
              "    </tr>\n",
              "    <tr>\n",
              "      <th>3</th>\n",
              "      <td>00003a70b1</td>\n",
              "      <td>Crunchy Onion Potato Bake</td>\n",
              "      <td>test</td>\n",
              "      <td>http://www.food.com/recipe/crunchy-onion-potato-bake-479149</td>\n",
              "      <td>2 12 cups milk /t 1 12 cups water /t 14 cup butter /t mashed potatoes, 1 box, homestyle /t 1 (8 ounce) can whole kernel corn (drained) /t 1 cup cheddar cheese /t 1 cup French-fried onions</td>\n",
              "      <td>Preheat oven to 350 degrees Fahrenheit. /t Spray pan with non stick cooking spray. /t Heat milk, water and butter to boiling; stir in contents of both pouches of potatoes; let stand one minute. /t Stir in corn. /t Spoon half the potato mixture in pan. /t Sprinkle half each of cheese and onions; top with remaining potatoes. /t Sprinkle with remaining cheese and onions. /t Bake 10 to 15 minutes until cheese is melted. /t Enjoy !</td>\n",
              "    </tr>\n",
              "    <tr>\n",
              "      <th>8</th>\n",
              "      <td>000095fc1d</td>\n",
              "      <td>Yogurt Parfaits</td>\n",
              "      <td>train</td>\n",
              "      <td>http://tastykitchen.com/recipes/breakfastbrunch/yogurt-parfaits/</td>\n",
              "      <td>8 ounces, weight Light Fat Free Vanilla Yogurt (I Used Activia) /t 1 cup Fresh Sliced Strawberries /t 1/4 cups Low-fat Granola</td>\n",
              "      <td>Layer all ingredients in a serving dish.</td>\n",
              "    </tr>\n",
              "    <tr>\n",
              "      <th>9</th>\n",
              "      <td>0000973574</td>\n",
              "      <td>Zucchini Nut Bread</td>\n",
              "      <td>train</td>\n",
              "      <td>http://www.food.com/recipe/zucchini-nut-bread-329682</td>\n",
              "      <td>2 cups flour /t 1 tablespoon cinnamon /t 2 teaspoons baking soda /t 1 teaspoon salt /t 14 teaspoon baking powder /t 3 eggs /t 2 cups sugar /t 1 cup vegetable oil /t 1 tablespoon vanilla /t 2 cups grated raw zucchini /t 1 cup walnuts</td>\n",
              "      <td>Sift dry ingredients. /t beat eggs untill frothy, add sugar, oil and vanilla. /t Beat untillthick. /t Stir in zucchini. /t blend in sifted dry ingredients. /t Fold in nuts. /t pour in greased loaf pan and bake at 350 degrees for 1 1/2 hours.</td>\n",
              "    </tr>\n",
              "    <tr>\n",
              "      <th>10</th>\n",
              "      <td>0000a4bcf6</td>\n",
              "      <td>Salmon &amp; Salad a La SPORTZ</td>\n",
              "      <td>train</td>\n",
              "      <td>http://www.kraftrecipes.com/recipes/salmon-salad-a-la-sportz-59364.aspx</td>\n",
              "      <td>1/2 cup green onions, chopped /t 2 red pepper /t 1 pound salmon, fillet or steak, raw Walmart Supercenter 1 lb For $6.94 thru 02/14 /t 1 tablespoon extra virgin olive oil /t 1/4 teaspoon ground ginger /t 2 cup MINUTE Premium White Rice, uncooked /t 1/2 pound mixed salad greens /t 2 carrot /t 15 cherry tomatoes /t 1/2 cup KRAFT Fat Free Italian Dressing /t 40 piece/slice /t 2 tablespoon KRAFT Grated Parmesan Cheese /t 1 medium banana, sliced /t 1 kiwi /t 1 BREYERS Vanilla Lowfat Yogurt, 8-oz. container /t 1/4 teaspoon ground cinnamon /t 1 teaspoon granulated sugar</td>\n",
              "      <td>Chop green onions; chop red peppers; peel and grate carrots (save two grated carrots for salads); place all in a medium bowl and toss to mix. /t Preheat oven to 450 degrees Fahrenheit. /t Place salmon fillet in middle of a large piece of heavy aluminum foil. /t Sprinkle salmon with ginger and freshly ground black pepper if you wish. /t Arrange bowl of veggies on top of salmon, and seal foil tightly to create a tightly sealed pocket. /t Place in oven and bake for 20 minutes. /t The veggies will give up some of their liquid, creating more than enough to cook the fish. /t Cook rice per package instructions. /t While fish bakes, prepare Salad a La SPORTZ by arranging crackers in single layer on cookie sheet; sprinkle with Parmesan topping. /t Bake for 1 to 2 minutes in oven with fish, just until lightly browned. /t Cool. /t Toss greens (1/2 pound = 8 cups), carrots (grated), tomatoes (halved), and green onions (sliced) in large sized bowl. /t Toss with dressing. /t Sprinkle with crackers just before serving. /t Slice banana and kiwi and toss gently; divide between four dessert cups. /t Blend cinnamon and sugar into yogurt, and place one-fourth of mixture on each bowl of fruit.</td>\n",
              "    </tr>\n",
              "  </tbody>\n",
              "</table>\n",
              "</div>"
            ],
            "text/plain": [
              "            ID  ...                                                                                                                                                                                                                                                                                                                                                                                                                                                                                                                                                                                                                                                                                                                                                                                                                                                                                                                                                                                                                                                                                                                                                                                                                             instructions\n",
              "2   000035f7ed  ...                                                                                                                                                                                                                                                                                                                                                                                                                                                                                                                                                                                                                                                                                                                                                                                                                                                                                                                                                                    Add the tomatoes to a food processor with a pinch of salt and puree until smooth. /t Combine the onions, bell peppers and cucumbers with the tomato puree in a large bowl. /t Chill at least 1 hour. /t Drizzle with olive oil, garnish with chopped basil and serve.\n",
              "3   00003a70b1  ...                                                                                                                                                                                                                                                                                                                                                                                                                                                                                                                                                                                                                                                                                                                                                                                           Preheat oven to 350 degrees Fahrenheit. /t Spray pan with non stick cooking spray. /t Heat milk, water and butter to boiling; stir in contents of both pouches of potatoes; let stand one minute. /t Stir in corn. /t Spoon half the potato mixture in pan. /t Sprinkle half each of cheese and onions; top with remaining potatoes. /t Sprinkle with remaining cheese and onions. /t Bake 10 to 15 minutes until cheese is melted. /t Enjoy !\n",
              "8   000095fc1d  ...                                                                                                                                                                                                                                                                                                                                                                                                                                                                                                                                                                                                                                                                                                                                                                                                                                                                                                                                                                                                                                                                                                                                                                                                 Layer all ingredients in a serving dish.\n",
              "9   0000973574  ...                                                                                                                                                                                                                                                                                                                                                                                                                                                                                                                                                                                                                                                                                                                                                                                                                                                                                                                                                                                        Sift dry ingredients. /t beat eggs untill frothy, add sugar, oil and vanilla. /t Beat untillthick. /t Stir in zucchini. /t blend in sifted dry ingredients. /t Fold in nuts. /t pour in greased loaf pan and bake at 350 degrees for 1 1/2 hours.\n",
              "10  0000a4bcf6  ...  Chop green onions; chop red peppers; peel and grate carrots (save two grated carrots for salads); place all in a medium bowl and toss to mix. /t Preheat oven to 450 degrees Fahrenheit. /t Place salmon fillet in middle of a large piece of heavy aluminum foil. /t Sprinkle salmon with ginger and freshly ground black pepper if you wish. /t Arrange bowl of veggies on top of salmon, and seal foil tightly to create a tightly sealed pocket. /t Place in oven and bake for 20 minutes. /t The veggies will give up some of their liquid, creating more than enough to cook the fish. /t Cook rice per package instructions. /t While fish bakes, prepare Salad a La SPORTZ by arranging crackers in single layer on cookie sheet; sprinkle with Parmesan topping. /t Bake for 1 to 2 minutes in oven with fish, just until lightly browned. /t Cool. /t Toss greens (1/2 pound = 8 cups), carrots (grated), tomatoes (halved), and green onions (sliced) in large sized bowl. /t Toss with dressing. /t Sprinkle with crackers just before serving. /t Slice banana and kiwi and toss gently; divide between four dessert cups. /t Blend cinnamon and sugar into yogurt, and place one-fourth of mixture on each bowl of fruit.\n",
              "\n",
              "[5 rows x 6 columns]"
            ]
          },
          "metadata": {},
          "execution_count": 42
        }
      ]
    },
    {
      "cell_type": "code",
      "metadata": {
        "colab": {
          "base_uri": "https://localhost:8080/"
        },
        "id": "kRsWI8X9hsn8",
        "outputId": "c6dc19a4-2af3-414c-af66-bc2ea1fb9179"
      },
      "source": [
        "preprocessed_df.shape"
      ],
      "execution_count": null,
      "outputs": [
        {
          "output_type": "execute_result",
          "data": {
            "text/plain": [
              "(303299, 6)"
            ]
          },
          "metadata": {},
          "execution_count": 43
        }
      ]
    },
    {
      "cell_type": "code",
      "metadata": {
        "colab": {
          "base_uri": "https://localhost:8080/"
        },
        "id": "EnaGskislH_y",
        "outputId": "1b4732a4-d266-4c97-bb2f-79caf5498dc5"
      },
      "source": [
        "252547 +  54255 + 54506 "
      ],
      "execution_count": null,
      "outputs": [
        {
          "output_type": "execute_result",
          "data": {
            "text/plain": [
              "361308"
            ]
          },
          "metadata": {},
          "execution_count": 39
        }
      ]
    },
    {
      "cell_type": "code",
      "metadata": {
        "colab": {
          "base_uri": "https://localhost:8080/"
        },
        "id": "n_Q-5id8mGV4",
        "outputId": "13a3bab0-2366-4aca-9c62-d5459974097f"
      },
      "source": [
        "preprocessed_df['food_title'].value_counts()"
      ],
      "execution_count": null,
      "outputs": [
        {
          "output_type": "execute_result",
          "data": {
            "text/plain": [
              "Banana Bread                                          247\n",
              "Guacamole                                             202\n",
              "Chicken Enchiladas                                    198\n",
              "Beef Stroganoff                                       185\n",
              "Chocolate Chip Cookies                                179\n",
              "                                                     ... \n",
              "Peach Galette                                           2\n",
              "Old School-Barbecue Mac Salad                           2\n",
              "Cottage Cheese Spinach Chicken                          2\n",
              "Limoncello Bread Pudding                                2\n",
              "Dijon Grilled Chicken & Pimento Cheese Quesadillas      2\n",
              "Name: food_title, Length: 83573, dtype: int64"
            ]
          },
          "metadata": {},
          "execution_count": 44
        }
      ]
    },
    {
      "cell_type": "markdown",
      "metadata": {
        "id": "YlA4IQ0gmU8g"
      },
      "source": [
        "But I dont think so this preprocessed dataframe might work, so I will be getting my hands on the `layer2.json` file and get their id's and filter out the DataFrame we have with those Id's. \n",
        "\n",
        "But why? \n",
        "\n",
        "Well we dont still have the image filename of format `xyz123.jpg`, we got the ID but it seems `layer2.json` has the filename for the corresponding ID of a `layer1.json` file. "
      ]
    },
    {
      "cell_type": "code",
      "metadata": {
        "id": "JwbYK0P8moDf"
      },
      "source": [
        "# Loading in the layer 2 json file\n",
        "\n",
        "with open('/content/drive/MyDrive/Recipe_1M/layer2.json') as file:\n",
        "  data_2 = json.load(file)\n"
      ],
      "execution_count": null,
      "outputs": []
    },
    {
      "cell_type": "code",
      "metadata": {
        "colab": {
          "base_uri": "https://localhost:8080/"
        },
        "id": "zE5XI6uYLPUe",
        "outputId": "c7e16bd1-7478-4bb5-81be-121e29531e77"
      },
      "source": [
        "# How many image id's are in here? \n",
        "len(data_2)"
      ],
      "execution_count": null,
      "outputs": [
        {
          "output_type": "execute_result",
          "data": {
            "text/plain": [
              "402760"
            ]
          },
          "metadata": {},
          "execution_count": 25
        }
      ]
    },
    {
      "cell_type": "code",
      "metadata": {
        "colab": {
          "base_uri": "https://localhost:8080/"
        },
        "id": "Ejx2JeWpLVHF",
        "outputId": "e750ce05-c36f-48f2-ccda-d24b1ed250e4"
      },
      "source": [
        "# Getting the Id and image ID as a list (Sample one)\n",
        "sub_data = data_2[:10]\n",
        "\n",
        "for attr in sub_data:\n",
        "  #print(attr['id'])\n",
        "  for lay in attr['images']:\n",
        "    print(lay['id'])"
      ],
      "execution_count": null,
      "outputs": [
        {
          "output_type": "stream",
          "name": "stdout",
          "text": [
            "3e233001e2.jpg\n",
            "7f749987f9.jpg\n",
            "aaf6b2dcd3.jpg\n",
            "6bdca6e490.jpg\n",
            "6409eab844.jpg\n",
            "f7cb3de295.jpg\n",
            "a1374cdd98.jpg\n",
            "cb1a684683.jpg\n",
            "2f4b4c4452.jpg\n",
            "f480145da5.jpg\n",
            "3b99e69c3c.jpg\n",
            "5ab32d58e0.jpg\n",
            "9f497dcfa5.jpg\n",
            "4636c7f576.jpg\n"
          ]
        }
      ]
    },
    {
      "cell_type": "code",
      "metadata": {
        "colab": {
          "base_uri": "https://localhost:8080/"
        },
        "id": "8x2VPBP3MZ28",
        "outputId": "8698bedd-5917-4126-8f7b-49e8040216e3"
      },
      "source": [
        "# Now getting the unique id and image id in a list \n",
        "\n",
        "unique_id_list = [] \n",
        "lst_id = []\n",
        "\n",
        "for attr in tqdm(data_2):\n",
        "  unique_id_list.append(attr['id'])\n",
        "  image_id_list = []\n",
        "  # Into the images dict \n",
        "  for lay in attr['images']:\n",
        "    image_id_list.append(lay['id'])\n",
        "\n",
        "  lst_id.append(image_id_list)\n",
        "len(image_id_list) , len(unique_id_list)"
      ],
      "execution_count": null,
      "outputs": [
        {
          "output_type": "stream",
          "name": "stderr",
          "text": [
            "100%|██████████| 402760/402760 [00:00<00:00, 697048.56it/s]\n"
          ]
        },
        {
          "output_type": "execute_result",
          "data": {
            "text/plain": [
              "(1, 402760)"
            ]
          },
          "metadata": {},
          "execution_count": 27
        }
      ]
    },
    {
      "cell_type": "code",
      "metadata": {
        "colab": {
          "base_uri": "https://localhost:8080/"
        },
        "id": "btfhf5_3OCpW",
        "outputId": "f259bb45-2919-49d8-c638-06f241bc4cc2"
      },
      "source": [
        "len(lst_id)"
      ],
      "execution_count": null,
      "outputs": [
        {
          "output_type": "execute_result",
          "data": {
            "text/plain": [
              "402760"
            ]
          },
          "metadata": {},
          "execution_count": 28
        }
      ]
    },
    {
      "cell_type": "code",
      "metadata": {
        "colab": {
          "base_uri": "https://localhost:8080/"
        },
        "id": "F0Dbd_MEONGQ",
        "outputId": "6de7fba6-ac1e-482f-ff68-75338cb5c329"
      },
      "source": [
        "unique_id_list[:5] , lst_id[:5]"
      ],
      "execution_count": null,
      "outputs": [
        {
          "output_type": "execute_result",
          "data": {
            "text/plain": [
              "(['00003a70b1', '000075604a', '00007bfd16', '000095fc1d', '0000b1e2b5'],\n",
              " [['3e233001e2.jpg', '7f749987f9.jpg', 'aaf6b2dcd3.jpg'],\n",
              "  ['6bdca6e490.jpg'],\n",
              "  ['6409eab844.jpg', 'f7cb3de295.jpg'],\n",
              "  ['a1374cdd98.jpg'],\n",
              "  ['cb1a684683.jpg']])"
            ]
          },
          "metadata": {},
          "execution_count": 29
        }
      ]
    },
    {
      "cell_type": "code",
      "metadata": {
        "id": "fd9ZlBdtWvKE"
      },
      "source": [
        "# Filtering out the dataframe based on our layer2.json files ID's \n",
        "filtered_df = data1_df.query('ID in @unique_id_list')"
      ],
      "execution_count": null,
      "outputs": []
    },
    {
      "cell_type": "code",
      "metadata": {
        "colab": {
          "base_uri": "https://localhost:8080/"
        },
        "id": "2qRLDg_EWY4Q",
        "outputId": "c5a5970a-462b-4d0f-c572-8fc6a2383932"
      },
      "source": [
        "# Are they same? \n",
        "filtered_df['ID'].tolist() == unique_id_list"
      ],
      "execution_count": null,
      "outputs": [
        {
          "output_type": "execute_result",
          "data": {
            "text/plain": [
              "True"
            ]
          },
          "metadata": {},
          "execution_count": 31
        }
      ]
    },
    {
      "cell_type": "code",
      "metadata": {
        "colab": {
          "base_uri": "https://localhost:8080/",
          "height": 359
        },
        "id": "9l5FoxmfZvjo",
        "outputId": "d73105a3-c7f4-4704-ea10-d09c5dbbaa8d"
      },
      "source": [
        "# Looking into our dataframe \n",
        "filtered_df.head(10)"
      ],
      "execution_count": null,
      "outputs": [
        {
          "output_type": "execute_result",
          "data": {
            "text/html": [
              "<div>\n",
              "<style scoped>\n",
              "    .dataframe tbody tr th:only-of-type {\n",
              "        vertical-align: middle;\n",
              "    }\n",
              "\n",
              "    .dataframe tbody tr th {\n",
              "        vertical-align: top;\n",
              "    }\n",
              "\n",
              "    .dataframe thead th {\n",
              "        text-align: right;\n",
              "    }\n",
              "</style>\n",
              "<table border=\"1\" class=\"dataframe\">\n",
              "  <thead>\n",
              "    <tr style=\"text-align: right;\">\n",
              "      <th></th>\n",
              "      <th>ID</th>\n",
              "      <th>food_title</th>\n",
              "      <th>partition</th>\n",
              "      <th>image_url</th>\n",
              "      <th>ingredients</th>\n",
              "      <th>instructions</th>\n",
              "    </tr>\n",
              "  </thead>\n",
              "  <tbody>\n",
              "    <tr>\n",
              "      <th>3</th>\n",
              "      <td>00003a70b1</td>\n",
              "      <td>Crunchy Onion Potato Bake</td>\n",
              "      <td>test</td>\n",
              "      <td>http://www.food.com/recipe/crunchy-onion-potat...</td>\n",
              "      <td>2 12 cups milk /t 1 12 cups water /t 14 cup bu...</td>\n",
              "      <td>Preheat oven to 350 degrees Fahrenheit. /t Spr...</td>\n",
              "    </tr>\n",
              "    <tr>\n",
              "      <th>6</th>\n",
              "      <td>000075604a</td>\n",
              "      <td>Kombu Tea Grilled Chicken Thigh</td>\n",
              "      <td>train</td>\n",
              "      <td>https://cookpad.com/us/recipes/150100-kombu-te...</td>\n",
              "      <td>2 Chicken thighs /t 2 tsp Kombu tea /t 1 White...</td>\n",
              "      <td>Pierce the skin of the chicken with a fork or ...</td>\n",
              "    </tr>\n",
              "    <tr>\n",
              "      <th>7</th>\n",
              "      <td>00007bfd16</td>\n",
              "      <td>Strawberry Rhubarb Dump Cake</td>\n",
              "      <td>train</td>\n",
              "      <td>http://www.food.com/recipe/strawberry-rhubarb-...</td>\n",
              "      <td>6 -8 cups fresh rhubarb, or /t 6 -8 cups froze...</td>\n",
              "      <td>Put ingredients in a buttered 9 x 12 x 2-inch ...</td>\n",
              "    </tr>\n",
              "    <tr>\n",
              "      <th>8</th>\n",
              "      <td>000095fc1d</td>\n",
              "      <td>Yogurt Parfaits</td>\n",
              "      <td>train</td>\n",
              "      <td>http://tastykitchen.com/recipes/breakfastbrunc...</td>\n",
              "      <td>8 ounces, weight Light Fat Free Vanilla Yogurt...</td>\n",
              "      <td>Layer all ingredients in a serving dish.</td>\n",
              "    </tr>\n",
              "    <tr>\n",
              "      <th>11</th>\n",
              "      <td>0000b1e2b5</td>\n",
              "      <td>Fennel-Rubbed Pork Tenderloin with Roasted Fen...</td>\n",
              "      <td>train</td>\n",
              "      <td>http://www.epicurious.com/recipes/food/views/f...</td>\n",
              "      <td>1 teaspoon fennel seeds /t 1 pound pork tender...</td>\n",
              "      <td>Preheat oven to 350F with rack in middle. /t C...</td>\n",
              "    </tr>\n",
              "    <tr>\n",
              "      <th>12</th>\n",
              "      <td>0000c79afb</td>\n",
              "      <td>Pink Sangria</td>\n",
              "      <td>train</td>\n",
              "      <td>http://www.food.com/recipe/pink-sangria-305385</td>\n",
              "      <td>1 (750 ml) bottle rose wine, chilled /t 14 cup...</td>\n",
              "      <td>In a pitcher, combine all the ingredients exce...</td>\n",
              "    </tr>\n",
              "    <tr>\n",
              "      <th>14</th>\n",
              "      <td>00010379bf</td>\n",
              "      <td>Brown Sugar 'Karintou' Snacks</td>\n",
              "      <td>train</td>\n",
              "      <td>https://cookpad.com/us/recipes/156014-brown-su...</td>\n",
              "      <td>200 grams Cake flour /t 1 tsp Baking powder /t...</td>\n",
              "      <td>In a bowl, mix flour, baking powder, sugar, th...</td>\n",
              "    </tr>\n",
              "    <tr>\n",
              "      <th>16</th>\n",
              "      <td>00010c7867</td>\n",
              "      <td>Grandmommy's Mexicali Meatloaf</td>\n",
              "      <td>train</td>\n",
              "      <td>http://www.food.com/recipe/grandmommys-mexical...</td>\n",
              "      <td>1 12 lbs ground beef /t 34 cup oats /t 12 cup ...</td>\n",
              "      <td>Combine beef, oats, tomato juice, egg, 1 tsp s...</td>\n",
              "    </tr>\n",
              "    <tr>\n",
              "      <th>17</th>\n",
              "      <td>00010d44c7</td>\n",
              "      <td>Broccoli Rice Bake</td>\n",
              "      <td>train</td>\n",
              "      <td>http://www.food.com/recipe/broccoli-rice-bake-...</td>\n",
              "      <td>1 (10 ounce) package frozen chopped broccoli /...</td>\n",
              "      <td>Mix all ingredients and pour into a one quart ...</td>\n",
              "    </tr>\n",
              "    <tr>\n",
              "      <th>21</th>\n",
              "      <td>00013266c9</td>\n",
              "      <td>Tinklee's Vanilla Crack</td>\n",
              "      <td>train</td>\n",
              "      <td>https://cookpad.com/us/recipes/345321-tinklees...</td>\n",
              "      <td>1 box salted soda crackers (I use saltines) /t...</td>\n",
              "      <td>preheat oven to 350 degrees F rack in middle p...</td>\n",
              "    </tr>\n",
              "  </tbody>\n",
              "</table>\n",
              "</div>"
            ],
            "text/plain": [
              "            ID  ...                                       instructions\n",
              "3   00003a70b1  ...  Preheat oven to 350 degrees Fahrenheit. /t Spr...\n",
              "6   000075604a  ...  Pierce the skin of the chicken with a fork or ...\n",
              "7   00007bfd16  ...  Put ingredients in a buttered 9 x 12 x 2-inch ...\n",
              "8   000095fc1d  ...           Layer all ingredients in a serving dish.\n",
              "11  0000b1e2b5  ...  Preheat oven to 350F with rack in middle. /t C...\n",
              "12  0000c79afb  ...  In a pitcher, combine all the ingredients exce...\n",
              "14  00010379bf  ...  In a bowl, mix flour, baking powder, sugar, th...\n",
              "16  00010c7867  ...  Combine beef, oats, tomato juice, egg, 1 tsp s...\n",
              "17  00010d44c7  ...  Mix all ingredients and pour into a one quart ...\n",
              "21  00013266c9  ...  preheat oven to 350 degrees F rack in middle p...\n",
              "\n",
              "[10 rows x 6 columns]"
            ]
          },
          "metadata": {},
          "execution_count": 32
        }
      ]
    },
    {
      "cell_type": "code",
      "metadata": {
        "colab": {
          "base_uri": "https://localhost:8080/"
        },
        "id": "rM7Yaa2gaFAz",
        "outputId": "d9569a5a-a4a1-40f4-b715-857645a13d1a"
      },
      "source": [
        "# Checking the number of files in each sets \n",
        "filtered_df['partition'].value_counts()"
      ],
      "execution_count": null,
      "outputs": [
        {
          "output_type": "execute_result",
          "data": {
            "text/plain": [
              "train    281598\n",
              "test      60740\n",
              "val       60422\n",
              "Name: partition, dtype: int64"
            ]
          },
          "metadata": {},
          "execution_count": 86
        }
      ]
    },
    {
      "cell_type": "code",
      "metadata": {
        "id": "IG2fAB3HbZhq"
      },
      "source": [
        "# Downloading the filtered dataframe \n",
        "path = '/content/drive/MyDrive/Recipe_1M/'\n",
        "filtered_df.to_csv(path + 'filtered_data.csv' , index = False)"
      ],
      "execution_count": null,
      "outputs": []
    },
    {
      "cell_type": "code",
      "metadata": {
        "colab": {
          "base_uri": "https://localhost:8080/"
        },
        "id": "dH2tmCGHcts8",
        "outputId": "63beb0f7-d9da-47e8-ef02-65b15b2d83eb"
      },
      "source": [
        "# the image id list \n",
        "lst_id[:10]"
      ],
      "execution_count": null,
      "outputs": [
        {
          "output_type": "execute_result",
          "data": {
            "text/plain": [
              "[['3e233001e2.jpg', '7f749987f9.jpg', 'aaf6b2dcd3.jpg'],\n",
              " ['6bdca6e490.jpg'],\n",
              " ['6409eab844.jpg', 'f7cb3de295.jpg'],\n",
              " ['a1374cdd98.jpg'],\n",
              " ['cb1a684683.jpg'],\n",
              " ['2f4b4c4452.jpg'],\n",
              " ['f480145da5.jpg'],\n",
              " ['3b99e69c3c.jpg', '5ab32d58e0.jpg'],\n",
              " ['9f497dcfa5.jpg'],\n",
              " ['4636c7f576.jpg']]"
            ]
          },
          "metadata": {},
          "execution_count": 92
        }
      ]
    },
    {
      "cell_type": "markdown",
      "metadata": {
        "id": "VAYu9-QkefET"
      },
      "source": [
        "Awesome so far so good. Now we are on the final stage of making the complete dataframe which not only has the ingredients and instructions but also the full image path. \n",
        "\n",
        "The thing is some of the ID's have more than 1 image file name attached to it. So a single ID will have the same attributes (ingredients, instructions...) multiple times with a different image filename. \n"
      ]
    },
    {
      "cell_type": "code",
      "metadata": {
        "id": "GRjcdvaoPmms"
      },
      "source": [
        "# Making a copy of the dataframe \n",
        "df = filtered_df.copy()\n",
        "r = filtered_df.copy()"
      ],
      "execution_count": null,
      "outputs": []
    },
    {
      "cell_type": "code",
      "metadata": {
        "colab": {
          "base_uri": "https://localhost:8080/"
        },
        "id": "yfbazSwoFf5O",
        "outputId": "2980814e-a91c-48df-c790-0c7eb3d75c7e"
      },
      "source": [
        "# How the list looks like? \n",
        "for lst in lst_id[:10]:\n",
        "  print(lst)"
      ],
      "execution_count": null,
      "outputs": [
        {
          "output_type": "stream",
          "name": "stdout",
          "text": [
            "['3e233001e2.jpg', '7f749987f9.jpg', 'aaf6b2dcd3.jpg']\n",
            "['6bdca6e490.jpg']\n",
            "['6409eab844.jpg', 'f7cb3de295.jpg']\n",
            "['a1374cdd98.jpg']\n",
            "['cb1a684683.jpg']\n",
            "['2f4b4c4452.jpg']\n",
            "['f480145da5.jpg']\n",
            "['3b99e69c3c.jpg', '5ab32d58e0.jpg']\n",
            "['9f497dcfa5.jpg']\n",
            "['4636c7f576.jpg']\n"
          ]
        }
      ]
    },
    {
      "cell_type": "code",
      "metadata": {
        "colab": {
          "base_uri": "https://localhost:8080/"
        },
        "id": "VhQxudYF9tDU",
        "outputId": "56243bcf-77f1-4efe-90db-9a7b1631370c"
      },
      "source": [
        "# Testing out the logic in a small toy example \n",
        "\n",
        "for lst in lst_id[:10]:\n",
        "  if len(lst) > 1:\n",
        "    for l in lst:\n",
        "      print(f'Greater than 1: {l}')\n",
        "  else:\n",
        "    print(lst[0])"
      ],
      "execution_count": null,
      "outputs": [
        {
          "output_type": "stream",
          "name": "stdout",
          "text": [
            "Greater than 1: 3e233001e2.jpg\n",
            "Greater than 1: 7f749987f9.jpg\n",
            "Greater than 1: aaf6b2dcd3.jpg\n",
            "6bdca6e490.jpg\n",
            "Greater than 1: 6409eab844.jpg\n",
            "Greater than 1: f7cb3de295.jpg\n",
            "a1374cdd98.jpg\n",
            "cb1a684683.jpg\n",
            "2f4b4c4452.jpg\n",
            "f480145da5.jpg\n",
            "Greater than 1: 3b99e69c3c.jpg\n",
            "Greater than 1: 5ab32d58e0.jpg\n",
            "9f497dcfa5.jpg\n",
            "4636c7f576.jpg\n"
          ]
        }
      ]
    },
    {
      "cell_type": "markdown",
      "metadata": {
        "id": "iUULwR40S3P6"
      },
      "source": [
        "Writing the step: \n",
        "- A `for loop` for iterating through the image filename list. \n",
        "- Also we want only to make changes on list of length more than 1\n",
        "- So we use the len function and with some conditionals and filter them out, now its again a list. \n",
        "  - Iterate through the filtered list (or list have more than one value)\n",
        "  - the variable will hold the filename, and in that case I want to append the filename to a column in the dataframe with same Id and the attributes. \n"
      ]
    },
    {
      "cell_type": "code",
      "metadata": {
        "colab": {
          "base_uri": "https://localhost:8080/"
        },
        "id": "JBLjFazNSvcY",
        "outputId": "dedb0008-2cc1-47ca-cc74-b4eef6dd0a84"
      },
      "source": [
        "# Building a function that does the above \n",
        "row_dict_list = []\n",
        "\n",
        "\n",
        "for i ,lst in (enumerate(tqdm(lst_id))):\n",
        "  if len(lst) > 1:\n",
        "    for l in lst:\n",
        "\n",
        "      # Selecting that exact row \n",
        "      s = r.iloc[[i] ,]\n",
        "\n",
        "      # Repeating that row depending upon the values in a list (each one)\n",
        "      s = s.reindex(s.index.repeat(1))\n",
        "\n",
        "      # Assigning the image file name (Updating values for each iteration)\n",
        "      s.loc[:, 'filename'] = l \n",
        "      d = s.iloc[0].to_dict()\n",
        "\n",
        "      # Appending the above dictionary of rows into a list \n",
        "      row_dict_list.append(d)\n",
        "\n",
        "  else:\n",
        "    # Seleting the row for single Id terms \n",
        "    s = r.iloc[[i] , ]\n",
        "\n",
        "    # Repeating that row depending upon the values in a list (each one)\n",
        "    s = s.reindex(s.index.repeat(1))\n",
        "\n",
        "    # Assigning the image file name (Updating values for each iteration)\n",
        "    s.loc[: , 'filename'] = lst[0]\n",
        "    d = (s.iloc[0].to_dict())\n",
        "\n",
        "    # Appending the above dictionary of rows into a list \n",
        "    row_dict_list.append(d)\n",
        "  \n"
      ],
      "execution_count": null,
      "outputs": [
        {
          "output_type": "stream",
          "name": "stderr",
          "text": [
            "100%|██████████| 402760/402760 [15:17<00:00, 438.78it/s]\n"
          ]
        }
      ]
    },
    {
      "cell_type": "code",
      "metadata": {
        "colab": {
          "base_uri": "https://localhost:8080/"
        },
        "id": "e3VOpBPQucSC",
        "outputId": "37c1f909-68fe-4f9a-8ecc-2ab79d96c0b3"
      },
      "source": [
        "# The output len should be of size \n",
        "c = 0\n",
        "for i in lst_id:\n",
        "  c +=len(i)\n",
        "c"
      ],
      "execution_count": null,
      "outputs": [
        {
          "output_type": "execute_result",
          "data": {
            "text/plain": [
              "887536"
            ]
          },
          "metadata": {},
          "execution_count": 119
        }
      ]
    },
    {
      "cell_type": "code",
      "metadata": {
        "colab": {
          "base_uri": "https://localhost:8080/"
        },
        "id": "jZZdOv00twAa",
        "outputId": "f16d0f3e-7de2-4795-f1f5-52eb25077df6"
      },
      "source": [
        "# It should be of len 887536\n",
        "len(row_dict_list)"
      ],
      "execution_count": null,
      "outputs": [
        {
          "output_type": "execute_result",
          "data": {
            "text/plain": [
              "887536"
            ]
          },
          "metadata": {},
          "execution_count": 122
        }
      ]
    },
    {
      "cell_type": "code",
      "metadata": {
        "id": "lX_u_Kev2ijR"
      },
      "source": [
        "# Converting our list of dictionaries into a whole dataframe \n",
        "new_df = pd.DataFrame(row_dict_list)"
      ],
      "execution_count": null,
      "outputs": []
    },
    {
      "cell_type": "code",
      "metadata": {
        "id": "OpseONMZ_DUc"
      },
      "source": [
        "real_df = new_df.copy()"
      ],
      "execution_count": null,
      "outputs": []
    },
    {
      "cell_type": "code",
      "metadata": {
        "id": "E0-Wl5Bl_KvB"
      },
      "source": [
        "# Saving it as aa csv \n",
        "path = '/content/drive/MyDrive/Recipe_1M/'\n",
        "new_df.to_csv(path + 'complete_data.csv' , index = False)\n"
      ],
      "execution_count": null,
      "outputs": []
    },
    {
      "cell_type": "markdown",
      "metadata": {
        "id": "kagbgx9sAyty"
      },
      "source": [
        "First 4 characters of the filename has a image path in it, like they are arranged in a four-level hierarchy corresponding to the first four digits of the image id\n",
        "\n",
        "    For example: `val/e/f/3/d/ef3dc0de11.jpg \n",
        "    "
      ]
    },
    {
      "cell_type": "markdown",
      "metadata": {
        "id": "VMMeJf72-RK1"
      },
      "source": [
        "- Loop through the filenames\n",
        "- Get the string of the file name and save it in a variable `s`\n",
        "- Create a path which embeds both partition and the filename\n",
        "- Index over the string and add the `/` between them\n",
        "- Combine everything at the end and append them into a list. \n"
      ]
    },
    {
      "cell_type": "code",
      "metadata": {
        "colab": {
          "base_uri": "https://localhost:8080/"
        },
        "id": "pBeMWKRfOaBG",
        "outputId": "36863b37-a8da-454e-c765-b704fcc197d9"
      },
      "source": [
        "# Creating our full image path \n",
        "fullpath_list = []\n",
        "\n",
        "for i, filename in enumerate(tqdm(new_df['filename'])):\n",
        "  s = filename\n",
        "  path_str = new_df['partition'][i] + '/' +  s[0] + '/' + s[1] + '/' + s[2] + '/' + s[3] + '/' + new_df['filename'][i]\n",
        "  fullpath_list.append(path_str)\n",
        "\n",
        "len(fullpath_list) , len(new_df)"
      ],
      "execution_count": null,
      "outputs": [
        {
          "output_type": "stream",
          "name": "stderr",
          "text": [
            "100%|██████████| 887536/887536 [00:16<00:00, 55295.74it/s]\n"
          ]
        },
        {
          "output_type": "execute_result",
          "data": {
            "text/plain": [
              "(887536, 887536)"
            ]
          },
          "metadata": {},
          "execution_count": 190
        }
      ]
    },
    {
      "cell_type": "code",
      "metadata": {
        "colab": {
          "base_uri": "https://localhost:8080/",
          "height": 529
        },
        "id": "XREFdS_OPzqH",
        "outputId": "e1949baa-9e70-4edc-f62f-17758d2d51f1"
      },
      "source": [
        "# Adding this list of full image path to our dataframe \n",
        "new_df['full_image_path'] = pd.Series(fullpath_list)\n",
        "\n",
        "new_df.head(10)"
      ],
      "execution_count": null,
      "outputs": [
        {
          "output_type": "execute_result",
          "data": {
            "text/html": [
              "<div>\n",
              "<style scoped>\n",
              "    .dataframe tbody tr th:only-of-type {\n",
              "        vertical-align: middle;\n",
              "    }\n",
              "\n",
              "    .dataframe tbody tr th {\n",
              "        vertical-align: top;\n",
              "    }\n",
              "\n",
              "    .dataframe thead th {\n",
              "        text-align: right;\n",
              "    }\n",
              "</style>\n",
              "<table border=\"1\" class=\"dataframe\">\n",
              "  <thead>\n",
              "    <tr style=\"text-align: right;\">\n",
              "      <th></th>\n",
              "      <th>ID</th>\n",
              "      <th>food_title</th>\n",
              "      <th>partition</th>\n",
              "      <th>image_url</th>\n",
              "      <th>ingredients</th>\n",
              "      <th>instructions</th>\n",
              "      <th>filename</th>\n",
              "      <th>full_image_path</th>\n",
              "    </tr>\n",
              "  </thead>\n",
              "  <tbody>\n",
              "    <tr>\n",
              "      <th>0</th>\n",
              "      <td>00003a70b1</td>\n",
              "      <td>Crunchy Onion Potato Bake</td>\n",
              "      <td>test</td>\n",
              "      <td>http://www.food.com/recipe/crunchy-onion-potat...</td>\n",
              "      <td>2 12 cups milk /t 1 12 cups water /t 14 cup bu...</td>\n",
              "      <td>Preheat oven to 350 degrees Fahrenheit. /t Spr...</td>\n",
              "      <td>3e233001e2.jpg</td>\n",
              "      <td>test/3/e/2/3/3e233001e2.jpg</td>\n",
              "    </tr>\n",
              "    <tr>\n",
              "      <th>1</th>\n",
              "      <td>00003a70b1</td>\n",
              "      <td>Crunchy Onion Potato Bake</td>\n",
              "      <td>test</td>\n",
              "      <td>http://www.food.com/recipe/crunchy-onion-potat...</td>\n",
              "      <td>2 12 cups milk /t 1 12 cups water /t 14 cup bu...</td>\n",
              "      <td>Preheat oven to 350 degrees Fahrenheit. /t Spr...</td>\n",
              "      <td>7f749987f9.jpg</td>\n",
              "      <td>test/7/f/7/4/7f749987f9.jpg</td>\n",
              "    </tr>\n",
              "    <tr>\n",
              "      <th>2</th>\n",
              "      <td>00003a70b1</td>\n",
              "      <td>Crunchy Onion Potato Bake</td>\n",
              "      <td>test</td>\n",
              "      <td>http://www.food.com/recipe/crunchy-onion-potat...</td>\n",
              "      <td>2 12 cups milk /t 1 12 cups water /t 14 cup bu...</td>\n",
              "      <td>Preheat oven to 350 degrees Fahrenheit. /t Spr...</td>\n",
              "      <td>aaf6b2dcd3.jpg</td>\n",
              "      <td>test/a/a/f/6/aaf6b2dcd3.jpg</td>\n",
              "    </tr>\n",
              "    <tr>\n",
              "      <th>3</th>\n",
              "      <td>000075604a</td>\n",
              "      <td>Kombu Tea Grilled Chicken Thigh</td>\n",
              "      <td>train</td>\n",
              "      <td>https://cookpad.com/us/recipes/150100-kombu-te...</td>\n",
              "      <td>2 Chicken thighs /t 2 tsp Kombu tea /t 1 White...</td>\n",
              "      <td>Pierce the skin of the chicken with a fork or ...</td>\n",
              "      <td>6bdca6e490.jpg</td>\n",
              "      <td>train/6/b/d/c/6bdca6e490.jpg</td>\n",
              "    </tr>\n",
              "    <tr>\n",
              "      <th>4</th>\n",
              "      <td>00007bfd16</td>\n",
              "      <td>Strawberry Rhubarb Dump Cake</td>\n",
              "      <td>train</td>\n",
              "      <td>http://www.food.com/recipe/strawberry-rhubarb-...</td>\n",
              "      <td>6 -8 cups fresh rhubarb, or /t 6 -8 cups froze...</td>\n",
              "      <td>Put ingredients in a buttered 9 x 12 x 2-inch ...</td>\n",
              "      <td>6409eab844.jpg</td>\n",
              "      <td>train/6/4/0/9/6409eab844.jpg</td>\n",
              "    </tr>\n",
              "    <tr>\n",
              "      <th>5</th>\n",
              "      <td>00007bfd16</td>\n",
              "      <td>Strawberry Rhubarb Dump Cake</td>\n",
              "      <td>train</td>\n",
              "      <td>http://www.food.com/recipe/strawberry-rhubarb-...</td>\n",
              "      <td>6 -8 cups fresh rhubarb, or /t 6 -8 cups froze...</td>\n",
              "      <td>Put ingredients in a buttered 9 x 12 x 2-inch ...</td>\n",
              "      <td>f7cb3de295.jpg</td>\n",
              "      <td>train/f/7/c/b/f7cb3de295.jpg</td>\n",
              "    </tr>\n",
              "    <tr>\n",
              "      <th>6</th>\n",
              "      <td>000095fc1d</td>\n",
              "      <td>Yogurt Parfaits</td>\n",
              "      <td>train</td>\n",
              "      <td>http://tastykitchen.com/recipes/breakfastbrunc...</td>\n",
              "      <td>8 ounces, weight Light Fat Free Vanilla Yogurt...</td>\n",
              "      <td>Layer all ingredients in a serving dish.</td>\n",
              "      <td>a1374cdd98.jpg</td>\n",
              "      <td>train/a/1/3/7/a1374cdd98.jpg</td>\n",
              "    </tr>\n",
              "    <tr>\n",
              "      <th>7</th>\n",
              "      <td>0000b1e2b5</td>\n",
              "      <td>Fennel-Rubbed Pork Tenderloin with Roasted Fen...</td>\n",
              "      <td>train</td>\n",
              "      <td>http://www.epicurious.com/recipes/food/views/f...</td>\n",
              "      <td>1 teaspoon fennel seeds /t 1 pound pork tender...</td>\n",
              "      <td>Preheat oven to 350F with rack in middle. /t C...</td>\n",
              "      <td>cb1a684683.jpg</td>\n",
              "      <td>train/c/b/1/a/cb1a684683.jpg</td>\n",
              "    </tr>\n",
              "    <tr>\n",
              "      <th>8</th>\n",
              "      <td>0000c79afb</td>\n",
              "      <td>Pink Sangria</td>\n",
              "      <td>train</td>\n",
              "      <td>http://www.food.com/recipe/pink-sangria-305385</td>\n",
              "      <td>1 (750 ml) bottle rose wine, chilled /t 14 cup...</td>\n",
              "      <td>In a pitcher, combine all the ingredients exce...</td>\n",
              "      <td>2f4b4c4452.jpg</td>\n",
              "      <td>train/2/f/4/b/2f4b4c4452.jpg</td>\n",
              "    </tr>\n",
              "    <tr>\n",
              "      <th>9</th>\n",
              "      <td>00010379bf</td>\n",
              "      <td>Brown Sugar 'Karintou' Snacks</td>\n",
              "      <td>train</td>\n",
              "      <td>https://cookpad.com/us/recipes/156014-brown-su...</td>\n",
              "      <td>200 grams Cake flour /t 1 tsp Baking powder /t...</td>\n",
              "      <td>In a bowl, mix flour, baking powder, sugar, th...</td>\n",
              "      <td>f480145da5.jpg</td>\n",
              "      <td>train/f/4/8/0/f480145da5.jpg</td>\n",
              "    </tr>\n",
              "  </tbody>\n",
              "</table>\n",
              "</div>"
            ],
            "text/plain": [
              "           ID  ...               full_image_path\n",
              "0  00003a70b1  ...   test/3/e/2/3/3e233001e2.jpg\n",
              "1  00003a70b1  ...   test/7/f/7/4/7f749987f9.jpg\n",
              "2  00003a70b1  ...   test/a/a/f/6/aaf6b2dcd3.jpg\n",
              "3  000075604a  ...  train/6/b/d/c/6bdca6e490.jpg\n",
              "4  00007bfd16  ...  train/6/4/0/9/6409eab844.jpg\n",
              "5  00007bfd16  ...  train/f/7/c/b/f7cb3de295.jpg\n",
              "6  000095fc1d  ...  train/a/1/3/7/a1374cdd98.jpg\n",
              "7  0000b1e2b5  ...  train/c/b/1/a/cb1a684683.jpg\n",
              "8  0000c79afb  ...  train/2/f/4/b/2f4b4c4452.jpg\n",
              "9  00010379bf  ...  train/f/4/8/0/f480145da5.jpg\n",
              "\n",
              "[10 rows x 8 columns]"
            ]
          },
          "metadata": {},
          "execution_count": 172
        }
      ]
    },
    {
      "cell_type": "code",
      "metadata": {
        "colab": {
          "base_uri": "https://localhost:8080/"
        },
        "id": "r_3aErILbd-6",
        "outputId": "f043e1c3-2a4a-4475-8558-6e7ce9a3bf41"
      },
      "source": [
        "!wget https://raw.githubusercontent.com/mrdbourke/tensorflow-deep-learning/main/extras/helper_functions.py"
      ],
      "execution_count": null,
      "outputs": [
        {
          "output_type": "stream",
          "name": "stdout",
          "text": [
            "--2021-09-28 13:00:21--  https://raw.githubusercontent.com/mrdbourke/tensorflow-deep-learning/main/extras/helper_functions.py\n",
            "Resolving raw.githubusercontent.com (raw.githubusercontent.com)... 185.199.109.133, 185.199.111.133, 185.199.108.133, ...\n",
            "Connecting to raw.githubusercontent.com (raw.githubusercontent.com)|185.199.109.133|:443... connected.\n",
            "HTTP request sent, awaiting response... 200 OK\n",
            "Length: 10246 (10K) [text/plain]\n",
            "Saving to: ‘helper_functions.py’\n",
            "\n",
            "helper_functions.py 100%[===================>]  10.01K  --.-KB/s    in 0s      \n",
            "\n",
            "2021-09-28 13:00:21 (79.7 MB/s) - ‘helper_functions.py’ saved [10246/10246]\n",
            "\n"
          ]
        }
      ]
    },
    {
      "cell_type": "code",
      "metadata": {
        "id": "UVKdtoyVfeLM"
      },
      "source": [
        "from helper_functions import walk_through_dir"
      ],
      "execution_count": null,
      "outputs": []
    },
    {
      "cell_type": "code",
      "metadata": {
        "colab": {
          "base_uri": "https://localhost:8080/",
          "height": 375
        },
        "id": "r8OWTyFlgHaO",
        "outputId": "1ccdac7b-9b5b-4137-af10-b9b880bb4bf8"
      },
      "source": [
        "import matplotlib.pyplot as plt\n",
        "import matplotlib.image as mpimg \n",
        "import random \n",
        "\n",
        "img_path_list = new_df['full_image_path'].tolist()\n",
        "rand_img_path = random.choice(img_path_list)\n",
        "locate_path = '/content/drive/MyDrive/Recipe_1M/' + rand_img_path\n",
        "img = mpimg.imread(locate_path)\n",
        "plt.imshow(img)\n",
        "plt.axis('off')\n",
        "\n",
        "\n",
        "# def view_random_image(, target_class):\n",
        "#   # Setup target directory (we'll view images from here)\n",
        "#   target_folder = target_dir+target_class\n",
        "\n",
        "#   # Get a random image path\n",
        "#   random_image = random.sample(os.listdir(target_folder), 1)\n",
        "\n",
        "#   # Read in the image and plot it using matplotlib\n",
        "#   img = mpimg.imread(target_folder + \"/\" + random_image[0])\n",
        "#   plt.imshow(img)\n",
        "#   plt.title(target_class)\n",
        "#   plt.axis(\"off\");\n",
        "\n",
        "#   print(f\"Image shape: {img.shape}\") # show the shape of the image\n",
        "\n",
        "#   return img"
      ],
      "execution_count": null,
      "outputs": [
        {
          "output_type": "error",
          "ename": "FileNotFoundError",
          "evalue": "ignored",
          "traceback": [
            "\u001b[0;31m---------------------------------------------------------------------------\u001b[0m",
            "\u001b[0;31mFileNotFoundError\u001b[0m                         Traceback (most recent call last)",
            "\u001b[0;32m<ipython-input-187-66b93fb8798d>\u001b[0m in \u001b[0;36m<module>\u001b[0;34m()\u001b[0m\n\u001b[1;32m      6\u001b[0m \u001b[0mrand_img_path\u001b[0m \u001b[0;34m=\u001b[0m \u001b[0mrandom\u001b[0m\u001b[0;34m.\u001b[0m\u001b[0mchoice\u001b[0m\u001b[0;34m(\u001b[0m\u001b[0mimg_path_list\u001b[0m\u001b[0;34m)\u001b[0m\u001b[0;34m\u001b[0m\u001b[0;34m\u001b[0m\u001b[0m\n\u001b[1;32m      7\u001b[0m \u001b[0mlocate_path\u001b[0m \u001b[0;34m=\u001b[0m \u001b[0;34m'/content/drive/MyDrive/Recipe_1M/'\u001b[0m \u001b[0;34m+\u001b[0m \u001b[0mrand_img_path\u001b[0m\u001b[0;34m\u001b[0m\u001b[0;34m\u001b[0m\u001b[0m\n\u001b[0;32m----> 8\u001b[0;31m \u001b[0mimg\u001b[0m \u001b[0;34m=\u001b[0m \u001b[0mmpimg\u001b[0m\u001b[0;34m.\u001b[0m\u001b[0mimread\u001b[0m\u001b[0;34m(\u001b[0m\u001b[0mlocate_path\u001b[0m\u001b[0;34m)\u001b[0m\u001b[0;34m\u001b[0m\u001b[0;34m\u001b[0m\u001b[0m\n\u001b[0m\u001b[1;32m      9\u001b[0m \u001b[0mplt\u001b[0m\u001b[0;34m.\u001b[0m\u001b[0mimshow\u001b[0m\u001b[0;34m(\u001b[0m\u001b[0mimg\u001b[0m\u001b[0;34m)\u001b[0m\u001b[0;34m\u001b[0m\u001b[0;34m\u001b[0m\u001b[0m\n\u001b[1;32m     10\u001b[0m \u001b[0mplt\u001b[0m\u001b[0;34m.\u001b[0m\u001b[0maxis\u001b[0m\u001b[0;34m(\u001b[0m\u001b[0;34m'off'\u001b[0m\u001b[0;34m)\u001b[0m\u001b[0;34m\u001b[0m\u001b[0;34m\u001b[0m\u001b[0m\n",
            "\u001b[0;32m/usr/local/lib/python3.7/dist-packages/matplotlib/image.py\u001b[0m in \u001b[0;36mimread\u001b[0;34m(fname, format)\u001b[0m\n\u001b[1;32m   1462\u001b[0m             raise ValueError('Only know how to handle PNG; with Pillow '\n\u001b[1;32m   1463\u001b[0m                              'installed, Matplotlib can handle more images')\n\u001b[0;32m-> 1464\u001b[0;31m         \u001b[0;32mwith\u001b[0m \u001b[0mImage\u001b[0m\u001b[0;34m.\u001b[0m\u001b[0mopen\u001b[0m\u001b[0;34m(\u001b[0m\u001b[0mfname\u001b[0m\u001b[0;34m)\u001b[0m \u001b[0;32mas\u001b[0m \u001b[0mimage\u001b[0m\u001b[0;34m:\u001b[0m\u001b[0;34m\u001b[0m\u001b[0;34m\u001b[0m\u001b[0m\n\u001b[0m\u001b[1;32m   1465\u001b[0m             \u001b[0;32mreturn\u001b[0m \u001b[0mpil_to_array\u001b[0m\u001b[0;34m(\u001b[0m\u001b[0mimage\u001b[0m\u001b[0;34m)\u001b[0m\u001b[0;34m\u001b[0m\u001b[0;34m\u001b[0m\u001b[0m\n\u001b[1;32m   1466\u001b[0m     \u001b[0;32mfrom\u001b[0m \u001b[0mmatplotlib\u001b[0m \u001b[0;32mimport\u001b[0m \u001b[0m_png\u001b[0m\u001b[0;34m\u001b[0m\u001b[0;34m\u001b[0m\u001b[0m\n",
            "\u001b[0;32m/usr/local/lib/python3.7/dist-packages/PIL/Image.py\u001b[0m in \u001b[0;36mopen\u001b[0;34m(fp, mode)\u001b[0m\n\u001b[1;32m   2841\u001b[0m \u001b[0;34m\u001b[0m\u001b[0m\n\u001b[1;32m   2842\u001b[0m     \u001b[0;32mif\u001b[0m \u001b[0mfilename\u001b[0m\u001b[0;34m:\u001b[0m\u001b[0;34m\u001b[0m\u001b[0;34m\u001b[0m\u001b[0m\n\u001b[0;32m-> 2843\u001b[0;31m         \u001b[0mfp\u001b[0m \u001b[0;34m=\u001b[0m \u001b[0mbuiltins\u001b[0m\u001b[0;34m.\u001b[0m\u001b[0mopen\u001b[0m\u001b[0;34m(\u001b[0m\u001b[0mfilename\u001b[0m\u001b[0;34m,\u001b[0m \u001b[0;34m\"rb\"\u001b[0m\u001b[0;34m)\u001b[0m\u001b[0;34m\u001b[0m\u001b[0;34m\u001b[0m\u001b[0m\n\u001b[0m\u001b[1;32m   2844\u001b[0m         \u001b[0mexclusive_fp\u001b[0m \u001b[0;34m=\u001b[0m \u001b[0;32mTrue\u001b[0m\u001b[0;34m\u001b[0m\u001b[0;34m\u001b[0m\u001b[0m\n\u001b[1;32m   2845\u001b[0m \u001b[0;34m\u001b[0m\u001b[0m\n",
            "\u001b[0;31mFileNotFoundError\u001b[0m: [Errno 2] No such file or directory: '/content/drive/MyDrive/Recipe_1M/test/b/f/4/1/bf413dfde6.jpg'"
          ]
        }
      ]
    },
    {
      "cell_type": "code",
      "metadata": {
        "id": "4BipPST1jKM4"
      },
      "source": [
        ""
      ],
      "execution_count": null,
      "outputs": []
    },
    {
      "cell_type": "code",
      "metadata": {
        "id": "y4gEd57T2KXF"
      },
      "source": [
        ""
      ],
      "execution_count": null,
      "outputs": []
    }
  ]
}