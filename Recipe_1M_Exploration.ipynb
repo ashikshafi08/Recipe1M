{
  "nbformat": 4,
  "nbformat_minor": 0,
  "metadata": {
    "colab": {
      "name": "Recipe_1M_Exploration.ipynb",
      "provenance": [],
      "machine_shape": "hm",
      "authorship_tag": "ABX9TyPX1lwrdkru4Dn7Zc5U/9pV",
      "include_colab_link": true
    },
    "kernelspec": {
      "name": "python3",
      "display_name": "Python 3"
    },
    "language_info": {
      "name": "python"
    }
  },
  "cells": [
    {
      "cell_type": "markdown",
      "metadata": {
        "id": "view-in-github",
        "colab_type": "text"
      },
      "source": [
        "<a href=\"https://colab.research.google.com/github/ashikshafi08/Recipe1M/blob/main/Recipe_1M_Exploration.ipynb\" target=\"_parent\"><img src=\"https://colab.research.google.com/assets/colab-badge.svg\" alt=\"Open In Colab\"/></a>"
      ]
    },
    {
      "cell_type": "code",
      "metadata": {
        "colab": {
          "base_uri": "https://localhost:8080/"
        },
        "id": "GIe8oN-evWhm",
        "outputId": "711bce87-38bf-4cf5-ea64-50e9516d4fb6"
      },
      "source": [
        "from google.colab import drive \n",
        "drive.mount('/content/drive/')"
      ],
      "execution_count": null,
      "outputs": [
        {
          "output_type": "stream",
          "name": "stdout",
          "text": [
            "Mounted at /content/drive/\n"
          ]
        }
      ]
    },
    {
      "cell_type": "code",
      "metadata": {
        "id": "jrnqP007wiFD"
      },
      "source": [
        "# Loading in the val and tes t rar files \n",
        "\n",
        "val_tar_path = '/content/drive/MyDrive/Recipe_1M/recipe1M_images_val.tar'\n",
        "test_tar_path = '/content/drive/MyDrive/Recipe_1M/recipe1M_images_test.tar'"
      ],
      "execution_count": null,
      "outputs": []
    },
    {
      "cell_type": "code",
      "metadata": {
        "id": "aVpm56h06R13"
      },
      "source": [
        "import tarfile"
      ],
      "execution_count": null,
      "outputs": []
    },
    {
      "cell_type": "code",
      "metadata": {
        "id": "p677QhP7UoBP"
      },
      "source": [
        "val_tar = tarfile.open(val_tar_path)\n",
        "val_tar.extractall('/content/drive/MyDrive/Recipe_1M/val/')\n",
        "val_tar.close()"
      ],
      "execution_count": null,
      "outputs": []
    },
    {
      "cell_type": "code",
      "metadata": {
        "id": "XQuGj6U5Uplq"
      },
      "source": [
        "test_tar = tarfile.open(test_tar_path)\n",
        "test_tar.extractall('/content/drive/MyDrive/Recipe_1M/')\n",
        "test_tar.close()"
      ],
      "execution_count": null,
      "outputs": []
    },
    {
      "cell_type": "code",
      "metadata": {
        "id": "D8ikNDwRhGIo"
      },
      "source": [
        "!apt-get install axel\n",
        "!"
      ],
      "execution_count": null,
      "outputs": []
    },
    {
      "cell_type": "code",
      "metadata": {
        "colab": {
          "base_uri": "https://localhost:8080/"
        },
        "id": "mMWW7HPF0NX3",
        "outputId": "8fb366e3-0555-4d5d-f053-8668bc6d5ab1"
      },
      "source": [
        "!tar -xvzf /content/recipe1M_layers.tar.gz"
      ],
      "execution_count": 3,
      "outputs": [
        {
          "output_type": "stream",
          "name": "stdout",
          "text": [
            "layer1.json\n",
            "layer2.json\n"
          ]
        }
      ]
    },
    {
      "cell_type": "code",
      "metadata": {
        "id": "O6zFLoaP0p0_"
      },
      "source": [
        "import json \n",
        "with open('/content/layer1.json' , 'r') as file:\n",
        "  data = json.load(file)"
      ],
      "execution_count": 45,
      "outputs": []
    },
    {
      "cell_type": "code",
      "metadata": {
        "id": "TWzNtLuXBSM8"
      },
      "source": [
        "from concurrent.futures import ProcessPoolExecutor\n",
        "executor = ProcessPoolExecutor(10)\n",
        "\n"
      ],
      "execution_count": 21,
      "outputs": []
    },
    {
      "cell_type": "code",
      "metadata": {
        "colab": {
          "base_uri": "https://localhost:8080/"
        },
        "id": "Hph_54FmBtEr",
        "outputId": "319e594a-08cb-4546-ef95-f854eb9f8ebc"
      },
      "source": [
        "for lay in sub_layer[:2]:\n",
        "  print(lay.keys())"
      ],
      "execution_count": 27,
      "outputs": [
        {
          "output_type": "stream",
          "name": "stdout",
          "text": [
            "dict_keys(['ingredients', 'url', 'partition', 'title', 'id', 'instructions'])\n",
            "dict_keys(['ingredients', 'url', 'partition', 'title', 'id', 'instructions'])\n"
          ]
        }
      ]
    },
    {
      "cell_type": "code",
      "metadata": {
        "id": "kHMiI8J311xs"
      },
      "source": [
        "\n",
        "def get_list_of_strings(key , json_file):\n",
        "    stop_words = []\n",
        "    key_list = []\n",
        "    \n",
        "    # Iterating to find out the stop words and adding all elements into a list \n",
        "    for i in range(0 , len(json_file)):\n",
        "        list_of_key = json_file[i][key]\n",
        "        \n",
        "        # Getting the stop words \n",
        "        stop_words.append((list_of_key[-1]['text']))\n",
        "        for elem in list_of_key:\n",
        "            key_list.append(elem['text'])\n",
        "            \n",
        "    \n",
        "    # Now we're adding a '#' character at every end of ingredients/instructions last value \n",
        "    updated_key_list = [] \n",
        "    for word in key_list:\n",
        "        if word in stop_words:\n",
        "            word += '#'\n",
        "            updated_key_list.append(word)\n",
        "        else:\n",
        "            word +='/t'\n",
        "            updated_key_list.append(word)\n",
        "            \n",
        "    \n",
        "    # Converting the whole list of text into a big giant string\n",
        "    big_string = ' '.join([str(word) for word in updated_key_list])\n",
        "    \n",
        "    # Now returning the list of text for each ingredient/instructions (individual list of ingredients/instructions )\n",
        "    indi_list = big_string.split('#')\n",
        "    \n",
        "    # We just really want the list \n",
        "    return indi_list"
      ],
      "execution_count": 32,
      "outputs": []
    },
    {
      "cell_type": "code",
      "metadata": {
        "colab": {
          "base_uri": "https://localhost:8080/"
        },
        "id": "YLtzxmFM2wd_",
        "outputId": "2f09bb8b-90ca-41ce-dd7f-621e748eceda"
      },
      "source": [
        "sub_layer = data[:10]\n",
        "for attr in sub_layer[:3]:\n",
        "    print(f\"ID: {attr['id']}\\n\")\n",
        "    print(f\"Ingredients: {attr['ingredients']}\\n\")\n",
        "    print(f\"Partition: {attr['partition']}\\n\")\n",
        "    print('\\n----Next Food----\\n')"
      ],
      "execution_count": 9,
      "outputs": [
        {
          "output_type": "stream",
          "name": "stdout",
          "text": [
            "ID: 000018c8a5\n",
            "\n",
            "Ingredients: [{'text': '6 ounces penne'}, {'text': '2 cups Beechers Flagship Cheese Sauce (recipe follows)'}, {'text': '1 ounce Cheddar, grated (1/4 cup)'}, {'text': '1 ounce Gruyere cheese, grated (1/4 cup)'}, {'text': '1/4 to 1/2 teaspoon chipotle chili powder (see Note)'}, {'text': '1/4 cup (1/2 stick) unsalted butter'}, {'text': '1/3 cup all-purpose flour'}, {'text': '3 cups milk'}, {'text': '14 ounces semihard cheese (page 23), grated (about 3 1/2 cups)'}, {'text': '2 ounces semisoft cheese (page 23), grated (1/2 cup)'}, {'text': '1/2 teaspoon kosher salt'}, {'text': '1/4 to 1/2 teaspoon chipotle chili powder'}, {'text': '1/8 teaspoon garlic powder'}, {'text': '(makes about 4 cups)'}]\n",
            "\n",
            "Partition: train\n",
            "\n",
            "\n",
            "----Next Food----\n",
            "\n",
            "ID: 000033e39b\n",
            "\n",
            "Ingredients: [{'text': '1 c. elbow macaroni'}, {'text': '1 c. cubed American cheese (4 ounce.)'}, {'text': '1/2 c. sliced celery'}, {'text': '1/2 c. minced green pepper'}, {'text': '3 tbsp. minced pimento'}, {'text': '1/2 c. mayonnaise or possibly salad dressing'}, {'text': '1 tbsp. vinegar'}, {'text': '3/4 teaspoon salt'}, {'text': '1/2 teaspoon dry dill weed'}]\n",
            "\n",
            "Partition: train\n",
            "\n",
            "\n",
            "----Next Food----\n",
            "\n",
            "ID: 000035f7ed\n",
            "\n",
            "Ingredients: [{'text': '8 tomatoes, quartered'}, {'text': 'Kosher salt'}, {'text': '1 red onion, cut into small dice'}, {'text': '1 green bell pepper, cut into small dice'}, {'text': '1 red bell pepper, cut into small dice'}, {'text': '1 yellow bell pepper, cut into small dice'}, {'text': '1/2 cucumber, cut into small dice'}, {'text': 'Extra-virgin olive oil, for drizzling'}, {'text': '3 leaves fresh basil, finely chopped'}]\n",
            "\n",
            "Partition: train\n",
            "\n",
            "\n",
            "----Next Food----\n",
            "\n"
          ]
        }
      ]
    },
    {
      "cell_type": "code",
      "metadata": {
        "colab": {
          "base_uri": "https://localhost:8080/",
          "height": 307
        },
        "id": "Awp9iNXcDZmR",
        "outputId": "d0bc43c7-ccc4-4203-913d-2a5ab253ed75"
      },
      "source": [
        "[get_list_of_strings(key = 'ingredients' , json_file = lay['ingredients']) for lay in sub_layer]"
      ],
      "execution_count": 31,
      "outputs": [
        {
          "output_type": "error",
          "ename": "KeyError",
          "evalue": "ignored",
          "traceback": [
            "\u001b[0;31m---------------------------------------------------------------------------\u001b[0m",
            "\u001b[0;31mKeyError\u001b[0m                                  Traceback (most recent call last)",
            "\u001b[0;32m<ipython-input-31-da58d28bf442>\u001b[0m in \u001b[0;36m<module>\u001b[0;34m()\u001b[0m\n\u001b[0;32m----> 1\u001b[0;31m \u001b[0;34m[\u001b[0m\u001b[0mget_list_of_strings\u001b[0m\u001b[0;34m(\u001b[0m\u001b[0mkey\u001b[0m \u001b[0;34m=\u001b[0m \u001b[0;34m'ingredients'\u001b[0m \u001b[0;34m,\u001b[0m \u001b[0mjson_file\u001b[0m \u001b[0;34m=\u001b[0m \u001b[0mlay\u001b[0m\u001b[0;34m[\u001b[0m\u001b[0;34m'ingredients'\u001b[0m\u001b[0;34m]\u001b[0m\u001b[0;34m)\u001b[0m \u001b[0;32mfor\u001b[0m \u001b[0mlay\u001b[0m \u001b[0;32min\u001b[0m \u001b[0msub_layer\u001b[0m\u001b[0;34m]\u001b[0m\u001b[0;34m\u001b[0m\u001b[0;34m\u001b[0m\u001b[0m\n\u001b[0m",
            "\u001b[0;32m<ipython-input-31-da58d28bf442>\u001b[0m in \u001b[0;36m<listcomp>\u001b[0;34m(.0)\u001b[0m\n\u001b[0;32m----> 1\u001b[0;31m \u001b[0;34m[\u001b[0m\u001b[0mget_list_of_strings\u001b[0m\u001b[0;34m(\u001b[0m\u001b[0mkey\u001b[0m \u001b[0;34m=\u001b[0m \u001b[0;34m'ingredients'\u001b[0m \u001b[0;34m,\u001b[0m \u001b[0mjson_file\u001b[0m \u001b[0;34m=\u001b[0m \u001b[0mlay\u001b[0m\u001b[0;34m[\u001b[0m\u001b[0;34m'ingredients'\u001b[0m\u001b[0;34m]\u001b[0m\u001b[0;34m)\u001b[0m \u001b[0;32mfor\u001b[0m \u001b[0mlay\u001b[0m \u001b[0;32min\u001b[0m \u001b[0msub_layer\u001b[0m\u001b[0;34m]\u001b[0m\u001b[0;34m\u001b[0m\u001b[0;34m\u001b[0m\u001b[0m\n\u001b[0m",
            "\u001b[0;32m<ipython-input-30-9cd97b687770>\u001b[0m in \u001b[0;36mget_list_of_strings\u001b[0;34m(key, json_file)\u001b[0m\n\u001b[1;32m      9\u001b[0m \u001b[0;34m\u001b[0m\u001b[0m\n\u001b[1;32m     10\u001b[0m         \u001b[0;31m# Getting the stop words\u001b[0m\u001b[0;34m\u001b[0m\u001b[0;34m\u001b[0m\u001b[0;34m\u001b[0m\u001b[0m\n\u001b[0;32m---> 11\u001b[0;31m         \u001b[0mstop_words\u001b[0m\u001b[0;34m.\u001b[0m\u001b[0mappend\u001b[0m\u001b[0;34m(\u001b[0m\u001b[0;34m(\u001b[0m\u001b[0mlist_of_key\u001b[0m\u001b[0;34m[\u001b[0m\u001b[0;34m-\u001b[0m\u001b[0;36m1\u001b[0m\u001b[0;34m]\u001b[0m\u001b[0;34m[\u001b[0m\u001b[0;34m'text'\u001b[0m\u001b[0;34m]\u001b[0m\u001b[0;34m)\u001b[0m\u001b[0;34m)\u001b[0m\u001b[0;34m\u001b[0m\u001b[0;34m\u001b[0m\u001b[0m\n\u001b[0m\u001b[1;32m     12\u001b[0m         \u001b[0;32mfor\u001b[0m \u001b[0melem\u001b[0m \u001b[0;32min\u001b[0m \u001b[0mlist_of_key\u001b[0m\u001b[0;34m:\u001b[0m\u001b[0;34m\u001b[0m\u001b[0;34m\u001b[0m\u001b[0m\n\u001b[1;32m     13\u001b[0m             \u001b[0mkey_list\u001b[0m\u001b[0;34m.\u001b[0m\u001b[0mappend\u001b[0m\u001b[0;34m(\u001b[0m\u001b[0melem\u001b[0m\u001b[0;34m[\u001b[0m\u001b[0;34m'text'\u001b[0m\u001b[0;34m]\u001b[0m\u001b[0;34m)\u001b[0m\u001b[0;34m\u001b[0m\u001b[0;34m\u001b[0m\u001b[0m\n",
            "\u001b[0;31mKeyError\u001b[0m: -1"
          ]
        }
      ]
    },
    {
      "cell_type": "code",
      "metadata": {
        "colab": {
          "base_uri": "https://localhost:8080/",
          "height": 426
        },
        "id": "7vWAhMvW3S-7",
        "outputId": "aa0a331d-b438-4d83-ad04-eae57d0b5de8"
      },
      "source": [
        "\n",
        "%%time \n",
        "# Using our beautiful function to converting our instruction/ingredients to our desired list of strings\n",
        "#instruction_list = get_list_of_strings(key = 'instructions' , json_file = sub_layer)\n",
        "ingredient_list = get_list_of_strings(key = 'ingredients' , json_file = data)\n"
      ],
      "execution_count": 33,
      "outputs": [
        {
          "output_type": "error",
          "ename": "KeyboardInterrupt",
          "evalue": "ignored",
          "traceback": [
            "\u001b[0;31m---------------------------------------------------------------------------\u001b[0m",
            "\u001b[0;31mKeyboardInterrupt\u001b[0m                         Traceback (most recent call last)",
            "\u001b[0;32m<ipython-input-33-d328322b721f>\u001b[0m in \u001b[0;36m<module>\u001b[0;34m()\u001b[0m\n\u001b[1;32m      1\u001b[0m \u001b[0;34m\u001b[0m\u001b[0m\n\u001b[0;32m----> 2\u001b[0;31m \u001b[0mget_ipython\u001b[0m\u001b[0;34m(\u001b[0m\u001b[0;34m)\u001b[0m\u001b[0;34m.\u001b[0m\u001b[0mrun_cell_magic\u001b[0m\u001b[0;34m(\u001b[0m\u001b[0;34m'time'\u001b[0m\u001b[0;34m,\u001b[0m \u001b[0;34m''\u001b[0m\u001b[0;34m,\u001b[0m \u001b[0;34m\"# Using our beautiful function to converting our instruction/ingredients to our desired list of strings\\n#instruction_list = get_list_of_strings(key = 'instructions' , json_file = sub_layer)\\ningredient_list = get_list_of_strings(key = 'ingredients' , json_file = data)\"\u001b[0m\u001b[0;34m)\u001b[0m\u001b[0;34m\u001b[0m\u001b[0;34m\u001b[0m\u001b[0m\n\u001b[0m",
            "\u001b[0;32m/usr/local/lib/python3.7/dist-packages/IPython/core/interactiveshell.py\u001b[0m in \u001b[0;36mrun_cell_magic\u001b[0;34m(self, magic_name, line, cell)\u001b[0m\n\u001b[1;32m   2115\u001b[0m             \u001b[0mmagic_arg_s\u001b[0m \u001b[0;34m=\u001b[0m \u001b[0mself\u001b[0m\u001b[0;34m.\u001b[0m\u001b[0mvar_expand\u001b[0m\u001b[0;34m(\u001b[0m\u001b[0mline\u001b[0m\u001b[0;34m,\u001b[0m \u001b[0mstack_depth\u001b[0m\u001b[0;34m)\u001b[0m\u001b[0;34m\u001b[0m\u001b[0;34m\u001b[0m\u001b[0m\n\u001b[1;32m   2116\u001b[0m             \u001b[0;32mwith\u001b[0m \u001b[0mself\u001b[0m\u001b[0;34m.\u001b[0m\u001b[0mbuiltin_trap\u001b[0m\u001b[0;34m:\u001b[0m\u001b[0;34m\u001b[0m\u001b[0;34m\u001b[0m\u001b[0m\n\u001b[0;32m-> 2117\u001b[0;31m                 \u001b[0mresult\u001b[0m \u001b[0;34m=\u001b[0m \u001b[0mfn\u001b[0m\u001b[0;34m(\u001b[0m\u001b[0mmagic_arg_s\u001b[0m\u001b[0;34m,\u001b[0m \u001b[0mcell\u001b[0m\u001b[0;34m)\u001b[0m\u001b[0;34m\u001b[0m\u001b[0;34m\u001b[0m\u001b[0m\n\u001b[0m\u001b[1;32m   2118\u001b[0m             \u001b[0;32mreturn\u001b[0m \u001b[0mresult\u001b[0m\u001b[0;34m\u001b[0m\u001b[0;34m\u001b[0m\u001b[0m\n\u001b[1;32m   2119\u001b[0m \u001b[0;34m\u001b[0m\u001b[0m\n",
            "\u001b[0;32m<decorator-gen-53>\u001b[0m in \u001b[0;36mtime\u001b[0;34m(self, line, cell, local_ns)\u001b[0m\n",
            "\u001b[0;32m/usr/local/lib/python3.7/dist-packages/IPython/core/magic.py\u001b[0m in \u001b[0;36m<lambda>\u001b[0;34m(f, *a, **k)\u001b[0m\n\u001b[1;32m    186\u001b[0m     \u001b[0;31m# but it's overkill for just that one bit of state.\u001b[0m\u001b[0;34m\u001b[0m\u001b[0;34m\u001b[0m\u001b[0;34m\u001b[0m\u001b[0m\n\u001b[1;32m    187\u001b[0m     \u001b[0;32mdef\u001b[0m \u001b[0mmagic_deco\u001b[0m\u001b[0;34m(\u001b[0m\u001b[0marg\u001b[0m\u001b[0;34m)\u001b[0m\u001b[0;34m:\u001b[0m\u001b[0;34m\u001b[0m\u001b[0;34m\u001b[0m\u001b[0m\n\u001b[0;32m--> 188\u001b[0;31m         \u001b[0mcall\u001b[0m \u001b[0;34m=\u001b[0m \u001b[0;32mlambda\u001b[0m \u001b[0mf\u001b[0m\u001b[0;34m,\u001b[0m \u001b[0;34m*\u001b[0m\u001b[0ma\u001b[0m\u001b[0;34m,\u001b[0m \u001b[0;34m**\u001b[0m\u001b[0mk\u001b[0m\u001b[0;34m:\u001b[0m \u001b[0mf\u001b[0m\u001b[0;34m(\u001b[0m\u001b[0;34m*\u001b[0m\u001b[0ma\u001b[0m\u001b[0;34m,\u001b[0m \u001b[0;34m**\u001b[0m\u001b[0mk\u001b[0m\u001b[0;34m)\u001b[0m\u001b[0;34m\u001b[0m\u001b[0;34m\u001b[0m\u001b[0m\n\u001b[0m\u001b[1;32m    189\u001b[0m \u001b[0;34m\u001b[0m\u001b[0m\n\u001b[1;32m    190\u001b[0m         \u001b[0;32mif\u001b[0m \u001b[0mcallable\u001b[0m\u001b[0;34m(\u001b[0m\u001b[0marg\u001b[0m\u001b[0;34m)\u001b[0m\u001b[0;34m:\u001b[0m\u001b[0;34m\u001b[0m\u001b[0;34m\u001b[0m\u001b[0m\n",
            "\u001b[0;32m/usr/local/lib/python3.7/dist-packages/IPython/core/magics/execution.py\u001b[0m in \u001b[0;36mtime\u001b[0;34m(self, line, cell, local_ns)\u001b[0m\n\u001b[1;32m   1191\u001b[0m         \u001b[0;32melse\u001b[0m\u001b[0;34m:\u001b[0m\u001b[0;34m\u001b[0m\u001b[0;34m\u001b[0m\u001b[0m\n\u001b[1;32m   1192\u001b[0m             \u001b[0mst\u001b[0m \u001b[0;34m=\u001b[0m \u001b[0mclock2\u001b[0m\u001b[0;34m(\u001b[0m\u001b[0;34m)\u001b[0m\u001b[0;34m\u001b[0m\u001b[0;34m\u001b[0m\u001b[0m\n\u001b[0;32m-> 1193\u001b[0;31m             \u001b[0mexec\u001b[0m\u001b[0;34m(\u001b[0m\u001b[0mcode\u001b[0m\u001b[0;34m,\u001b[0m \u001b[0mglob\u001b[0m\u001b[0;34m,\u001b[0m \u001b[0mlocal_ns\u001b[0m\u001b[0;34m)\u001b[0m\u001b[0;34m\u001b[0m\u001b[0;34m\u001b[0m\u001b[0m\n\u001b[0m\u001b[1;32m   1194\u001b[0m             \u001b[0mend\u001b[0m \u001b[0;34m=\u001b[0m \u001b[0mclock2\u001b[0m\u001b[0;34m(\u001b[0m\u001b[0;34m)\u001b[0m\u001b[0;34m\u001b[0m\u001b[0;34m\u001b[0m\u001b[0m\n\u001b[1;32m   1195\u001b[0m             \u001b[0mout\u001b[0m \u001b[0;34m=\u001b[0m \u001b[0;32mNone\u001b[0m\u001b[0;34m\u001b[0m\u001b[0;34m\u001b[0m\u001b[0m\n",
            "\u001b[0;32m<timed exec>\u001b[0m in \u001b[0;36m<module>\u001b[0;34m()\u001b[0m\n",
            "\u001b[0;32m<ipython-input-32-f67ca60c2dd4>\u001b[0m in \u001b[0;36mget_list_of_strings\u001b[0;34m(key, json_file)\u001b[0m\n\u001b[1;32m     17\u001b[0m     \u001b[0mupdated_key_list\u001b[0m \u001b[0;34m=\u001b[0m \u001b[0;34m[\u001b[0m\u001b[0;34m]\u001b[0m\u001b[0;34m\u001b[0m\u001b[0;34m\u001b[0m\u001b[0m\n\u001b[1;32m     18\u001b[0m     \u001b[0;32mfor\u001b[0m \u001b[0mword\u001b[0m \u001b[0;32min\u001b[0m \u001b[0mkey_list\u001b[0m\u001b[0;34m:\u001b[0m\u001b[0;34m\u001b[0m\u001b[0;34m\u001b[0m\u001b[0m\n\u001b[0;32m---> 19\u001b[0;31m         \u001b[0;32mif\u001b[0m \u001b[0mword\u001b[0m \u001b[0;32min\u001b[0m \u001b[0mstop_words\u001b[0m\u001b[0;34m:\u001b[0m\u001b[0;34m\u001b[0m\u001b[0;34m\u001b[0m\u001b[0m\n\u001b[0m\u001b[1;32m     20\u001b[0m             \u001b[0mword\u001b[0m \u001b[0;34m+=\u001b[0m \u001b[0;34m'#'\u001b[0m\u001b[0;34m\u001b[0m\u001b[0;34m\u001b[0m\u001b[0m\n\u001b[1;32m     21\u001b[0m             \u001b[0mupdated_key_list\u001b[0m\u001b[0;34m.\u001b[0m\u001b[0mappend\u001b[0m\u001b[0;34m(\u001b[0m\u001b[0mword\u001b[0m\u001b[0;34m)\u001b[0m\u001b[0;34m\u001b[0m\u001b[0;34m\u001b[0m\u001b[0m\n",
            "\u001b[0;31mKeyboardInterrupt\u001b[0m: "
          ]
        }
      ]
    },
    {
      "cell_type": "code",
      "metadata": {
        "id": "-AvjCoKIO4fO"
      },
      "source": [
        "def get_list_of_strings(key , json_file):\n",
        "    all_ingredient_lists = []\n",
        "    for recipie in json_file:\n",
        "        ingredients = recipie[key]\n",
        "        ingredient_list = []\n",
        "        for ingredient in ingredients:\n",
        "            ingredient_list.append(ingredient['text'])\n",
        "            \n",
        "        all_ingredient_lists.append(ingredient_list)\n",
        "    return all_ingredient_lists"
      ],
      "execution_count": 47,
      "outputs": []
    },
    {
      "cell_type": "code",
      "metadata": {
        "colab": {
          "base_uri": "https://localhost:8080/"
        },
        "id": "jPyCsVn5PfE8",
        "outputId": "f88acd7d-b44f-46aa-f6a5-ccc156973924"
      },
      "source": [
        "ingredient_list = get_list_of_strings('ingredients' , data)\n",
        "len(ingredient_list)"
      ],
      "execution_count": 50,
      "outputs": [
        {
          "output_type": "execute_result",
          "data": {
            "text/plain": [
              "1029720"
            ]
          },
          "metadata": {},
          "execution_count": 50
        }
      ]
    },
    {
      "cell_type": "code",
      "metadata": {
        "colab": {
          "base_uri": "https://localhost:8080/"
        },
        "id": "4TguGr-2RDyz",
        "outputId": "217410a5-1e91-42c0-82b3-a8f7369eeef9"
      },
      "source": [
        "ingredient_list[:4]"
      ],
      "execution_count": 52,
      "outputs": [
        {
          "output_type": "execute_result",
          "data": {
            "text/plain": [
              "[['6 ounces penne',\n",
              "  '2 cups Beechers Flagship Cheese Sauce (recipe follows)',\n",
              "  '1 ounce Cheddar, grated (1/4 cup)',\n",
              "  '1 ounce Gruyere cheese, grated (1/4 cup)',\n",
              "  '1/4 to 1/2 teaspoon chipotle chili powder (see Note)',\n",
              "  '1/4 cup (1/2 stick) unsalted butter',\n",
              "  '1/3 cup all-purpose flour',\n",
              "  '3 cups milk',\n",
              "  '14 ounces semihard cheese (page 23), grated (about 3 1/2 cups)',\n",
              "  '2 ounces semisoft cheese (page 23), grated (1/2 cup)',\n",
              "  '1/2 teaspoon kosher salt',\n",
              "  '1/4 to 1/2 teaspoon chipotle chili powder',\n",
              "  '1/8 teaspoon garlic powder',\n",
              "  '(makes about 4 cups)'],\n",
              " ['1 c. elbow macaroni',\n",
              "  '1 c. cubed American cheese (4 ounce.)',\n",
              "  '1/2 c. sliced celery',\n",
              "  '1/2 c. minced green pepper',\n",
              "  '3 tbsp. minced pimento',\n",
              "  '1/2 c. mayonnaise or possibly salad dressing',\n",
              "  '1 tbsp. vinegar',\n",
              "  '3/4 teaspoon salt',\n",
              "  '1/2 teaspoon dry dill weed'],\n",
              " ['8 tomatoes, quartered',\n",
              "  'Kosher salt',\n",
              "  '1 red onion, cut into small dice',\n",
              "  '1 green bell pepper, cut into small dice',\n",
              "  '1 red bell pepper, cut into small dice',\n",
              "  '1 yellow bell pepper, cut into small dice',\n",
              "  '1/2 cucumber, cut into small dice',\n",
              "  'Extra-virgin olive oil, for drizzling',\n",
              "  '3 leaves fresh basil, finely chopped'],\n",
              " ['2 12 cups milk',\n",
              "  '1 12 cups water',\n",
              "  '14 cup butter',\n",
              "  'mashed potatoes, 1 box, homestyle',\n",
              "  '1 (8 ounce) can whole kernel corn (drained)',\n",
              "  '1 cup cheddar cheese',\n",
              "  '1 cup French-fried onions']]"
            ]
          },
          "metadata": {},
          "execution_count": 52
        }
      ]
    },
    {
      "cell_type": "code",
      "metadata": {
        "id": "h-dCMbUuCsMN"
      },
      "source": [
        "\n",
        "def get_list_of_strings(key ):\n",
        "    stop_words = []\n",
        "    key_list = []\n",
        "    \n",
        "    # Iterating to find out the stop words and adding all elements into a list \n",
        "    for i in range(0 , len(json_file)):\n",
        "        list_of_key = json_file[i][key]\n",
        "        \n",
        "        # Getting the stop words \n",
        "        stop_words.append((list_of_key[-1]['text']))\n",
        "        for elem in list_of_key:\n",
        "            key_list.append(elem['text'])\n",
        "            \n",
        "    \n",
        "    # Now we're adding a '#' character at every end of ingredients/instructions last value \n",
        "    updated_key_list = [] \n",
        "    for word in key_list:\n",
        "        if word in stop_words:\n",
        "            word += '#'\n",
        "            updated_key_list.append(word)\n",
        "        else:\n",
        "            word +='/t'\n",
        "            updated_key_list.append(word)\n",
        "            \n",
        "    \n",
        "    # Converting the whole list of text into a big giant string\n",
        "    big_string = ' '.join([str(word) for word in updated_key_list])\n",
        "    \n",
        "    # Now returning the list of text for each ingredient/instructions (individual list of ingredients/instructions )\n",
        "    indi_list = big_string.split('#')\n",
        "    \n",
        "    # We just really want the list \n",
        "    return indi_list"
      ],
      "execution_count": null,
      "outputs": []
    },
    {
      "cell_type": "code",
      "metadata": {
        "colab": {
          "base_uri": "https://localhost:8080/",
          "height": 232
        },
        "id": "E0O9Av_23hKG",
        "outputId": "b081975b-cbe0-4e10-b84b-68d2afb436c1"
      },
      "source": [
        "# Looking at first value of the loaded json file \n",
        "stop_words = [] \n",
        "instr_list = []\n",
        "for i in range(0 , len(sub_layer)):\n",
        "  #  print(sub_layer[i])\n",
        "    list_of_ingr = sub_layer[i]['ingredients']\n",
        "    stop_words.append(list_of_ingr[-1]['text'])\n",
        "    for elem in list_of_ingr:\n",
        "        instr_list.append(elem['text'])\n",
        "\n",
        "up_list = []\n",
        "for word in instr_list:\n",
        "    if word in stop_words:\n",
        "        word += '#' \n",
        "        up_list.append(word)\n",
        "    else:\n",
        "        word += '/t'\n",
        "        up_list.append(word)\n",
        "\n",
        "\n",
        "big_str = [executor.submit(str(word)) for word in up_list]\n",
        "#''.join([exestr(word) for word in up_list])\n",
        "\n",
        "p = big_str.split('#' , len(sub_layer))\n",
        "len(p)\n",
        "\n"
      ],
      "execution_count": 23,
      "outputs": [
        {
          "output_type": "error",
          "ename": "AttributeError",
          "evalue": "ignored",
          "traceback": [
            "\u001b[0;31m---------------------------------------------------------------------------\u001b[0m",
            "\u001b[0;31mAttributeError\u001b[0m                            Traceback (most recent call last)",
            "\u001b[0;32m<ipython-input-23-5e1b0b13b060>\u001b[0m in \u001b[0;36m<module>\u001b[0;34m()\u001b[0m\n\u001b[1;32m     22\u001b[0m \u001b[0;31m#''.join([exestr(word) for word in up_list])\u001b[0m\u001b[0;34m\u001b[0m\u001b[0;34m\u001b[0m\u001b[0;34m\u001b[0m\u001b[0m\n\u001b[1;32m     23\u001b[0m \u001b[0;34m\u001b[0m\u001b[0m\n\u001b[0;32m---> 24\u001b[0;31m \u001b[0mp\u001b[0m \u001b[0;34m=\u001b[0m \u001b[0mbig_str\u001b[0m\u001b[0;34m.\u001b[0m\u001b[0msplit\u001b[0m\u001b[0;34m(\u001b[0m\u001b[0;34m'#'\u001b[0m \u001b[0;34m,\u001b[0m \u001b[0mlen\u001b[0m\u001b[0;34m(\u001b[0m\u001b[0msub_layer\u001b[0m\u001b[0;34m)\u001b[0m\u001b[0;34m)\u001b[0m\u001b[0;34m\u001b[0m\u001b[0;34m\u001b[0m\u001b[0m\n\u001b[0m\u001b[1;32m     25\u001b[0m \u001b[0mlen\u001b[0m\u001b[0;34m(\u001b[0m\u001b[0mp\u001b[0m\u001b[0;34m)\u001b[0m\u001b[0;34m\u001b[0m\u001b[0;34m\u001b[0m\u001b[0m\n\u001b[1;32m     26\u001b[0m \u001b[0;34m\u001b[0m\u001b[0m\n",
            "\u001b[0;31mAttributeError\u001b[0m: 'list' object has no attribute 'split'"
          ]
        }
      ]
    },
    {
      "cell_type": "code",
      "metadata": {
        "colab": {
          "base_uri": "https://localhost:8080/"
        },
        "id": "JfDct-LH8o9h",
        "outputId": "9ef6ed54-68e5-468d-9c9b-3b723a8a794d"
      },
      "source": [
        ""
      ],
      "execution_count": 24,
      "outputs": [
        {
          "output_type": "execute_result",
          "data": {
            "text/plain": [
              "[<Future at 0x7fb46b1279d0 state=finished raised TypeError>,\n",
              " <Future at 0x7fb46b1480d0 state=finished raised TypeError>,\n",
              " <Future at 0x7fb46b148f10 state=finished raised TypeError>,\n",
              " <Future at 0x7fb46b148fd0 state=finished raised TypeError>,\n",
              " <Future at 0x7fb46b148350 state=finished raised TypeError>,\n",
              " <Future at 0x7fb46b148790 state=finished raised TypeError>,\n",
              " <Future at 0x7fb46b148950 state=finished raised TypeError>,\n",
              " <Future at 0x7fb46b148510 state=finished raised TypeError>,\n",
              " <Future at 0x7fb46b148690 state=finished raised TypeError>,\n",
              " <Future at 0x7fb46b1487d0 state=finished raised TypeError>,\n",
              " <Future at 0x7fb46b115d10 state=finished raised TypeError>,\n",
              " <Future at 0x7fb46b115b10 state=finished raised TypeError>,\n",
              " <Future at 0x7fb46b115950 state=finished raised TypeError>,\n",
              " <Future at 0x7fb46b115f10 state=finished raised TypeError>,\n",
              " <Future at 0x7fb46b115690 state=finished raised TypeError>,\n",
              " <Future at 0x7fb46b115b90 state=finished raised TypeError>,\n",
              " <Future at 0x7fb46b1152d0 state=finished raised TypeError>,\n",
              " <Future at 0x7fb46b115550 state=finished raised TypeError>,\n",
              " <Future at 0x7fb46b115f50 state=finished raised TypeError>,\n",
              " <Future at 0x7fb46b115750 state=finished raised TypeError>,\n",
              " <Future at 0x7fb46b115650 state=finished raised TypeError>,\n",
              " <Future at 0x7fb46b115c90 state=finished raised TypeError>,\n",
              " <Future at 0x7fb46b115850 state=finished raised TypeError>,\n",
              " <Future at 0x7fb46b115e50 state=finished raised TypeError>,\n",
              " <Future at 0x7fb46b6b2990 state=finished raised TypeError>,\n",
              " <Future at 0x7fb46b6b2510 state=finished raised TypeError>,\n",
              " <Future at 0x7fb46fba6290 state=finished raised TypeError>,\n",
              " <Future at 0x7fb470aac490 state=finished raised TypeError>,\n",
              " <Future at 0x7fb470aac550 state=finished raised TypeError>,\n",
              " <Future at 0x7fb6b9c01dd0 state=finished raised TypeError>,\n",
              " <Future at 0x7fb6b9c01f50 state=finished raised TypeError>,\n",
              " <Future at 0x7fb68b7dead0 state=finished raised TypeError>,\n",
              " <Future at 0x7fb46b6b8e10 state=finished raised TypeError>,\n",
              " <Future at 0x7fb46b6abc50 state=finished raised TypeError>,\n",
              " <Future at 0x7fb46b128a10 state=finished raised TypeError>,\n",
              " <Future at 0x7fb46b128fd0 state=finished raised TypeError>,\n",
              " <Future at 0x7fb46b128550 state=finished raised TypeError>,\n",
              " <Future at 0x7fb46b128c50 state=finished raised TypeError>,\n",
              " <Future at 0x7fb46b128750 state=finished raised TypeError>,\n",
              " <Future at 0x7fb46b128910 state=finished raised TypeError>,\n",
              " <Future at 0x7fb46b128e50 state=finished raised TypeError>,\n",
              " <Future at 0x7fb46b1289d0 state=finished raised TypeError>,\n",
              " <Future at 0x7fb46b128dd0 state=finished raised TypeError>,\n",
              " <Future at 0x7fb46b1283d0 state=finished raised TypeError>,\n",
              " <Future at 0x7fb46b128510 state=finished raised TypeError>,\n",
              " <Future at 0x7fb46b128d50 state=finished raised TypeError>,\n",
              " <Future at 0x7fb46b128050 state=finished raised TypeError>,\n",
              " <Future at 0x7fb46b128a50 state=finished raised TypeError>,\n",
              " <Future at 0x7fb46b1287d0 state=finished raised TypeError>,\n",
              " <Future at 0x7fb46b128390 state=finished raised TypeError>,\n",
              " <Future at 0x7fb46b128690 state=finished raised TypeError>,\n",
              " <Future at 0x7fb46b148e50 state=finished raised TypeError>,\n",
              " <Future at 0x7fb46b148f90 state=finished raised TypeError>,\n",
              " <Future at 0x7fb46b148210 state=finished raised TypeError>,\n",
              " <Future at 0x7fb46b1483d0 state=finished raised TypeError>,\n",
              " <Future at 0x7fb46b148650 state=finished raised TypeError>,\n",
              " <Future at 0x7fb46b148d50 state=finished raised TypeError>,\n",
              " <Future at 0x7fb46b148850 state=finished raised TypeError>,\n",
              " <Future at 0x7fb46b0dd0d0 state=finished raised TypeError>,\n",
              " <Future at 0x7fb46b0dd190 state=finished raised TypeError>,\n",
              " <Future at 0x7fb46b0dd250 state=finished raised TypeError>,\n",
              " <Future at 0x7fb46b0dd310 state=finished raised TypeError>,\n",
              " <Future at 0x7fb46b0dd3d0 state=finished raised TypeError>,\n",
              " <Future at 0x7fb46b0dd490 state=finished raised TypeError>,\n",
              " <Future at 0x7fb46b0dd550 state=finished raised TypeError>,\n",
              " <Future at 0x7fb46b0dd610 state=finished raised TypeError>,\n",
              " <Future at 0x7fb46b0dd6d0 state=finished raised TypeError>,\n",
              " <Future at 0x7fb46b0dd790 state=finished raised TypeError>,\n",
              " <Future at 0x7fb46b0dd850 state=finished raised TypeError>,\n",
              " <Future at 0x7fb46b0dd910 state=finished raised TypeError>,\n",
              " <Future at 0x7fb46b0dd9d0 state=finished raised TypeError>,\n",
              " <Future at 0x7fb46b0dda90 state=finished raised TypeError>,\n",
              " <Future at 0x7fb46b0ddb50 state=finished raised TypeError>,\n",
              " <Future at 0x7fb46b0ddc10 state=finished raised TypeError>,\n",
              " <Future at 0x7fb46b0ddcd0 state=finished raised TypeError>,\n",
              " <Future at 0x7fb46b0ddd90 state=finished raised TypeError>,\n",
              " <Future at 0x7fb46b0dde50 state=finished raised TypeError>,\n",
              " <Future at 0x7fb46b0ddf10 state=finished raised TypeError>]"
            ]
          },
          "metadata": {},
          "execution_count": 24
        }
      ]
    },
    {
      "cell_type": "code",
      "metadata": {
        "id": "S7qS2WSMCV75"
      },
      "source": [
        ""
      ],
      "execution_count": null,
      "outputs": []
    }
  ]
}