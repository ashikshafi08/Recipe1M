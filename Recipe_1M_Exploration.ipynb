{
  "nbformat": 4,
  "nbformat_minor": 0,
  "metadata": {
    "colab": {
      "name": "Recipe_1M_Exploration.ipynb",
      "provenance": [],
      "machine_shape": "hm",
      "authorship_tag": "ABX9TyPQI2tO+v1e1Bb0v2kZyJis",
      "include_colab_link": true
    },
    "kernelspec": {
      "name": "python3",
      "display_name": "Python 3"
    },
    "language_info": {
      "name": "python"
    }
  },
  "cells": [
    {
      "cell_type": "markdown",
      "metadata": {
        "id": "view-in-github",
        "colab_type": "text"
      },
      "source": [
        "<a href=\"https://colab.research.google.com/github/ashikshafi08/Recipe1M/blob/main/Recipe_1M_Exploration.ipynb\" target=\"_parent\"><img src=\"https://colab.research.google.com/assets/colab-badge.svg\" alt=\"Open In Colab\"/></a>"
      ]
    },
    {
      "cell_type": "code",
      "metadata": {
        "colab": {
          "base_uri": "https://localhost:8080/"
        },
        "id": "GIe8oN-evWhm",
        "outputId": "4af1b4bb-3cae-428c-f7ea-f53053b7747f"
      },
      "source": [
        "from google.colab import drive \n",
        "drive.mount('/content/drive/')"
      ],
      "execution_count": null,
      "outputs": [
        {
          "output_type": "stream",
          "name": "stdout",
          "text": [
            "Mounted at /content/drive/\n"
          ]
        }
      ]
    },
    {
      "cell_type": "code",
      "metadata": {
        "id": "jrnqP007wiFD"
      },
      "source": [
        "# Loading in the val and tes t rar files \n",
        "\n",
        "val_tar_path = '/content/drive/MyDrive/Recipe_1M/recipe1M_images_val.tar'\n",
        "test_tar_path = '/content/drive/MyDrive/Recipe_1M/recipe1M_images_test.tar'"
      ],
      "execution_count": null,
      "outputs": []
    },
    {
      "cell_type": "code",
      "metadata": {
        "id": "aVpm56h06R13"
      },
      "source": [
        "import tarfile"
      ],
      "execution_count": null,
      "outputs": []
    },
    {
      "cell_type": "code",
      "metadata": {
        "id": "p677QhP7UoBP"
      },
      "source": [
        "val_tar = tarfile.open(val_tar_path)\n",
        "val_tar.extractall('/content/drive/MyDrive/Recipe_1M/val/')\n",
        "val_tar.close()"
      ],
      "execution_count": null,
      "outputs": []
    },
    {
      "cell_type": "code",
      "metadata": {
        "id": "O6zFLoaP0p0_"
      },
      "source": [
        "import json \n",
        "with open('/content/layer1.json' , 'r') as file:\n",
        "  data_1 = json.load(file)"
      ],
      "execution_count": null,
      "outputs": []
    },
    {
      "cell_type": "code",
      "metadata": {
        "id": "a_hb0zQ6rzAf"
      },
      "source": [
        "# Loading in the json file 2 \n",
        "with open('/content/layer2.json' , 'r') as file:\n",
        "  data_2 = json.load(file)"
      ],
      "execution_count": null,
      "outputs": []
    },
    {
      "cell_type": "code",
      "metadata": {
        "id": "TWzNtLuXBSM8"
      },
      "source": [
        "from concurrent.futures import ProcessPoolExecutor\n",
        "executor = ProcessPoolExecutor(10)\n",
        "\n"
      ],
      "execution_count": null,
      "outputs": []
    },
    {
      "cell_type": "code",
      "metadata": {
        "colab": {
          "base_uri": "https://localhost:8080/"
        },
        "id": "YLtzxmFM2wd_",
        "outputId": "ab40f6a2-b3ed-4bd0-b713-8963c87dcb93"
      },
      "source": [
        "# Looking whats inside thhe subset of layer1 json file \n",
        "sub_layer = data_1[:10]\n",
        "for attr in sub_layer[:3]:\n",
        "    print(f\"ID: {attr['id']}\\n\")\n",
        "    print(f\"Ingredients: {attr['ingredients']}\\n\")\n",
        "    print(f\"Partition: {attr['partition']}\\n\")\n",
        "    print('\\n----Next Food----\\n')"
      ],
      "execution_count": null,
      "outputs": [
        {
          "output_type": "stream",
          "name": "stdout",
          "text": [
            "ID: 000018c8a5\n",
            "\n",
            "Ingredients: [{'text': '6 ounces penne'}, {'text': '2 cups Beechers Flagship Cheese Sauce (recipe follows)'}, {'text': '1 ounce Cheddar, grated (1/4 cup)'}, {'text': '1 ounce Gruyere cheese, grated (1/4 cup)'}, {'text': '1/4 to 1/2 teaspoon chipotle chili powder (see Note)'}, {'text': '1/4 cup (1/2 stick) unsalted butter'}, {'text': '1/3 cup all-purpose flour'}, {'text': '3 cups milk'}, {'text': '14 ounces semihard cheese (page 23), grated (about 3 1/2 cups)'}, {'text': '2 ounces semisoft cheese (page 23), grated (1/2 cup)'}, {'text': '1/2 teaspoon kosher salt'}, {'text': '1/4 to 1/2 teaspoon chipotle chili powder'}, {'text': '1/8 teaspoon garlic powder'}, {'text': '(makes about 4 cups)'}]\n",
            "\n",
            "Partition: train\n",
            "\n",
            "\n",
            "----Next Food----\n",
            "\n",
            "ID: 000033e39b\n",
            "\n",
            "Ingredients: [{'text': '1 c. elbow macaroni'}, {'text': '1 c. cubed American cheese (4 ounce.)'}, {'text': '1/2 c. sliced celery'}, {'text': '1/2 c. minced green pepper'}, {'text': '3 tbsp. minced pimento'}, {'text': '1/2 c. mayonnaise or possibly salad dressing'}, {'text': '1 tbsp. vinegar'}, {'text': '3/4 teaspoon salt'}, {'text': '1/2 teaspoon dry dill weed'}]\n",
            "\n",
            "Partition: train\n",
            "\n",
            "\n",
            "----Next Food----\n",
            "\n",
            "ID: 000035f7ed\n",
            "\n",
            "Ingredients: [{'text': '8 tomatoes, quartered'}, {'text': 'Kosher salt'}, {'text': '1 red onion, cut into small dice'}, {'text': '1 green bell pepper, cut into small dice'}, {'text': '1 red bell pepper, cut into small dice'}, {'text': '1 yellow bell pepper, cut into small dice'}, {'text': '1/2 cucumber, cut into small dice'}, {'text': 'Extra-virgin olive oil, for drizzling'}, {'text': '3 leaves fresh basil, finely chopped'}]\n",
            "\n",
            "Partition: train\n",
            "\n",
            "\n",
            "----Next Food----\n",
            "\n"
          ]
        }
      ]
    },
    {
      "cell_type": "code",
      "metadata": {
        "colab": {
          "base_uri": "https://localhost:8080/"
        },
        "id": "brT5HV_1seGU",
        "outputId": "4f24b34a-6864-4684-b1a1-eea73ea0f2db"
      },
      "source": [
        "# Id for the json file 1 \n",
        "[lay['id'] for lay in data_1[:10]]"
      ],
      "execution_count": null,
      "outputs": [
        {
          "output_type": "execute_result",
          "data": {
            "text/plain": [
              "['000018c8a5',\n",
              " '000033e39b',\n",
              " '000035f7ed',\n",
              " '00003a70b1',\n",
              " '00004320bb',\n",
              " '0000631d90',\n",
              " '000075604a',\n",
              " '00007bfd16',\n",
              " '000095fc1d',\n",
              " '0000973574']"
            ]
          },
          "metadata": {},
          "execution_count": 15
        }
      ]
    },
    {
      "cell_type": "code",
      "metadata": {
        "colab": {
          "base_uri": "https://localhost:8080/"
        },
        "id": "dI_KRsWdsNQm",
        "outputId": "7c01a6ae-1c5b-4c0e-ccda-05aea75ca616"
      },
      "source": [
        "# ID for the json file \n",
        "[lay['id'] for lay in data_2[:10]]"
      ],
      "execution_count": null,
      "outputs": [
        {
          "output_type": "execute_result",
          "data": {
            "text/plain": [
              "['00003a70b1',\n",
              " '000075604a',\n",
              " '00007bfd16',\n",
              " '000095fc1d',\n",
              " '0000b1e2b5',\n",
              " '0000c79afb',\n",
              " '00010379bf',\n",
              " '00010c7867',\n",
              " '00010d44c7',\n",
              " '00013266c9']"
            ]
          },
          "metadata": {},
          "execution_count": 14
        }
      ]
    },
    {
      "cell_type": "code",
      "metadata": {
        "colab": {
          "base_uri": "https://localhost:8080/"
        },
        "id": "jZ0LQLU6sN-c",
        "outputId": "8f35a1bc-5c39-4f00-ea84-1d2983ce6cc9"
      },
      "source": [
        "# Checking the length of both the json file \n",
        "len(data_1) , len(data_2)"
      ],
      "execution_count": null,
      "outputs": [
        {
          "output_type": "execute_result",
          "data": {
            "text/plain": [
              "(1029720, 402760)"
            ]
          },
          "metadata": {},
          "execution_count": 16
        }
      ]
    },
    {
      "cell_type": "code",
      "metadata": {
        "colab": {
          "base_uri": "https://localhost:8080/"
        },
        "id": "rYBYWs25v5v_",
        "outputId": "563747e3-8cc4-4de7-b15a-18a56964d342"
      },
      "source": [
        "252547 + 54255 + 54506"
      ],
      "execution_count": null,
      "outputs": [
        {
          "output_type": "execute_result",
          "data": {
            "text/plain": [
              "361308"
            ]
          },
          "metadata": {},
          "execution_count": 20
        }
      ]
    },
    {
      "cell_type": "code",
      "metadata": {
        "colab": {
          "base_uri": "https://localhost:8080/"
        },
        "id": "S8gjZ6MFsOFx",
        "outputId": "b3691efd-8fe0-46e9-9021-c6d8662b184e"
      },
      "source": [
        "data_2[:10]"
      ],
      "execution_count": null,
      "outputs": [
        {
          "output_type": "execute_result",
          "data": {
            "text/plain": [
              "[{'id': '00003a70b1',\n",
              "  'images': [{'id': '3e233001e2.jpg',\n",
              "    'url': 'http://img.sndimg.com/food/image/upload/w_512,h_512,c_fit,fl_progressive,q_95/v1/img/recipes/47/91/49/picaYYmb9.jpg'},\n",
              "   {'id': '7f749987f9.jpg',\n",
              "    'url': 'http://img.sndimg.com/food/image/upload/w_512,h_512,c_fit,fl_progressive,q_95/v1/img/recipes/47/91/49/picpy37SW.jpg'},\n",
              "   {'id': 'aaf6b2dcd3.jpg',\n",
              "    'url': 'http://img.sndimg.com/food/image/upload/w_512,h_512,c_fit,fl_progressive,q_95/v1/img/recipes/47/91/49/picX9CNE2.jpg'}]},\n",
              " {'id': '000075604a',\n",
              "  'images': [{'id': '6bdca6e490.jpg',\n",
              "    'url': 'https://img-global.cpcdn.com/001_recipes/5806945844854784/0x0/photo.jpg'}]},\n",
              " {'id': '00007bfd16',\n",
              "  'images': [{'id': '6409eab844.jpg',\n",
              "    'url': 'http://img.sndimg.com/food/image/upload/w_512,h_512,c_fit,fl_progressive,q_95/v1/img/recipes/40/86/94/picNQPjbC.jpg'},\n",
              "   {'id': 'f7cb3de295.jpg',\n",
              "    'url': 'http://img.sndimg.com/food/image/upload/w_512,h_512,c_fit,fl_progressive,q_95/v1/img/recipes/40/86/94/picjXIJN8.jpg'}]},\n",
              " {'id': '000095fc1d',\n",
              "  'images': [{'id': 'a1374cdd98.jpg',\n",
              "    'url': 'http://tastykitchen.com/recipes/wp-content/uploads/sites/2/2011/06/IMG_2692-630x420-410x615.jpg'}]},\n",
              " {'id': '0000b1e2b5',\n",
              "  'images': [{'id': 'cb1a684683.jpg',\n",
              "    'url': 'http://assets.epicurious.com/photos/5609a4d662fa7a9917c25748/master/pass/351294_hires.jpg'}]},\n",
              " {'id': '0000c79afb',\n",
              "  'images': [{'id': '2f4b4c4452.jpg',\n",
              "    'url': 'http://img.sndimg.com/food/image/upload/w_512,h_512,c_fit,fl_progressive,q_95/v1/img/recipes/30/53/85/picZAmxgu.jpg'}]},\n",
              " {'id': '00010379bf',\n",
              "  'images': [{'id': 'f480145da5.jpg',\n",
              "    'url': 'https://img-global.cpcdn.com/001_recipes/5205549177110528/0x0/photo.jpg'}]},\n",
              " {'id': '00010c7867',\n",
              "  'images': [{'id': '3b99e69c3c.jpg',\n",
              "    'url': 'http://img.sndimg.com/food/image/upload/w_512,h_512,c_fit,fl_progressive,q_95/v1/img/recipes/37/19/14/pic8wSA2x.jpg'},\n",
              "   {'id': '5ab32d58e0.jpg',\n",
              "    'url': 'http://img.sndimg.com/food/image/upload/w_512,h_512,c_fit,fl_progressive,q_95/v1/img/recipes/37/19/14/piczTZER2.jpg'}]},\n",
              " {'id': '00010d44c7',\n",
              "  'images': [{'id': '9f497dcfa5.jpg',\n",
              "    'url': 'http://img.sndimg.com/food/image/upload/w_512,h_512,c_fit,fl_progressive,q_95/v1/img/recipes/30/40/6/30406.jpg'}]},\n",
              " {'id': '00013266c9',\n",
              "  'images': [{'id': '4636c7f576.jpg',\n",
              "    'url': 'https://img-global.cpcdn.com/001_photo_reports/4904504583520256/0x0/photo.jpg'}]}]"
            ]
          },
          "metadata": {},
          "execution_count": 19
        }
      ]
    },
    {
      "cell_type": "code",
      "metadata": {
        "id": "kHMiI8J311xs"
      },
      "source": [
        "\n",
        "# def get_list_of_strings(key , json_file):\n",
        "#     stop_words = []\n",
        "#     key_list = []\n",
        "    \n",
        "#     # Iterating to find out the stop words and adding all elements into a list \n",
        "#     for i in range(0 , len(json_file)):\n",
        "#         list_of_key = json_file[i][key]\n",
        "        \n",
        "#         # Getting the stop words \n",
        "#         stop_words.append((list_of_key[-1]['text']))\n",
        "#         for elem in list_of_key:\n",
        "#             key_list.append(elem['text'])\n",
        "            \n",
        "    \n",
        "#     # Now we're adding a '#' character at every end of ingredients/instructions last value \n",
        "#     updated_key_list = [] \n",
        "#     for word in key_list:\n",
        "#         if word in stop_words:\n",
        "#             word += '#'\n",
        "#             updated_key_list.append(word)\n",
        "#         else:\n",
        "#             word +='/t'\n",
        "#             updated_key_list.append(word)\n",
        "            \n",
        "    \n",
        "#     # Converting the whole list of text into a big giant string\n",
        "#     big_string = ' '.join([str(word) for word in updated_key_list])\n",
        "    \n",
        "#     # Now returning the list of text for each ingredient/instructions (individual list of ingredients/instructions )\n",
        "#     indi_list = big_string.split('#')\n",
        "    \n",
        "#     # We just really want the list \n",
        "#     return indi_list"
      ],
      "execution_count": null,
      "outputs": []
    },
    {
      "cell_type": "code",
      "metadata": {
        "id": "-AvjCoKIO4fO"
      },
      "source": [
        ""
      ],
      "execution_count": null,
      "outputs": []
    },
    {
      "cell_type": "code",
      "metadata": {
        "colab": {
          "base_uri": "https://localhost:8080/"
        },
        "id": "jPyCsVn5PfE8",
        "outputId": "f88acd7d-b44f-46aa-f6a5-ccc156973924"
      },
      "source": [
        ""
      ],
      "execution_count": null,
      "outputs": [
        {
          "output_type": "execute_result",
          "data": {
            "text/plain": [
              "1029720"
            ]
          },
          "metadata": {},
          "execution_count": 50
        }
      ]
    },
    {
      "cell_type": "markdown",
      "metadata": {
        "id": "4TguGr-2RDyz"
      },
      "source": [
        "### Making a dataframe with the data we've got "
      ]
    },
    {
      "cell_type": "code",
      "metadata": {
        "id": "S7qS2WSMCV75",
        "colab": {
          "base_uri": "https://localhost:8080/"
        },
        "outputId": "1951af70-478b-4ded-a8fa-c94cd21ebdd3"
      },
      "source": [
        "# Storing all the values of (id, title , partition) in a list \n",
        "import pandas as pd\n",
        "from tqdm import tqdm \n",
        "\n",
        "id = []\n",
        "title = []\n",
        "part = []\n",
        "url = [] \n",
        "\n",
        "# Looping through and appending the values to a newly created list \n",
        "for attr in tqdm(data_1):\n",
        "  id.append(attr['id'])\n",
        "  title.append(attr['title'])\n",
        "  part.append(attr['partition'])\n",
        "  url.append(attr['url'])"
      ],
      "execution_count": null,
      "outputs": [
        {
          "output_type": "stream",
          "name": "stderr",
          "text": [
            "100%|██████████| 1029720/1029720 [00:01<00:00, 799222.85it/s]\n"
          ]
        }
      ]
    },
    {
      "cell_type": "code",
      "metadata": {
        "id": "j5QuhWVSy3XF"
      },
      "source": [
        "# Building a dictionary with above values \n",
        "data_1_dict = {'ID': id , 'food_title': title , 'partition': part , \"image_url\": url}\n",
        "\n",
        "# Convert this beautiful dict into a fully fledge dataframe \n",
        "data1_df = pd.DataFrame(data_1_dict)"
      ],
      "execution_count": null,
      "outputs": []
    },
    {
      "cell_type": "code",
      "metadata": {
        "colab": {
          "base_uri": "https://localhost:8080/",
          "height": 514
        },
        "id": "9q3ZyNzs0XYf",
        "outputId": "cc36a6ab-f482-4f60-931d-73d143dd1850"
      },
      "source": [
        "# Looking first 15 samples \n",
        "data1_df.head(15)"
      ],
      "execution_count": null,
      "outputs": [
        {
          "output_type": "execute_result",
          "data": {
            "text/html": [
              "<div>\n",
              "<style scoped>\n",
              "    .dataframe tbody tr th:only-of-type {\n",
              "        vertical-align: middle;\n",
              "    }\n",
              "\n",
              "    .dataframe tbody tr th {\n",
              "        vertical-align: top;\n",
              "    }\n",
              "\n",
              "    .dataframe thead th {\n",
              "        text-align: right;\n",
              "    }\n",
              "</style>\n",
              "<table border=\"1\" class=\"dataframe\">\n",
              "  <thead>\n",
              "    <tr style=\"text-align: right;\">\n",
              "      <th></th>\n",
              "      <th>ID</th>\n",
              "      <th>food_title</th>\n",
              "      <th>partition</th>\n",
              "      <th>image_url</th>\n",
              "    </tr>\n",
              "  </thead>\n",
              "  <tbody>\n",
              "    <tr>\n",
              "      <th>0</th>\n",
              "      <td>000018c8a5</td>\n",
              "      <td>Worlds Best Mac and Cheese</td>\n",
              "      <td>train</td>\n",
              "      <td>http://www.epicurious.com/recipes/food/views/-...</td>\n",
              "    </tr>\n",
              "    <tr>\n",
              "      <th>1</th>\n",
              "      <td>000033e39b</td>\n",
              "      <td>Dilly Macaroni Salad Recipe</td>\n",
              "      <td>train</td>\n",
              "      <td>http://cookeatshare.com/recipes/dilly-macaroni...</td>\n",
              "    </tr>\n",
              "    <tr>\n",
              "      <th>2</th>\n",
              "      <td>000035f7ed</td>\n",
              "      <td>Gazpacho</td>\n",
              "      <td>train</td>\n",
              "      <td>http://www.foodnetwork.com/recipes/gazpacho1.html</td>\n",
              "    </tr>\n",
              "    <tr>\n",
              "      <th>3</th>\n",
              "      <td>00003a70b1</td>\n",
              "      <td>Crunchy Onion Potato Bake</td>\n",
              "      <td>test</td>\n",
              "      <td>http://www.food.com/recipe/crunchy-onion-potat...</td>\n",
              "    </tr>\n",
              "    <tr>\n",
              "      <th>4</th>\n",
              "      <td>00004320bb</td>\n",
              "      <td>Cool 'n Easy Creamy Watermelon Pie</td>\n",
              "      <td>train</td>\n",
              "      <td>http://www.food.com/recipe/cool-n-easy-creamy-...</td>\n",
              "    </tr>\n",
              "    <tr>\n",
              "      <th>5</th>\n",
              "      <td>0000631d90</td>\n",
              "      <td>Easy Tropical Beef Skillet</td>\n",
              "      <td>train</td>\n",
              "      <td>http://www.food.com/recipe/easy-tropical-beef-...</td>\n",
              "    </tr>\n",
              "    <tr>\n",
              "      <th>6</th>\n",
              "      <td>000075604a</td>\n",
              "      <td>Kombu Tea Grilled Chicken Thigh</td>\n",
              "      <td>train</td>\n",
              "      <td>https://cookpad.com/us/recipes/150100-kombu-te...</td>\n",
              "    </tr>\n",
              "    <tr>\n",
              "      <th>7</th>\n",
              "      <td>00007bfd16</td>\n",
              "      <td>Strawberry Rhubarb Dump Cake</td>\n",
              "      <td>train</td>\n",
              "      <td>http://www.food.com/recipe/strawberry-rhubarb-...</td>\n",
              "    </tr>\n",
              "    <tr>\n",
              "      <th>8</th>\n",
              "      <td>000095fc1d</td>\n",
              "      <td>Yogurt Parfaits</td>\n",
              "      <td>train</td>\n",
              "      <td>http://tastykitchen.com/recipes/breakfastbrunc...</td>\n",
              "    </tr>\n",
              "    <tr>\n",
              "      <th>9</th>\n",
              "      <td>0000973574</td>\n",
              "      <td>Zucchini Nut Bread</td>\n",
              "      <td>train</td>\n",
              "      <td>http://www.food.com/recipe/zucchini-nut-bread-...</td>\n",
              "    </tr>\n",
              "    <tr>\n",
              "      <th>10</th>\n",
              "      <td>0000a4bcf6</td>\n",
              "      <td>Salmon &amp; Salad a La SPORTZ</td>\n",
              "      <td>train</td>\n",
              "      <td>http://www.kraftrecipes.com/recipes/salmon-sal...</td>\n",
              "    </tr>\n",
              "    <tr>\n",
              "      <th>11</th>\n",
              "      <td>0000b1e2b5</td>\n",
              "      <td>Fennel-Rubbed Pork Tenderloin with Roasted Fen...</td>\n",
              "      <td>train</td>\n",
              "      <td>http://www.epicurious.com/recipes/food/views/f...</td>\n",
              "    </tr>\n",
              "    <tr>\n",
              "      <th>12</th>\n",
              "      <td>0000c79afb</td>\n",
              "      <td>Pink Sangria</td>\n",
              "      <td>train</td>\n",
              "      <td>http://www.food.com/recipe/pink-sangria-305385</td>\n",
              "    </tr>\n",
              "    <tr>\n",
              "      <th>13</th>\n",
              "      <td>0000ed95f8</td>\n",
              "      <td>Pineapple Loaf</td>\n",
              "      <td>train</td>\n",
              "      <td>http://www.food.com/recipe/pineapple-loaf-88070</td>\n",
              "    </tr>\n",
              "    <tr>\n",
              "      <th>14</th>\n",
              "      <td>00010379bf</td>\n",
              "      <td>Brown Sugar 'Karintou' Snacks</td>\n",
              "      <td>train</td>\n",
              "      <td>https://cookpad.com/us/recipes/156014-brown-su...</td>\n",
              "    </tr>\n",
              "  </tbody>\n",
              "</table>\n",
              "</div>"
            ],
            "text/plain": [
              "            ID  ...                                          image_url\n",
              "0   000018c8a5  ...  http://www.epicurious.com/recipes/food/views/-...\n",
              "1   000033e39b  ...  http://cookeatshare.com/recipes/dilly-macaroni...\n",
              "2   000035f7ed  ...  http://www.foodnetwork.com/recipes/gazpacho1.html\n",
              "3   00003a70b1  ...  http://www.food.com/recipe/crunchy-onion-potat...\n",
              "4   00004320bb  ...  http://www.food.com/recipe/cool-n-easy-creamy-...\n",
              "5   0000631d90  ...  http://www.food.com/recipe/easy-tropical-beef-...\n",
              "6   000075604a  ...  https://cookpad.com/us/recipes/150100-kombu-te...\n",
              "7   00007bfd16  ...  http://www.food.com/recipe/strawberry-rhubarb-...\n",
              "8   000095fc1d  ...  http://tastykitchen.com/recipes/breakfastbrunc...\n",
              "9   0000973574  ...  http://www.food.com/recipe/zucchini-nut-bread-...\n",
              "10  0000a4bcf6  ...  http://www.kraftrecipes.com/recipes/salmon-sal...\n",
              "11  0000b1e2b5  ...  http://www.epicurious.com/recipes/food/views/f...\n",
              "12  0000c79afb  ...     http://www.food.com/recipe/pink-sangria-305385\n",
              "13  0000ed95f8  ...    http://www.food.com/recipe/pineapple-loaf-88070\n",
              "14  00010379bf  ...  https://cookpad.com/us/recipes/156014-brown-su...\n",
              "\n",
              "[15 rows x 4 columns]"
            ]
          },
          "metadata": {},
          "execution_count": 4
        }
      ]
    },
    {
      "cell_type": "code",
      "metadata": {
        "colab": {
          "base_uri": "https://localhost:8080/"
        },
        "id": "d0ElnKJj3cPl",
        "outputId": "e878837b-c264-4057-f518-0987824245dc"
      },
      "source": [
        "# Checking for missing values \n",
        "data1_df.isna().sum()"
      ],
      "execution_count": null,
      "outputs": [
        {
          "output_type": "execute_result",
          "data": {
            "text/plain": [
              "ID            0\n",
              "food_title    0\n",
              "partition     0\n",
              "image_url     0\n",
              "dtype: int64"
            ]
          },
          "metadata": {},
          "execution_count": 49
        }
      ]
    },
    {
      "cell_type": "code",
      "metadata": {
        "colab": {
          "base_uri": "https://localhost:8080/"
        },
        "id": "WQyf1pjj3oAx",
        "outputId": "74b5aae4-4074-43f0-a8f0-334e8fcbcd67"
      },
      "source": [
        "# Paritions value counts \n",
        "data1_df['partition'].value_counts() # its sime like they've mentioned in the paper "
      ],
      "execution_count": null,
      "outputs": [
        {
          "output_type": "execute_result",
          "data": {
            "text/plain": [
              "train    720639\n",
              "val      155036\n",
              "test     154045\n",
              "Name: partition, dtype: int64"
            ]
          },
          "metadata": {},
          "execution_count": 52
        }
      ]
    },
    {
      "cell_type": "markdown",
      "metadata": {
        "id": "wuPJVndn3voS"
      },
      "source": [
        "Lets create a function that will parse out the ingredients and instructions out. "
      ]
    },
    {
      "cell_type": "code",
      "metadata": {
        "colab": {
          "base_uri": "https://localhost:8080/"
        },
        "id": "3wTPsKaz4izI",
        "outputId": "7eef8f86-f38a-4a83-c27e-cdd855be8691"
      },
      "source": [
        "def get_list_of_strings(key , json_file):\n",
        "    all_ingredient_lists = []\n",
        "    for recipie in tqdm(json_file):\n",
        "        ingredients = recipie[key]\n",
        "        ingredient_list = []\n",
        "        for ingredient in ingredients:\n",
        "            ingredient_list.append(ingredient['text'])\n",
        "            \n",
        "        all_ingredient_lists.append(ingredient_list)\n",
        "    return all_ingredient_lists\n",
        "\n",
        "\n",
        "# Using the above function and parsing out the values\n",
        "ingredients_list = get_list_of_strings('ingredients' , data_1)\n",
        "instructions_list = get_list_of_strings('instructions' , data_1)"
      ],
      "execution_count": null,
      "outputs": [
        {
          "output_type": "stream",
          "name": "stderr",
          "text": [
            "100%|██████████| 1029720/1029720 [00:05<00:00, 173232.40it/s]\n",
            "100%|██████████| 1029720/1029720 [00:06<00:00, 157048.92it/s]\n"
          ]
        }
      ]
    },
    {
      "cell_type": "code",
      "metadata": {
        "colab": {
          "base_uri": "https://localhost:8080/"
        },
        "id": "6N1p6DTR5ULy",
        "outputId": "2a9aecc3-1a64-4e0b-f342-7f2194ee331a"
      },
      "source": [
        "# Checking both of the lengths \n",
        "len(ingredients_list) , len(instructions_list)"
      ],
      "execution_count": null,
      "outputs": [
        {
          "output_type": "execute_result",
          "data": {
            "text/plain": [
              "(1029720, 1029720)"
            ]
          },
          "metadata": {},
          "execution_count": 59
        }
      ]
    },
    {
      "cell_type": "code",
      "metadata": {
        "colab": {
          "base_uri": "https://localhost:8080/"
        },
        "id": "nyl4EfwT5BAo",
        "outputId": "312f4442-fb54-4e38-b432-8095edfad703"
      },
      "source": [
        "# Looking into the instructions list (first 5 samples)\n",
        "instructions_list[:5]"
      ],
      "execution_count": null,
      "outputs": [
        {
          "output_type": "execute_result",
          "data": {
            "text/plain": [
              "[['Preheat the oven to 350 F. Butter or oil an 8-inch baking dish.',\n",
              "  'Cook the penne 2 minutes less than package directions.',\n",
              "  '(It will finish cooking in the oven.)',\n",
              "  'Rinse the pasta in cold water and set aside.',\n",
              "  'Combine the cooked pasta and the sauce in a medium bowl and mix carefully but thoroughly.',\n",
              "  'Scrape the pasta into the prepared baking dish.',\n",
              "  'Sprinkle the top with the cheeses and then the chili powder.',\n",
              "  'Bake, uncovered, for 20 minutes.',\n",
              "  'Let the mac and cheese sit for 5 minutes before serving.',\n",
              "  'Melt the butter in a heavy-bottomed saucepan over medium heat and whisk in the flour.',\n",
              "  'Continue whisking and cooking for 2 minutes.',\n",
              "  'Slowly add the milk, whisking constantly.',\n",
              "  'Cook until the sauce thickens, about 10 minutes, stirring frequently.',\n",
              "  'Remove from the heat.',\n",
              "  'Add the cheeses, salt, chili powder, and garlic powder.',\n",
              "  'Stir until the cheese is melted and all ingredients are incorporated, about 3 minutes.',\n",
              "  'Use immediately, or refrigerate for up to 3 days.',\n",
              "  'This sauce reheats nicely on the stove in a saucepan over low heat.',\n",
              "  'Stir frequently so the sauce doesnt scorch.',\n",
              "  'This recipe can be assembled before baking and frozen for up to 3 monthsjust be sure to use a freezer-to-oven pan and increase the baking time to 50 minutes.',\n",
              "  'One-half teaspoon of chipotle chili powder makes a spicy mac, so make sure your family and friends can handle it!',\n",
              "  'The proportion of pasta to cheese sauce is crucial to the success of the dish.',\n",
              "  'It will look like a lot of sauce for the pasta, but some of the liquid will be absorbed.'],\n",
              " ['Cook macaroni according to package directions; drain well.',\n",
              "  'Cold.',\n",
              "  'Combine macaroni, cheese cubes, celery, green pepper and pimento.',\n",
              "  'Blend together mayonnaise or possibly salad dressing, vinegar, salt and dill weed; add in to macaroni mix.',\n",
              "  'Toss lightly.',\n",
              "  'Cover and refrigeratewell.',\n",
              "  'Serve salad in lettuce lined bowl if you like.',\n",
              "  'Makes 6 servings.'],\n",
              " ['Add the tomatoes to a food processor with a pinch of salt and puree until smooth.',\n",
              "  'Combine the onions, bell peppers and cucumbers with the tomato puree in a large bowl.',\n",
              "  'Chill at least 1 hour.',\n",
              "  'Drizzle with olive oil, garnish with chopped basil and serve.'],\n",
              " ['Preheat oven to 350 degrees Fahrenheit.',\n",
              "  'Spray pan with non stick cooking spray.',\n",
              "  'Heat milk, water and butter to boiling; stir in contents of both pouches of potatoes; let stand one minute.',\n",
              "  'Stir in corn.',\n",
              "  'Spoon half the potato mixture in pan.',\n",
              "  'Sprinkle half each of cheese and onions; top with remaining potatoes.',\n",
              "  'Sprinkle with remaining cheese and onions.',\n",
              "  'Bake 10 to 15 minutes until cheese is melted.',\n",
              "  'Enjoy !'],\n",
              " ['Dissolve Jello in boiling water.',\n",
              "  'Allow to cool to room temp.',\n",
              "  'Whisk in Cool Whip.',\n",
              "  'Fold in watermelon.',\n",
              "  'Spoon into crust.',\n",
              "  'Chill for 2-3 hours or overnight.',\n",
              "  'Yum!']]"
            ]
          },
          "metadata": {},
          "execution_count": 60
        }
      ]
    },
    {
      "cell_type": "code",
      "metadata": {
        "colab": {
          "base_uri": "https://localhost:8080/"
        },
        "id": "z2X0EoIn5om4",
        "outputId": "d3b002c7-bc00-4211-9984-22d46cfd7940"
      },
      "source": [
        "# Looking into the ingredients list (first 5 samples)\n",
        "ingredients_list[:5]"
      ],
      "execution_count": null,
      "outputs": [
        {
          "output_type": "execute_result",
          "data": {
            "text/plain": [
              "[['6 ounces penne',\n",
              "  '2 cups Beechers Flagship Cheese Sauce (recipe follows)',\n",
              "  '1 ounce Cheddar, grated (1/4 cup)',\n",
              "  '1 ounce Gruyere cheese, grated (1/4 cup)',\n",
              "  '1/4 to 1/2 teaspoon chipotle chili powder (see Note)',\n",
              "  '1/4 cup (1/2 stick) unsalted butter',\n",
              "  '1/3 cup all-purpose flour',\n",
              "  '3 cups milk',\n",
              "  '14 ounces semihard cheese (page 23), grated (about 3 1/2 cups)',\n",
              "  '2 ounces semisoft cheese (page 23), grated (1/2 cup)',\n",
              "  '1/2 teaspoon kosher salt',\n",
              "  '1/4 to 1/2 teaspoon chipotle chili powder',\n",
              "  '1/8 teaspoon garlic powder',\n",
              "  '(makes about 4 cups)'],\n",
              " ['1 c. elbow macaroni',\n",
              "  '1 c. cubed American cheese (4 ounce.)',\n",
              "  '1/2 c. sliced celery',\n",
              "  '1/2 c. minced green pepper',\n",
              "  '3 tbsp. minced pimento',\n",
              "  '1/2 c. mayonnaise or possibly salad dressing',\n",
              "  '1 tbsp. vinegar',\n",
              "  '3/4 teaspoon salt',\n",
              "  '1/2 teaspoon dry dill weed'],\n",
              " ['8 tomatoes, quartered',\n",
              "  'Kosher salt',\n",
              "  '1 red onion, cut into small dice',\n",
              "  '1 green bell pepper, cut into small dice',\n",
              "  '1 red bell pepper, cut into small dice',\n",
              "  '1 yellow bell pepper, cut into small dice',\n",
              "  '1/2 cucumber, cut into small dice',\n",
              "  'Extra-virgin olive oil, for drizzling',\n",
              "  '3 leaves fresh basil, finely chopped'],\n",
              " ['2 12 cups milk',\n",
              "  '1 12 cups water',\n",
              "  '14 cup butter',\n",
              "  'mashed potatoes, 1 box, homestyle',\n",
              "  '1 (8 ounce) can whole kernel corn (drained)',\n",
              "  '1 cup cheddar cheese',\n",
              "  '1 cup French-fried onions'],\n",
              " ['1 (3 ounce) package watermelon gelatin',\n",
              "  '14 cup boiling water',\n",
              "  '1 (12 ounce) package Cool Whip, thawed',\n",
              "  '2 cups cubed seedless watermelon',\n",
              "  '1 graham cracker crust']]"
            ]
          },
          "metadata": {},
          "execution_count": 61
        }
      ]
    },
    {
      "cell_type": "code",
      "metadata": {
        "id": "UIZ2aUm8HCIg"
      },
      "source": [
        "# # Creating columns for our dataframe\n",
        "# cols = ['ingredients' , 'instructions']\n",
        "\n",
        "# # Making into a one whole string and adding up the rows by looping\n",
        "# def get_df(cols = cols):\n",
        "#   info_df = pd.DataFrame(columns= cols)\n",
        "#   for i in tqdm(range(0 , len(data_1))):\n",
        "#     info_df = info_df.append({'ingredients': ' /t '.join(ingredients_list[i]) ,  \n",
        "#                               'instructions': ' /t '.join(instructions_list[i])} , ignore_index = True)\n",
        "\n",
        "#   return info_df"
      ],
      "execution_count": null,
      "outputs": []
    },
    {
      "cell_type": "code",
      "metadata": {
        "colab": {
          "base_uri": "https://localhost:8080/"
        },
        "id": "ZobAC-hSKHFQ",
        "outputId": "9ecc26da-0999-4ecf-88eb-9a2a63783122"
      },
      "source": [
        "# Creating updated list with one individual strings \n",
        "updated_ingredients_list = [' /t '.join(ingredients_list[i]) for i in tqdm(range(0 , len(data_1)))] \n",
        "updated_instructions_list = [' /t '.join(instructions_list[i]) for i in tqdm(range(0 , len(data_1)))] "
      ],
      "execution_count": null,
      "outputs": [
        {
          "output_type": "stream",
          "name": "stderr",
          "text": [
            "100%|██████████| 1029720/1029720 [00:01<00:00, 921177.61it/s]\n",
            "100%|██████████| 1029720/1029720 [00:01<00:00, 785491.59it/s]\n"
          ]
        }
      ]
    },
    {
      "cell_type": "code",
      "metadata": {
        "id": "xWVZvITeXnDM",
        "colab": {
          "base_uri": "https://localhost:8080/",
          "height": 204
        },
        "outputId": "3bb5ff74-306a-41c6-8550-031cbc3460d2"
      },
      "source": [
        "import numpy as np \n",
        "\n",
        "data1_df['ingredients'] = pd.Series(updated_ingredients_list)\n",
        "data1_df['instructions'] = pd.Series(updated_instructions_list)\n",
        "\n",
        "data1_df.head()"
      ],
      "execution_count": null,
      "outputs": [
        {
          "output_type": "execute_result",
          "data": {
            "text/html": [
              "<div>\n",
              "<style scoped>\n",
              "    .dataframe tbody tr th:only-of-type {\n",
              "        vertical-align: middle;\n",
              "    }\n",
              "\n",
              "    .dataframe tbody tr th {\n",
              "        vertical-align: top;\n",
              "    }\n",
              "\n",
              "    .dataframe thead th {\n",
              "        text-align: right;\n",
              "    }\n",
              "</style>\n",
              "<table border=\"1\" class=\"dataframe\">\n",
              "  <thead>\n",
              "    <tr style=\"text-align: right;\">\n",
              "      <th></th>\n",
              "      <th>ID</th>\n",
              "      <th>food_title</th>\n",
              "      <th>partition</th>\n",
              "      <th>image_url</th>\n",
              "      <th>ingredients</th>\n",
              "      <th>instructions</th>\n",
              "    </tr>\n",
              "  </thead>\n",
              "  <tbody>\n",
              "    <tr>\n",
              "      <th>0</th>\n",
              "      <td>000018c8a5</td>\n",
              "      <td>Worlds Best Mac and Cheese</td>\n",
              "      <td>train</td>\n",
              "      <td>http://www.epicurious.com/recipes/food/views/-...</td>\n",
              "      <td>6 ounces penne /t 2 cups Beechers Flagship Che...</td>\n",
              "      <td>Preheat the oven to 350 F. Butter or oil an 8-...</td>\n",
              "    </tr>\n",
              "    <tr>\n",
              "      <th>1</th>\n",
              "      <td>000033e39b</td>\n",
              "      <td>Dilly Macaroni Salad Recipe</td>\n",
              "      <td>train</td>\n",
              "      <td>http://cookeatshare.com/recipes/dilly-macaroni...</td>\n",
              "      <td>1 c. elbow macaroni /t 1 c. cubed American che...</td>\n",
              "      <td>Cook macaroni according to package directions;...</td>\n",
              "    </tr>\n",
              "    <tr>\n",
              "      <th>2</th>\n",
              "      <td>000035f7ed</td>\n",
              "      <td>Gazpacho</td>\n",
              "      <td>train</td>\n",
              "      <td>http://www.foodnetwork.com/recipes/gazpacho1.html</td>\n",
              "      <td>8 tomatoes, quartered /t Kosher salt /t 1 red ...</td>\n",
              "      <td>Add the tomatoes to a food processor with a pi...</td>\n",
              "    </tr>\n",
              "    <tr>\n",
              "      <th>3</th>\n",
              "      <td>00003a70b1</td>\n",
              "      <td>Crunchy Onion Potato Bake</td>\n",
              "      <td>test</td>\n",
              "      <td>http://www.food.com/recipe/crunchy-onion-potat...</td>\n",
              "      <td>2 12 cups milk /t 1 12 cups water /t 14 cup bu...</td>\n",
              "      <td>Preheat oven to 350 degrees Fahrenheit. /t Spr...</td>\n",
              "    </tr>\n",
              "    <tr>\n",
              "      <th>4</th>\n",
              "      <td>00004320bb</td>\n",
              "      <td>Cool 'n Easy Creamy Watermelon Pie</td>\n",
              "      <td>train</td>\n",
              "      <td>http://www.food.com/recipe/cool-n-easy-creamy-...</td>\n",
              "      <td>1 (3 ounce) package watermelon gelatin /t 14 c...</td>\n",
              "      <td>Dissolve Jello in boiling water. /t Allow to c...</td>\n",
              "    </tr>\n",
              "  </tbody>\n",
              "</table>\n",
              "</div>"
            ],
            "text/plain": [
              "           ID  ...                                       instructions\n",
              "0  000018c8a5  ...  Preheat the oven to 350 F. Butter or oil an 8-...\n",
              "1  000033e39b  ...  Cook macaroni according to package directions;...\n",
              "2  000035f7ed  ...  Add the tomatoes to a food processor with a pi...\n",
              "3  00003a70b1  ...  Preheat oven to 350 degrees Fahrenheit. /t Spr...\n",
              "4  00004320bb  ...  Dissolve Jello in boiling water. /t Allow to c...\n",
              "\n",
              "[5 rows x 6 columns]"
            ]
          },
          "metadata": {},
          "execution_count": 8
        }
      ]
    },
    {
      "cell_type": "code",
      "metadata": {
        "id": "CpZXDQprZDBn"
      },
      "source": [
        "pd.set_option('display.max_colwidth', None)"
      ],
      "execution_count": null,
      "outputs": []
    },
    {
      "cell_type": "code",
      "metadata": {
        "colab": {
          "base_uri": "https://localhost:8080/",
          "height": 867
        },
        "id": "iSRzkclxavr0",
        "outputId": "47756445-369b-4d97-cb76-184d9beed74a"
      },
      "source": [
        "data1_df.head()"
      ],
      "execution_count": null,
      "outputs": [
        {
          "output_type": "execute_result",
          "data": {
            "text/html": [
              "<div>\n",
              "<style scoped>\n",
              "    .dataframe tbody tr th:only-of-type {\n",
              "        vertical-align: middle;\n",
              "    }\n",
              "\n",
              "    .dataframe tbody tr th {\n",
              "        vertical-align: top;\n",
              "    }\n",
              "\n",
              "    .dataframe thead th {\n",
              "        text-align: right;\n",
              "    }\n",
              "</style>\n",
              "<table border=\"1\" class=\"dataframe\">\n",
              "  <thead>\n",
              "    <tr style=\"text-align: right;\">\n",
              "      <th></th>\n",
              "      <th>ID</th>\n",
              "      <th>food_title</th>\n",
              "      <th>partition</th>\n",
              "      <th>image_url</th>\n",
              "      <th>ingredients</th>\n",
              "      <th>instructions</th>\n",
              "    </tr>\n",
              "  </thead>\n",
              "  <tbody>\n",
              "    <tr>\n",
              "      <th>0</th>\n",
              "      <td>000018c8a5</td>\n",
              "      <td>Worlds Best Mac and Cheese</td>\n",
              "      <td>train</td>\n",
              "      <td>http://www.epicurious.com/recipes/food/views/-world-s-best-mac-and-cheese-387747</td>\n",
              "      <td>6 ounces penne /t 2 cups Beechers Flagship Cheese Sauce (recipe follows) /t 1 ounce Cheddar, grated (1/4 cup) /t 1 ounce Gruyere cheese, grated (1/4 cup) /t 1/4 to 1/2 teaspoon chipotle chili powder (see Note) /t 1/4 cup (1/2 stick) unsalted butter /t 1/3 cup all-purpose flour /t 3 cups milk /t 14 ounces semihard cheese (page 23), grated (about 3 1/2 cups) /t 2 ounces semisoft cheese (page 23), grated (1/2 cup) /t 1/2 teaspoon kosher salt /t 1/4 to 1/2 teaspoon chipotle chili powder /t 1/8 teaspoon garlic powder /t (makes about 4 cups)</td>\n",
              "      <td>Preheat the oven to 350 F. Butter or oil an 8-inch baking dish. /t Cook the penne 2 minutes less than package directions. /t (It will finish cooking in the oven.) /t Rinse the pasta in cold water and set aside. /t Combine the cooked pasta and the sauce in a medium bowl and mix carefully but thoroughly. /t Scrape the pasta into the prepared baking dish. /t Sprinkle the top with the cheeses and then the chili powder. /t Bake, uncovered, for 20 minutes. /t Let the mac and cheese sit for 5 minutes before serving. /t Melt the butter in a heavy-bottomed saucepan over medium heat and whisk in the flour. /t Continue whisking and cooking for 2 minutes. /t Slowly add the milk, whisking constantly. /t Cook until the sauce thickens, about 10 minutes, stirring frequently. /t Remove from the heat. /t Add the cheeses, salt, chili powder, and garlic powder. /t Stir until the cheese is melted and all ingredients are incorporated, about 3 minutes. /t Use immediately, or refrigerate for up to 3 days. /t This sauce reheats nicely on the stove in a saucepan over low heat. /t Stir frequently so the sauce doesnt scorch. /t This recipe can be assembled before baking and frozen for up to 3 monthsjust be sure to use a freezer-to-oven pan and increase the baking time to 50 minutes. /t One-half teaspoon of chipotle chili powder makes a spicy mac, so make sure your family and friends can handle it! /t The proportion of pasta to cheese sauce is crucial to the success of the dish. /t It will look like a lot of sauce for the pasta, but some of the liquid will be absorbed.</td>\n",
              "    </tr>\n",
              "    <tr>\n",
              "      <th>1</th>\n",
              "      <td>000033e39b</td>\n",
              "      <td>Dilly Macaroni Salad Recipe</td>\n",
              "      <td>train</td>\n",
              "      <td>http://cookeatshare.com/recipes/dilly-macaroni-salad-49166</td>\n",
              "      <td>1 c. elbow macaroni /t 1 c. cubed American cheese (4 ounce.) /t 1/2 c. sliced celery /t 1/2 c. minced green pepper /t 3 tbsp. minced pimento /t 1/2 c. mayonnaise or possibly salad dressing /t 1 tbsp. vinegar /t 3/4 teaspoon salt /t 1/2 teaspoon dry dill weed</td>\n",
              "      <td>Cook macaroni according to package directions; drain well. /t Cold. /t Combine macaroni, cheese cubes, celery, green pepper and pimento. /t Blend together mayonnaise or possibly salad dressing, vinegar, salt and dill weed; add in to macaroni mix. /t Toss lightly. /t Cover and refrigeratewell. /t Serve salad in lettuce lined bowl if you like. /t Makes 6 servings.</td>\n",
              "    </tr>\n",
              "    <tr>\n",
              "      <th>2</th>\n",
              "      <td>000035f7ed</td>\n",
              "      <td>Gazpacho</td>\n",
              "      <td>train</td>\n",
              "      <td>http://www.foodnetwork.com/recipes/gazpacho1.html</td>\n",
              "      <td>8 tomatoes, quartered /t Kosher salt /t 1 red onion, cut into small dice /t 1 green bell pepper, cut into small dice /t 1 red bell pepper, cut into small dice /t 1 yellow bell pepper, cut into small dice /t 1/2 cucumber, cut into small dice /t Extra-virgin olive oil, for drizzling /t 3 leaves fresh basil, finely chopped</td>\n",
              "      <td>Add the tomatoes to a food processor with a pinch of salt and puree until smooth. /t Combine the onions, bell peppers and cucumbers with the tomato puree in a large bowl. /t Chill at least 1 hour. /t Drizzle with olive oil, garnish with chopped basil and serve.</td>\n",
              "    </tr>\n",
              "    <tr>\n",
              "      <th>3</th>\n",
              "      <td>00003a70b1</td>\n",
              "      <td>Crunchy Onion Potato Bake</td>\n",
              "      <td>test</td>\n",
              "      <td>http://www.food.com/recipe/crunchy-onion-potato-bake-479149</td>\n",
              "      <td>2 12 cups milk /t 1 12 cups water /t 14 cup butter /t mashed potatoes, 1 box, homestyle /t 1 (8 ounce) can whole kernel corn (drained) /t 1 cup cheddar cheese /t 1 cup French-fried onions</td>\n",
              "      <td>Preheat oven to 350 degrees Fahrenheit. /t Spray pan with non stick cooking spray. /t Heat milk, water and butter to boiling; stir in contents of both pouches of potatoes; let stand one minute. /t Stir in corn. /t Spoon half the potato mixture in pan. /t Sprinkle half each of cheese and onions; top with remaining potatoes. /t Sprinkle with remaining cheese and onions. /t Bake 10 to 15 minutes until cheese is melted. /t Enjoy !</td>\n",
              "    </tr>\n",
              "    <tr>\n",
              "      <th>4</th>\n",
              "      <td>00004320bb</td>\n",
              "      <td>Cool 'n Easy Creamy Watermelon Pie</td>\n",
              "      <td>train</td>\n",
              "      <td>http://www.food.com/recipe/cool-n-easy-creamy-watermelon-pie-66340</td>\n",
              "      <td>1 (3 ounce) package watermelon gelatin /t 14 cup boiling water /t 1 (12 ounce) package Cool Whip, thawed /t 2 cups cubed seedless watermelon /t 1 graham cracker crust</td>\n",
              "      <td>Dissolve Jello in boiling water. /t Allow to cool to room temp. /t Whisk in Cool Whip. /t Fold in watermelon. /t Spoon into crust. /t Chill for 2-3 hours or overnight. /t Yum!</td>\n",
              "    </tr>\n",
              "  </tbody>\n",
              "</table>\n",
              "</div>"
            ],
            "text/plain": [
              "           ID  ...                                                                                                                                                                                                                                                                                                                                                                                                                                                                                                                                                                                                                                                                                                                                                                                                                                                                                                                                                                                                                                                                                                                                                                                                                                                                                                                                                                                                                                                                                                                                                                                                                    instructions\n",
              "0  000018c8a5  ...  Preheat the oven to 350 F. Butter or oil an 8-inch baking dish. /t Cook the penne 2 minutes less than package directions. /t (It will finish cooking in the oven.) /t Rinse the pasta in cold water and set aside. /t Combine the cooked pasta and the sauce in a medium bowl and mix carefully but thoroughly. /t Scrape the pasta into the prepared baking dish. /t Sprinkle the top with the cheeses and then the chili powder. /t Bake, uncovered, for 20 minutes. /t Let the mac and cheese sit for 5 minutes before serving. /t Melt the butter in a heavy-bottomed saucepan over medium heat and whisk in the flour. /t Continue whisking and cooking for 2 minutes. /t Slowly add the milk, whisking constantly. /t Cook until the sauce thickens, about 10 minutes, stirring frequently. /t Remove from the heat. /t Add the cheeses, salt, chili powder, and garlic powder. /t Stir until the cheese is melted and all ingredients are incorporated, about 3 minutes. /t Use immediately, or refrigerate for up to 3 days. /t This sauce reheats nicely on the stove in a saucepan over low heat. /t Stir frequently so the sauce doesnt scorch. /t This recipe can be assembled before baking and frozen for up to 3 monthsjust be sure to use a freezer-to-oven pan and increase the baking time to 50 minutes. /t One-half teaspoon of chipotle chili powder makes a spicy mac, so make sure your family and friends can handle it! /t The proportion of pasta to cheese sauce is crucial to the success of the dish. /t It will look like a lot of sauce for the pasta, but some of the liquid will be absorbed.\n",
              "1  000033e39b  ...                                                                                                                                                                                                                                                                                                                                                                                                                                                                                                                                                                                                                                                                                                                                                                                                                                                                                                                                                                                                                                                                                                                                                                                                                                                    Cook macaroni according to package directions; drain well. /t Cold. /t Combine macaroni, cheese cubes, celery, green pepper and pimento. /t Blend together mayonnaise or possibly salad dressing, vinegar, salt and dill weed; add in to macaroni mix. /t Toss lightly. /t Cover and refrigeratewell. /t Serve salad in lettuce lined bowl if you like. /t Makes 6 servings.\n",
              "2  000035f7ed  ...                                                                                                                                                                                                                                                                                                                                                                                                                                                                                                                                                                                                                                                                                                                                                                                                                                                                                                                                                                                                                                                                                                                                                                                                                                                                                                                                                           Add the tomatoes to a food processor with a pinch of salt and puree until smooth. /t Combine the onions, bell peppers and cucumbers with the tomato puree in a large bowl. /t Chill at least 1 hour. /t Drizzle with olive oil, garnish with chopped basil and serve.\n",
              "3  00003a70b1  ...                                                                                                                                                                                                                                                                                                                                                                                                                                                                                                                                                                                                                                                                                                                                                                                                                                                                                                                                                                                                                                                                                                                                                                                  Preheat oven to 350 degrees Fahrenheit. /t Spray pan with non stick cooking spray. /t Heat milk, water and butter to boiling; stir in contents of both pouches of potatoes; let stand one minute. /t Stir in corn. /t Spoon half the potato mixture in pan. /t Sprinkle half each of cheese and onions; top with remaining potatoes. /t Sprinkle with remaining cheese and onions. /t Bake 10 to 15 minutes until cheese is melted. /t Enjoy !\n",
              "4  00004320bb  ...                                                                                                                                                                                                                                                                                                                                                                                                                                                                                                                                                                                                                                                                                                                                                                                                                                                                                                                                                                                                                                                                                                                                                                                                                                                                                                                                                                                                                                                 Dissolve Jello in boiling water. /t Allow to cool to room temp. /t Whisk in Cool Whip. /t Fold in watermelon. /t Spoon into crust. /t Chill for 2-3 hours or overnight. /t Yum!\n",
              "\n",
              "[5 rows x 6 columns]"
            ]
          },
          "metadata": {},
          "execution_count": 10
        }
      ]
    },
    {
      "cell_type": "code",
      "metadata": {
        "id": "S900mr5vaxk0"
      },
      "source": [
        "# Saving the dataframe \n",
        "path = '/content/drive/MyDrive/Recipe_1M'\n",
        "data1_df.to_csv( path+'data_1.csv' , index = False)"
      ],
      "execution_count": null,
      "outputs": []
    },
    {
      "cell_type": "markdown",
      "metadata": {
        "id": "Gl_P98ArbXyU"
      },
      "source": [
        "So far we have worked on getting a pretty big and beautiful dataframe, now the next step is preprocessing a removing bits of data from our huge dataframe. We can do things like, \n",
        "- Remove recipes with less than 2 ingredients or 2 instructions\n",
        "- Remove recipes that doesnt have a image (but not sure how to find this for now) \n",
        "\n",
        "\n"
      ]
    },
    {
      "cell_type": "code",
      "metadata": {
        "colab": {
          "base_uri": "https://localhost:8080/"
        },
        "id": "aWDoG7ZQkIlV",
        "outputId": "f205a3e0-8ec2-4455-e575-5a33660ac86d"
      },
      "source": [
        "data1_df['food_title'].value_counts()"
      ],
      "execution_count": null,
      "outputs": [
        {
          "output_type": "execute_result",
          "data": {
            "text/plain": [
              "Banana Bread                                 247\n",
              "Guacamole                                    202\n",
              "Chicken Enchiladas                           198\n",
              "Beef Stroganoff                              185\n",
              "Chocolate Chip Cookies                       179\n",
              "                                            ... \n",
              "Breakfast Queso Fundido Recipe                 1\n",
              "Sheila's Banana Bread                          1\n",
              "Sauerkraut on Bread Dough                      1\n",
              "Teenie's Accidental Rhubarb-Raspberry Pie      1\n",
              "Spicy Cilantro Sliders                         1\n",
              "Name: food_title, Length: 809994, dtype: int64"
            ]
          },
          "metadata": {},
          "execution_count": 30
        }
      ]
    },
    {
      "cell_type": "code",
      "metadata": {
        "colab": {
          "base_uri": "https://localhost:8080/",
          "height": 748
        },
        "id": "Vc-KOkjolAFK",
        "outputId": "171939da-1fb0-4b59-a4a6-573d2eecee80"
      },
      "source": [
        "counts = data1_df['food_title'].value_counts()\n",
        "\n",
        "# Filtering out the dataframe with the food title \n",
        "preprocessed_df = data1_df[~data1_df['food_title'].isin(counts[counts < 2].index)]\n",
        "\n",
        "preprocessed_df.head()"
      ],
      "execution_count": null,
      "outputs": [
        {
          "output_type": "execute_result",
          "data": {
            "text/html": [
              "<div>\n",
              "<style scoped>\n",
              "    .dataframe tbody tr th:only-of-type {\n",
              "        vertical-align: middle;\n",
              "    }\n",
              "\n",
              "    .dataframe tbody tr th {\n",
              "        vertical-align: top;\n",
              "    }\n",
              "\n",
              "    .dataframe thead th {\n",
              "        text-align: right;\n",
              "    }\n",
              "</style>\n",
              "<table border=\"1\" class=\"dataframe\">\n",
              "  <thead>\n",
              "    <tr style=\"text-align: right;\">\n",
              "      <th></th>\n",
              "      <th>ID</th>\n",
              "      <th>food_title</th>\n",
              "      <th>partition</th>\n",
              "      <th>image_url</th>\n",
              "      <th>ingredients</th>\n",
              "      <th>instructions</th>\n",
              "    </tr>\n",
              "  </thead>\n",
              "  <tbody>\n",
              "    <tr>\n",
              "      <th>2</th>\n",
              "      <td>000035f7ed</td>\n",
              "      <td>Gazpacho</td>\n",
              "      <td>train</td>\n",
              "      <td>http://www.foodnetwork.com/recipes/gazpacho1.html</td>\n",
              "      <td>8 tomatoes, quartered /t Kosher salt /t 1 red onion, cut into small dice /t 1 green bell pepper, cut into small dice /t 1 red bell pepper, cut into small dice /t 1 yellow bell pepper, cut into small dice /t 1/2 cucumber, cut into small dice /t Extra-virgin olive oil, for drizzling /t 3 leaves fresh basil, finely chopped</td>\n",
              "      <td>Add the tomatoes to a food processor with a pinch of salt and puree until smooth. /t Combine the onions, bell peppers and cucumbers with the tomato puree in a large bowl. /t Chill at least 1 hour. /t Drizzle with olive oil, garnish with chopped basil and serve.</td>\n",
              "    </tr>\n",
              "    <tr>\n",
              "      <th>3</th>\n",
              "      <td>00003a70b1</td>\n",
              "      <td>Crunchy Onion Potato Bake</td>\n",
              "      <td>test</td>\n",
              "      <td>http://www.food.com/recipe/crunchy-onion-potato-bake-479149</td>\n",
              "      <td>2 12 cups milk /t 1 12 cups water /t 14 cup butter /t mashed potatoes, 1 box, homestyle /t 1 (8 ounce) can whole kernel corn (drained) /t 1 cup cheddar cheese /t 1 cup French-fried onions</td>\n",
              "      <td>Preheat oven to 350 degrees Fahrenheit. /t Spray pan with non stick cooking spray. /t Heat milk, water and butter to boiling; stir in contents of both pouches of potatoes; let stand one minute. /t Stir in corn. /t Spoon half the potato mixture in pan. /t Sprinkle half each of cheese and onions; top with remaining potatoes. /t Sprinkle with remaining cheese and onions. /t Bake 10 to 15 minutes until cheese is melted. /t Enjoy !</td>\n",
              "    </tr>\n",
              "    <tr>\n",
              "      <th>8</th>\n",
              "      <td>000095fc1d</td>\n",
              "      <td>Yogurt Parfaits</td>\n",
              "      <td>train</td>\n",
              "      <td>http://tastykitchen.com/recipes/breakfastbrunch/yogurt-parfaits/</td>\n",
              "      <td>8 ounces, weight Light Fat Free Vanilla Yogurt (I Used Activia) /t 1 cup Fresh Sliced Strawberries /t 1/4 cups Low-fat Granola</td>\n",
              "      <td>Layer all ingredients in a serving dish.</td>\n",
              "    </tr>\n",
              "    <tr>\n",
              "      <th>9</th>\n",
              "      <td>0000973574</td>\n",
              "      <td>Zucchini Nut Bread</td>\n",
              "      <td>train</td>\n",
              "      <td>http://www.food.com/recipe/zucchini-nut-bread-329682</td>\n",
              "      <td>2 cups flour /t 1 tablespoon cinnamon /t 2 teaspoons baking soda /t 1 teaspoon salt /t 14 teaspoon baking powder /t 3 eggs /t 2 cups sugar /t 1 cup vegetable oil /t 1 tablespoon vanilla /t 2 cups grated raw zucchini /t 1 cup walnuts</td>\n",
              "      <td>Sift dry ingredients. /t beat eggs untill frothy, add sugar, oil and vanilla. /t Beat untillthick. /t Stir in zucchini. /t blend in sifted dry ingredients. /t Fold in nuts. /t pour in greased loaf pan and bake at 350 degrees for 1 1/2 hours.</td>\n",
              "    </tr>\n",
              "    <tr>\n",
              "      <th>10</th>\n",
              "      <td>0000a4bcf6</td>\n",
              "      <td>Salmon &amp; Salad a La SPORTZ</td>\n",
              "      <td>train</td>\n",
              "      <td>http://www.kraftrecipes.com/recipes/salmon-salad-a-la-sportz-59364.aspx</td>\n",
              "      <td>1/2 cup green onions, chopped /t 2 red pepper /t 1 pound salmon, fillet or steak, raw Walmart Supercenter 1 lb For $6.94 thru 02/14 /t 1 tablespoon extra virgin olive oil /t 1/4 teaspoon ground ginger /t 2 cup MINUTE Premium White Rice, uncooked /t 1/2 pound mixed salad greens /t 2 carrot /t 15 cherry tomatoes /t 1/2 cup KRAFT Fat Free Italian Dressing /t 40 piece/slice /t 2 tablespoon KRAFT Grated Parmesan Cheese /t 1 medium banana, sliced /t 1 kiwi /t 1 BREYERS Vanilla Lowfat Yogurt, 8-oz. container /t 1/4 teaspoon ground cinnamon /t 1 teaspoon granulated sugar</td>\n",
              "      <td>Chop green onions; chop red peppers; peel and grate carrots (save two grated carrots for salads); place all in a medium bowl and toss to mix. /t Preheat oven to 450 degrees Fahrenheit. /t Place salmon fillet in middle of a large piece of heavy aluminum foil. /t Sprinkle salmon with ginger and freshly ground black pepper if you wish. /t Arrange bowl of veggies on top of salmon, and seal foil tightly to create a tightly sealed pocket. /t Place in oven and bake for 20 minutes. /t The veggies will give up some of their liquid, creating more than enough to cook the fish. /t Cook rice per package instructions. /t While fish bakes, prepare Salad a La SPORTZ by arranging crackers in single layer on cookie sheet; sprinkle with Parmesan topping. /t Bake for 1 to 2 minutes in oven with fish, just until lightly browned. /t Cool. /t Toss greens (1/2 pound = 8 cups), carrots (grated), tomatoes (halved), and green onions (sliced) in large sized bowl. /t Toss with dressing. /t Sprinkle with crackers just before serving. /t Slice banana and kiwi and toss gently; divide between four dessert cups. /t Blend cinnamon and sugar into yogurt, and place one-fourth of mixture on each bowl of fruit.</td>\n",
              "    </tr>\n",
              "  </tbody>\n",
              "</table>\n",
              "</div>"
            ],
            "text/plain": [
              "            ID  ...                                                                                                                                                                                                                                                                                                                                                                                                                                                                                                                                                                                                                                                                                                                                                                                                                                                                                                                                                                                                                                                                                                                                                                                                                             instructions\n",
              "2   000035f7ed  ...                                                                                                                                                                                                                                                                                                                                                                                                                                                                                                                                                                                                                                                                                                                                                                                                                                                                                                                                                                    Add the tomatoes to a food processor with a pinch of salt and puree until smooth. /t Combine the onions, bell peppers and cucumbers with the tomato puree in a large bowl. /t Chill at least 1 hour. /t Drizzle with olive oil, garnish with chopped basil and serve.\n",
              "3   00003a70b1  ...                                                                                                                                                                                                                                                                                                                                                                                                                                                                                                                                                                                                                                                                                                                                                                                           Preheat oven to 350 degrees Fahrenheit. /t Spray pan with non stick cooking spray. /t Heat milk, water and butter to boiling; stir in contents of both pouches of potatoes; let stand one minute. /t Stir in corn. /t Spoon half the potato mixture in pan. /t Sprinkle half each of cheese and onions; top with remaining potatoes. /t Sprinkle with remaining cheese and onions. /t Bake 10 to 15 minutes until cheese is melted. /t Enjoy !\n",
              "8   000095fc1d  ...                                                                                                                                                                                                                                                                                                                                                                                                                                                                                                                                                                                                                                                                                                                                                                                                                                                                                                                                                                                                                                                                                                                                                                                                 Layer all ingredients in a serving dish.\n",
              "9   0000973574  ...                                                                                                                                                                                                                                                                                                                                                                                                                                                                                                                                                                                                                                                                                                                                                                                                                                                                                                                                                                                        Sift dry ingredients. /t beat eggs untill frothy, add sugar, oil and vanilla. /t Beat untillthick. /t Stir in zucchini. /t blend in sifted dry ingredients. /t Fold in nuts. /t pour in greased loaf pan and bake at 350 degrees for 1 1/2 hours.\n",
              "10  0000a4bcf6  ...  Chop green onions; chop red peppers; peel and grate carrots (save two grated carrots for salads); place all in a medium bowl and toss to mix. /t Preheat oven to 450 degrees Fahrenheit. /t Place salmon fillet in middle of a large piece of heavy aluminum foil. /t Sprinkle salmon with ginger and freshly ground black pepper if you wish. /t Arrange bowl of veggies on top of salmon, and seal foil tightly to create a tightly sealed pocket. /t Place in oven and bake for 20 minutes. /t The veggies will give up some of their liquid, creating more than enough to cook the fish. /t Cook rice per package instructions. /t While fish bakes, prepare Salad a La SPORTZ by arranging crackers in single layer on cookie sheet; sprinkle with Parmesan topping. /t Bake for 1 to 2 minutes in oven with fish, just until lightly browned. /t Cool. /t Toss greens (1/2 pound = 8 cups), carrots (grated), tomatoes (halved), and green onions (sliced) in large sized bowl. /t Toss with dressing. /t Sprinkle with crackers just before serving. /t Slice banana and kiwi and toss gently; divide between four dessert cups. /t Blend cinnamon and sugar into yogurt, and place one-fourth of mixture on each bowl of fruit.\n",
              "\n",
              "[5 rows x 6 columns]"
            ]
          },
          "metadata": {},
          "execution_count": 42
        }
      ]
    },
    {
      "cell_type": "code",
      "metadata": {
        "colab": {
          "base_uri": "https://localhost:8080/"
        },
        "id": "kRsWI8X9hsn8",
        "outputId": "c6dc19a4-2af3-414c-af66-bc2ea1fb9179"
      },
      "source": [
        "preprocessed_df.shape"
      ],
      "execution_count": null,
      "outputs": [
        {
          "output_type": "execute_result",
          "data": {
            "text/plain": [
              "(303299, 6)"
            ]
          },
          "metadata": {},
          "execution_count": 43
        }
      ]
    },
    {
      "cell_type": "code",
      "metadata": {
        "colab": {
          "base_uri": "https://localhost:8080/"
        },
        "id": "EnaGskislH_y",
        "outputId": "1b4732a4-d266-4c97-bb2f-79caf5498dc5"
      },
      "source": [
        "252547 +  54255 + 54506 "
      ],
      "execution_count": null,
      "outputs": [
        {
          "output_type": "execute_result",
          "data": {
            "text/plain": [
              "361308"
            ]
          },
          "metadata": {},
          "execution_count": 39
        }
      ]
    },
    {
      "cell_type": "code",
      "metadata": {
        "colab": {
          "base_uri": "https://localhost:8080/"
        },
        "id": "n_Q-5id8mGV4",
        "outputId": "13a3bab0-2366-4aca-9c62-d5459974097f"
      },
      "source": [
        "preprocessed_df['food_title'].value_counts()"
      ],
      "execution_count": null,
      "outputs": [
        {
          "output_type": "execute_result",
          "data": {
            "text/plain": [
              "Banana Bread                                          247\n",
              "Guacamole                                             202\n",
              "Chicken Enchiladas                                    198\n",
              "Beef Stroganoff                                       185\n",
              "Chocolate Chip Cookies                                179\n",
              "                                                     ... \n",
              "Peach Galette                                           2\n",
              "Old School-Barbecue Mac Salad                           2\n",
              "Cottage Cheese Spinach Chicken                          2\n",
              "Limoncello Bread Pudding                                2\n",
              "Dijon Grilled Chicken & Pimento Cheese Quesadillas      2\n",
              "Name: food_title, Length: 83573, dtype: int64"
            ]
          },
          "metadata": {},
          "execution_count": 44
        }
      ]
    },
    {
      "cell_type": "markdown",
      "metadata": {
        "id": "YlA4IQ0gmU8g"
      },
      "source": [
        "But I dont think so this preprocessed dataframe might work, so I will be getting my hands on the `layer2.json` file and get their id's and filter out the DataFrame we have with those Id's. \n",
        "\n",
        "But why? \n",
        "\n",
        "Well we dont still have the image filename of format `xyz123.jpg`, we got the ID but it seems `layer2.json` has the filename for the corresponding ID of a `layer1.json` file. "
      ]
    },
    {
      "cell_type": "code",
      "metadata": {
        "id": "JwbYK0P8moDf"
      },
      "source": [
        "# Loading in the layer 2 json file\n",
        "\n",
        "with open('layer2.json') as file:\n",
        "  data_2 = json.load(file)\n"
      ],
      "execution_count": 47,
      "outputs": []
    },
    {
      "cell_type": "code",
      "metadata": {
        "colab": {
          "base_uri": "https://localhost:8080/"
        },
        "id": "zE5XI6uYLPUe",
        "outputId": "4682b873-0ae7-4fb7-e156-ec6c176ee142"
      },
      "source": [
        "len(data_2)"
      ],
      "execution_count": 49,
      "outputs": [
        {
          "output_type": "execute_result",
          "data": {
            "text/plain": [
              "402760"
            ]
          },
          "metadata": {},
          "execution_count": 49
        }
      ]
    },
    {
      "cell_type": "code",
      "metadata": {
        "colab": {
          "base_uri": "https://localhost:8080/"
        },
        "id": "Ejx2JeWpLVHF",
        "outputId": "6cf8a65e-285b-420a-e8d0-2aa9bd5a93db"
      },
      "source": [
        "# Getting the Id and image ID as a list (Sample one)\n",
        "sub_data = data_2[:10]\n",
        "\n",
        "for attr in sub_data:\n",
        "  #print(attr['id'])\n",
        "  for lay in attr['images']:\n",
        "    print(lay['id'])"
      ],
      "execution_count": 57,
      "outputs": [
        {
          "output_type": "stream",
          "name": "stdout",
          "text": [
            "3e233001e2.jpg\n",
            "7f749987f9.jpg\n",
            "aaf6b2dcd3.jpg\n",
            "6bdca6e490.jpg\n",
            "6409eab844.jpg\n",
            "f7cb3de295.jpg\n",
            "a1374cdd98.jpg\n",
            "cb1a684683.jpg\n",
            "2f4b4c4452.jpg\n",
            "f480145da5.jpg\n",
            "3b99e69c3c.jpg\n",
            "5ab32d58e0.jpg\n",
            "9f497dcfa5.jpg\n",
            "4636c7f576.jpg\n"
          ]
        }
      ]
    },
    {
      "cell_type": "code",
      "metadata": {
        "colab": {
          "base_uri": "https://localhost:8080/"
        },
        "id": "8x2VPBP3MZ28",
        "outputId": "d09da9a2-3070-47a5-a106-aa24dcb4d950"
      },
      "source": [
        "# Now getting the unique id and image id in a list \n",
        "\n",
        "unique_id_list = [] \n",
        "lst_id = []\n",
        "\n",
        "for attr in tqdm(data_2):\n",
        "  unique_id_list.append(attr['id'])\n",
        "  image_id_list = []\n",
        "  # Into the images dict \n",
        "  for lay in attr['images']:\n",
        "    image_id_list.append(lay['id'])\n",
        "\n",
        "  lst_id.append(image_id_list)\n",
        "len(image_id_list) , len(unique_id_list)"
      ],
      "execution_count": 64,
      "outputs": [
        {
          "output_type": "stream",
          "name": "stderr",
          "text": [
            "100%|██████████| 402760/402760 [00:10<00:00, 38421.65it/s]\n"
          ]
        },
        {
          "output_type": "execute_result",
          "data": {
            "text/plain": [
              "(1, 402760)"
            ]
          },
          "metadata": {},
          "execution_count": 64
        }
      ]
    },
    {
      "cell_type": "code",
      "metadata": {
        "colab": {
          "base_uri": "https://localhost:8080/"
        },
        "id": "btfhf5_3OCpW",
        "outputId": "37e92611-b41c-404f-9453-d873ea6e3bfa"
      },
      "source": [
        "len(lst_id)"
      ],
      "execution_count": 66,
      "outputs": [
        {
          "output_type": "execute_result",
          "data": {
            "text/plain": [
              "402760"
            ]
          },
          "metadata": {},
          "execution_count": 66
        }
      ]
    },
    {
      "cell_type": "code",
      "metadata": {
        "colab": {
          "base_uri": "https://localhost:8080/"
        },
        "id": "F0Dbd_MEONGQ",
        "outputId": "58cba368-b485-4549-8b2f-ed8ed60795d7"
      },
      "source": [
        "unique_id_list[:5] , lst_id[:5]"
      ],
      "execution_count": 69,
      "outputs": [
        {
          "output_type": "execute_result",
          "data": {
            "text/plain": [
              "(['00003a70b1', '000075604a', '00007bfd16', '000095fc1d', '0000b1e2b5'],\n",
              " [['3e233001e2.jpg', '7f749987f9.jpg', 'aaf6b2dcd3.jpg'],\n",
              "  ['6bdca6e490.jpg'],\n",
              "  ['6409eab844.jpg', 'f7cb3de295.jpg'],\n",
              "  ['a1374cdd98.jpg'],\n",
              "  ['cb1a684683.jpg']])"
            ]
          },
          "metadata": {},
          "execution_count": 69
        }
      ]
    },
    {
      "cell_type": "code",
      "metadata": {
        "id": "fd9ZlBdtWvKE"
      },
      "source": [
        "# Filtering out the dataframe based on our layer2.json files ID's \n",
        "filtered_df = data1_df.query('ID in @unique_id_list')"
      ],
      "execution_count": 80,
      "outputs": []
    },
    {
      "cell_type": "code",
      "metadata": {
        "colab": {
          "base_uri": "https://localhost:8080/"
        },
        "id": "2qRLDg_EWY4Q",
        "outputId": "982f75a5-256b-4b22-b062-480ff379d150"
      },
      "source": [
        "# Are they same? \n",
        "filtered_df['ID'].tolist() == unique_id_list"
      ],
      "execution_count": 82,
      "outputs": [
        {
          "output_type": "execute_result",
          "data": {
            "text/plain": [
              "True"
            ]
          },
          "metadata": {},
          "execution_count": 82
        }
      ]
    },
    {
      "cell_type": "code",
      "metadata": {
        "colab": {
          "base_uri": "https://localhost:8080/",
          "height": 1000
        },
        "id": "9l5FoxmfZvjo",
        "outputId": "fe83ccd0-4c41-4d0b-cc06-a6d14d6b6292"
      },
      "source": [
        "# Looking into our dataframe \n",
        "filtered_df.head(10)"
      ],
      "execution_count": 83,
      "outputs": [
        {
          "output_type": "execute_result",
          "data": {
            "text/html": [
              "<div>\n",
              "<style scoped>\n",
              "    .dataframe tbody tr th:only-of-type {\n",
              "        vertical-align: middle;\n",
              "    }\n",
              "\n",
              "    .dataframe tbody tr th {\n",
              "        vertical-align: top;\n",
              "    }\n",
              "\n",
              "    .dataframe thead th {\n",
              "        text-align: right;\n",
              "    }\n",
              "</style>\n",
              "<table border=\"1\" class=\"dataframe\">\n",
              "  <thead>\n",
              "    <tr style=\"text-align: right;\">\n",
              "      <th></th>\n",
              "      <th>ID</th>\n",
              "      <th>food_title</th>\n",
              "      <th>partition</th>\n",
              "      <th>image_url</th>\n",
              "      <th>ingredients</th>\n",
              "      <th>instructions</th>\n",
              "    </tr>\n",
              "  </thead>\n",
              "  <tbody>\n",
              "    <tr>\n",
              "      <th>3</th>\n",
              "      <td>00003a70b1</td>\n",
              "      <td>Crunchy Onion Potato Bake</td>\n",
              "      <td>test</td>\n",
              "      <td>http://www.food.com/recipe/crunchy-onion-potato-bake-479149</td>\n",
              "      <td>2 12 cups milk /t 1 12 cups water /t 14 cup butter /t mashed potatoes, 1 box, homestyle /t 1 (8 ounce) can whole kernel corn (drained) /t 1 cup cheddar cheese /t 1 cup French-fried onions</td>\n",
              "      <td>Preheat oven to 350 degrees Fahrenheit. /t Spray pan with non stick cooking spray. /t Heat milk, water and butter to boiling; stir in contents of both pouches of potatoes; let stand one minute. /t Stir in corn. /t Spoon half the potato mixture in pan. /t Sprinkle half each of cheese and onions; top with remaining potatoes. /t Sprinkle with remaining cheese and onions. /t Bake 10 to 15 minutes until cheese is melted. /t Enjoy !</td>\n",
              "    </tr>\n",
              "    <tr>\n",
              "      <th>6</th>\n",
              "      <td>000075604a</td>\n",
              "      <td>Kombu Tea Grilled Chicken Thigh</td>\n",
              "      <td>train</td>\n",
              "      <td>https://cookpad.com/us/recipes/150100-kombu-tea-grilled-chicken-thigh</td>\n",
              "      <td>2 Chicken thighs /t 2 tsp Kombu tea /t 1 White pepper</td>\n",
              "      <td>Pierce the skin of the chicken with a fork or knife. /t Sprinkle with kombu tea evenly on both sides of the chicken, about 1 teaspoon per chicken thigh. /t Brown the skin side of the chicken first over high heat until golden brown. /t Sprinkle some pepper on the meat just before flipping over. /t Then brown the other side until golden brown.</td>\n",
              "    </tr>\n",
              "    <tr>\n",
              "      <th>7</th>\n",
              "      <td>00007bfd16</td>\n",
              "      <td>Strawberry Rhubarb Dump Cake</td>\n",
              "      <td>train</td>\n",
              "      <td>http://www.food.com/recipe/strawberry-rhubarb-dump-cake-408694</td>\n",
              "      <td>6 -8 cups fresh rhubarb, or /t 6 -8 cups frozen rhubarb, thawed /t 1 12 cups granulated sugar /t 6 ounces strawberry Jell-O gelatin dessert /t 1 white cake mix (2 layer size) /t 1 12 cups water /t 12 cup butter or 12 cup margarine, melted</td>\n",
              "      <td>Put ingredients in a buttered 9 x 12 x 2-inch pan in even layers in the order that they are given - DO NOT MIX. /t Bake in a 350 oven for 1 hour.</td>\n",
              "    </tr>\n",
              "    <tr>\n",
              "      <th>8</th>\n",
              "      <td>000095fc1d</td>\n",
              "      <td>Yogurt Parfaits</td>\n",
              "      <td>train</td>\n",
              "      <td>http://tastykitchen.com/recipes/breakfastbrunch/yogurt-parfaits/</td>\n",
              "      <td>8 ounces, weight Light Fat Free Vanilla Yogurt (I Used Activia) /t 1 cup Fresh Sliced Strawberries /t 1/4 cups Low-fat Granola</td>\n",
              "      <td>Layer all ingredients in a serving dish.</td>\n",
              "    </tr>\n",
              "    <tr>\n",
              "      <th>11</th>\n",
              "      <td>0000b1e2b5</td>\n",
              "      <td>Fennel-Rubbed Pork Tenderloin with Roasted Fennel Wedges</td>\n",
              "      <td>train</td>\n",
              "      <td>http://www.epicurious.com/recipes/food/views/fennel-rubbed-pork-tenderloin-with-roasted-fennel-wedges-351294</td>\n",
              "      <td>1 teaspoon fennel seeds /t 1 pound pork tenderloin /t 2 medium fennel bulbs, trimmed, reserving fronds /t 2 tablespoons extra-virgin olive oil /t 3 garlic cloves, smashed /t 1/4 cup dry white wine /t 1/2 cup reduced-sodium chicken broth /t 2 tablespoons unsalted butter, cut into pieces /t 1/2 teaspoon fresh lemon juice, or to taste</td>\n",
              "      <td>Preheat oven to 350F with rack in middle. /t Crush fennel seeds with a mortar and pestle or wrap in a kitchen towel and crush with bottom of a heavy skillet. /t Pat pork dry, then sprinkle with crushed fennel seeds and 1/2 teaspoon each of salt and pepper. /t Cut fennel bulbs lengthwise into 1/2-inch wedges. /t Heat oil in a 12-inch oven-proof heavy skillet over medium-high heat until it shimmers. /t Brown pork on all sides, about 6 minutes total, then transfer to a plate. /t Saute garlic and fennel wedges in skillet until fennel is golden brown, about 6 minutes. /t Add wine, stirring and scraping up brown bits, then stir in broth and butter. /t Put pork on top of fennel and transfer skillet to oven. /t Roast until an instant-read thermometer inserted into center of pork registers 145 to 150F, about 15 minutes. /t Transfer pork to a cutting board and let rest 10 minutes. /t Meanwhile, transfer skillet to stovetop (handle will be hot) and boil, stirring occasionally, until most of liquid has evaporated. /t Stir in lemon juice and 1/4 cup chopped fennel fronds. /t Thinly slice pork and serve over fennel with sauce.</td>\n",
              "    </tr>\n",
              "    <tr>\n",
              "      <th>12</th>\n",
              "      <td>0000c79afb</td>\n",
              "      <td>Pink Sangria</td>\n",
              "      <td>train</td>\n",
              "      <td>http://www.food.com/recipe/pink-sangria-305385</td>\n",
              "      <td>1 (750 ml) bottle rose wine, chilled /t 14 cup brandy /t 14 cup orange liqueur (Cointreau, Grand Marnier) /t 2 cups white cranberry juice /t 1 orange, sliced /t 1 lemon, sliced /t 355 ml Sprite (or other citrus flavoured soft drinks) /t ice cube</td>\n",
              "      <td>In a pitcher, combine all the ingredients except the soft drink and ice cubes. /t Refrigerate for 1 hour. /t Add the soft drink and ice just before serving.</td>\n",
              "    </tr>\n",
              "    <tr>\n",
              "      <th>14</th>\n",
              "      <td>00010379bf</td>\n",
              "      <td>Brown Sugar 'Karintou' Snacks</td>\n",
              "      <td>train</td>\n",
              "      <td>https://cookpad.com/us/recipes/156014-brown-sugar-karintou-snacks</td>\n",
              "      <td>200 grams Cake flour /t 1 tsp Baking powder /t 20 grams Sugar /t 7 grams White sesame seeds /t 70 ml Water /t 20 cc Vegetable oil /t 80 grams For candy coating: black sugar /t 80 grams For candy coating: white sugar /t 1/4 tsp For candy coating: soy sauce /t 40 ml For candy coating: water</td>\n",
              "      <td>In a bowl, mix flour, baking powder, sugar, then add the sesame seeds, water, and vegetable oil and knead. /t Once the dough is formed, wrap in plastic wrap and let rise for 30 minutes. /t Roll out until it is 1 cm thick. /t Then cut to 3 cm long and 1 cm wide strips. /t Use your hands roll into tubes. /t Deep fry in 160C oil for 10 to 15 minutes. /t In a pan, combine the brown sugar, sugar, soy sauce, water and heat until it starts to bubble. /t Once the large bubbles change to small bubbles, add the Step 5 karintou to coat. /t Spread out on a baking sheet to prevent sticking. /t They're done once they're dried.</td>\n",
              "    </tr>\n",
              "    <tr>\n",
              "      <th>16</th>\n",
              "      <td>00010c7867</td>\n",
              "      <td>Grandmommy's Mexicali Meatloaf</td>\n",
              "      <td>train</td>\n",
              "      <td>http://www.food.com/recipe/grandmommys-mexicali-meatloaf-371914</td>\n",
              "      <td>1 12 lbs ground beef /t 34 cup oats /t 12 cup tomato juice /t 1 egg /t 2 teaspoons salt /t 14 teaspoon pepper /t 1 teaspoon chili powder /t 2 teaspoons onions, minced /t 3 tablespoons butter /t 3 tablespoons flour /t 2 cups milk, see not in description /t 1 cup cheddar cheese, shredded /t 1 (12 ounce) can Mexican-style corn, drained /t 2 green peppers, small, cut into rings</td>\n",
              "      <td>Combine beef, oats, tomato juice, egg, 1 tsp salt, pepper, chili powder, and onion in a large bowl. /t Do not overmix. /t Pack into a 9 inch square baking dish. /t Bake at 350 for 20 minutes, drain juices. /t Melt butter over medium heat, whisk in flour and 1 tsp salt. /t Slowly add milk while whisking. /t Bring to a boil. /t Cook one minute, add cheese.Stir in corn. /t Pour mixture over meat, top with green pepper rings. /t Bake 20 minutes. /t Let cool 10 minutes before cutting. /t Serve.</td>\n",
              "    </tr>\n",
              "    <tr>\n",
              "      <th>17</th>\n",
              "      <td>00010d44c7</td>\n",
              "      <td>Broccoli Rice Bake</td>\n",
              "      <td>train</td>\n",
              "      <td>http://www.food.com/recipe/broccoli-rice-bake-30406</td>\n",
              "      <td>1 (10 ounce) package frozen chopped broccoli /t 1 cup cooked rice /t 1 cup shredded cheddar cheese /t 12 cup shredded cheddar cheese, for topping /t 2 eggs, beaten /t 2 tablespoons butter, melted /t 13 cup milk /t 1 small onion, chopped /t 1 teaspoon garlic powder /t 1 teaspoon basil /t 1 teaspoon oregano /t salt and pepper</td>\n",
              "      <td>Mix all ingredients and pour into a one quart baking dish. /t Bake at 350 for 20 minutes. /t Top with the remaining 1/2 cup cheese and continue baking for 10 minutes.</td>\n",
              "    </tr>\n",
              "    <tr>\n",
              "      <th>21</th>\n",
              "      <td>00013266c9</td>\n",
              "      <td>Tinklee's Vanilla Crack</td>\n",
              "      <td>train</td>\n",
              "      <td>https://cookpad.com/us/recipes/345321-tinklees-vanilla-crack</td>\n",
              "      <td>1 box salted soda crackers (I use saltines) /t 1 cup salted butter /t 1 cup white granulated sugar /t 2 tsp vanilla extract /t 1/2 cup salted nut pieces</td>\n",
              "      <td>preheat oven to 350 degrees F rack in middle position, line a 10 x 15\" cookie sheet with heavy foil (jellyroll pan works great), having the foil go up the sides, spray foil with cooking sray /t cover the bottom of the cookie sheet with a single layer of soda crackers, salt side up, ( you can break them in to smaller pieces to fit if you have to, set cracker lined pan aside /t combine butter, white sugar and vanilla in a heavy sauce pan, bring to a full boil over medium high heat stirring constantly, ( a full boil will have breaking bubbles all over the surface of the pan) boil it for exactly 5 minutes, stirring constantly /t when times up, pour mixture carefully over the soda crackers as evenly as you can, sprinkle the salted nut pieces over the top, /t slide the pan into the oven to bake for 10 minutes, remove the pan from the oven and let it cool on a wire rack, when cookies have cooled all the way, peel off the foil backing and break into ramdom size pieces</td>\n",
              "    </tr>\n",
              "  </tbody>\n",
              "</table>\n",
              "</div>"
            ],
            "text/plain": [
              "            ID  ...                                                                                                                                                                                                                                                                                                                                                                                                                                                                                                                                                                                                                                                                                                                                                                                                                                                                                                                                                                                                                                                                                                                                                                instructions\n",
              "3   00003a70b1  ...                                                                                                                                                                                                                                                                                                                                                                                                                                                                                                                                                                                                                                                                                                                              Preheat oven to 350 degrees Fahrenheit. /t Spray pan with non stick cooking spray. /t Heat milk, water and butter to boiling; stir in contents of both pouches of potatoes; let stand one minute. /t Stir in corn. /t Spoon half the potato mixture in pan. /t Sprinkle half each of cheese and onions; top with remaining potatoes. /t Sprinkle with remaining cheese and onions. /t Bake 10 to 15 minutes until cheese is melted. /t Enjoy !\n",
              "6   000075604a  ...                                                                                                                                                                                                                                                                                                                                                                                                                                                                                                                                                                                                                                                                                                                                                                                                                     Pierce the skin of the chicken with a fork or knife. /t Sprinkle with kombu tea evenly on both sides of the chicken, about 1 teaspoon per chicken thigh. /t Brown the skin side of the chicken first over high heat until golden brown. /t Sprinkle some pepper on the meat just before flipping over. /t Then brown the other side until golden brown.\n",
              "7   00007bfd16  ...                                                                                                                                                                                                                                                                                                                                                                                                                                                                                                                                                                                                                                                                                                                                                                                                                                                                                                                                                                                                                           Put ingredients in a buttered 9 x 12 x 2-inch pan in even layers in the order that they are given - DO NOT MIX. /t Bake in a 350 oven for 1 hour.\n",
              "8   000095fc1d  ...                                                                                                                                                                                                                                                                                                                                                                                                                                                                                                                                                                                                                                                                                                                                                                                                                                                                                                                                                                                                                                                                                                                                    Layer all ingredients in a serving dish.\n",
              "11  0000b1e2b5  ...  Preheat oven to 350F with rack in middle. /t Crush fennel seeds with a mortar and pestle or wrap in a kitchen towel and crush with bottom of a heavy skillet. /t Pat pork dry, then sprinkle with crushed fennel seeds and 1/2 teaspoon each of salt and pepper. /t Cut fennel bulbs lengthwise into 1/2-inch wedges. /t Heat oil in a 12-inch oven-proof heavy skillet over medium-high heat until it shimmers. /t Brown pork on all sides, about 6 minutes total, then transfer to a plate. /t Saute garlic and fennel wedges in skillet until fennel is golden brown, about 6 minutes. /t Add wine, stirring and scraping up brown bits, then stir in broth and butter. /t Put pork on top of fennel and transfer skillet to oven. /t Roast until an instant-read thermometer inserted into center of pork registers 145 to 150F, about 15 minutes. /t Transfer pork to a cutting board and let rest 10 minutes. /t Meanwhile, transfer skillet to stovetop (handle will be hot) and boil, stirring occasionally, until most of liquid has evaporated. /t Stir in lemon juice and 1/4 cup chopped fennel fronds. /t Thinly slice pork and serve over fennel with sauce.\n",
              "12  0000c79afb  ...                                                                                                                                                                                                                                                                                                                                                                                                                                                                                                                                                                                                                                                                                                                                                                                                                                                                                                                                                                                                                In a pitcher, combine all the ingredients except the soft drink and ice cubes. /t Refrigerate for 1 hour. /t Add the soft drink and ice just before serving.\n",
              "14  00010379bf  ...                                                                                                                                                                                                                                                                                                                                                                                                                                                                                                                                In a bowl, mix flour, baking powder, sugar, then add the sesame seeds, water, and vegetable oil and knead. /t Once the dough is formed, wrap in plastic wrap and let rise for 30 minutes. /t Roll out until it is 1 cm thick. /t Then cut to 3 cm long and 1 cm wide strips. /t Use your hands roll into tubes. /t Deep fry in 160C oil for 10 to 15 minutes. /t In a pan, combine the brown sugar, sugar, soy sauce, water and heat until it starts to bubble. /t Once the large bubbles change to small bubbles, add the Step 5 karintou to coat. /t Spread out on a baking sheet to prevent sticking. /t They're done once they're dried.\n",
              "16  00010c7867  ...                                                                                                                                                                                                                                                                                                                                                                                                                                                                                                                                                                                                                                                              Combine beef, oats, tomato juice, egg, 1 tsp salt, pepper, chili powder, and onion in a large bowl. /t Do not overmix. /t Pack into a 9 inch square baking dish. /t Bake at 350 for 20 minutes, drain juices. /t Melt butter over medium heat, whisk in flour and 1 tsp salt. /t Slowly add milk while whisking. /t Bring to a boil. /t Cook one minute, add cheese.Stir in corn. /t Pour mixture over meat, top with green pepper rings. /t Bake 20 minutes. /t Let cool 10 minutes before cutting. /t Serve.\n",
              "17  00010d44c7  ...                                                                                                                                                                                                                                                                                                                                                                                                                                                                                                                                                                                                                                                                                                                                                                                                                                                                                                                                                                                                      Mix all ingredients and pour into a one quart baking dish. /t Bake at 350 for 20 minutes. /t Top with the remaining 1/2 cup cheese and continue baking for 10 minutes.\n",
              "21  00013266c9  ...                                                                                                                                                              preheat oven to 350 degrees F rack in middle position, line a 10 x 15\" cookie sheet with heavy foil (jellyroll pan works great), having the foil go up the sides, spray foil with cooking sray /t cover the bottom of the cookie sheet with a single layer of soda crackers, salt side up, ( you can break them in to smaller pieces to fit if you have to, set cracker lined pan aside /t combine butter, white sugar and vanilla in a heavy sauce pan, bring to a full boil over medium high heat stirring constantly, ( a full boil will have breaking bubbles all over the surface of the pan) boil it for exactly 5 minutes, stirring constantly /t when times up, pour mixture carefully over the soda crackers as evenly as you can, sprinkle the salted nut pieces over the top, /t slide the pan into the oven to bake for 10 minutes, remove the pan from the oven and let it cool on a wire rack, when cookies have cooled all the way, peel off the foil backing and break into ramdom size pieces\n",
              "\n",
              "[10 rows x 6 columns]"
            ]
          },
          "metadata": {},
          "execution_count": 83
        }
      ]
    },
    {
      "cell_type": "code",
      "metadata": {
        "colab": {
          "base_uri": "https://localhost:8080/"
        },
        "id": "rM7Yaa2gaFAz",
        "outputId": "d9569a5a-a4a1-40f4-b715-857645a13d1a"
      },
      "source": [
        "# Checking the number of files in each sets \n",
        "filtered_df['partition'].value_counts()"
      ],
      "execution_count": 86,
      "outputs": [
        {
          "output_type": "execute_result",
          "data": {
            "text/plain": [
              "train    281598\n",
              "test      60740\n",
              "val       60422\n",
              "Name: partition, dtype: int64"
            ]
          },
          "metadata": {},
          "execution_count": 86
        }
      ]
    },
    {
      "cell_type": "code",
      "metadata": {
        "id": "IG2fAB3HbZhq"
      },
      "source": [
        "# Downloading the filtered dataframe \n",
        "path = '/content/drive/MyDrive/Recipe_1M/'\n",
        "filtered_df.to_csv(path + 'filtered_data.csv' , index = False)"
      ],
      "execution_count": 90,
      "outputs": []
    },
    {
      "cell_type": "code",
      "metadata": {
        "colab": {
          "base_uri": "https://localhost:8080/"
        },
        "id": "dH2tmCGHcts8",
        "outputId": "63beb0f7-d9da-47e8-ef02-65b15b2d83eb"
      },
      "source": [
        "# the image id list \n",
        "lst_id[:10]"
      ],
      "execution_count": 92,
      "outputs": [
        {
          "output_type": "execute_result",
          "data": {
            "text/plain": [
              "[['3e233001e2.jpg', '7f749987f9.jpg', 'aaf6b2dcd3.jpg'],\n",
              " ['6bdca6e490.jpg'],\n",
              " ['6409eab844.jpg', 'f7cb3de295.jpg'],\n",
              " ['a1374cdd98.jpg'],\n",
              " ['cb1a684683.jpg'],\n",
              " ['2f4b4c4452.jpg'],\n",
              " ['f480145da5.jpg'],\n",
              " ['3b99e69c3c.jpg', '5ab32d58e0.jpg'],\n",
              " ['9f497dcfa5.jpg'],\n",
              " ['4636c7f576.jpg']]"
            ]
          },
          "metadata": {},
          "execution_count": 92
        }
      ]
    },
    {
      "cell_type": "code",
      "metadata": {
        "id": "VAYu9-QkefET"
      },
      "source": [
        ""
      ],
      "execution_count": null,
      "outputs": []
    }
  ]
}