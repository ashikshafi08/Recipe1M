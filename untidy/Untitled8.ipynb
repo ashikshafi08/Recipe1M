{
  "nbformat": 4,
  "nbformat_minor": 0,
  "metadata": {
    "colab": {
      "name": "Untitled8.ipynb",
      "provenance": [],
      "collapsed_sections": [],
      "machine_shape": "hm",
      "authorship_tag": "ABX9TyMtJHhYnRKG7PBbPMXHIvKz",
      "include_colab_link": true
    },
    "kernelspec": {
      "name": "python3",
      "display_name": "Python 3"
    },
    "language_info": {
      "name": "python"
    }
  },
  "cells": [
    {
      "cell_type": "markdown",
      "metadata": {
        "id": "view-in-github",
        "colab_type": "text"
      },
      "source": [
        "<a href=\"https://colab.research.google.com/github/ashikshafi08/Recipe1M/blob/main/untidy/Untitled8.ipynb\" target=\"_parent\"><img src=\"https://colab.research.google.com/assets/colab-badge.svg\" alt=\"Open In Colab\"/></a>"
      ]
    },
    {
      "cell_type": "code",
      "metadata": {
        "colab": {
          "base_uri": "https://localhost:8080/"
        },
        "id": "S-lTLSSNBDcx",
        "outputId": "7a06cfc2-ab51-4bd9-d07a-cbd44acaf404"
      },
      "source": [
        "from google.colab import drive \n",
        "drive.mount('/content/drive')"
      ],
      "execution_count": 1,
      "outputs": [
        {
          "output_type": "stream",
          "name": "stdout",
          "text": [
            "Mounted at /content/drive\n"
          ]
        }
      ]
    },
    {
      "cell_type": "code",
      "metadata": {
        "id": "CF6UnTr7usDl"
      },
      "source": [
        "import json\n",
        "import os \n",
        "\n",
        "det_path = '/content/drive/MyDrive/Recipe_1M/det_ingrs.json' \n",
        "layer1_path = '/content/drive/MyDrive/Recipe_1M/layer1.json'\n",
        "layer2_path = '/content/drive/MyDrive/Recipe_1M/layer2.json'\n"
      ],
      "execution_count": 1,
      "outputs": []
    },
    {
      "cell_type": "code",
      "metadata": {
        "id": "tkgqmD_R8uc2"
      },
      "source": [
        "\n",
        "# Loading the layer 1 json file \n",
        "with open(layer1_path , 'r') as file:\n",
        "  layer1 = json.load(file)"
      ],
      "execution_count": 2,
      "outputs": []
    },
    {
      "cell_type": "code",
      "metadata": {
        "id": "rnWQt2tYUxYG"
      },
      "source": [
        "\n",
        "# Loading the layer 2 json file \n",
        "with open(layer2_path , 'r') as file:\n",
        "  layer2 = json.load(file)"
      ],
      "execution_count": 3,
      "outputs": []
    },
    {
      "cell_type": "code",
      "metadata": {
        "id": "4pB_zFZUA-fC"
      },
      "source": [
        "\n",
        "# Loading the detr_ingrs json file \n",
        "with open(det_path , 'r') as file:\n",
        "  dets = json.load(file)"
      ],
      "execution_count": 4,
      "outputs": []
    },
    {
      "cell_type": "code",
      "metadata": {
        "colab": {
          "base_uri": "https://localhost:8080/"
        },
        "id": "xbN2a2cL8l-t",
        "outputId": "d02cb545-69a2-4668-e2de-9004e0f66cd4"
      },
      "source": [
        "# Parsing the id and storing it as indices for further indexing!\n",
        "idx2ind = {} # empty dictionary\n",
        "\n",
        "for i , entry in enumerate(dets):\n",
        "  idx2ind[entry['id']] = i \n",
        "\n",
        "len(idx2ind)"
      ],
      "execution_count": 5,
      "outputs": [
        {
          "output_type": "execute_result",
          "data": {
            "text/plain": [
              "1029720"
            ]
          },
          "metadata": {},
          "execution_count": 5
        }
      ]
    },
    {
      "cell_type": "code",
      "metadata": {
        "id": "ZK7fDy61hujv"
      },
      "source": [
        "replace_dict = {' .': '.',\n",
        "                ' ,': ',',\n",
        "                ' ;': ';',\n",
        "                ' :': ':',\n",
        "                '( ': '(',\n",
        "                ' )': ')',\n",
        "               \" '\": \"'\"}"
      ],
      "execution_count": 34,
      "outputs": []
    },
    {
      "cell_type": "markdown",
      "metadata": {
        "id": "kzzRmqle4YoO"
      },
      "source": [
        "Now we got the `det_ingrs` which has the ingredients text stored in a dictionary format, lets create a function to parse out the ingredients in a more human readable way. \n",
        "\n",
        "But before writing the function lemme break each and every single line \n"
      ]
    },
    {
      "cell_type": "code",
      "metadata": {
        "id": "E3ORWV4DmAaP"
      },
      "source": [
        "def get_ingredient(det_ingr , replace_dict):\n",
        "  '''\n",
        "  det_ingr -> single dictionary text with ingredients as values \n",
        "  replace_dict -> a dictionary for replacing the texts \n",
        "\n",
        "  Here we pass a dictionary of ingredients text \n",
        "  '''\n",
        "  # Lowering all the ingredients text\n",
        "  det_ingr_undrs = det_ingr['text'].lower()\n",
        "  det_ingr_undrs = ''.join(i for i in det_ingr_undrs if not i.isdigit())\n",
        "\n",
        "  # Looping through the replace dictionary which has special characters in it \n",
        "  for rep , char_list in replace_dict.items():\n",
        "    for c_ in char_list:\n",
        "      if c_ in det_ingr_undrs:\n",
        "        det_ingr_undrs = det_ingr_undrs.replace(c_ , rep) # Replacing some of the characters into the values in dictionary\n",
        "\n",
        "  det_ingr_undrs = det_ingr_undrs.strip() \n",
        "  det_ingr_undrs = det_ingr_undrs.replace(' ' , '_')\n",
        "\n",
        "  return det_ingr_undrs\n"
      ],
      "execution_count": 48,
      "outputs": []
    },
    {
      "cell_type": "code",
      "metadata": {
        "id": "okPvJB4Qyz6N",
        "colab": {
          "base_uri": "https://localhost:8080/"
        },
        "outputId": "e7c9cc5d-7b89-4531-a53d-87080c524da1"
      },
      "source": [
        "from tqdm import tqdm \n",
        "\n",
        "for i , entry in tqdm(enumerate(layer1)):\n",
        "\n",
        "  # get all instructions ]\n",
        "  instrs = entry['instructions']\n",
        "\n",
        "  # Instruction and ingredients list \n",
        "  instrs_list = [] \n",
        "  ingrs_list = []\n",
        "\n",
        "  # Retrieve the ingredients for this entry \n",
        "  det_ingrs = dets[idx2ind[entry['id']]]['ingredients']\n",
        "\n",
        "  # Getting the valid values [True]\n",
        "  valid = dets[idx2ind[entry['id']]]['valid']\n",
        "  det_ingrs_filtered  = []\n",
        "\n",
        "  # Now applying the function we've created above \n",
        "  for j , det_ingr in enumerate(det_ingrs):\n",
        "    if len(det_ingr) > 0 and valid[j]:\n",
        "      det_ingr_undrs = get_ingredient(det_ingr , replace_dict_ingrs)\n",
        "      det_ingrs_filtered.append(det_ingr_undrs)\n",
        "      ingrs_list.append(det_ingr_undrs)\n",
        "  \n",
        "\n",
        "\n",
        "len(ingrs_list)"
      ],
      "execution_count": 56,
      "outputs": [
        {
          "output_type": "stream",
          "name": "stderr",
          "text": [
            "1029720it [00:52, 19629.60it/s]\n"
          ]
        },
        {
          "output_type": "execute_result",
          "data": {
            "text/plain": [
              "5"
            ]
          },
          "metadata": {},
          "execution_count": 56
        }
      ]
    },
    {
      "cell_type": "code",
      "metadata": {
        "colab": {
          "base_uri": "https://localhost:8080/"
        },
        "id": "K-uGPmvHdYO3",
        "outputId": "859d63a6-55eb-4e94-cb91-0c4aa7ddc3cb"
      },
      "source": [
        "ingrs_list"
      ],
      "execution_count": 57,
      "outputs": [
        {
          "output_type": "execute_result",
          "data": {
            "text/plain": [
              "['water', 'light_brown_sugar', 'molasses', 'cinnamon_sticks', 'coffee']"
            ]
          },
          "metadata": {},
          "execution_count": 57
        }
      ]
    },
    {
      "cell_type": "code",
      "metadata": {
        "colab": {
          "base_uri": "https://localhost:8080/"
        },
        "id": "AdoskDTOZMj8",
        "outputId": "78bc698b-0395-4a13-bcad-2c775677a0c4"
      },
      "source": [
        "replace_dict_ingrs = {'and': ['&', \"'n\"], '': ['%', ',', '.', '#', '[', ']', '!', '?']}\n",
        "# The above sample but with just one dictionary \n",
        "for j, det_ingr in enumerate(det_ingrs):\n",
        "  if len(det_ingr) > 0 and valid[j]:\n",
        "    #print(det_ingr)\n",
        "    sample_undrs = det_ingr['text'].lower() # Lower case \n",
        "    ''.join(i for i in sample_undrs if not i.isdigit()) # Checking if there is any digit in the string by looping through a string \n",
        "\n",
        "  for rep , char_list in replace_dict_ingrs.items():\n",
        "    for c_ in char_list:\n",
        "      for c_ in sample_undrs:\n",
        "        new_sample_undrs = sample_undrs.replace(c_ , rep)\n",
        "  sample_det_ingr_undrs = new_sample_undrs.strip()\n",
        "  print(sample_det_ingr_undrs.replace(' ' , '_'))\n",
        "    \n"
      ],
      "execution_count": 50,
      "outputs": [
        {
          "output_type": "stream",
          "name": "stdout",
          "text": [
            "flou\n",
            "ciamo\n",
            "bking_sod\n",
            "sal\n",
            "baking_powde\n",
            "egg\n",
            "suga\n",
            "vegetabe_oi\n",
            "vnill\n",
            "raw_zucchn\n",
            "walnut\n"
          ]
        }
      ]
    },
    {
      "cell_type": "markdown",
      "metadata": {
        "id": "gGKol4gZX5LA"
      },
      "source": [
        "Rewriting the `build_vocab_recipe1m` function before jumping into the code lets write in simple english what they are trying to do: \n",
        "\n",
        "1. First we load the data from our json file \n",
        "2.  Looping through the `layer2` json file and grabbing the corresponding image id that matches the unique id. We will name it as `id2im`\n",
        "3. Then we print out saying how many recipes are there in the dataset. `len(layer1)`\n",
        "4. We assign a dictionary for both the ingredients and instruction that assigns some special character for certain keys. \n",
        "5. Parsing the id and storing it as indices for further indexing!\n",
        "\n",
        "Here comes our first loop where we iterate into the `layer1` json file that has everything from the unique id to the instructions. \n",
        "\n",
        "**Iterating into the `layer1`**\n",
        "- Storing all the instructions into a variable `instrs`, \n",
        "- Creating two empty list saying instruction and ingredients list. \n",
        "- Storing the ingredients by indexing [`idx2ind`] into the `det_ingrs.json` file. \n",
        "  - Also we filter out the validation files from the `det_ingrs.json` and store them in a `valid` variable that contains boolean values. \n",
        "  - **Iterating into the `det_ingrs` that has ingredients**\n",
        "    - We use enumerate to get even the counts and iterate into the ingredients dictionary. \n",
        "    - Putting up a condition saying if the length of the ingredient should be greater than 0 and also `valid` should be True. Then proceed.....\n",
        "    - Applying the `get_ingredient` function on each of our ingredient dictionary with a key ['text'] in it. (Will write about this function later...) [**`get_ingredient()`**]\n",
        "    - Then we append the filtered out ingredients into a list called `det_ingrs_filtered` and `ingrs_list` for future use. \n",
        " - **Iterating into the instructions dictionary**\n",
        "    - Creating a empty variable called `acc_len`. \n",
        "    - Iterating into the `instrs` dictionary with an variable `instr`. \n",
        "    - Assigning the instruction 'text' to the variable `instr`\n",
        "    - Applying a function `get_instruction()` that will do the same what `get_ingredient` does. \n",
        "\n",
        "\n",
        "\n",
        "\n"
      ]
    },
    {
      "cell_type": "code",
      "metadata": {
        "colab": {
          "base_uri": "https://localhost:8080/"
        },
        "id": "J7hBRh7PmNX-",
        "outputId": "15d5126b-22c8-4878-ee98-9307f125d3aa"
      },
      "source": [
        "layer2[0]"
      ],
      "execution_count": 58,
      "outputs": [
        {
          "output_type": "execute_result",
          "data": {
            "text/plain": [
              "{'id': '00003a70b1',\n",
              " 'images': [{'id': '3e233001e2.jpg',\n",
              "   'url': 'http://img.sndimg.com/food/image/upload/w_512,h_512,c_fit,fl_progressive,q_95/v1/img/recipes/47/91/49/picaYYmb9.jpg'},\n",
              "  {'id': '7f749987f9.jpg',\n",
              "   'url': 'http://img.sndimg.com/food/image/upload/w_512,h_512,c_fit,fl_progressive,q_95/v1/img/recipes/47/91/49/picpy37SW.jpg'},\n",
              "  {'id': 'aaf6b2dcd3.jpg',\n",
              "   'url': 'http://img.sndimg.com/food/image/upload/w_512,h_512,c_fit,fl_progressive,q_95/v1/img/recipes/47/91/49/picX9CNE2.jpg'}]}"
            ]
          },
          "metadata": {},
          "execution_count": 58
        }
      ]
    },
    {
      "cell_type": "code",
      "metadata": {
        "id": "kDvHggAtIKx2"
      },
      "source": [
        ""
      ],
      "execution_count": null,
      "outputs": []
    }
  ]
}